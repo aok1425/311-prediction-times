{
 "cells": [
  {
   "cell_type": "markdown",
   "metadata": {},
   "source": [
    "## Objective\n",
    "\n",
    "Now that I know that my submodels perform a bit better than the model on the entire dataset, I can take advantage of the submodels and find the coefficients that are most associated with response variable."
   ]
  },
  {
   "cell_type": "code",
   "execution_count": 1,
   "metadata": {
    "collapsed": false
   },
   "outputs": [],
   "source": [
    "CATEGORY_GROUPS_IN_QUESTION = [['Pick up Dead Animal', 'Animal Generic Request'],\n",
    "['Abandoned Vehicles', 'Abandoned Bicycle'],\n",
    "['Rodent Activity',\t'Bed Bugs', 'Mice Infestation - Residential'],\n",
    "['Sidewalk Repair', 'Sidewalk Repair (Make Safe)'],\n",
    "['Needle Pickup'],\n",
    "['Unsatisfactory Living Conditions', 'Poor Conditions of Property', 'Unsanitary Conditions - Establishment', 'Illegal Occupancy', 'Heat - Excessive  Insufficient'],\n",
    "['Request for Pothole Repair'],\n",
    "['Graffiti Removal']]"
   ]
  },
  {
   "cell_type": "markdown",
   "metadata": {},
   "source": [
    "## Objective\n",
    "\n",
    "Does this have statistically significant coefs, assuming homoskedacity and a linear predictor-response relationship and Normalized residuals and imperfect collinearity?"
   ]
  },
  {
   "cell_type": "code",
   "execution_count": 2,
   "metadata": {
    "collapsed": false
   },
   "outputs": [],
   "source": [
    "%load_ext autoreload\n",
    "%autoreload 2"
   ]
  },
  {
   "cell_type": "code",
   "execution_count": 3,
   "metadata": {
    "collapsed": false
   },
   "outputs": [
    {
     "name": "stderr",
     "output_type": "stream",
     "text": [
      "/home/ubuntu/anaconda2/lib/python2.7/site-packages/sklearn/cross_validation.py:44: DeprecationWarning: This module was deprecated in version 0.18 in favor of the model_selection module into which all the refactored classes and functions are moved. Also note that the interface of the new CV iterators are different from that of this module. This module will be removed in 0.20.\n",
      "  \"This module will be removed in 0.20.\", DeprecationWarning)\n"
     ]
    }
   ],
   "source": [
    "from __future__ import division\n",
    "import pandas as pd\n",
    "import numpy as np\n",
    "import warnings\n",
    "import seaborn as sns\n",
    "import matplotlib.pyplot as plt\n",
    "from pylab import rcParams\n",
    "%matplotlib inline\n",
    "from tqdm import tqdm\n",
    "\n",
    "from utilities import remove_one_feature\n",
    "\n",
    "warnings.filterwarnings(\"ignore\", category=DeprecationWarning)\n",
    "sns.set_style(\"whitegrid\")\n",
    "sns.set_context(\"poster\")\n",
    "rcParams['figure.figsize'] = 20, 5\n",
    "\n",
    "import os, sys\n",
    "sys.path.append(os.path.join(os.path.dirname('.'), \"../preprocessing\"))\n",
    "from helper_functions import dummify_cols_and_baselines, make_alphas, remove_outliers_by_type, adjusted_r2, transform_school, get_vifs"
   ]
  },
  {
   "cell_type": "code",
   "execution_count": 4,
   "metadata": {
    "collapsed": false
   },
   "outputs": [
    {
     "data": {
      "text/plain": [
       "(516406, 40)"
      ]
     },
     "execution_count": 4,
     "metadata": {},
     "output_type": "execute_result"
    }
   ],
   "source": [
    "df_orig = pd.read_pickle('../data/data_from_remove_from_dataset.pkl')\n",
    "df_orig.shape"
   ]
  },
  {
   "cell_type": "code",
   "execution_count": 5,
   "metadata": {
    "collapsed": false
   },
   "outputs": [
    {
     "name": "stderr",
     "output_type": "stream",
     "text": [
      "../preprocessing/helper_functions.py:58: FutureWarning: currently extract(expand=None) means expand=False (return Index/Series/DataFrame) but in a future version of pandas this will be changed to expand=True (return DataFrame)\n",
      "  df.school = df.school.str.extract(r'(\\d\\d?)').astype(int)\n"
     ]
    },
    {
     "data": {
      "text/plain": [
       "(516406, 40)"
      ]
     },
     "execution_count": 5,
     "metadata": {},
     "output_type": "execute_result"
    }
   ],
   "source": [
    "df_orig = transform_school(df_orig)\n",
    "df_orig.shape"
   ]
  },
  {
   "cell_type": "markdown",
   "metadata": {},
   "source": [
    "## Filterering by `TYPE`"
   ]
  },
  {
   "cell_type": "code",
   "execution_count": 6,
   "metadata": {
    "collapsed": false
   },
   "outputs": [
    {
     "name": "stdout",
     "output_type": "stream",
     "text": [
      "['Request for Pothole Repair']\n"
     ]
    },
    {
     "data": {
      "text/plain": [
       "(12985, 40)"
      ]
     },
     "execution_count": 6,
     "metadata": {},
     "output_type": "execute_result"
    }
   ],
   "source": [
    "i = 6\n",
    "print CATEGORY_GROUPS_IN_QUESTION[i]\n",
    "df_orig = df_orig[df_orig.TYPE.isin(CATEGORY_GROUPS_IN_QUESTION[i])]\n",
    "df_orig.shape"
   ]
  },
  {
   "cell_type": "markdown",
   "metadata": {},
   "source": [
    "## Removing outliers\n",
    "\n",
    "A standard procedure is to remove values further than 3 standard deviations from the mean. Since I have so many low values and some very high values, I anecdotally think that the low values are very likely to be true, and the high values not so much.\n",
    "\n",
    "So, I will remove values further than 3 SDs from the median, by type.\n",
    "\n",
    "Ideally, I would take into account the time dimension. I would like to do so given more time."
   ]
  },
  {
   "cell_type": "code",
   "execution_count": 7,
   "metadata": {
    "collapsed": false
   },
   "outputs": [
    {
     "data": {
      "text/plain": [
       "(12795, 40)"
      ]
     },
     "execution_count": 7,
     "metadata": {},
     "output_type": "execute_result"
    }
   ],
   "source": [
    "df_outliers_removed = remove_outliers_by_type(df_orig, y_col='COMPLETION_HOURS_LOG_10')\n",
    "df_outliers_removed.shape"
   ]
  },
  {
   "cell_type": "markdown",
   "metadata": {},
   "source": [
    "## Remove `TYPE` col"
   ]
  },
  {
   "cell_type": "code",
   "execution_count": 8,
   "metadata": {
    "collapsed": true
   },
   "outputs": [],
   "source": [
    "df_outliers_removed.drop('TYPE', axis=1, inplace=True)"
   ]
  },
  {
   "cell_type": "markdown",
   "metadata": {},
   "source": [
    "## Choosing columns"
   ]
  },
  {
   "cell_type": "code",
   "execution_count": null,
   "metadata": {
    "collapsed": true
   },
   "outputs": [],
   "source": [
    "['SubmittedPhoto',\n",
    " 'race_asian',\n",
    " 'race_hispanic',\n",
    " 'race_other',\n",
    " 'poverty_pop_below_poverty_level',\n",
    " 'earned_income_per_capita',\n",
    " 'poverty_pop_w_food_stamps',\n",
    " 'school',\n",
    " 'bedroom',\n",
    " 'rent',\n",
    " 'income_std_dev',\n",
    " 'Source_Constituent Call']"
   ]
  },
  {
   "cell_type": "code",
   "execution_count": 68,
   "metadata": {
    "collapsed": true
   },
   "outputs": [],
   "source": [
    "cols_orig_dataset = ['COMPLETION_HOURS_LOG_10', 'Property_Type', 'Source']\n",
    "cols_census = [\n",
    "     'poverty_pop_w_public_assistance',\n",
    "     'poverty_pop_w_ssi',\n",
    "     'school_std_dev',\n",
    "     'housing',\n",
    "     'bedroom_std_dev',\n",
    "     'value',\n",
    "     'value_std_dev',\n",
    "     'rent_std_dev',\n",
    "     'income',\n",
    "]\n",
    "cols_engineered = ['queue_wk', 'queue_wk_open', 'is_description']"
   ]
  },
  {
   "cell_type": "code",
   "execution_count": 69,
   "metadata": {
    "collapsed": false
   },
   "outputs": [
    {
     "data": {
      "text/plain": [
       "(12795, 15)"
      ]
     },
     "execution_count": 69,
     "metadata": {},
     "output_type": "execute_result"
    }
   ],
   "source": [
    "df = df_outliers_removed[cols_orig_dataset + cols_census + cols_engineered]\n",
    "df.shape"
   ]
  },
  {
   "cell_type": "markdown",
   "metadata": {},
   "source": [
    "## Removing NAs for cols like `school_std_dev`"
   ]
  },
  {
   "cell_type": "code",
   "execution_count": 70,
   "metadata": {
    "collapsed": false
   },
   "outputs": [
    {
     "name": "stdout",
     "output_type": "stream",
     "text": [
      "5      school_std_dev\n",
      "7     bedroom_std_dev\n",
      "9       value_std_dev\n",
      "10       rent_std_dev\n",
      "Name: index, dtype: object\n"
     ]
    }
   ],
   "source": [
    "aa = df.isnull().any().reset_index()\n",
    "nas = aa[aa[0] == True]['index']\n",
    "print nas"
   ]
  },
  {
   "cell_type": "code",
   "execution_count": 71,
   "metadata": {
    "collapsed": false
   },
   "outputs": [
    {
     "data": {
      "text/plain": [
       "(11775, 15)"
      ]
     },
     "execution_count": 71,
     "metadata": {},
     "output_type": "execute_result"
    }
   ],
   "source": [
    "# this is a bad temporary band-aid\n",
    "df = df.dropna(subset=nas.tolist())\n",
    "df.shape"
   ]
  },
  {
   "cell_type": "markdown",
   "metadata": {},
   "source": [
    "## Dummify"
   ]
  },
  {
   "cell_type": "code",
   "execution_count": 72,
   "metadata": {
    "collapsed": false
   },
   "outputs": [
    {
     "data": {
      "text/plain": [
       "['Property_Type', 'Source', 'housing']"
      ]
     },
     "execution_count": 72,
     "metadata": {},
     "output_type": "execute_result"
    }
   ],
   "source": [
    "cols_to_dummify = [i for i in df.dtypes[df.dtypes == object].index if i != 'TYPE']\n",
    "cols_to_dummify"
   ]
  },
  {
   "cell_type": "code",
   "execution_count": 73,
   "metadata": {
    "collapsed": false
   },
   "outputs": [
    {
     "name": "stdout",
     "output_type": "stream",
     "text": [
      "Intersection is baseline 0 3\n",
      "Self Service is baseline 1 3\n",
      "own is baseline 2 3\n"
     ]
    }
   ],
   "source": [
    "df_dummified, baseline_cols = dummify_cols_and_baselines(df, cols_to_dummify, chosen_col_i=2)"
   ]
  },
  {
   "cell_type": "code",
   "execution_count": 58,
   "metadata": {
    "collapsed": false
   },
   "outputs": [
    {
     "data": {
      "text/plain": [
       "(11775, 16)"
      ]
     },
     "execution_count": 58,
     "metadata": {},
     "output_type": "execute_result"
    }
   ],
   "source": [
    "df_dummified.shape"
   ]
  },
  {
   "cell_type": "markdown",
   "metadata": {},
   "source": [
    "## Checking for multicollinearity"
   ]
  },
  {
   "cell_type": "code",
   "execution_count": 96,
   "metadata": {
    "collapsed": true
   },
   "outputs": [
    {
     "data": {
      "text/html": [
       "<div>\n",
       "<table border=\"1\" class=\"dataframe\">\n",
       "  <thead>\n",
       "    <tr style=\"text-align: right;\">\n",
       "      <th></th>\n",
       "      <th>905400</th>\n",
       "    </tr>\n",
       "  </thead>\n",
       "  <tbody>\n",
       "    <tr>\n",
       "      <th>COMPLETION_HOURS_LOG_10</th>\n",
       "      <td>0.0124857</td>\n",
       "    </tr>\n",
       "    <tr>\n",
       "      <th>SubmittedPhoto</th>\n",
       "      <td>False</td>\n",
       "    </tr>\n",
       "    <tr>\n",
       "      <th>poverty_pop_below_poverty_level</th>\n",
       "      <td>0.262473</td>\n",
       "    </tr>\n",
       "    <tr>\n",
       "      <th>bedroom</th>\n",
       "      <td>2</td>\n",
       "    </tr>\n",
       "    <tr>\n",
       "      <th>queue_wk</th>\n",
       "      <td>12873</td>\n",
       "    </tr>\n",
       "    <tr>\n",
       "      <th>queue_wk_open</th>\n",
       "      <td>1</td>\n",
       "    </tr>\n",
       "    <tr>\n",
       "      <th>is_description</th>\n",
       "      <td>True</td>\n",
       "    </tr>\n",
       "  </tbody>\n",
       "</table>\n",
       "</div>"
      ],
      "text/plain": [
       "                                    905400\n",
       "COMPLETION_HOURS_LOG_10          0.0124857\n",
       "SubmittedPhoto                       False\n",
       "poverty_pop_below_poverty_level   0.262473\n",
       "bedroom                                  2\n",
       "queue_wk                             12873\n",
       "queue_wk_open                            1\n",
       "is_description                        True"
      ]
     },
     "execution_count": 96,
     "metadata": {},
     "output_type": "execute_result"
    }
   ],
   "source": [
    "df_dummified.head(1).T"
   ]
  },
  {
   "cell_type": "code",
   "execution_count": 16,
   "metadata": {
    "collapsed": false
   },
   "outputs": [
    {
     "data": {
      "text/plain": [
       "poverty_pop_w_food_stamps          5.169946\n",
       "poverty_pop_below_poverty_level    3.535689\n",
       "earned_income_per_capita           3.147087\n",
       "Source_Citizens Connect App        2.743074\n",
       "income                             2.679695\n",
       "Source_Constituent Call            2.660618\n",
       "race_black                         2.390102\n",
       "poverty_pop_w_ssi                  2.376285\n",
       "school                             2.174995\n",
       "housing_std_dev                    2.001001\n",
       "income_std_dev                     1.966447\n",
       "race_hispanic                      1.867750\n",
       "poverty_pop_w_public_assistance    1.770233\n",
       "school_std_dev                     1.736923\n",
       "rent_std_dev                       1.736251\n",
       "value_std_dev                      1.699919\n",
       "rent                               1.639594\n",
       "race_asian                         1.538817\n",
       "value                              1.437490\n",
       "bedroom                            1.419468\n",
       "bedroom_std_dev                    1.296181\n",
       "race_other                         1.134955\n",
       "queue_wk                           1.127623\n",
       "Property_Type_Address              1.081734\n",
       "queue_wk_open                      1.071441\n",
       "dtype: float64"
      ]
     },
     "execution_count": 16,
     "metadata": {},
     "output_type": "execute_result"
    }
   ],
   "source": [
    "get_vifs(df_dummified.drop(['SubmittedPhoto', 'is_description'], axis=1), 'COMPLETION_HOURS_LOG_10')"
   ]
  },
  {
   "cell_type": "markdown",
   "metadata": {},
   "source": [
    "## Running model"
   ]
  },
  {
   "cell_type": "code",
   "execution_count": 17,
   "metadata": {
    "collapsed": false
   },
   "outputs": [],
   "source": [
    "from sklearn.cross_validation import train_test_split\n",
    "from sklearn.pipeline import make_pipeline\n",
    "from sklearn.model_selection import GridSearchCV\n",
    "from sklearn.linear_model import LinearRegression, LassoCV\n",
    "from sklearn.cross_validation import ShuffleSplit\n",
    "from sklearn.preprocessing import StandardScaler\n",
    "from sklearn.metrics import mean_squared_error, r2_score\n",
    "import string\n",
    "from StringIO import StringIO\n"
   ]
  },
  {
   "cell_type": "code",
   "execution_count": 18,
   "metadata": {
    "collapsed": true
   },
   "outputs": [],
   "source": [
    "import statsmodels.api as sm\n",
    "import statsmodels.formula.api as smf"
   ]
  },
  {
   "cell_type": "code",
   "execution_count": 19,
   "metadata": {
    "collapsed": false
   },
   "outputs": [],
   "source": [
    "X_train, X_test, y_train, y_test = train_test_split(\n",
    "    df_dummified.drop('COMPLETION_HOURS_LOG_10', axis=1), \n",
    "    df_dummified.COMPLETION_HOURS_LOG_10, \n",
    "    test_size=0.2, \n",
    "    random_state=300\n",
    ")"
   ]
  },
  {
   "cell_type": "markdown",
   "metadata": {},
   "source": [
    "## Use LassoCV to find col subsets"
   ]
  },
  {
   "cell_type": "code",
   "execution_count": 20,
   "metadata": {
    "collapsed": true
   },
   "outputs": [],
   "source": [
    "pipe = make_pipeline(StandardScaler(), LassoCV())\n",
    "cv = ShuffleSplit(X_train.shape[0], n_iter=1, test_size=0.2, random_state=300)"
   ]
  },
  {
   "cell_type": "code",
   "execution_count": 23,
   "metadata": {
    "collapsed": false
   },
   "outputs": [
    {
     "data": {
      "text/html": [
       "<div>\n",
       "<table border=\"1\" class=\"dataframe\">\n",
       "  <thead>\n",
       "    <tr style=\"text-align: right;\">\n",
       "      <th></th>\n",
       "      <th>0</th>\n",
       "      <th>1</th>\n",
       "      <th>2</th>\n",
       "      <th>3</th>\n",
       "      <th>4</th>\n",
       "    </tr>\n",
       "  </thead>\n",
       "  <tbody>\n",
       "    <tr>\n",
       "      <th>mean_test_score</th>\n",
       "      <td>0.0646574</td>\n",
       "      <td>0.0522921</td>\n",
       "      <td>0.00685614</td>\n",
       "      <td>-1.94718e-05</td>\n",
       "      <td>-1.94718e-05</td>\n",
       "    </tr>\n",
       "    <tr>\n",
       "      <th>mean_train_score</th>\n",
       "      <td>0.0602605</td>\n",
       "      <td>0.0483346</td>\n",
       "      <td>0.00626461</td>\n",
       "      <td>0</td>\n",
       "      <td>0</td>\n",
       "    </tr>\n",
       "    <tr>\n",
       "      <th>param_lassocv__alphas</th>\n",
       "      <td>[0.01]</td>\n",
       "      <td>[0.03]</td>\n",
       "      <td>[0.1]</td>\n",
       "      <td>[0.3]</td>\n",
       "      <td>[1.0]</td>\n",
       "    </tr>\n",
       "  </tbody>\n",
       "</table>\n",
       "</div>"
      ],
      "text/plain": [
       "                               0          1           2            3  \\\n",
       "mean_test_score        0.0646574  0.0522921  0.00685614 -1.94718e-05   \n",
       "mean_train_score       0.0602605  0.0483346  0.00626461            0   \n",
       "param_lassocv__alphas     [0.01]     [0.03]       [0.1]        [0.3]   \n",
       "\n",
       "                                 4  \n",
       "mean_test_score       -1.94718e-05  \n",
       "mean_train_score                 0  \n",
       "param_lassocv__alphas        [1.0]  "
      ]
     },
     "execution_count": 23,
     "metadata": {},
     "output_type": "execute_result"
    }
   ],
   "source": [
    "params = {'lassocv__alphas': make_alphas(-2, 0)}\n",
    "model = GridSearchCV(pipe, param_grid=params, n_jobs=-1, cv=cv, verbose=0)\n",
    "model.fit(X_train, y_train)\n",
    "pd.DataFrame(model.cv_results_).T.iloc[2:5]"
   ]
  },
  {
   "cell_type": "code",
   "execution_count": 24,
   "metadata": {
    "collapsed": false
   },
   "outputs": [
    {
     "data": {
      "text/plain": [
       "{'lassocv__alphas': [0.01]}"
      ]
     },
     "execution_count": 24,
     "metadata": {},
     "output_type": "execute_result"
    }
   ],
   "source": [
    "model.best_params_"
   ]
  },
  {
   "cell_type": "code",
   "execution_count": 25,
   "metadata": {
    "collapsed": false
   },
   "outputs": [
    {
     "data": {
      "text/plain": [
       "'12 cols go to zero out of 27'"
      ]
     },
     "execution_count": 25,
     "metadata": {},
     "output_type": "execute_result"
    }
   ],
   "source": [
    "'{} cols go to zero out of {}'.format(\n",
    "    len(X_train.columns[model.best_estimator_.steps[-1][-1].coef_ == 0]),\n",
    "    len(X_train.columns)\n",
    ")"
   ]
  },
  {
   "cell_type": "code",
   "execution_count": 26,
   "metadata": {
    "collapsed": false
   },
   "outputs": [
    {
     "data": {
      "text/plain": [
       "['SubmittedPhoto',\n",
       " 'race_asian',\n",
       " 'race_hispanic',\n",
       " 'race_other',\n",
       " 'poverty_pop_below_poverty_level',\n",
       " 'earned_income_per_capita',\n",
       " 'poverty_pop_w_food_stamps',\n",
       " 'school',\n",
       " 'bedroom',\n",
       " 'rent',\n",
       " 'income_std_dev',\n",
       " 'Source_Constituent Call']"
      ]
     },
     "execution_count": 26,
     "metadata": {},
     "output_type": "execute_result"
    }
   ],
   "source": [
    "cols_zero = list(X_train.columns[model.best_estimator_.steps[-1][-1].coef_ == 0])\n",
    "cols_zero"
   ]
  },
  {
   "cell_type": "markdown",
   "metadata": {},
   "source": [
    "## Use subsetted cols to run lin reg"
   ]
  },
  {
   "cell_type": "code",
   "execution_count": 74,
   "metadata": {
    "collapsed": false
   },
   "outputs": [],
   "source": [
    "df_dummified.columns = [col.translate(None, string.punctuation).replace(' ', '') if col != 'COMPLETION_HOURS_LOG_10' else col for col in df_dummified.columns]"
   ]
  },
  {
   "cell_type": "code",
   "execution_count": 75,
   "metadata": {
    "collapsed": false
   },
   "outputs": [],
   "source": [
    "X_train, X_test, y_train, y_test = train_test_split(\n",
    "    df_dummified.drop(['COMPLETION_HOURS_LOG_10'], axis=1), \n",
    "    df_dummified.COMPLETION_HOURS_LOG_10, \n",
    "    test_size=0.2, \n",
    "    random_state=300\n",
    ")"
   ]
  },
  {
   "cell_type": "code",
   "execution_count": 76,
   "metadata": {
    "collapsed": false,
    "scrolled": true
   },
   "outputs": [],
   "source": [
    "col_list = ' + '.join(df_dummified.drop(['COMPLETION_HOURS_LOG_10'], axis=1).columns)\n",
    "\n",
    "est = smf.ols(\n",
    "    'COMPLETION_HOURS_LOG_10 ~ {}'.format(col_list), \n",
    "    pd.concat([X_train, y_train], axis=1)).fit()"
   ]
  },
  {
   "cell_type": "code",
   "execution_count": 37,
   "metadata": {
    "collapsed": true
   },
   "outputs": [
    {
     "data": {
      "text/html": [
       "<table class=\"simpletable\">\n",
       "<caption>OLS Regression Results</caption>\n",
       "<tr>\n",
       "  <th>Dep. Variable:</th>    <td>COMPLETION_HOURS_LOG_10</td> <th>  R-squared:         </th> <td>   0.065</td> \n",
       "</tr>\n",
       "<tr>\n",
       "  <th>Model:</th>                      <td>OLS</td>           <th>  Adj. R-squared:    </th> <td>   0.063</td> \n",
       "</tr>\n",
       "<tr>\n",
       "  <th>Method:</th>                <td>Least Squares</td>      <th>  F-statistic:       </th> <td>   34.56</td> \n",
       "</tr>\n",
       "<tr>\n",
       "  <th>Date:</th>                <td>Thu, 23 Feb 2017</td>     <th>  Prob (F-statistic):</th> <td>1.85e-122</td>\n",
       "</tr>\n",
       "<tr>\n",
       "  <th>Time:</th>                    <td>18:30:54</td>         <th>  Log-Likelihood:    </th> <td> -10442.</td> \n",
       "</tr>\n",
       "<tr>\n",
       "  <th>No. Observations:</th>         <td>  9420</td>          <th>  AIC:               </th> <td>2.092e+04</td>\n",
       "</tr>\n",
       "<tr>\n",
       "  <th>Df Residuals:</th>             <td>  9400</td>          <th>  BIC:               </th> <td>2.107e+04</td>\n",
       "</tr>\n",
       "<tr>\n",
       "  <th>Df Model:</th>                 <td>    19</td>          <th>                     </th>     <td> </td>    \n",
       "</tr>\n",
       "<tr>\n",
       "  <th>Covariance Type:</th>         <td>nonrobust</td>        <th>                     </th>     <td> </td>    \n",
       "</tr>\n",
       "</table>"
      ],
      "text/plain": [
       "<class 'statsmodels.iolib.table.SimpleTable'>"
      ]
     },
     "execution_count": 37,
     "metadata": {},
     "output_type": "execute_result"
    }
   ],
   "source": [
    "est.summary().tables[0]"
   ]
  },
  {
   "cell_type": "markdown",
   "metadata": {},
   "source": [
    "### Getting adjusted $R^2$ on test set"
   ]
  },
  {
   "cell_type": "code",
   "execution_count": 77,
   "metadata": {
    "collapsed": false
   },
   "outputs": [],
   "source": [
    "y_pred = est.predict(X_test)"
   ]
  },
  {
   "cell_type": "code",
   "execution_count": 78,
   "metadata": {
    "collapsed": false
   },
   "outputs": [
    {
     "data": {
      "text/plain": [
       "0.032435684675251319"
      ]
     },
     "execution_count": 78,
     "metadata": {},
     "output_type": "execute_result"
    }
   ],
   "source": [
    "adjusted_r2(y_test, y_pred, num_features=X_test.shape[1])"
   ]
  },
  {
   "cell_type": "code",
   "execution_count": 79,
   "metadata": {
    "collapsed": false
   },
   "outputs": [
    {
     "data": {
      "text/plain": [
       "0.74900721906035217"
      ]
     },
     "execution_count": 79,
     "metadata": {},
     "output_type": "execute_result"
    }
   ],
   "source": [
    "mean_squared_error(y_test, y_pred)**0.5"
   ]
  },
  {
   "cell_type": "markdown",
   "metadata": {},
   "source": [
    "## Interpreting model\n",
    "\n",
    "Which features are most associated with completion time?"
   ]
  },
  {
   "cell_type": "code",
   "execution_count": 82,
   "metadata": {
    "collapsed": false
   },
   "outputs": [
    {
     "data": {
      "text/plain": [
       "(15, 8)"
      ]
     },
     "execution_count": 82,
     "metadata": {},
     "output_type": "execute_result"
    }
   ],
   "source": [
    "df_results = pd.read_csv(StringIO(est.summary().tables[1].as_csv()), index_col=0).reset_index()\n",
    "df_results.columns = ['coef_name'] + [i.rstrip().lstrip() for i in df_results.columns][1:]\n",
    "df_results.coef_name = df_results.coef_name.map(lambda x: x.strip())\n",
    "df_results = df_results.sort_values('P>|t|')\n",
    "df_results['pct_diff_for_y'] = (10**df_results.coef - 1) * 100\n",
    "df_results['pct_diff_for_y_abs'] = pd.np.abs((10**df_results.coef - 1) * 100)\n",
    "df_results.sort_values('pct_diff_for_y_abs', inplace=True, ascending=False)\n",
    "df_results.shape"
   ]
  },
  {
   "cell_type": "code",
   "execution_count": 83,
   "metadata": {
    "collapsed": false
   },
   "outputs": [
    {
     "data": {
      "text/html": [
       "<div>\n",
       "<table border=\"1\" class=\"dataframe\">\n",
       "  <thead>\n",
       "    <tr style=\"text-align: right;\">\n",
       "      <th></th>\n",
       "      <th>coef_name</th>\n",
       "      <th>coef</th>\n",
       "      <th>std err</th>\n",
       "      <th>t</th>\n",
       "      <th>P&gt;|t|</th>\n",
       "      <th>[95.0% Conf. Int.]</th>\n",
       "      <th>pct_diff_for_y</th>\n",
       "      <th>pct_diff_for_y_abs</th>\n",
       "    </tr>\n",
       "  </thead>\n",
       "  <tbody>\n",
       "    <tr>\n",
       "      <th>4</th>\n",
       "      <td>schoolstddev</td>\n",
       "      <td>2.813100e+00</td>\n",
       "      <td>4.810000e-01</td>\n",
       "      <td>5.849</td>\n",
       "      <td>0.000</td>\n",
       "      <td>1.870     3.756</td>\n",
       "      <td>64927.940547</td>\n",
       "      <td>64927.940547</td>\n",
       "    </tr>\n",
       "    <tr>\n",
       "      <th>5</th>\n",
       "      <td>bedroomstddev</td>\n",
       "      <td>1.211800e+00</td>\n",
       "      <td>2.040000e-01</td>\n",
       "      <td>5.940</td>\n",
       "      <td>0.000</td>\n",
       "      <td>0.812     1.612</td>\n",
       "      <td>1528.545887</td>\n",
       "      <td>1528.545887</td>\n",
       "    </tr>\n",
       "    <tr>\n",
       "      <th>0</th>\n",
       "      <td>Intercept</td>\n",
       "      <td>9.605000e-01</td>\n",
       "      <td>7.000000e-02</td>\n",
       "      <td>13.709</td>\n",
       "      <td>0.000</td>\n",
       "      <td>0.823     1.098</td>\n",
       "      <td>813.061435</td>\n",
       "      <td>813.061435</td>\n",
       "    </tr>\n",
       "    <tr>\n",
       "      <th>3</th>\n",
       "      <td>povertypopwssi</td>\n",
       "      <td>2.952000e-01</td>\n",
       "      <td>1.280000e-01</td>\n",
       "      <td>2.307</td>\n",
       "      <td>0.021</td>\n",
       "      <td>0.044     0.546</td>\n",
       "      <td>97.333128</td>\n",
       "      <td>97.333128</td>\n",
       "    </tr>\n",
       "    <tr>\n",
       "      <th>8</th>\n",
       "      <td>rentstddev</td>\n",
       "      <td>-1.280500e+00</td>\n",
       "      <td>2.980000e-01</td>\n",
       "      <td>-4.299</td>\n",
       "      <td>0.000</td>\n",
       "      <td>-1.864    -0.697</td>\n",
       "      <td>-94.757964</td>\n",
       "      <td>94.757964</td>\n",
       "    </tr>\n",
       "    <tr>\n",
       "      <th>7</th>\n",
       "      <td>valuestddev</td>\n",
       "      <td>-9.462000e-01</td>\n",
       "      <td>2.880000e-01</td>\n",
       "      <td>-3.288</td>\n",
       "      <td>0.001</td>\n",
       "      <td>-1.510    -0.382</td>\n",
       "      <td>-88.681210</td>\n",
       "      <td>88.681210</td>\n",
       "    </tr>\n",
       "    <tr>\n",
       "      <th>2</th>\n",
       "      <td>povertypopwpublicassistance</td>\n",
       "      <td>-3.947000e-01</td>\n",
       "      <td>1.900000e-01</td>\n",
       "      <td>-2.079</td>\n",
       "      <td>0.038</td>\n",
       "      <td>-0.767    -0.022</td>\n",
       "      <td>-59.700468</td>\n",
       "      <td>59.700468</td>\n",
       "    </tr>\n",
       "    <tr>\n",
       "      <th>1</th>\n",
       "      <td>isdescription[T.True]</td>\n",
       "      <td>1.987000e-01</td>\n",
       "      <td>2.200000e-02</td>\n",
       "      <td>8.854</td>\n",
       "      <td>0.000</td>\n",
       "      <td>0.155     0.243</td>\n",
       "      <td>58.015613</td>\n",
       "      <td>58.015613</td>\n",
       "    </tr>\n",
       "    <tr>\n",
       "      <th>13</th>\n",
       "      <td>SourceCitizensConnectApp</td>\n",
       "      <td>-1.294000e-01</td>\n",
       "      <td>2.600000e-02</td>\n",
       "      <td>-4.983</td>\n",
       "      <td>0.000</td>\n",
       "      <td>-0.180    -0.078</td>\n",
       "      <td>-25.766489</td>\n",
       "      <td>25.766489</td>\n",
       "    </tr>\n",
       "    <tr>\n",
       "      <th>14</th>\n",
       "      <td>SourceConstituentCall</td>\n",
       "      <td>-1.003000e-01</td>\n",
       "      <td>2.600000e-02</td>\n",
       "      <td>-3.885</td>\n",
       "      <td>0.000</td>\n",
       "      <td>-0.151    -0.050</td>\n",
       "      <td>-20.622028</td>\n",
       "      <td>20.622028</td>\n",
       "    </tr>\n",
       "    <tr>\n",
       "      <th>12</th>\n",
       "      <td>PropertyTypeAddress</td>\n",
       "      <td>-4.870000e-02</td>\n",
       "      <td>1.600000e-02</td>\n",
       "      <td>-2.978</td>\n",
       "      <td>0.003</td>\n",
       "      <td>-0.081    -0.017</td>\n",
       "      <td>-10.607723</td>\n",
       "      <td>10.607723</td>\n",
       "    </tr>\n",
       "    <tr>\n",
       "      <th>11</th>\n",
       "      <td>queuewkopen</td>\n",
       "      <td>4.000000e-04</td>\n",
       "      <td>3.080000e-05</td>\n",
       "      <td>12.033</td>\n",
       "      <td>0.000</td>\n",
       "      <td>0.000     0.000</td>\n",
       "      <td>0.092146</td>\n",
       "      <td>0.092146</td>\n",
       "    </tr>\n",
       "    <tr>\n",
       "      <th>10</th>\n",
       "      <td>queuewk</td>\n",
       "      <td>5.694000e-06</td>\n",
       "      <td>7.380000e-07</td>\n",
       "      <td>7.719</td>\n",
       "      <td>0.000</td>\n",
       "      <td>4.25e-06  7.14e-06</td>\n",
       "      <td>0.001311</td>\n",
       "      <td>0.001311</td>\n",
       "    </tr>\n",
       "    <tr>\n",
       "      <th>9</th>\n",
       "      <td>income</td>\n",
       "      <td>5.755000e-07</td>\n",
       "      <td>9.820000e-08</td>\n",
       "      <td>5.861</td>\n",
       "      <td>0.000</td>\n",
       "      <td>3.83e-07  7.68e-07</td>\n",
       "      <td>0.000133</td>\n",
       "      <td>0.000133</td>\n",
       "    </tr>\n",
       "    <tr>\n",
       "      <th>6</th>\n",
       "      <td>value</td>\n",
       "      <td>4.034000e-08</td>\n",
       "      <td>1.860000e-08</td>\n",
       "      <td>2.170</td>\n",
       "      <td>0.030</td>\n",
       "      <td>3.9e-09  7.68e-08</td>\n",
       "      <td>0.000009</td>\n",
       "      <td>0.000009</td>\n",
       "    </tr>\n",
       "  </tbody>\n",
       "</table>\n",
       "</div>"
      ],
      "text/plain": [
       "                      coef_name          coef       std err       t  P>|t|  \\\n",
       "4                  schoolstddev  2.813100e+00  4.810000e-01   5.849  0.000   \n",
       "5                 bedroomstddev  1.211800e+00  2.040000e-01   5.940  0.000   \n",
       "0                     Intercept  9.605000e-01  7.000000e-02  13.709  0.000   \n",
       "3                povertypopwssi  2.952000e-01  1.280000e-01   2.307  0.021   \n",
       "8                    rentstddev -1.280500e+00  2.980000e-01  -4.299  0.000   \n",
       "7                   valuestddev -9.462000e-01  2.880000e-01  -3.288  0.001   \n",
       "2   povertypopwpublicassistance -3.947000e-01  1.900000e-01  -2.079  0.038   \n",
       "1         isdescription[T.True]  1.987000e-01  2.200000e-02   8.854  0.000   \n",
       "13     SourceCitizensConnectApp -1.294000e-01  2.600000e-02  -4.983  0.000   \n",
       "14        SourceConstituentCall -1.003000e-01  2.600000e-02  -3.885  0.000   \n",
       "12          PropertyTypeAddress -4.870000e-02  1.600000e-02  -2.978  0.003   \n",
       "11                  queuewkopen  4.000000e-04  3.080000e-05  12.033  0.000   \n",
       "10                      queuewk  5.694000e-06  7.380000e-07   7.719  0.000   \n",
       "9                        income  5.755000e-07  9.820000e-08   5.861  0.000   \n",
       "6                         value  4.034000e-08  1.860000e-08   2.170  0.030   \n",
       "\n",
       "     [95.0% Conf. Int.]  pct_diff_for_y  pct_diff_for_y_abs  \n",
       "4       1.870     3.756    64927.940547        64927.940547  \n",
       "5       0.812     1.612     1528.545887         1528.545887  \n",
       "0       0.823     1.098      813.061435          813.061435  \n",
       "3       0.044     0.546       97.333128           97.333128  \n",
       "8      -1.864    -0.697      -94.757964           94.757964  \n",
       "7      -1.510    -0.382      -88.681210           88.681210  \n",
       "2      -0.767    -0.022      -59.700468           59.700468  \n",
       "1       0.155     0.243       58.015613           58.015613  \n",
       "13     -0.180    -0.078      -25.766489           25.766489  \n",
       "14     -0.151    -0.050      -20.622028           20.622028  \n",
       "12     -0.081    -0.017      -10.607723           10.607723  \n",
       "11      0.000     0.000        0.092146            0.092146  \n",
       "10   4.25e-06  7.14e-06        0.001311            0.001311  \n",
       "9    3.83e-07  7.68e-07        0.000133            0.000133  \n",
       "6     3.9e-09  7.68e-08        0.000009            0.000009  "
      ]
     },
     "execution_count": 83,
     "metadata": {},
     "output_type": "execute_result"
    }
   ],
   "source": [
    "df_results"
   ]
  },
  {
   "cell_type": "code",
   "execution_count": 67,
   "metadata": {
    "collapsed": false
   },
   "outputs": [
    {
     "data": {
      "text/plain": [
       "[('valuestddev', 45),\n",
       " ('housingstddev', 45),\n",
       " ('povertypopwpublicassistance', 42.837),\n",
       " ('value', 42.835),\n",
       " ('SourceConstituentCall', 42.719),\n",
       " ('income', 42.68),\n",
       " ('isdescription', 42.662),\n",
       " ('queuewkopen', 40.778999999999996),\n",
       " ('PropertyTypeAddress', 40.735),\n",
       " ('rentstddev', 40.665),\n",
       " ('povertypopwssi', 40.389),\n",
       " ('schoolstddev', 39.966),\n",
       " ('queuewk', 38.689),\n",
       " ('bedroomstddev', 38.669),\n",
       " ('SourceCitizensConnectApp', 37.94)]"
      ]
     },
     "execution_count": 67,
     "metadata": {},
     "output_type": "execute_result"
    }
   ],
   "source": [
    "scores = []\n",
    "\n",
    "for col in X_train.columns:\n",
    "    if col != 'Intercept':\n",
    "        score = remove_one_feature([col], df_dummified)\n",
    "        scores.append((col, score))\n",
    "        \n",
    "sorted(scores, key=lambda x: x[1])[::-1]        "
   ]
  },
  {
   "cell_type": "code",
   "execution_count": 84,
   "metadata": {
    "collapsed": false
   },
   "outputs": [
    {
     "data": {
      "text/html": [
       "<div>\n",
       "<table border=\"1\" class=\"dataframe\">\n",
       "  <thead>\n",
       "    <tr style=\"text-align: right;\">\n",
       "      <th></th>\n",
       "      <th>coef_name</th>\n",
       "      <th>coef</th>\n",
       "      <th>std err</th>\n",
       "      <th>t</th>\n",
       "      <th>P&gt;|t|</th>\n",
       "      <th>[95.0% Conf. Int.]</th>\n",
       "      <th>pct_diff_for_y</th>\n",
       "      <th>pct_diff_for_y_abs</th>\n",
       "    </tr>\n",
       "  </thead>\n",
       "  <tbody>\n",
       "    <tr>\n",
       "      <th>4</th>\n",
       "      <td>schoolstddev</td>\n",
       "      <td>2.813100e+00</td>\n",
       "      <td>4.810000e-01</td>\n",
       "      <td>5.849</td>\n",
       "      <td>0.000</td>\n",
       "      <td>1.870     3.756</td>\n",
       "      <td>64927.940547</td>\n",
       "      <td>64927.940547</td>\n",
       "    </tr>\n",
       "    <tr>\n",
       "      <th>5</th>\n",
       "      <td>bedroomstddev</td>\n",
       "      <td>1.211800e+00</td>\n",
       "      <td>2.040000e-01</td>\n",
       "      <td>5.940</td>\n",
       "      <td>0.000</td>\n",
       "      <td>0.812     1.612</td>\n",
       "      <td>1528.545887</td>\n",
       "      <td>1528.545887</td>\n",
       "    </tr>\n",
       "    <tr>\n",
       "      <th>3</th>\n",
       "      <td>povertypopwssi</td>\n",
       "      <td>2.952000e-01</td>\n",
       "      <td>1.280000e-01</td>\n",
       "      <td>2.307</td>\n",
       "      <td>0.021</td>\n",
       "      <td>0.044     0.546</td>\n",
       "      <td>97.333128</td>\n",
       "      <td>97.333128</td>\n",
       "    </tr>\n",
       "    <tr>\n",
       "      <th>8</th>\n",
       "      <td>rentstddev</td>\n",
       "      <td>-1.280500e+00</td>\n",
       "      <td>2.980000e-01</td>\n",
       "      <td>-4.299</td>\n",
       "      <td>0.000</td>\n",
       "      <td>-1.864    -0.697</td>\n",
       "      <td>-94.757964</td>\n",
       "      <td>94.757964</td>\n",
       "    </tr>\n",
       "    <tr>\n",
       "      <th>7</th>\n",
       "      <td>valuestddev</td>\n",
       "      <td>-9.462000e-01</td>\n",
       "      <td>2.880000e-01</td>\n",
       "      <td>-3.288</td>\n",
       "      <td>0.001</td>\n",
       "      <td>-1.510    -0.382</td>\n",
       "      <td>-88.681210</td>\n",
       "      <td>88.681210</td>\n",
       "    </tr>\n",
       "    <tr>\n",
       "      <th>2</th>\n",
       "      <td>povertypopwpublicassistance</td>\n",
       "      <td>-3.947000e-01</td>\n",
       "      <td>1.900000e-01</td>\n",
       "      <td>-2.079</td>\n",
       "      <td>0.038</td>\n",
       "      <td>-0.767    -0.022</td>\n",
       "      <td>-59.700468</td>\n",
       "      <td>59.700468</td>\n",
       "    </tr>\n",
       "    <tr>\n",
       "      <th>1</th>\n",
       "      <td>isdescription[T.True]</td>\n",
       "      <td>1.987000e-01</td>\n",
       "      <td>2.200000e-02</td>\n",
       "      <td>8.854</td>\n",
       "      <td>0.000</td>\n",
       "      <td>0.155     0.243</td>\n",
       "      <td>58.015613</td>\n",
       "      <td>58.015613</td>\n",
       "    </tr>\n",
       "    <tr>\n",
       "      <th>13</th>\n",
       "      <td>SourceCitizensConnectApp</td>\n",
       "      <td>-1.294000e-01</td>\n",
       "      <td>2.600000e-02</td>\n",
       "      <td>-4.983</td>\n",
       "      <td>0.000</td>\n",
       "      <td>-0.180    -0.078</td>\n",
       "      <td>-25.766489</td>\n",
       "      <td>25.766489</td>\n",
       "    </tr>\n",
       "    <tr>\n",
       "      <th>14</th>\n",
       "      <td>SourceConstituentCall</td>\n",
       "      <td>-1.003000e-01</td>\n",
       "      <td>2.600000e-02</td>\n",
       "      <td>-3.885</td>\n",
       "      <td>0.000</td>\n",
       "      <td>-0.151    -0.050</td>\n",
       "      <td>-20.622028</td>\n",
       "      <td>20.622028</td>\n",
       "    </tr>\n",
       "    <tr>\n",
       "      <th>12</th>\n",
       "      <td>PropertyTypeAddress</td>\n",
       "      <td>-4.870000e-02</td>\n",
       "      <td>1.600000e-02</td>\n",
       "      <td>-2.978</td>\n",
       "      <td>0.003</td>\n",
       "      <td>-0.081    -0.017</td>\n",
       "      <td>-10.607723</td>\n",
       "      <td>10.607723</td>\n",
       "    </tr>\n",
       "    <tr>\n",
       "      <th>11</th>\n",
       "      <td>queuewkopen</td>\n",
       "      <td>4.000000e-04</td>\n",
       "      <td>3.080000e-05</td>\n",
       "      <td>12.033</td>\n",
       "      <td>0.000</td>\n",
       "      <td>0.000     0.000</td>\n",
       "      <td>0.092146</td>\n",
       "      <td>0.092146</td>\n",
       "    </tr>\n",
       "    <tr>\n",
       "      <th>10</th>\n",
       "      <td>queuewk</td>\n",
       "      <td>5.694000e-06</td>\n",
       "      <td>7.380000e-07</td>\n",
       "      <td>7.719</td>\n",
       "      <td>0.000</td>\n",
       "      <td>4.25e-06  7.14e-06</td>\n",
       "      <td>0.001311</td>\n",
       "      <td>0.001311</td>\n",
       "    </tr>\n",
       "    <tr>\n",
       "      <th>9</th>\n",
       "      <td>income</td>\n",
       "      <td>5.755000e-07</td>\n",
       "      <td>9.820000e-08</td>\n",
       "      <td>5.861</td>\n",
       "      <td>0.000</td>\n",
       "      <td>3.83e-07  7.68e-07</td>\n",
       "      <td>0.000133</td>\n",
       "      <td>0.000133</td>\n",
       "    </tr>\n",
       "    <tr>\n",
       "      <th>6</th>\n",
       "      <td>value</td>\n",
       "      <td>4.034000e-08</td>\n",
       "      <td>1.860000e-08</td>\n",
       "      <td>2.170</td>\n",
       "      <td>0.030</td>\n",
       "      <td>3.9e-09  7.68e-08</td>\n",
       "      <td>0.000009</td>\n",
       "      <td>0.000009</td>\n",
       "    </tr>\n",
       "  </tbody>\n",
       "</table>\n",
       "</div>"
      ],
      "text/plain": [
       "                      coef_name          coef       std err       t  P>|t|  \\\n",
       "4                  schoolstddev  2.813100e+00  4.810000e-01   5.849  0.000   \n",
       "5                 bedroomstddev  1.211800e+00  2.040000e-01   5.940  0.000   \n",
       "3                povertypopwssi  2.952000e-01  1.280000e-01   2.307  0.021   \n",
       "8                    rentstddev -1.280500e+00  2.980000e-01  -4.299  0.000   \n",
       "7                   valuestddev -9.462000e-01  2.880000e-01  -3.288  0.001   \n",
       "2   povertypopwpublicassistance -3.947000e-01  1.900000e-01  -2.079  0.038   \n",
       "1         isdescription[T.True]  1.987000e-01  2.200000e-02   8.854  0.000   \n",
       "13     SourceCitizensConnectApp -1.294000e-01  2.600000e-02  -4.983  0.000   \n",
       "14        SourceConstituentCall -1.003000e-01  2.600000e-02  -3.885  0.000   \n",
       "12          PropertyTypeAddress -4.870000e-02  1.600000e-02  -2.978  0.003   \n",
       "11                  queuewkopen  4.000000e-04  3.080000e-05  12.033  0.000   \n",
       "10                      queuewk  5.694000e-06  7.380000e-07   7.719  0.000   \n",
       "9                        income  5.755000e-07  9.820000e-08   5.861  0.000   \n",
       "6                         value  4.034000e-08  1.860000e-08   2.170  0.030   \n",
       "\n",
       "     [95.0% Conf. Int.]  pct_diff_for_y  pct_diff_for_y_abs  \n",
       "4       1.870     3.756    64927.940547        64927.940547  \n",
       "5       0.812     1.612     1528.545887         1528.545887  \n",
       "3       0.044     0.546       97.333128           97.333128  \n",
       "8      -1.864    -0.697      -94.757964           94.757964  \n",
       "7      -1.510    -0.382      -88.681210           88.681210  \n",
       "2      -0.767    -0.022      -59.700468           59.700468  \n",
       "1       0.155     0.243       58.015613           58.015613  \n",
       "13     -0.180    -0.078      -25.766489           25.766489  \n",
       "14     -0.151    -0.050      -20.622028           20.622028  \n",
       "12     -0.081    -0.017      -10.607723           10.607723  \n",
       "11      0.000     0.000        0.092146            0.092146  \n",
       "10   4.25e-06  7.14e-06        0.001311            0.001311  \n",
       "9    3.83e-07  7.68e-07        0.000133            0.000133  \n",
       "6     3.9e-09  7.68e-08        0.000009            0.000009  "
      ]
     },
     "execution_count": 84,
     "metadata": {},
     "output_type": "execute_result"
    }
   ],
   "source": [
    "df_results[df_results['P>|t|'] < 0.1][df_results.coef_name != 'Intercept']"
   ]
  },
  {
   "cell_type": "markdown",
   "metadata": {},
   "source": [
    "## Selected Findings\n",
    "\n",
    "- **Greater diversity in # of yrs of school, # bedrooms** associated with **worse** completion time, but **greater diversity in rent, house value** associated with **better** completion time.\n",
    "- ...\n",
    "\n",
    "This is a weird categ too, for the same reasons as Needle Pickup. Going to skip for now..."
   ]
  }
 ],
 "metadata": {
  "anaconda-cloud": {},
  "kernelspec": {
   "display_name": "Python [default]",
   "language": "python",
   "name": "python2"
  },
  "language_info": {
   "codemirror_mode": {
    "name": "ipython",
    "version": 2
   },
   "file_extension": ".py",
   "mimetype": "text/x-python",
   "name": "python",
   "nbconvert_exporter": "python",
   "pygments_lexer": "ipython2",
   "version": "2.7.12"
  }
 },
 "nbformat": 4,
 "nbformat_minor": 2
}
