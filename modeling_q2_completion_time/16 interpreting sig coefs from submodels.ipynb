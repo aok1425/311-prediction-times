{
 "cells": [
  {
   "cell_type": "code",
   "execution_count": 2,
   "metadata": {
    "collapsed": true
   },
   "outputs": [],
   "source": [
    "import pickle"
   ]
  },
  {
   "cell_type": "code",
   "execution_count": 9,
   "metadata": {
    "collapsed": false
   },
   "outputs": [],
   "source": [
    "with open('../data/q2_submodel_results.pkl') as infile:\n",
    "    results = pickle.load(infile)"
   ]
  },
  {
   "cell_type": "code",
   "execution_count": 6,
   "metadata": {
    "collapsed": true
   },
   "outputs": [],
   "source": [
    "with open('../data/q2_submodel_y_preds.pkl') as infile:\n",
    "    y_preds = pickle.load(infile)"
   ]
  },
  {
   "cell_type": "code",
   "execution_count": 7,
   "metadata": {
    "collapsed": true
   },
   "outputs": [],
   "source": [
    "with open('../data/q2_submodel_y_tests.pkl') as infile:\n",
    "    y_tests = pickle.load(infile)"
   ]
  },
  {
   "cell_type": "code",
   "execution_count": 12,
   "metadata": {
    "collapsed": false
   },
   "outputs": [
    {
     "data": {
      "text/plain": [
       "{'best_estimator': LinearRegression(copy_X=True, fit_intercept=True, n_jobs=1, normalize=False),\n",
       " 'best_params': {},\n",
       " 'best_score': 0.17094545837951813,\n",
       " 'result':                              0\n",
       " mean_fit_time         0.113809\n",
       " mean_score_time     0.00805807\n",
       " mean_test_score       0.170945\n",
       " mean_train_score      0.202891\n",
       " params                      {}\n",
       " rank_test_score              1\n",
       " split0_test_score     0.170945\n",
       " split0_train_score    0.202891\n",
       " std_fit_time                 0\n",
       " std_score_time               0\n",
       " std_test_score               0\n",
       " std_train_score              0,\n",
       " 'rmse': 0.78215492084115734}"
      ]
     },
     "execution_count": 12,
     "metadata": {},
     "output_type": "execute_result"
    }
   ],
   "source": [
    "results.itervalues().next()"
   ]
  },
  {
   "cell_type": "code",
   "execution_count": 14,
   "metadata": {
    "collapsed": false
   },
   "outputs": [],
   "source": [
    "r = {}\n",
    "\n",
    "for categ, result in results.iteritems():\n",
    "    r[categ] = {\n",
    "        'CV_test': result['best_score'],\n",
    "        'rmse': result['rmse'],\n",
    "        'CV_train': result['result'].loc['mean_train_score'].max()\n",
    "    }"
   ]
  },
  {
   "cell_type": "code",
   "execution_count": 52,
   "metadata": {
    "collapsed": false
   },
   "outputs": [
    {
     "data": {
      "text/html": [
       "<div>\n",
       "<table border=\"1\" class=\"dataframe\">\n",
       "  <thead>\n",
       "    <tr style=\"text-align: right;\">\n",
       "      <th></th>\n",
       "      <th>CV_test</th>\n",
       "      <th>CV_train</th>\n",
       "      <th>rmse</th>\n",
       "    </tr>\n",
       "  </thead>\n",
       "  <tbody>\n",
       "    <tr>\n",
       "      <th>Abandoned Bicycle</th>\n",
       "      <td>5.915372e-02</td>\n",
       "      <td>0.149311</td>\n",
       "      <td>0.595545</td>\n",
       "    </tr>\n",
       "    <tr>\n",
       "      <th>Abandoned Vehicles</th>\n",
       "      <td>5.945412e-02</td>\n",
       "      <td>0.082168</td>\n",
       "      <td>0.346471</td>\n",
       "    </tr>\n",
       "    <tr>\n",
       "      <th>Animal Generic Request</th>\n",
       "      <td>4.533257e-02</td>\n",
       "      <td>0.171777</td>\n",
       "      <td>0.721914</td>\n",
       "    </tr>\n",
       "    <tr>\n",
       "      <th>Bed Bugs</th>\n",
       "      <td>-1.460536e+22</td>\n",
       "      <td>0.081804</td>\n",
       "      <td>0.830620</td>\n",
       "    </tr>\n",
       "    <tr>\n",
       "      <th>Building Inspection Request</th>\n",
       "      <td>1.438496e-01</td>\n",
       "      <td>0.158578</td>\n",
       "      <td>0.639544</td>\n",
       "    </tr>\n",
       "  </tbody>\n",
       "</table>\n",
       "</div>"
      ],
      "text/plain": [
       "                                  CV_test  CV_train      rmse\n",
       "Abandoned Bicycle            5.915372e-02  0.149311  0.595545\n",
       "Abandoned Vehicles           5.945412e-02  0.082168  0.346471\n",
       "Animal Generic Request       4.533257e-02  0.171777  0.721914\n",
       "Bed Bugs                    -1.460536e+22  0.081804  0.830620\n",
       "Building Inspection Request  1.438496e-01  0.158578  0.639544"
      ]
     },
     "execution_count": 52,
     "metadata": {},
     "output_type": "execute_result"
    }
   ],
   "source": [
    "df = pd.DataFrame(r).T\n",
    "df.head()"
   ]
  },
  {
   "cell_type": "code",
   "execution_count": 53,
   "metadata": {
    "collapsed": false
   },
   "outputs": [
    {
     "data": {
      "text/html": [
       "<div>\n",
       "<table border=\"1\" class=\"dataframe\">\n",
       "  <thead>\n",
       "    <tr style=\"text-align: right;\">\n",
       "      <th></th>\n",
       "      <th>CV_test</th>\n",
       "      <th>CV_train</th>\n",
       "      <th>rmse</th>\n",
       "    </tr>\n",
       "  </thead>\n",
       "  <tbody>\n",
       "    <tr>\n",
       "      <th>Schedule a Bulk Item Pickup SS</th>\n",
       "      <td>0.083546</td>\n",
       "      <td>0.084689</td>\n",
       "      <td>0.294722</td>\n",
       "    </tr>\n",
       "    <tr>\n",
       "      <th>Schedule a Bulk Item Pickup</th>\n",
       "      <td>0.100050</td>\n",
       "      <td>0.102385</td>\n",
       "      <td>0.327968</td>\n",
       "    </tr>\n",
       "    <tr>\n",
       "      <th>Notification</th>\n",
       "      <td>0.313788</td>\n",
       "      <td>0.393493</td>\n",
       "      <td>0.329748</td>\n",
       "    </tr>\n",
       "    <tr>\n",
       "      <th>OCR Front Desk Interactions</th>\n",
       "      <td>0.059783</td>\n",
       "      <td>0.064095</td>\n",
       "      <td>0.335492</td>\n",
       "    </tr>\n",
       "    <tr>\n",
       "      <th>Unsanitary Conditions - Establishment</th>\n",
       "      <td>-0.028027</td>\n",
       "      <td>0.077545</td>\n",
       "      <td>0.344100</td>\n",
       "    </tr>\n",
       "  </tbody>\n",
       "</table>\n",
       "</div>"
      ],
      "text/plain": [
       "                                        CV_test  CV_train      rmse\n",
       "Schedule a Bulk Item Pickup SS         0.083546  0.084689  0.294722\n",
       "Schedule a Bulk Item Pickup            0.100050  0.102385  0.327968\n",
       "Notification                           0.313788  0.393493  0.329748\n",
       "OCR Front Desk Interactions            0.059783  0.064095  0.335492\n",
       "Unsanitary Conditions - Establishment -0.028027  0.077545  0.344100"
      ]
     },
     "execution_count": 53,
     "metadata": {},
     "output_type": "execute_result"
    }
   ],
   "source": [
    "df.sort_values('rmse').head()"
   ]
  },
  {
   "cell_type": "code",
   "execution_count": 23,
   "metadata": {
    "collapsed": false
   },
   "outputs": [
    {
     "data": {
      "text/html": [
       "<div>\n",
       "<table border=\"1\" class=\"dataframe\">\n",
       "  <thead>\n",
       "    <tr style=\"text-align: right;\">\n",
       "      <th></th>\n",
       "      <th>CV_test</th>\n",
       "      <th>CV_train</th>\n",
       "      <th>rmse</th>\n",
       "    </tr>\n",
       "  </thead>\n",
       "  <tbody>\n",
       "    <tr>\n",
       "      <th>Recycling Cart Return</th>\n",
       "      <td>0.445682</td>\n",
       "      <td>0.456628</td>\n",
       "      <td>1.084334</td>\n",
       "    </tr>\n",
       "    <tr>\n",
       "      <th>Request for Snow Plowing</th>\n",
       "      <td>0.371975</td>\n",
       "      <td>0.373201</td>\n",
       "      <td>0.563758</td>\n",
       "    </tr>\n",
       "    <tr>\n",
       "      <th>Notification</th>\n",
       "      <td>0.313788</td>\n",
       "      <td>0.393493</td>\n",
       "      <td>0.329748</td>\n",
       "    </tr>\n",
       "    <tr>\n",
       "      <th>Electrical</th>\n",
       "      <td>0.233042</td>\n",
       "      <td>0.358054</td>\n",
       "      <td>0.619165</td>\n",
       "    </tr>\n",
       "    <tr>\n",
       "      <th>Needle Pickup</th>\n",
       "      <td>0.207811</td>\n",
       "      <td>0.324483</td>\n",
       "      <td>0.907098</td>\n",
       "    </tr>\n",
       "  </tbody>\n",
       "</table>\n",
       "</div>"
      ],
      "text/plain": [
       "                           CV_test  CV_train      rmse\n",
       "Recycling Cart Return     0.445682  0.456628  1.084334\n",
       "Request for Snow Plowing  0.371975  0.373201  0.563758\n",
       "Notification              0.313788  0.393493  0.329748\n",
       "Electrical                0.233042  0.358054  0.619165\n",
       "Needle Pickup             0.207811  0.324483  0.907098"
      ]
     },
     "execution_count": 23,
     "metadata": {},
     "output_type": "execute_result"
    }
   ],
   "source": [
    "df.sort_values('CV_test', ascending=False).head()"
   ]
  },
  {
   "cell_type": "markdown",
   "metadata": {},
   "source": [
    "## Looking at coefs for Recycling Cart Return\n",
    "\n",
    "Does this have statistically significant coefs, assuming homoskedacity and a linear predictor-response relationship?"
   ]
  },
  {
   "cell_type": "markdown",
   "metadata": {},
   "source": [
    "## >>>"
   ]
  },
  {
   "cell_type": "code",
   "execution_count": 25,
   "metadata": {
    "collapsed": true
   },
   "outputs": [],
   "source": [
    "%load_ext autoreload\n",
    "%autoreload 2"
   ]
  },
  {
   "cell_type": "code",
   "execution_count": 1,
   "metadata": {
    "collapsed": false
   },
   "outputs": [],
   "source": [
    "from __future__ import division\n",
    "import pandas as pd\n",
    "import numpy as np\n",
    "import warnings\n",
    "import seaborn as sns\n",
    "import matplotlib.pyplot as plt\n",
    "from pylab import rcParams\n",
    "%matplotlib inline\n",
    "from tqdm import tqdm\n",
    "\n",
    "warnings.filterwarnings(\"ignore\", category=DeprecationWarning)\n",
    "sns.set_style(\"whitegrid\")\n",
    "sns.set_context(\"poster\")\n",
    "rcParams['figure.figsize'] = 20, 5\n",
    "\n",
    "import os, sys\n",
    "sys.path.append(os.path.join(os.path.dirname('.'), \"../preprocessing\"))\n",
    "from helper_functions import dummify_cols_and_baselines, make_alphas, remove_outliers_by_type, adjusted_r2, transform_school"
   ]
  },
  {
   "cell_type": "code",
   "execution_count": 2,
   "metadata": {
    "collapsed": false
   },
   "outputs": [
    {
     "data": {
      "text/plain": [
       "(516406, 40)"
      ]
     },
     "execution_count": 2,
     "metadata": {},
     "output_type": "execute_result"
    }
   ],
   "source": [
    "df_orig = pd.read_pickle('../data/data_from_remove_from_dataset.pkl')\n",
    "df_orig.shape"
   ]
  },
  {
   "cell_type": "code",
   "execution_count": 3,
   "metadata": {
    "collapsed": false
   },
   "outputs": [
    {
     "name": "stderr",
     "output_type": "stream",
     "text": [
      "../preprocessing/helper_functions.py:58: FutureWarning: currently extract(expand=None) means expand=False (return Index/Series/DataFrame) but in a future version of pandas this will be changed to expand=True (return DataFrame)\n",
      "  df.school = df.school.str.extract(r'(\\d\\d?)').astype(int)\n"
     ]
    },
    {
     "data": {
      "text/plain": [
       "(516406, 40)"
      ]
     },
     "execution_count": 3,
     "metadata": {},
     "output_type": "execute_result"
    }
   ],
   "source": [
    "df_orig = transform_school(df_orig)\n",
    "df_orig.shape"
   ]
  },
  {
   "cell_type": "markdown",
   "metadata": {},
   "source": [
    "## Removing outliers\n",
    "\n",
    "A standard procedure is to remove values further than 3 standard deviations from the mean. Since I have so many low values and some very high values, I anecdotally think that the low values are very likely to be true, and the high values not so much.\n",
    "\n",
    "So, I will remove values further than 3 SDs from the median, by type.\n",
    "\n",
    "Ideally, I would take into account the time dimension. I would like to do so given more time."
   ]
  },
  {
   "cell_type": "code",
   "execution_count": 4,
   "metadata": {
    "collapsed": false
   },
   "outputs": [
    {
     "name": "stderr",
     "output_type": "stream",
     "text": [
      "../preprocessing/helper_functions.py:37: SettingWithCopyWarning: \n",
      "A value is trying to be set on a copy of a slice from a DataFrame.\n",
      "Try using .loc[row_indexer,col_indexer] = value instead\n",
      "\n",
      "See the caveats in the documentation: http://pandas.pydata.org/pandas-docs/stable/indexing.html#indexing-view-versus-copy\n",
      "  group[pd.np.abs(group - group.median()) > stds * group.std()] = pd.np.nan\n",
      "/home/ubuntu/anaconda2/lib/python2.7/site-packages/pandas/core/frame.py:2392: SettingWithCopyWarning: \n",
      "A value is trying to be set on a copy of a slice from a DataFrame\n",
      "\n",
      "See the caveats in the documentation: http://pandas.pydata.org/pandas-docs/stable/indexing.html#indexing-view-versus-copy\n",
      "  self.where(-key, value, inplace=True)\n"
     ]
    },
    {
     "data": {
      "text/plain": [
       "(508653, 40)"
      ]
     },
     "execution_count": 4,
     "metadata": {},
     "output_type": "execute_result"
    }
   ],
   "source": [
    "df_outliers_removed = remove_outliers_by_type(df_orig, y_col='COMPLETION_HOURS_LOG_10')\n",
    "df_outliers_removed.shape"
   ]
  },
  {
   "cell_type": "markdown",
   "metadata": {},
   "source": [
    "I'm removing ~1.5% of my rows."
   ]
  },
  {
   "cell_type": "markdown",
   "metadata": {},
   "source": [
    "## Choosing columns"
   ]
  },
  {
   "cell_type": "code",
   "execution_count": 5,
   "metadata": {
    "collapsed": true
   },
   "outputs": [],
   "source": [
    "cols_orig_dataset = ['COMPLETION_HOURS_LOG_10', 'TYPE', 'SubmittedPhoto', 'Property_Type', 'Source']\n",
    "cols_census = [\n",
    "     'race_black',\n",
    "     'race_asian',\n",
    "     'race_hispanic',\n",
    "     'race_other',\n",
    "     'poverty_pop_below_poverty_level',\n",
    "     'earned_income_per_capita',\n",
    "     'poverty_pop_w_public_assistance',\n",
    "     'poverty_pop_w_food_stamps',\n",
    "     'poverty_pop_w_ssi',\n",
    "     'school',\n",
    "     'school_std_dev',\n",
    "     'housing',\n",
    "     'housing_std_dev',\n",
    "     'bedroom',\n",
    "     'bedroom_std_dev',\n",
    "     'value',\n",
    "     'value_std_dev',\n",
    "     'rent',\n",
    "     'rent_std_dev',\n",
    "     'income',\n",
    "     'income_std_dev']\n",
    "cols_engineered = ['queue_wk', 'queue_wk_open', 'is_description']"
   ]
  },
  {
   "cell_type": "code",
   "execution_count": 6,
   "metadata": {
    "collapsed": false
   },
   "outputs": [
    {
     "data": {
      "text/plain": [
       "(508653, 29)"
      ]
     },
     "execution_count": 6,
     "metadata": {},
     "output_type": "execute_result"
    }
   ],
   "source": [
    "df = df_outliers_removed[cols_orig_dataset + cols_census + cols_engineered]\n",
    "df.shape"
   ]
  },
  {
   "cell_type": "markdown",
   "metadata": {},
   "source": [
    "## Subsetting by Recycling Cart Return"
   ]
  },
  {
   "cell_type": "code",
   "execution_count": 7,
   "metadata": {
    "collapsed": false
   },
   "outputs": [
    {
     "data": {
      "text/plain": [
       "(1986, 29)"
      ]
     },
     "execution_count": 7,
     "metadata": {},
     "output_type": "execute_result"
    }
   ],
   "source": [
    "df = df[df.TYPE == 'Recycling Cart Return']\n",
    "df.shape"
   ]
  },
  {
   "cell_type": "markdown",
   "metadata": {},
   "source": [
    "## Removing NAs for cols like `school_std_dev`"
   ]
  },
  {
   "cell_type": "code",
   "execution_count": 26,
   "metadata": {
    "collapsed": false
   },
   "outputs": [
    {
     "name": "stdout",
     "output_type": "stream",
     "text": [
      "17    housing_std_dev\n",
      "19    bedroom_std_dev\n",
      "21      value_std_dev\n",
      "23       rent_std_dev\n",
      "25     income_std_dev\n",
      "Name: index, dtype: object\n"
     ]
    }
   ],
   "source": [
    "aa = df.isnull().any().reset_index()\n",
    "nas = aa[aa[0] == True]['index']\n",
    "print nas"
   ]
  },
  {
   "cell_type": "code",
   "execution_count": 28,
   "metadata": {
    "collapsed": false
   },
   "outputs": [
    {
     "data": {
      "text/plain": [
       "(1975, 29)"
      ]
     },
     "execution_count": 28,
     "metadata": {},
     "output_type": "execute_result"
    }
   ],
   "source": [
    "# this is a bad temporary band-aid\n",
    "df = df.dropna(subset=nas.tolist())\n",
    "df.shape"
   ]
  },
  {
   "cell_type": "markdown",
   "metadata": {},
   "source": [
    "## Dummify"
   ]
  },
  {
   "cell_type": "code",
   "execution_count": 29,
   "metadata": {
    "collapsed": false
   },
   "outputs": [
    {
     "data": {
      "text/plain": [
       "['Property_Type', 'Source', 'housing']"
      ]
     },
     "execution_count": 29,
     "metadata": {},
     "output_type": "execute_result"
    }
   ],
   "source": [
    "cols_to_dummify = [i for i in df.dtypes[df.dtypes == object].index if i != 'TYPE']\n",
    "cols_to_dummify"
   ]
  },
  {
   "cell_type": "code",
   "execution_count": 30,
   "metadata": {
    "collapsed": false
   },
   "outputs": [
    {
     "name": "stdout",
     "output_type": "stream",
     "text": [
      "Intersection is baseline 0 3\n",
      "Constituent Call is baseline 1 3\n",
      "rent is baseline 2 3\n"
     ]
    }
   ],
   "source": [
    "df_dummified, baseline_cols = dummify_cols_and_baselines(df, cols_to_dummify)"
   ]
  },
  {
   "cell_type": "code",
   "execution_count": 31,
   "metadata": {
    "collapsed": false
   },
   "outputs": [
    {
     "data": {
      "text/plain": [
       "(1975, 28)"
      ]
     },
     "execution_count": 31,
     "metadata": {},
     "output_type": "execute_result"
    }
   ],
   "source": [
    "df_dummified.shape"
   ]
  },
  {
   "cell_type": "markdown",
   "metadata": {},
   "source": [
    "## Running model"
   ]
  },
  {
   "cell_type": "code",
   "execution_count": 32,
   "metadata": {
    "collapsed": false
   },
   "outputs": [],
   "source": [
    "from sklearn.cross_validation import train_test_split\n",
    "from sklearn.pipeline import make_pipeline\n",
    "from sklearn.model_selection import GridSearchCV\n",
    "from sklearn.linear_model import LinearRegression, LassoCV\n",
    "from sklearn.cross_validation import ShuffleSplit\n",
    "from sklearn.preprocessing import StandardScaler\n",
    "from sklearn.metrics import mean_squared_error, r2_score\n",
    "import string\n",
    "from StringIO import StringIO\n"
   ]
  },
  {
   "cell_type": "code",
   "execution_count": 33,
   "metadata": {
    "collapsed": true
   },
   "outputs": [],
   "source": [
    "import statsmodels.api as sm\n",
    "import statsmodels.formula.api as smf"
   ]
  },
  {
   "cell_type": "code",
   "execution_count": 34,
   "metadata": {
    "collapsed": false
   },
   "outputs": [],
   "source": [
    "df_dummified.columns = [col.translate(None, string.punctuation).replace(' ', '') if col != 'COMPLETION_HOURS_LOG_10' else col for col in df_dummified.columns]"
   ]
  },
  {
   "cell_type": "code",
   "execution_count": 35,
   "metadata": {
    "collapsed": false
   },
   "outputs": [],
   "source": [
    "X_train, X_test, y_train, y_test = train_test_split(\n",
    "    df_dummified.drop('COMPLETION_HOURS_LOG_10', axis=1), \n",
    "    df_dummified.COMPLETION_HOURS_LOG_10, \n",
    "    test_size=0.2, \n",
    "    random_state=300\n",
    ")"
   ]
  },
  {
   "cell_type": "code",
   "execution_count": 36,
   "metadata": {
    "collapsed": false,
    "scrolled": true
   },
   "outputs": [],
   "source": [
    "col_list = ' + '.join(df_dummified.drop('COMPLETION_HOURS_LOG_10', axis=1))\n",
    "\n",
    "est = smf.ols(\n",
    "    'COMPLETION_HOURS_LOG_10 ~ {}'.format(col_list), \n",
    "    pd.concat([X_train, y_train], axis=1)).fit()"
   ]
  },
  {
   "cell_type": "code",
   "execution_count": 37,
   "metadata": {
    "collapsed": false
   },
   "outputs": [
    {
     "data": {
      "text/html": [
       "<table class=\"simpletable\">\n",
       "<caption>OLS Regression Results</caption>\n",
       "<tr>\n",
       "  <th>Dep. Variable:</th>    <td>COMPLETION_HOURS_LOG_10</td> <th>  R-squared:         </th> <td>   0.439</td> \n",
       "</tr>\n",
       "<tr>\n",
       "  <th>Model:</th>                      <td>OLS</td>           <th>  Adj. R-squared:    </th> <td>   0.430</td> \n",
       "</tr>\n",
       "<tr>\n",
       "  <th>Method:</th>                <td>Least Squares</td>      <th>  F-statistic:       </th> <td>   50.71</td> \n",
       "</tr>\n",
       "<tr>\n",
       "  <th>Date:</th>                <td>Thu, 23 Feb 2017</td>     <th>  Prob (F-statistic):</th> <td>1.31e-175</td>\n",
       "</tr>\n",
       "<tr>\n",
       "  <th>Time:</th>                    <td>01:44:24</td>         <th>  Log-Likelihood:    </th> <td> -2472.4</td> \n",
       "</tr>\n",
       "<tr>\n",
       "  <th>No. Observations:</th>         <td>  1580</td>          <th>  AIC:               </th> <td>   4995.</td> \n",
       "</tr>\n",
       "<tr>\n",
       "  <th>Df Residuals:</th>             <td>  1555</td>          <th>  BIC:               </th> <td>   5129.</td> \n",
       "</tr>\n",
       "<tr>\n",
       "  <th>Df Model:</th>                 <td>    24</td>          <th>                     </th>     <td> </td>    \n",
       "</tr>\n",
       "<tr>\n",
       "  <th>Covariance Type:</th>         <td>nonrobust</td>        <th>                     </th>     <td> </td>    \n",
       "</tr>\n",
       "</table>"
      ],
      "text/plain": [
       "<class 'statsmodels.iolib.table.SimpleTable'>"
      ]
     },
     "execution_count": 37,
     "metadata": {},
     "output_type": "execute_result"
    }
   ],
   "source": [
    "est.summary().tables[0]"
   ]
  },
  {
   "cell_type": "markdown",
   "metadata": {},
   "source": [
    "### Getting adjusted $R^2$ on test set"
   ]
  },
  {
   "cell_type": "code",
   "execution_count": 38,
   "metadata": {
    "collapsed": false
   },
   "outputs": [],
   "source": [
    "y_pred = est.predict(X_test)"
   ]
  },
  {
   "cell_type": "code",
   "execution_count": 39,
   "metadata": {
    "collapsed": false
   },
   "outputs": [
    {
     "data": {
      "text/plain": [
       "0.41378860596518657"
      ]
     },
     "execution_count": 39,
     "metadata": {},
     "output_type": "execute_result"
    }
   ],
   "source": [
    "adjusted_r2(y_test, y_pred, num_features=X_test.shape[1])"
   ]
  },
  {
   "cell_type": "code",
   "execution_count": 40,
   "metadata": {
    "collapsed": false
   },
   "outputs": [
    {
     "data": {
      "text/plain": [
       "1.1280432616216518"
      ]
     },
     "execution_count": 40,
     "metadata": {},
     "output_type": "execute_result"
    }
   ],
   "source": [
    "mean_squared_error(y_test, y_pred)**0.5"
   ]
  },
  {
   "cell_type": "markdown",
   "metadata": {},
   "source": [
    "## Interpreting model\n",
    "\n",
    "Which features are most associated with completion time?"
   ]
  },
  {
   "cell_type": "code",
   "execution_count": 44,
   "metadata": {
    "collapsed": false
   },
   "outputs": [],
   "source": [
    "df_results = pd.read_csv(StringIO(est.summary().tables[1].as_csv()), index_col=0).reset_index()\n",
    "df_results.columns = ['coef_name'] + [i.rstrip().lstrip() for i in df_results.columns][1:]\n",
    "df_results['coef_abs'] = pd.np.abs(df_results.coef)\n",
    "df_results = df_results.sort_values('P>|t|')"
   ]
  },
  {
   "cell_type": "code",
   "execution_count": 45,
   "metadata": {
    "collapsed": false
   },
   "outputs": [
    {
     "data": {
      "text/plain": [
       "(27, 7)"
      ]
     },
     "execution_count": 45,
     "metadata": {},
     "output_type": "execute_result"
    }
   ],
   "source": [
    "df_results.shape"
   ]
  },
  {
   "cell_type": "code",
   "execution_count": 47,
   "metadata": {
    "collapsed": false
   },
   "outputs": [
    {
     "data": {
      "text/html": [
       "<div>\n",
       "<table border=\"1\" class=\"dataframe\">\n",
       "  <thead>\n",
       "    <tr style=\"text-align: right;\">\n",
       "      <th></th>\n",
       "      <th>coef_name</th>\n",
       "      <th>coef</th>\n",
       "      <th>std err</th>\n",
       "      <th>t</th>\n",
       "      <th>P&gt;|t|</th>\n",
       "      <th>[95.0% Conf. Int.]</th>\n",
       "      <th>coef_abs</th>\n",
       "    </tr>\n",
       "  </thead>\n",
       "  <tbody>\n",
       "    <tr>\n",
       "      <th>24</th>\n",
       "      <td>queuewkopen</td>\n",
       "      <td>-7.100000e-03</td>\n",
       "      <td>0.000000e+00</td>\n",
       "      <td>-18.621</td>\n",
       "      <td>0.000</td>\n",
       "      <td>-0.008    -0.006</td>\n",
       "      <td>7.100000e-03</td>\n",
       "    </tr>\n",
       "    <tr>\n",
       "      <th>23</th>\n",
       "      <td>queuewk</td>\n",
       "      <td>4.000000e-04</td>\n",
       "      <td>1.970000e-05</td>\n",
       "      <td>20.975</td>\n",
       "      <td>0.000</td>\n",
       "      <td>0.000     0.000</td>\n",
       "      <td>4.000000e-04</td>\n",
       "    </tr>\n",
       "    <tr>\n",
       "      <th>14</th>\n",
       "      <td>housingstddev</td>\n",
       "      <td>8.109000e-01</td>\n",
       "      <td>2.320000e-01</td>\n",
       "      <td>3.491</td>\n",
       "      <td>0.000</td>\n",
       "      <td>0.355     1.267</td>\n",
       "      <td>8.109000e-01</td>\n",
       "    </tr>\n",
       "    <tr>\n",
       "      <th>12</th>\n",
       "      <td>school</td>\n",
       "      <td>8.290000e-02</td>\n",
       "      <td>1.600000e-02</td>\n",
       "      <td>5.141</td>\n",
       "      <td>0.000</td>\n",
       "      <td>0.051     0.115</td>\n",
       "      <td>8.290000e-02</td>\n",
       "    </tr>\n",
       "    <tr>\n",
       "      <th>11</th>\n",
       "      <td>povertypopwssi</td>\n",
       "      <td>2.172800e+00</td>\n",
       "      <td>5.220000e-01</td>\n",
       "      <td>4.162</td>\n",
       "      <td>0.000</td>\n",
       "      <td>1.149     3.197</td>\n",
       "      <td>2.172800e+00</td>\n",
       "    </tr>\n",
       "    <tr>\n",
       "      <th>4</th>\n",
       "      <td>raceasian</td>\n",
       "      <td>-1.103200e+00</td>\n",
       "      <td>3.560000e-01</td>\n",
       "      <td>-3.099</td>\n",
       "      <td>0.002</td>\n",
       "      <td>-1.801    -0.405</td>\n",
       "      <td>1.103200e+00</td>\n",
       "    </tr>\n",
       "    <tr>\n",
       "      <th>26</th>\n",
       "      <td>housingown</td>\n",
       "      <td>-1.625000e-01</td>\n",
       "      <td>7.800000e-02</td>\n",
       "      <td>-2.076</td>\n",
       "      <td>0.038</td>\n",
       "      <td>-0.316    -0.009</td>\n",
       "      <td>1.625000e-01</td>\n",
       "    </tr>\n",
       "    <tr>\n",
       "      <th>18</th>\n",
       "      <td>valuestddev</td>\n",
       "      <td>-3.078300e+00</td>\n",
       "      <td>1.587000e+00</td>\n",
       "      <td>-1.940</td>\n",
       "      <td>0.053</td>\n",
       "      <td>-6.191     0.034</td>\n",
       "      <td>3.078300e+00</td>\n",
       "    </tr>\n",
       "    <tr>\n",
       "      <th>15</th>\n",
       "      <td>bedroom</td>\n",
       "      <td>6.930000e-02</td>\n",
       "      <td>4.700000e-02</td>\n",
       "      <td>1.472</td>\n",
       "      <td>0.141</td>\n",
       "      <td>-0.023     0.162</td>\n",
       "      <td>6.930000e-02</td>\n",
       "    </tr>\n",
       "    <tr>\n",
       "      <th>10</th>\n",
       "      <td>povertypopwfoodstamps</td>\n",
       "      <td>-5.672000e-01</td>\n",
       "      <td>3.950000e-01</td>\n",
       "      <td>-1.435</td>\n",
       "      <td>0.151</td>\n",
       "      <td>-1.342     0.208</td>\n",
       "      <td>5.672000e-01</td>\n",
       "    </tr>\n",
       "    <tr>\n",
       "      <th>8</th>\n",
       "      <td>earnedincomepercapita</td>\n",
       "      <td>3.994000e-06</td>\n",
       "      <td>3.280000e-06</td>\n",
       "      <td>1.218</td>\n",
       "      <td>0.224</td>\n",
       "      <td>-2.44e-06  1.04e-05</td>\n",
       "      <td>3.994000e-06</td>\n",
       "    </tr>\n",
       "    <tr>\n",
       "      <th>0</th>\n",
       "      <td>Intercept</td>\n",
       "      <td>-7.179000e-01</td>\n",
       "      <td>6.330000e-01</td>\n",
       "      <td>-1.134</td>\n",
       "      <td>0.257</td>\n",
       "      <td>-1.960     0.524</td>\n",
       "      <td>7.179000e-01</td>\n",
       "    </tr>\n",
       "    <tr>\n",
       "      <th>20</th>\n",
       "      <td>rentstddev</td>\n",
       "      <td>1.544500e+00</td>\n",
       "      <td>1.518000e+00</td>\n",
       "      <td>1.018</td>\n",
       "      <td>0.309</td>\n",
       "      <td>-1.432     4.521</td>\n",
       "      <td>1.544500e+00</td>\n",
       "    </tr>\n",
       "    <tr>\n",
       "      <th>6</th>\n",
       "      <td>raceother</td>\n",
       "      <td>-4.736000e-01</td>\n",
       "      <td>5.330000e-01</td>\n",
       "      <td>-0.888</td>\n",
       "      <td>0.374</td>\n",
       "      <td>-1.519     0.572</td>\n",
       "      <td>4.736000e-01</td>\n",
       "    </tr>\n",
       "    <tr>\n",
       "      <th>21</th>\n",
       "      <td>income</td>\n",
       "      <td>-5.414000e-07</td>\n",
       "      <td>6.500000e-07</td>\n",
       "      <td>-0.832</td>\n",
       "      <td>0.405</td>\n",
       "      <td>-1.82e-06  7.35e-07</td>\n",
       "      <td>5.414000e-07</td>\n",
       "    </tr>\n",
       "    <tr>\n",
       "      <th>7</th>\n",
       "      <td>povertypopbelowpovertylevel</td>\n",
       "      <td>3.371000e-01</td>\n",
       "      <td>4.440000e-01</td>\n",
       "      <td>0.759</td>\n",
       "      <td>0.448</td>\n",
       "      <td>-0.534     1.208</td>\n",
       "      <td>3.371000e-01</td>\n",
       "    </tr>\n",
       "    <tr>\n",
       "      <th>19</th>\n",
       "      <td>rent</td>\n",
       "      <td>3.865000e-05</td>\n",
       "      <td>6.700000e-05</td>\n",
       "      <td>0.577</td>\n",
       "      <td>0.564</td>\n",
       "      <td>-9.27e-05     0.000</td>\n",
       "      <td>3.865000e-05</td>\n",
       "    </tr>\n",
       "    <tr>\n",
       "      <th>22</th>\n",
       "      <td>incomestddev</td>\n",
       "      <td>1.140500e+00</td>\n",
       "      <td>2.350000e+00</td>\n",
       "      <td>0.485</td>\n",
       "      <td>0.627</td>\n",
       "      <td>-3.469     5.750</td>\n",
       "      <td>1.140500e+00</td>\n",
       "    </tr>\n",
       "    <tr>\n",
       "      <th>5</th>\n",
       "      <td>racehispanic</td>\n",
       "      <td>-1.014000e-01</td>\n",
       "      <td>2.620000e-01</td>\n",
       "      <td>-0.387</td>\n",
       "      <td>0.699</td>\n",
       "      <td>-0.615     0.412</td>\n",
       "      <td>1.014000e-01</td>\n",
       "    </tr>\n",
       "    <tr>\n",
       "      <th>25</th>\n",
       "      <td>PropertyTypeAddress</td>\n",
       "      <td>-1.189000e-01</td>\n",
       "      <td>3.730000e-01</td>\n",
       "      <td>-0.319</td>\n",
       "      <td>0.750</td>\n",
       "      <td>-0.851     0.613</td>\n",
       "      <td>1.189000e-01</td>\n",
       "    </tr>\n",
       "    <tr>\n",
       "      <th>3</th>\n",
       "      <td>raceblack</td>\n",
       "      <td>-5.000000e-02</td>\n",
       "      <td>1.780000e-01</td>\n",
       "      <td>-0.280</td>\n",
       "      <td>0.779</td>\n",
       "      <td>-0.399     0.300</td>\n",
       "      <td>5.000000e-02</td>\n",
       "    </tr>\n",
       "    <tr>\n",
       "      <th>2</th>\n",
       "      <td>isdescription[T.True]</td>\n",
       "      <td>-3.703000e-11</td>\n",
       "      <td>1.620000e-10</td>\n",
       "      <td>-0.229</td>\n",
       "      <td>0.819</td>\n",
       "      <td>-3.54e-10   2.8e-10</td>\n",
       "      <td>3.703000e-11</td>\n",
       "    </tr>\n",
       "    <tr>\n",
       "      <th>17</th>\n",
       "      <td>value</td>\n",
       "      <td>3.048000e-08</td>\n",
       "      <td>1.780000e-07</td>\n",
       "      <td>0.171</td>\n",
       "      <td>0.864</td>\n",
       "      <td>-3.19e-07   3.8e-07</td>\n",
       "      <td>3.048000e-08</td>\n",
       "    </tr>\n",
       "    <tr>\n",
       "      <th>9</th>\n",
       "      <td>povertypopwpublicassistance</td>\n",
       "      <td>1.175000e-01</td>\n",
       "      <td>6.920000e-01</td>\n",
       "      <td>0.170</td>\n",
       "      <td>0.865</td>\n",
       "      <td>-1.239     1.474</td>\n",
       "      <td>1.175000e-01</td>\n",
       "    </tr>\n",
       "    <tr>\n",
       "      <th>13</th>\n",
       "      <td>schoolstddev</td>\n",
       "      <td>-4.113000e-01</td>\n",
       "      <td>2.521000e+00</td>\n",
       "      <td>-0.163</td>\n",
       "      <td>0.870</td>\n",
       "      <td>-5.357     4.534</td>\n",
       "      <td>4.113000e-01</td>\n",
       "    </tr>\n",
       "    <tr>\n",
       "      <th>16</th>\n",
       "      <td>bedroomstddev</td>\n",
       "      <td>1.146000e-01</td>\n",
       "      <td>9.460000e-01</td>\n",
       "      <td>0.121</td>\n",
       "      <td>0.904</td>\n",
       "      <td>-1.740     1.970</td>\n",
       "      <td>1.146000e-01</td>\n",
       "    </tr>\n",
       "    <tr>\n",
       "      <th>1</th>\n",
       "      <td>SubmittedPhoto[T.True]</td>\n",
       "      <td>1.912000e-11</td>\n",
       "      <td>6.810000e-10</td>\n",
       "      <td>0.028</td>\n",
       "      <td>0.978</td>\n",
       "      <td>-1.32e-09  1.35e-09</td>\n",
       "      <td>1.912000e-11</td>\n",
       "    </tr>\n",
       "  </tbody>\n",
       "</table>\n",
       "</div>"
      ],
      "text/plain": [
       "                      coef_name          coef       std err       t  P>|t|  \\\n",
       "24  queuewkopen                 -7.100000e-03  0.000000e+00 -18.621  0.000   \n",
       "23  queuewk                      4.000000e-04  1.970000e-05  20.975  0.000   \n",
       "14  housingstddev                8.109000e-01  2.320000e-01   3.491  0.000   \n",
       "12  school                       8.290000e-02  1.600000e-02   5.141  0.000   \n",
       "11  povertypopwssi               2.172800e+00  5.220000e-01   4.162  0.000   \n",
       "4   raceasian                   -1.103200e+00  3.560000e-01  -3.099  0.002   \n",
       "26  housingown                  -1.625000e-01  7.800000e-02  -2.076  0.038   \n",
       "18  valuestddev                 -3.078300e+00  1.587000e+00  -1.940  0.053   \n",
       "15  bedroom                      6.930000e-02  4.700000e-02   1.472  0.141   \n",
       "10  povertypopwfoodstamps       -5.672000e-01  3.950000e-01  -1.435  0.151   \n",
       "8   earnedincomepercapita        3.994000e-06  3.280000e-06   1.218  0.224   \n",
       "0   Intercept                   -7.179000e-01  6.330000e-01  -1.134  0.257   \n",
       "20  rentstddev                   1.544500e+00  1.518000e+00   1.018  0.309   \n",
       "6   raceother                   -4.736000e-01  5.330000e-01  -0.888  0.374   \n",
       "21  income                      -5.414000e-07  6.500000e-07  -0.832  0.405   \n",
       "7   povertypopbelowpovertylevel  3.371000e-01  4.440000e-01   0.759  0.448   \n",
       "19  rent                         3.865000e-05  6.700000e-05   0.577  0.564   \n",
       "22  incomestddev                 1.140500e+00  2.350000e+00   0.485  0.627   \n",
       "5   racehispanic                -1.014000e-01  2.620000e-01  -0.387  0.699   \n",
       "25  PropertyTypeAddress         -1.189000e-01  3.730000e-01  -0.319  0.750   \n",
       "3   raceblack                   -5.000000e-02  1.780000e-01  -0.280  0.779   \n",
       "2   isdescription[T.True]       -3.703000e-11  1.620000e-10  -0.229  0.819   \n",
       "17  value                        3.048000e-08  1.780000e-07   0.171  0.864   \n",
       "9   povertypopwpublicassistance  1.175000e-01  6.920000e-01   0.170  0.865   \n",
       "13  schoolstddev                -4.113000e-01  2.521000e+00  -0.163  0.870   \n",
       "16  bedroomstddev                1.146000e-01  9.460000e-01   0.121  0.904   \n",
       "1   SubmittedPhoto[T.True]       1.912000e-11  6.810000e-10   0.028  0.978   \n",
       "\n",
       "     [95.0% Conf. Int.]      coef_abs  \n",
       "24     -0.008    -0.006  7.100000e-03  \n",
       "23      0.000     0.000  4.000000e-04  \n",
       "14      0.355     1.267  8.109000e-01  \n",
       "12      0.051     0.115  8.290000e-02  \n",
       "11      1.149     3.197  2.172800e+00  \n",
       "4      -1.801    -0.405  1.103200e+00  \n",
       "26     -0.316    -0.009  1.625000e-01  \n",
       "18     -6.191     0.034  3.078300e+00  \n",
       "15     -0.023     0.162  6.930000e-02  \n",
       "10     -1.342     0.208  5.672000e-01  \n",
       "8   -2.44e-06  1.04e-05  3.994000e-06  \n",
       "0      -1.960     0.524  7.179000e-01  \n",
       "20     -1.432     4.521  1.544500e+00  \n",
       "6      -1.519     0.572  4.736000e-01  \n",
       "21  -1.82e-06  7.35e-07  5.414000e-07  \n",
       "7      -0.534     1.208  3.371000e-01  \n",
       "19  -9.27e-05     0.000  3.865000e-05  \n",
       "22     -3.469     5.750  1.140500e+00  \n",
       "5      -0.615     0.412  1.014000e-01  \n",
       "25     -0.851     0.613  1.189000e-01  \n",
       "3      -0.399     0.300  5.000000e-02  \n",
       "2   -3.54e-10   2.8e-10  3.703000e-11  \n",
       "17  -3.19e-07   3.8e-07  3.048000e-08  \n",
       "9      -1.239     1.474  1.175000e-01  \n",
       "13     -5.357     4.534  4.113000e-01  \n",
       "16     -1.740     1.970  1.146000e-01  \n",
       "1   -1.32e-09  1.35e-09  1.912000e-11  "
      ]
     },
     "execution_count": 47,
     "metadata": {},
     "output_type": "execute_result"
    }
   ],
   "source": [
    "df_results.head(30)"
   ]
  },
  {
   "cell_type": "markdown",
   "metadata": {
    "collapsed": false
   },
   "source": [
    "## Conclusion\n",
    "\n",
    "Making sub-models improves the R2 and RMSE _for these chosen categories_, which are the ones above the 70th percentile in terms of number of issues, minus a couple ones stated above that messed up the R2.\n",
    "\n",
    "This R2 and RMSE are 0.59 and 0.69. The ones for the main model are 0.55 and 0.73.\n",
    "\n",
    "There are prolly more stat sig coefs here as well.\n",
    "\n",
    "## Next Steps\n",
    "\n",
    "If I had more time,\n",
    "- check how the R2 was messed up on those couple of categs. Prolly bc R2 for that model was low, and my preds were way off. what to do about those categs then? either the mean, or the pred from the big model would work.\n",
    "- group the categs below 70th percentile to give them enough sample size, then run model on them. trial-and-error + domain knowledge as to which categs would work and which wouldn't."
   ]
  }
 ],
 "metadata": {
  "anaconda-cloud": {},
  "kernelspec": {
   "display_name": "Python [default]",
   "language": "python",
   "name": "python2"
  },
  "language_info": {
   "codemirror_mode": {
    "name": "ipython",
    "version": 2
   },
   "file_extension": ".py",
   "mimetype": "text/x-python",
   "name": "python",
   "nbconvert_exporter": "python",
   "pygments_lexer": "ipython2",
   "version": "2.7.12"
  }
 },
 "nbformat": 4,
 "nbformat_minor": 2
}
