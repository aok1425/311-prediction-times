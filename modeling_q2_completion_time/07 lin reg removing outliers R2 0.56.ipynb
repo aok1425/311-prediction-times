{
 "cells": [
  {
   "cell_type": "markdown",
   "metadata": {},
   "source": [
    "## Objective\n",
    "\n",
    "Remove outliers for `y`, see if $R^2$ improves from 0.50."
   ]
  },
  {
   "cell_type": "code",
   "execution_count": 93,
   "metadata": {
    "collapsed": false
   },
   "outputs": [],
   "source": [
    "from __future__ import division\n",
    "import pandas as pd\n",
    "import numpy as np\n",
    "import warnings\n",
    "import seaborn as sns\n",
    "import matplotlib.pyplot as plt\n",
    "from pylab import rcParams\n",
    "%matplotlib inline\n",
    "\n",
    "rcParams['figure.figsize'] = 20, 5\n",
    "warnings.filterwarnings(\"ignore\", category=DeprecationWarning)\n",
    "sns.set_style(\"whitegrid\")\n",
    "sns.set_context(\"poster\")\n",
    "\n",
    "from helper_functions import dummify_cols_and_baselines, make_alphas"
   ]
  },
  {
   "cell_type": "code",
   "execution_count": 56,
   "metadata": {
    "collapsed": false
   },
   "outputs": [
    {
     "data": {
      "text/plain": [
       "(516406, 40)"
      ]
     },
     "execution_count": 56,
     "metadata": {},
     "output_type": "execute_result"
    }
   ],
   "source": [
    "df_orig = pd.read_pickle('../data/data_from_remove_from_dataset.pkl')\n",
    "df_orig.shape"
   ]
  },
  {
   "cell_type": "markdown",
   "metadata": {},
   "source": [
    "## Removing outliers\n",
    "\n",
    "A standard procedure is to remove values further than 3 standard deviations from the mean. Since I have so many low values and some very high values, I anecdotally think that the low values are very likely to be true, and the high values not so much.\n",
    "\n",
    "So, I will remove values further than 3 SDs from the median, by type.\n",
    "\n",
    "Ideally, I would take into account the time dimension. I would like to do so given more time."
   ]
  },
  {
   "cell_type": "code",
   "execution_count": 75,
   "metadata": {
    "collapsed": false
   },
   "outputs": [],
   "source": [
    "def replace(group, stds):\n",
    "    # http://stackoverflow.com/questions/29740216/remove-outliers-3-std-and-replace-with-np-nan-in-python-pandas\n",
    "    group[pd.np.abs(group - group.median()) > stds * group.std()] = pd.np.nan\n",
    "    return group\n",
    "\n",
    "def remove_outliers_by_type(df, y_col, std_devs=3):\n",
    "    group_column = 'TYPE'\n",
    "    df = df.copy()\n",
    "    df.loc[:, y_col] = df[[y_col, 'TYPE']].groupby(group_column).transform(lambda g: replace(g, std_devs))\n",
    "    return df.dropna(subset=[y_col])"
   ]
  },
  {
   "cell_type": "code",
   "execution_count": 73,
   "metadata": {
    "collapsed": false
   },
   "outputs": [
    {
     "name": "stderr",
     "output_type": "stream",
     "text": [
      "/home/ec2-user/anaconda2/lib/python2.7/site-packages/ipykernel/__main__.py:3: SettingWithCopyWarning: \n",
      "A value is trying to be set on a copy of a slice from a DataFrame.\n",
      "Try using .loc[row_indexer,col_indexer] = value instead\n",
      "\n",
      "See the caveats in the documentation: http://pandas.pydata.org/pandas-docs/stable/indexing.html#indexing-view-versus-copy\n",
      "  app.launch_new_instance()\n"
     ]
    },
    {
     "data": {
      "text/plain": [
       "(508653, 40)"
      ]
     },
     "execution_count": 73,
     "metadata": {},
     "output_type": "execute_result"
    }
   ],
   "source": [
    "df_outliers_removed = remove_outliers_by_type(df_orig, y_col='COMPLETION_HOURS_LOG_10')\n",
    "df_outliers_removed.shape"
   ]
  },
  {
   "cell_type": "markdown",
   "metadata": {},
   "source": [
    "I'm removing ~1.5% of my rows."
   ]
  },
  {
   "cell_type": "markdown",
   "metadata": {},
   "source": [
    "## Removing same columns as last time"
   ]
  },
  {
   "cell_type": "code",
   "execution_count": 77,
   "metadata": {
    "collapsed": true
   },
   "outputs": [],
   "source": [
    "cols_orig_dataset = ['COMPLETION_HOURS_LOG_10', 'TYPE', 'SubmittedPhoto', 'Property_Type', 'Source', 'neighborhood_from_zip']\n",
    "cols_census = ['race_white',\n",
    "     'race_black',\n",
    "     'race_asian',\n",
    "     'race_hispanic',\n",
    "     'race_other',\n",
    "     'poverty_pop_below_poverty_level',\n",
    "     'earned_income_per_capita',\n",
    "     'poverty_pop_w_public_assistance',\n",
    "     'poverty_pop_w_food_stamps',\n",
    "     'poverty_pop_w_ssi',\n",
    "     'school',\n",
    "     'school_std_dev',\n",
    "     'housing',\n",
    "     'housing_std_dev',\n",
    "     'bedroom',\n",
    "     'bedroom_std_dev',\n",
    "     'value',\n",
    "     'value_std_dev',\n",
    "     'rent',\n",
    "     'rent_std_dev',\n",
    "     'income',\n",
    "     'income_std_dev']\n",
    "cols_engineered = ['queue_wk', 'queue_wk_open', 'is_description']"
   ]
  },
  {
   "cell_type": "code",
   "execution_count": 78,
   "metadata": {
    "collapsed": false
   },
   "outputs": [],
   "source": [
    "df = df_outliers_removed[cols_orig_dataset + cols_census + cols_engineered]"
   ]
  },
  {
   "cell_type": "markdown",
   "metadata": {},
   "source": [
    "## Dummify"
   ]
  },
  {
   "cell_type": "code",
   "execution_count": 79,
   "metadata": {
    "collapsed": false
   },
   "outputs": [
    {
     "data": {
      "text/plain": [
       "Index([u'TYPE', u'Property_Type', u'Source', u'neighborhood_from_zip',\n",
       "       u'school', u'housing'],\n",
       "      dtype='object')"
      ]
     },
     "execution_count": 79,
     "metadata": {},
     "output_type": "execute_result"
    }
   ],
   "source": [
    "cols_to_dummify = df.dtypes[df.dtypes == object].index\n",
    "cols_to_dummify"
   ]
  },
  {
   "cell_type": "code",
   "execution_count": 80,
   "metadata": {
    "collapsed": false
   },
   "outputs": [
    {
     "name": "stdout",
     "output_type": "stream",
     "text": [
      "Zoning is baseline 0 6\n",
      "other is baseline 1 6\n",
      "Twitter is baseline 2 6\n",
      "West Roxbury is baseline 3 6\n",
      "8_6th_grade is baseline 4 6\n",
      "rent is baseline 5 6\n"
     ]
    }
   ],
   "source": [
    "df_dummified, baseline_cols = dummify_cols_and_baselines(df, cols_to_dummify)"
   ]
  },
  {
   "cell_type": "code",
   "execution_count": 81,
   "metadata": {
    "collapsed": false
   },
   "outputs": [
    {
     "data": {
      "text/plain": [
       "(508653, 253)"
      ]
     },
     "execution_count": 81,
     "metadata": {},
     "output_type": "execute_result"
    }
   ],
   "source": [
    "df_dummified.shape"
   ]
  },
  {
   "cell_type": "markdown",
   "metadata": {},
   "source": [
    "## Running model"
   ]
  },
  {
   "cell_type": "code",
   "execution_count": 95,
   "metadata": {
    "collapsed": false
   },
   "outputs": [],
   "source": [
    "from sklearn.cross_validation import train_test_split\n",
    "from sklearn.pipeline import make_pipeline\n",
    "from sklearn.model_selection import GridSearchCV\n",
    "from sklearn.linear_model import LinearRegression, LassoCV\n",
    "from sklearn.cross_validation import ShuffleSplit\n",
    "from sklearn.preprocessing import StandardScaler\n",
    "from sklearn.metrics import mean_squared_error, r2_score\n"
   ]
  },
  {
   "cell_type": "code",
   "execution_count": 83,
   "metadata": {
    "collapsed": false
   },
   "outputs": [],
   "source": [
    "X_train, X_test, y_train, y_test = train_test_split(\n",
    "    df_dummified.drop('COMPLETION_HOURS_LOG_10', axis=1), \n",
    "    df_dummified.COMPLETION_HOURS_LOG_10, \n",
    "    test_size=0.2, \n",
    "    random_state=300\n",
    ")"
   ]
  },
  {
   "cell_type": "code",
   "execution_count": 84,
   "metadata": {
    "collapsed": true
   },
   "outputs": [],
   "source": [
    "pipe = make_pipeline(StandardScaler(), LinearRegression())"
   ]
  },
  {
   "cell_type": "code",
   "execution_count": 85,
   "metadata": {
    "collapsed": false
   },
   "outputs": [],
   "source": [
    "cv = ShuffleSplit(X_train.shape[0], n_iter=10, test_size=0.2, random_state=300)"
   ]
  },
  {
   "cell_type": "code",
   "execution_count": 86,
   "metadata": {
    "collapsed": false
   },
   "outputs": [
    {
     "name": "stdout",
     "output_type": "stream",
     "text": [
      "Fitting 10 folds for each of 1 candidates, totalling 10 fits\n"
     ]
    },
    {
     "name": "stderr",
     "output_type": "stream",
     "text": [
      "[Parallel(n_jobs=-1)]: Done   4 out of  10 | elapsed:   27.9s remaining:   41.9s\n",
      "[Parallel(n_jobs=-1)]: Done  10 out of  10 | elapsed:   39.6s finished\n"
     ]
    }
   ],
   "source": [
    "params = {'lassocv__alphas': make_alphas(-3, -6)}\n",
    "params = {}\n",
    "model = GridSearchCV(pipe, param_grid=params, n_jobs=-1, cv=cv, verbose=True)\n",
    "model.fit(X_train, y_train);"
   ]
  },
  {
   "cell_type": "code",
   "execution_count": 87,
   "metadata": {
    "collapsed": false
   },
   "outputs": [
    {
     "data": {
      "text/html": [
       "<div>\n",
       "<table border=\"1\" class=\"dataframe\">\n",
       "  <thead>\n",
       "    <tr style=\"text-align: right;\">\n",
       "      <th></th>\n",
       "      <th>0</th>\n",
       "    </tr>\n",
       "  </thead>\n",
       "  <tbody>\n",
       "    <tr>\n",
       "      <th>mean_fit_time</th>\n",
       "      <td>14.7322</td>\n",
       "    </tr>\n",
       "    <tr>\n",
       "      <th>mean_score_time</th>\n",
       "      <td>1.37415</td>\n",
       "    </tr>\n",
       "    <tr>\n",
       "      <th>mean_test_score</th>\n",
       "      <td>-2.04099e+18</td>\n",
       "    </tr>\n",
       "    <tr>\n",
       "      <th>mean_train_score</th>\n",
       "      <td>0.558793</td>\n",
       "    </tr>\n",
       "    <tr>\n",
       "      <th>params</th>\n",
       "      <td>{}</td>\n",
       "    </tr>\n",
       "    <tr>\n",
       "      <th>rank_test_score</th>\n",
       "      <td>1</td>\n",
       "    </tr>\n",
       "    <tr>\n",
       "      <th>split0_test_score</th>\n",
       "      <td>0.556459</td>\n",
       "    </tr>\n",
       "    <tr>\n",
       "      <th>split0_train_score</th>\n",
       "      <td>0.55938</td>\n",
       "    </tr>\n",
       "    <tr>\n",
       "      <th>split1_test_score</th>\n",
       "      <td>0.559988</td>\n",
       "    </tr>\n",
       "    <tr>\n",
       "      <th>split1_train_score</th>\n",
       "      <td>0.558477</td>\n",
       "    </tr>\n",
       "    <tr>\n",
       "      <th>split2_test_score</th>\n",
       "      <td>0.560434</td>\n",
       "    </tr>\n",
       "    <tr>\n",
       "      <th>split2_train_score</th>\n",
       "      <td>0.55837</td>\n",
       "    </tr>\n",
       "    <tr>\n",
       "      <th>split3_test_score</th>\n",
       "      <td>0.563968</td>\n",
       "    </tr>\n",
       "    <tr>\n",
       "      <th>split3_train_score</th>\n",
       "      <td>0.55749</td>\n",
       "    </tr>\n",
       "    <tr>\n",
       "      <th>split4_test_score</th>\n",
       "      <td>0.562701</td>\n",
       "    </tr>\n",
       "    <tr>\n",
       "      <th>split4_train_score</th>\n",
       "      <td>0.557783</td>\n",
       "    </tr>\n",
       "    <tr>\n",
       "      <th>split5_test_score</th>\n",
       "      <td>0.556376</td>\n",
       "    </tr>\n",
       "    <tr>\n",
       "      <th>split5_train_score</th>\n",
       "      <td>0.559384</td>\n",
       "    </tr>\n",
       "    <tr>\n",
       "      <th>split6_test_score</th>\n",
       "      <td>-1.7262e+19</td>\n",
       "    </tr>\n",
       "    <tr>\n",
       "      <th>split6_train_score</th>\n",
       "      <td>0.558726</td>\n",
       "    </tr>\n",
       "    <tr>\n",
       "      <th>split7_test_score</th>\n",
       "      <td>-3.30468e+16</td>\n",
       "    </tr>\n",
       "    <tr>\n",
       "      <th>split7_train_score</th>\n",
       "      <td>0.559454</td>\n",
       "    </tr>\n",
       "    <tr>\n",
       "      <th>split8_test_score</th>\n",
       "      <td>-2.71714e+18</td>\n",
       "    </tr>\n",
       "    <tr>\n",
       "      <th>split8_train_score</th>\n",
       "      <td>0.559806</td>\n",
       "    </tr>\n",
       "    <tr>\n",
       "      <th>split9_test_score</th>\n",
       "      <td>-3.97718e+17</td>\n",
       "    </tr>\n",
       "    <tr>\n",
       "      <th>split9_train_score</th>\n",
       "      <td>0.559059</td>\n",
       "    </tr>\n",
       "    <tr>\n",
       "      <th>std_fit_time</th>\n",
       "      <td>0.839031</td>\n",
       "    </tr>\n",
       "    <tr>\n",
       "      <th>std_score_time</th>\n",
       "      <td>0.133769</td>\n",
       "    </tr>\n",
       "    <tr>\n",
       "      <th>std_test_score</th>\n",
       "      <td>5.13674e+18</td>\n",
       "    </tr>\n",
       "    <tr>\n",
       "      <th>std_train_score</th>\n",
       "      <td>0.000723177</td>\n",
       "    </tr>\n",
       "  </tbody>\n",
       "</table>\n",
       "</div>"
      ],
      "text/plain": [
       "                              0\n",
       "mean_fit_time           14.7322\n",
       "mean_score_time         1.37415\n",
       "mean_test_score    -2.04099e+18\n",
       "mean_train_score       0.558793\n",
       "params                       {}\n",
       "rank_test_score               1\n",
       "split0_test_score      0.556459\n",
       "split0_train_score      0.55938\n",
       "split1_test_score      0.559988\n",
       "split1_train_score     0.558477\n",
       "split2_test_score      0.560434\n",
       "split2_train_score      0.55837\n",
       "split3_test_score      0.563968\n",
       "split3_train_score      0.55749\n",
       "split4_test_score      0.562701\n",
       "split4_train_score     0.557783\n",
       "split5_test_score      0.556376\n",
       "split5_train_score     0.559384\n",
       "split6_test_score   -1.7262e+19\n",
       "split6_train_score     0.558726\n",
       "split7_test_score  -3.30468e+16\n",
       "split7_train_score     0.559454\n",
       "split8_test_score  -2.71714e+18\n",
       "split8_train_score     0.559806\n",
       "split9_test_score  -3.97718e+17\n",
       "split9_train_score     0.559059\n",
       "std_fit_time           0.839031\n",
       "std_score_time         0.133769\n",
       "std_test_score      5.13674e+18\n",
       "std_train_score     0.000723177"
      ]
     },
     "execution_count": 87,
     "metadata": {},
     "output_type": "execute_result"
    }
   ],
   "source": [
    "pd.DataFrame(model.cv_results_).T"
   ]
  },
  {
   "cell_type": "code",
   "execution_count": 88,
   "metadata": {
    "collapsed": false
   },
   "outputs": [
    {
     "data": {
      "text/plain": [
       "-3.688740028649031e+17"
      ]
     },
     "execution_count": 88,
     "metadata": {},
     "output_type": "execute_result"
    }
   ],
   "source": [
    "model.score(X_test, y_test)"
   ]
  },
  {
   "cell_type": "markdown",
   "metadata": {},
   "source": [
    "It makes intuitive sense that the CV_test scores would be better than previous iterations of the model once we remove the y outliers.\n",
    "\n",
    "Our model on the test set has very extreme predicted values compared to actual. This is likely a symptom of overfitting."
   ]
  },
  {
   "cell_type": "code",
   "execution_count": 120,
   "metadata": {
    "collapsed": true
   },
   "outputs": [],
   "source": [
    "y_pred = model.predict(X_test)\n",
    "y_pred[y_pred > np.percentile(y_pred, 99.99)] = np.percentile(y_pred, 99.99)"
   ]
  },
  {
   "cell_type": "code",
   "execution_count": 124,
   "metadata": {
    "collapsed": false
   },
   "outputs": [
    {
     "data": {
      "text/plain": [
       "count    101731.000000\n",
       "mean          1.717758\n",
       "std           1.119753\n",
       "min          -2.857332\n",
       "25%           1.353593\n",
       "50%           1.865962\n",
       "75%           2.375708\n",
       "max           4.582340\n",
       "Name: COMPLETION_HOURS_LOG_10, dtype: float64"
      ]
     },
     "execution_count": 124,
     "metadata": {},
     "output_type": "execute_result"
    }
   ],
   "source": [
    "y_test.describe()"
   ]
  },
  {
   "cell_type": "code",
   "execution_count": 122,
   "metadata": {
    "collapsed": false
   },
   "outputs": [
    {
     "data": {
      "text/plain": [
       "count    1.017310e+05\n",
       "mean    -2.132221e+06\n",
       "std      6.800788e+08\n",
       "min     -2.169132e+11\n",
       "25%      1.133769e+00\n",
       "50%      1.940363e+00\n",
       "75%      2.328280e+00\n",
       "max      3.657871e+00\n",
       "dtype: float64"
      ]
     },
     "execution_count": 122,
     "metadata": {},
     "output_type": "execute_result"
    }
   ],
   "source": [
    "pd.Series(y_pred).describe()"
   ]
  },
  {
   "cell_type": "code",
   "execution_count": 123,
   "metadata": {
    "collapsed": false
   },
   "outputs": [
    {
     "data": {
      "text/plain": [
       "-3.688740028649031e+17"
      ]
     },
     "execution_count": 123,
     "metadata": {},
     "output_type": "execute_result"
    }
   ],
   "source": [
    "r2_score(y_test, y_pred)"
   ]
  }
 ],
 "metadata": {
  "kernelspec": {
   "display_name": "Python 2",
   "language": "python",
   "name": "python2"
  },
  "language_info": {
   "codemirror_mode": {
    "name": "ipython",
    "version": 2
   },
   "file_extension": ".py",
   "mimetype": "text/x-python",
   "name": "python",
   "nbconvert_exporter": "python",
   "pygments_lexer": "ipython2",
   "version": "2.7.13"
  }
 },
 "nbformat": 4,
 "nbformat_minor": 2
}
