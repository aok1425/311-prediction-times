{
 "cells": [
  {
   "cell_type": "markdown",
   "metadata": {},
   "source": [
    "## Objective\n",
    "\n",
    "After looking at my handy map, I see outliers per cap bc the pop is low. I know the Census tries to get its Census blocks to be of about the same pop. Is there a clean cutoff to throw out the low-pop block groups? Would there be any useful signal in each of them?"
   ]
  },
  {
   "cell_type": "code",
   "execution_count": 46,
   "metadata": {
    "collapsed": true
   },
   "outputs": [],
   "source": [
    "from __future__ import division\n",
    "import pandas as pd\n",
    "import warnings\n",
    "import seaborn as sns\n",
    "import matplotlib.pyplot as plt\n",
    "from pylab import rcParams\n",
    "%matplotlib inline\n",
    "import json\n",
    "import plotly.plotly as py\n",
    "import cufflinks as cf\n",
    "\n",
    "warnings.filterwarnings(\"ignore\", category=DeprecationWarning)\n",
    "sns.set_style(\"whitegrid\")\n",
    "sns.set_context(\"poster\")\n",
    "rcParams['figure.figsize'] = 20,5"
   ]
  },
  {
   "cell_type": "code",
   "execution_count": 2,
   "metadata": {
    "collapsed": false
   },
   "outputs": [
    {
     "name": "stdout",
     "output_type": "stream",
     "text": [
      "/media/aok1425/1f5fa7c1-6532-4a01-8076-91f01ca10cae/PycharmProjects/galvanize/311-prediction-times/preprocessing\n"
     ]
    }
   ],
   "source": [
    "cd ../preprocessing"
   ]
  },
  {
   "cell_type": "code",
   "execution_count": 3,
   "metadata": {
    "collapsed": false
   },
   "outputs": [],
   "source": [
    "from transform_for_num_issues_pred import add_population"
   ]
  },
  {
   "cell_type": "code",
   "execution_count": 12,
   "metadata": {
    "collapsed": false
   },
   "outputs": [
    {
     "name": "stdout",
     "output_type": "stream",
     "text": [
      "/media/aok1425/1f5fa7c1-6532-4a01-8076-91f01ca10cae/PycharmProjects/galvanize/311-prediction-times/app\n"
     ]
    }
   ],
   "source": [
    "cd ../app/"
   ]
  },
  {
   "cell_type": "code",
   "execution_count": 37,
   "metadata": {
    "collapsed": false
   },
   "outputs": [
    {
     "ename": "ImportError",
     "evalue": "cannot import name BLOCK_GROUP_BLACKLIST",
     "output_type": "error",
     "traceback": [
      "\u001b[0;31m---------------------------------------------------------------------------\u001b[0m",
      "\u001b[0;31mImportError\u001b[0m                               Traceback (most recent call last)",
      "\u001b[0;32m<ipython-input-37-80b6f7c6da19>\u001b[0m in \u001b[0;36m<module>\u001b[0;34m()\u001b[0m\n\u001b[0;32m----> 1\u001b[0;31m \u001b[0;32mfrom\u001b[0m \u001b[0mmodels\u001b[0m \u001b[0;32mimport\u001b[0m \u001b[0mmake_q1_json\u001b[0m\u001b[0;34m,\u001b[0m \u001b[0mBLOCK_GROUP_BLACKLIST\u001b[0m\u001b[0;34m\u001b[0m\u001b[0m\n\u001b[0m",
      "\u001b[0;31mImportError\u001b[0m: cannot import name BLOCK_GROUP_BLACKLIST"
     ]
    }
   ],
   "source": [
    "from models import make_q1_json, BLOCK_GROUP_BLACKLIST"
   ]
  },
  {
   "cell_type": "code",
   "execution_count": 4,
   "metadata": {
    "collapsed": true
   },
   "outputs": [],
   "source": [
    "d = add_population(df=None, just_dict=True)"
   ]
  },
  {
   "cell_type": "code",
   "execution_count": 14,
   "metadata": {
    "collapsed": true
   },
   "outputs": [],
   "source": [
    "data = make_q1_json()"
   ]
  },
  {
   "cell_type": "markdown",
   "metadata": {
    "collapsed": false
   },
   "source": [
    "## Let's check"
   ]
  },
  {
   "cell_type": "code",
   "execution_count": 67,
   "metadata": {
    "collapsed": false
   },
   "outputs": [
    {
     "name": "stdout",
     "output_type": "stream",
     "text": [
      "(641, 4)\n"
     ]
    },
    {
     "data": {
      "text/html": [
       "<div>\n",
       "<table border=\"1\" class=\"dataframe\">\n",
       "  <thead>\n",
       "    <tr style=\"text-align: right;\">\n",
       "      <th></th>\n",
       "      <th>population</th>\n",
       "      <th>num_issues</th>\n",
       "      <th>num_issues_per_1000</th>\n",
       "      <th>keep</th>\n",
       "    </tr>\n",
       "  </thead>\n",
       "  <tbody>\n",
       "    <tr>\n",
       "      <th>0001001</th>\n",
       "      <td>1374.0</td>\n",
       "      <td>1673.0</td>\n",
       "      <td>1217.612809</td>\n",
       "      <td>True</td>\n",
       "    </tr>\n",
       "    <tr>\n",
       "      <th>0001002</th>\n",
       "      <td>1042.0</td>\n",
       "      <td>813.0</td>\n",
       "      <td>780.230326</td>\n",
       "      <td>True</td>\n",
       "    </tr>\n",
       "    <tr>\n",
       "      <th>0001003</th>\n",
       "      <td>498.0</td>\n",
       "      <td>719.0</td>\n",
       "      <td>1443.775100</td>\n",
       "      <td>True</td>\n",
       "    </tr>\n",
       "    <tr>\n",
       "      <th>0001004</th>\n",
       "      <td>757.0</td>\n",
       "      <td>570.0</td>\n",
       "      <td>752.972259</td>\n",
       "      <td>True</td>\n",
       "    </tr>\n",
       "    <tr>\n",
       "      <th>0002011</th>\n",
       "      <td>985.0</td>\n",
       "      <td>881.0</td>\n",
       "      <td>894.416244</td>\n",
       "      <td>True</td>\n",
       "    </tr>\n",
       "  </tbody>\n",
       "</table>\n",
       "</div>"
      ],
      "text/plain": [
       "         population  num_issues  num_issues_per_1000  keep\n",
       "0001001      1374.0      1673.0          1217.612809  True\n",
       "0001002      1042.0       813.0           780.230326  True\n",
       "0001003       498.0       719.0          1443.775100  True\n",
       "0001004       757.0       570.0           752.972259  True\n",
       "0002011       985.0       881.0           894.416244  True"
      ]
     },
     "execution_count": 67,
     "metadata": {},
     "output_type": "execute_result"
    }
   ],
   "source": [
    "df = pd.DataFrame([d, data[u'top_n_all_yrs_totals']]).T\n",
    "df.drop(BLOCK_GROUP_BLACKLIST, inplace=True)\n",
    "df.columns = ['population', 'num_issues']\n",
    "df['num_issues_per_1000'] = df.num_issues * 1000 / df.population\n",
    "df['keep'] = True\n",
    "print df.shape\n",
    "df.head()"
   ]
  },
  {
   "cell_type": "code",
   "execution_count": 27,
   "metadata": {
    "collapsed": false
   },
   "outputs": [
    {
     "data": {
      "text/plain": [
       "count     646.000000\n",
       "mean     1174.797214\n",
       "std       559.851811\n",
       "min         0.000000\n",
       "25%       802.500000\n",
       "50%      1078.500000\n",
       "75%      1467.750000\n",
       "max      3841.000000\n",
       "Name: population, dtype: float64"
      ]
     },
     "execution_count": 27,
     "metadata": {},
     "output_type": "execute_result"
    }
   ],
   "source": [
    "df.population.describe()"
   ]
  },
  {
   "cell_type": "code",
   "execution_count": 56,
   "metadata": {
    "collapsed": false
   },
   "outputs": [],
   "source": [
    "# rcParams['figure.figsize'] = 20,10\n",
    "# sns.regplot(x='population', y='num_issues_per_1000', data=df, fit_reg=False);"
   ]
  },
  {
   "cell_type": "code",
   "execution_count": 55,
   "metadata": {
    "collapsed": false
   },
   "outputs": [
    {
     "data": {
      "text/html": [
       "<iframe id=\"igraph\" scrolling=\"no\" style=\"border:none;\" seamless=\"seamless\" src=\"https://plot.ly/~aok1425/167.embed\" height=\"525px\" width=\"100%\"></iframe>"
      ],
      "text/plain": [
       "<plotly.tools.PlotlyDisplay object>"
      ]
     },
     "execution_count": 55,
     "metadata": {},
     "output_type": "execute_result"
    }
   ],
   "source": [
    "df.reset_index().iplot(kind='scatter', mode='markers', text='index', x='population', y='num_issues_per_1000', size=5)"
   ]
  },
  {
   "cell_type": "markdown",
   "metadata": {},
   "source": [
    "The points on the top-left quadrant, and also the bottom-right look like outliers. Specifically, the top-left ones are what I was concerned about: the block groups with low pops so as to inflate the number of issues per 1000.\n",
    "\n",
    "I could use K-means with k=3 to choose the outliers, but a simple visual cutoff and manual inspection will work too. I want to investigate the points where num_issues_per_1000 > 2000, and to a lesser degree, where population > 2750.\n",
    "\n",
    "## Manual investigation\n",
    "\n",
    "For y > 2000:\n",
    "\n",
    "| id      | residential? | comments                        |\n",
    "|---------|--------------|---------------------------------|\n",
    "| 0102034  | FALSE        | fenway                          |\n",
    "| 0107013  | FALSE        | hynes convention ctr            |\n",
    "| 107021  | TRUE         | copley                          |\n",
    "| 201011  | TRUE         | beacon hill                     |\n",
    "| 404012  | TRUE         | Charlestown; over the bridge    |\n",
    "| 0512001  | FALSE        | east boston waterfront          |\n",
    "| 0612002  | FALSE        | tracks west of Andrew           |\n",
    "| 701011  | TRUE         | South Station-ish               |\n",
    "| 0701012  | FALSE        | downtown crossing               |\n",
    "| 703002  | TRUE         | by Chinatown and I-90           |\n",
    "| 806013  | TRUE         | Dudley                          |\n",
    "| 1101033 | FALSE        | btwn arboretum and forest hills |\n",
    "| 9812021 | FALSE        | cruise SB place                 |\n",
    "\n",
    "For x > 2750:\n",
    "\n",
    "| id     | residential? | comments                              |\n",
    "|--------|--------------|---------------------------------------|\n",
    "| 0005024| FALSE        | BC                                    |\n",
    "| 0008032| FALSE        | BU western part                       |\n",
    "| 0103002| FALSE        | Simmons, Fenway                       |\n",
    "| 0104051| FALSE        | Northeastern                          |\n",
    "| 0507001| TRUE         | eastie                                |\n",
    "| 0702003| TRUE         | emerson/chinatown                     |\n",
    "| 0806011| TRUE         | orange line by mass ave station to NE |"
   ]
  },
  {
   "cell_type": "code",
   "execution_count": 72,
   "metadata": {
    "collapsed": false
   },
   "outputs": [],
   "source": [
    "OUTLIERS_COMMERCIAL_INDUSTRIAL = ['0102034', '0107013', '0512001', '0612002', '0701012', '1101033', '9812021']\n",
    "OUTLIERS_LOW_POP = ['0005024', '0008032', '0103002', '0104051']"
   ]
  },
  {
   "cell_type": "markdown",
   "metadata": {},
   "source": [
    "## Conclusion\n",
    "\n",
    "Since the same 5 blocks groups show up year after year as having higher density than the others, and bc that's bc they're in low-population areas, they're outliers. Let's remove them."
   ]
  }
 ],
 "metadata": {
  "anaconda-cloud": {},
  "kernelspec": {
   "display_name": "Python [conda root]",
   "language": "python",
   "name": "conda-root-py"
  },
  "language_info": {
   "codemirror_mode": {
    "name": "ipython",
    "version": 2
   },
   "file_extension": ".py",
   "mimetype": "text/x-python",
   "name": "python",
   "nbconvert_exporter": "python",
   "pygments_lexer": "ipython2",
   "version": "2.7.12"
  }
 },
 "nbformat": 4,
 "nbformat_minor": 1
}
