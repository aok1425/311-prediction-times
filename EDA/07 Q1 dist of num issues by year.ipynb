{
 "cells": [
  {
   "cell_type": "code",
   "execution_count": 2,
   "metadata": {
    "collapsed": true
   },
   "outputs": [],
   "source": [
    "from __future__ import division\n",
    "import pandas as pd\n",
    "import warnings\n",
    "import seaborn as sns\n",
    "import matplotlib.pyplot as plt\n",
    "from pylab import rcParams\n",
    "%matplotlib inline\n",
    "import json\n",
    "\n",
    "warnings.filterwarnings(\"ignore\", category=DeprecationWarning)\n",
    "sns.set_style(\"whitegrid\")\n",
    "sns.set_context(\"poster\")\n",
    "rcParams['figure.figsize'] = 20,5"
   ]
  },
  {
   "cell_type": "code",
   "execution_count": 9,
   "metadata": {
    "collapsed": false
   },
   "outputs": [
    {
     "name": "stdout",
     "output_type": "stream",
     "text": [
      "/media/aok1425/1f5fa7c1-6532-4a01-8076-91f01ca10cae/PycharmProjects/galvanize/311-prediction-times/app\n"
     ]
    }
   ],
   "source": [
    "cd ../app"
   ]
  },
  {
   "cell_type": "code",
   "execution_count": 12,
   "metadata": {
    "collapsed": false
   },
   "outputs": [],
   "source": [
    "from models import make_q1_map_json"
   ]
  },
  {
   "cell_type": "code",
   "execution_count": 18,
   "metadata": {
    "collapsed": true
   },
   "outputs": [],
   "source": [
    "tract_and_block_groups = []\n",
    "issues_by_year_per_1000 = []\n",
    "entries = {}"
   ]
  },
  {
   "cell_type": "code",
   "execution_count": null,
   "metadata": {
    "collapsed": true
   },
   "outputs": [],
   "source": [
    "data['features'][]"
   ]
  },
  {
   "cell_type": "code",
   "execution_count": 32,
   "metadata": {
    "collapsed": false
   },
   "outputs": [],
   "source": [
    "for entry in data['features']:\n",
    "    entry = entry['properties']\n",
    "    d = {}\n",
    "    \n",
    "    for k in entry:\n",
    "        if 'total_issues' in k and 'per_1000' in k and '2017' not in k:\n",
    "            try:\n",
    "                d[k] = int(entry[k])\n",
    "            except TypeError:\n",
    "                d[k] = 0\n",
    "\n",
    "    id_ = entry['tract_and_block_group']\n",
    "    entries[id_] = d"
   ]
  },
  {
   "cell_type": "markdown",
   "metadata": {
    "collapsed": false
   },
   "source": [
    "## Let's check"
   ]
  },
  {
   "cell_type": "code",
   "execution_count": 33,
   "metadata": {
    "collapsed": false
   },
   "outputs": [
    {
     "name": "stdout",
     "output_type": "stream",
     "text": [
      "(558, 7)\n"
     ]
    },
    {
     "data": {
      "text/html": [
       "<div>\n",
       "<table border=\"1\" class=\"dataframe\">\n",
       "  <thead>\n",
       "    <tr style=\"text-align: right;\">\n",
       "      <th></th>\n",
       "      <th>total_issues_2011_per_1000</th>\n",
       "      <th>total_issues_2012_per_1000</th>\n",
       "      <th>total_issues_2013_per_1000</th>\n",
       "      <th>total_issues_2014_per_1000</th>\n",
       "      <th>total_issues_2015_per_1000</th>\n",
       "      <th>total_issues_2016_per_1000</th>\n",
       "      <th>total_issues_all_years_per_1000</th>\n",
       "    </tr>\n",
       "  </thead>\n",
       "  <tbody>\n",
       "    <tr>\n",
       "      <th>0001001</th>\n",
       "      <td>81.0</td>\n",
       "      <td>151.0</td>\n",
       "      <td>178.0</td>\n",
       "      <td>238.0</td>\n",
       "      <td>370.0</td>\n",
       "      <td>200.0</td>\n",
       "      <td>1218.0</td>\n",
       "    </tr>\n",
       "    <tr>\n",
       "      <th>0001002</th>\n",
       "      <td>44.0</td>\n",
       "      <td>97.0</td>\n",
       "      <td>139.0</td>\n",
       "      <td>141.0</td>\n",
       "      <td>193.0</td>\n",
       "      <td>166.0</td>\n",
       "      <td>780.0</td>\n",
       "    </tr>\n",
       "    <tr>\n",
       "      <th>0001003</th>\n",
       "      <td>94.0</td>\n",
       "      <td>191.0</td>\n",
       "      <td>287.0</td>\n",
       "      <td>215.0</td>\n",
       "      <td>301.0</td>\n",
       "      <td>353.0</td>\n",
       "      <td>1444.0</td>\n",
       "    </tr>\n",
       "    <tr>\n",
       "      <th>0001004</th>\n",
       "      <td>37.0</td>\n",
       "      <td>57.0</td>\n",
       "      <td>135.0</td>\n",
       "      <td>128.0</td>\n",
       "      <td>209.0</td>\n",
       "      <td>182.0</td>\n",
       "      <td>753.0</td>\n",
       "    </tr>\n",
       "    <tr>\n",
       "      <th>0002011</th>\n",
       "      <td>51.0</td>\n",
       "      <td>118.0</td>\n",
       "      <td>132.0</td>\n",
       "      <td>127.0</td>\n",
       "      <td>216.0</td>\n",
       "      <td>250.0</td>\n",
       "      <td>894.0</td>\n",
       "    </tr>\n",
       "  </tbody>\n",
       "</table>\n",
       "</div>"
      ],
      "text/plain": [
       "         total_issues_2011_per_1000  total_issues_2012_per_1000  \\\n",
       "0001001                        81.0                       151.0   \n",
       "0001002                        44.0                        97.0   \n",
       "0001003                        94.0                       191.0   \n",
       "0001004                        37.0                        57.0   \n",
       "0002011                        51.0                       118.0   \n",
       "\n",
       "         total_issues_2013_per_1000  total_issues_2014_per_1000  \\\n",
       "0001001                       178.0                       238.0   \n",
       "0001002                       139.0                       141.0   \n",
       "0001003                       287.0                       215.0   \n",
       "0001004                       135.0                       128.0   \n",
       "0002011                       132.0                       127.0   \n",
       "\n",
       "         total_issues_2015_per_1000  total_issues_2016_per_1000  \\\n",
       "0001001                       370.0                       200.0   \n",
       "0001002                       193.0                       166.0   \n",
       "0001003                       301.0                       353.0   \n",
       "0001004                       209.0                       182.0   \n",
       "0002011                       216.0                       250.0   \n",
       "\n",
       "         total_issues_all_years_per_1000  \n",
       "0001001                           1218.0  \n",
       "0001002                            780.0  \n",
       "0001003                           1444.0  \n",
       "0001004                            753.0  \n",
       "0002011                            894.0  "
      ]
     },
     "execution_count": 33,
     "metadata": {},
     "output_type": "execute_result"
    }
   ],
   "source": [
    "df = pd.DataFrame(entries, dtype=int).T\n",
    "print df.shape\n",
    "df.head()"
   ]
  },
  {
   "cell_type": "code",
   "execution_count": 34,
   "metadata": {
    "collapsed": false
   },
   "outputs": [
    {
     "data": {
      "text/plain": [
       "count     558.000000\n",
       "mean      162.867384\n",
       "std       405.401922\n",
       "min         0.000000\n",
       "25%        87.000000\n",
       "50%       121.500000\n",
       "75%       162.750000\n",
       "max      7667.000000\n",
       "Name: total_issues_2014_per_1000, dtype: float64"
      ]
     },
     "execution_count": 34,
     "metadata": {},
     "output_type": "execute_result"
    }
   ],
   "source": [
    "df['total_issues_2014_per_1000'].describe()"
   ]
  },
  {
   "cell_type": "markdown",
   "metadata": {},
   "source": [
    "The max is way bigger than the 75th percentile. Let's look at this range."
   ]
  },
  {
   "cell_type": "code",
   "execution_count": 38,
   "metadata": {
    "collapsed": false
   },
   "outputs": [
    {
     "data": {
      "text/plain": [
       "9807001    7667.0\n",
       "9818001    4273.0\n",
       "0303003    3205.0\n",
       "0701018    2248.0\n",
       "9811003    1231.0\n",
       "1101033     462.0\n",
       "0102034     460.0\n",
       "0512001     437.0\n",
       "0701015     434.0\n",
       "0701011     424.0\n",
       "Name: total_issues_2014_per_1000, dtype: float64"
      ]
     },
     "execution_count": 38,
     "metadata": {},
     "output_type": "execute_result"
    }
   ],
   "source": [
    "df['total_issues_2014_per_1000'].sort_values(ascending=False).head(10)"
   ]
  },
  {
   "cell_type": "markdown",
   "metadata": {},
   "source": [
    "For 2014, the top 5 seem to be outliers. Where are they?\n",
    "\n",
    "- 9807001 is Stony Brook Reservation\n",
    "- 9818001 is the Fens river\n",
    "- 0303003 is Downtown Crossing/Park Street/Haymarket--no one lives there. 1,500 pop.\n",
    "- 0701018 is South Station. 210 pop.\n",
    "- 9811003 is Forest Hills Cemetery. 13 pop.\n",
    "\n",
    "Do we see the same 5 block groups for other years too?"
   ]
  },
  {
   "cell_type": "code",
   "execution_count": 40,
   "metadata": {
    "collapsed": true
   },
   "outputs": [
    {
     "data": {
      "text/plain": [
       "9807001    7778.0\n",
       "9818001    4091.0\n",
       "0303003    2615.0\n",
       "0701018    1762.0\n",
       "9811003     923.0\n",
       "0102034     577.0\n",
       "0403005     482.0\n",
       "1101033     415.0\n",
       "0402002     411.0\n",
       "0107021     411.0\n",
       "Name: total_issues_2013_per_1000, dtype: float64"
      ]
     },
     "execution_count": 40,
     "metadata": {},
     "output_type": "execute_result"
    }
   ],
   "source": [
    "df['total_issues_2013_per_1000'].sort_values(ascending=False).head(10)"
   ]
  },
  {
   "cell_type": "code",
   "execution_count": 41,
   "metadata": {
    "collapsed": false
   },
   "outputs": [
    {
     "data": {
      "text/plain": [
       "9807001    42556.0\n",
       "9818001    21061.0\n",
       "0303003    19479.0\n",
       "0701018    10662.0\n",
       "9811003     5154.0\n",
       "0102034     3091.0\n",
       "0107021     2940.0\n",
       "0612002     2455.0\n",
       "1101033     2435.0\n",
       "0512001     2291.0\n",
       "Name: total_issues_all_years_per_1000, dtype: float64"
      ]
     },
     "execution_count": 41,
     "metadata": {},
     "output_type": "execute_result"
    }
   ],
   "source": [
    "df['total_issues_all_years_per_1000'].sort_values(ascending=False).head(10)"
   ]
  },
  {
   "cell_type": "markdown",
   "metadata": {},
   "source": [
    "## Conclusion\n",
    "\n",
    "Since the same 5 blocks groups show up year after year as having higher density than the others, and bc that's bc they're in low-population areas, they're outliers. Let's remove them."
   ]
  }
 ],
 "metadata": {
  "anaconda-cloud": {},
  "kernelspec": {
   "display_name": "Python [conda root]",
   "language": "python",
   "name": "conda-root-py"
  },
  "language_info": {
   "codemirror_mode": {
    "name": "ipython",
    "version": 2
   },
   "file_extension": ".py",
   "mimetype": "text/x-python",
   "name": "python",
   "nbconvert_exporter": "python",
   "pygments_lexer": "ipython2",
   "version": "2.7.12"
  }
 },
 "nbformat": 4,
 "nbformat_minor": 1
}
