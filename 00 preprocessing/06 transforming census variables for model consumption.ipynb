{
 "cells": [
  {
   "cell_type": "markdown",
   "metadata": {},
   "source": [
    "As per my EDA into the distribution of Census variables (i.e. income, rent, bedrooms) by Census block group, I will transform School, Bedroom, Value, Rent, and Income into the mode for each row. \n",
    "\n",
    "I can further transform Bedroom, Value, Rent, and Income to numerical values.\n",
    "\n",
    "For Poverty and Race, I will transform the counts into percentages."
   ]
  },
  {
   "cell_type": "code",
   "execution_count": 46,
   "metadata": {
    "collapsed": true
   },
   "outputs": [],
   "source": [
    "from __future__ import division\n",
    "import pandas as pd\n",
    "from IPython.display import display\n",
    "import re"
   ]
  },
  {
   "cell_type": "code",
   "execution_count": 2,
   "metadata": {
    "collapsed": false
   },
   "outputs": [
    {
     "data": {
      "text/plain": [
       "(905650, 155)"
      ]
     },
     "execution_count": 2,
     "metadata": {},
     "output_type": "execute_result"
    }
   ],
   "source": [
    "df = pd.read_hdf('../data/data_w_descs_and_census.h5')\n",
    "df.shape"
   ]
  },
  {
   "cell_type": "markdown",
   "metadata": {},
   "source": [
    "## Transforming first set of categories"
   ]
  },
  {
   "cell_type": "code",
   "execution_count": 47,
   "metadata": {
    "collapsed": true
   },
   "outputs": [],
   "source": [
    "def get_bedroom(txt):\n",
    "    if txt[-1] == '+':\n",
    "        return 6 # I chose this arbitrarily over 5\n",
    "    else:\n",
    "        return int(txt[-1])"
   ]
  },
  {
   "cell_type": "code",
   "execution_count": 61,
   "metadata": {
    "collapsed": true
   },
   "outputs": [],
   "source": [
    "def get_rent(txt):\n",
    "    if txt[-1] == '+':\n",
    "        return 3750\n",
    "    else:\n",
    "        regex = re.compile(r'rent_(\\d+)_(\\d+)')\n",
    "        match = regex.search(txt)\n",
    "        low, high = [int(i) for i in match.groups()]\n",
    "        return int((high + low) / 2) + 1"
   ]
  },
  {
   "cell_type": "code",
   "execution_count": 75,
   "metadata": {
    "collapsed": true
   },
   "outputs": [],
   "source": [
    "def get_income(txt):\n",
    "    if txt[-1] == '+':\n",
    "        return 250000\n",
    "    else:\n",
    "        regex = re.compile(r'income_(\\d+)_(\\d+)')\n",
    "        match = regex.search(txt)\n",
    "        low, high = [int(i) for i in match.groups()]\n",
    "        return int((high + low) / 2) + 1        "
   ]
  },
  {
   "cell_type": "code",
   "execution_count": 79,
   "metadata": {
    "collapsed": true
   },
   "outputs": [],
   "source": [
    "def get_value(txt):\n",
    "    if txt[-1] == '+':\n",
    "        return 2.5e6\n",
    "    else:\n",
    "        regex = re.compile(r'value_(\\d+)_(\\d+)')\n",
    "        match = regex.search(txt)\n",
    "        low, high = [int(i) for i in match.groups()]\n",
    "        return int((high + low) / 2) + 1        "
   ]
  },
  {
   "cell_type": "code",
   "execution_count": 160,
   "metadata": {
    "collapsed": false
   },
   "outputs": [],
   "source": [
    "def transform_categ_mode(df, category):\n",
    "    if category in ('race', 'poverty'):\n",
    "        raise Exception('not gonna transform those categs')\n",
    "    \n",
    "    d = {\n",
    "        'bedroom': 'bedroom_total_ppl', \n",
    "        'school': 'school_total', \n",
    "        'rent': 'rent_total', \n",
    "        'income': 'income_total', \n",
    "        'value': 'value_total',\n",
    "        'housing': 'housing_total'\n",
    "    }\n",
    "    assert category in d.keys()\n",
    "    \n",
    "    category_total_col = d[category]\n",
    "    category_cols = [col for col in df.columns if category + '_' == col[:len(category) + 1]]\n",
    "    categ_df = df[category_cols]\n",
    "    \n",
    "    if category == 'income': # super-hacky, but this is a one-time process\n",
    "        categ_df = categ_df.drop('income_per_capita', axis=1)\n",
    "    \n",
    "    max_categ_df = categ_df[[col for col in categ_df.columns if col != category_total_col]].idxmax(axis=1)\n",
    "#     return max_categ_df\n",
    "    new_df = df.drop(category_cols, axis=1)    \n",
    "    \n",
    "    if category == 'bedroom':\n",
    "        new_df[category] = max_categ_df.map(lambda txt: get_bedroom(txt))\n",
    "    elif category == 'school':\n",
    "        new_df[category] = max_categ_df.map(lambda txt: txt.replace('school_', ''))\n",
    "    elif category == 'rent':\n",
    "        new_df[category] = max_categ_df.map(lambda txt: get_rent(txt))\n",
    "    elif category == 'income':\n",
    "        new_df[category] = max_categ_df.map(lambda txt: get_income(txt))\n",
    "    elif category == 'value':\n",
    "        new_df[category] = max_categ_df.map(lambda txt: get_value(txt)) \n",
    "    elif category == 'housing':\n",
    "        new_df[category] = max_categ_df.map(lambda txt: txt[8:])\n",
    "        \n",
    "    return new_df"
   ]
  },
  {
   "cell_type": "raw",
   "metadata": {},
   "source": [
    "NB: for categs like 200000+, I choose a relatively modest figure of like 250k"
   ]
  },
  {
   "cell_type": "code",
   "execution_count": 149,
   "metadata": {
    "collapsed": true
   },
   "outputs": [
    {
     "data": {
      "text/plain": [
       "74        NaN\n",
       "4613      NaN\n",
       "6762      NaN\n",
       "7090      NaN\n",
       "7571      NaN\n",
       "12551     NaN\n",
       "13108     NaN\n",
       "13649     NaN\n",
       "15904     NaN\n",
       "19404     NaN\n",
       "19450     NaN\n",
       "23139     NaN\n",
       "25490     NaN\n",
       "26075     NaN\n",
       "26323     NaN\n",
       "27623     NaN\n",
       "30191     NaN\n",
       "30332     NaN\n",
       "31413     NaN\n",
       "39351     NaN\n",
       "40833     NaN\n",
       "42803     NaN\n",
       "44950     NaN\n",
       "45563     NaN\n",
       "45961     NaN\n",
       "48578     NaN\n",
       "50865     NaN\n",
       "52597     NaN\n",
       "52738     NaN\n",
       "55016     NaN\n",
       "         ... \n",
       "848661    NaN\n",
       "850133    NaN\n",
       "851090    NaN\n",
       "852498    NaN\n",
       "855450    NaN\n",
       "860543    NaN\n",
       "862434    NaN\n",
       "865641    NaN\n",
       "870390    NaN\n",
       "870936    NaN\n",
       "871095    NaN\n",
       "872808    NaN\n",
       "875063    NaN\n",
       "875168    NaN\n",
       "875513    NaN\n",
       "877632    NaN\n",
       "882243    NaN\n",
       "882398    NaN\n",
       "883555    NaN\n",
       "884408    NaN\n",
       "886198    NaN\n",
       "886922    NaN\n",
       "888377    NaN\n",
       "890710    NaN\n",
       "891027    NaN\n",
       "892138    NaN\n",
       "892665    NaN\n",
       "893215    NaN\n",
       "899810    NaN\n",
       "902884    NaN\n",
       "dtype: object"
      ]
     },
     "execution_count": 149,
     "metadata": {},
     "output_type": "execute_result"
    }
   ],
   "source": [
    "aa = transform_categ_mode(df, 'school')\n",
    "aa[aa.isnull()]"
   ]
  },
  {
   "cell_type": "code",
   "execution_count": 165,
   "metadata": {
    "collapsed": false
   },
   "outputs": [
    {
     "data": {
      "text/plain": [
       "445"
      ]
     },
     "execution_count": 165,
     "metadata": {},
     "output_type": "execute_result"
    }
   ],
   "source": [
    "aa.isnull().sum()"
   ]
  },
  {
   "cell_type": "code",
   "execution_count": 166,
   "metadata": {
    "collapsed": false
   },
   "outputs": [
    {
     "data": {
      "text/plain": [
       "CASE_ENQUIRY_ID                        0\n",
       "OPEN_DT                                0\n",
       "TARGET_DT                         197308\n",
       "CLOSED_DT                          70634\n",
       "OnTime_Status                        662\n",
       "CASE_STATUS                            0\n",
       "CLOSURE_REASON                     70425\n",
       "CASE_TITLE                           484\n",
       "SUBJECT                                0\n",
       "REASON                                 0\n",
       "TYPE                                   0\n",
       "QUEUE                                  0\n",
       "Department                             0\n",
       "SubmittedPhoto                    770245\n",
       "ClosedPhoto                       831941\n",
       "Location                           39262\n",
       "fire_district                      42516\n",
       "pwd_district                       40649\n",
       "city_council_district              39437\n",
       "police_district                    40423\n",
       "neighborhood                       40090\n",
       "neighborhood_services_district     39439\n",
       "ward                               39442\n",
       "precinct                           42192\n",
       "land_usage                        245701\n",
       "LOCATION_STREET_NAME               39268\n",
       "LOCATION_ZIPCODE                  211979\n",
       "Property_Type                      39268\n",
       "Property_ID                        39268\n",
       "LATITUDE                               0\n",
       "                                   ...  \n",
       "housing_own                          445\n",
       "housing_rent                         445\n",
       "value_total                          445\n",
       "value_0_10000                        445\n",
       "value_10000_14999                    445\n",
       "value_15000_19999                    445\n",
       "value_20000_24999                    445\n",
       "value_25000_29999                    445\n",
       "value_30000_34999                    445\n",
       "value_35000_39999                    445\n",
       "value_40000_49999                    445\n",
       "value_50000_59999                    445\n",
       "value_60000_69999                    445\n",
       "value_70000_79999                    445\n",
       "value_80000_89999                    445\n",
       "value_90000_99999                    445\n",
       "value_100000_124999                  445\n",
       "value_125000_149999                  445\n",
       "value_150000_174999                  445\n",
       "value_175000_199999                  445\n",
       "value_200000_249999                  445\n",
       "value_250000_299999                  445\n",
       "value_300000_399999                  445\n",
       "value_400000_499999                  445\n",
       "value_500000_749999                  445\n",
       "value_750000_999999                  445\n",
       "value_1000000_1499999                445\n",
       "value_1500000_1999999                445\n",
       "value_2000000+                       445\n",
       "COMPLETION_TIME                    70634\n",
       "dtype: int64"
      ]
     },
     "execution_count": 166,
     "metadata": {},
     "output_type": "execute_result"
    }
   ],
   "source": [
    "df.isnull().sum()"
   ]
  },
  {
   "cell_type": "code",
   "execution_count": 152,
   "metadata": {
    "collapsed": false
   },
   "outputs": [
    {
     "data": {
      "text/plain": [
       "74       Intersection\n",
       "19450         Address\n",
       "Name: Property_Type, dtype: object"
      ]
     },
     "execution_count": 152,
     "metadata": {},
     "output_type": "execute_result"
    }
   ],
   "source": [
    "df[aa.isnull()].Property_Type.drop_duplicates()"
   ]
  },
  {
   "cell_type": "raw",
   "metadata": {},
   "source": [
    "TODO: investigate NaNs based on location, like 19450"
   ]
  },
  {
   "cell_type": "code",
   "execution_count": 154,
   "metadata": {
    "collapsed": false,
    "scrolled": true
   },
   "outputs": [
    {
     "data": {
      "text/html": [
       "<div>\n",
       "<table border=\"1\" class=\"dataframe\">\n",
       "  <thead>\n",
       "    <tr style=\"text-align: right;\">\n",
       "      <th></th>\n",
       "      <th>19450</th>\n",
       "    </tr>\n",
       "  </thead>\n",
       "  <tbody>\n",
       "    <tr>\n",
       "      <th>LATITUDE</th>\n",
       "      <td>42.3536</td>\n",
       "    </tr>\n",
       "    <tr>\n",
       "      <th>LONGITUDE</th>\n",
       "      <td>-71.1737</td>\n",
       "    </tr>\n",
       "    <tr>\n",
       "      <th>Source</th>\n",
       "      <td>Citizens Connect App</td>\n",
       "    </tr>\n",
       "    <tr>\n",
       "      <th>Geocoded_Location</th>\n",
       "      <td>(42.3536, -71.1737)</td>\n",
       "    </tr>\n",
       "    <tr>\n",
       "      <th>case_enquiry_id</th>\n",
       "      <td>1.01001e+11</td>\n",
       "    </tr>\n",
       "    <tr>\n",
       "      <th>description</th>\n",
       "      <td>Dead squirrel</td>\n",
       "    </tr>\n",
       "    <tr>\n",
       "      <th>specific_location</th>\n",
       "      <td>\\n Location: \\n\\t\\t\\t\\tRoadway\\n\\t\\t\\t</td>\n",
       "    </tr>\n",
       "    <tr>\n",
       "      <th>title</th>\n",
       "      <td>Dead Animal Pick-up at 733 Washington St, Brig...</td>\n",
       "    </tr>\n",
       "    <tr>\n",
       "      <th>tract_and_block_group</th>\n",
       "      <td>3731001</td>\n",
       "    </tr>\n",
       "    <tr>\n",
       "      <th>bedroom_total_ppl</th>\n",
       "      <td>NaN</td>\n",
       "    </tr>\n",
       "    <tr>\n",
       "      <th>bedroom_0</th>\n",
       "      <td>NaN</td>\n",
       "    </tr>\n",
       "    <tr>\n",
       "      <th>bedroom_1</th>\n",
       "      <td>NaN</td>\n",
       "    </tr>\n",
       "    <tr>\n",
       "      <th>bedroom_2</th>\n",
       "      <td>NaN</td>\n",
       "    </tr>\n",
       "    <tr>\n",
       "      <th>bedroom_3</th>\n",
       "      <td>NaN</td>\n",
       "    </tr>\n",
       "    <tr>\n",
       "      <th>bedroom_4</th>\n",
       "      <td>NaN</td>\n",
       "    </tr>\n",
       "    <tr>\n",
       "      <th>bedroom_5+</th>\n",
       "      <td>NaN</td>\n",
       "    </tr>\n",
       "    <tr>\n",
       "      <th>school_total</th>\n",
       "      <td>NaN</td>\n",
       "    </tr>\n",
       "    <tr>\n",
       "      <th>school_0_none</th>\n",
       "      <td>NaN</td>\n",
       "    </tr>\n",
       "    <tr>\n",
       "      <th>school_1_preschool</th>\n",
       "      <td>NaN</td>\n",
       "    </tr>\n",
       "    <tr>\n",
       "      <th>school_2_kindergarden</th>\n",
       "      <td>NaN</td>\n",
       "    </tr>\n",
       "    <tr>\n",
       "      <th>school_3_1st_grade</th>\n",
       "      <td>NaN</td>\n",
       "    </tr>\n",
       "    <tr>\n",
       "      <th>school_4_2nd_grade</th>\n",
       "      <td>NaN</td>\n",
       "    </tr>\n",
       "    <tr>\n",
       "      <th>school_5_3rd_grade</th>\n",
       "      <td>NaN</td>\n",
       "    </tr>\n",
       "    <tr>\n",
       "      <th>school_6_4th_grade</th>\n",
       "      <td>NaN</td>\n",
       "    </tr>\n",
       "    <tr>\n",
       "      <th>school_7_5th_grade</th>\n",
       "      <td>NaN</td>\n",
       "    </tr>\n",
       "    <tr>\n",
       "      <th>school_8_6th_grade</th>\n",
       "      <td>NaN</td>\n",
       "    </tr>\n",
       "    <tr>\n",
       "      <th>school_9_7th_grade</th>\n",
       "      <td>NaN</td>\n",
       "    </tr>\n",
       "    <tr>\n",
       "      <th>school_10_8th_grade</th>\n",
       "      <td>NaN</td>\n",
       "    </tr>\n",
       "    <tr>\n",
       "      <th>school_11_9th_grade</th>\n",
       "      <td>NaN</td>\n",
       "    </tr>\n",
       "    <tr>\n",
       "      <th>school_12_10th_grade</th>\n",
       "      <td>NaN</td>\n",
       "    </tr>\n",
       "    <tr>\n",
       "      <th>...</th>\n",
       "      <td>...</td>\n",
       "    </tr>\n",
       "    <tr>\n",
       "      <th>housing_own</th>\n",
       "      <td>NaN</td>\n",
       "    </tr>\n",
       "    <tr>\n",
       "      <th>housing_rent</th>\n",
       "      <td>NaN</td>\n",
       "    </tr>\n",
       "    <tr>\n",
       "      <th>value_total</th>\n",
       "      <td>NaN</td>\n",
       "    </tr>\n",
       "    <tr>\n",
       "      <th>value_0_10000</th>\n",
       "      <td>NaN</td>\n",
       "    </tr>\n",
       "    <tr>\n",
       "      <th>value_10000_14999</th>\n",
       "      <td>NaN</td>\n",
       "    </tr>\n",
       "    <tr>\n",
       "      <th>value_15000_19999</th>\n",
       "      <td>NaN</td>\n",
       "    </tr>\n",
       "    <tr>\n",
       "      <th>value_20000_24999</th>\n",
       "      <td>NaN</td>\n",
       "    </tr>\n",
       "    <tr>\n",
       "      <th>value_25000_29999</th>\n",
       "      <td>NaN</td>\n",
       "    </tr>\n",
       "    <tr>\n",
       "      <th>value_30000_34999</th>\n",
       "      <td>NaN</td>\n",
       "    </tr>\n",
       "    <tr>\n",
       "      <th>value_35000_39999</th>\n",
       "      <td>NaN</td>\n",
       "    </tr>\n",
       "    <tr>\n",
       "      <th>value_40000_49999</th>\n",
       "      <td>NaN</td>\n",
       "    </tr>\n",
       "    <tr>\n",
       "      <th>value_50000_59999</th>\n",
       "      <td>NaN</td>\n",
       "    </tr>\n",
       "    <tr>\n",
       "      <th>value_60000_69999</th>\n",
       "      <td>NaN</td>\n",
       "    </tr>\n",
       "    <tr>\n",
       "      <th>value_70000_79999</th>\n",
       "      <td>NaN</td>\n",
       "    </tr>\n",
       "    <tr>\n",
       "      <th>value_80000_89999</th>\n",
       "      <td>NaN</td>\n",
       "    </tr>\n",
       "    <tr>\n",
       "      <th>value_90000_99999</th>\n",
       "      <td>NaN</td>\n",
       "    </tr>\n",
       "    <tr>\n",
       "      <th>value_100000_124999</th>\n",
       "      <td>NaN</td>\n",
       "    </tr>\n",
       "    <tr>\n",
       "      <th>value_125000_149999</th>\n",
       "      <td>NaN</td>\n",
       "    </tr>\n",
       "    <tr>\n",
       "      <th>value_150000_174999</th>\n",
       "      <td>NaN</td>\n",
       "    </tr>\n",
       "    <tr>\n",
       "      <th>value_175000_199999</th>\n",
       "      <td>NaN</td>\n",
       "    </tr>\n",
       "    <tr>\n",
       "      <th>value_200000_249999</th>\n",
       "      <td>NaN</td>\n",
       "    </tr>\n",
       "    <tr>\n",
       "      <th>value_250000_299999</th>\n",
       "      <td>NaN</td>\n",
       "    </tr>\n",
       "    <tr>\n",
       "      <th>value_300000_399999</th>\n",
       "      <td>NaN</td>\n",
       "    </tr>\n",
       "    <tr>\n",
       "      <th>value_400000_499999</th>\n",
       "      <td>NaN</td>\n",
       "    </tr>\n",
       "    <tr>\n",
       "      <th>value_500000_749999</th>\n",
       "      <td>NaN</td>\n",
       "    </tr>\n",
       "    <tr>\n",
       "      <th>value_750000_999999</th>\n",
       "      <td>NaN</td>\n",
       "    </tr>\n",
       "    <tr>\n",
       "      <th>value_1000000_1499999</th>\n",
       "      <td>NaN</td>\n",
       "    </tr>\n",
       "    <tr>\n",
       "      <th>value_1500000_1999999</th>\n",
       "      <td>NaN</td>\n",
       "    </tr>\n",
       "    <tr>\n",
       "      <th>value_2000000+</th>\n",
       "      <td>NaN</td>\n",
       "    </tr>\n",
       "    <tr>\n",
       "      <th>COMPLETION_TIME</th>\n",
       "      <td>1.15444</td>\n",
       "    </tr>\n",
       "  </tbody>\n",
       "</table>\n",
       "<p>126 rows × 1 columns</p>\n",
       "</div>"
      ],
      "text/plain": [
       "                                                                   19450\n",
       "LATITUDE                                                         42.3536\n",
       "LONGITUDE                                                       -71.1737\n",
       "Source                                              Citizens Connect App\n",
       "Geocoded_Location                                    (42.3536, -71.1737)\n",
       "case_enquiry_id                                              1.01001e+11\n",
       "description                                                Dead squirrel\n",
       "specific_location                 \\n Location: \\n\\t\\t\\t\\tRoadway\\n\\t\\t\\t\n",
       "title                  Dead Animal Pick-up at 733 Washington St, Brig...\n",
       "tract_and_block_group                                            3731001\n",
       "bedroom_total_ppl                                                    NaN\n",
       "bedroom_0                                                            NaN\n",
       "bedroom_1                                                            NaN\n",
       "bedroom_2                                                            NaN\n",
       "bedroom_3                                                            NaN\n",
       "bedroom_4                                                            NaN\n",
       "bedroom_5+                                                           NaN\n",
       "school_total                                                         NaN\n",
       "school_0_none                                                        NaN\n",
       "school_1_preschool                                                   NaN\n",
       "school_2_kindergarden                                                NaN\n",
       "school_3_1st_grade                                                   NaN\n",
       "school_4_2nd_grade                                                   NaN\n",
       "school_5_3rd_grade                                                   NaN\n",
       "school_6_4th_grade                                                   NaN\n",
       "school_7_5th_grade                                                   NaN\n",
       "school_8_6th_grade                                                   NaN\n",
       "school_9_7th_grade                                                   NaN\n",
       "school_10_8th_grade                                                  NaN\n",
       "school_11_9th_grade                                                  NaN\n",
       "school_12_10th_grade                                                 NaN\n",
       "...                                                                  ...\n",
       "housing_own                                                          NaN\n",
       "housing_rent                                                         NaN\n",
       "value_total                                                          NaN\n",
       "value_0_10000                                                        NaN\n",
       "value_10000_14999                                                    NaN\n",
       "value_15000_19999                                                    NaN\n",
       "value_20000_24999                                                    NaN\n",
       "value_25000_29999                                                    NaN\n",
       "value_30000_34999                                                    NaN\n",
       "value_35000_39999                                                    NaN\n",
       "value_40000_49999                                                    NaN\n",
       "value_50000_59999                                                    NaN\n",
       "value_60000_69999                                                    NaN\n",
       "value_70000_79999                                                    NaN\n",
       "value_80000_89999                                                    NaN\n",
       "value_90000_99999                                                    NaN\n",
       "value_100000_124999                                                  NaN\n",
       "value_125000_149999                                                  NaN\n",
       "value_150000_174999                                                  NaN\n",
       "value_175000_199999                                                  NaN\n",
       "value_200000_249999                                                  NaN\n",
       "value_250000_299999                                                  NaN\n",
       "value_300000_399999                                                  NaN\n",
       "value_400000_499999                                                  NaN\n",
       "value_500000_749999                                                  NaN\n",
       "value_750000_999999                                                  NaN\n",
       "value_1000000_1499999                                                NaN\n",
       "value_1500000_1999999                                                NaN\n",
       "value_2000000+                                                       NaN\n",
       "COMPLETION_TIME                                                  1.15444\n",
       "\n",
       "[126 rows x 1 columns]"
      ]
     },
     "execution_count": 154,
     "metadata": {},
     "output_type": "execute_result"
    }
   ],
   "source": [
    "df.iloc[19450:19451].T.loc['LATITUDE':]"
   ]
  },
  {
   "cell_type": "code",
   "execution_count": 134,
   "metadata": {
    "collapsed": false
   },
   "outputs": [
    {
     "data": {
      "text/plain": [
       "school_total                        NaN\n",
       "school_0_none                       NaN\n",
       "school_1_preschool                  NaN\n",
       "school_2_kindergarden               NaN\n",
       "school_3_1st_grade                  NaN\n",
       "school_4_2nd_grade                  NaN\n",
       "school_5_3rd_grade                  NaN\n",
       "school_6_4th_grade                  NaN\n",
       "school_7_5th_grade                  NaN\n",
       "school_8_6th_grade                  NaN\n",
       "school_9_7th_grade                  NaN\n",
       "school_10_8th_grade                 NaN\n",
       "school_11_9th_grade                 NaN\n",
       "school_12_10th_grade                NaN\n",
       "school_13_11th_grade                NaN\n",
       "school_14_12th_grade_no_diploma     NaN\n",
       "school_15_hs_diploma                NaN\n",
       "school_16_ged                       NaN\n",
       "school_17_less_than_1_yr            NaN\n",
       "school_18_some_college_no_degree    NaN\n",
       "school_19_associates                NaN\n",
       "school_20_bachelors                 NaN\n",
       "school_21_masters                   NaN\n",
       "school_22_professional_school       NaN\n",
       "school_23_doctorate                 NaN\n",
       "Name: 74, dtype: object"
      ]
     },
     "execution_count": 134,
     "metadata": {},
     "output_type": "execute_result"
    }
   ],
   "source": [
    "category = 'school'\n",
    "df.iloc[74][[col for col in df.columns if category + '_' == col[:len(category) + 1]]]"
   ]
  },
  {
   "cell_type": "code",
   "execution_count": 164,
   "metadata": {
    "collapsed": false,
    "scrolled": true
   },
   "outputs": [
    {
     "ename": "TypeError",
     "evalue": "'float' object has no attribute '__getitem__'",
     "output_type": "error",
     "traceback": [
      "\u001b[0;31m---------------------------------------------------------------------------\u001b[0m",
      "\u001b[0;31mTypeError\u001b[0m                                 Traceback (most recent call last)",
      "\u001b[0;32m<ipython-input-164-a8d117fc8a6b>\u001b[0m in \u001b[0;36m<module>\u001b[0;34m()\u001b[0m\n\u001b[0;32m----> 1\u001b[0;31m \u001b[0mtransform_categ_mode\u001b[0m\u001b[0;34m(\u001b[0m\u001b[0mdf\u001b[0m\u001b[0;34m,\u001b[0m \u001b[0;34m'rent'\u001b[0m\u001b[0;34m)\u001b[0m\u001b[0;34m.\u001b[0m\u001b[0mrent\u001b[0m\u001b[0;34m.\u001b[0m\u001b[0mhead\u001b[0m\u001b[0;34m(\u001b[0m\u001b[0;34m)\u001b[0m\u001b[0;34m\u001b[0m\u001b[0m\n\u001b[0m",
      "\u001b[0;32m<ipython-input-160-54e8687651f2>\u001b[0m in \u001b[0;36mtransform_categ_mode\u001b[0;34m(df, category)\u001b[0m\n\u001b[1;32m     29\u001b[0m         \u001b[0mnew_df\u001b[0m\u001b[0;34m[\u001b[0m\u001b[0mcategory\u001b[0m\u001b[0;34m]\u001b[0m \u001b[0;34m=\u001b[0m \u001b[0mmax_categ_df\u001b[0m\u001b[0;34m.\u001b[0m\u001b[0mmap\u001b[0m\u001b[0;34m(\u001b[0m\u001b[0;32mlambda\u001b[0m \u001b[0mtxt\u001b[0m\u001b[0;34m:\u001b[0m \u001b[0mtxt\u001b[0m\u001b[0;34m.\u001b[0m\u001b[0mreplace\u001b[0m\u001b[0;34m(\u001b[0m\u001b[0;34m'school_'\u001b[0m\u001b[0;34m,\u001b[0m \u001b[0;34m''\u001b[0m\u001b[0;34m)\u001b[0m\u001b[0;34m)\u001b[0m\u001b[0;34m\u001b[0m\u001b[0m\n\u001b[1;32m     30\u001b[0m     \u001b[0;32melif\u001b[0m \u001b[0mcategory\u001b[0m \u001b[0;34m==\u001b[0m \u001b[0;34m'rent'\u001b[0m\u001b[0;34m:\u001b[0m\u001b[0;34m\u001b[0m\u001b[0m\n\u001b[0;32m---> 31\u001b[0;31m         \u001b[0mnew_df\u001b[0m\u001b[0;34m[\u001b[0m\u001b[0mcategory\u001b[0m\u001b[0;34m]\u001b[0m \u001b[0;34m=\u001b[0m \u001b[0mmax_categ_df\u001b[0m\u001b[0;34m.\u001b[0m\u001b[0mmap\u001b[0m\u001b[0;34m(\u001b[0m\u001b[0;32mlambda\u001b[0m \u001b[0mtxt\u001b[0m\u001b[0;34m:\u001b[0m \u001b[0mget_rent\u001b[0m\u001b[0;34m(\u001b[0m\u001b[0mtxt\u001b[0m\u001b[0;34m)\u001b[0m\u001b[0;34m)\u001b[0m\u001b[0;34m\u001b[0m\u001b[0m\n\u001b[0m\u001b[1;32m     32\u001b[0m     \u001b[0;32melif\u001b[0m \u001b[0mcategory\u001b[0m \u001b[0;34m==\u001b[0m \u001b[0;34m'income'\u001b[0m\u001b[0;34m:\u001b[0m\u001b[0;34m\u001b[0m\u001b[0m\n\u001b[1;32m     33\u001b[0m         \u001b[0mnew_df\u001b[0m\u001b[0;34m[\u001b[0m\u001b[0mcategory\u001b[0m\u001b[0;34m]\u001b[0m \u001b[0;34m=\u001b[0m \u001b[0mmax_categ_df\u001b[0m\u001b[0;34m.\u001b[0m\u001b[0mmap\u001b[0m\u001b[0;34m(\u001b[0m\u001b[0;32mlambda\u001b[0m \u001b[0mtxt\u001b[0m\u001b[0;34m:\u001b[0m \u001b[0mget_income\u001b[0m\u001b[0;34m(\u001b[0m\u001b[0mtxt\u001b[0m\u001b[0;34m)\u001b[0m\u001b[0;34m)\u001b[0m\u001b[0;34m\u001b[0m\u001b[0m\n",
      "\u001b[0;32m/home/ubuntu/anaconda2/lib/python2.7/site-packages/pandas/core/series.pyc\u001b[0m in \u001b[0;36mmap\u001b[0;34m(self, arg, na_action)\u001b[0m\n\u001b[1;32m   2102\u001b[0m             \u001b[0mnew_values\u001b[0m \u001b[0;34m=\u001b[0m \u001b[0malgos\u001b[0m\u001b[0;34m.\u001b[0m\u001b[0mtake_1d\u001b[0m\u001b[0;34m(\u001b[0m\u001b[0marg\u001b[0m\u001b[0;34m.\u001b[0m\u001b[0m_values\u001b[0m\u001b[0;34m,\u001b[0m \u001b[0mindexer\u001b[0m\u001b[0;34m)\u001b[0m\u001b[0;34m\u001b[0m\u001b[0m\n\u001b[1;32m   2103\u001b[0m         \u001b[0;32melse\u001b[0m\u001b[0;34m:\u001b[0m\u001b[0;34m\u001b[0m\u001b[0m\n\u001b[0;32m-> 2104\u001b[0;31m             \u001b[0mnew_values\u001b[0m \u001b[0;34m=\u001b[0m \u001b[0mmap_f\u001b[0m\u001b[0;34m(\u001b[0m\u001b[0mvalues\u001b[0m\u001b[0;34m,\u001b[0m \u001b[0marg\u001b[0m\u001b[0;34m)\u001b[0m\u001b[0;34m\u001b[0m\u001b[0m\n\u001b[0m\u001b[1;32m   2105\u001b[0m \u001b[0;34m\u001b[0m\u001b[0m\n\u001b[1;32m   2106\u001b[0m         return self._constructor(new_values,\n",
      "\u001b[0;32mpandas/src/inference.pyx\u001b[0m in \u001b[0;36mpandas.lib.map_infer (pandas/lib.c:62658)\u001b[0;34m()\u001b[0m\n",
      "\u001b[0;32m<ipython-input-160-54e8687651f2>\u001b[0m in \u001b[0;36m<lambda>\u001b[0;34m(txt)\u001b[0m\n\u001b[1;32m     29\u001b[0m         \u001b[0mnew_df\u001b[0m\u001b[0;34m[\u001b[0m\u001b[0mcategory\u001b[0m\u001b[0;34m]\u001b[0m \u001b[0;34m=\u001b[0m \u001b[0mmax_categ_df\u001b[0m\u001b[0;34m.\u001b[0m\u001b[0mmap\u001b[0m\u001b[0;34m(\u001b[0m\u001b[0;32mlambda\u001b[0m \u001b[0mtxt\u001b[0m\u001b[0;34m:\u001b[0m \u001b[0mtxt\u001b[0m\u001b[0;34m.\u001b[0m\u001b[0mreplace\u001b[0m\u001b[0;34m(\u001b[0m\u001b[0;34m'school_'\u001b[0m\u001b[0;34m,\u001b[0m \u001b[0;34m''\u001b[0m\u001b[0;34m)\u001b[0m\u001b[0;34m)\u001b[0m\u001b[0;34m\u001b[0m\u001b[0m\n\u001b[1;32m     30\u001b[0m     \u001b[0;32melif\u001b[0m \u001b[0mcategory\u001b[0m \u001b[0;34m==\u001b[0m \u001b[0;34m'rent'\u001b[0m\u001b[0;34m:\u001b[0m\u001b[0;34m\u001b[0m\u001b[0m\n\u001b[0;32m---> 31\u001b[0;31m         \u001b[0mnew_df\u001b[0m\u001b[0;34m[\u001b[0m\u001b[0mcategory\u001b[0m\u001b[0;34m]\u001b[0m \u001b[0;34m=\u001b[0m \u001b[0mmax_categ_df\u001b[0m\u001b[0;34m.\u001b[0m\u001b[0mmap\u001b[0m\u001b[0;34m(\u001b[0m\u001b[0;32mlambda\u001b[0m \u001b[0mtxt\u001b[0m\u001b[0;34m:\u001b[0m \u001b[0mget_rent\u001b[0m\u001b[0;34m(\u001b[0m\u001b[0mtxt\u001b[0m\u001b[0;34m)\u001b[0m\u001b[0;34m)\u001b[0m\u001b[0;34m\u001b[0m\u001b[0m\n\u001b[0m\u001b[1;32m     32\u001b[0m     \u001b[0;32melif\u001b[0m \u001b[0mcategory\u001b[0m \u001b[0;34m==\u001b[0m \u001b[0;34m'income'\u001b[0m\u001b[0;34m:\u001b[0m\u001b[0;34m\u001b[0m\u001b[0m\n\u001b[1;32m     33\u001b[0m         \u001b[0mnew_df\u001b[0m\u001b[0;34m[\u001b[0m\u001b[0mcategory\u001b[0m\u001b[0;34m]\u001b[0m \u001b[0;34m=\u001b[0m \u001b[0mmax_categ_df\u001b[0m\u001b[0;34m.\u001b[0m\u001b[0mmap\u001b[0m\u001b[0;34m(\u001b[0m\u001b[0;32mlambda\u001b[0m \u001b[0mtxt\u001b[0m\u001b[0;34m:\u001b[0m \u001b[0mget_income\u001b[0m\u001b[0;34m(\u001b[0m\u001b[0mtxt\u001b[0m\u001b[0;34m)\u001b[0m\u001b[0;34m)\u001b[0m\u001b[0;34m\u001b[0m\u001b[0m\n",
      "\u001b[0;32m<ipython-input-61-604ab2c3fae8>\u001b[0m in \u001b[0;36mget_rent\u001b[0;34m(txt)\u001b[0m\n\u001b[1;32m      1\u001b[0m \u001b[0;32mdef\u001b[0m \u001b[0mget_rent\u001b[0m\u001b[0;34m(\u001b[0m\u001b[0mtxt\u001b[0m\u001b[0;34m)\u001b[0m\u001b[0;34m:\u001b[0m\u001b[0;34m\u001b[0m\u001b[0m\n\u001b[0;32m----> 2\u001b[0;31m     \u001b[0;32mif\u001b[0m \u001b[0mtxt\u001b[0m\u001b[0;34m[\u001b[0m\u001b[0;34m-\u001b[0m\u001b[0;36m1\u001b[0m\u001b[0;34m]\u001b[0m \u001b[0;34m==\u001b[0m \u001b[0;34m'+'\u001b[0m\u001b[0;34m:\u001b[0m\u001b[0;34m\u001b[0m\u001b[0m\n\u001b[0m\u001b[1;32m      3\u001b[0m         \u001b[0;32mreturn\u001b[0m \u001b[0;36m3750\u001b[0m\u001b[0;34m\u001b[0m\u001b[0m\n\u001b[1;32m      4\u001b[0m     \u001b[0;32melse\u001b[0m\u001b[0;34m:\u001b[0m\u001b[0;34m\u001b[0m\u001b[0m\n\u001b[1;32m      5\u001b[0m         \u001b[0mregex\u001b[0m \u001b[0;34m=\u001b[0m \u001b[0mre\u001b[0m\u001b[0;34m.\u001b[0m\u001b[0mcompile\u001b[0m\u001b[0;34m(\u001b[0m\u001b[0;34mr'rent_(\\d+)_(\\d+)'\u001b[0m\u001b[0;34m)\u001b[0m\u001b[0;34m\u001b[0m\u001b[0m\n",
      "\u001b[0;31mTypeError\u001b[0m: 'float' object has no attribute '__getitem__'"
     ]
    }
   ],
   "source": [
    "transform_categ_mode(df, 'rent').rent.head()"
   ]
  },
  {
   "cell_type": "code",
   "execution_count": 125,
   "metadata": {
    "collapsed": false
   },
   "outputs": [
    {
     "ename": "AttributeError",
     "evalue": "'float' object has no attribute 'replace'",
     "output_type": "error",
     "traceback": [
      "\u001b[0;31m---------------------------------------------------------------------------\u001b[0m",
      "\u001b[0;31mAttributeError\u001b[0m                            Traceback (most recent call last)",
      "\u001b[0;32m<ipython-input-125-c1863f088a2c>\u001b[0m in \u001b[0;36m<module>\u001b[0;34m()\u001b[0m\n\u001b[1;32m      1\u001b[0m \u001b[0;32mfor\u001b[0m \u001b[0mcateg\u001b[0m \u001b[0;32min\u001b[0m \u001b[0;34m[\u001b[0m\u001b[0;34m'school'\u001b[0m\u001b[0;34m,\u001b[0m \u001b[0;34m'housing'\u001b[0m\u001b[0;34m,\u001b[0m \u001b[0;34m'bedroom'\u001b[0m\u001b[0;34m,\u001b[0m \u001b[0;34m'value'\u001b[0m\u001b[0;34m,\u001b[0m \u001b[0;34m'rent'\u001b[0m\u001b[0;34m,\u001b[0m \u001b[0;34m'income'\u001b[0m\u001b[0;34m]\u001b[0m\u001b[0;34m:\u001b[0m\u001b[0;34m\u001b[0m\u001b[0m\n\u001b[0;32m----> 2\u001b[0;31m     \u001b[0mdf\u001b[0m \u001b[0;34m=\u001b[0m \u001b[0mtransform_categ_mode\u001b[0m\u001b[0;34m(\u001b[0m\u001b[0mdf\u001b[0m\u001b[0;34m,\u001b[0m \u001b[0mcateg\u001b[0m\u001b[0;34m)\u001b[0m\u001b[0;34m\u001b[0m\u001b[0m\n\u001b[0m\u001b[1;32m      3\u001b[0m \u001b[0;34m\u001b[0m\u001b[0m\n\u001b[1;32m      4\u001b[0m \u001b[0mdf\u001b[0m\u001b[0;34m.\u001b[0m\u001b[0mshape\u001b[0m\u001b[0;34m\u001b[0m\u001b[0m\n",
      "\u001b[0;32m<ipython-input-120-dea1d2abdfb1>\u001b[0m in \u001b[0;36mtransform_categ_mode\u001b[0;34m(df, category)\u001b[0m\n\u001b[1;32m     26\u001b[0m         \u001b[0mnew_df\u001b[0m\u001b[0;34m[\u001b[0m\u001b[0mcategory\u001b[0m\u001b[0;34m]\u001b[0m \u001b[0;34m=\u001b[0m \u001b[0mmax_categ_df\u001b[0m\u001b[0;34m.\u001b[0m\u001b[0mmap\u001b[0m\u001b[0;34m(\u001b[0m\u001b[0;32mlambda\u001b[0m \u001b[0mtxt\u001b[0m\u001b[0;34m:\u001b[0m \u001b[0mget_bedroom\u001b[0m\u001b[0;34m(\u001b[0m\u001b[0mtxt\u001b[0m\u001b[0;34m)\u001b[0m\u001b[0;34m)\u001b[0m\u001b[0;34m\u001b[0m\u001b[0m\n\u001b[1;32m     27\u001b[0m     \u001b[0;32melif\u001b[0m \u001b[0mcategory\u001b[0m \u001b[0;34m==\u001b[0m \u001b[0;34m'school'\u001b[0m\u001b[0;34m:\u001b[0m\u001b[0;34m\u001b[0m\u001b[0m\n\u001b[0;32m---> 28\u001b[0;31m         \u001b[0mnew_df\u001b[0m\u001b[0;34m[\u001b[0m\u001b[0mcategory\u001b[0m\u001b[0;34m]\u001b[0m \u001b[0;34m=\u001b[0m \u001b[0mmax_categ_df\u001b[0m\u001b[0;34m.\u001b[0m\u001b[0mmap\u001b[0m\u001b[0;34m(\u001b[0m\u001b[0;32mlambda\u001b[0m \u001b[0mtxt\u001b[0m\u001b[0;34m:\u001b[0m \u001b[0mtxt\u001b[0m\u001b[0;34m.\u001b[0m\u001b[0mreplace\u001b[0m\u001b[0;34m(\u001b[0m\u001b[0;34m'school_'\u001b[0m\u001b[0;34m,\u001b[0m \u001b[0;34m''\u001b[0m\u001b[0;34m)\u001b[0m\u001b[0;34m)\u001b[0m\u001b[0;34m\u001b[0m\u001b[0m\n\u001b[0m\u001b[1;32m     29\u001b[0m     \u001b[0;32melif\u001b[0m \u001b[0mcategory\u001b[0m \u001b[0;34m==\u001b[0m \u001b[0;34m'rent'\u001b[0m\u001b[0;34m:\u001b[0m\u001b[0;34m\u001b[0m\u001b[0m\n\u001b[1;32m     30\u001b[0m         \u001b[0mnew_df\u001b[0m\u001b[0;34m[\u001b[0m\u001b[0mcategory\u001b[0m\u001b[0;34m]\u001b[0m \u001b[0;34m=\u001b[0m \u001b[0mmax_categ_df\u001b[0m\u001b[0;34m.\u001b[0m\u001b[0mmap\u001b[0m\u001b[0;34m(\u001b[0m\u001b[0;32mlambda\u001b[0m \u001b[0mtxt\u001b[0m\u001b[0;34m:\u001b[0m \u001b[0mget_rent\u001b[0m\u001b[0;34m(\u001b[0m\u001b[0mtxt\u001b[0m\u001b[0;34m)\u001b[0m\u001b[0;34m)\u001b[0m\u001b[0;34m\u001b[0m\u001b[0m\n",
      "\u001b[0;32m/home/ubuntu/anaconda2/lib/python2.7/site-packages/pandas/core/series.pyc\u001b[0m in \u001b[0;36mmap\u001b[0;34m(self, arg, na_action)\u001b[0m\n\u001b[1;32m   2102\u001b[0m             \u001b[0mnew_values\u001b[0m \u001b[0;34m=\u001b[0m \u001b[0malgos\u001b[0m\u001b[0;34m.\u001b[0m\u001b[0mtake_1d\u001b[0m\u001b[0;34m(\u001b[0m\u001b[0marg\u001b[0m\u001b[0;34m.\u001b[0m\u001b[0m_values\u001b[0m\u001b[0;34m,\u001b[0m \u001b[0mindexer\u001b[0m\u001b[0;34m)\u001b[0m\u001b[0;34m\u001b[0m\u001b[0m\n\u001b[1;32m   2103\u001b[0m         \u001b[0;32melse\u001b[0m\u001b[0;34m:\u001b[0m\u001b[0;34m\u001b[0m\u001b[0m\n\u001b[0;32m-> 2104\u001b[0;31m             \u001b[0mnew_values\u001b[0m \u001b[0;34m=\u001b[0m \u001b[0mmap_f\u001b[0m\u001b[0;34m(\u001b[0m\u001b[0mvalues\u001b[0m\u001b[0;34m,\u001b[0m \u001b[0marg\u001b[0m\u001b[0;34m)\u001b[0m\u001b[0;34m\u001b[0m\u001b[0m\n\u001b[0m\u001b[1;32m   2105\u001b[0m \u001b[0;34m\u001b[0m\u001b[0m\n\u001b[1;32m   2106\u001b[0m         return self._constructor(new_values,\n",
      "\u001b[0;32mpandas/src/inference.pyx\u001b[0m in \u001b[0;36mpandas.lib.map_infer (pandas/lib.c:62658)\u001b[0;34m()\u001b[0m\n",
      "\u001b[0;32m<ipython-input-120-dea1d2abdfb1>\u001b[0m in \u001b[0;36m<lambda>\u001b[0;34m(txt)\u001b[0m\n\u001b[1;32m     26\u001b[0m         \u001b[0mnew_df\u001b[0m\u001b[0;34m[\u001b[0m\u001b[0mcategory\u001b[0m\u001b[0;34m]\u001b[0m \u001b[0;34m=\u001b[0m \u001b[0mmax_categ_df\u001b[0m\u001b[0;34m.\u001b[0m\u001b[0mmap\u001b[0m\u001b[0;34m(\u001b[0m\u001b[0;32mlambda\u001b[0m \u001b[0mtxt\u001b[0m\u001b[0;34m:\u001b[0m \u001b[0mget_bedroom\u001b[0m\u001b[0;34m(\u001b[0m\u001b[0mtxt\u001b[0m\u001b[0;34m)\u001b[0m\u001b[0;34m)\u001b[0m\u001b[0;34m\u001b[0m\u001b[0m\n\u001b[1;32m     27\u001b[0m     \u001b[0;32melif\u001b[0m \u001b[0mcategory\u001b[0m \u001b[0;34m==\u001b[0m \u001b[0;34m'school'\u001b[0m\u001b[0;34m:\u001b[0m\u001b[0;34m\u001b[0m\u001b[0m\n\u001b[0;32m---> 28\u001b[0;31m         \u001b[0mnew_df\u001b[0m\u001b[0;34m[\u001b[0m\u001b[0mcategory\u001b[0m\u001b[0;34m]\u001b[0m \u001b[0;34m=\u001b[0m \u001b[0mmax_categ_df\u001b[0m\u001b[0;34m.\u001b[0m\u001b[0mmap\u001b[0m\u001b[0;34m(\u001b[0m\u001b[0;32mlambda\u001b[0m \u001b[0mtxt\u001b[0m\u001b[0;34m:\u001b[0m \u001b[0mtxt\u001b[0m\u001b[0;34m.\u001b[0m\u001b[0mreplace\u001b[0m\u001b[0;34m(\u001b[0m\u001b[0;34m'school_'\u001b[0m\u001b[0;34m,\u001b[0m \u001b[0;34m''\u001b[0m\u001b[0;34m)\u001b[0m\u001b[0;34m)\u001b[0m\u001b[0;34m\u001b[0m\u001b[0m\n\u001b[0m\u001b[1;32m     29\u001b[0m     \u001b[0;32melif\u001b[0m \u001b[0mcategory\u001b[0m \u001b[0;34m==\u001b[0m \u001b[0;34m'rent'\u001b[0m\u001b[0;34m:\u001b[0m\u001b[0;34m\u001b[0m\u001b[0m\n\u001b[1;32m     30\u001b[0m         \u001b[0mnew_df\u001b[0m\u001b[0;34m[\u001b[0m\u001b[0mcategory\u001b[0m\u001b[0;34m]\u001b[0m \u001b[0;34m=\u001b[0m \u001b[0mmax_categ_df\u001b[0m\u001b[0;34m.\u001b[0m\u001b[0mmap\u001b[0m\u001b[0;34m(\u001b[0m\u001b[0;32mlambda\u001b[0m \u001b[0mtxt\u001b[0m\u001b[0;34m:\u001b[0m \u001b[0mget_rent\u001b[0m\u001b[0;34m(\u001b[0m\u001b[0mtxt\u001b[0m\u001b[0;34m)\u001b[0m\u001b[0;34m)\u001b[0m\u001b[0;34m\u001b[0m\u001b[0m\n",
      "\u001b[0;31mAttributeError\u001b[0m: 'float' object has no attribute 'replace'"
     ]
    }
   ],
   "source": [
    "for categ in ['school', 'housing', 'bedroom', 'value', 'rent', 'income']:\n",
    "    df = transform_categ_mode(df, categ)\n",
    "    \n",
    "df.shape"
   ]
  },
  {
   "cell_type": "markdown",
   "metadata": {},
   "source": [
    "## Now to make percentages for Poverty and Race"
   ]
  },
  {
   "cell_type": "code",
   "execution_count": 111,
   "metadata": {
    "collapsed": true
   },
   "outputs": [],
   "source": [
    "def transform_poverty_race(df, category):\n",
    "    assert category in ('race', 'poverty')\n",
    "    d = {\n",
    "        'poverty': 'poverty_total_pop', \n",
    "        'race': 'race_total'\n",
    "    } \n",
    "    \n",
    "    total_col_name = d[category]\n",
    "    new_df = df[[col for col in df.columns if category + '_' == col[:len(category) + 1]]]\n",
    "    df_transformed_values = zip(*new_df.apply(\n",
    "        lambda row: [row[list(new_df.columns).index(col)] / row[total_col_name] for col in new_df.columns if col != total_col_name],\n",
    "        axis=1)\n",
    "    )    \n",
    "    \n",
    "    if category == 'poverty':\n",
    "        new_df['poverty_pop_below_poverty_level'], \\\n",
    "            new_df['poverty_pop_w_public_assistance'], \\\n",
    "            new_df['poverty_pop_w_food_stamps'], \\\n",
    "            new_df['poverty_pop_w_ssi'] = df_transformed_values\n",
    "    elif category == 'race':\n",
    "        new_df['race_white'], \\\n",
    "            new_df['race_black'], \\\n",
    "            new_df['race_asian'], \\\n",
    "            new_df['race_hispanic'], \\\n",
    "            new_df['race_other'] = df_transformed_values\n",
    "    \n",
    "    return new_df.drop(total_col_name, axis=1)"
   ]
  },
  {
   "cell_type": "code",
   "execution_count": null,
   "metadata": {
    "collapsed": true
   },
   "outputs": [],
   "source": [
    "for categ in ('race', 'poverty'):\n",
    "    df = transform_poverty_race(df, categ)\n",
    "    \n",
    "df.shape"
   ]
  },
  {
   "cell_type": "code",
   "execution_count": null,
   "metadata": {
    "collapsed": true
   },
   "outputs": [],
   "source": [
    "df.head(1).T"
   ]
  }
 ],
 "metadata": {
  "anaconda-cloud": {},
  "kernelspec": {
   "display_name": "Python [conda root]",
   "language": "python",
   "name": "conda-root-py"
  },
  "language_info": {
   "codemirror_mode": {
    "name": "ipython",
    "version": 2
   },
   "file_extension": ".py",
   "mimetype": "text/x-python",
   "name": "python",
   "nbconvert_exporter": "python",
   "pygments_lexer": "ipython2",
   "version": "2.7.12"
  }
 },
 "nbformat": 4,
 "nbformat_minor": 1
}
