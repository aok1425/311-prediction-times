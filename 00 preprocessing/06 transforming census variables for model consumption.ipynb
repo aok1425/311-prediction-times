{
 "cells": [
  {
   "cell_type": "markdown",
   "metadata": {},
   "source": [
    "As per my EDA into the distribution of Census variables (i.e. income, rent, bedrooms) by Census block group, I will transform School, Bedroom, Value, Rent, and Income into the mode for each row. \n",
    "\n",
    "I can further transform Bedroom, Value, Rent, and Income to numerical values.\n",
    "\n",
    "For Poverty and Race, I will transform the counts into percentages."
   ]
  },
  {
   "cell_type": "code",
   "execution_count": 1,
   "metadata": {
    "collapsed": true
   },
   "outputs": [],
   "source": [
    "from __future__ import division\n",
    "import pandas as pd\n",
    "from IPython.display import display\n",
    "import re"
   ]
  },
  {
   "cell_type": "code",
   "execution_count": 2,
   "metadata": {
    "collapsed": false
   },
   "outputs": [
    {
     "data": {
      "text/plain": [
       "(905650, 155)"
      ]
     },
     "execution_count": 2,
     "metadata": {},
     "output_type": "execute_result"
    }
   ],
   "source": [
    "df = pd.read_hdf('../data/data_w_descs_and_census.h5')\n",
    "df.shape"
   ]
  },
  {
   "cell_type": "code",
   "execution_count": 3,
   "metadata": {
    "collapsed": true
   },
   "outputs": [],
   "source": [
    "# old_df = df.copy()"
   ]
  },
  {
   "cell_type": "markdown",
   "metadata": {},
   "source": [
    "## Transforming first set of categories"
   ]
  },
  {
   "cell_type": "code",
   "execution_count": 4,
   "metadata": {
    "collapsed": true
   },
   "outputs": [],
   "source": [
    "def get_bedroom(txt):\n",
    "    if txt[-1] == '+':\n",
    "        return 6 # I chose this arbitrarily over 5\n",
    "    else:\n",
    "        return int(txt[-1])"
   ]
  },
  {
   "cell_type": "code",
   "execution_count": 5,
   "metadata": {
    "collapsed": true
   },
   "outputs": [],
   "source": [
    "def get_rent(txt):\n",
    "    if txt[-1] == '+':\n",
    "        return 3750\n",
    "    else:\n",
    "        regex = re.compile(r'rent_(\\d+)_(\\d+)')\n",
    "        match = regex.search(txt)\n",
    "        low, high = [int(i) for i in match.groups()]\n",
    "        return int((high + low) / 2) + 1"
   ]
  },
  {
   "cell_type": "code",
   "execution_count": 6,
   "metadata": {
    "collapsed": true
   },
   "outputs": [],
   "source": [
    "def get_income(txt):\n",
    "    if txt[-1] == '+':\n",
    "        return 250000\n",
    "    else:\n",
    "        regex = re.compile(r'income_(\\d+)_(\\d+)')\n",
    "        match = regex.search(txt)\n",
    "        low, high = [int(i) for i in match.groups()]\n",
    "        return int((high + low) / 2) + 1        "
   ]
  },
  {
   "cell_type": "code",
   "execution_count": 7,
   "metadata": {
    "collapsed": true
   },
   "outputs": [],
   "source": [
    "def get_value(txt):\n",
    "    if txt[-1] == '+':\n",
    "        return 2.5e6\n",
    "    else:\n",
    "        regex = re.compile(r'value_(\\d+)_(\\d+)')\n",
    "        match = regex.search(txt)\n",
    "        low, high = [int(i) for i in match.groups()]\n",
    "        return int((high + low) / 2) + 1        "
   ]
  },
  {
   "cell_type": "code",
   "execution_count": 8,
   "metadata": {
    "collapsed": false
   },
   "outputs": [],
   "source": [
    "def transform_categ_mode(df, category):\n",
    "    if category in ('race', 'poverty'):\n",
    "        raise Exception('not gonna transform those categs')\n",
    "    \n",
    "    d = {\n",
    "        'bedroom': 'bedroom_total_ppl', \n",
    "        'school': 'school_total', \n",
    "        'rent': 'rent_total', \n",
    "        'income': 'income_total', \n",
    "        'value': 'value_total',\n",
    "        'housing': 'housing_total'\n",
    "    }\n",
    "    assert category in d.keys()\n",
    "    \n",
    "    category_total_col = d[category]\n",
    "    category_cols = [col for col in df.columns if category + '_' == col[:len(category) + 1]]\n",
    "    categ_df = df[category_cols]\n",
    "    \n",
    "    if category == 'income': # super-hacky, but this is a one-time process\n",
    "        categ_df = categ_df.drop('income_per_capita', axis=1)\n",
    "    \n",
    "    max_categ_df = categ_df[[col for col in categ_df.columns if col != category_total_col]].idxmax(axis=1)\n",
    "#     return max_categ_df\n",
    "    new_df = df.drop(category_cols, axis=1)    \n",
    "    \n",
    "    if category == 'bedroom':\n",
    "        new_df[category] = max_categ_df.map(lambda txt: get_bedroom(txt))\n",
    "    elif category == 'school':\n",
    "        new_df[category] = max_categ_df.map(lambda txt: txt.replace('school_', ''))\n",
    "    elif category == 'rent':\n",
    "        new_df[category] = max_categ_df.map(lambda txt: get_rent(txt))\n",
    "    elif category == 'income':\n",
    "        new_df[category] = max_categ_df.map(lambda txt: get_income(txt))\n",
    "    elif category == 'value':\n",
    "        new_df[category] = max_categ_df.map(lambda txt: get_value(txt)) \n",
    "    elif category == 'housing':\n",
    "        new_df[category] = max_categ_df.map(lambda txt: txt[8:])\n",
    "        \n",
    "    return new_df"
   ]
  },
  {
   "cell_type": "raw",
   "metadata": {},
   "source": [
    "NB: for categs like 200000+, I choose a relatively modest figure of like 250k"
   ]
  },
  {
   "cell_type": "markdown",
   "metadata": {},
   "source": [
    "## Now we start the transformations"
   ]
  },
  {
   "cell_type": "code",
   "execution_count": 9,
   "metadata": {
    "collapsed": false
   },
   "outputs": [
    {
     "data": {
      "text/plain": [
       "(905650, 155)"
      ]
     },
     "execution_count": 9,
     "metadata": {},
     "output_type": "execute_result"
    }
   ],
   "source": [
    "df.shape"
   ]
  },
  {
   "cell_type": "code",
   "execution_count": 10,
   "metadata": {
    "collapsed": false
   },
   "outputs": [
    {
     "data": {
      "text/plain": [
       "(905205, 131)"
      ]
     },
     "execution_count": 10,
     "metadata": {},
     "output_type": "execute_result"
    }
   ],
   "source": [
    "df1 = transform_categ_mode(df.dropna(subset=['housing_own']), 'school')\n",
    "df1.shape"
   ]
  },
  {
   "cell_type": "code",
   "execution_count": 11,
   "metadata": {
    "collapsed": false
   },
   "outputs": [
    {
     "data": {
      "text/plain": [
       "(905205, 129)"
      ]
     },
     "execution_count": 11,
     "metadata": {},
     "output_type": "execute_result"
    }
   ],
   "source": [
    "df2 = transform_categ_mode(df1, 'housing')\n",
    "df2.shape"
   ]
  },
  {
   "cell_type": "code",
   "execution_count": 12,
   "metadata": {
    "collapsed": false
   },
   "outputs": [
    {
     "data": {
      "text/plain": [
       "(905205, 123)"
      ]
     },
     "execution_count": 12,
     "metadata": {},
     "output_type": "execute_result"
    }
   ],
   "source": [
    "df3 = transform_categ_mode(df2, 'bedroom')\n",
    "df3.shape"
   ]
  },
  {
   "cell_type": "code",
   "execution_count": 13,
   "metadata": {
    "collapsed": false
   },
   "outputs": [
    {
     "data": {
      "text/plain": [
       "(905205, 97)"
      ]
     },
     "execution_count": 13,
     "metadata": {},
     "output_type": "execute_result"
    }
   ],
   "source": [
    "df4 = transform_categ_mode(df3, 'value')\n",
    "df4.shape"
   ]
  },
  {
   "cell_type": "code",
   "execution_count": 14,
   "metadata": {
    "collapsed": false
   },
   "outputs": [
    {
     "data": {
      "text/plain": [
       "(905205, 73)"
      ]
     },
     "execution_count": 14,
     "metadata": {},
     "output_type": "execute_result"
    }
   ],
   "source": [
    "df5 = transform_categ_mode(df4, 'rent')\n",
    "df5.shape"
   ]
  },
  {
   "cell_type": "code",
   "execution_count": 15,
   "metadata": {
    "collapsed": false
   },
   "outputs": [
    {
     "data": {
      "text/plain": [
       "(905205, 56)"
      ]
     },
     "execution_count": 15,
     "metadata": {},
     "output_type": "execute_result"
    }
   ],
   "source": [
    "df6 = transform_categ_mode(df5, 'income')\n",
    "df6.shape"
   ]
  },
  {
   "cell_type": "markdown",
   "metadata": {},
   "source": [
    "## Now to make percentages for Poverty and Race"
   ]
  },
  {
   "cell_type": "code",
   "execution_count": 16,
   "metadata": {
    "collapsed": true
   },
   "outputs": [],
   "source": [
    "def transform_poverty_race(df, category):\n",
    "    df = df.copy()\n",
    "    assert category in ('race', 'poverty')\n",
    "    d = {\n",
    "        'poverty': 'poverty_total_pop', \n",
    "        'race': 'race_total'\n",
    "    } \n",
    "    \n",
    "    total_col_name = d[category]\n",
    "    new_df = df[[col for col in df.columns if category + '_' == col[:len(category) + 1]]]\n",
    "    df_transformed_values = zip(*new_df.apply(\n",
    "        lambda row: [row[list(new_df.columns).index(col)] / row[total_col_name] for col in new_df.columns if col != total_col_name],\n",
    "        axis=1)\n",
    "    )    \n",
    "    \n",
    "    if category == 'poverty':\n",
    "        df['poverty_pop_below_poverty_level'], \\\n",
    "            df['poverty_pop_w_public_assistance'], \\\n",
    "            df['poverty_pop_w_food_stamps'], \\\n",
    "            df['poverty_pop_w_ssi'] = df_transformed_values\n",
    "    elif category == 'race':\n",
    "        df['race_white'], \\\n",
    "            df['race_black'], \\\n",
    "            df['race_asian'], \\\n",
    "            df['race_hispanic'], \\\n",
    "            df['race_other'] = df_transformed_values\n",
    "\n",
    "    return df.drop(total_col_name, axis=1)"
   ]
  },
  {
   "cell_type": "code",
   "execution_count": 17,
   "metadata": {
    "collapsed": false
   },
   "outputs": [
    {
     "data": {
      "text/plain": [
       "(905205, 55)"
      ]
     },
     "execution_count": 17,
     "metadata": {},
     "output_type": "execute_result"
    }
   ],
   "source": [
    "df7 = transform_poverty_race(df6, 'race')\n",
    "df7.shape"
   ]
  },
  {
   "cell_type": "code",
   "execution_count": 18,
   "metadata": {
    "collapsed": false
   },
   "outputs": [
    {
     "data": {
      "text/plain": [
       "(905205, 54)"
      ]
     },
     "execution_count": 18,
     "metadata": {},
     "output_type": "execute_result"
    }
   ],
   "source": [
    "df8 = transform_poverty_race(df7, 'poverty')\n",
    "df8.shape"
   ]
  },
  {
   "cell_type": "markdown",
   "metadata": {},
   "source": [
    "## Let's look at one row"
   ]
  },
  {
   "cell_type": "code",
   "execution_count": 19,
   "metadata": {
    "collapsed": false
   },
   "outputs": [
    {
     "data": {
      "text/html": [
       "<div>\n",
       "<table border=\"1\" class=\"dataframe\">\n",
       "  <thead>\n",
       "    <tr style=\"text-align: right;\">\n",
       "      <th></th>\n",
       "      <th>101</th>\n",
       "    </tr>\n",
       "  </thead>\n",
       "  <tbody>\n",
       "    <tr>\n",
       "      <th>tract_and_block_group</th>\n",
       "      <td>0406001</td>\n",
       "    </tr>\n",
       "    <tr>\n",
       "      <th>race_white</th>\n",
       "      <td>0.728709</td>\n",
       "    </tr>\n",
       "    <tr>\n",
       "      <th>race_black</th>\n",
       "      <td>0.114135</td>\n",
       "    </tr>\n",
       "    <tr>\n",
       "      <th>race_asian</th>\n",
       "      <td>0.0561896</td>\n",
       "    </tr>\n",
       "    <tr>\n",
       "      <th>race_hispanic</th>\n",
       "      <td>0.0412643</td>\n",
       "    </tr>\n",
       "    <tr>\n",
       "      <th>race_other</th>\n",
       "      <td>0.0597015</td>\n",
       "    </tr>\n",
       "    <tr>\n",
       "      <th>poverty_pop_below_poverty_level</th>\n",
       "      <td>0.0443038</td>\n",
       "    </tr>\n",
       "    <tr>\n",
       "      <th>poverty_pop_w_public_assistance</th>\n",
       "      <td>0.0147679</td>\n",
       "    </tr>\n",
       "    <tr>\n",
       "      <th>poverty_pop_w_food_stamps</th>\n",
       "      <td>0.0590717</td>\n",
       "    </tr>\n",
       "    <tr>\n",
       "      <th>poverty_pop_w_ssi</th>\n",
       "      <td>0.0147679</td>\n",
       "    </tr>\n",
       "    <tr>\n",
       "      <th>COMPLETION_TIME</th>\n",
       "      <td>2.30722</td>\n",
       "    </tr>\n",
       "    <tr>\n",
       "      <th>school</th>\n",
       "      <td>20_bachelors</td>\n",
       "    </tr>\n",
       "    <tr>\n",
       "      <th>housing</th>\n",
       "      <td>rent</td>\n",
       "    </tr>\n",
       "    <tr>\n",
       "      <th>bedroom</th>\n",
       "      <td>1</td>\n",
       "    </tr>\n",
       "    <tr>\n",
       "      <th>value</th>\n",
       "      <td>450000</td>\n",
       "    </tr>\n",
       "    <tr>\n",
       "      <th>rent</th>\n",
       "      <td>2250</td>\n",
       "    </tr>\n",
       "    <tr>\n",
       "      <th>income</th>\n",
       "      <td>112500</td>\n",
       "    </tr>\n",
       "  </tbody>\n",
       "</table>\n",
       "</div>"
      ],
      "text/plain": [
       "                                          101\n",
       "tract_and_block_group                 0406001\n",
       "race_white                           0.728709\n",
       "race_black                           0.114135\n",
       "race_asian                          0.0561896\n",
       "race_hispanic                       0.0412643\n",
       "race_other                          0.0597015\n",
       "poverty_pop_below_poverty_level     0.0443038\n",
       "poverty_pop_w_public_assistance     0.0147679\n",
       "poverty_pop_w_food_stamps           0.0590717\n",
       "poverty_pop_w_ssi                   0.0147679\n",
       "COMPLETION_TIME                       2.30722\n",
       "school                           20_bachelors\n",
       "housing                                  rent\n",
       "bedroom                                     1\n",
       "value                                  450000\n",
       "rent                                     2250\n",
       "income                                 112500"
      ]
     },
     "execution_count": 19,
     "metadata": {},
     "output_type": "execute_result"
    }
   ],
   "source": [
    "df8.iloc[100:101].T.loc['tract_and_block_group':]"
   ]
  },
  {
   "cell_type": "markdown",
   "metadata": {},
   "source": [
    "## Let's save"
   ]
  },
  {
   "cell_type": "code",
   "execution_count": 20,
   "metadata": {
    "collapsed": true
   },
   "outputs": [],
   "source": [
    "df9 = df8.drop(['case_enquiry_id', 'description', 'specific_location', 'title', 'Geocoded_Location', 'ClosedPhoto'], axis=1)"
   ]
  },
  {
   "cell_type": "code",
   "execution_count": 21,
   "metadata": {
    "collapsed": true
   },
   "outputs": [],
   "source": [
    "df9.to_pickle('../data/data_w_transformed_census.pkl')"
   ]
  },
  {
   "cell_type": "code",
   "execution_count": 22,
   "metadata": {
    "collapsed": false
   },
   "outputs": [
    {
     "name": "stdout",
     "output_type": "stream",
     "text": [
      "-rw-rw-r-- 1 ubuntu ubuntu 539M Feb  1 00:12 ../data/data_w_descs_and_transformed_census.pkl\r\n"
     ]
    }
   ],
   "source": [
    "!ls -lh ../data/data_w_descs_and_transformed_census.pkl"
   ]
  }
 ],
 "metadata": {
  "anaconda-cloud": {},
  "kernelspec": {
   "display_name": "Python [conda root]",
   "language": "python",
   "name": "conda-root-py"
  },
  "language_info": {
   "codemirror_mode": {
    "name": "ipython",
    "version": 2
   },
   "file_extension": ".py",
   "mimetype": "text/x-python",
   "name": "python",
   "nbconvert_exporter": "python",
   "pygments_lexer": "ipython2",
   "version": "2.7.12"
  }
 },
 "nbformat": 4,
 "nbformat_minor": 1
}
