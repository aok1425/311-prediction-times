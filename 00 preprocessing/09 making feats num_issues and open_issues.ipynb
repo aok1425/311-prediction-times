{
 "cells": [
  {
   "cell_type": "code",
   "execution_count": 1,
   "metadata": {
    "collapsed": true
   },
   "outputs": [],
   "source": [
    "from __future__ import division\n",
    "import pandas as pd\n",
    "import warnings\n",
    "import seaborn as sns\n",
    "import matplotlib.pyplot as plt\n",
    "from pylab import rcParams\n",
    "%matplotlib inline\n",
    "\n",
    "rcParams['figure.figsize'] = 20, 5\n",
    "warnings.filterwarnings(\"ignore\", category=DeprecationWarning)\n",
    "sns.set_style(\"whitegrid\")\n",
    "sns.set_context(\"poster\")\n",
    "\n",
    "# from scipy.sparse import csc_matrix\n",
    "# from zipcode_mapping import zipcode_mapping"
   ]
  },
  {
   "cell_type": "code",
   "execution_count": 16,
   "metadata": {
    "collapsed": true
   },
   "outputs": [],
   "source": [
    "from datetime import timedelta"
   ]
  },
  {
   "cell_type": "code",
   "execution_count": 12,
   "metadata": {
    "collapsed": false
   },
   "outputs": [
    {
     "data": {
      "text/plain": [
       "(520860, 27)"
      ]
     },
     "execution_count": 12,
     "metadata": {},
     "output_type": "execute_result"
    }
   ],
   "source": [
    "df = pd.read_pickle('../data/data_w_transformed_census_and_removed_invalid_rows_and_cols_and_fixed_zips_and_descs_and_dropped_latlongs_and_more_dropped_cols_and_rows.pkl')\n",
    "df.shape"
   ]
  },
  {
   "cell_type": "code",
   "execution_count": 13,
   "metadata": {
    "collapsed": false
   },
   "outputs": [
    {
     "data": {
      "text/html": [
       "<div>\n",
       "<table border=\"1\" class=\"dataframe\">\n",
       "  <thead>\n",
       "    <tr style=\"text-align: right;\">\n",
       "      <th></th>\n",
       "      <th>905425</th>\n",
       "    </tr>\n",
       "  </thead>\n",
       "  <tbody>\n",
       "    <tr>\n",
       "      <th>CASE_ENQUIRY_ID</th>\n",
       "      <td>101001983786</td>\n",
       "    </tr>\n",
       "    <tr>\n",
       "      <th>OPEN_DT</th>\n",
       "      <td>2017-01-07 10:51:37</td>\n",
       "    </tr>\n",
       "    <tr>\n",
       "      <th>CLOSED_DT</th>\n",
       "      <td>2017-01-07 11:46:43</td>\n",
       "    </tr>\n",
       "    <tr>\n",
       "      <th>TYPE</th>\n",
       "      <td>Request for Snow Plowing</td>\n",
       "    </tr>\n",
       "    <tr>\n",
       "      <th>SubmittedPhoto</th>\n",
       "      <td>True</td>\n",
       "    </tr>\n",
       "    <tr>\n",
       "      <th>Property_Type</th>\n",
       "      <td>Address</td>\n",
       "    </tr>\n",
       "    <tr>\n",
       "      <th>LATITUDE</th>\n",
       "      <td>42.2809</td>\n",
       "    </tr>\n",
       "    <tr>\n",
       "      <th>LONGITUDE</th>\n",
       "      <td>-71.068</td>\n",
       "    </tr>\n",
       "    <tr>\n",
       "      <th>Source</th>\n",
       "      <td>Citizens Connect App</td>\n",
       "    </tr>\n",
       "    <tr>\n",
       "      <th>race_white</th>\n",
       "      <td>0.242399</td>\n",
       "    </tr>\n",
       "    <tr>\n",
       "      <th>race_black</th>\n",
       "      <td>0.514358</td>\n",
       "    </tr>\n",
       "    <tr>\n",
       "      <th>race_asian</th>\n",
       "      <td>0.035473</td>\n",
       "    </tr>\n",
       "    <tr>\n",
       "      <th>race_hispanic</th>\n",
       "      <td>0.0675676</td>\n",
       "    </tr>\n",
       "    <tr>\n",
       "      <th>race_other</th>\n",
       "      <td>0.140203</td>\n",
       "    </tr>\n",
       "    <tr>\n",
       "      <th>poverty_pop_below_poverty_level</th>\n",
       "      <td>0</td>\n",
       "    </tr>\n",
       "    <tr>\n",
       "      <th>poverty_pop_w_public_assistance</th>\n",
       "      <td>0.0597484</td>\n",
       "    </tr>\n",
       "    <tr>\n",
       "      <th>poverty_pop_w_food_stamps</th>\n",
       "      <td>0.138365</td>\n",
       "    </tr>\n",
       "    <tr>\n",
       "      <th>poverty_pop_w_ssi</th>\n",
       "      <td>0.0597484</td>\n",
       "    </tr>\n",
       "    <tr>\n",
       "      <th>COMPLETION_TIME</th>\n",
       "      <td>0.918333</td>\n",
       "    </tr>\n",
       "    <tr>\n",
       "      <th>school</th>\n",
       "      <td>15_hs_diploma</td>\n",
       "    </tr>\n",
       "    <tr>\n",
       "      <th>housing</th>\n",
       "      <td>own</td>\n",
       "    </tr>\n",
       "    <tr>\n",
       "      <th>bedroom</th>\n",
       "      <td>3</td>\n",
       "    </tr>\n",
       "    <tr>\n",
       "      <th>value</th>\n",
       "      <td>350000</td>\n",
       "    </tr>\n",
       "    <tr>\n",
       "      <th>rent</th>\n",
       "      <td>1750</td>\n",
       "    </tr>\n",
       "    <tr>\n",
       "      <th>income</th>\n",
       "      <td>112500</td>\n",
       "    </tr>\n",
       "    <tr>\n",
       "      <th>zipcode</th>\n",
       "      <td>2124</td>\n",
       "    </tr>\n",
       "    <tr>\n",
       "      <th>neighborhood_from_zip</th>\n",
       "      <td>Dorchester</td>\n",
       "    </tr>\n",
       "  </tbody>\n",
       "</table>\n",
       "</div>"
      ],
      "text/plain": [
       "                                                   905425\n",
       "CASE_ENQUIRY_ID                              101001983786\n",
       "OPEN_DT                               2017-01-07 10:51:37\n",
       "CLOSED_DT                             2017-01-07 11:46:43\n",
       "TYPE                             Request for Snow Plowing\n",
       "SubmittedPhoto                                       True\n",
       "Property_Type                                     Address\n",
       "LATITUDE                                          42.2809\n",
       "LONGITUDE                                         -71.068\n",
       "Source                               Citizens Connect App\n",
       "race_white                                       0.242399\n",
       "race_black                                       0.514358\n",
       "race_asian                                       0.035473\n",
       "race_hispanic                                   0.0675676\n",
       "race_other                                       0.140203\n",
       "poverty_pop_below_poverty_level                         0\n",
       "poverty_pop_w_public_assistance                 0.0597484\n",
       "poverty_pop_w_food_stamps                        0.138365\n",
       "poverty_pop_w_ssi                               0.0597484\n",
       "COMPLETION_TIME                                  0.918333\n",
       "school                                      15_hs_diploma\n",
       "housing                                               own\n",
       "bedroom                                                 3\n",
       "value                                              350000\n",
       "rent                                                 1750\n",
       "income                                             112500\n",
       "zipcode                                              2124\n",
       "neighborhood_from_zip                          Dorchester"
      ]
     },
     "execution_count": 13,
     "metadata": {},
     "output_type": "execute_result"
    }
   ],
   "source": [
    "df.head(1).T"
   ]
  },
  {
   "cell_type": "markdown",
   "metadata": {},
   "source": [
    "## Starting w # issues of that type in past wk\n",
    "\n",
    "I'm choosing wk somewhat arbitrarily. Given more time, I would try out different time periods and look at the number of issues by type for each time period."
   ]
  },
  {
   "cell_type": "code",
   "execution_count": 15,
   "metadata": {
    "collapsed": false
   },
   "outputs": [
    {
     "data": {
      "text/html": [
       "<div>\n",
       "<table border=\"1\" class=\"dataframe\">\n",
       "  <thead>\n",
       "    <tr style=\"text-align: right;\">\n",
       "      <th></th>\n",
       "      <th>OPEN_DT</th>\n",
       "      <th>CLOSED_DT</th>\n",
       "      <th>CASE_ENQUIRY_ID</th>\n",
       "      <th>TYPE</th>\n",
       "    </tr>\n",
       "  </thead>\n",
       "  <tbody>\n",
       "    <tr>\n",
       "      <th>905425</th>\n",
       "      <td>2017-01-07 10:51:37</td>\n",
       "      <td>2017-01-07 11:46:43</td>\n",
       "      <td>101001983786</td>\n",
       "      <td>Request for Snow Plowing</td>\n",
       "    </tr>\n",
       "    <tr>\n",
       "      <th>905235</th>\n",
       "      <td>2017-01-07 09:36:59</td>\n",
       "      <td>2017-01-07 11:56:29</td>\n",
       "      <td>101001983767</td>\n",
       "      <td>Misc. Snow Complaint</td>\n",
       "    </tr>\n",
       "    <tr>\n",
       "      <th>905379</th>\n",
       "      <td>2017-01-07 09:21:48</td>\n",
       "      <td>2017-01-07 11:56:12</td>\n",
       "      <td>101001983765</td>\n",
       "      <td>Misc. Snow Complaint</td>\n",
       "    </tr>\n",
       "    <tr>\n",
       "      <th>905264</th>\n",
       "      <td>2017-01-07 09:12:00</td>\n",
       "      <td>2017-01-07 10:13:48</td>\n",
       "      <td>101001983761</td>\n",
       "      <td>Public Works General Request</td>\n",
       "    </tr>\n",
       "    <tr>\n",
       "      <th>905447</th>\n",
       "      <td>2017-01-07 08:31:00</td>\n",
       "      <td>2017-01-07 10:11:55</td>\n",
       "      <td>101001983756</td>\n",
       "      <td>Illegal Dumping</td>\n",
       "    </tr>\n",
       "  </tbody>\n",
       "</table>\n",
       "</div>"
      ],
      "text/plain": [
       "                   OPEN_DT           CLOSED_DT  CASE_ENQUIRY_ID  \\\n",
       "905425 2017-01-07 10:51:37 2017-01-07 11:46:43     101001983786   \n",
       "905235 2017-01-07 09:36:59 2017-01-07 11:56:29     101001983767   \n",
       "905379 2017-01-07 09:21:48 2017-01-07 11:56:12     101001983765   \n",
       "905264 2017-01-07 09:12:00 2017-01-07 10:13:48     101001983761   \n",
       "905447 2017-01-07 08:31:00 2017-01-07 10:11:55     101001983756   \n",
       "\n",
       "                                TYPE  \n",
       "905425      Request for Snow Plowing  \n",
       "905235          Misc. Snow Complaint  \n",
       "905379          Misc. Snow Complaint  \n",
       "905264  Public Works General Request  \n",
       "905447               Illegal Dumping  "
      ]
     },
     "execution_count": 15,
     "metadata": {},
     "output_type": "execute_result"
    }
   ],
   "source": [
    "aa = df[['OPEN_DT', 'CLOSED_DT', 'CASE_ENQUIRY_ID', 'TYPE']].head()\n",
    "aa"
   ]
  },
  {
   "cell_type": "code",
   "execution_count": 26,
   "metadata": {
    "collapsed": true
   },
   "outputs": [],
   "source": [
    "def get_num_same_type_issues(date, type_, df):\n",
    "    return df[['OPEN_DT', 'CLOSED_DT', 'CASE_ENQUIRY_ID', 'TYPE']][df.OPEN_DT > date - timedelta(days=7)][df.TYPE == type_].shape[0]"
   ]
  },
  {
   "cell_type": "code",
   "execution_count": null,
   "metadata": {
    "collapsed": false
   },
   "outputs": [
    {
     "name": "stderr",
     "output_type": "stream",
     "text": [
      "/home/ec2-user/anaconda2/lib/python2.7/site-packages/ipykernel/__main__.py:2: UserWarning: Boolean Series key will be reindexed to match DataFrame index.\n",
      "  from ipykernel import kernelapp as app\n"
     ]
    }
   ],
   "source": [
    "df['queue_wk'] = df.apply(lambda row: get_num_same_type_issues(row['OPEN_DT'], row['TYPE'], df), axis=1)"
   ]
  },
  {
   "cell_type": "markdown",
   "metadata": {},
   "source": [
    "## Open issues of that type in past wk"
   ]
  },
  {
   "cell_type": "code",
   "execution_count": null,
   "metadata": {
    "collapsed": true
   },
   "outputs": [],
   "source": [
    "def get_num_open_same_type_issues(date, type_, df):\n",
    "    return df[['OPEN_DT', 'CLOSED_DT', 'CASE_ENQUIRY_ID', 'TYPE']][df.OPEN_DT > date - timedelta(days=7)][(df.CLOSED_DT < date) | df.CLOSED_DT.isnull()][df.TYPE == type_].shape[0]"
   ]
  },
  {
   "cell_type": "code",
   "execution_count": null,
   "metadata": {
    "collapsed": true
   },
   "outputs": [],
   "source": [
    "aa.apply(lambda row: get_num_open_same_type_issues(row['OPEN_DT'], row['TYPE'], aa), axis=1)"
   ]
  }
 ],
 "metadata": {
  "kernelspec": {
   "display_name": "Python 2",
   "language": "python",
   "name": "python2"
  },
  "language_info": {
   "codemirror_mode": {
    "name": "ipython",
    "version": 2
   },
   "file_extension": ".py",
   "mimetype": "text/x-python",
   "name": "python",
   "nbconvert_exporter": "python",
   "pygments_lexer": "ipython2",
   "version": "2.7.13"
  }
 },
 "nbformat": 4,
 "nbformat_minor": 2
}
