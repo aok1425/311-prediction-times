{
 "cells": [
  {
   "cell_type": "code",
   "execution_count": 2,
   "metadata": {
    "collapsed": false
   },
   "outputs": [],
   "source": [
    "import shapegeocode"
   ]
  },
  {
   "cell_type": "raw",
   "metadata": {},
   "source": [
    "tract is census tract.\n",
    "blkgrp is block group.\n",
    "so tract + block grp.\n",
    "\n",
    "https://censusreporter.org/locate/?lat=42.31812984905021&lng=-71.04321956634521&address=325%20Mount%20Vernon%20St,%20Dorchester,%20Massachusetts%2002125"
   ]
  },
  {
   "cell_type": "markdown",
   "metadata": {},
   "source": [
    "- http://www.bostonplans.org/getattachment/d09af00c-2268-437b-9e40-fd06d0cd20a2\n",
    "- http://www2.census.gov/geo/pdfs/maps-data/data/tiger/tgrshp2016/TGRSHP2016_TechDoc_Ch3.pdf"
   ]
  },
  {
   "cell_type": "code",
   "execution_count": 52,
   "metadata": {
    "collapsed": false
   },
   "outputs": [],
   "source": [
    "def get_tract_block_group(lat, long_, shp_obj):\n",
    "    d = gc.geocode(lat, long_)\n",
    "#     return d\n",
    "    return d['TRACTCE'] + d['BLKGRPCE']"
   ]
  },
  {
   "cell_type": "code",
   "execution_count": 4,
   "metadata": {
    "collapsed": false
   },
   "outputs": [],
   "source": [
    "gc = shapegeocode.geocoder('../data/shape-files/cb_2015_25_bg_500k.shp')"
   ]
  },
  {
   "cell_type": "code",
   "execution_count": 53,
   "metadata": {
    "collapsed": false
   },
   "outputs": [
    {
     "data": {
      "text/plain": [
       "'0909011'"
      ]
     },
     "execution_count": 53,
     "metadata": {},
     "output_type": "execute_result"
    }
   ],
   "source": [
    "get_tract_block_group(42.320280, -71.043779, gc)"
   ]
  },
  {
   "cell_type": "markdown",
   "metadata": {},
   "source": [
    "- https://api.censusreporter.org/1.0/data/show/latest?table_ids=B03002&geo_ids=15000US250250612002,15000US250250612003\n",
    "- https://github.com/censusreporter/census-api/blob/master/API.md"
   ]
  },
  {
   "cell_type": "raw",
   "metadata": {},
   "source": [
    "342 applicable tables by block groups"
   ]
  },
  {
   "cell_type": "markdown",
   "metadata": {},
   "source": [
    "## Next section"
   ]
  },
  {
   "cell_type": "code",
   "execution_count": 43,
   "metadata": {
    "collapsed": true
   },
   "outputs": [],
   "source": [
    "import pandas as pd"
   ]
  },
  {
   "cell_type": "code",
   "execution_count": 62,
   "metadata": {
    "collapsed": false
   },
   "outputs": [],
   "source": [
    "def preprocess_df(file_path):\n",
    "    df = pd.read_csv(file_path, header=1)\n",
    "    df = df[[col for col in df.columns if 'Margin' not in col]]\n",
    "    df.insert(0, 'tract_and_block_group', df['Id2'].apply(lambda id_: str(id_)[-7:]))\n",
    "    df = df.drop(['Id', 'Id2', 'Geography'], axis=1)\n",
    "    return df"
   ]
  },
  {
   "cell_type": "code",
   "execution_count": 63,
   "metadata": {
    "collapsed": false
   },
   "outputs": [
    {
     "data": {
      "text/html": [
       "<div>\n",
       "<table border=\"1\" class=\"dataframe\">\n",
       "  <thead>\n",
       "    <tr style=\"text-align: right;\">\n",
       "      <th></th>\n",
       "      <th>tract_and_block_group</th>\n",
       "      <th>Estimate; Total:</th>\n",
       "      <th>Estimate; Total: - Less than $10,000</th>\n",
       "      <th>Estimate; Total: - $10,000 to $14,999</th>\n",
       "      <th>Estimate; Total: - $15,000 to $19,999</th>\n",
       "      <th>Estimate; Total: - $20,000 to $24,999</th>\n",
       "      <th>Estimate; Total: - $25,000 to $29,999</th>\n",
       "      <th>Estimate; Total: - $30,000 to $34,999</th>\n",
       "      <th>Estimate; Total: - $35,000 to $39,999</th>\n",
       "      <th>Estimate; Total: - $40,000 to $44,999</th>\n",
       "      <th>Estimate; Total: - $45,000 to $49,999</th>\n",
       "      <th>Estimate; Total: - $50,000 to $59,999</th>\n",
       "      <th>Estimate; Total: - $60,000 to $74,999</th>\n",
       "      <th>Estimate; Total: - $75,000 to $99,999</th>\n",
       "      <th>Estimate; Total: - $100,000 to $124,999</th>\n",
       "      <th>Estimate; Total: - $125,000 to $149,999</th>\n",
       "      <th>Estimate; Total: - $150,000 to $199,999</th>\n",
       "      <th>Estimate; Total: - $200,000 or more</th>\n",
       "    </tr>\n",
       "  </thead>\n",
       "  <tbody>\n",
       "    <tr>\n",
       "      <th>0</th>\n",
       "      <td>0001001</td>\n",
       "      <td>543</td>\n",
       "      <td>24</td>\n",
       "      <td>132</td>\n",
       "      <td>16</td>\n",
       "      <td>30</td>\n",
       "      <td>3</td>\n",
       "      <td>83</td>\n",
       "      <td>0</td>\n",
       "      <td>16</td>\n",
       "      <td>13</td>\n",
       "      <td>72</td>\n",
       "      <td>23</td>\n",
       "      <td>44</td>\n",
       "      <td>16</td>\n",
       "      <td>15</td>\n",
       "      <td>0</td>\n",
       "      <td>56</td>\n",
       "    </tr>\n",
       "    <tr>\n",
       "      <th>1</th>\n",
       "      <td>0001002</td>\n",
       "      <td>405</td>\n",
       "      <td>27</td>\n",
       "      <td>30</td>\n",
       "      <td>10</td>\n",
       "      <td>0</td>\n",
       "      <td>14</td>\n",
       "      <td>18</td>\n",
       "      <td>22</td>\n",
       "      <td>16</td>\n",
       "      <td>0</td>\n",
       "      <td>34</td>\n",
       "      <td>54</td>\n",
       "      <td>37</td>\n",
       "      <td>41</td>\n",
       "      <td>19</td>\n",
       "      <td>54</td>\n",
       "      <td>29</td>\n",
       "    </tr>\n",
       "  </tbody>\n",
       "</table>\n",
       "</div>"
      ],
      "text/plain": [
       "  tract_and_block_group  Estimate; Total:  \\\n",
       "0               0001001               543   \n",
       "1               0001002               405   \n",
       "\n",
       "   Estimate; Total: - Less than $10,000  \\\n",
       "0                                    24   \n",
       "1                                    27   \n",
       "\n",
       "   Estimate; Total: - $10,000 to $14,999  \\\n",
       "0                                    132   \n",
       "1                                     30   \n",
       "\n",
       "   Estimate; Total: - $15,000 to $19,999  \\\n",
       "0                                     16   \n",
       "1                                     10   \n",
       "\n",
       "   Estimate; Total: - $20,000 to $24,999  \\\n",
       "0                                     30   \n",
       "1                                      0   \n",
       "\n",
       "   Estimate; Total: - $25,000 to $29,999  \\\n",
       "0                                      3   \n",
       "1                                     14   \n",
       "\n",
       "   Estimate; Total: - $30,000 to $34,999  \\\n",
       "0                                     83   \n",
       "1                                     18   \n",
       "\n",
       "   Estimate; Total: - $35,000 to $39,999  \\\n",
       "0                                      0   \n",
       "1                                     22   \n",
       "\n",
       "   Estimate; Total: - $40,000 to $44,999  \\\n",
       "0                                     16   \n",
       "1                                     16   \n",
       "\n",
       "   Estimate; Total: - $45,000 to $49,999  \\\n",
       "0                                     13   \n",
       "1                                      0   \n",
       "\n",
       "   Estimate; Total: - $50,000 to $59,999  \\\n",
       "0                                     72   \n",
       "1                                     34   \n",
       "\n",
       "   Estimate; Total: - $60,000 to $74,999  \\\n",
       "0                                     23   \n",
       "1                                     54   \n",
       "\n",
       "   Estimate; Total: - $75,000 to $99,999  \\\n",
       "0                                     44   \n",
       "1                                     37   \n",
       "\n",
       "   Estimate; Total: - $100,000 to $124,999  \\\n",
       "0                                       16   \n",
       "1                                       41   \n",
       "\n",
       "   Estimate; Total: - $125,000 to $149,999  \\\n",
       "0                                       15   \n",
       "1                                       19   \n",
       "\n",
       "   Estimate; Total: - $150,000 to $199,999  \\\n",
       "0                                        0   \n",
       "1                                       54   \n",
       "\n",
       "   Estimate; Total: - $200,000 or more  \n",
       "0                                   56  \n",
       "1                                   29  "
      ]
     },
     "execution_count": 63,
     "metadata": {},
     "output_type": "execute_result"
    }
   ],
   "source": [
    "df = preprocess_df('../data/ACS_15_5YR_B19001_with_ann.csv')\n",
    "df.head(2)"
   ]
  },
  {
   "cell_type": "code",
   "execution_count": 67,
   "metadata": {
    "collapsed": false
   },
   "outputs": [
    {
     "data": {
      "text/html": [
       "<div>\n",
       "<table border=\"1\" class=\"dataframe\">\n",
       "  <thead>\n",
       "    <tr style=\"text-align: right;\">\n",
       "      <th></th>\n",
       "      <th>tract_and_block_group</th>\n",
       "      <th>Estimate; Total:</th>\n",
       "      <th>Estimate; Total: - Less than $10,000</th>\n",
       "      <th>Estimate; Total: - $10,000 to $14,999</th>\n",
       "      <th>Estimate; Total: - $15,000 to $19,999</th>\n",
       "      <th>Estimate; Total: - $20,000 to $24,999</th>\n",
       "      <th>Estimate; Total: - $25,000 to $29,999</th>\n",
       "      <th>Estimate; Total: - $30,000 to $34,999</th>\n",
       "      <th>Estimate; Total: - $35,000 to $39,999</th>\n",
       "      <th>Estimate; Total: - $40,000 to $44,999</th>\n",
       "      <th>Estimate; Total: - $45,000 to $49,999</th>\n",
       "      <th>Estimate; Total: - $50,000 to $59,999</th>\n",
       "      <th>Estimate; Total: - $60,000 to $74,999</th>\n",
       "      <th>Estimate; Total: - $75,000 to $99,999</th>\n",
       "      <th>Estimate; Total: - $100,000 to $124,999</th>\n",
       "      <th>Estimate; Total: - $125,000 to $149,999</th>\n",
       "      <th>Estimate; Total: - $150,000 to $199,999</th>\n",
       "      <th>Estimate; Total: - $200,000 or more</th>\n",
       "    </tr>\n",
       "  </thead>\n",
       "  <tbody>\n",
       "    <tr>\n",
       "      <th>312</th>\n",
       "      <td>0909011</td>\n",
       "      <td>645</td>\n",
       "      <td>153</td>\n",
       "      <td>43</td>\n",
       "      <td>42</td>\n",
       "      <td>73</td>\n",
       "      <td>56</td>\n",
       "      <td>2</td>\n",
       "      <td>56</td>\n",
       "      <td>0</td>\n",
       "      <td>23</td>\n",
       "      <td>35</td>\n",
       "      <td>24</td>\n",
       "      <td>80</td>\n",
       "      <td>6</td>\n",
       "      <td>12</td>\n",
       "      <td>40</td>\n",
       "      <td>0</td>\n",
       "    </tr>\n",
       "  </tbody>\n",
       "</table>\n",
       "</div>"
      ],
      "text/plain": [
       "    tract_and_block_group  Estimate; Total:  \\\n",
       "312               0909011               645   \n",
       "\n",
       "     Estimate; Total: - Less than $10,000  \\\n",
       "312                                   153   \n",
       "\n",
       "     Estimate; Total: - $10,000 to $14,999  \\\n",
       "312                                     43   \n",
       "\n",
       "     Estimate; Total: - $15,000 to $19,999  \\\n",
       "312                                     42   \n",
       "\n",
       "     Estimate; Total: - $20,000 to $24,999  \\\n",
       "312                                     73   \n",
       "\n",
       "     Estimate; Total: - $25,000 to $29,999  \\\n",
       "312                                     56   \n",
       "\n",
       "     Estimate; Total: - $30,000 to $34,999  \\\n",
       "312                                      2   \n",
       "\n",
       "     Estimate; Total: - $35,000 to $39,999  \\\n",
       "312                                     56   \n",
       "\n",
       "     Estimate; Total: - $40,000 to $44,999  \\\n",
       "312                                      0   \n",
       "\n",
       "     Estimate; Total: - $45,000 to $49,999  \\\n",
       "312                                     23   \n",
       "\n",
       "     Estimate; Total: - $50,000 to $59,999  \\\n",
       "312                                     35   \n",
       "\n",
       "     Estimate; Total: - $60,000 to $74,999  \\\n",
       "312                                     24   \n",
       "\n",
       "     Estimate; Total: - $75,000 to $99,999  \\\n",
       "312                                     80   \n",
       "\n",
       "     Estimate; Total: - $100,000 to $124,999  \\\n",
       "312                                        6   \n",
       "\n",
       "     Estimate; Total: - $125,000 to $149,999  \\\n",
       "312                                       12   \n",
       "\n",
       "     Estimate; Total: - $150,000 to $199,999  \\\n",
       "312                                       40   \n",
       "\n",
       "     Estimate; Total: - $200,000 or more  \n",
       "312                                    0  "
      ]
     },
     "execution_count": 67,
     "metadata": {},
     "output_type": "execute_result"
    }
   ],
   "source": [
    "df[df.tract_and_block_group == '0909011']"
   ]
  }
 ],
 "metadata": {
  "anaconda-cloud": {},
  "kernelspec": {
   "display_name": "Python [conda root]",
   "language": "python",
   "name": "conda-root-py"
  },
  "language_info": {
   "codemirror_mode": {
    "name": "ipython",
    "version": 2
   },
   "file_extension": ".py",
   "mimetype": "text/x-python",
   "name": "python",
   "nbconvert_exporter": "python",
   "pygments_lexer": "ipython2",
   "version": "2.7.12"
  }
 },
 "nbformat": 4,
 "nbformat_minor": 1
}
