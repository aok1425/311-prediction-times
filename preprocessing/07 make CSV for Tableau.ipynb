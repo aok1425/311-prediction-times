{
 "cells": [
  {
   "cell_type": "raw",
   "metadata": {},
   "source": [
    "I will prolly have to fix some things below, bc refactor."
   ]
  },
  {
   "cell_type": "code",
   "execution_count": 1,
   "metadata": {
    "collapsed": true
   },
   "outputs": [],
   "source": [
    "import pandas as pd"
   ]
  },
  {
   "cell_type": "code",
   "execution_count": 2,
   "metadata": {
    "collapsed": false
   },
   "outputs": [
    {
     "data": {
      "text/plain": [
       "(786867, 36)"
      ]
     },
     "execution_count": 2,
     "metadata": {},
     "output_type": "execute_result"
    }
   ],
   "source": [
    "df = pd.read_pickle('../data/data_w_transformed_census_and_removed_invalid_rows_and_cols_and_fixed_zips.pkl')\n",
    "df.shape"
   ]
  },
  {
   "cell_type": "code",
   "execution_count": 5,
   "metadata": {
    "collapsed": false
   },
   "outputs": [
    {
     "name": "stdout",
     "output_type": "stream",
     "text": [
      "total 4.2G\r\n",
      "-rw-rw-r-- 1 ubuntu ubuntu 222M Feb  2 06:07 data_w_transformed_census_and_removed_invalid_rows_and_cols_and_fixed_zips.pkl\r\n",
      "drwxrwxr-x 2 ubuntu ubuntu 4.0K Feb  2 05:15 census-data\r\n",
      "-rw-rw-r-- 1 ubuntu ubuntu  955 Feb  2 04:19 zipcode_mapping.py\r\n",
      "-rw-rw-r-- 1 ubuntu ubuntu 222M Feb  2 03:25 data_w_transformed_census_and_removed_invalid_rows_and_cols.pkl\r\n",
      "-rw-rw-r-- 1 ubuntu ubuntu 363M Feb  2 03:22 data_w_transformed_census_and_removed_invalid_rows.pkl\r\n",
      "-rw-rw-r-- 1 ubuntu ubuntu 417M Feb  1 21:02 data_w_transformed_census.pkl\r\n",
      "-rw-rw-r-- 1 ubuntu ubuntu 539M Feb  1 00:12 data_w_descs_and_transformed_census.pkl\r\n",
      "-rw-rw-r-- 1 ubuntu ubuntu 607K Jan 31 22:56 census_data_aggregated.pkl\r\n",
      "-rw-rw-r-- 1 ubuntu ubuntu 2.1G Jan 30 00:43 data_w_descs_and_census.h5\r\n",
      "drwxrwxr-x 2 ubuntu ubuntu 4.0K Jan 30 00:35 shape-files\r\n",
      "-rw-rw-r-- 1 ubuntu ubuntu 454M Jan 25 07:43 data_w_descs.pkl\r\n"
     ]
    }
   ],
   "source": [
    "!ls -lht ../data"
   ]
  },
  {
   "cell_type": "code",
   "execution_count": 3,
   "metadata": {
    "collapsed": true
   },
   "outputs": [
    {
     "data": {
      "text/html": [
       "<div>\n",
       "<table border=\"1\" class=\"dataframe\">\n",
       "  <thead>\n",
       "    <tr style=\"text-align: right;\">\n",
       "      <th></th>\n",
       "      <th>905223</th>\n",
       "    </tr>\n",
       "  </thead>\n",
       "  <tbody>\n",
       "    <tr>\n",
       "      <th>CASE_ENQUIRY_ID</th>\n",
       "      <td>101001983804</td>\n",
       "    </tr>\n",
       "    <tr>\n",
       "      <th>OPEN_DT</th>\n",
       "      <td>2017-01-08 12:00:16</td>\n",
       "    </tr>\n",
       "    <tr>\n",
       "      <th>TARGET_DT</th>\n",
       "      <td>2017-01-10 08:30:00</td>\n",
       "    </tr>\n",
       "    <tr>\n",
       "      <th>CLOSED_DT</th>\n",
       "      <td>NaT</td>\n",
       "    </tr>\n",
       "    <tr>\n",
       "      <th>CASE_TITLE</th>\n",
       "      <td>Parking Enforcement</td>\n",
       "    </tr>\n",
       "    <tr>\n",
       "      <th>SUBJECT</th>\n",
       "      <td>Transportation - Traffic Division</td>\n",
       "    </tr>\n",
       "    <tr>\n",
       "      <th>REASON</th>\n",
       "      <td>Enforcement &amp; Abandoned Vehicles</td>\n",
       "    </tr>\n",
       "    <tr>\n",
       "      <th>TYPE</th>\n",
       "      <td>Parking Enforcement</td>\n",
       "    </tr>\n",
       "    <tr>\n",
       "      <th>Department</th>\n",
       "      <td>BTDT</td>\n",
       "    </tr>\n",
       "    <tr>\n",
       "      <th>SubmittedPhoto</th>\n",
       "      <td>False</td>\n",
       "    </tr>\n",
       "    <tr>\n",
       "      <th>neighborhood</th>\n",
       "      <td>Roslindale</td>\n",
       "    </tr>\n",
       "    <tr>\n",
       "      <th>LOCATION_STREET_NAME</th>\n",
       "      <td>80 Cornell St</td>\n",
       "    </tr>\n",
       "    <tr>\n",
       "      <th>Property_Type</th>\n",
       "      <td>Address</td>\n",
       "    </tr>\n",
       "    <tr>\n",
       "      <th>Property_ID</th>\n",
       "      <td>43071</td>\n",
       "    </tr>\n",
       "    <tr>\n",
       "      <th>LATITUDE</th>\n",
       "      <td>42.2764</td>\n",
       "    </tr>\n",
       "    <tr>\n",
       "      <th>LONGITUDE</th>\n",
       "      <td>-71.1311</td>\n",
       "    </tr>\n",
       "    <tr>\n",
       "      <th>Source</th>\n",
       "      <td>Citizens Connect App</td>\n",
       "    </tr>\n",
       "    <tr>\n",
       "      <th>tract_and_block_group</th>\n",
       "      <td>1104035</td>\n",
       "    </tr>\n",
       "    <tr>\n",
       "      <th>race_white</th>\n",
       "      <td>0.550562</td>\n",
       "    </tr>\n",
       "    <tr>\n",
       "      <th>race_black</th>\n",
       "      <td>0.152118</td>\n",
       "    </tr>\n",
       "    <tr>\n",
       "      <th>race_asian</th>\n",
       "      <td>0</td>\n",
       "    </tr>\n",
       "    <tr>\n",
       "      <th>race_hispanic</th>\n",
       "      <td>0.278306</td>\n",
       "    </tr>\n",
       "    <tr>\n",
       "      <th>race_other</th>\n",
       "      <td>0.0190147</td>\n",
       "    </tr>\n",
       "    <tr>\n",
       "      <th>poverty_pop_below_poverty_level</th>\n",
       "      <td>0.135</td>\n",
       "    </tr>\n",
       "    <tr>\n",
       "      <th>poverty_pop_w_public_assistance</th>\n",
       "      <td>0</td>\n",
       "    </tr>\n",
       "    <tr>\n",
       "      <th>poverty_pop_w_food_stamps</th>\n",
       "      <td>0.1325</td>\n",
       "    </tr>\n",
       "    <tr>\n",
       "      <th>poverty_pop_w_ssi</th>\n",
       "      <td>0.0575</td>\n",
       "    </tr>\n",
       "    <tr>\n",
       "      <th>COMPLETION_TIME</th>\n",
       "      <td>NaN</td>\n",
       "    </tr>\n",
       "    <tr>\n",
       "      <th>school</th>\n",
       "      <td>20_bachelors</td>\n",
       "    </tr>\n",
       "    <tr>\n",
       "      <th>housing</th>\n",
       "      <td>own</td>\n",
       "    </tr>\n",
       "    <tr>\n",
       "      <th>bedroom</th>\n",
       "      <td>3</td>\n",
       "    </tr>\n",
       "    <tr>\n",
       "      <th>value</th>\n",
       "      <td>350000</td>\n",
       "    </tr>\n",
       "    <tr>\n",
       "      <th>rent</th>\n",
       "      <td>2250</td>\n",
       "    </tr>\n",
       "    <tr>\n",
       "      <th>income</th>\n",
       "      <td>87500</td>\n",
       "    </tr>\n",
       "    <tr>\n",
       "      <th>is_issue_unresolved</th>\n",
       "      <td>True</td>\n",
       "    </tr>\n",
       "    <tr>\n",
       "      <th>zipcode</th>\n",
       "      <td>2131</td>\n",
       "    </tr>\n",
       "  </tbody>\n",
       "</table>\n",
       "</div>"
      ],
      "text/plain": [
       "                                                            905223\n",
       "CASE_ENQUIRY_ID                                       101001983804\n",
       "OPEN_DT                                        2017-01-08 12:00:16\n",
       "TARGET_DT                                      2017-01-10 08:30:00\n",
       "CLOSED_DT                                                      NaT\n",
       "CASE_TITLE                                     Parking Enforcement\n",
       "SUBJECT                          Transportation - Traffic Division\n",
       "REASON                            Enforcement & Abandoned Vehicles\n",
       "TYPE                                           Parking Enforcement\n",
       "Department                                                    BTDT\n",
       "SubmittedPhoto                                               False\n",
       "neighborhood                                            Roslindale\n",
       "LOCATION_STREET_NAME                                 80 Cornell St\n",
       "Property_Type                                              Address\n",
       "Property_ID                                                  43071\n",
       "LATITUDE                                                   42.2764\n",
       "LONGITUDE                                                 -71.1311\n",
       "Source                                        Citizens Connect App\n",
       "tract_and_block_group                                      1104035\n",
       "race_white                                                0.550562\n",
       "race_black                                                0.152118\n",
       "race_asian                                                       0\n",
       "race_hispanic                                             0.278306\n",
       "race_other                                               0.0190147\n",
       "poverty_pop_below_poverty_level                              0.135\n",
       "poverty_pop_w_public_assistance                                  0\n",
       "poverty_pop_w_food_stamps                                   0.1325\n",
       "poverty_pop_w_ssi                                           0.0575\n",
       "COMPLETION_TIME                                                NaN\n",
       "school                                                20_bachelors\n",
       "housing                                                        own\n",
       "bedroom                                                          3\n",
       "value                                                       350000\n",
       "rent                                                          2250\n",
       "income                                                       87500\n",
       "is_issue_unresolved                                           True\n",
       "zipcode                                                       2131"
      ]
     },
     "execution_count": 3,
     "metadata": {},
     "output_type": "execute_result"
    }
   ],
   "source": [
    "df.head(1).T"
   ]
  },
  {
   "cell_type": "markdown",
   "metadata": {},
   "source": [
    "## Making CSV\n",
    "\n",
    "Need to add back `CLOSURE_REASON` :("
   ]
  },
  {
   "cell_type": "code",
   "execution_count": 28,
   "metadata": {
    "collapsed": false
   },
   "outputs": [
    {
     "data": {
      "text/plain": [
       "(905650, 37)"
      ]
     },
     "execution_count": 28,
     "metadata": {},
     "output_type": "execute_result"
    }
   ],
   "source": [
    "df_closure_reason = pd.read_pickle('../data/data_w_descs.pkl')\n",
    "df_closure_reason.shape"
   ]
  },
  {
   "cell_type": "code",
   "execution_count": 30,
   "metadata": {
    "collapsed": false
   },
   "outputs": [],
   "source": [
    "df_closure_reason = df_closure_reason[['CASE_ENQUIRY_ID', 'CLOSURE_REASON']]"
   ]
  },
  {
   "cell_type": "code",
   "execution_count": 31,
   "metadata": {
    "collapsed": true
   },
   "outputs": [],
   "source": [
    "final_df_w_closure_reason = pd.merge(final_df, df_closure_reason, on='CASE_ENQUIRY_ID')"
   ]
  },
  {
   "cell_type": "code",
   "execution_count": 35,
   "metadata": {
    "collapsed": false
   },
   "outputs": [
    {
     "data": {
      "text/html": [
       "<div>\n",
       "<table border=\"1\" class=\"dataframe\">\n",
       "  <thead>\n",
       "    <tr style=\"text-align: right;\">\n",
       "      <th></th>\n",
       "      <th>CLOSURE_REASON</th>\n",
       "    </tr>\n",
       "  </thead>\n",
       "  <tbody>\n",
       "    <tr>\n",
       "      <th>65</th>\n",
       "      <td>NaN</td>\n",
       "    </tr>\n",
       "    <tr>\n",
       "      <th>66</th>\n",
       "      <td>Case Closed. Closed date : 2017-01-07 18:49:54...</td>\n",
       "    </tr>\n",
       "    <tr>\n",
       "      <th>67</th>\n",
       "      <td>NaN</td>\n",
       "    </tr>\n",
       "    <tr>\n",
       "      <th>68</th>\n",
       "      <td>Case Closed. Closed date : 2017-01-07 19:46:24...</td>\n",
       "    </tr>\n",
       "    <tr>\n",
       "      <th>69</th>\n",
       "      <td>Case Closed. Closed date : 2017-01-07 18:50:00...</td>\n",
       "    </tr>\n",
       "  </tbody>\n",
       "</table>\n",
       "</div>"
      ],
      "text/plain": [
       "                                       CLOSURE_REASON\n",
       "65                                                NaN\n",
       "66  Case Closed. Closed date : 2017-01-07 18:49:54...\n",
       "67                                                NaN\n",
       "68  Case Closed. Closed date : 2017-01-07 19:46:24...\n",
       "69  Case Closed. Closed date : 2017-01-07 18:50:00..."
      ]
     },
     "execution_count": 35,
     "metadata": {},
     "output_type": "execute_result"
    }
   ],
   "source": [
    "final_df_w_closure_reason.head(70).tail().T.iloc[-1:].T"
   ]
  },
  {
   "cell_type": "code",
   "execution_count": 36,
   "metadata": {
    "collapsed": true
   },
   "outputs": [],
   "source": [
    "final_df_w_closure_reason.to_csv('../data/data_for_tableau_w_transformed_census_and_removed_invalid_rows_and_cols_and_fixed_zips_and_descs.csv', index=False, encoding='utf-8')"
   ]
  },
  {
   "cell_type": "code",
   "execution_count": 27,
   "metadata": {
    "collapsed": false
   },
   "outputs": [
    {
     "name": "stdout",
     "output_type": "stream",
     "text": [
      "total 4.9G\r\n",
      "-rw-rw-r-- 1 ubuntu ubuntu 266M Feb  2 21:49 data_w_transformed_census_and_removed_invalid_rows_and_cols_and_fixed_zips_and_descs.pkl\r\n",
      "-rw-rw-r-- 1 ubuntu ubuntu 376M Feb  2 21:48 data_for_tableau_w_transformed_census_and_removed_invalid_rows_and_cols_and_fixed_zips.csv\r\n",
      "-rw-rw-r-- 1 ubuntu ubuntu 222M Feb  2 06:07 data_w_transformed_census_and_removed_invalid_rows_and_cols_and_fixed_zips.pkl\r\n",
      "drwxrwxr-x 2 ubuntu ubuntu 4.0K Feb  2 05:15 census-data\r\n",
      "-rw-rw-r-- 1 ubuntu ubuntu  955 Feb  2 04:19 zipcode_mapping.py\r\n",
      "-rw-rw-r-- 1 ubuntu ubuntu 222M Feb  2 03:25 data_w_transformed_census_and_removed_invalid_rows_and_cols.pkl\r\n",
      "-rw-rw-r-- 1 ubuntu ubuntu 363M Feb  2 03:22 data_w_transformed_census_and_removed_invalid_rows.pkl\r\n",
      "-rw-rw-r-- 1 ubuntu ubuntu 417M Feb  1 21:02 data_w_transformed_census.pkl\r\n",
      "-rw-rw-r-- 1 ubuntu ubuntu 539M Feb  1 00:12 data_w_descs_and_transformed_census.pkl\r\n",
      "-rw-rw-r-- 1 ubuntu ubuntu 607K Jan 31 22:56 census_data_aggregated.pkl\r\n",
      "-rw-rw-r-- 1 ubuntu ubuntu 2.1G Jan 30 00:43 data_w_descs_and_census.h5\r\n",
      "drwxrwxr-x 2 ubuntu ubuntu 4.0K Jan 30 00:35 shape-files\r\n",
      "-rw-rw-r-- 1 ubuntu ubuntu 454M Jan 25 07:43 data_w_descs.pkl\r\n"
     ]
    }
   ],
   "source": [
    "!ls -lht ../data"
   ]
  }
 ],
 "metadata": {
  "anaconda-cloud": {},
  "kernelspec": {
   "display_name": "Python 2",
   "language": "python",
   "name": "python2"
  },
  "language_info": {
   "codemirror_mode": {
    "name": "ipython",
    "version": 2
   },
   "file_extension": ".py",
   "mimetype": "text/x-python",
   "name": "python",
   "nbconvert_exporter": "python",
   "pygments_lexer": "ipython2",
   "version": "2.7.13"
  }
 },
 "nbformat": 4,
 "nbformat_minor": 1
}
