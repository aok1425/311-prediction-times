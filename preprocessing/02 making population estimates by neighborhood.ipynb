{
 "cells": [
  {
   "cell_type": "markdown",
   "metadata": {},
   "source": [
    "## Update 2/10:\n",
    "I used Census race absolute totals instead of the below.\n",
    "\n",
    "## Summary\n",
    "Appropriate data source is ACS 5-yr survey, which was last done in 2015. They do population estimates by zip code, so I need to manually map this onto the 311 neighborhood definitions. Apparently the city doesn't have its own population estimates by neighborhood"
   ]
  },
  {
   "cell_type": "code",
   "execution_count": 1,
   "metadata": {
    "collapsed": true
   },
   "outputs": [],
   "source": [
    "import requests as r"
   ]
  },
  {
   "cell_type": "code",
   "execution_count": 2,
   "metadata": {
    "collapsed": true
   },
   "outputs": [],
   "source": [
    "KEY = '3c9b529bfb4d678a803706dfbeb4892dde74735b'"
   ]
  },
  {
   "cell_type": "code",
   "execution_count": 3,
   "metadata": {
    "collapsed": true
   },
   "outputs": [],
   "source": [
    "def get_pop(zip_code):\n",
    "    url = \"http://api.census.gov/data/2015/acs5?get=B01001_001E&for=zip+code+tabulation+area:{}&key={}\".format(zip_code, KEY)\n",
    "    response = r.get(url).json()\n",
    "    ans = response[1][response[0].index('B01001_001E')] # this is total pop\n",
    "    return int(ans)"
   ]
  },
  {
   "cell_type": "markdown",
   "metadata": {},
   "source": [
    "### Alternative hacky way"
   ]
  },
  {
   "cell_type": "code",
   "execution_count": 4,
   "metadata": {
    "collapsed": true
   },
   "outputs": [],
   "source": [
    "def get_pop2(zip_code):\n",
    "    \"\"\"Pulls it out from CensusReporter.org, which takes it from ACS 5-yr from 2015.\"\"\"\n",
    "    url = \"https://censusreporter.org/profiles/86000US{}-{}/\".format(zip_code, zip_code)\n",
    "    content = r.get(url).content\n",
    "    soup = BeautifulSoup(content, 'html.parser')    \n",
    "    text_value = soup.find('div', {'class': 'column-half'}).find('span', {'class': 'value'}).text\n",
    "    value = int(text_value.replace(',', ''))\n",
    "    return value"
   ]
  },
  {
   "cell_type": "markdown",
   "metadata": {},
   "source": [
    "### OK, now to get the data and make the table"
   ]
  },
  {
   "cell_type": "code",
   "execution_count": 5,
   "metadata": {
    "collapsed": true
   },
   "outputs": [],
   "source": [
    "zip_codes = ('02108','02109','02110','02111','02113','02114',\n",
    "             '02115','02116','02118','02119','02120','02121','02122','02124','02125','02126','02127','02128','02129','02130','02131','02132',\n",
    "             '02134','02135','02136','02199','02210','02215','02467')"
   ]
  },
  {
   "cell_type": "code",
   "execution_count": 6,
   "metadata": {
    "collapsed": true
   },
   "outputs": [],
   "source": [
    "import pandas as pd"
   ]
  },
  {
   "cell_type": "code",
   "execution_count": 7,
   "metadata": {
    "collapsed": false
   },
   "outputs": [
    {
     "data": {
      "text/html": [
       "<div>\n",
       "<table border=\"1\" class=\"dataframe\">\n",
       "  <thead>\n",
       "    <tr style=\"text-align: right;\">\n",
       "      <th></th>\n",
       "      <th>zip_codes</th>\n",
       "    </tr>\n",
       "  </thead>\n",
       "  <tbody>\n",
       "    <tr>\n",
       "      <th>0</th>\n",
       "      <td>02108</td>\n",
       "    </tr>\n",
       "    <tr>\n",
       "      <th>1</th>\n",
       "      <td>02109</td>\n",
       "    </tr>\n",
       "  </tbody>\n",
       "</table>\n",
       "</div>"
      ],
      "text/plain": [
       "  zip_codes\n",
       "0     02108\n",
       "1     02109"
      ]
     },
     "execution_count": 7,
     "metadata": {},
     "output_type": "execute_result"
    }
   ],
   "source": [
    "df = pd.DataFrame({'zip_codes': zip_codes})\n",
    "df.head(2)"
   ]
  },
  {
   "cell_type": "code",
   "execution_count": 9,
   "metadata": {
    "collapsed": false
   },
   "outputs": [
    {
     "data": {
      "text/html": [
       "<div>\n",
       "<table border=\"1\" class=\"dataframe\">\n",
       "  <thead>\n",
       "    <tr style=\"text-align: right;\">\n",
       "      <th></th>\n",
       "      <th>zip_codes</th>\n",
       "      <th>population</th>\n",
       "    </tr>\n",
       "  </thead>\n",
       "  <tbody>\n",
       "    <tr>\n",
       "      <th>0</th>\n",
       "      <td>02108</td>\n",
       "      <td>4183</td>\n",
       "    </tr>\n",
       "    <tr>\n",
       "      <th>1</th>\n",
       "      <td>02109</td>\n",
       "      <td>3947</td>\n",
       "    </tr>\n",
       "  </tbody>\n",
       "</table>\n",
       "</div>"
      ],
      "text/plain": [
       "  zip_codes  population\n",
       "0     02108        4183\n",
       "1     02109        3947"
      ]
     },
     "execution_count": 9,
     "metadata": {},
     "output_type": "execute_result"
    }
   ],
   "source": [
    "df['population'] = df.zip_codes.apply(lambda zip_code: get_pop(zip_code))\n",
    "df.head(2)"
   ]
  },
  {
   "cell_type": "code",
   "execution_count": 10,
   "metadata": {
    "collapsed": false
   },
   "outputs": [
    {
     "data": {
      "text/html": [
       "<div>\n",
       "<table border=\"1\" class=\"dataframe\">\n",
       "  <thead>\n",
       "    <tr style=\"text-align: right;\">\n",
       "      <th></th>\n",
       "      <th>zip_codes</th>\n",
       "      <th>population</th>\n",
       "    </tr>\n",
       "  </thead>\n",
       "  <tbody>\n",
       "    <tr>\n",
       "      <th>0</th>\n",
       "      <td>02108</td>\n",
       "      <td>4183</td>\n",
       "    </tr>\n",
       "    <tr>\n",
       "      <th>1</th>\n",
       "      <td>02109</td>\n",
       "      <td>3947</td>\n",
       "    </tr>\n",
       "    <tr>\n",
       "      <th>2</th>\n",
       "      <td>02110</td>\n",
       "      <td>2048</td>\n",
       "    </tr>\n",
       "    <tr>\n",
       "      <th>3</th>\n",
       "      <td>02111</td>\n",
       "      <td>7537</td>\n",
       "    </tr>\n",
       "    <tr>\n",
       "      <th>4</th>\n",
       "      <td>02113</td>\n",
       "      <td>7221</td>\n",
       "    </tr>\n",
       "    <tr>\n",
       "      <th>5</th>\n",
       "      <td>02114</td>\n",
       "      <td>12882</td>\n",
       "    </tr>\n",
       "    <tr>\n",
       "      <th>6</th>\n",
       "      <td>02115</td>\n",
       "      <td>28536</td>\n",
       "    </tr>\n",
       "    <tr>\n",
       "      <th>7</th>\n",
       "      <td>02116</td>\n",
       "      <td>22433</td>\n",
       "    </tr>\n",
       "    <tr>\n",
       "      <th>8</th>\n",
       "      <td>02118</td>\n",
       "      <td>27526</td>\n",
       "    </tr>\n",
       "    <tr>\n",
       "      <th>9</th>\n",
       "      <td>02119</td>\n",
       "      <td>26259</td>\n",
       "    </tr>\n",
       "    <tr>\n",
       "      <th>10</th>\n",
       "      <td>02120</td>\n",
       "      <td>15500</td>\n",
       "    </tr>\n",
       "    <tr>\n",
       "      <th>11</th>\n",
       "      <td>02121</td>\n",
       "      <td>28051</td>\n",
       "    </tr>\n",
       "    <tr>\n",
       "      <th>12</th>\n",
       "      <td>02122</td>\n",
       "      <td>24880</td>\n",
       "    </tr>\n",
       "    <tr>\n",
       "      <th>13</th>\n",
       "      <td>02124</td>\n",
       "      <td>53227</td>\n",
       "    </tr>\n",
       "    <tr>\n",
       "      <th>14</th>\n",
       "      <td>02125</td>\n",
       "      <td>35379</td>\n",
       "    </tr>\n",
       "    <tr>\n",
       "      <th>15</th>\n",
       "      <td>02126</td>\n",
       "      <td>27835</td>\n",
       "    </tr>\n",
       "    <tr>\n",
       "      <th>16</th>\n",
       "      <td>02127</td>\n",
       "      <td>36494</td>\n",
       "    </tr>\n",
       "    <tr>\n",
       "      <th>17</th>\n",
       "      <td>02128</td>\n",
       "      <td>44989</td>\n",
       "    </tr>\n",
       "    <tr>\n",
       "      <th>18</th>\n",
       "      <td>02129</td>\n",
       "      <td>18058</td>\n",
       "    </tr>\n",
       "    <tr>\n",
       "      <th>19</th>\n",
       "      <td>02130</td>\n",
       "      <td>39257</td>\n",
       "    </tr>\n",
       "    <tr>\n",
       "      <th>20</th>\n",
       "      <td>02131</td>\n",
       "      <td>31890</td>\n",
       "    </tr>\n",
       "    <tr>\n",
       "      <th>21</th>\n",
       "      <td>02132</td>\n",
       "      <td>28506</td>\n",
       "    </tr>\n",
       "    <tr>\n",
       "      <th>22</th>\n",
       "      <td>02134</td>\n",
       "      <td>18238</td>\n",
       "    </tr>\n",
       "    <tr>\n",
       "      <th>23</th>\n",
       "      <td>02135</td>\n",
       "      <td>38682</td>\n",
       "    </tr>\n",
       "    <tr>\n",
       "      <th>24</th>\n",
       "      <td>02136</td>\n",
       "      <td>31052</td>\n",
       "    </tr>\n",
       "    <tr>\n",
       "      <th>25</th>\n",
       "      <td>02199</td>\n",
       "      <td>1173</td>\n",
       "    </tr>\n",
       "    <tr>\n",
       "      <th>26</th>\n",
       "      <td>02210</td>\n",
       "      <td>2179</td>\n",
       "    </tr>\n",
       "    <tr>\n",
       "      <th>27</th>\n",
       "      <td>02215</td>\n",
       "      <td>24521</td>\n",
       "    </tr>\n",
       "    <tr>\n",
       "      <th>28</th>\n",
       "      <td>02467</td>\n",
       "      <td>23520</td>\n",
       "    </tr>\n",
       "  </tbody>\n",
       "</table>\n",
       "</div>"
      ],
      "text/plain": [
       "   zip_codes  population\n",
       "0      02108        4183\n",
       "1      02109        3947\n",
       "2      02110        2048\n",
       "3      02111        7537\n",
       "4      02113        7221\n",
       "5      02114       12882\n",
       "6      02115       28536\n",
       "7      02116       22433\n",
       "8      02118       27526\n",
       "9      02119       26259\n",
       "10     02120       15500\n",
       "11     02121       28051\n",
       "12     02122       24880\n",
       "13     02124       53227\n",
       "14     02125       35379\n",
       "15     02126       27835\n",
       "16     02127       36494\n",
       "17     02128       44989\n",
       "18     02129       18058\n",
       "19     02130       39257\n",
       "20     02131       31890\n",
       "21     02132       28506\n",
       "22     02134       18238\n",
       "23     02135       38682\n",
       "24     02136       31052\n",
       "25     02199        1173\n",
       "26     02210        2179\n",
       "27     02215       24521\n",
       "28     02467       23520"
      ]
     },
     "execution_count": 10,
     "metadata": {},
     "output_type": "execute_result"
    }
   ],
   "source": [
    "df"
   ]
  },
  {
   "cell_type": "markdown",
   "metadata": {},
   "source": [
    "### Making population by zip code"
   ]
  },
  {
   "cell_type": "code",
   "execution_count": 12,
   "metadata": {
    "collapsed": false
   },
   "outputs": [
    {
     "data": {
      "text/plain": [
       "{'02108': 4183,\n",
       " '02109': 3947,\n",
       " '02110': 2048,\n",
       " '02111': 7537,\n",
       " '02113': 7221,\n",
       " '02114': 12882,\n",
       " '02115': 28536,\n",
       " '02116': 22433,\n",
       " '02118': 27526,\n",
       " '02119': 26259,\n",
       " '02120': 15500,\n",
       " '02121': 28051,\n",
       " '02122': 24880,\n",
       " '02124': 53227,\n",
       " '02125': 35379,\n",
       " '02126': 27835,\n",
       " '02127': 36494,\n",
       " '02128': 44989,\n",
       " '02129': 18058,\n",
       " '02130': 39257,\n",
       " '02131': 31890,\n",
       " '02132': 28506,\n",
       " '02134': 18238,\n",
       " '02135': 38682,\n",
       " '02136': 31052,\n",
       " '02199': 1173,\n",
       " '02210': 2179,\n",
       " '02215': 24521,\n",
       " '02467': 23520}"
      ]
     },
     "execution_count": 12,
     "metadata": {},
     "output_type": "execute_result"
    }
   ],
   "source": [
    "# manually made by looking at http://www.cityofboston.gov/images_documents/ZipCodes_tcm3-47884.pdf\n",
    "bb = df.set_index('zip_codes').to_dict()['population']\n",
    "bb"
   ]
  },
  {
   "cell_type": "code",
   "execution_count": 13,
   "metadata": {
    "collapsed": true
   },
   "outputs": [
    {
     "data": {
      "text/plain": [
       "{'02108': '',\n",
       " '02109': '',\n",
       " '02110': '',\n",
       " '02111': '',\n",
       " '02113': '',\n",
       " '02114': '',\n",
       " '02115': '',\n",
       " '02116': '',\n",
       " '02118': '',\n",
       " '02119': '',\n",
       " '02120': '',\n",
       " '02121': '',\n",
       " '02122': '',\n",
       " '02124': '',\n",
       " '02125': '',\n",
       " '02126': '',\n",
       " '02127': '',\n",
       " '02128': '',\n",
       " '02129': '',\n",
       " '02130': '',\n",
       " '02131': '',\n",
       " '02132': '',\n",
       " '02134': '',\n",
       " '02135': '',\n",
       " '02136': '',\n",
       " '02199': '',\n",
       " '02210': '',\n",
       " '02215': '',\n",
       " '02467': ''}"
      ]
     },
     "execution_count": 13,
     "metadata": {},
     "output_type": "execute_result"
    }
   ],
   "source": [
    "aa = bb.copy()\n",
    "for k in aa:\n",
    "    aa[k] = ''\n",
    "    \n",
    "aa"
   ]
  },
  {
   "cell_type": "code",
   "execution_count": 23,
   "metadata": {
    "collapsed": false
   },
   "outputs": [],
   "source": [
    "zips_to_neighborhoods = {'02108': 'Beacon Hill', # n of commons\n",
    "     '02109': 'Boston',\n",
    "     '02110': 'Downtown / Financial District',\n",
    "     '02111': 'Downtown / Financial District',\n",
    "     '02113': 'North End',\n",
    "     '02114': 'Beacon Hill', # mgh\n",
    "     '02115': 'Fenway / Kenmore / Audubon Circle / Longwood',\n",
    "     '02116': 'Back Bay',\n",
    "     '02118': 'South End',\n",
    "     '02119': 'Roxbury',\n",
    "     '02120': 'Mission Hill',\n",
    "     '02121': 'Dorchester',\n",
    "     '02122': 'Dorchester',\n",
    "     '02124': 'Dorchester',\n",
    "     '02125': 'Dorchester',\n",
    "     '02126': 'Mattapan',\n",
    "     '02130': 'Jamaica Plain',\n",
    "     '02131': 'Roslindale', # where is this\n",
    "     '02134': 'Allston / Brighton',\n",
    "     '02135': 'Allston / Brighton',\n",
    "     '02136': 'Hyde Park',\n",
    "     '02127': 'South Boston',\n",
    "     '02128': 'East Boston',\n",
    "     '02129': 'Charlestown',\n",
    "     '02132': 'West Roxbury',\n",
    "     '02163': 'Allston / Brighton',\n",
    "     '02199': 'Back Bay',\n",
    "     '02203': 'Boston',\n",
    "     '02210': 'South Boston',\n",
    "     '02215': 'Fenway / Kenmore / Audubon Circle / Longwood',\n",
    "     '02467': 'Chestnut Hill'\n",
    "    }\n",
    "\n",
    "# mission hill (and prolly others) are messed up\n",
    "# seems like zip codes don't map neatly onto eighborhoods"
   ]
  },
  {
   "cell_type": "code",
   "execution_count": 24,
   "metadata": {
    "collapsed": false
   },
   "outputs": [
    {
     "data": {
      "text/html": [
       "<div>\n",
       "<table border=\"1\" class=\"dataframe\">\n",
       "  <thead>\n",
       "    <tr style=\"text-align: right;\">\n",
       "      <th></th>\n",
       "      <th>zip_codes</th>\n",
       "      <th>population</th>\n",
       "      <th>neighborhood</th>\n",
       "    </tr>\n",
       "  </thead>\n",
       "  <tbody>\n",
       "    <tr>\n",
       "      <th>0</th>\n",
       "      <td>02108</td>\n",
       "      <td>4183</td>\n",
       "      <td>Beacon Hill</td>\n",
       "    </tr>\n",
       "    <tr>\n",
       "      <th>1</th>\n",
       "      <td>02109</td>\n",
       "      <td>3947</td>\n",
       "      <td>Boston</td>\n",
       "    </tr>\n",
       "    <tr>\n",
       "      <th>2</th>\n",
       "      <td>02110</td>\n",
       "      <td>2048</td>\n",
       "      <td>Downtown / Financial District</td>\n",
       "    </tr>\n",
       "    <tr>\n",
       "      <th>3</th>\n",
       "      <td>02111</td>\n",
       "      <td>7537</td>\n",
       "      <td>Downtown / Financial District</td>\n",
       "    </tr>\n",
       "    <tr>\n",
       "      <th>4</th>\n",
       "      <td>02113</td>\n",
       "      <td>7221</td>\n",
       "      <td>North End</td>\n",
       "    </tr>\n",
       "  </tbody>\n",
       "</table>\n",
       "</div>"
      ],
      "text/plain": [
       "  zip_codes  population                   neighborhood\n",
       "0     02108        4183                    Beacon Hill\n",
       "1     02109        3947                         Boston\n",
       "2     02110        2048  Downtown / Financial District\n",
       "3     02111        7537  Downtown / Financial District\n",
       "4     02113        7221                      North End"
      ]
     },
     "execution_count": 24,
     "metadata": {},
     "output_type": "execute_result"
    }
   ],
   "source": [
    "df['neighborhood'] = df.zip_codes.apply(lambda z: zips_to_neighborhoods[z])\n",
    "df.head()"
   ]
  },
  {
   "cell_type": "code",
   "execution_count": 25,
   "metadata": {
    "collapsed": true
   },
   "outputs": [],
   "source": [
    "df.dropna().to_csv('zip_codes.csv', index=False)"
   ]
  }
 ],
 "metadata": {
  "anaconda-cloud": {},
  "kernelspec": {
   "display_name": "Python [default]",
   "language": "python",
   "name": "python2"
  },
  "language_info": {
   "codemirror_mode": {
    "name": "ipython",
    "version": 2
   },
   "file_extension": ".py",
   "mimetype": "text/x-python",
   "name": "python",
   "nbconvert_exporter": "python",
   "pygments_lexer": "ipython2",
   "version": "2.7.12"
  }
 },
 "nbformat": 4,
 "nbformat_minor": 0
}
