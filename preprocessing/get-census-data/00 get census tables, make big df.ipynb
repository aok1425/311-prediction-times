{
 "cells": [
  {
   "cell_type": "raw",
   "metadata": {},
   "source": [
    "then, add big df to other big df to make really big df!"
   ]
  },
  {
   "cell_type": "code",
   "execution_count": 5,
   "metadata": {
    "collapsed": true
   },
   "outputs": [],
   "source": [
    "CENSUS_TABLES_TO_GET = ['B25041', 'B15003', 'B25063', 'B03002', 'B19001', 'B17017', 'B19301', 'B19057', 'B22010', 'B19056', 'B25003', 'B25075']\n",
    "\n",
    "# from eg https://censusreporter.org/data/table/?table=B25041&geo_ids=15000US250250909011&primary_geo_id=15000US250250909011\n",
    "CENSUS_TABLE_MAPPING = {\n",
    "    'B25041': 'Bedrooms',\n",
    "    'B15003': 'Educational Attainment for the Population 25 Years and Over',\n",
    "    'B25063': 'Gross Rent',\n",
    "    'B03002': 'Hispanic or Latino Origin by Race',\n",
    "    'B19001': 'Household Income in the Past 12 Months (In 2015 Inflation-adjusted Dollars)',\n",
    "    'B17017': 'Poverty Status in the Past 12 Months by Household Type by Age of Householder',\n",
    "    'B19301': 'Per Capita Income in the Past 12 Months (In 2015 Inflation-adjusted Dollars)',\n",
    "    'B19057': 'Public Assistance Income in the Past 12 Months for Households',\n",
    "    'B22010': 'Receipt of Food Stamps/SNAP in the Past 12 Months by Disability Status for Households',\n",
    "    'B19056': 'Supplemental Security Income (SSI) in the Past 12 Months for Households',\n",
    "    'B25003': 'Tenure',\n",
    "    'B25075': 'Value'\n",
    "}\n",
    "\n",
    "CENSUS_TABLE_MY_MAPPING = {\n",
    "    'B25041': 'Bedrooms',\n",
    "    'B15003': 'school_',\n",
    "    'B25063': 'rent_',\n",
    "    'B03002': 'Hispanic or Latino Origin by Race',\n",
    "    'B19001': 'income_',\n",
    "    'B17017': 'poverty_',\n",
    "    'B19301': 'income_per_capita_',\n",
    "    'B19057': 'income_public_assistance_',\n",
    "    'B22010': 'food_stamps_',\n",
    "    'B19056': 'ssi_',\n",
    "    'B25003': 'rent_or_buy_',\n",
    "    'B25075': 'value_'\n",
    "}"
   ]
  },
  {
   "cell_type": "raw",
   "metadata": {},
   "source": [
    "I will manually download the tables, unzip them, and put them in the data/census-data folder."
   ]
  },
  {
   "cell_type": "code",
   "execution_count": 1,
   "metadata": {
    "collapsed": true
   },
   "outputs": [],
   "source": [
    "import pandas as pd\n",
    "from IPython.display import display"
   ]
  },
  {
   "cell_type": "code",
   "execution_count": 2,
   "metadata": {
    "collapsed": true
   },
   "outputs": [],
   "source": [
    "def process_columns(columns, table_id, mapping):\n",
    "    new_cols = []\n",
    "    \n",
    "    for col in columns:\n",
    "        if 'Estimate' in col:\n",
    "            if col[19:] == '':\n",
    "                col = '_' * 19 + 'total'\n",
    "            \n",
    "            if mapping:\n",
    "                col = \"{table_name} {num_range}\".format(\n",
    "                    table_name=mapping[table_id],\n",
    "                    num_range=col[19:].replace('$', '')\n",
    "                )\n",
    "            else:\n",
    "                col = col[19:].replace('$', '')\n",
    "        \n",
    "        new_cols += [col]\n",
    "            \n",
    "    return new_cols\n",
    "\n",
    "def preprocess_census_csv(table_id, mapping=None):\n",
    "    file_path = '../../data/census-data/ACS_15_5YR_{}_with_ann.csv'.format(table_id)\n",
    "    df = pd.read_csv(file_path, header=1)\n",
    "    df = df[[col for col in df.columns if 'Margin' not in col]]\n",
    "    df.insert(0, 'tract_and_block_group', df['Id2'].apply(lambda id_: str(id_)[-7:]))\n",
    "    df = df.drop(['Id', 'Id2', 'Geography'], axis=1)\n",
    "    df.columns = process_columns(df.columns, table_id, mapping)\n",
    "    return df"
   ]
  },
  {
   "cell_type": "markdown",
   "metadata": {},
   "source": [
    "## Manual transformations for ea table bc I'm too lazy to write up mapping dictionary"
   ]
  },
  {
   "cell_type": "code",
   "execution_count": 11,
   "metadata": {
    "collapsed": false
   },
   "outputs": [
    {
     "data": {
      "text/html": [
       "<div>\n",
       "<table border=\"1\" class=\"dataframe\">\n",
       "  <thead>\n",
       "    <tr style=\"text-align: right;\">\n",
       "      <th></th>\n",
       "      <th>0</th>\n",
       "    </tr>\n",
       "  </thead>\n",
       "  <tbody>\n",
       "    <tr>\n",
       "      <th>tract_and_block_group</th>\n",
       "      <td>0001001</td>\n",
       "    </tr>\n",
       "    <tr>\n",
       "      <th>bedroom_total_ppl</th>\n",
       "      <td>560</td>\n",
       "    </tr>\n",
       "    <tr>\n",
       "      <th>bedroom_0</th>\n",
       "      <td>8</td>\n",
       "    </tr>\n",
       "    <tr>\n",
       "      <th>bedroom_1</th>\n",
       "      <td>120</td>\n",
       "    </tr>\n",
       "    <tr>\n",
       "      <th>bedroom_2</th>\n",
       "      <td>193</td>\n",
       "    </tr>\n",
       "    <tr>\n",
       "      <th>bedroom_3</th>\n",
       "      <td>183</td>\n",
       "    </tr>\n",
       "    <tr>\n",
       "      <th>bedroom_4</th>\n",
       "      <td>56</td>\n",
       "    </tr>\n",
       "    <tr>\n",
       "      <th>bedroom_5+</th>\n",
       "      <td>0</td>\n",
       "    </tr>\n",
       "  </tbody>\n",
       "</table>\n",
       "</div>"
      ],
      "text/plain": [
       "                             0\n",
       "tract_and_block_group  0001001\n",
       "bedroom_total_ppl          560\n",
       "bedroom_0                    8\n",
       "bedroom_1                  120\n",
       "bedroom_2                  193\n",
       "bedroom_3                  183\n",
       "bedroom_4                   56\n",
       "bedroom_5+                   0"
      ]
     },
     "execution_count": 11,
     "metadata": {},
     "output_type": "execute_result"
    }
   ],
   "source": [
    "df0 = preprocess_census_csv(CENSUS_TABLES_TO_GET[0])\n",
    "df0.columns = ['tract_and_block_group', 'bedroom_total_ppl', 'bedroom_0', 'bedroom_1', 'bedroom_2', 'bedroom_3', 'bedroom_4', 'bedroom_5+']\n",
    "df0.head(1).T"
   ]
  },
  {
   "cell_type": "code",
   "execution_count": 12,
   "metadata": {
    "collapsed": false
   },
   "outputs": [
    {
     "data": {
      "text/html": [
       "<div>\n",
       "<table border=\"1\" class=\"dataframe\">\n",
       "  <thead>\n",
       "    <tr style=\"text-align: right;\">\n",
       "      <th></th>\n",
       "      <th>0</th>\n",
       "    </tr>\n",
       "  </thead>\n",
       "  <tbody>\n",
       "    <tr>\n",
       "      <th>tract_and_block_group</th>\n",
       "      <td>0001001</td>\n",
       "    </tr>\n",
       "    <tr>\n",
       "      <th>school_total</th>\n",
       "      <td>960</td>\n",
       "    </tr>\n",
       "    <tr>\n",
       "      <th>school_0_none</th>\n",
       "      <td>23</td>\n",
       "    </tr>\n",
       "    <tr>\n",
       "      <th>school_1_preschool</th>\n",
       "      <td>0</td>\n",
       "    </tr>\n",
       "    <tr>\n",
       "      <th>school_2_kindergarden</th>\n",
       "      <td>0</td>\n",
       "    </tr>\n",
       "    <tr>\n",
       "      <th>school_3_1st_grade</th>\n",
       "      <td>0</td>\n",
       "    </tr>\n",
       "    <tr>\n",
       "      <th>school_4_2nd_grade</th>\n",
       "      <td>0</td>\n",
       "    </tr>\n",
       "    <tr>\n",
       "      <th>school_5_3rd_grade</th>\n",
       "      <td>9</td>\n",
       "    </tr>\n",
       "    <tr>\n",
       "      <th>school_6_4th_grade</th>\n",
       "      <td>0</td>\n",
       "    </tr>\n",
       "    <tr>\n",
       "      <th>school_7_5th_grade</th>\n",
       "      <td>0</td>\n",
       "    </tr>\n",
       "    <tr>\n",
       "      <th>school_8_6th_grade</th>\n",
       "      <td>0</td>\n",
       "    </tr>\n",
       "    <tr>\n",
       "      <th>school_9_7th_grade</th>\n",
       "      <td>0</td>\n",
       "    </tr>\n",
       "    <tr>\n",
       "      <th>school_10_8th_grade</th>\n",
       "      <td>142</td>\n",
       "    </tr>\n",
       "    <tr>\n",
       "      <th>school_11_9th_grade</th>\n",
       "      <td>0</td>\n",
       "    </tr>\n",
       "    <tr>\n",
       "      <th>school_12_10th_grade</th>\n",
       "      <td>1</td>\n",
       "    </tr>\n",
       "    <tr>\n",
       "      <th>school_13_11th_grade</th>\n",
       "      <td>12</td>\n",
       "    </tr>\n",
       "    <tr>\n",
       "      <th>school_14_12th_grade_no_diploma</th>\n",
       "      <td>34</td>\n",
       "    </tr>\n",
       "    <tr>\n",
       "      <th>school_15_hs_diploma</th>\n",
       "      <td>281</td>\n",
       "    </tr>\n",
       "    <tr>\n",
       "      <th>school_16_ged</th>\n",
       "      <td>57</td>\n",
       "    </tr>\n",
       "    <tr>\n",
       "      <th>school_17_less_than_1_yr</th>\n",
       "      <td>19</td>\n",
       "    </tr>\n",
       "    <tr>\n",
       "      <th>school_18_some_college_no_degree</th>\n",
       "      <td>37</td>\n",
       "    </tr>\n",
       "    <tr>\n",
       "      <th>school_19_associates</th>\n",
       "      <td>0</td>\n",
       "    </tr>\n",
       "    <tr>\n",
       "      <th>school_20_bachelors</th>\n",
       "      <td>298</td>\n",
       "    </tr>\n",
       "    <tr>\n",
       "      <th>school_21_masters</th>\n",
       "      <td>36</td>\n",
       "    </tr>\n",
       "    <tr>\n",
       "      <th>school_22_professional_school</th>\n",
       "      <td>11</td>\n",
       "    </tr>\n",
       "    <tr>\n",
       "      <th>school_23_doctorate</th>\n",
       "      <td>0</td>\n",
       "    </tr>\n",
       "  </tbody>\n",
       "</table>\n",
       "</div>"
      ],
      "text/plain": [
       "                                        0\n",
       "tract_and_block_group             0001001\n",
       "school_total                          960\n",
       "school_0_none                          23\n",
       "school_1_preschool                      0\n",
       "school_2_kindergarden                   0\n",
       "school_3_1st_grade                      0\n",
       "school_4_2nd_grade                      0\n",
       "school_5_3rd_grade                      9\n",
       "school_6_4th_grade                      0\n",
       "school_7_5th_grade                      0\n",
       "school_8_6th_grade                      0\n",
       "school_9_7th_grade                      0\n",
       "school_10_8th_grade                   142\n",
       "school_11_9th_grade                     0\n",
       "school_12_10th_grade                    1\n",
       "school_13_11th_grade                   12\n",
       "school_14_12th_grade_no_diploma        34\n",
       "school_15_hs_diploma                  281\n",
       "school_16_ged                          57\n",
       "school_17_less_than_1_yr               19\n",
       "school_18_some_college_no_degree       37\n",
       "school_19_associates                    0\n",
       "school_20_bachelors                   298\n",
       "school_21_masters                      36\n",
       "school_22_professional_school          11\n",
       "school_23_doctorate                     0"
      ]
     },
     "execution_count": 12,
     "metadata": {},
     "output_type": "execute_result"
    }
   ],
   "source": [
    "df1 = preprocess_census_csv(CENSUS_TABLES_TO_GET[1])\n",
    "df1.columns = ['tract_and_block_group',\n",
    " 'school_total',\n",
    " 'school_0_none',\n",
    " 'school_1_preschool',\n",
    " 'school_2_kindergarden',\n",
    " 'school_3_1st_grade',\n",
    " 'school_4_2nd_grade',\n",
    " 'school_5_3rd_grade',\n",
    " 'school_6_4th_grade',\n",
    " 'school_7_5th_grade',\n",
    " 'school_8_6th_grade',\n",
    " 'school_9_7th_grade',\n",
    " 'school_10_8th_grade',\n",
    " 'school_11_9th_grade',\n",
    " 'school_12_10th_grade',\n",
    " 'school_13_11th_grade',\n",
    " 'school_14_12th_grade_no_diploma',\n",
    " 'school_15_hs_diploma',\n",
    " 'school_16_ged',\n",
    " 'school_17_less_than_1_yr',\n",
    " 'school_18_some_college_no_degree',\n",
    " \"school_19_associates\",\n",
    " \"school_20_bachelors\",\n",
    " \"school_21_masters\",\n",
    " 'school_22_professional_school',\n",
    " 'school_23_doctorate']\n",
    "df1.head(1).T"
   ]
  },
  {
   "cell_type": "code",
   "execution_count": 13,
   "metadata": {
    "collapsed": false
   },
   "outputs": [
    {
     "ename": "NameError",
     "evalue": "name 'df2' is not defined",
     "output_type": "error",
     "traceback": [
      "\u001b[0;31m---------------------------------------------------------------------------\u001b[0m",
      "\u001b[0;31mNameError\u001b[0m                                 Traceback (most recent call last)",
      "\u001b[0;32m<ipython-input-13-290dcf1056b9>\u001b[0m in \u001b[0;36m<module>\u001b[0;34m()\u001b[0m\n\u001b[0;32m----> 1\u001b[0;31m \u001b[0mdf2\u001b[0m\u001b[0;34m.\u001b[0m\u001b[0mhead\u001b[0m\u001b[0;34m(\u001b[0m\u001b[0;36m1\u001b[0m\u001b[0;34m)\u001b[0m\u001b[0;34m.\u001b[0m\u001b[0mdrop\u001b[0m\u001b[0;34m(\u001b[0m\u001b[0;36m1\u001b[0m\u001b[0;34m,\u001b[0m \u001b[0maxis\u001b[0m\u001b[0;34m=\u001b[0m\u001b[0;36m1\u001b[0m\u001b[0;34m)\u001b[0m\u001b[0;34m.\u001b[0m\u001b[0mT\u001b[0m\u001b[0;34m\u001b[0m\u001b[0m\n\u001b[0m",
      "\u001b[0;31mNameError\u001b[0m: name 'df2' is not defined"
     ]
    }
   ],
   "source": [
    "df2.head(1).drop(1, axis=1).T"
   ]
  },
  {
   "cell_type": "code",
   "execution_count": 14,
   "metadata": {
    "collapsed": false
   },
   "outputs": [
    {
     "data": {
      "text/html": [
       "<div>\n",
       "<table border=\"1\" class=\"dataframe\">\n",
       "  <thead>\n",
       "    <tr style=\"text-align: right;\">\n",
       "      <th></th>\n",
       "      <th>0</th>\n",
       "    </tr>\n",
       "  </thead>\n",
       "  <tbody>\n",
       "    <tr>\n",
       "      <th>tract_and_block_group</th>\n",
       "      <td>0001001</td>\n",
       "    </tr>\n",
       "    <tr>\n",
       "      <th>rent_total</th>\n",
       "      <td>348</td>\n",
       "    </tr>\n",
       "    <tr>\n",
       "      <th>rent_0_100</th>\n",
       "      <td>0</td>\n",
       "    </tr>\n",
       "    <tr>\n",
       "      <th>rent_100_149</th>\n",
       "      <td>0</td>\n",
       "    </tr>\n",
       "    <tr>\n",
       "      <th>rent_150_199</th>\n",
       "      <td>0</td>\n",
       "    </tr>\n",
       "    <tr>\n",
       "      <th>rent_200_249</th>\n",
       "      <td>36</td>\n",
       "    </tr>\n",
       "    <tr>\n",
       "      <th>rent_250_299</th>\n",
       "      <td>40</td>\n",
       "    </tr>\n",
       "    <tr>\n",
       "      <th>rent_300_349</th>\n",
       "      <td>9</td>\n",
       "    </tr>\n",
       "    <tr>\n",
       "      <th>rent_350_399</th>\n",
       "      <td>9</td>\n",
       "    </tr>\n",
       "    <tr>\n",
       "      <th>rent_400_449</th>\n",
       "      <td>12</td>\n",
       "    </tr>\n",
       "    <tr>\n",
       "      <th>rent_450_499</th>\n",
       "      <td>13</td>\n",
       "    </tr>\n",
       "    <tr>\n",
       "      <th>rent_500_549</th>\n",
       "      <td>0</td>\n",
       "    </tr>\n",
       "    <tr>\n",
       "      <th>rent_550_599</th>\n",
       "      <td>0</td>\n",
       "    </tr>\n",
       "    <tr>\n",
       "      <th>rent_600_649</th>\n",
       "      <td>8</td>\n",
       "    </tr>\n",
       "    <tr>\n",
       "      <th>rent_650_699</th>\n",
       "      <td>51</td>\n",
       "    </tr>\n",
       "    <tr>\n",
       "      <th>rent_700_749</th>\n",
       "      <td>0</td>\n",
       "    </tr>\n",
       "    <tr>\n",
       "      <th>rent_750_799</th>\n",
       "      <td>0</td>\n",
       "    </tr>\n",
       "    <tr>\n",
       "      <th>rent_800_899</th>\n",
       "      <td>0</td>\n",
       "    </tr>\n",
       "    <tr>\n",
       "      <th>rent_900_999</th>\n",
       "      <td>0</td>\n",
       "    </tr>\n",
       "    <tr>\n",
       "      <th>rent_1000_1249</th>\n",
       "      <td>41</td>\n",
       "    </tr>\n",
       "    <tr>\n",
       "      <th>rent_1250_1499</th>\n",
       "      <td>9</td>\n",
       "    </tr>\n",
       "    <tr>\n",
       "      <th>rent_1500_1999</th>\n",
       "      <td>37</td>\n",
       "    </tr>\n",
       "    <tr>\n",
       "      <th>rent_2000_2499</th>\n",
       "      <td>73</td>\n",
       "    </tr>\n",
       "    <tr>\n",
       "      <th>rent_2500_2999</th>\n",
       "      <td>0</td>\n",
       "    </tr>\n",
       "    <tr>\n",
       "      <th>rent_3000_3499</th>\n",
       "      <td>0</td>\n",
       "    </tr>\n",
       "    <tr>\n",
       "      <th>rent_3500+</th>\n",
       "      <td>10</td>\n",
       "    </tr>\n",
       "  </tbody>\n",
       "</table>\n",
       "</div>"
      ],
      "text/plain": [
       "                             0\n",
       "tract_and_block_group  0001001\n",
       "rent_total                 348\n",
       "rent_0_100                   0\n",
       "rent_100_149                 0\n",
       "rent_150_199                 0\n",
       "rent_200_249                36\n",
       "rent_250_299                40\n",
       "rent_300_349                 9\n",
       "rent_350_399                 9\n",
       "rent_400_449                12\n",
       "rent_450_499                13\n",
       "rent_500_549                 0\n",
       "rent_550_599                 0\n",
       "rent_600_649                 8\n",
       "rent_650_699                51\n",
       "rent_700_749                 0\n",
       "rent_750_799                 0\n",
       "rent_800_899                 0\n",
       "rent_900_999                 0\n",
       "rent_1000_1249              41\n",
       "rent_1250_1499               9\n",
       "rent_1500_1999              37\n",
       "rent_2000_2499              73\n",
       "rent_2500_2999               0\n",
       "rent_3000_3499               0\n",
       "rent_3500+                  10"
      ]
     },
     "execution_count": 14,
     "metadata": {},
     "output_type": "execute_result"
    }
   ],
   "source": [
    "df2 = preprocess_census_csv(CENSUS_TABLES_TO_GET[2])\n",
    "df2 = df2.drop(['total', 'ent'], axis=1)\n",
    "df2.columns = ['tract_and_block_group',\n",
    " 'rent_total',\n",
    " 'rent_0_100',\n",
    " 'rent_100_149',\n",
    " 'rent_150_199',\n",
    " 'rent_200_249',\n",
    " 'rent_250_299',\n",
    " 'rent_300_349',\n",
    " 'rent_350_399',\n",
    " 'rent_400_449',\n",
    " 'rent_450_499',\n",
    " 'rent_500_549',\n",
    " 'rent_550_599',\n",
    " 'rent_600_649',\n",
    " 'rent_650_699',\n",
    " 'rent_700_749',\n",
    " 'rent_750_799',\n",
    " 'rent_800_899',\n",
    " 'rent_900_999',\n",
    " 'rent_1000_1249',\n",
    " 'rent_1250_1499',\n",
    " 'rent_1500_1999',\n",
    " 'rent_2000_2499',\n",
    " 'rent_2500_2999',\n",
    " 'rent_3000_3499',\n",
    " 'rent_3500+']\n",
    "df2.head(1).T"
   ]
  },
  {
   "cell_type": "code",
   "execution_count": 3,
   "metadata": {
    "collapsed": true
   },
   "outputs": [],
   "source": [
    "def process_columns(columns, table_id, mapping):\n",
    "    return columns"
   ]
  },
  {
   "cell_type": "code",
   "execution_count": 6,
   "metadata": {
    "collapsed": false
   },
   "outputs": [
    {
     "data": {
      "text/html": [
       "<div>\n",
       "<table border=\"1\" class=\"dataframe\">\n",
       "  <thead>\n",
       "    <tr style=\"text-align: right;\">\n",
       "      <th></th>\n",
       "      <th>0</th>\n",
       "    </tr>\n",
       "  </thead>\n",
       "  <tbody>\n",
       "    <tr>\n",
       "      <th>tract_and_block_group</th>\n",
       "      <td>0001001</td>\n",
       "    </tr>\n",
       "    <tr>\n",
       "      <th>race_total</th>\n",
       "      <td>1374</td>\n",
       "    </tr>\n",
       "    <tr>\n",
       "      <th>race_white</th>\n",
       "      <td>593</td>\n",
       "    </tr>\n",
       "    <tr>\n",
       "      <th>race_black</th>\n",
       "      <td>126</td>\n",
       "    </tr>\n",
       "    <tr>\n",
       "      <th>race_asian</th>\n",
       "      <td>322</td>\n",
       "    </tr>\n",
       "    <tr>\n",
       "      <th>race_hispanic</th>\n",
       "      <td>316</td>\n",
       "    </tr>\n",
       "    <tr>\n",
       "      <th>race_other</th>\n",
       "      <td>17</td>\n",
       "    </tr>\n",
       "  </tbody>\n",
       "</table>\n",
       "</div>"
      ],
      "text/plain": [
       "                             0\n",
       "tract_and_block_group  0001001\n",
       "race_total                1374\n",
       "race_white                 593\n",
       "race_black                 126\n",
       "race_asian                 322\n",
       "race_hispanic              316\n",
       "race_other                  17"
      ]
     },
     "execution_count": 6,
     "metadata": {},
     "output_type": "execute_result"
    }
   ],
   "source": [
    "df3 = preprocess_census_csv(CENSUS_TABLES_TO_GET[3])\n",
    "df3 = df3.iloc[:, :13]\n",
    "df3 = df3[[i for i in df3.columns if not ('Two' in i or 'other' in i.lower() or 'Indian' in i)]]\n",
    "df3.columns = ['tract_and_block_group',\n",
    " 'race_total',\n",
    " 'race_non_hispanic_total',\n",
    " 'race_white',\n",
    " 'race_black',\n",
    " 'race_asian',\n",
    " 'race_hispanic']\n",
    "df3['race_other'] = df3['race_non_hispanic_total'] - df3['race_white'] - df3['race_black'] - df3['race_asian']\n",
    "df3 = df3.drop('race_non_hispanic_total', axis=1)\n",
    "df3.head(1).T"
   ]
  },
  {
   "cell_type": "code",
   "execution_count": 8,
   "metadata": {
    "collapsed": false
   },
   "outputs": [
    {
     "data": {
      "text/html": [
       "<div>\n",
       "<table border=\"1\" class=\"dataframe\">\n",
       "  <thead>\n",
       "    <tr style=\"text-align: right;\">\n",
       "      <th></th>\n",
       "      <th>tract_and_block_group</th>\n",
       "      <th>race_total</th>\n",
       "      <th>race_white</th>\n",
       "      <th>race_black</th>\n",
       "      <th>race_asian</th>\n",
       "      <th>race_hispanic</th>\n",
       "      <th>race_other</th>\n",
       "    </tr>\n",
       "  </thead>\n",
       "  <tbody>\n",
       "    <tr>\n",
       "      <th>643</th>\n",
       "      <td>9817001</td>\n",
       "      <td>0</td>\n",
       "      <td>0</td>\n",
       "      <td>0</td>\n",
       "      <td>0</td>\n",
       "      <td>0</td>\n",
       "      <td>0</td>\n",
       "    </tr>\n",
       "  </tbody>\n",
       "</table>\n",
       "</div>"
      ],
      "text/plain": [
       "    tract_and_block_group  race_total  race_white  race_black  race_asian  \\\n",
       "643               9817001           0           0           0           0   \n",
       "\n",
       "     race_hispanic  race_other  \n",
       "643              0           0  "
      ]
     },
     "execution_count": 8,
     "metadata": {},
     "output_type": "execute_result"
    }
   ],
   "source": [
    "df3[df3.tract_and_block_group.str.contains('981700')]"
   ]
  },
  {
   "cell_type": "code",
   "execution_count": 17,
   "metadata": {
    "collapsed": true
   },
   "outputs": [],
   "source": [
    "def process_columns(columns, table_id, mapping):\n",
    "    new_cols = []\n",
    "    \n",
    "    for col in columns:\n",
    "        if 'Estimate' in col:\n",
    "            if col[19:] == '':\n",
    "                col = '_' * 19 + 'total'\n",
    "            \n",
    "            if mapping:\n",
    "                col = \"{table_name}{num_range}\".format(\n",
    "                    table_name=mapping[table_id],\n",
    "                    num_range=col[19:].\n",
    "                        replace('$', '').\n",
    "                        replace(' to ', '_').\n",
    "                        replace(',', '').\n",
    "                        replace('Less than ', '0_').\n",
    "                        replace(' or more', '+')\n",
    "                )\n",
    "            else:\n",
    "                col = col[19:].replace('$', '')\n",
    "        \n",
    "        new_cols += [col]\n",
    "            \n",
    "    return new_cols"
   ]
  },
  {
   "cell_type": "code",
   "execution_count": 18,
   "metadata": {
    "collapsed": false
   },
   "outputs": [
    {
     "data": {
      "text/html": [
       "<div>\n",
       "<table border=\"1\" class=\"dataframe\">\n",
       "  <thead>\n",
       "    <tr style=\"text-align: right;\">\n",
       "      <th></th>\n",
       "      <th>0</th>\n",
       "    </tr>\n",
       "  </thead>\n",
       "  <tbody>\n",
       "    <tr>\n",
       "      <th>tract_and_block_group</th>\n",
       "      <td>0001001</td>\n",
       "    </tr>\n",
       "    <tr>\n",
       "      <th>income_total</th>\n",
       "      <td>543</td>\n",
       "    </tr>\n",
       "    <tr>\n",
       "      <th>income_0_10000</th>\n",
       "      <td>24</td>\n",
       "    </tr>\n",
       "    <tr>\n",
       "      <th>income_10000_14999</th>\n",
       "      <td>132</td>\n",
       "    </tr>\n",
       "    <tr>\n",
       "      <th>income_15000_19999</th>\n",
       "      <td>16</td>\n",
       "    </tr>\n",
       "    <tr>\n",
       "      <th>income_20000_24999</th>\n",
       "      <td>30</td>\n",
       "    </tr>\n",
       "    <tr>\n",
       "      <th>income_25000_29999</th>\n",
       "      <td>3</td>\n",
       "    </tr>\n",
       "    <tr>\n",
       "      <th>income_30000_34999</th>\n",
       "      <td>83</td>\n",
       "    </tr>\n",
       "    <tr>\n",
       "      <th>income_35000_39999</th>\n",
       "      <td>0</td>\n",
       "    </tr>\n",
       "    <tr>\n",
       "      <th>income_40000_44999</th>\n",
       "      <td>16</td>\n",
       "    </tr>\n",
       "    <tr>\n",
       "      <th>income_45000_49999</th>\n",
       "      <td>13</td>\n",
       "    </tr>\n",
       "    <tr>\n",
       "      <th>income_50000_59999</th>\n",
       "      <td>72</td>\n",
       "    </tr>\n",
       "    <tr>\n",
       "      <th>income_60000_74999</th>\n",
       "      <td>23</td>\n",
       "    </tr>\n",
       "    <tr>\n",
       "      <th>income_75000_99999</th>\n",
       "      <td>44</td>\n",
       "    </tr>\n",
       "    <tr>\n",
       "      <th>income_100000_124999</th>\n",
       "      <td>16</td>\n",
       "    </tr>\n",
       "    <tr>\n",
       "      <th>income_125000_149999</th>\n",
       "      <td>15</td>\n",
       "    </tr>\n",
       "    <tr>\n",
       "      <th>income_150000_199999</th>\n",
       "      <td>0</td>\n",
       "    </tr>\n",
       "    <tr>\n",
       "      <th>income_200000+</th>\n",
       "      <td>56</td>\n",
       "    </tr>\n",
       "  </tbody>\n",
       "</table>\n",
       "</div>"
      ],
      "text/plain": [
       "                             0\n",
       "tract_and_block_group  0001001\n",
       "income_total               543\n",
       "income_0_10000              24\n",
       "income_10000_14999         132\n",
       "income_15000_19999          16\n",
       "income_20000_24999          30\n",
       "income_25000_29999           3\n",
       "income_30000_34999          83\n",
       "income_35000_39999           0\n",
       "income_40000_44999          16\n",
       "income_45000_49999          13\n",
       "income_50000_59999          72\n",
       "income_60000_74999          23\n",
       "income_75000_99999          44\n",
       "income_100000_124999        16\n",
       "income_125000_149999        15\n",
       "income_150000_199999         0\n",
       "income_200000+              56"
      ]
     },
     "execution_count": 18,
     "metadata": {},
     "output_type": "execute_result"
    }
   ],
   "source": [
    "df4 = preprocess_census_csv(CENSUS_TABLES_TO_GET[4], CENSUS_TABLE_MY_MAPPING)\n",
    "df4.head(1).T"
   ]
  },
  {
   "cell_type": "code",
   "execution_count": 19,
   "metadata": {
    "collapsed": false
   },
   "outputs": [
    {
     "data": {
      "text/html": [
       "<div>\n",
       "<table border=\"1\" class=\"dataframe\">\n",
       "  <thead>\n",
       "    <tr style=\"text-align: right;\">\n",
       "      <th></th>\n",
       "      <th>0</th>\n",
       "    </tr>\n",
       "  </thead>\n",
       "  <tbody>\n",
       "    <tr>\n",
       "      <th>tract_and_block_group</th>\n",
       "      <td>0001001</td>\n",
       "    </tr>\n",
       "    <tr>\n",
       "      <th>poverty_total_pop</th>\n",
       "      <td>543</td>\n",
       "    </tr>\n",
       "    <tr>\n",
       "      <th>poverty_pop_below_poverty_level</th>\n",
       "      <td>122</td>\n",
       "    </tr>\n",
       "  </tbody>\n",
       "</table>\n",
       "</div>"
      ],
      "text/plain": [
       "                                       0\n",
       "tract_and_block_group            0001001\n",
       "poverty_total_pop                    543\n",
       "poverty_pop_below_poverty_level      122"
      ]
     },
     "execution_count": 19,
     "metadata": {},
     "output_type": "execute_result"
    }
   ],
   "source": [
    "df5 = preprocess_census_csv(CENSUS_TABLES_TO_GET[5], CENSUS_TABLE_MY_MAPPING)\n",
    "df5 = df5.iloc[:, :3]\n",
    "df5.columns = ['tract_and_block_group',\n",
    " 'poverty_total_pop',\n",
    " 'poverty_pop_below_poverty_level']\n",
    "df5.head(1).T"
   ]
  },
  {
   "cell_type": "code",
   "execution_count": 20,
   "metadata": {
    "collapsed": false
   },
   "outputs": [
    {
     "data": {
      "text/html": [
       "<div>\n",
       "<table border=\"1\" class=\"dataframe\">\n",
       "  <thead>\n",
       "    <tr style=\"text-align: right;\">\n",
       "      <th></th>\n",
       "      <th>0</th>\n",
       "    </tr>\n",
       "  </thead>\n",
       "  <tbody>\n",
       "    <tr>\n",
       "      <th>tract_and_block_group</th>\n",
       "      <td>0001001</td>\n",
       "    </tr>\n",
       "    <tr>\n",
       "      <th>income_per_capita</th>\n",
       "      <td>26233</td>\n",
       "    </tr>\n",
       "  </tbody>\n",
       "</table>\n",
       "</div>"
      ],
      "text/plain": [
       "                             0\n",
       "tract_and_block_group  0001001\n",
       "income_per_capita        26233"
      ]
     },
     "execution_count": 20,
     "metadata": {},
     "output_type": "execute_result"
    }
   ],
   "source": [
    "df6 = preprocess_census_csv(CENSUS_TABLES_TO_GET[6], CENSUS_TABLE_MY_MAPPING)\n",
    "df6.columns = ['tract_and_block_group', 'income_per_capita']\n",
    "df6.head(1).T"
   ]
  },
  {
   "cell_type": "code",
   "execution_count": 21,
   "metadata": {
    "collapsed": false
   },
   "outputs": [
    {
     "data": {
      "text/html": [
       "<div>\n",
       "<table border=\"1\" class=\"dataframe\">\n",
       "  <thead>\n",
       "    <tr style=\"text-align: right;\">\n",
       "      <th></th>\n",
       "      <th>0</th>\n",
       "    </tr>\n",
       "  </thead>\n",
       "  <tbody>\n",
       "    <tr>\n",
       "      <th>tract_and_block_group</th>\n",
       "      <td>0001001</td>\n",
       "    </tr>\n",
       "    <tr>\n",
       "      <th>poverty_pop_w_public_assistance</th>\n",
       "      <td>9</td>\n",
       "    </tr>\n",
       "  </tbody>\n",
       "</table>\n",
       "</div>"
      ],
      "text/plain": [
       "                                       0\n",
       "tract_and_block_group            0001001\n",
       "poverty_pop_w_public_assistance        9"
      ]
     },
     "execution_count": 21,
     "metadata": {},
     "output_type": "execute_result"
    }
   ],
   "source": [
    "df7 = preprocess_census_csv(CENSUS_TABLES_TO_GET[7], CENSUS_TABLE_MY_MAPPING)\n",
    "df7 = df7.iloc[:, :3]\n",
    "df7 = df7.drop('income_public_assistance_total', axis=1)\n",
    "df7.columns = ['tract_and_block_group',\n",
    " 'poverty_pop_w_public_assistance']\n",
    "df7.head(1).T"
   ]
  },
  {
   "cell_type": "code",
   "execution_count": 22,
   "metadata": {
    "collapsed": false
   },
   "outputs": [
    {
     "data": {
      "text/html": [
       "<div>\n",
       "<table border=\"1\" class=\"dataframe\">\n",
       "  <thead>\n",
       "    <tr style=\"text-align: right;\">\n",
       "      <th></th>\n",
       "      <th>0</th>\n",
       "    </tr>\n",
       "  </thead>\n",
       "  <tbody>\n",
       "    <tr>\n",
       "      <th>tract_and_block_group</th>\n",
       "      <td>0001001</td>\n",
       "    </tr>\n",
       "    <tr>\n",
       "      <th>poverty_pop_w_food_stamps</th>\n",
       "      <td>89</td>\n",
       "    </tr>\n",
       "  </tbody>\n",
       "</table>\n",
       "</div>"
      ],
      "text/plain": [
       "                                 0\n",
       "tract_and_block_group      0001001\n",
       "poverty_pop_w_food_stamps       89"
      ]
     },
     "execution_count": 22,
     "metadata": {},
     "output_type": "execute_result"
    }
   ],
   "source": [
    "df8 = preprocess_census_csv(CENSUS_TABLES_TO_GET[8], CENSUS_TABLE_MY_MAPPING)\n",
    "df8 = df8[['tract_and_block_group', 'food_stamps_ received Food Stamps/SNAP in the past 12 months:']]\n",
    "df8.columns = ['tract_and_block_group',\n",
    " 'poverty_pop_w_food_stamps']\n",
    "df8.head(1).T"
   ]
  },
  {
   "cell_type": "code",
   "execution_count": 23,
   "metadata": {
    "collapsed": false
   },
   "outputs": [
    {
     "data": {
      "text/html": [
       "<div>\n",
       "<table border=\"1\" class=\"dataframe\">\n",
       "  <thead>\n",
       "    <tr style=\"text-align: right;\">\n",
       "      <th></th>\n",
       "      <th>0</th>\n",
       "    </tr>\n",
       "  </thead>\n",
       "  <tbody>\n",
       "    <tr>\n",
       "      <th>tract_and_block_group</th>\n",
       "      <td>0001001</td>\n",
       "    </tr>\n",
       "    <tr>\n",
       "      <th>poverty_pop_w_ssi</th>\n",
       "      <td>12</td>\n",
       "    </tr>\n",
       "  </tbody>\n",
       "</table>\n",
       "</div>"
      ],
      "text/plain": [
       "                             0\n",
       "tract_and_block_group  0001001\n",
       "poverty_pop_w_ssi           12"
      ]
     },
     "execution_count": 23,
     "metadata": {},
     "output_type": "execute_result"
    }
   ],
   "source": [
    "df9 = preprocess_census_csv(CENSUS_TABLES_TO_GET[9], CENSUS_TABLE_MY_MAPPING)\n",
    "df9 = df9[['tract_and_block_group', 'ssi_With Supplemental Security Income (SSI)']]\n",
    "df9.columns = ['tract_and_block_group',\n",
    " 'poverty_pop_w_ssi']\n",
    "df9.head(1).T"
   ]
  },
  {
   "cell_type": "code",
   "execution_count": 24,
   "metadata": {
    "collapsed": false
   },
   "outputs": [
    {
     "data": {
      "text/html": [
       "<div>\n",
       "<table border=\"1\" class=\"dataframe\">\n",
       "  <thead>\n",
       "    <tr style=\"text-align: right;\">\n",
       "      <th></th>\n",
       "      <th>0</th>\n",
       "    </tr>\n",
       "  </thead>\n",
       "  <tbody>\n",
       "    <tr>\n",
       "      <th>tract_and_block_group</th>\n",
       "      <td>0001001</td>\n",
       "    </tr>\n",
       "    <tr>\n",
       "      <th>housing_total</th>\n",
       "      <td>543</td>\n",
       "    </tr>\n",
       "    <tr>\n",
       "      <th>housing_own</th>\n",
       "      <td>177</td>\n",
       "    </tr>\n",
       "    <tr>\n",
       "      <th>housing_rent</th>\n",
       "      <td>366</td>\n",
       "    </tr>\n",
       "  </tbody>\n",
       "</table>\n",
       "</div>"
      ],
      "text/plain": [
       "                             0\n",
       "tract_and_block_group  0001001\n",
       "housing_total              543\n",
       "housing_own                177\n",
       "housing_rent               366"
      ]
     },
     "execution_count": 24,
     "metadata": {},
     "output_type": "execute_result"
    }
   ],
   "source": [
    "df10 = preprocess_census_csv(CENSUS_TABLES_TO_GET[10], CENSUS_TABLE_MY_MAPPING)\n",
    "df10.columns = ['tract_and_block_group',\n",
    " 'housing_total',\n",
    " 'housing_own',\n",
    " 'housing_rent']\n",
    "df10.head(1).T"
   ]
  },
  {
   "cell_type": "code",
   "execution_count": 25,
   "metadata": {
    "collapsed": false
   },
   "outputs": [
    {
     "data": {
      "text/html": [
       "<div>\n",
       "<table border=\"1\" class=\"dataframe\">\n",
       "  <thead>\n",
       "    <tr style=\"text-align: right;\">\n",
       "      <th></th>\n",
       "      <th>0</th>\n",
       "    </tr>\n",
       "  </thead>\n",
       "  <tbody>\n",
       "    <tr>\n",
       "      <th>tract_and_block_group</th>\n",
       "      <td>0001001</td>\n",
       "    </tr>\n",
       "    <tr>\n",
       "      <th>value_total</th>\n",
       "      <td>177</td>\n",
       "    </tr>\n",
       "    <tr>\n",
       "      <th>value_0_10000</th>\n",
       "      <td>0</td>\n",
       "    </tr>\n",
       "    <tr>\n",
       "      <th>value_10000_14999</th>\n",
       "      <td>0</td>\n",
       "    </tr>\n",
       "    <tr>\n",
       "      <th>value_15000_19999</th>\n",
       "      <td>0</td>\n",
       "    </tr>\n",
       "    <tr>\n",
       "      <th>value_20000_24999</th>\n",
       "      <td>0</td>\n",
       "    </tr>\n",
       "    <tr>\n",
       "      <th>value_25000_29999</th>\n",
       "      <td>0</td>\n",
       "    </tr>\n",
       "    <tr>\n",
       "      <th>value_30000_34999</th>\n",
       "      <td>0</td>\n",
       "    </tr>\n",
       "    <tr>\n",
       "      <th>value_35000_39999</th>\n",
       "      <td>0</td>\n",
       "    </tr>\n",
       "    <tr>\n",
       "      <th>value_40000_49999</th>\n",
       "      <td>0</td>\n",
       "    </tr>\n",
       "    <tr>\n",
       "      <th>value_50000_59999</th>\n",
       "      <td>0</td>\n",
       "    </tr>\n",
       "    <tr>\n",
       "      <th>value_60000_69999</th>\n",
       "      <td>0</td>\n",
       "    </tr>\n",
       "    <tr>\n",
       "      <th>value_70000_79999</th>\n",
       "      <td>0</td>\n",
       "    </tr>\n",
       "    <tr>\n",
       "      <th>value_80000_89999</th>\n",
       "      <td>0</td>\n",
       "    </tr>\n",
       "    <tr>\n",
       "      <th>value_90000_99999</th>\n",
       "      <td>0</td>\n",
       "    </tr>\n",
       "    <tr>\n",
       "      <th>value_100000_124999</th>\n",
       "      <td>0</td>\n",
       "    </tr>\n",
       "    <tr>\n",
       "      <th>value_125000_149999</th>\n",
       "      <td>0</td>\n",
       "    </tr>\n",
       "    <tr>\n",
       "      <th>value_150000_174999</th>\n",
       "      <td>7</td>\n",
       "    </tr>\n",
       "    <tr>\n",
       "      <th>value_175000_199999</th>\n",
       "      <td>13</td>\n",
       "    </tr>\n",
       "    <tr>\n",
       "      <th>value_200000_249999</th>\n",
       "      <td>38</td>\n",
       "    </tr>\n",
       "    <tr>\n",
       "      <th>value_250000_299999</th>\n",
       "      <td>22</td>\n",
       "    </tr>\n",
       "    <tr>\n",
       "      <th>value_300000_399999</th>\n",
       "      <td>5</td>\n",
       "    </tr>\n",
       "    <tr>\n",
       "      <th>value_400000_499999</th>\n",
       "      <td>51</td>\n",
       "    </tr>\n",
       "    <tr>\n",
       "      <th>value_500000_749999</th>\n",
       "      <td>41</td>\n",
       "    </tr>\n",
       "    <tr>\n",
       "      <th>value_750000_999999</th>\n",
       "      <td>0</td>\n",
       "    </tr>\n",
       "    <tr>\n",
       "      <th>value_1000000_1499999</th>\n",
       "      <td>0</td>\n",
       "    </tr>\n",
       "    <tr>\n",
       "      <th>value_1500000_1999999</th>\n",
       "      <td>0</td>\n",
       "    </tr>\n",
       "    <tr>\n",
       "      <th>value_2000000+</th>\n",
       "      <td>0</td>\n",
       "    </tr>\n",
       "  </tbody>\n",
       "</table>\n",
       "</div>"
      ],
      "text/plain": [
       "                             0\n",
       "tract_and_block_group  0001001\n",
       "value_total                177\n",
       "value_0_10000                0\n",
       "value_10000_14999            0\n",
       "value_15000_19999            0\n",
       "value_20000_24999            0\n",
       "value_25000_29999            0\n",
       "value_30000_34999            0\n",
       "value_35000_39999            0\n",
       "value_40000_49999            0\n",
       "value_50000_59999            0\n",
       "value_60000_69999            0\n",
       "value_70000_79999            0\n",
       "value_80000_89999            0\n",
       "value_90000_99999            0\n",
       "value_100000_124999          0\n",
       "value_125000_149999          0\n",
       "value_150000_174999          7\n",
       "value_175000_199999         13\n",
       "value_200000_249999         38\n",
       "value_250000_299999         22\n",
       "value_300000_399999          5\n",
       "value_400000_499999         51\n",
       "value_500000_749999         41\n",
       "value_750000_999999          0\n",
       "value_1000000_1499999        0\n",
       "value_1500000_1999999        0\n",
       "value_2000000+               0"
      ]
     },
     "execution_count": 25,
     "metadata": {},
     "output_type": "execute_result"
    }
   ],
   "source": [
    "df11 = preprocess_census_csv(CENSUS_TABLES_TO_GET[11], CENSUS_TABLE_MY_MAPPING)\n",
    "# df11 = df11.iloc[:, :3]\n",
    "# df11.columns = ['tract_and_block_group',\n",
    "#  'poverty_total_pop',\n",
    "#  'poverty_pop_below_poverty_level']\n",
    "df11.head(1).T"
   ]
  },
  {
   "cell_type": "code",
   "execution_count": 26,
   "metadata": {
    "collapsed": false
   },
   "outputs": [
    {
     "data": {
      "text/plain": [
       "['tract_and_block_group',\n",
       " 'poverty_total_pop',\n",
       " 'poverty_pop_below_poverty_level']"
      ]
     },
     "execution_count": 26,
     "metadata": {},
     "output_type": "execute_result"
    }
   ],
   "source": [
    "list(df5.columns)"
   ]
  },
  {
   "cell_type": "markdown",
   "metadata": {},
   "source": [
    "## Finally finished making dfs; now to check them (manually)"
   ]
  },
  {
   "cell_type": "code",
   "execution_count": 27,
   "metadata": {
    "collapsed": false
   },
   "outputs": [
    {
     "data": {
      "text/html": [
       "<div>\n",
       "<table border=\"1\" class=\"dataframe\">\n",
       "  <thead>\n",
       "    <tr style=\"text-align: right;\">\n",
       "      <th></th>\n",
       "      <th>0</th>\n",
       "    </tr>\n",
       "  </thead>\n",
       "  <tbody>\n",
       "    <tr>\n",
       "      <th>tract_and_block_group</th>\n",
       "      <td>0001001</td>\n",
       "    </tr>\n",
       "    <tr>\n",
       "      <th>poverty_pop_w_food_stamps</th>\n",
       "      <td>89</td>\n",
       "    </tr>\n",
       "  </tbody>\n",
       "</table>\n",
       "</div>"
      ],
      "text/plain": [
       "                                 0\n",
       "tract_and_block_group      0001001\n",
       "poverty_pop_w_food_stamps       89"
      ]
     },
     "execution_count": 27,
     "metadata": {},
     "output_type": "execute_result"
    }
   ],
   "source": [
    "df8.head(1).T"
   ]
  },
  {
   "cell_type": "markdown",
   "metadata": {},
   "source": [
    "## Now to make the giant df and pickle it"
   ]
  },
  {
   "cell_type": "code",
   "execution_count": 28,
   "metadata": {
    "collapsed": true
   },
   "outputs": [],
   "source": [
    "dfs = [df0, df1, df2, df3, df4, df5, df6, df7, df8, df9, df10, df11]"
   ]
  },
  {
   "cell_type": "code",
   "execution_count": 29,
   "metadata": {
    "collapsed": false
   },
   "outputs": [
    {
     "name": "stdout",
     "output_type": "stream",
     "text": [
      "CPU times: user 20 µs, sys: 5 µs, total: 25 µs\n",
      "Wall time: 16 µs\n"
     ]
    }
   ],
   "source": [
    "%time\n",
    "# http://stackoverflow.com/questions/23668427/pandas-joining-multiple-dataframes-on-columns\n",
    "df_final = reduce(lambda left, right: pd.merge(left, right, on='tract_and_block_group', how='outer'), dfs)"
   ]
  },
  {
   "cell_type": "code",
   "execution_count": 30,
   "metadata": {
    "collapsed": false
   },
   "outputs": [
    {
     "data": {
      "text/plain": [
       "(646, 117)"
      ]
     },
     "execution_count": 30,
     "metadata": {},
     "output_type": "execute_result"
    }
   ],
   "source": [
    "df_final.shape"
   ]
  },
  {
   "cell_type": "code",
   "execution_count": 31,
   "metadata": {
    "collapsed": false
   },
   "outputs": [
    {
     "data": {
      "text/plain": [
       "[646, 646, 646, 646, 646, 646, 645, 646, 646, 646, 646, 646]"
      ]
     },
     "execution_count": 31,
     "metadata": {},
     "output_type": "execute_result"
    }
   ],
   "source": [
    "[i.shape[0] for i in dfs]"
   ]
  },
  {
   "cell_type": "markdown",
   "metadata": {},
   "source": [
    "### Just to be good, check the `tract_and_block_group` for the 645 one. Check that it's not in Boston"
   ]
  },
  {
   "cell_type": "code",
   "execution_count": 32,
   "metadata": {
    "collapsed": false
   },
   "outputs": [
    {
     "data": {
      "text/html": [
       "<div>\n",
       "<table border=\"1\" class=\"dataframe\">\n",
       "  <thead>\n",
       "    <tr style=\"text-align: right;\">\n",
       "      <th></th>\n",
       "      <th>0</th>\n",
       "    </tr>\n",
       "  </thead>\n",
       "  <tbody>\n",
       "    <tr>\n",
       "      <th>tract_and_block_group</th>\n",
       "      <td>0001001</td>\n",
       "    </tr>\n",
       "    <tr>\n",
       "      <th>income_per_capita</th>\n",
       "      <td>26233</td>\n",
       "    </tr>\n",
       "  </tbody>\n",
       "</table>\n",
       "</div>"
      ],
      "text/plain": [
       "                             0\n",
       "tract_and_block_group  0001001\n",
       "income_per_capita        26233"
      ]
     },
     "execution_count": 32,
     "metadata": {},
     "output_type": "execute_result"
    }
   ],
   "source": [
    "df6.head(1).T"
   ]
  },
  {
   "cell_type": "code",
   "execution_count": 33,
   "metadata": {
    "collapsed": false
   },
   "outputs": [],
   "source": [
    "from_df6 = set(df6.tract_and_block_group.drop_duplicates())\n",
    "from_df7 = set(df7.tract_and_block_group.drop_duplicates())"
   ]
  },
  {
   "cell_type": "code",
   "execution_count": 34,
   "metadata": {
    "collapsed": false
   },
   "outputs": [
    {
     "name": "stdout",
     "output_type": "stream",
     "text": [
      "set([])\n",
      "set(['9811003'])\n"
     ]
    }
   ],
   "source": [
    "print from_df6.difference(from_df7)\n",
    "print from_df7.difference(from_df6)"
   ]
  },
  {
   "cell_type": "markdown",
   "metadata": {},
   "source": [
    "Upon visual inspection [here](https://censusreporter.org/profiles/14000US25025090901-census-tract-90901-suffolk\n",
    "-ma/), that Census tract doesn't seem to be in Boston.\n",
    "\n",
    "## OK, final check, then pickle\n",
    "\n",
    "Is 9811003 in the groups?"
   ]
  },
  {
   "cell_type": "code",
   "execution_count": 38,
   "metadata": {
    "collapsed": false
   },
   "outputs": [
    {
     "data": {
      "text/plain": [
       "True"
      ]
     },
     "execution_count": 38,
     "metadata": {},
     "output_type": "execute_result"
    }
   ],
   "source": [
    "'9811003' in df_final.tract_and_block_group.drop_duplicates().tolist()"
   ]
  },
  {
   "cell_type": "code",
   "execution_count": 41,
   "metadata": {
    "collapsed": false
   },
   "outputs": [
    {
     "data": {
      "text/plain": [
       "True"
      ]
     },
     "execution_count": 41,
     "metadata": {},
     "output_type": "execute_result"
    }
   ],
   "source": [
    "'9811003' in df5.tract_and_block_group.drop_duplicates().tolist()"
   ]
  },
  {
   "cell_type": "code",
   "execution_count": 42,
   "metadata": {
    "collapsed": false
   },
   "outputs": [
    {
     "data": {
      "text/html": [
       "<div>\n",
       "<table border=\"1\" class=\"dataframe\">\n",
       "  <thead>\n",
       "    <tr style=\"text-align: right;\">\n",
       "      <th></th>\n",
       "      <th>0</th>\n",
       "    </tr>\n",
       "  </thead>\n",
       "  <tbody>\n",
       "    <tr>\n",
       "      <th>tract_and_block_group</th>\n",
       "      <td>0001001</td>\n",
       "    </tr>\n",
       "    <tr>\n",
       "      <th>bedroom_total_ppl</th>\n",
       "      <td>560</td>\n",
       "    </tr>\n",
       "    <tr>\n",
       "      <th>bedroom_0</th>\n",
       "      <td>8</td>\n",
       "    </tr>\n",
       "    <tr>\n",
       "      <th>bedroom_1</th>\n",
       "      <td>120</td>\n",
       "    </tr>\n",
       "    <tr>\n",
       "      <th>bedroom_2</th>\n",
       "      <td>193</td>\n",
       "    </tr>\n",
       "    <tr>\n",
       "      <th>bedroom_3</th>\n",
       "      <td>183</td>\n",
       "    </tr>\n",
       "    <tr>\n",
       "      <th>bedroom_4</th>\n",
       "      <td>56</td>\n",
       "    </tr>\n",
       "    <tr>\n",
       "      <th>bedroom_5+</th>\n",
       "      <td>0</td>\n",
       "    </tr>\n",
       "    <tr>\n",
       "      <th>school_total</th>\n",
       "      <td>960</td>\n",
       "    </tr>\n",
       "    <tr>\n",
       "      <th>school_0_none</th>\n",
       "      <td>23</td>\n",
       "    </tr>\n",
       "    <tr>\n",
       "      <th>school_1_preschool</th>\n",
       "      <td>0</td>\n",
       "    </tr>\n",
       "    <tr>\n",
       "      <th>school_2_kindergarden</th>\n",
       "      <td>0</td>\n",
       "    </tr>\n",
       "    <tr>\n",
       "      <th>school_3_1st_grade</th>\n",
       "      <td>0</td>\n",
       "    </tr>\n",
       "    <tr>\n",
       "      <th>school_4_2nd_grade</th>\n",
       "      <td>0</td>\n",
       "    </tr>\n",
       "    <tr>\n",
       "      <th>school_5_3rd_grade</th>\n",
       "      <td>9</td>\n",
       "    </tr>\n",
       "    <tr>\n",
       "      <th>school_6_4th_grade</th>\n",
       "      <td>0</td>\n",
       "    </tr>\n",
       "    <tr>\n",
       "      <th>school_7_5th_grade</th>\n",
       "      <td>0</td>\n",
       "    </tr>\n",
       "    <tr>\n",
       "      <th>school_8_6th_grade</th>\n",
       "      <td>0</td>\n",
       "    </tr>\n",
       "    <tr>\n",
       "      <th>school_9_7th_grade</th>\n",
       "      <td>0</td>\n",
       "    </tr>\n",
       "    <tr>\n",
       "      <th>school_10_8th_grade</th>\n",
       "      <td>142</td>\n",
       "    </tr>\n",
       "    <tr>\n",
       "      <th>school_11_9th_grade</th>\n",
       "      <td>0</td>\n",
       "    </tr>\n",
       "    <tr>\n",
       "      <th>school_12_10th_grade</th>\n",
       "      <td>1</td>\n",
       "    </tr>\n",
       "    <tr>\n",
       "      <th>school_13_11th_grade</th>\n",
       "      <td>12</td>\n",
       "    </tr>\n",
       "    <tr>\n",
       "      <th>school_14_12th_grade_no_diploma</th>\n",
       "      <td>34</td>\n",
       "    </tr>\n",
       "    <tr>\n",
       "      <th>school_15_hs_diploma</th>\n",
       "      <td>281</td>\n",
       "    </tr>\n",
       "    <tr>\n",
       "      <th>school_16_ged</th>\n",
       "      <td>57</td>\n",
       "    </tr>\n",
       "    <tr>\n",
       "      <th>school_17_less_than_1_yr</th>\n",
       "      <td>19</td>\n",
       "    </tr>\n",
       "    <tr>\n",
       "      <th>school_18_some_college_no_degree</th>\n",
       "      <td>37</td>\n",
       "    </tr>\n",
       "    <tr>\n",
       "      <th>school_19_associates</th>\n",
       "      <td>0</td>\n",
       "    </tr>\n",
       "    <tr>\n",
       "      <th>school_20_bachelors</th>\n",
       "      <td>298</td>\n",
       "    </tr>\n",
       "    <tr>\n",
       "      <th>...</th>\n",
       "      <td>...</td>\n",
       "    </tr>\n",
       "    <tr>\n",
       "      <th>housing_total</th>\n",
       "      <td>543</td>\n",
       "    </tr>\n",
       "    <tr>\n",
       "      <th>housing_own</th>\n",
       "      <td>177</td>\n",
       "    </tr>\n",
       "    <tr>\n",
       "      <th>housing_rent</th>\n",
       "      <td>366</td>\n",
       "    </tr>\n",
       "    <tr>\n",
       "      <th>value_total</th>\n",
       "      <td>177</td>\n",
       "    </tr>\n",
       "    <tr>\n",
       "      <th>value_0_10000</th>\n",
       "      <td>0</td>\n",
       "    </tr>\n",
       "    <tr>\n",
       "      <th>value_10000_14999</th>\n",
       "      <td>0</td>\n",
       "    </tr>\n",
       "    <tr>\n",
       "      <th>value_15000_19999</th>\n",
       "      <td>0</td>\n",
       "    </tr>\n",
       "    <tr>\n",
       "      <th>value_20000_24999</th>\n",
       "      <td>0</td>\n",
       "    </tr>\n",
       "    <tr>\n",
       "      <th>value_25000_29999</th>\n",
       "      <td>0</td>\n",
       "    </tr>\n",
       "    <tr>\n",
       "      <th>value_30000_34999</th>\n",
       "      <td>0</td>\n",
       "    </tr>\n",
       "    <tr>\n",
       "      <th>value_35000_39999</th>\n",
       "      <td>0</td>\n",
       "    </tr>\n",
       "    <tr>\n",
       "      <th>value_40000_49999</th>\n",
       "      <td>0</td>\n",
       "    </tr>\n",
       "    <tr>\n",
       "      <th>value_50000_59999</th>\n",
       "      <td>0</td>\n",
       "    </tr>\n",
       "    <tr>\n",
       "      <th>value_60000_69999</th>\n",
       "      <td>0</td>\n",
       "    </tr>\n",
       "    <tr>\n",
       "      <th>value_70000_79999</th>\n",
       "      <td>0</td>\n",
       "    </tr>\n",
       "    <tr>\n",
       "      <th>value_80000_89999</th>\n",
       "      <td>0</td>\n",
       "    </tr>\n",
       "    <tr>\n",
       "      <th>value_90000_99999</th>\n",
       "      <td>0</td>\n",
       "    </tr>\n",
       "    <tr>\n",
       "      <th>value_100000_124999</th>\n",
       "      <td>0</td>\n",
       "    </tr>\n",
       "    <tr>\n",
       "      <th>value_125000_149999</th>\n",
       "      <td>0</td>\n",
       "    </tr>\n",
       "    <tr>\n",
       "      <th>value_150000_174999</th>\n",
       "      <td>7</td>\n",
       "    </tr>\n",
       "    <tr>\n",
       "      <th>value_175000_199999</th>\n",
       "      <td>13</td>\n",
       "    </tr>\n",
       "    <tr>\n",
       "      <th>value_200000_249999</th>\n",
       "      <td>38</td>\n",
       "    </tr>\n",
       "    <tr>\n",
       "      <th>value_250000_299999</th>\n",
       "      <td>22</td>\n",
       "    </tr>\n",
       "    <tr>\n",
       "      <th>value_300000_399999</th>\n",
       "      <td>5</td>\n",
       "    </tr>\n",
       "    <tr>\n",
       "      <th>value_400000_499999</th>\n",
       "      <td>51</td>\n",
       "    </tr>\n",
       "    <tr>\n",
       "      <th>value_500000_749999</th>\n",
       "      <td>41</td>\n",
       "    </tr>\n",
       "    <tr>\n",
       "      <th>value_750000_999999</th>\n",
       "      <td>0</td>\n",
       "    </tr>\n",
       "    <tr>\n",
       "      <th>value_1000000_1499999</th>\n",
       "      <td>0</td>\n",
       "    </tr>\n",
       "    <tr>\n",
       "      <th>value_1500000_1999999</th>\n",
       "      <td>0</td>\n",
       "    </tr>\n",
       "    <tr>\n",
       "      <th>value_2000000+</th>\n",
       "      <td>0</td>\n",
       "    </tr>\n",
       "  </tbody>\n",
       "</table>\n",
       "<p>117 rows × 1 columns</p>\n",
       "</div>"
      ],
      "text/plain": [
       "                                        0\n",
       "tract_and_block_group             0001001\n",
       "bedroom_total_ppl                     560\n",
       "bedroom_0                               8\n",
       "bedroom_1                             120\n",
       "bedroom_2                             193\n",
       "bedroom_3                             183\n",
       "bedroom_4                              56\n",
       "bedroom_5+                              0\n",
       "school_total                          960\n",
       "school_0_none                          23\n",
       "school_1_preschool                      0\n",
       "school_2_kindergarden                   0\n",
       "school_3_1st_grade                      0\n",
       "school_4_2nd_grade                      0\n",
       "school_5_3rd_grade                      9\n",
       "school_6_4th_grade                      0\n",
       "school_7_5th_grade                      0\n",
       "school_8_6th_grade                      0\n",
       "school_9_7th_grade                      0\n",
       "school_10_8th_grade                   142\n",
       "school_11_9th_grade                     0\n",
       "school_12_10th_grade                    1\n",
       "school_13_11th_grade                   12\n",
       "school_14_12th_grade_no_diploma        34\n",
       "school_15_hs_diploma                  281\n",
       "school_16_ged                          57\n",
       "school_17_less_than_1_yr               19\n",
       "school_18_some_college_no_degree       37\n",
       "school_19_associates                    0\n",
       "school_20_bachelors                   298\n",
       "...                                   ...\n",
       "housing_total                         543\n",
       "housing_own                           177\n",
       "housing_rent                          366\n",
       "value_total                           177\n",
       "value_0_10000                           0\n",
       "value_10000_14999                       0\n",
       "value_15000_19999                       0\n",
       "value_20000_24999                       0\n",
       "value_25000_29999                       0\n",
       "value_30000_34999                       0\n",
       "value_35000_39999                       0\n",
       "value_40000_49999                       0\n",
       "value_50000_59999                       0\n",
       "value_60000_69999                       0\n",
       "value_70000_79999                       0\n",
       "value_80000_89999                       0\n",
       "value_90000_99999                       0\n",
       "value_100000_124999                     0\n",
       "value_125000_149999                     0\n",
       "value_150000_174999                     7\n",
       "value_175000_199999                    13\n",
       "value_200000_249999                    38\n",
       "value_250000_299999                    22\n",
       "value_300000_399999                     5\n",
       "value_400000_499999                    51\n",
       "value_500000_749999                    41\n",
       "value_750000_999999                     0\n",
       "value_1000000_1499999                   0\n",
       "value_1500000_1999999                   0\n",
       "value_2000000+                          0\n",
       "\n",
       "[117 rows x 1 columns]"
      ]
     },
     "execution_count": 42,
     "metadata": {},
     "output_type": "execute_result"
    }
   ],
   "source": [
    "df_final.head(1).T"
   ]
  },
  {
   "cell_type": "code",
   "execution_count": 45,
   "metadata": {
    "collapsed": false
   },
   "outputs": [
    {
     "name": "stdout",
     "output_type": "stream",
     "text": [
      "total 3.4G\r\n",
      "drwxrwxr-x 2 ubuntu ubuntu 4.0K Jan 31 22:44 \u001b[0m\u001b[01;34mcensus-data\u001b[0m/\r\n",
      "-rw-rw-r-- 1 ubuntu ubuntu 607K Jan 31 22:56 census_data_aggregated.pkl\r\n",
      "-rw-rw-r-- 1 ubuntu ubuntu 283M Jan 30 00:42 data_subset_w_descs_and_census.pkl\r\n",
      "-rw-rw-r-- 1 ubuntu ubuntu 1.1G Jan 30 03:31 data_till_june_2016_w_descs_and_census.h5\r\n",
      "-rw-rw-r-- 1 ubuntu ubuntu 2.1G Jan 30 00:43 data_w_descs_and_census.h5\r\n",
      "drwxrwxr-x 2 ubuntu ubuntu 4.0K Jan 30 00:35 \u001b[01;34mshape-files\u001b[0m/\r\n"
     ]
    }
   ],
   "source": [
    "ls -lh ../../data"
   ]
  },
  {
   "cell_type": "code",
   "execution_count": 44,
   "metadata": {
    "collapsed": true
   },
   "outputs": [],
   "source": [
    "df_final.to_pickle('../../data/census_data_aggregated.pkl')"
   ]
  }
 ],
 "metadata": {
  "anaconda-cloud": {},
  "kernelspec": {
   "display_name": "Python 2",
   "language": "python",
   "name": "python2"
  },
  "language_info": {
   "codemirror_mode": {
    "name": "ipython",
    "version": 2
   },
   "file_extension": ".py",
   "mimetype": "text/x-python",
   "name": "python",
   "nbconvert_exporter": "python",
   "pygments_lexer": "ipython2",
   "version": "2.7.13"
  }
 },
 "nbformat": 4,
 "nbformat_minor": 1
}
