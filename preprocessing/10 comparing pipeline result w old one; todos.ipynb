{
 "cells": [
  {
   "cell_type": "markdown",
   "metadata": {},
   "source": [
    "## Comparing files"
   ]
  },
  {
   "cell_type": "code",
   "execution_count": 2,
   "metadata": {
    "collapsed": true
   },
   "outputs": [],
   "source": [
    "import pandas as pd"
   ]
  },
  {
   "cell_type": "code",
   "execution_count": 3,
   "metadata": {
    "collapsed": false
   },
   "outputs": [
    {
     "data": {
      "text/plain": [
       "(516406, 44)"
      ]
     },
     "execution_count": 3,
     "metadata": {},
     "output_type": "execute_result"
    }
   ],
   "source": [
    "df = pd.read_pickle('../data/data_from_remove_from_dataset.pkl')\n",
    "df.shape"
   ]
  },
  {
   "cell_type": "code",
   "execution_count": 4,
   "metadata": {
    "collapsed": false
   },
   "outputs": [
    {
     "data": {
      "text/plain": [
       "(520793, 29)"
      ]
     },
     "execution_count": 4,
     "metadata": {},
     "output_type": "execute_result"
    }
   ],
   "source": [
    "df1 = pd.read_pickle('../data/data_w_transformed_census_and_removed_invalid_rows_and_cols_and_fixed_zips_and_descs_and_dropped_latlongs_and_more_dropped_cols_and_rows_and_actual_descs.pkl')\n",
    "df1.shape"
   ]
  },
  {
   "cell_type": "code",
   "execution_count": 45,
   "metadata": {
    "collapsed": false
   },
   "outputs": [
    {
     "data": {
      "text/plain": [
       "(905335, 66)"
      ]
     },
     "execution_count": 45,
     "metadata": {},
     "output_type": "execute_result"
    }
   ],
   "source": [
    "new_add = pd.read_pickle('../data/data_from_add_to_dataset.pkl')\n",
    "new_add.shape"
   ]
  },
  {
   "cell_type": "code",
   "execution_count": 5,
   "metadata": {
    "collapsed": true
   },
   "outputs": [],
   "source": [
    "new = df\n",
    "old = df1"
   ]
  },
  {
   "cell_type": "code",
   "execution_count": 16,
   "metadata": {
    "collapsed": false
   },
   "outputs": [
    {
     "data": {
      "text/plain": [
       "4387"
      ]
     },
     "execution_count": 16,
     "metadata": {},
     "output_type": "execute_result"
    }
   ],
   "source": [
    "520793 - 516406"
   ]
  },
  {
   "cell_type": "markdown",
   "metadata": {},
   "source": [
    "## Cols in new not in old, vice versa"
   ]
  },
  {
   "cell_type": "code",
   "execution_count": 6,
   "metadata": {
    "collapsed": false
   },
   "outputs": [
    {
     "data": {
      "text/plain": [
       "{'ClosedPhoto',\n",
       " 'Geocoded_Location',\n",
       " 'LOCATION_ZIPCODE',\n",
       " 'bedroom_std_dev',\n",
       " u'case_enquiry_id',\n",
       " 'earned_income_per_capita',\n",
       " 'housing_std_dev',\n",
       " 'income_std_dev',\n",
       " 'queue_wk',\n",
       " 'rent_std_dev',\n",
       " 'school_std_dev',\n",
       " u'specific_location',\n",
       " u'title',\n",
       " 'tract_and_block_group',\n",
       " 'value_std_dev'}"
      ]
     },
     "execution_count": 6,
     "metadata": {},
     "output_type": "execute_result"
    }
   ],
   "source": [
    "set(new.columns).difference(old.columns)"
   ]
  },
  {
   "cell_type": "code",
   "execution_count": 7,
   "metadata": {
    "collapsed": false
   },
   "outputs": [
    {
     "data": {
      "text/plain": [
       "set()"
      ]
     },
     "execution_count": 7,
     "metadata": {},
     "output_type": "execute_result"
    }
   ],
   "source": [
    "set(old.columns).difference(new.columns)"
   ]
  },
  {
   "cell_type": "markdown",
   "metadata": {},
   "source": [
    "So that's fine.\n",
    "\n",
    "## rows in old not in new, vice versa"
   ]
  },
  {
   "cell_type": "code",
   "execution_count": 17,
   "metadata": {
    "collapsed": false
   },
   "outputs": [
    {
     "data": {
      "text/plain": [
       "1766"
      ]
     },
     "execution_count": 17,
     "metadata": {},
     "output_type": "execute_result"
    }
   ],
   "source": [
    "len(set(new.CASE_ENQUIRY_ID).difference(old.CASE_ENQUIRY_ID))"
   ]
  },
  {
   "cell_type": "code",
   "execution_count": 43,
   "metadata": {
    "collapsed": false
   },
   "outputs": [
    {
     "data": {
      "text/plain": [
       "6153"
      ]
     },
     "execution_count": 43,
     "metadata": {},
     "output_type": "execute_result"
    }
   ],
   "source": [
    "len(set(old.CASE_ENQUIRY_ID).difference(new.CASE_ENQUIRY_ID))"
   ]
  },
  {
   "cell_type": "code",
   "execution_count": 47,
   "metadata": {
    "collapsed": false
   },
   "outputs": [
    {
     "data": {
      "text/plain": [
       "0"
      ]
     },
     "execution_count": 47,
     "metadata": {},
     "output_type": "execute_result"
    }
   ],
   "source": [
    "len(set(old.CASE_ENQUIRY_ID).difference(new_add.CASE_ENQUIRY_ID))"
   ]
  },
  {
   "cell_type": "markdown",
   "metadata": {},
   "source": [
    "When I removed rows, I removed an extra 6153 that I shouldn't have.\n",
    "\n",
    "In addition, I should have removed an extra 1766."
   ]
  },
  {
   "cell_type": "markdown",
   "metadata": {},
   "source": [
    "## which are the ones i shld've removed?"
   ]
  },
  {
   "cell_type": "code",
   "execution_count": 55,
   "metadata": {
    "collapsed": false
   },
   "outputs": [
    {
     "data": {
      "text/html": [
       "<div>\n",
       "<table border=\"1\" class=\"dataframe\">\n",
       "  <thead>\n",
       "    <tr style=\"text-align: right;\">\n",
       "      <th></th>\n",
       "      <th>LATITUDE</th>\n",
       "      <th>neighborhood_from_zip</th>\n",
       "    </tr>\n",
       "  </thead>\n",
       "  <tbody>\n",
       "    <tr>\n",
       "      <th>905389</th>\n",
       "      <td>42.3594</td>\n",
       "      <td>Jamaica Plain</td>\n",
       "    </tr>\n",
       "    <tr>\n",
       "      <th>905296</th>\n",
       "      <td>42.3594</td>\n",
       "      <td>Jamaica Plain</td>\n",
       "    </tr>\n",
       "  </tbody>\n",
       "</table>\n",
       "</div>"
      ],
      "text/plain": [
       "        LATITUDE neighborhood_from_zip\n",
       "905389   42.3594         Jamaica Plain\n",
       "905296   42.3594         Jamaica Plain"
      ]
     },
     "execution_count": 55,
     "metadata": {},
     "output_type": "execute_result"
    }
   ],
   "source": [
    "new[~new.CASE_ENQUIRY_ID.isin(old.CASE_ENQUIRY_ID)].head(2)[['LATITUDE', 'neighborhood_from_zip']]"
   ]
  },
  {
   "cell_type": "markdown",
   "metadata": {},
   "source": [
    "I think it's sth related to the defauly ones at City Hall."
   ]
  },
  {
   "cell_type": "markdown",
   "metadata": {},
   "source": [
    "## inspecting"
   ]
  },
  {
   "cell_type": "code",
   "execution_count": 19,
   "metadata": {
    "collapsed": false
   },
   "outputs": [
    {
     "data": {
      "text/html": [
       "<div>\n",
       "<table border=\"1\" class=\"dataframe\">\n",
       "  <thead>\n",
       "    <tr style=\"text-align: right;\">\n",
       "      <th></th>\n",
       "      <th>LONGITUDE</th>\n",
       "      <th>Source</th>\n",
       "      <th>Geocoded_Location</th>\n",
       "      <th>case_enquiry_id</th>\n",
       "      <th>description</th>\n",
       "      <th>specific_location</th>\n",
       "      <th>title</th>\n",
       "      <th>COMPLETION_TIME</th>\n",
       "      <th>tract_and_block_group</th>\n",
       "      <th>queue_wk</th>\n",
       "      <th>...</th>\n",
       "      <th>housing</th>\n",
       "      <th>housing_std_dev</th>\n",
       "      <th>bedroom</th>\n",
       "      <th>bedroom_std_dev</th>\n",
       "      <th>value</th>\n",
       "      <th>value_std_dev</th>\n",
       "      <th>rent</th>\n",
       "      <th>rent_std_dev</th>\n",
       "      <th>income</th>\n",
       "      <th>income_std_dev</th>\n",
       "    </tr>\n",
       "  </thead>\n",
       "  <tbody>\n",
       "    <tr>\n",
       "      <th>905425</th>\n",
       "      <td>-71.0680</td>\n",
       "      <td>Citizens Connect App</td>\n",
       "      <td>(42.2809, -71.068)</td>\n",
       "      <td>NaN</td>\n",
       "      <td>NaN</td>\n",
       "      <td>NaN</td>\n",
       "      <td>NaN</td>\n",
       "      <td>0.918333</td>\n",
       "      <td>1004002</td>\n",
       "      <td>NaN</td>\n",
       "      <td>...</td>\n",
       "      <td>own</td>\n",
       "      <td>26.870058</td>\n",
       "      <td>3</td>\n",
       "      <td>61.512329</td>\n",
       "      <td>350000.0</td>\n",
       "      <td>20.979404</td>\n",
       "      <td>1750</td>\n",
       "      <td>19.162161</td>\n",
       "      <td>112500</td>\n",
       "      <td>28.616720</td>\n",
       "    </tr>\n",
       "    <tr>\n",
       "      <th>905235</th>\n",
       "      <td>-71.0067</td>\n",
       "      <td>Citizens Connect App</td>\n",
       "      <td>(42.3871, -71.0067)</td>\n",
       "      <td>NaN</td>\n",
       "      <td>NaN</td>\n",
       "      <td>NaN</td>\n",
       "      <td>NaN</td>\n",
       "      <td>2.325000</td>\n",
       "      <td>0511011</td>\n",
       "      <td>NaN</td>\n",
       "      <td>...</td>\n",
       "      <td>rent</td>\n",
       "      <td>153.442172</td>\n",
       "      <td>2</td>\n",
       "      <td>90.187397</td>\n",
       "      <td>225000.0</td>\n",
       "      <td>14.876362</td>\n",
       "      <td>1125</td>\n",
       "      <td>35.203652</td>\n",
       "      <td>112500</td>\n",
       "      <td>30.615832</td>\n",
       "    </tr>\n",
       "  </tbody>\n",
       "</table>\n",
       "<p>2 rows × 35 columns</p>\n",
       "</div>"
      ],
      "text/plain": [
       "        LONGITUDE                Source    Geocoded_Location  case_enquiry_id  \\\n",
       "905425   -71.0680  Citizens Connect App   (42.2809, -71.068)              NaN   \n",
       "905235   -71.0067  Citizens Connect App  (42.3871, -71.0067)              NaN   \n",
       "\n",
       "       description specific_location title  COMPLETION_TIME  \\\n",
       "905425         NaN               NaN   NaN         0.918333   \n",
       "905235         NaN               NaN   NaN         2.325000   \n",
       "\n",
       "       tract_and_block_group  queue_wk       ...        housing  \\\n",
       "905425               1004002       NaN       ...            own   \n",
       "905235               0511011       NaN       ...           rent   \n",
       "\n",
       "        housing_std_dev  bedroom  bedroom_std_dev     value  value_std_dev  \\\n",
       "905425        26.870058        3        61.512329  350000.0      20.979404   \n",
       "905235       153.442172        2        90.187397  225000.0      14.876362   \n",
       "\n",
       "        rent  rent_std_dev  income  income_std_dev  \n",
       "905425  1750     19.162161  112500       28.616720  \n",
       "905235  1125     35.203652  112500       30.615832  \n",
       "\n",
       "[2 rows x 35 columns]"
      ]
     },
     "execution_count": 19,
     "metadata": {},
     "output_type": "execute_result"
    }
   ],
   "source": [
    "new.head(2).loc[:, 'LONGITUDE':]"
   ]
  },
  {
   "cell_type": "code",
   "execution_count": 23,
   "metadata": {
    "collapsed": false
   },
   "outputs": [
    {
     "data": {
      "text/plain": [
       "CASE_ENQUIRY_ID         0\n",
       "TYPE                    0\n",
       "queue_wk           328376\n",
       "case_enquiry_id    328376\n",
       "description        353430\n",
       "housing                 0\n",
       "dtype: int64"
      ]
     },
     "execution_count": 23,
     "metadata": {},
     "output_type": "execute_result"
    }
   ],
   "source": [
    "new[['CASE_ENQUIRY_ID', 'TYPE', 'queue_wk', 'case_enquiry_id', 'description', 'housing']].isnull().sum()"
   ]
  },
  {
   "cell_type": "markdown",
   "metadata": {},
   "source": [
    "## >>>"
   ]
  },
  {
   "cell_type": "code",
   "execution_count": 24,
   "metadata": {
    "collapsed": true
   },
   "outputs": [],
   "source": [
    "df_descs = pd.read_pickle('../data/data_w_descs.pkl')"
   ]
  },
  {
   "cell_type": "code",
   "execution_count": 28,
   "metadata": {
    "collapsed": false
   },
   "outputs": [
    {
     "data": {
      "text/html": [
       "<div>\n",
       "<table border=\"1\" class=\"dataframe\">\n",
       "  <thead>\n",
       "    <tr style=\"text-align: right;\">\n",
       "      <th></th>\n",
       "      <th>CASE_ENQUIRY_ID</th>\n",
       "      <th>case_enquiry_id</th>\n",
       "      <th>description</th>\n",
       "    </tr>\n",
       "  </thead>\n",
       "  <tbody>\n",
       "    <tr>\n",
       "      <th>0</th>\n",
       "      <td>101000958209</td>\n",
       "      <td>1.010010e+11</td>\n",
       "      <td>Public safety sign: No | Type of sign: no stop...</td>\n",
       "    </tr>\n",
       "    <tr>\n",
       "      <th>1</th>\n",
       "      <td>101001243239</td>\n",
       "      <td>1.010012e+11</td>\n",
       "      <td>Electric or gas light: Electric</td>\n",
       "    </tr>\n",
       "    <tr>\n",
       "      <th>2</th>\n",
       "      <td>101000945083</td>\n",
       "      <td>NaN</td>\n",
       "      <td>NaN</td>\n",
       "    </tr>\n",
       "    <tr>\n",
       "      <th>3</th>\n",
       "      <td>101000768355</td>\n",
       "      <td>NaN</td>\n",
       "      <td>NaN</td>\n",
       "    </tr>\n",
       "    <tr>\n",
       "      <th>4</th>\n",
       "      <td>101001619220</td>\n",
       "      <td>1.010016e+11</td>\n",
       "      <td>Additional information: Approx 4 to 6 flags/ e...</td>\n",
       "    </tr>\n",
       "  </tbody>\n",
       "</table>\n",
       "</div>"
      ],
      "text/plain": [
       "   CASE_ENQUIRY_ID  case_enquiry_id  \\\n",
       "0     101000958209     1.010010e+11   \n",
       "1     101001243239     1.010012e+11   \n",
       "2     101000945083              NaN   \n",
       "3     101000768355              NaN   \n",
       "4     101001619220     1.010016e+11   \n",
       "\n",
       "                                         description  \n",
       "0  Public safety sign: No | Type of sign: no stop...  \n",
       "1                    Electric or gas light: Electric  \n",
       "2                                                NaN  \n",
       "3                                                NaN  \n",
       "4  Additional information: Approx 4 to 6 flags/ e...  "
      ]
     },
     "execution_count": 28,
     "metadata": {},
     "output_type": "execute_result"
    }
   ],
   "source": [
    "df_descs.head()[['CASE_ENQUIRY_ID', 'case_enquiry_id', 'description']]"
   ]
  },
  {
   "cell_type": "code",
   "execution_count": 29,
   "metadata": {
    "collapsed": false
   },
   "outputs": [
    {
     "data": {
      "text/plain": [
       "(905650, 37)"
      ]
     },
     "execution_count": 29,
     "metadata": {},
     "output_type": "execute_result"
    }
   ],
   "source": [
    "df_descs.shape"
   ]
  },
  {
   "cell_type": "code",
   "execution_count": 32,
   "metadata": {
    "collapsed": false
   },
   "outputs": [
    {
     "data": {
      "text/html": [
       "<div>\n",
       "<table border=\"1\" class=\"dataframe\">\n",
       "  <thead>\n",
       "    <tr style=\"text-align: right;\">\n",
       "      <th></th>\n",
       "      <th>LONGITUDE</th>\n",
       "      <th>Source</th>\n",
       "      <th>Geocoded_Location</th>\n",
       "      <th>case_enquiry_id</th>\n",
       "      <th>description</th>\n",
       "      <th>specific_location</th>\n",
       "      <th>title</th>\n",
       "      <th>COMPLETION_TIME</th>\n",
       "      <th>tract_and_block_group</th>\n",
       "      <th>queue_wk</th>\n",
       "      <th>...</th>\n",
       "      <th>housing</th>\n",
       "      <th>housing_std_dev</th>\n",
       "      <th>bedroom</th>\n",
       "      <th>bedroom_std_dev</th>\n",
       "      <th>value</th>\n",
       "      <th>value_std_dev</th>\n",
       "      <th>rent</th>\n",
       "      <th>rent_std_dev</th>\n",
       "      <th>income</th>\n",
       "      <th>income_std_dev</th>\n",
       "    </tr>\n",
       "  </thead>\n",
       "  <tbody>\n",
       "    <tr>\n",
       "      <th>905425</th>\n",
       "      <td>-71.068</td>\n",
       "      <td>Citizens Connect App</td>\n",
       "      <td>(42.2809, -71.068)</td>\n",
       "      <td>NaN</td>\n",
       "      <td>NaN</td>\n",
       "      <td>NaN</td>\n",
       "      <td>NaN</td>\n",
       "      <td>0.918333</td>\n",
       "      <td>1004002</td>\n",
       "      <td>NaN</td>\n",
       "      <td>...</td>\n",
       "      <td>own</td>\n",
       "      <td>26.870058</td>\n",
       "      <td>3</td>\n",
       "      <td>61.512329</td>\n",
       "      <td>350000.0</td>\n",
       "      <td>20.979404</td>\n",
       "      <td>1750</td>\n",
       "      <td>19.162161</td>\n",
       "      <td>112500</td>\n",
       "      <td>28.61672</td>\n",
       "    </tr>\n",
       "  </tbody>\n",
       "</table>\n",
       "<p>1 rows × 35 columns</p>\n",
       "</div>"
      ],
      "text/plain": [
       "        LONGITUDE                Source   Geocoded_Location  case_enquiry_id  \\\n",
       "905425    -71.068  Citizens Connect App  (42.2809, -71.068)              NaN   \n",
       "\n",
       "       description specific_location title  COMPLETION_TIME  \\\n",
       "905425         NaN               NaN   NaN         0.918333   \n",
       "\n",
       "       tract_and_block_group  queue_wk       ...        housing  \\\n",
       "905425               1004002       NaN       ...            own   \n",
       "\n",
       "        housing_std_dev  bedroom  bedroom_std_dev     value  value_std_dev  \\\n",
       "905425        26.870058        3        61.512329  350000.0      20.979404   \n",
       "\n",
       "        rent  rent_std_dev  income  income_std_dev  \n",
       "905425  1750     19.162161  112500        28.61672  \n",
       "\n",
       "[1 rows x 35 columns]"
      ]
     },
     "execution_count": 32,
     "metadata": {},
     "output_type": "execute_result"
    }
   ],
   "source": [
    "df.head(1).loc[:, 'LONGITUDE':]"
   ]
  },
  {
   "cell_type": "code",
   "execution_count": 34,
   "metadata": {
    "collapsed": false
   },
   "outputs": [
    {
     "data": {
      "text/plain": [
       "case_enquiry_id      328376\n",
       "description          353430\n",
       "specific_location    506210\n",
       "title                334494\n",
       "dtype: int64"
      ]
     },
     "execution_count": 34,
     "metadata": {},
     "output_type": "execute_result"
    }
   ],
   "source": [
    "df.loc[:, 'case_enquiry_id': 'title'].isnull().sum()"
   ]
  },
  {
   "cell_type": "code",
   "execution_count": 40,
   "metadata": {
    "collapsed": false
   },
   "outputs": [
    {
     "data": {
      "text/plain": [
       "0"
      ]
     },
     "execution_count": 40,
     "metadata": {},
     "output_type": "execute_result"
    }
   ],
   "source": [
    "df[(df.CASE_ENQUIRY_ID != df.case_enquiry_id) & df.description.notnull()].shape[0]"
   ]
  },
  {
   "cell_type": "code",
   "execution_count": 38,
   "metadata": {
    "collapsed": false
   },
   "outputs": [
    {
     "data": {
      "text/plain": [
       "905500    \\n\\n\\n\\n\\n\\n\\n\\nTimestamp\\nDescription\\n\\n\\n\\n...\n",
       "905537    \\n\\n\\n\\n\\n\\n\\n\\nTimestamp\\nDescription\\n\\n\\n\\n...\n",
       "904806               \\n Location: \\n\\t\\t\\t\\tRoadway\\n\\t\\t\\t\n",
       "904428              \\n Location: \\n\\t\\t\\t\\tSidewalk\\n\\t\\t\\t\n",
       "903289    \\n\\nNeedle Quantity: One | Property Location T...\n",
       "Name: specific_location, dtype: object"
      ]
     },
     "execution_count": 38,
     "metadata": {},
     "output_type": "execute_result"
    }
   ],
   "source": [
    "df.specific_location[df.specific_location.notnull()].head()"
   ]
  }
 ],
 "metadata": {
  "kernelspec": {
   "display_name": "Python 2",
   "language": "python",
   "name": "python2"
  },
  "language_info": {
   "codemirror_mode": {
    "name": "ipython",
    "version": 2
   },
   "file_extension": ".py",
   "mimetype": "text/x-python",
   "name": "python",
   "nbconvert_exporter": "python",
   "pygments_lexer": "ipython2",
   "version": "2.7.13"
  }
 },
 "nbformat": 4,
 "nbformat_minor": 2
}
