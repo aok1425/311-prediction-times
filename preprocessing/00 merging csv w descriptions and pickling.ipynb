{
 "cells": [
  {
   "cell_type": "code",
   "execution_count": 1,
   "metadata": {
    "collapsed": true
   },
   "outputs": [],
   "source": [
    "import pandas as pd\n",
    "from IPython.display import display"
   ]
  },
  {
   "cell_type": "code",
   "execution_count": null,
   "metadata": {
    "collapsed": true
   },
   "outputs": [],
   "source": [
    "df = pd.read_csv(\n",
    "    '../data/test_head.csv',\n",
    "    parse_dates=[1,2,3],\n",
    "    date_parser=lambda d: datetime.strptime(d, '%m/%d/%Y %H:%M:%S %p')\n",
    ")"
   ]
  },
  {
   "cell_type": "code",
   "execution_count": null,
   "metadata": {
    "collapsed": false
   },
   "outputs": [],
   "source": [
    "with pd.option_context(\"display.max_columns\", 50):\n",
    "    display(df.head(2))"
   ]
  },
  {
   "cell_type": "markdown",
   "metadata": {},
   "source": [
    "## Mongo time"
   ]
  },
  {
   "cell_type": "code",
   "execution_count": null,
   "metadata": {
    "collapsed": false
   },
   "outputs": [],
   "source": [
    "from pymongo import MongoClient"
   ]
  },
  {
   "cell_type": "code",
   "execution_count": null,
   "metadata": {
    "collapsed": false
   },
   "outputs": [],
   "source": [
    "mongo_client = MongoClient(connect=False)\n",
    "coll = mongo_client['311']['done']\n",
    "df2 = pd.DataFrame(list(coll.find()))\n",
    "mongo_client.close()"
   ]
  },
  {
   "cell_type": "code",
   "execution_count": null,
   "metadata": {
    "collapsed": false
   },
   "outputs": [],
   "source": [
    "df2 = df2.drop('_id', axis=1)\n",
    "df2['description'] = df2.description.apply(lambda txt: pd.np.NaN if txt == '' else txt)"
   ]
  },
  {
   "cell_type": "code",
   "execution_count": null,
   "metadata": {
    "collapsed": false
   },
   "outputs": [],
   "source": [
    "df2.head(2)"
   ]
  },
  {
   "cell_type": "code",
   "execution_count": null,
   "metadata": {
    "collapsed": false
   },
   "outputs": [],
   "source": [
    "from_aws = set(df2.case_enquiry_id)\n",
    "from_csv = set(df.CASE_ENQUIRY_ID[df.TYPE.isin(('Missed Trash/Recycling/Yard Waste/Bulk Item','Street Light Outages','Request for Pothole Repair','Sidewalk Repair (Make Safe','Graffiti Removal','Tree Maintenance Requests','Sign Repair','Pick up Dead Animal','Rodent Activity','Abandoned Vehicles','Traffic Signal Repair','CE Collection','Sidewalk Repair','Traffic Signal Inspection','Tree Emergencies','General Lighting Request','Highway Maintenance','Equipment Repair','New Sign  Crosswalk or Pavement Marking','PWD Graffiti','Ground Maintenance','Missing Sign','Street Light Knock Downs','Major System Failure','Unshoveled Sidewalk','Bed Bugs','Space Savers','Mice Infestation - Residential','Needle Pickup','Request for Snow Plowing (Emergency Responder','Sidewalk Cover / Manhole','Roadway Repair','Catchbasin','Pavement Marking Maintenance'))])"
   ]
  },
  {
   "cell_type": "code",
   "execution_count": null,
   "metadata": {
    "collapsed": false
   },
   "outputs": [],
   "source": [
    "len(from_csv), len(from_aws)"
   ]
  },
  {
   "cell_type": "code",
   "execution_count": null,
   "metadata": {
    "collapsed": false
   },
   "outputs": [],
   "source": [
    "from_aws.difference(from_csv)"
   ]
  },
  {
   "cell_type": "code",
   "execution_count": null,
   "metadata": {
    "collapsed": false
   },
   "outputs": [],
   "source": [
    "from_csv.difference(from_aws)"
   ]
  },
  {
   "cell_type": "markdown",
   "metadata": {},
   "source": [
    "yay!\n",
    "\n",
    "## Merging the two DFs"
   ]
  },
  {
   "cell_type": "code",
   "execution_count": null,
   "metadata": {
    "collapsed": false
   },
   "outputs": [],
   "source": [
    "new_df = df.merge(df2, how='left', left_on='CASE_ENQUIRY_ID', right_on='case_enquiry_id')\n",
    "new_df.head(2)"
   ]
  },
  {
   "cell_type": "code",
   "execution_count": null,
   "metadata": {
    "collapsed": false
   },
   "outputs": [],
   "source": [
    "new_df.shape, df.shape, df2.shape"
   ]
  },
  {
   "cell_type": "code",
   "execution_count": null,
   "metadata": {
    "collapsed": true
   },
   "outputs": [],
   "source": [
    "new_df.CLOSED_DT - new_df.OPEN_DT"
   ]
  },
  {
   "cell_type": "code",
   "execution_count": null,
   "metadata": {
    "collapsed": false
   },
   "outputs": [],
   "source": [
    "new_df['completion_time'] = new_df.CLOSED_DT - new_df.OPEN_DT"
   ]
  },
  {
   "cell_type": "code",
   "execution_count": null,
   "metadata": {
    "collapsed": true
   },
   "outputs": [],
   "source": [
    "new_df.to_pickle('../data/data_w_descs.pkl')"
   ]
  }
 ],
 "metadata": {
  "anaconda-cloud": {},
  "kernelspec": {
   "display_name": "Python 2",
   "language": "python",
   "name": "python2"
  },
  "language_info": {
   "codemirror_mode": {
    "name": "ipython",
    "version": 2
   },
   "file_extension": ".py",
   "mimetype": "text/x-python",
   "name": "python",
   "nbconvert_exporter": "python",
   "pygments_lexer": "ipython2",
   "version": "2.7.13"
  }
 },
 "nbformat": 4,
 "nbformat_minor": 1
}
