{
 "cells": [
  {
   "cell_type": "markdown",
   "metadata": {},
   "source": [
    "When looking at the outliers for completion time, I saw anecdotally that many outliers were because of administrative errors: they were duplicates or somehow invalid. We should remove these issues from our dataset."
   ]
  },
  {
   "cell_type": "code",
   "execution_count": 1,
   "metadata": {
    "collapsed": false
   },
   "outputs": [],
   "source": [
    "import pandas as pd\n",
    "from IPython.display import display\n",
    "from datetime import datetime, timedelta\n",
    "import re\n",
    "\n",
    "pd.set_option('max_colwidth', 400)"
   ]
  },
  {
   "cell_type": "code",
   "execution_count": 20,
   "metadata": {
    "collapsed": false
   },
   "outputs": [
    {
     "data": {
      "text/plain": [
       "(905205, 48)"
      ]
     },
     "execution_count": 20,
     "metadata": {},
     "output_type": "execute_result"
    }
   ],
   "source": [
    "df = pd.read_pickle('../data/data_w_transformed_census.pkl')\n",
    "df.shape"
   ]
  },
  {
   "cell_type": "markdown",
   "metadata": {},
   "source": [
    "## Looking at any issues with negative completion times"
   ]
  },
  {
   "cell_type": "code",
   "execution_count": 26,
   "metadata": {
    "collapsed": false
   },
   "outputs": [
    {
     "data": {
      "text/plain": [
       "39675"
      ]
     },
     "execution_count": 26,
     "metadata": {},
     "output_type": "execute_result"
    }
   ],
   "source": [
    "(df1.COMPLETION_TIME < 0).sum()"
   ]
  },
  {
   "cell_type": "markdown",
   "metadata": {},
   "source": [
    "Yikes. Let's inspect these."
   ]
  },
  {
   "cell_type": "code",
   "execution_count": 120,
   "metadata": {
    "collapsed": false
   },
   "outputs": [
    {
     "data": {
      "text/html": [
       "<div>\n",
       "<table border=\"1\" class=\"dataframe\">\n",
       "  <thead>\n",
       "    <tr style=\"text-align: right;\">\n",
       "      <th></th>\n",
       "      <th>COMPLETION_TIME</th>\n",
       "      <th>OPEN_DT</th>\n",
       "      <th>CLOSED_DT</th>\n",
       "      <th>TYPE</th>\n",
       "      <th>CLOSURE_REASON</th>\n",
       "    </tr>\n",
       "  </thead>\n",
       "  <tbody>\n",
       "    <tr>\n",
       "      <th>11413</th>\n",
       "      <td>-10.428611</td>\n",
       "      <td>2016-06-10 12:06:00</td>\n",
       "      <td>2016-06-10 01:40:17</td>\n",
       "      <td>Missed Trash/Recycling/Yard Waste/Bulk Item</td>\n",
       "      <td>Case Closed. Closed date : 2016-06-10 13:40:17.743 Case Noted On inspection of above address there was no missed trash/rec visible but there is grass on the sidewalk not sure if that's what was missed but its not a YW service week so we can't service YW I did leave a callender for them.</td>\n",
       "    </tr>\n",
       "    <tr>\n",
       "      <th>11418</th>\n",
       "      <td>-8.720278</td>\n",
       "      <td>2015-09-01 12:32:00</td>\n",
       "      <td>2015-09-01 03:48:47</td>\n",
       "      <td>Needle Pickup</td>\n",
       "      <td>Case Closed. Closed date : 2015-09-01 15:48:47.68 Case Noted MSU responded to a report of a single syringe at Hobart Park in Brighton at the corner of Olivia and Ranleigh. After conducting a thorough sweep of the area and contacting the constituent  who happened to be a city councilman  we were unable to locate the syringe. We are  however  confident that the syringe is no longer in that park....</td>\n",
       "    </tr>\n",
       "    <tr>\n",
       "      <th>11423</th>\n",
       "      <td>-7.645278</td>\n",
       "      <td>2016-06-02 09:14:00</td>\n",
       "      <td>2016-06-02 01:35:17</td>\n",
       "      <td>Pick up Dead Animal</td>\n",
       "      <td>Case Closed. Closed date : 2016-06-02 13:35:17.557 Case Resolved Alset picked up</td>\n",
       "    </tr>\n",
       "    <tr>\n",
       "      <th>11460</th>\n",
       "      <td>-6.488611</td>\n",
       "      <td>2011-11-01 09:44:58</td>\n",
       "      <td>2011-11-01 03:15:39</td>\n",
       "      <td>General Comments For An Employee</td>\n",
       "      <td>Case Closed Case Resolved taken care of thank you</td>\n",
       "    </tr>\n",
       "    <tr>\n",
       "      <th>11486</th>\n",
       "      <td>-8.427222</td>\n",
       "      <td>2013-08-29 10:32:55</td>\n",
       "      <td>2013-08-29 02:07:17</td>\n",
       "      <td>Missed Trash/Recycling/Yard Waste/Bulk Item</td>\n",
       "      <td>Case Closed Case Resolved no tv on curb during my inspection . 8/29/13</td>\n",
       "    </tr>\n",
       "  </tbody>\n",
       "</table>\n",
       "</div>"
      ],
      "text/plain": [
       "       COMPLETION_TIME             OPEN_DT           CLOSED_DT  \\\n",
       "11413       -10.428611 2016-06-10 12:06:00 2016-06-10 01:40:17   \n",
       "11418        -8.720278 2015-09-01 12:32:00 2015-09-01 03:48:47   \n",
       "11423        -7.645278 2016-06-02 09:14:00 2016-06-02 01:35:17   \n",
       "11460        -6.488611 2011-11-01 09:44:58 2011-11-01 03:15:39   \n",
       "11486        -8.427222 2013-08-29 10:32:55 2013-08-29 02:07:17   \n",
       "\n",
       "                                              TYPE  \\\n",
       "11413  Missed Trash/Recycling/Yard Waste/Bulk Item   \n",
       "11418                                Needle Pickup   \n",
       "11423                          Pick up Dead Animal   \n",
       "11460             General Comments For An Employee   \n",
       "11486  Missed Trash/Recycling/Yard Waste/Bulk Item   \n",
       "\n",
       "                                                                                                                                                                                                                                                                                                                                                                                                        CLOSURE_REASON  \n",
       "11413                                                                                                                  Case Closed. Closed date : 2016-06-10 13:40:17.743 Case Noted On inspection of above address there was no missed trash/rec visible but there is grass on the sidewalk not sure if that's what was missed but its not a YW service week so we can't service YW I did leave a callender for them.  \n",
       "11418  Case Closed. Closed date : 2015-09-01 15:48:47.68 Case Noted MSU responded to a report of a single syringe at Hobart Park in Brighton at the corner of Olivia and Ranleigh. After conducting a thorough sweep of the area and contacting the constituent  who happened to be a city councilman  we were unable to locate the syringe. We are  however  confident that the syringe is no longer in that park....  \n",
       "11423                                                                                                                                                                                                                                                                                                                                 Case Closed. Closed date : 2016-06-02 13:35:17.557 Case Resolved Alset picked up  \n",
       "11460                                                                                                                                                                                                                                                                                                                                                                Case Closed Case Resolved taken care of thank you  \n",
       "11486                                                                                                                                                                                                                                                                                                                                           Case Closed Case Resolved no tv on curb during my inspection . 8/29/13  "
      ]
     },
     "execution_count": 120,
     "metadata": {},
     "output_type": "execute_result"
    }
   ],
   "source": [
    "aa = df1[['COMPLETION_TIME', 'OPEN_DT', 'CLOSED_DT', 'TYPE', 'CLOSURE_REASON']][df1.COMPLETION_TIME < 0].head(500).tail()\n",
    "aa"
   ]
  },
  {
   "cell_type": "code",
   "execution_count": 193,
   "metadata": {
    "collapsed": false
   },
   "outputs": [
    {
     "name": "stderr",
     "output_type": "stream",
     "text": [
      "/home/ubuntu/anaconda2/lib/python2.7/site-packages/ipykernel/__main__.py:1: UserWarning: Boolean Series key will be reindexed to match DataFrame index.\n",
      "  if __name__ == '__main__':\n",
      "/home/ubuntu/anaconda2/lib/python2.7/site-packages/ipykernel/__main__.py:1: UserWarning: This pattern has match groups. To actually get the groups, use str.extract.\n",
      "  if __name__ == '__main__':\n"
     ]
    },
    {
     "data": {
      "text/html": [
       "<div>\n",
       "<table border=\"1\" class=\"dataframe\">\n",
       "  <thead>\n",
       "    <tr style=\"text-align: right;\">\n",
       "      <th></th>\n",
       "      <th>COMPLETION_TIME</th>\n",
       "      <th>OPEN_DT</th>\n",
       "      <th>CLOSED_DT</th>\n",
       "      <th>TYPE</th>\n",
       "      <th>CLOSURE_REASON</th>\n",
       "    </tr>\n",
       "  </thead>\n",
       "  <tbody>\n",
       "    <tr>\n",
       "      <th>17770</th>\n",
       "      <td>1607.934722</td>\n",
       "      <td>2015-02-24 08:14:52</td>\n",
       "      <td>2015-05-02 08:10:57</td>\n",
       "      <td>Highway Maintenance</td>\n",
       "      <td>Case Closed. Closed date : 2015-05-02 20:10:57.963 Case Referred to External Agency gave to DCR in Feb</td>\n",
       "    </tr>\n",
       "    <tr>\n",
       "      <th>22621</th>\n",
       "      <td>1607.863056</td>\n",
       "      <td>2015-02-24 08:18:43</td>\n",
       "      <td>2015-05-02 08:10:30</td>\n",
       "      <td>Requests for Traffic Signal Studies or Reviews</td>\n",
       "      <td>Case Closed. Closed date : 2015-05-02 20:10:30.943 Case Referred to External Agency gave to DCR in Feb</td>\n",
       "    </tr>\n",
       "    <tr>\n",
       "      <th>30192</th>\n",
       "      <td>12.510278</td>\n",
       "      <td>2015-05-01 12:46:10</td>\n",
       "      <td>2015-05-02 01:16:47</td>\n",
       "      <td>Request for Pothole Repair</td>\n",
       "      <td>Case Closed. Closed date : 2015-05-02 13:16:47.883 Case Resolved has been filled</td>\n",
       "    </tr>\n",
       "    <tr>\n",
       "      <th>59339</th>\n",
       "      <td>1.602500</td>\n",
       "      <td>2015-05-02 04:32:44</td>\n",
       "      <td>2015-05-02 06:08:53</td>\n",
       "      <td>Empty Litter Basket</td>\n",
       "      <td>Case Closed. Closed date : 2015-05-02 18:08:53.343 Case Resolved emptied</td>\n",
       "    </tr>\n",
       "    <tr>\n",
       "      <th>65039</th>\n",
       "      <td>12.939444</td>\n",
       "      <td>2015-05-01 12:19:26</td>\n",
       "      <td>2015-05-02 01:15:48</td>\n",
       "      <td>Sidewalk Repair (Make Safe)</td>\n",
       "      <td>Case Closed. Closed date : 2015-05-02 13:15:48.053 Case Resolved has been made safe</td>\n",
       "    </tr>\n",
       "    <tr>\n",
       "      <th>81892</th>\n",
       "      <td>1250.975556</td>\n",
       "      <td>2015-03-11 04:32:24</td>\n",
       "      <td>2015-05-02 07:30:56</td>\n",
       "      <td>Sidewalk Repair (Make Safe)</td>\n",
       "      <td>Case Closed. Closed date : 2015-05-02 19:30:56.463 Case Referred to External Agency reported to NPS</td>\n",
       "    </tr>\n",
       "    <tr>\n",
       "      <th>103924</th>\n",
       "      <td>3.447500</td>\n",
       "      <td>2015-05-02 03:53:05</td>\n",
       "      <td>2015-05-02 07:19:56</td>\n",
       "      <td>Pick up Dead Animal</td>\n",
       "      <td>Case Closed. Closed date : 2015-05-02 19:19:56.617 Case Resolved dead animal picked up</td>\n",
       "    </tr>\n",
       "    <tr>\n",
       "      <th>105867</th>\n",
       "      <td>1201.949722</td>\n",
       "      <td>2015-03-13 05:32:57</td>\n",
       "      <td>2015-05-02 07:29:56</td>\n",
       "      <td>Requests for Street Cleaning</td>\n",
       "      <td>Case Closed. Closed date : 2015-05-02 19:29:56.793 Case Referred to External Agency reported to National Park Service in March</td>\n",
       "    </tr>\n",
       "    <tr>\n",
       "      <th>135007</th>\n",
       "      <td>1271.081111</td>\n",
       "      <td>2015-03-10 08:27:54</td>\n",
       "      <td>2015-05-02 07:32:46</td>\n",
       "      <td>Sidewalk Cover / Manhole</td>\n",
       "      <td>Case Closed. Closed date : 2015-05-02 19:32:46.067 Case Referred to External Agency reported to BWSC</td>\n",
       "    </tr>\n",
       "    <tr>\n",
       "      <th>161208</th>\n",
       "      <td>1147.827222</td>\n",
       "      <td>2015-03-15 11:38:54</td>\n",
       "      <td>2015-05-02 07:28:32</td>\n",
       "      <td>Sidewalk Repair (Make Safe)</td>\n",
       "      <td>Case Closed. Closed date : 2015-05-02 19:28:32.003 Case Referred to External Agency reported to DCR in March</td>\n",
       "    </tr>\n",
       "    <tr>\n",
       "      <th>218517</th>\n",
       "      <td>3.033333</td>\n",
       "      <td>2015-05-02 05:33:01</td>\n",
       "      <td>2015-05-02 08:35:01</td>\n",
       "      <td>Requests for Street Cleaning</td>\n",
       "      <td>Case Closed. Closed date : 2015-05-02 20:35:01.857 Case Resolved picked up</td>\n",
       "    </tr>\n",
       "    <tr>\n",
       "      <th>267823</th>\n",
       "      <td>1.717778</td>\n",
       "      <td>2015-05-02 04:26:11</td>\n",
       "      <td>2015-05-02 06:09:15</td>\n",
       "      <td>Empty Litter Basket</td>\n",
       "      <td>Case Closed. Closed date : 2015-05-02 18:09:15.537 Case Resolved emptied</td>\n",
       "    </tr>\n",
       "    <tr>\n",
       "      <th>418366</th>\n",
       "      <td>909.520000</td>\n",
       "      <td>2015-03-25 09:22:35</td>\n",
       "      <td>2015-05-02 06:53:47</td>\n",
       "      <td>Requests for Street Cleaning</td>\n",
       "      <td>Case Closed. Closed date : 2015-05-02 18:53:47.043 Case Resolved PWD handled sidewalk; remainder is USPS property</td>\n",
       "    </tr>\n",
       "    <tr>\n",
       "      <th>442170</th>\n",
       "      <td>25.699444</td>\n",
       "      <td>2015-05-01 01:24:24</td>\n",
       "      <td>2015-05-02 03:06:22</td>\n",
       "      <td>Equipment Repair</td>\n",
       "      <td>Case Closed. Closed date : 2015-05-02 15:06:22.907 Case Resolved no leak found</td>\n",
       "    </tr>\n",
       "    <tr>\n",
       "      <th>448046</th>\n",
       "      <td>0.021944</td>\n",
       "      <td>2015-05-02 10:34:58</td>\n",
       "      <td>2015-05-02 10:36:17</td>\n",
       "      <td>Request for Pothole Repair</td>\n",
       "      <td>Case Closed. Closed date : 2015-05-02 10:36:17.967 14R1 TESTING 14R1 TESTING</td>\n",
       "    </tr>\n",
       "    <tr>\n",
       "      <th>504309</th>\n",
       "      <td>17.843056</td>\n",
       "      <td>2015-05-01 07:45:07</td>\n",
       "      <td>2015-05-02 01:35:42</td>\n",
       "      <td>Parking Enforcement</td>\n",
       "      <td>Case Closed. Closed date : 2015-05-02 13:35:42.193 Case Resolved special event police details</td>\n",
       "    </tr>\n",
       "    <tr>\n",
       "      <th>508524</th>\n",
       "      <td>1633.973333</td>\n",
       "      <td>2015-02-23 06:16:17</td>\n",
       "      <td>2015-05-02 08:14:41</td>\n",
       "      <td>Requests for Street Cleaning</td>\n",
       "      <td>Case Closed. Closed date : 2015-05-02 20:14:41.537 Case Resolved</td>\n",
       "    </tr>\n",
       "    <tr>\n",
       "      <th>536398</th>\n",
       "      <td>1584.826389</td>\n",
       "      <td>2015-02-25 07:14:02</td>\n",
       "      <td>2015-05-02 08:03:37</td>\n",
       "      <td>Request for Pothole Repair</td>\n",
       "      <td>Case Closed. Closed date : 2015-05-02 20:03:37.083 Case Referred to External Agency reported to DCR in March</td>\n",
       "    </tr>\n",
       "    <tr>\n",
       "      <th>538341</th>\n",
       "      <td>1586.806667</td>\n",
       "      <td>2015-02-25 05:19:21</td>\n",
       "      <td>2015-05-02 08:07:45</td>\n",
       "      <td>Request for Pothole Repair</td>\n",
       "      <td>Case Closed. Closed date : 2015-05-02 20:07:45.087 Case Referred to External Agency reported to MassDOT in March</td>\n",
       "    </tr>\n",
       "    <tr>\n",
       "      <th>575033</th>\n",
       "      <td>24.757222</td>\n",
       "      <td>2015-05-01 02:31:57</td>\n",
       "      <td>2015-05-02 03:17:23</td>\n",
       "      <td>Sidewalk Repair (Make Safe)</td>\n",
       "      <td>Case Closed. Closed date : 2015-05-02 15:17:23.063 Case Resolved Location has been made safe. This sidewalk will be referred for permanent repair. See case #101001368690 for status of the permanent repair.</td>\n",
       "    </tr>\n",
       "    <tr>\n",
       "      <th>594788</th>\n",
       "      <td>1517.293889</td>\n",
       "      <td>2015-02-28 02:30:45</td>\n",
       "      <td>2015-05-02 07:48:23</td>\n",
       "      <td>Street Light Outages</td>\n",
       "      <td>Case Closed. Closed date : 2015-05-02 19:48:23.017 Case Referred to External Agency reported to DCR in March</td>\n",
       "    </tr>\n",
       "    <tr>\n",
       "      <th>605702</th>\n",
       "      <td>17.417222</td>\n",
       "      <td>2015-05-01 09:42:47</td>\n",
       "      <td>2015-05-02 03:07:49</td>\n",
       "      <td>Equipment Repair</td>\n",
       "      <td>Case Closed. Closed date : 2015-05-02 15:07:49.587 Case Resolved graffiti removed</td>\n",
       "    </tr>\n",
       "    <tr>\n",
       "      <th>639936</th>\n",
       "      <td>12.996944</td>\n",
       "      <td>2015-05-01 12:15:24</td>\n",
       "      <td>2015-05-02 01:15:13</td>\n",
       "      <td>Request for Pothole Repair</td>\n",
       "      <td>Case Closed. Closed date : 2015-05-02 13:15:13.163 Case Resolved have been made safe</td>\n",
       "    </tr>\n",
       "    <tr>\n",
       "      <th>747450</th>\n",
       "      <td>1634.198889</td>\n",
       "      <td>2015-02-23 06:02:56</td>\n",
       "      <td>2015-05-02 08:14:52</td>\n",
       "      <td>Request for Snow Plowing</td>\n",
       "      <td>Case Closed. Closed date : 2015-05-02 20:14:52.523</td>\n",
       "    </tr>\n",
       "    <tr>\n",
       "      <th>761482</th>\n",
       "      <td>1.394167</td>\n",
       "      <td>2015-05-02 08:31:00</td>\n",
       "      <td>2015-05-02 09:54:39</td>\n",
       "      <td>Pick up Dead Animal</td>\n",
       "      <td>Case Closed. Closed date : 2015-05-02 21:54:39.303 Case Resolved picked up</td>\n",
       "    </tr>\n",
       "    <tr>\n",
       "      <th>790849</th>\n",
       "      <td>1608.297222</td>\n",
       "      <td>2015-02-24 07:53:49</td>\n",
       "      <td>2015-05-02 08:11:39</td>\n",
       "      <td>Request for Pothole Repair</td>\n",
       "      <td>Case Closed. Closed date : 2015-05-02 20:11:39.637 Case Referred to External Agency reported to state in Feb</td>\n",
       "    </tr>\n",
       "    <tr>\n",
       "      <th>795943</th>\n",
       "      <td>4.096944</td>\n",
       "      <td>2015-05-02 02:01:00</td>\n",
       "      <td>2015-05-02 06:06:49</td>\n",
       "      <td>Parking Enforcement</td>\n",
       "      <td>Case Closed. Closed date : 2015-05-02 18:06:49.433 Case Resolved VEHICLE TAGGED.</td>\n",
       "    </tr>\n",
       "    <tr>\n",
       "      <th>813775</th>\n",
       "      <td>13.032222</td>\n",
       "      <td>2015-05-01 12:14:20</td>\n",
       "      <td>2015-05-02 01:16:16</td>\n",
       "      <td>Request for Pothole Repair</td>\n",
       "      <td>Case Closed. Closed date : 2015-05-02 13:16:16.873 Case Resolved has been filled</td>\n",
       "    </tr>\n",
       "    <tr>\n",
       "      <th>819750</th>\n",
       "      <td>1608.768333</td>\n",
       "      <td>2015-02-24 07:26:14</td>\n",
       "      <td>2015-05-02 08:12:20</td>\n",
       "      <td>City/State Snow Issues</td>\n",
       "      <td>Case Closed. Closed date : 2015-05-02 20:12:20.043 Case Resolved</td>\n",
       "    </tr>\n",
       "    <tr>\n",
       "      <th>865451</th>\n",
       "      <td>1633.891389</td>\n",
       "      <td>2015-02-23 06:20:43</td>\n",
       "      <td>2015-05-02 08:14:12</td>\n",
       "      <td>Request for Pothole Repair</td>\n",
       "      <td>Case Closed. Closed date : 2015-05-02 20:14:12.473 Case Referred to External Agency gave to DCR in Feb</td>\n",
       "    </tr>\n",
       "    <tr>\n",
       "      <th>875403</th>\n",
       "      <td>1.339722</td>\n",
       "      <td>2015-05-02 08:33:00</td>\n",
       "      <td>2015-05-02 09:53:23</td>\n",
       "      <td>Pick up Dead Animal</td>\n",
       "      <td>Case Closed. Closed date : 2015-05-02 21:53:23.817 Case Resolved picked up</td>\n",
       "    </tr>\n",
       "  </tbody>\n",
       "</table>\n",
       "</div>"
      ],
      "text/plain": [
       "        COMPLETION_TIME             OPEN_DT           CLOSED_DT  \\\n",
       "17770       1607.934722 2015-02-24 08:14:52 2015-05-02 08:10:57   \n",
       "22621       1607.863056 2015-02-24 08:18:43 2015-05-02 08:10:30   \n",
       "30192         12.510278 2015-05-01 12:46:10 2015-05-02 01:16:47   \n",
       "59339          1.602500 2015-05-02 04:32:44 2015-05-02 06:08:53   \n",
       "65039         12.939444 2015-05-01 12:19:26 2015-05-02 01:15:48   \n",
       "81892       1250.975556 2015-03-11 04:32:24 2015-05-02 07:30:56   \n",
       "103924         3.447500 2015-05-02 03:53:05 2015-05-02 07:19:56   \n",
       "105867      1201.949722 2015-03-13 05:32:57 2015-05-02 07:29:56   \n",
       "135007      1271.081111 2015-03-10 08:27:54 2015-05-02 07:32:46   \n",
       "161208      1147.827222 2015-03-15 11:38:54 2015-05-02 07:28:32   \n",
       "218517         3.033333 2015-05-02 05:33:01 2015-05-02 08:35:01   \n",
       "267823         1.717778 2015-05-02 04:26:11 2015-05-02 06:09:15   \n",
       "418366       909.520000 2015-03-25 09:22:35 2015-05-02 06:53:47   \n",
       "442170        25.699444 2015-05-01 01:24:24 2015-05-02 03:06:22   \n",
       "448046         0.021944 2015-05-02 10:34:58 2015-05-02 10:36:17   \n",
       "504309        17.843056 2015-05-01 07:45:07 2015-05-02 01:35:42   \n",
       "508524      1633.973333 2015-02-23 06:16:17 2015-05-02 08:14:41   \n",
       "536398      1584.826389 2015-02-25 07:14:02 2015-05-02 08:03:37   \n",
       "538341      1586.806667 2015-02-25 05:19:21 2015-05-02 08:07:45   \n",
       "575033        24.757222 2015-05-01 02:31:57 2015-05-02 03:17:23   \n",
       "594788      1517.293889 2015-02-28 02:30:45 2015-05-02 07:48:23   \n",
       "605702        17.417222 2015-05-01 09:42:47 2015-05-02 03:07:49   \n",
       "639936        12.996944 2015-05-01 12:15:24 2015-05-02 01:15:13   \n",
       "747450      1634.198889 2015-02-23 06:02:56 2015-05-02 08:14:52   \n",
       "761482         1.394167 2015-05-02 08:31:00 2015-05-02 09:54:39   \n",
       "790849      1608.297222 2015-02-24 07:53:49 2015-05-02 08:11:39   \n",
       "795943         4.096944 2015-05-02 02:01:00 2015-05-02 06:06:49   \n",
       "813775        13.032222 2015-05-01 12:14:20 2015-05-02 01:16:16   \n",
       "819750      1608.768333 2015-02-24 07:26:14 2015-05-02 08:12:20   \n",
       "865451      1633.891389 2015-02-23 06:20:43 2015-05-02 08:14:12   \n",
       "875403         1.339722 2015-05-02 08:33:00 2015-05-02 09:53:23   \n",
       "\n",
       "                                                  TYPE  \\\n",
       "17770                              Highway Maintenance   \n",
       "22621   Requests for Traffic Signal Studies or Reviews   \n",
       "30192                       Request for Pothole Repair   \n",
       "59339                              Empty Litter Basket   \n",
       "65039                      Sidewalk Repair (Make Safe)   \n",
       "81892                      Sidewalk Repair (Make Safe)   \n",
       "103924                             Pick up Dead Animal   \n",
       "105867                    Requests for Street Cleaning   \n",
       "135007                        Sidewalk Cover / Manhole   \n",
       "161208                     Sidewalk Repair (Make Safe)   \n",
       "218517                    Requests for Street Cleaning   \n",
       "267823                             Empty Litter Basket   \n",
       "418366                    Requests for Street Cleaning   \n",
       "442170                                Equipment Repair   \n",
       "448046                      Request for Pothole Repair   \n",
       "504309                             Parking Enforcement   \n",
       "508524                    Requests for Street Cleaning   \n",
       "536398                      Request for Pothole Repair   \n",
       "538341                      Request for Pothole Repair   \n",
       "575033                     Sidewalk Repair (Make Safe)   \n",
       "594788                            Street Light Outages   \n",
       "605702                                Equipment Repair   \n",
       "639936                      Request for Pothole Repair   \n",
       "747450                        Request for Snow Plowing   \n",
       "761482                             Pick up Dead Animal   \n",
       "790849                      Request for Pothole Repair   \n",
       "795943                             Parking Enforcement   \n",
       "813775                      Request for Pothole Repair   \n",
       "819750                          City/State Snow Issues   \n",
       "865451                      Request for Pothole Repair   \n",
       "875403                             Pick up Dead Animal   \n",
       "\n",
       "                                                                                                                                                                                                       CLOSURE_REASON  \n",
       "17770                                                                                                          Case Closed. Closed date : 2015-05-02 20:10:57.963 Case Referred to External Agency gave to DCR in Feb  \n",
       "22621                                                                                                          Case Closed. Closed date : 2015-05-02 20:10:30.943 Case Referred to External Agency gave to DCR in Feb  \n",
       "30192                                                                                                                                Case Closed. Closed date : 2015-05-02 13:16:47.883 Case Resolved has been filled  \n",
       "59339                                                                                                                                        Case Closed. Closed date : 2015-05-02 18:08:53.343 Case Resolved emptied  \n",
       "65039                                                                                                                             Case Closed. Closed date : 2015-05-02 13:15:48.053 Case Resolved has been made safe  \n",
       "81892                                                                                                             Case Closed. Closed date : 2015-05-02 19:30:56.463 Case Referred to External Agency reported to NPS  \n",
       "103924                                                                                                                         Case Closed. Closed date : 2015-05-02 19:19:56.617 Case Resolved dead animal picked up  \n",
       "105867                                                                                 Case Closed. Closed date : 2015-05-02 19:29:56.793 Case Referred to External Agency reported to National Park Service in March  \n",
       "135007                                                                                                           Case Closed. Closed date : 2015-05-02 19:32:46.067 Case Referred to External Agency reported to BWSC  \n",
       "161208                                                                                                   Case Closed. Closed date : 2015-05-02 19:28:32.003 Case Referred to External Agency reported to DCR in March  \n",
       "218517                                                                                                                                     Case Closed. Closed date : 2015-05-02 20:35:01.857 Case Resolved picked up  \n",
       "267823                                                                                                                                       Case Closed. Closed date : 2015-05-02 18:09:15.537 Case Resolved emptied  \n",
       "418366                                                                                              Case Closed. Closed date : 2015-05-02 18:53:47.043 Case Resolved PWD handled sidewalk; remainder is USPS property  \n",
       "442170                                                                                                                                 Case Closed. Closed date : 2015-05-02 15:06:22.907 Case Resolved no leak found  \n",
       "448046                                                                                                                                   Case Closed. Closed date : 2015-05-02 10:36:17.967 14R1 TESTING 14R1 TESTING  \n",
       "504309                                                                                                                  Case Closed. Closed date : 2015-05-02 13:35:42.193 Case Resolved special event police details  \n",
       "508524                                                                                                                                               Case Closed. Closed date : 2015-05-02 20:14:41.537 Case Resolved  \n",
       "536398                                                                                                   Case Closed. Closed date : 2015-05-02 20:03:37.083 Case Referred to External Agency reported to DCR in March  \n",
       "538341                                                                                               Case Closed. Closed date : 2015-05-02 20:07:45.087 Case Referred to External Agency reported to MassDOT in March  \n",
       "575033  Case Closed. Closed date : 2015-05-02 15:17:23.063 Case Resolved Location has been made safe. This sidewalk will be referred for permanent repair. See case #101001368690 for status of the permanent repair.  \n",
       "594788                                                                                                   Case Closed. Closed date : 2015-05-02 19:48:23.017 Case Referred to External Agency reported to DCR in March  \n",
       "605702                                                                                                                              Case Closed. Closed date : 2015-05-02 15:07:49.587 Case Resolved graffiti removed  \n",
       "639936                                                                                                                           Case Closed. Closed date : 2015-05-02 13:15:13.163 Case Resolved have been made safe  \n",
       "747450                                                                                                                                                             Case Closed. Closed date : 2015-05-02 20:14:52.523  \n",
       "761482                                                                                                                                     Case Closed. Closed date : 2015-05-02 21:54:39.303 Case Resolved picked up  \n",
       "790849                                                                                                   Case Closed. Closed date : 2015-05-02 20:11:39.637 Case Referred to External Agency reported to state in Feb  \n",
       "795943                                                                                                                               Case Closed. Closed date : 2015-05-02 18:06:49.433 Case Resolved VEHICLE TAGGED.  \n",
       "813775                                                                                                                               Case Closed. Closed date : 2015-05-02 13:16:16.873 Case Resolved has been filled  \n",
       "819750                                                                                                                                               Case Closed. Closed date : 2015-05-02 20:12:20.043 Case Resolved  \n",
       "865451                                                                                                         Case Closed. Closed date : 2015-05-02 20:14:12.473 Case Referred to External Agency gave to DCR in Feb  \n",
       "875403                                                                                                                                     Case Closed. Closed date : 2015-05-02 21:53:23.817 Case Resolved picked up  "
      ]
     },
     "execution_count": 193,
     "metadata": {},
     "output_type": "execute_result"
    }
   ],
   "source": [
    "df1[['COMPLETION_TIME', 'OPEN_DT', 'CLOSED_DT', 'TYPE', 'CLOSURE_REASON']][df1.CLOSED_DT < '2015-05-03'] \\\n",
    "    [df1.COMPLETION_TIME > 0][df1.CLOSURE_REASON.str.contains(r'(\\d\\d\\d\\d-\\d\\d-\\d\\d \\d\\d:\\d\\d:\\d\\d.\\d\\d\\d)', na=False)] \\\n",
    "#     .head(500).tail()"
   ]
  },
  {
   "cell_type": "markdown",
   "metadata": {},
   "source": [
    "It looks like they changed their `CLOSED_DT` definition on 2015-05-02. To verify, are there any negative completion time issues before that `CLOSED_DT` date? If not, then I will want to make all the `CLOSED_DT`s after that date line up with the time in `CLOSURE_REASON`."
   ]
  },
  {
   "cell_type": "code",
   "execution_count": 194,
   "metadata": {
    "collapsed": false
   },
   "outputs": [
    {
     "name": "stderr",
     "output_type": "stream",
     "text": [
      "/home/ubuntu/anaconda2/lib/python2.7/site-packages/ipykernel/__main__.py:1: UserWarning: Boolean Series key will be reindexed to match DataFrame index.\n",
      "  if __name__ == '__main__':\n"
     ]
    },
    {
     "data": {
      "text/html": [
       "<div>\n",
       "<table border=\"1\" class=\"dataframe\">\n",
       "  <thead>\n",
       "    <tr style=\"text-align: right;\">\n",
       "      <th></th>\n",
       "      <th>COMPLETION_TIME</th>\n",
       "      <th>OPEN_DT</th>\n",
       "      <th>CLOSED_DT</th>\n",
       "      <th>TYPE</th>\n",
       "      <th>CLOSURE_REASON</th>\n",
       "    </tr>\n",
       "  </thead>\n",
       "  <tbody>\n",
       "    <tr>\n",
       "      <th>20193</th>\n",
       "      <td>-9.230278</td>\n",
       "      <td>2011-09-22 11:35:37</td>\n",
       "      <td>2011-09-22 02:21:48</td>\n",
       "      <td>Empty Litter Basket</td>\n",
       "      <td>Case Closed Case Resolved all barrels are empty</td>\n",
       "    </tr>\n",
       "    <tr>\n",
       "      <th>20287</th>\n",
       "      <td>-7.950000</td>\n",
       "      <td>2013-10-02 10:52:45</td>\n",
       "      <td>2013-10-02 02:55:45</td>\n",
       "      <td>Traffic Signal Repair</td>\n",
       "      <td>Case Closed Case Resolved</td>\n",
       "    </tr>\n",
       "    <tr>\n",
       "      <th>20366</th>\n",
       "      <td>-7.066111</td>\n",
       "      <td>2014-01-24 09:50:53</td>\n",
       "      <td>2014-01-24 02:46:55</td>\n",
       "      <td>Request for Pothole Repair</td>\n",
       "      <td>Case Closed Case Resolved made safe</td>\n",
       "    </tr>\n",
       "    <tr>\n",
       "      <th>20376</th>\n",
       "      <td>-6.302222</td>\n",
       "      <td>2012-02-08 09:25:25</td>\n",
       "      <td>2012-02-08 03:07:17</td>\n",
       "      <td>Requests for Street Cleaning</td>\n",
       "      <td>Case Closed Case Resolved glass cleaned up.</td>\n",
       "    </tr>\n",
       "    <tr>\n",
       "      <th>20391</th>\n",
       "      <td>-6.917778</td>\n",
       "      <td>2014-03-24 09:31:17</td>\n",
       "      <td>2014-03-24 02:36:13</td>\n",
       "      <td>Request for Pothole Repair</td>\n",
       "      <td>Case Closed Case Noted pothole patched</td>\n",
       "    </tr>\n",
       "  </tbody>\n",
       "</table>\n",
       "</div>"
      ],
      "text/plain": [
       "       COMPLETION_TIME             OPEN_DT           CLOSED_DT  \\\n",
       "20193        -9.230278 2011-09-22 11:35:37 2011-09-22 02:21:48   \n",
       "20287        -7.950000 2013-10-02 10:52:45 2013-10-02 02:55:45   \n",
       "20366        -7.066111 2014-01-24 09:50:53 2014-01-24 02:46:55   \n",
       "20376        -6.302222 2012-02-08 09:25:25 2012-02-08 03:07:17   \n",
       "20391        -6.917778 2014-03-24 09:31:17 2014-03-24 02:36:13   \n",
       "\n",
       "                               TYPE  \\\n",
       "20193           Empty Litter Basket   \n",
       "20287         Traffic Signal Repair   \n",
       "20366    Request for Pothole Repair   \n",
       "20376  Requests for Street Cleaning   \n",
       "20391    Request for Pothole Repair   \n",
       "\n",
       "                                        CLOSURE_REASON  \n",
       "20193  Case Closed Case Resolved all barrels are empty  \n",
       "20287                        Case Closed Case Resolved  \n",
       "20366              Case Closed Case Resolved made safe  \n",
       "20376      Case Closed Case Resolved glass cleaned up.  \n",
       "20391           Case Closed Case Noted pothole patched  "
      ]
     },
     "execution_count": 194,
     "metadata": {},
     "output_type": "execute_result"
    }
   ],
   "source": [
    "df1[['COMPLETION_TIME', 'OPEN_DT', 'CLOSED_DT', 'TYPE', 'CLOSURE_REASON']][df1.COMPLETION_TIME < 0][df1.CLOSED_DT < '2015-05-02'].head(500).tail()"
   ]
  },
  {
   "cell_type": "markdown",
   "metadata": {},
   "source": [
    "Yes.\n",
    "\n",
    "How many negative completion times before and after that date?"
   ]
  },
  {
   "cell_type": "code",
   "execution_count": 196,
   "metadata": {
    "collapsed": false
   },
   "outputs": [
    {
     "name": "stderr",
     "output_type": "stream",
     "text": [
      "/home/ubuntu/anaconda2/lib/python2.7/site-packages/ipykernel/__main__.py:1: UserWarning: Boolean Series key will be reindexed to match DataFrame index.\n",
      "  if __name__ == '__main__':\n"
     ]
    },
    {
     "data": {
      "text/plain": [
       "(22070, 2)"
      ]
     },
     "execution_count": 196,
     "metadata": {},
     "output_type": "execute_result"
    }
   ],
   "source": [
    "df1[['COMPLETION_TIME', 'CLOSED_DT']][df1.COMPLETION_TIME < 0][df1.CLOSED_DT < '2015-05-02'].shape"
   ]
  },
  {
   "cell_type": "code",
   "execution_count": 197,
   "metadata": {
    "collapsed": false
   },
   "outputs": [
    {
     "name": "stderr",
     "output_type": "stream",
     "text": [
      "/home/ubuntu/anaconda2/lib/python2.7/site-packages/ipykernel/__main__.py:1: UserWarning: Boolean Series key will be reindexed to match DataFrame index.\n",
      "  if __name__ == '__main__':\n"
     ]
    },
    {
     "data": {
      "text/plain": [
       "(17605, 2)"
      ]
     },
     "execution_count": 197,
     "metadata": {},
     "output_type": "execute_result"
    }
   ],
   "source": [
    "df1[['COMPLETION_TIME', 'CLOSED_DT']][df1.COMPLETION_TIME < 0][df1.CLOSED_DT > '2015-05-02'].shape"
   ]
  },
  {
   "cell_type": "code",
   "execution_count": 85,
   "metadata": {
    "collapsed": false
   },
   "outputs": [
    {
     "data": {
      "text/plain": [
       "0.043829850696803486"
      ]
     },
     "execution_count": 85,
     "metadata": {},
     "output_type": "execute_result"
    }
   ],
   "source": [
    "39675 / 905205."
   ]
  },
  {
   "cell_type": "markdown",
   "metadata": {},
   "source": [
    "Now I have 2 options:\n",
    "- change all the `CLOSED_DT`s after 2015-05-02 to match what's in the description\n",
    "- since only 4% of the issues have negative completion times, trust `CLOSED_DT` and not what's in the description, and drop those 4% of issues\n",
    "\n",
    "Given more time, I could contact the city and ask them why the completion time stopped matching up after 2015-05-02. A quick Google search for 'boston 311 closure reason' didn't yield any helpful results. I could also look at the before-and-after completion times to see if there's a big difference.\n",
    "\n",
    "But for now, I will do the simple thing, trust the `CLOSED_DT` values, and drop the issues with negative completion times."
   ]
  },
  {
   "cell_type": "code",
   "execution_count": 37,
   "metadata": {
    "collapsed": false
   },
   "outputs": [],
   "source": [
    "df2 = df1[(df1.COMPLETION_TIME > 0) | (df1.COMPLETION_TIME.isnull())]"
   ]
  },
  {
   "cell_type": "code",
   "execution_count": 41,
   "metadata": {
    "collapsed": false
   },
   "outputs": [
    {
     "data": {
      "text/plain": [
       "70557"
      ]
     },
     "execution_count": 41,
     "metadata": {},
     "output_type": "execute_result"
    }
   ],
   "source": [
    "df2.CLOSED_DT.isnull().sum()"
   ]
  },
  {
   "cell_type": "markdown",
   "metadata": {},
   "source": [
    "We can describe those issues with negative completion times by datetime, category, amongst other factors."
   ]
  },
  {
   "cell_type": "markdown",
   "metadata": {},
   "source": [
    "## OK, let's make a revised final df\n",
    "\n",
    "Look in `remove_from_dataset.py`"
   ]
  }
 ],
 "metadata": {
  "anaconda-cloud": {},
  "kernelspec": {
   "display_name": "Python [default]",
   "language": "python",
   "name": "python2"
  },
  "language_info": {
   "codemirror_mode": {
    "name": "ipython",
    "version": 2
   },
   "file_extension": ".py",
   "mimetype": "text/x-python",
   "name": "python",
   "nbconvert_exporter": "python",
   "pygments_lexer": "ipython2",
   "version": "2.7.12"
  }
 },
 "nbformat": 4,
 "nbformat_minor": 1
}
