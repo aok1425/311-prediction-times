{
 "cells": [
  {
   "cell_type": "markdown",
   "metadata": {},
   "source": [
    "Let's try a super-simple decision tree + pruning model, to see to what extent the data is non-linear. Our RMSE for one of the folds was 1881, for comparison."
   ]
  },
  {
   "cell_type": "raw",
   "metadata": {},
   "source": [
    "https://github.com/zipfian/non-parametric-learners/blob/master/pair.md"
   ]
  },
  {
   "cell_type": "raw",
   "metadata": {
    "collapsed": true
   },
   "source": [
    "- non-robust to the data, I remember now\n",
    "http://scikit-learn.org/stable/modules/tree.html"
   ]
  },
  {
   "cell_type": "code",
   "execution_count": 10,
   "metadata": {
    "collapsed": false
   },
   "outputs": [],
   "source": [
    "import pandas as pd\n",
    "from sklearn.tree import DecisionTreeRegressor\n",
    "# from DecisionTreeRegressor import DecisionTreeRegressor\n",
    "from sklearn.cross_validation import train_test_split\n",
    "from sklearn.model_selection import ShuffleSplit\n",
    "from sklearn.pipeline import make_pipeline\n",
    "from sklearn.preprocessing import LabelEncoder\n"
   ]
  },
  {
   "cell_type": "code",
   "execution_count": 2,
   "metadata": {
    "collapsed": false
   },
   "outputs": [
    {
     "data": {
      "text/plain": [
       "(718936, 155)"
      ]
     },
     "execution_count": 2,
     "metadata": {},
     "output_type": "execute_result"
    }
   ],
   "source": [
    "df = pd.read_hdf('../data/data_till_june_2016_w_descs_and_census.h5')\n",
    "df = df.dropna(subset=['CLOSED_DT'])\n",
    "df.shape"
   ]
  },
  {
   "cell_type": "markdown",
   "metadata": {
    "collapsed": true
   },
   "source": [
    "The performance btwn CV and test sets will prolly vary widely, bc the method is very sensitive to the data itself.\n",
    "\n",
    "## Splitting the data"
   ]
  },
  {
   "cell_type": "code",
   "execution_count": 3,
   "metadata": {
    "collapsed": false
   },
   "outputs": [],
   "source": [
    "X_train, X_test, y_train, y_test = train_test_split(\n",
    "    df.drop('COMPLETION_TIME', axis=1), \n",
    "    df.COMPLETION_TIME, \n",
    "    test_size=0.2, \n",
    "    random_state=300\n",
    ")"
   ]
  },
  {
   "cell_type": "code",
   "execution_count": 4,
   "metadata": {
    "collapsed": true
   },
   "outputs": [],
   "source": [
    "ss = ShuffleSplit(n_splits=5, test_size=0.2, random_state=300)"
   ]
  },
  {
   "cell_type": "markdown",
   "metadata": {},
   "source": [
    "## Making the regressors"
   ]
  },
  {
   "cell_type": "code",
   "execution_count": 5,
   "metadata": {
    "collapsed": false
   },
   "outputs": [
    {
     "data": {
      "text/plain": [
       "LabelEncoder()"
      ]
     },
     "execution_count": 5,
     "metadata": {},
     "output_type": "execute_result"
    }
   ],
   "source": [
    "label_encoder = LabelEncoder()\n",
    "label_encoder.fit(df['TYPE']);"
   ]
  },
  {
   "cell_type": "code",
   "execution_count": 11,
   "metadata": {
    "collapsed": false
   },
   "outputs": [],
   "source": [
    "pipe1 = make_pipeline(DecisionTreeRegressor(max_depth=2))\n",
    "pipe2 = make_pipeline(DecisionTreeRegressor(max_depth=5))"
   ]
  },
  {
   "cell_type": "raw",
   "metadata": {},
   "source": [
    "Apparently LabelEncoders don't belong in a Pipeline\n",
    "https://github.com/scikit-learn/scikit-learn/issues/3112#issuecomment-53977117"
   ]
  },
  {
   "cell_type": "code",
   "execution_count": 16,
   "metadata": {
    "collapsed": false
   },
   "outputs": [],
   "source": [
    "pipe = pipe2"
   ]
  },
  {
   "cell_type": "raw",
   "metadata": {},
   "source": [
    "TODO: figure out what are good max_depth values; re-read some"
   ]
  },
  {
   "cell_type": "code",
   "execution_count": 17,
   "metadata": {
    "collapsed": false
   },
   "outputs": [
    {
     "name": "stdout",
     "output_type": "stream",
     "text": [
      "Training: 0.217100930488. Test: 0.212150795535\n",
      "Training: 0.220519238855. Test: 0.217272263857\n",
      "Training: 0.216708247758. Test: 0.213712277052\n",
      "Training: 0.217741260735. Test: 0.209185370479\n",
      "Training: 0.216736523547. Test: 0.213529304421\n"
     ]
    }
   ],
   "source": [
    "training_scores = []\n",
    "test_scores = []\n",
    "\n",
    "for CV_train_index, CV_test_index in ss.split(y_train):\n",
    "    X_CV_train = label_encoder.transform(X_train.iloc[CV_train_index]['TYPE'])[:, pd.np.newaxis]\n",
    "    X_CV_test = label_encoder.transform(X_train.iloc[CV_test_index]['TYPE'])[:, pd.np.newaxis]\n",
    "    y_CV_train = y_train.iloc[CV_train_index]\n",
    "    y_CV_test = y_train.iloc[CV_test_index]\n",
    "    \n",
    "    pipe.fit(X_CV_train, y_CV_train)\n",
    "    \n",
    "    training_score = pipe.score(X_CV_train, y_CV_train)\n",
    "    test_score = pipe.score(X_CV_test, y_CV_test)\n",
    "    \n",
    "    training_scores += [training_score]\n",
    "    test_scores += [test_score]\n",
    "    print \"Training: {}. Test: {}\".format(training_score, test_score)"
   ]
  },
  {
   "cell_type": "markdown",
   "metadata": {},
   "source": [
    "I'm predicting quite different CV scores for each fold, and perhaps better performance than Linear Regression's $R^2$ of 0.24.\n",
    "\n",
    "Funny--the error scores are all pretty similar. Not exactly sure why. Would need to investigate and think abou that more. Also, `max_depth=2` results in $R^2$ values around 11%. `max_depth=5` results in values around 21%.\n",
    "\n",
    "I should think about what would be good intuitive values."
   ]
  }
 ],
 "metadata": {
  "anaconda-cloud": {},
  "kernelspec": {
   "display_name": "Python [default]",
   "language": "python",
   "name": "python2"
  },
  "language_info": {
   "codemirror_mode": {
    "name": "ipython",
    "version": 2
   },
   "file_extension": ".py",
   "mimetype": "text/x-python",
   "name": "python",
   "nbconvert_exporter": "python",
   "pygments_lexer": "ipython2",
   "version": "2.7.12"
  }
 },
 "nbformat": 4,
 "nbformat_minor": 1
}
