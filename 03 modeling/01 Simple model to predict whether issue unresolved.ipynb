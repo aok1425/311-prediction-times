{
 "cells": [
  {
   "cell_type": "raw",
   "metadata": {},
   "source": [
    "- dec tree, or RF, or log reg?"
   ]
  },
  {
   "cell_type": "markdown",
   "metadata": {},
   "source": [
    "## Objective\n",
    "\n",
    "Since what I'm most interested in is which factors are most associated with whether an issue is unresolved, random forests seems like the most appropriate model choice, since I can look at the variable importance plot.\n",
    "\n",
    "Logistic regression is a close second; random forests usually have better performance.\n",
    "\n",
    "Random forests can also do a better job at getting signal out of raw lat and long. For logistic regression, there would need to be a linear relationship between lat and long and the log-odds of the issue being unresolved, which is a taller order.\n",
    "\n",
    "Thinking about my engineered feature `days_from_feb_2016` for example, Logistic Regression wouldn't do a good job with it, but a tree-based model would."
   ]
  },
  {
   "cell_type": "code",
   "execution_count": 1,
   "metadata": {
    "collapsed": true
   },
   "outputs": [],
   "source": [
    "from __future__ import division\n",
    "import pandas as pd\n",
    "from datetime import timedelta, datetime"
   ]
  },
  {
   "cell_type": "code",
   "execution_count": 17,
   "metadata": {
    "collapsed": true
   },
   "outputs": [],
   "source": [
    "import warnings\n",
    "import seaborn as sns\n",
    "\n",
    "warnings.filterwarnings(\"ignore\", category=DeprecationWarning)\n",
    "sns.set_style(\"whitegrid\")\n",
    "sns.set_context(\"poster\")\n",
    "\n",
    "from pylab import rcParams\n",
    "rcParams['figure.figsize'] = 20, 5\n",
    "\n",
    "import matplotlib.pyplot as plt\n",
    "\n",
    "%matplotlib inline"
   ]
  },
  {
   "cell_type": "code",
   "execution_count": 30,
   "metadata": {
    "collapsed": false
   },
   "outputs": [
    {
     "data": {
      "text/plain": [
       "(716310, 36)"
      ]
     },
     "execution_count": 30,
     "metadata": {},
     "output_type": "execute_result"
    }
   ],
   "source": [
    "df = pd.read_pickle('../data/data_w_transformed_census_and_removed_invalid_rows_and_cols.pkl')\n",
    "df.shape"
   ]
  },
  {
   "cell_type": "markdown",
   "metadata": {},
   "source": [
    "## scratch looking at NAs"
   ]
  },
  {
   "cell_type": "code",
   "execution_count": 34,
   "metadata": {
    "collapsed": false
   },
   "outputs": [
    {
     "data": {
      "text/html": [
       "<div>\n",
       "<table border=\"1\" class=\"dataframe\">\n",
       "  <thead>\n",
       "    <tr style=\"text-align: right;\">\n",
       "      <th></th>\n",
       "      <th>601</th>\n",
       "      <th>605</th>\n",
       "    </tr>\n",
       "  </thead>\n",
       "  <tbody>\n",
       "    <tr>\n",
       "      <th>CASE_ENQUIRY_ID</th>\n",
       "      <td>101001771843</td>\n",
       "      <td>101001066689</td>\n",
       "    </tr>\n",
       "    <tr>\n",
       "      <th>OPEN_DT</th>\n",
       "      <td>2016-04-19 05:51:01</td>\n",
       "      <td>2014-04-12 07:28:13</td>\n",
       "    </tr>\n",
       "    <tr>\n",
       "      <th>TARGET_DT</th>\n",
       "      <td>2016-04-21 08:30:00</td>\n",
       "      <td>2014-04-16 08:30:00</td>\n",
       "    </tr>\n",
       "    <tr>\n",
       "      <th>CLOSED_DT</th>\n",
       "      <td>2016-04-19 06:24:26</td>\n",
       "      <td>2014-04-14 06:03:35</td>\n",
       "    </tr>\n",
       "    <tr>\n",
       "      <th>CASE_TITLE</th>\n",
       "      <td>Parking Enforcement</td>\n",
       "      <td>Utility Call-In</td>\n",
       "    </tr>\n",
       "    <tr>\n",
       "      <th>SUBJECT</th>\n",
       "      <td>Transportation - Traffic Division</td>\n",
       "      <td>Public Works Department</td>\n",
       "    </tr>\n",
       "    <tr>\n",
       "      <th>REASON</th>\n",
       "      <td>Enforcement &amp; Abandoned Vehicles</td>\n",
       "      <td>Highway Maintenance</td>\n",
       "    </tr>\n",
       "    <tr>\n",
       "      <th>TYPE</th>\n",
       "      <td>Parking Enforcement</td>\n",
       "      <td>Utility Call-In</td>\n",
       "    </tr>\n",
       "    <tr>\n",
       "      <th>Department</th>\n",
       "      <td>BTDT</td>\n",
       "      <td>PWDx</td>\n",
       "    </tr>\n",
       "    <tr>\n",
       "      <th>SubmittedPhoto</th>\n",
       "      <td>True</td>\n",
       "      <td>False</td>\n",
       "    </tr>\n",
       "    <tr>\n",
       "      <th>neighborhood</th>\n",
       "      <td>Boston</td>\n",
       "      <td>South Boston / South Boston Waterfront</td>\n",
       "    </tr>\n",
       "    <tr>\n",
       "      <th>LOCATION_STREET_NAME</th>\n",
       "      <td>75 Boylston St</td>\n",
       "      <td>INTERSECTION Columbia Rd &amp; Old Harbor St</td>\n",
       "    </tr>\n",
       "    <tr>\n",
       "      <th>LOCATION_ZIPCODE</th>\n",
       "      <td>2108</td>\n",
       "      <td>NaN</td>\n",
       "    </tr>\n",
       "    <tr>\n",
       "      <th>Property_Type</th>\n",
       "      <td>Address</td>\n",
       "      <td>Intersection</td>\n",
       "    </tr>\n",
       "    <tr>\n",
       "      <th>Property_ID</th>\n",
       "      <td>354120</td>\n",
       "      <td>3253</td>\n",
       "    </tr>\n",
       "    <tr>\n",
       "      <th>LATITUDE</th>\n",
       "      <td>42.3526</td>\n",
       "      <td>42.3301</td>\n",
       "    </tr>\n",
       "    <tr>\n",
       "      <th>LONGITUDE</th>\n",
       "      <td>-71.0647</td>\n",
       "      <td>-71.0474</td>\n",
       "    </tr>\n",
       "    <tr>\n",
       "      <th>Source</th>\n",
       "      <td>Citizens Connect App</td>\n",
       "      <td>Constituent Call</td>\n",
       "    </tr>\n",
       "    <tr>\n",
       "      <th>tract_and_block_group</th>\n",
       "      <td>9817001</td>\n",
       "      <td>9812011</td>\n",
       "    </tr>\n",
       "    <tr>\n",
       "      <th>race_white</th>\n",
       "      <td>NaN</td>\n",
       "      <td>NaN</td>\n",
       "    </tr>\n",
       "    <tr>\n",
       "      <th>race_black</th>\n",
       "      <td>NaN</td>\n",
       "      <td>NaN</td>\n",
       "    </tr>\n",
       "    <tr>\n",
       "      <th>race_asian</th>\n",
       "      <td>NaN</td>\n",
       "      <td>NaN</td>\n",
       "    </tr>\n",
       "    <tr>\n",
       "      <th>race_hispanic</th>\n",
       "      <td>NaN</td>\n",
       "      <td>NaN</td>\n",
       "    </tr>\n",
       "    <tr>\n",
       "      <th>race_other</th>\n",
       "      <td>NaN</td>\n",
       "      <td>NaN</td>\n",
       "    </tr>\n",
       "    <tr>\n",
       "      <th>poverty_pop_below_poverty_level</th>\n",
       "      <td>NaN</td>\n",
       "      <td>NaN</td>\n",
       "    </tr>\n",
       "    <tr>\n",
       "      <th>poverty_pop_w_public_assistance</th>\n",
       "      <td>NaN</td>\n",
       "      <td>NaN</td>\n",
       "    </tr>\n",
       "    <tr>\n",
       "      <th>poverty_pop_w_food_stamps</th>\n",
       "      <td>NaN</td>\n",
       "      <td>NaN</td>\n",
       "    </tr>\n",
       "    <tr>\n",
       "      <th>poverty_pop_w_ssi</th>\n",
       "      <td>NaN</td>\n",
       "      <td>NaN</td>\n",
       "    </tr>\n",
       "    <tr>\n",
       "      <th>COMPLETION_TIME</th>\n",
       "      <td>0.556944</td>\n",
       "      <td>46.5894</td>\n",
       "    </tr>\n",
       "    <tr>\n",
       "      <th>school</th>\n",
       "      <td>0_none</td>\n",
       "      <td>0_none</td>\n",
       "    </tr>\n",
       "    <tr>\n",
       "      <th>housing</th>\n",
       "      <td>own</td>\n",
       "      <td>own</td>\n",
       "    </tr>\n",
       "    <tr>\n",
       "      <th>bedroom</th>\n",
       "      <td>0</td>\n",
       "      <td>0</td>\n",
       "    </tr>\n",
       "    <tr>\n",
       "      <th>value</th>\n",
       "      <td>5001</td>\n",
       "      <td>5001</td>\n",
       "    </tr>\n",
       "    <tr>\n",
       "      <th>rent</th>\n",
       "      <td>51</td>\n",
       "      <td>51</td>\n",
       "    </tr>\n",
       "    <tr>\n",
       "      <th>income</th>\n",
       "      <td>5001</td>\n",
       "      <td>5001</td>\n",
       "    </tr>\n",
       "    <tr>\n",
       "      <th>is_issue_unresolved</th>\n",
       "      <td>False</td>\n",
       "      <td>False</td>\n",
       "    </tr>\n",
       "  </tbody>\n",
       "</table>\n",
       "</div>"
      ],
      "text/plain": [
       "                                                               601  \\\n",
       "CASE_ENQUIRY_ID                                       101001771843   \n",
       "OPEN_DT                                        2016-04-19 05:51:01   \n",
       "TARGET_DT                                      2016-04-21 08:30:00   \n",
       "CLOSED_DT                                      2016-04-19 06:24:26   \n",
       "CASE_TITLE                                     Parking Enforcement   \n",
       "SUBJECT                          Transportation - Traffic Division   \n",
       "REASON                            Enforcement & Abandoned Vehicles   \n",
       "TYPE                                           Parking Enforcement   \n",
       "Department                                                    BTDT   \n",
       "SubmittedPhoto                                                True   \n",
       "neighborhood                                                Boston   \n",
       "LOCATION_STREET_NAME                                75 Boylston St   \n",
       "LOCATION_ZIPCODE                                              2108   \n",
       "Property_Type                                              Address   \n",
       "Property_ID                                                 354120   \n",
       "LATITUDE                                                   42.3526   \n",
       "LONGITUDE                                                 -71.0647   \n",
       "Source                                        Citizens Connect App   \n",
       "tract_and_block_group                                      9817001   \n",
       "race_white                                                     NaN   \n",
       "race_black                                                     NaN   \n",
       "race_asian                                                     NaN   \n",
       "race_hispanic                                                  NaN   \n",
       "race_other                                                     NaN   \n",
       "poverty_pop_below_poverty_level                                NaN   \n",
       "poverty_pop_w_public_assistance                                NaN   \n",
       "poverty_pop_w_food_stamps                                      NaN   \n",
       "poverty_pop_w_ssi                                              NaN   \n",
       "COMPLETION_TIME                                           0.556944   \n",
       "school                                                      0_none   \n",
       "housing                                                        own   \n",
       "bedroom                                                          0   \n",
       "value                                                         5001   \n",
       "rent                                                            51   \n",
       "income                                                        5001   \n",
       "is_issue_unresolved                                          False   \n",
       "\n",
       "                                                                      605  \n",
       "CASE_ENQUIRY_ID                                              101001066689  \n",
       "OPEN_DT                                               2014-04-12 07:28:13  \n",
       "TARGET_DT                                             2014-04-16 08:30:00  \n",
       "CLOSED_DT                                             2014-04-14 06:03:35  \n",
       "CASE_TITLE                                                Utility Call-In  \n",
       "SUBJECT                                           Public Works Department  \n",
       "REASON                                                Highway Maintenance  \n",
       "TYPE                                                      Utility Call-In  \n",
       "Department                                                           PWDx  \n",
       "SubmittedPhoto                                                      False  \n",
       "neighborhood                       South Boston / South Boston Waterfront  \n",
       "LOCATION_STREET_NAME             INTERSECTION Columbia Rd & Old Harbor St  \n",
       "LOCATION_ZIPCODE                                                      NaN  \n",
       "Property_Type                                                Intersection  \n",
       "Property_ID                                                          3253  \n",
       "LATITUDE                                                          42.3301  \n",
       "LONGITUDE                                                        -71.0474  \n",
       "Source                                                   Constituent Call  \n",
       "tract_and_block_group                                             9812011  \n",
       "race_white                                                            NaN  \n",
       "race_black                                                            NaN  \n",
       "race_asian                                                            NaN  \n",
       "race_hispanic                                                         NaN  \n",
       "race_other                                                            NaN  \n",
       "poverty_pop_below_poverty_level                                       NaN  \n",
       "poverty_pop_w_public_assistance                                       NaN  \n",
       "poverty_pop_w_food_stamps                                             NaN  \n",
       "poverty_pop_w_ssi                                                     NaN  \n",
       "COMPLETION_TIME                                                   46.5894  \n",
       "school                                                             0_none  \n",
       "housing                                                               own  \n",
       "bedroom                                                                 0  \n",
       "value                                                                5001  \n",
       "rent                                                                   51  \n",
       "income                                                               5001  \n",
       "is_issue_unresolved                                                 False  "
      ]
     },
     "execution_count": 34,
     "metadata": {},
     "output_type": "execute_result"
    }
   ],
   "source": [
    "df.head(2000)[df.head(2000).race_white.isnull()][['TYPE', 'ADDR'.head(2).T"
   ]
  },
  {
   "cell_type": "markdown",
   "metadata": {},
   "source": [
    "## Next section"
   ]
  },
  {
   "cell_type": "code",
   "execution_count": 5,
   "metadata": {
    "collapsed": false
   },
   "outputs": [
    {
     "data": {
      "text/html": [
       "<div>\n",
       "<table border=\"1\" class=\"dataframe\">\n",
       "  <thead>\n",
       "    <tr style=\"text-align: right;\">\n",
       "      <th></th>\n",
       "      <th>0</th>\n",
       "    </tr>\n",
       "  </thead>\n",
       "  <tbody>\n",
       "    <tr>\n",
       "      <th>CASE_ENQUIRY_ID</th>\n",
       "      <td>101000958209</td>\n",
       "    </tr>\n",
       "    <tr>\n",
       "      <th>OPEN_DT</th>\n",
       "      <td>2013-11-01 09:27:19</td>\n",
       "    </tr>\n",
       "    <tr>\n",
       "      <th>TARGET_DT</th>\n",
       "      <td>2013-11-15 09:27:19</td>\n",
       "    </tr>\n",
       "    <tr>\n",
       "      <th>CLOSED_DT</th>\n",
       "      <td>2013-11-27 10:15:45</td>\n",
       "    </tr>\n",
       "    <tr>\n",
       "      <th>CASE_TITLE</th>\n",
       "      <td>Sign Repair</td>\n",
       "    </tr>\n",
       "    <tr>\n",
       "      <th>SUBJECT</th>\n",
       "      <td>Transportation - Traffic Division</td>\n",
       "    </tr>\n",
       "    <tr>\n",
       "      <th>REASON</th>\n",
       "      <td>Signs &amp; Signals</td>\n",
       "    </tr>\n",
       "    <tr>\n",
       "      <th>TYPE</th>\n",
       "      <td>Sign Repair</td>\n",
       "    </tr>\n",
       "    <tr>\n",
       "      <th>Department</th>\n",
       "      <td>BTDT</td>\n",
       "    </tr>\n",
       "    <tr>\n",
       "      <th>SubmittedPhoto</th>\n",
       "      <td>False</td>\n",
       "    </tr>\n",
       "    <tr>\n",
       "      <th>neighborhood</th>\n",
       "      <td>Downtown / Financial District</td>\n",
       "    </tr>\n",
       "    <tr>\n",
       "      <th>LOCATION_STREET_NAME</th>\n",
       "      <td>INTERSECTION Devonshire St &amp; Summer St</td>\n",
       "    </tr>\n",
       "    <tr>\n",
       "      <th>LOCATION_ZIPCODE</th>\n",
       "      <td>NaN</td>\n",
       "    </tr>\n",
       "    <tr>\n",
       "      <th>Property_Type</th>\n",
       "      <td>Intersection</td>\n",
       "    </tr>\n",
       "    <tr>\n",
       "      <th>Property_ID</th>\n",
       "      <td>4053</td>\n",
       "    </tr>\n",
       "    <tr>\n",
       "      <th>LATITUDE</th>\n",
       "      <td>42.3537</td>\n",
       "    </tr>\n",
       "    <tr>\n",
       "      <th>LONGITUDE</th>\n",
       "      <td>-71.058</td>\n",
       "    </tr>\n",
       "    <tr>\n",
       "      <th>Source</th>\n",
       "      <td>Constituent Call</td>\n",
       "    </tr>\n",
       "    <tr>\n",
       "      <th>tract_and_block_group</th>\n",
       "      <td>0701018</td>\n",
       "    </tr>\n",
       "    <tr>\n",
       "      <th>race_white</th>\n",
       "      <td>0.77619</td>\n",
       "    </tr>\n",
       "    <tr>\n",
       "      <th>race_black</th>\n",
       "      <td>0.0904762</td>\n",
       "    </tr>\n",
       "    <tr>\n",
       "      <th>race_asian</th>\n",
       "      <td>0</td>\n",
       "    </tr>\n",
       "    <tr>\n",
       "      <th>race_hispanic</th>\n",
       "      <td>0.0666667</td>\n",
       "    </tr>\n",
       "    <tr>\n",
       "      <th>race_other</th>\n",
       "      <td>0.0666667</td>\n",
       "    </tr>\n",
       "    <tr>\n",
       "      <th>poverty_pop_below_poverty_level</th>\n",
       "      <td>0</td>\n",
       "    </tr>\n",
       "    <tr>\n",
       "      <th>poverty_pop_w_public_assistance</th>\n",
       "      <td>0</td>\n",
       "    </tr>\n",
       "    <tr>\n",
       "      <th>poverty_pop_w_food_stamps</th>\n",
       "      <td>0</td>\n",
       "    </tr>\n",
       "    <tr>\n",
       "      <th>poverty_pop_w_ssi</th>\n",
       "      <td>0</td>\n",
       "    </tr>\n",
       "    <tr>\n",
       "      <th>COMPLETION_TIME</th>\n",
       "      <td>624.807</td>\n",
       "    </tr>\n",
       "    <tr>\n",
       "      <th>school</th>\n",
       "      <td>20_bachelors</td>\n",
       "    </tr>\n",
       "    <tr>\n",
       "      <th>housing</th>\n",
       "      <td>rent</td>\n",
       "    </tr>\n",
       "    <tr>\n",
       "      <th>bedroom</th>\n",
       "      <td>2</td>\n",
       "    </tr>\n",
       "    <tr>\n",
       "      <th>value</th>\n",
       "      <td>875000</td>\n",
       "    </tr>\n",
       "    <tr>\n",
       "      <th>rent</th>\n",
       "      <td>2750</td>\n",
       "    </tr>\n",
       "    <tr>\n",
       "      <th>income</th>\n",
       "      <td>250000</td>\n",
       "    </tr>\n",
       "    <tr>\n",
       "      <th>is_issue_unresolved</th>\n",
       "      <td>False</td>\n",
       "    </tr>\n",
       "  </tbody>\n",
       "</table>\n",
       "</div>"
      ],
      "text/plain": [
       "                                                                      0\n",
       "CASE_ENQUIRY_ID                                            101000958209\n",
       "OPEN_DT                                             2013-11-01 09:27:19\n",
       "TARGET_DT                                           2013-11-15 09:27:19\n",
       "CLOSED_DT                                           2013-11-27 10:15:45\n",
       "CASE_TITLE                                                  Sign Repair\n",
       "SUBJECT                               Transportation - Traffic Division\n",
       "REASON                                                  Signs & Signals\n",
       "TYPE                                                        Sign Repair\n",
       "Department                                                         BTDT\n",
       "SubmittedPhoto                                                    False\n",
       "neighborhood                              Downtown / Financial District\n",
       "LOCATION_STREET_NAME             INTERSECTION Devonshire St & Summer St\n",
       "LOCATION_ZIPCODE                                                    NaN\n",
       "Property_Type                                              Intersection\n",
       "Property_ID                                                        4053\n",
       "LATITUDE                                                        42.3537\n",
       "LONGITUDE                                                       -71.058\n",
       "Source                                                 Constituent Call\n",
       "tract_and_block_group                                           0701018\n",
       "race_white                                                      0.77619\n",
       "race_black                                                    0.0904762\n",
       "race_asian                                                            0\n",
       "race_hispanic                                                 0.0666667\n",
       "race_other                                                    0.0666667\n",
       "poverty_pop_below_poverty_level                                       0\n",
       "poverty_pop_w_public_assistance                                       0\n",
       "poverty_pop_w_food_stamps                                             0\n",
       "poverty_pop_w_ssi                                                     0\n",
       "COMPLETION_TIME                                                 624.807\n",
       "school                                                     20_bachelors\n",
       "housing                                                            rent\n",
       "bedroom                                                               2\n",
       "value                                                            875000\n",
       "rent                                                               2750\n",
       "income                                                           250000\n",
       "is_issue_unresolved                                               False"
      ]
     },
     "execution_count": 5,
     "metadata": {},
     "output_type": "execute_result"
    }
   ],
   "source": [
    "df.head(1).T"
   ]
  },
  {
   "cell_type": "markdown",
   "metadata": {},
   "source": [
    "## Preprocessing"
   ]
  },
  {
   "cell_type": "code",
   "execution_count": null,
   "metadata": {
    "collapsed": false
   },
   "outputs": [],
   "source": [
    "df.TARGET_DT.head(100).isnull().sum()"
   ]
  },
  {
   "cell_type": "code",
   "execution_count": null,
   "metadata": {
    "collapsed": false
   },
   "outputs": [],
   "source": [
    "df.LOCATION_ZIPCODE.head(100).isnull().sum()"
   ]
  },
  {
   "cell_type": "code",
   "execution_count": 6,
   "metadata": {
    "collapsed": false
   },
   "outputs": [],
   "source": [
    "df['days_from_feb_2016'] = (datetime(year=2016, month=2, day=1) - df.OPEN_DT).map(lambda x: x.days)\n",
    "df['LOCATION_ZIPCODE'] = df['LOCATION_ZIPCODE'].astype('object').fillna('other')\n",
    "df['neighborhood'] = df['neighborhood'].fillna('other')\n",
    "df['is_snow_in_type'] = df.TYPE.map(lambda txt: 'snow' in txt.lower())\n",
    "# df['race_majority'] = df[[i for i in df.columns if 'race' in i]].idxmax(axis=1) # not useful bc will be dummified"
   ]
  },
  {
   "cell_type": "code",
   "execution_count": 7,
   "metadata": {
    "collapsed": false,
    "scrolled": true
   },
   "outputs": [],
   "source": [
    "df = df.drop(\n",
    "    ['OPEN_DT',\n",
    "     'TARGET_DT',\n",
    "     'CLOSED_DT',\n",
    "     'COMPLETION_TIME',\n",
    "     'Property_ID',\n",
    "     'LOCATION_STREET_NAME',\n",
    "     'CASE_TITLE',\n",
    "     'CASE_ENQUIRY_ID',\n",
    "     'SUBJECT',\n",
    "     'Department',\n",
    "     'tract_and_block_group'\n",
    "    ], \n",
    "    axis=1\n",
    ")"
   ]
  },
  {
   "cell_type": "code",
   "execution_count": 8,
   "metadata": {
    "collapsed": false
   },
   "outputs": [
    {
     "data": {
      "text/plain": [
       "(716310, 27)"
      ]
     },
     "execution_count": 8,
     "metadata": {},
     "output_type": "execute_result"
    }
   ],
   "source": [
    "df.shape"
   ]
  },
  {
   "cell_type": "raw",
   "metadata": {},
   "source": [
    "TODO: make my own zipcode and neighborhood mappings to Census block groups so I can input them into my model"
   ]
  },
  {
   "cell_type": "code",
   "execution_count": 7,
   "metadata": {
    "collapsed": false
   },
   "outputs": [
    {
     "data": {
      "text/html": [
       "<div>\n",
       "<table border=\"1\" class=\"dataframe\">\n",
       "  <thead>\n",
       "    <tr style=\"text-align: right;\">\n",
       "      <th></th>\n",
       "      <th>0</th>\n",
       "    </tr>\n",
       "  </thead>\n",
       "  <tbody>\n",
       "    <tr>\n",
       "      <th>REASON</th>\n",
       "      <td>Signs &amp; Signals</td>\n",
       "    </tr>\n",
       "    <tr>\n",
       "      <th>TYPE</th>\n",
       "      <td>Sign Repair</td>\n",
       "    </tr>\n",
       "    <tr>\n",
       "      <th>SubmittedPhoto</th>\n",
       "      <td>False</td>\n",
       "    </tr>\n",
       "    <tr>\n",
       "      <th>neighborhood</th>\n",
       "      <td>Downtown / Financial District</td>\n",
       "    </tr>\n",
       "    <tr>\n",
       "      <th>LOCATION_ZIPCODE</th>\n",
       "      <td>other</td>\n",
       "    </tr>\n",
       "    <tr>\n",
       "      <th>Property_Type</th>\n",
       "      <td>Intersection</td>\n",
       "    </tr>\n",
       "    <tr>\n",
       "      <th>LATITUDE</th>\n",
       "      <td>42.3537</td>\n",
       "    </tr>\n",
       "    <tr>\n",
       "      <th>LONGITUDE</th>\n",
       "      <td>-71.058</td>\n",
       "    </tr>\n",
       "    <tr>\n",
       "      <th>Source</th>\n",
       "      <td>Constituent Call</td>\n",
       "    </tr>\n",
       "    <tr>\n",
       "      <th>race_white</th>\n",
       "      <td>0.77619</td>\n",
       "    </tr>\n",
       "    <tr>\n",
       "      <th>race_black</th>\n",
       "      <td>0.0904762</td>\n",
       "    </tr>\n",
       "    <tr>\n",
       "      <th>race_asian</th>\n",
       "      <td>0</td>\n",
       "    </tr>\n",
       "    <tr>\n",
       "      <th>race_hispanic</th>\n",
       "      <td>0.0666667</td>\n",
       "    </tr>\n",
       "    <tr>\n",
       "      <th>race_other</th>\n",
       "      <td>0.0666667</td>\n",
       "    </tr>\n",
       "    <tr>\n",
       "      <th>poverty_pop_below_poverty_level</th>\n",
       "      <td>0</td>\n",
       "    </tr>\n",
       "    <tr>\n",
       "      <th>poverty_pop_w_public_assistance</th>\n",
       "      <td>0</td>\n",
       "    </tr>\n",
       "    <tr>\n",
       "      <th>poverty_pop_w_food_stamps</th>\n",
       "      <td>0</td>\n",
       "    </tr>\n",
       "    <tr>\n",
       "      <th>poverty_pop_w_ssi</th>\n",
       "      <td>0</td>\n",
       "    </tr>\n",
       "    <tr>\n",
       "      <th>school</th>\n",
       "      <td>20_bachelors</td>\n",
       "    </tr>\n",
       "    <tr>\n",
       "      <th>housing</th>\n",
       "      <td>rent</td>\n",
       "    </tr>\n",
       "    <tr>\n",
       "      <th>bedroom</th>\n",
       "      <td>2</td>\n",
       "    </tr>\n",
       "    <tr>\n",
       "      <th>value</th>\n",
       "      <td>875000</td>\n",
       "    </tr>\n",
       "    <tr>\n",
       "      <th>rent</th>\n",
       "      <td>2750</td>\n",
       "    </tr>\n",
       "    <tr>\n",
       "      <th>income</th>\n",
       "      <td>250000</td>\n",
       "    </tr>\n",
       "    <tr>\n",
       "      <th>is_issue_unresolved</th>\n",
       "      <td>False</td>\n",
       "    </tr>\n",
       "    <tr>\n",
       "      <th>days_from_feb_2016</th>\n",
       "      <td>821</td>\n",
       "    </tr>\n",
       "    <tr>\n",
       "      <th>is_snow_in_type</th>\n",
       "      <td>False</td>\n",
       "    </tr>\n",
       "  </tbody>\n",
       "</table>\n",
       "</div>"
      ],
      "text/plain": [
       "                                                             0\n",
       "REASON                                         Signs & Signals\n",
       "TYPE                                               Sign Repair\n",
       "SubmittedPhoto                                           False\n",
       "neighborhood                     Downtown / Financial District\n",
       "LOCATION_ZIPCODE                                         other\n",
       "Property_Type                                     Intersection\n",
       "LATITUDE                                               42.3537\n",
       "LONGITUDE                                              -71.058\n",
       "Source                                        Constituent Call\n",
       "race_white                                             0.77619\n",
       "race_black                                           0.0904762\n",
       "race_asian                                                   0\n",
       "race_hispanic                                        0.0666667\n",
       "race_other                                           0.0666667\n",
       "poverty_pop_below_poverty_level                              0\n",
       "poverty_pop_w_public_assistance                              0\n",
       "poverty_pop_w_food_stamps                                    0\n",
       "poverty_pop_w_ssi                                            0\n",
       "school                                            20_bachelors\n",
       "housing                                                   rent\n",
       "bedroom                                                      2\n",
       "value                                                   875000\n",
       "rent                                                      2750\n",
       "income                                                  250000\n",
       "is_issue_unresolved                                      False\n",
       "days_from_feb_2016                                         821\n",
       "is_snow_in_type                                          False"
      ]
     },
     "execution_count": 7,
     "metadata": {},
     "output_type": "execute_result"
    }
   ],
   "source": [
    "df.head(1).T"
   ]
  },
  {
   "cell_type": "markdown",
   "metadata": {},
   "source": [
    "### Dummifying bc sklearn's random forest implementation doesn't accept string values"
   ]
  },
  {
   "cell_type": "code",
   "execution_count": 9,
   "metadata": {
    "collapsed": true
   },
   "outputs": [],
   "source": [
    "def dummify(df, column):\n",
    "    # from Darren's linear regression slides\n",
    "    print '{} is your baseline'.format(sorted(df[column].unique())[-1])\n",
    "    dummy = pd.get_dummies(df[column]).rename(columns=lambda x: column+'_'+str(x)).iloc[:,0:len(df[column].unique())-1]\n",
    "    df = df.drop(column,axis=1) #Why not inplace? because if we do inplace, it will affect the df directly\n",
    "    return pd.concat([df,dummy],axis=1)"
   ]
  },
  {
   "cell_type": "code",
   "execution_count": 10,
   "metadata": {
    "collapsed": false
   },
   "outputs": [
    {
     "name": "stdout",
     "output_type": "stream",
     "text": [
      "Zoning is your baseline\n",
      "other is your baseline\n",
      "other is your baseline\n",
      "Intersection is your baseline\n",
      "Twitter is your baseline\n",
      "8_6th_grade is your baseline\n",
      "rent is your baseline\n"
     ]
    }
   ],
   "source": [
    "df1 = dummify(df, 'TYPE')\n",
    "df2 = dummify(df1, 'neighborhood')\n",
    "df3 = dummify(df2, 'LOCATION_ZIPCODE')\n",
    "df4 = dummify(df3, 'Property_Type')\n",
    "df5 = dummify(df4, 'Source')\n",
    "df6 = dummify(df5, 'school')\n",
    "df7 = dummify(df6, 'housing')\n",
    "df8 = dummify(df7, 'REASON')"
   ]
  },
  {
   "cell_type": "code",
   "execution_count": 22,
   "metadata": {
    "collapsed": false
   },
   "outputs": [
    {
     "data": {
      "text/plain": [
       "(716310, 356)"
      ]
     },
     "execution_count": 22,
     "metadata": {},
     "output_type": "execute_result"
    }
   ],
   "source": [
    "df8.shape"
   ]
  },
  {
   "cell_type": "code",
   "execution_count": 29,
   "metadata": {
    "collapsed": false
   },
   "outputs": [
    {
     "data": {
      "text/plain": [
       "REASON                                 0\n",
       "TYPE                                   0\n",
       "SubmittedPhoto                         0\n",
       "neighborhood                           0\n",
       "LOCATION_ZIPCODE                       0\n",
       "Property_Type                      23077\n",
       "LATITUDE                               0\n",
       "LONGITUDE                              0\n",
       "Source                                 0\n",
       "race_white                          2426\n",
       "race_black                          2426\n",
       "race_asian                          2426\n",
       "race_hispanic                       2426\n",
       "race_other                          2426\n",
       "poverty_pop_below_poverty_level     4213\n",
       "poverty_pop_w_public_assistance     4213\n",
       "poverty_pop_w_food_stamps           4213\n",
       "poverty_pop_w_ssi                   4213\n",
       "school                                 0\n",
       "housing                                0\n",
       "bedroom                                0\n",
       "value                                  0\n",
       "rent                                   0\n",
       "income                                 0\n",
       "is_issue_unresolved                    0\n",
       "days_from_feb_2016                     0\n",
       "is_snow_in_type                        0\n",
       "dtype: int64"
      ]
     },
     "execution_count": 29,
     "metadata": {},
     "output_type": "execute_result"
    }
   ],
   "source": [
    "df.isnull().sum()"
   ]
  },
  {
   "cell_type": "markdown",
   "metadata": {},
   "source": [
    "## OK, let's put it into the model!"
   ]
  },
  {
   "cell_type": "code",
   "execution_count": 16,
   "metadata": {
    "collapsed": false
   },
   "outputs": [],
   "source": [
    "from sklearn.cross_validation import train_test_split\n",
    "from sklearn.pipeline import make_pipeline\n",
    "from sklearn.model_selection import GridSearchCV\n",
    "from sklearn.ensemble import RandomForestClassifier\n",
    "from sklearn.metrics import confusion_matrix\n"
   ]
  },
  {
   "cell_type": "markdown",
   "metadata": {},
   "source": [
    "Let's split the data first between train and test, 80/20."
   ]
  },
  {
   "cell_type": "code",
   "execution_count": 13,
   "metadata": {
    "collapsed": true
   },
   "outputs": [],
   "source": [
    "X_train, X_test, y_train, y_test = train_test_split(\n",
    "    df7.drop('is_issue_unresolved', axis=1), \n",
    "    df7.is_issue_unresolved, \n",
    "    test_size=0.2, \n",
    "    random_state=300\n",
    ")"
   ]
  },
  {
   "cell_type": "code",
   "execution_count": 14,
   "metadata": {
    "collapsed": true
   },
   "outputs": [],
   "source": [
    "pipe = make_pipeline(\n",
    "    RandomForestClassifier(\n",
    "        bootstrap=True, \n",
    "        class_weight='balanced_subsample', \n",
    "        n_estimators=10\n",
    "    )\n",
    ")"
   ]
  },
  {
   "cell_type": "code",
   "execution_count": 19,
   "metadata": {
    "collapsed": true
   },
   "outputs": [
    {
     "name": "stdout",
     "output_type": "stream",
     "text": [
      "Fitting 3 folds for each of 1 candidates, totalling 3 fits\n"
     ]
    },
    {
     "ename": "JoblibValueError",
     "evalue": "JoblibValueError\n___________________________________________________________________________\nMultiprocessing exception:\n...........................................................................\n/home/ubuntu/anaconda2/lib/python2.7/runpy.py in _run_module_as_main(mod_name='ipykernel.__main__', alter_argv=1)\n    169     pkg_name = mod_name.rpartition('.')[0]\n    170     main_globals = sys.modules[\"__main__\"].__dict__\n    171     if alter_argv:\n    172         sys.argv[0] = fname\n    173     return _run_code(code, main_globals, None,\n--> 174                      \"__main__\", fname, loader, pkg_name)\n        fname = '/home/ubuntu/anaconda2/lib/python2.7/site-packages/ipykernel/__main__.py'\n        loader = <pkgutil.ImpLoader instance>\n        pkg_name = 'ipykernel'\n    175 \n    176 def run_module(mod_name, init_globals=None,\n    177                run_name=None, alter_sys=False):\n    178     \"\"\"Execute a module's code without importing it\n\n...........................................................................\n/home/ubuntu/anaconda2/lib/python2.7/runpy.py in _run_code(code=<code object <module> at 0x7f3d4b349830, file \"/...2.7/site-packages/ipykernel/__main__.py\", line 1>, run_globals={'__builtins__': <module '__builtin__' (built-in)>, '__doc__': None, '__file__': '/home/ubuntu/anaconda2/lib/python2.7/site-packages/ipykernel/__main__.py', '__loader__': <pkgutil.ImpLoader instance>, '__name__': '__main__', '__package__': 'ipykernel', 'app': <module 'ipykernel.kernelapp' from '/home/ubuntu...python2.7/site-packages/ipykernel/kernelapp.pyc'>}, init_globals=None, mod_name='__main__', mod_fname='/home/ubuntu/anaconda2/lib/python2.7/site-packages/ipykernel/__main__.py', mod_loader=<pkgutil.ImpLoader instance>, pkg_name='ipykernel')\n     67         run_globals.update(init_globals)\n     68     run_globals.update(__name__ = mod_name,\n     69                        __file__ = mod_fname,\n     70                        __loader__ = mod_loader,\n     71                        __package__ = pkg_name)\n---> 72     exec code in run_globals\n        code = <code object <module> at 0x7f3d4b349830, file \"/...2.7/site-packages/ipykernel/__main__.py\", line 1>\n        run_globals = {'__builtins__': <module '__builtin__' (built-in)>, '__doc__': None, '__file__': '/home/ubuntu/anaconda2/lib/python2.7/site-packages/ipykernel/__main__.py', '__loader__': <pkgutil.ImpLoader instance>, '__name__': '__main__', '__package__': 'ipykernel', 'app': <module 'ipykernel.kernelapp' from '/home/ubuntu...python2.7/site-packages/ipykernel/kernelapp.pyc'>}\n     73     return run_globals\n     74 \n     75 def _run_module_code(code, init_globals=None,\n     76                     mod_name=None, mod_fname=None,\n\n...........................................................................\n/home/ubuntu/anaconda2/lib/python2.7/site-packages/ipykernel/__main__.py in <module>()\n      1 \n      2 \n----> 3 \n      4 if __name__ == '__main__':\n      5     from ipykernel import kernelapp as app\n      6     app.launch_new_instance()\n      7 \n      8 \n      9 \n     10 \n\n...........................................................................\n/home/ubuntu/anaconda2/lib/python2.7/site-packages/traitlets/config/application.py in launch_instance(cls=<class 'ipykernel.kernelapp.IPKernelApp'>, argv=None, **kwargs={})\n    648 \n    649         If a global instance already exists, this reinitializes and starts it\n    650         \"\"\"\n    651         app = cls.instance(**kwargs)\n    652         app.initialize(argv)\n--> 653         app.start()\n        app.start = <bound method IPKernelApp.start of <ipykernel.kernelapp.IPKernelApp object>>\n    654 \n    655 #-----------------------------------------------------------------------------\n    656 # utility functions, for convenience\n    657 #-----------------------------------------------------------------------------\n\n...........................................................................\n/home/ubuntu/anaconda2/lib/python2.7/site-packages/ipykernel/kernelapp.py in start(self=<ipykernel.kernelapp.IPKernelApp object>)\n    469             return self.subapp.start()\n    470         if self.poller is not None:\n    471             self.poller.start()\n    472         self.kernel.start()\n    473         try:\n--> 474             ioloop.IOLoop.instance().start()\n    475         except KeyboardInterrupt:\n    476             pass\n    477 \n    478 launch_new_instance = IPKernelApp.launch_instance\n\n...........................................................................\n/home/ubuntu/anaconda2/lib/python2.7/site-packages/zmq/eventloop/ioloop.py in start(self=<zmq.eventloop.ioloop.ZMQIOLoop object>)\n    157             PollIOLoop.configure(ZMQIOLoop)\n    158         return PollIOLoop.current(*args, **kwargs)\n    159     \n    160     def start(self):\n    161         try:\n--> 162             super(ZMQIOLoop, self).start()\n        self.start = <bound method ZMQIOLoop.start of <zmq.eventloop.ioloop.ZMQIOLoop object>>\n    163         except ZMQError as e:\n    164             if e.errno == ETERM:\n    165                 # quietly return on ETERM\n    166                 pass\n\n...........................................................................\n/home/ubuntu/anaconda2/lib/python2.7/site-packages/tornado/ioloop.py in start(self=<zmq.eventloop.ioloop.ZMQIOLoop object>)\n    882                 self._events.update(event_pairs)\n    883                 while self._events:\n    884                     fd, events = self._events.popitem()\n    885                     try:\n    886                         fd_obj, handler_func = self._handlers[fd]\n--> 887                         handler_func(fd_obj, events)\n        handler_func = <function null_wrapper>\n        fd_obj = <zmq.sugar.socket.Socket object>\n        events = 1\n    888                     except (OSError, IOError) as e:\n    889                         if errno_from_exception(e) == errno.EPIPE:\n    890                             # Happens when the client closes the connection\n    891                             pass\n\n...........................................................................\n/home/ubuntu/anaconda2/lib/python2.7/site-packages/tornado/stack_context.py in null_wrapper(*args=(<zmq.sugar.socket.Socket object>, 1), **kwargs={})\n    270         # Fast path when there are no active contexts.\n    271         def null_wrapper(*args, **kwargs):\n    272             try:\n    273                 current_state = _state.contexts\n    274                 _state.contexts = cap_contexts[0]\n--> 275                 return fn(*args, **kwargs)\n        args = (<zmq.sugar.socket.Socket object>, 1)\n        kwargs = {}\n    276             finally:\n    277                 _state.contexts = current_state\n    278         null_wrapper._wrapped = True\n    279         return null_wrapper\n\n...........................................................................\n/home/ubuntu/anaconda2/lib/python2.7/site-packages/zmq/eventloop/zmqstream.py in _handle_events(self=<zmq.eventloop.zmqstream.ZMQStream object>, fd=<zmq.sugar.socket.Socket object>, events=1)\n    435             # dispatch events:\n    436             if events & IOLoop.ERROR:\n    437                 gen_log.error(\"got POLLERR event on ZMQStream, which doesn't make sense\")\n    438                 return\n    439             if events & IOLoop.READ:\n--> 440                 self._handle_recv()\n        self._handle_recv = <bound method ZMQStream._handle_recv of <zmq.eventloop.zmqstream.ZMQStream object>>\n    441                 if not self.socket:\n    442                     return\n    443             if events & IOLoop.WRITE:\n    444                 self._handle_send()\n\n...........................................................................\n/home/ubuntu/anaconda2/lib/python2.7/site-packages/zmq/eventloop/zmqstream.py in _handle_recv(self=<zmq.eventloop.zmqstream.ZMQStream object>)\n    467                 gen_log.error(\"RECV Error: %s\"%zmq.strerror(e.errno))\n    468         else:\n    469             if self._recv_callback:\n    470                 callback = self._recv_callback\n    471                 # self._recv_callback = None\n--> 472                 self._run_callback(callback, msg)\n        self._run_callback = <bound method ZMQStream._run_callback of <zmq.eventloop.zmqstream.ZMQStream object>>\n        callback = <function null_wrapper>\n        msg = [<zmq.sugar.frame.Frame object>, <zmq.sugar.frame.Frame object>, <zmq.sugar.frame.Frame object>, <zmq.sugar.frame.Frame object>, <zmq.sugar.frame.Frame object>, <zmq.sugar.frame.Frame object>, <zmq.sugar.frame.Frame object>]\n    473                 \n    474         # self.update_state()\n    475         \n    476 \n\n...........................................................................\n/home/ubuntu/anaconda2/lib/python2.7/site-packages/zmq/eventloop/zmqstream.py in _run_callback(self=<zmq.eventloop.zmqstream.ZMQStream object>, callback=<function null_wrapper>, *args=([<zmq.sugar.frame.Frame object>, <zmq.sugar.frame.Frame object>, <zmq.sugar.frame.Frame object>, <zmq.sugar.frame.Frame object>, <zmq.sugar.frame.Frame object>, <zmq.sugar.frame.Frame object>, <zmq.sugar.frame.Frame object>],), **kwargs={})\n    409         close our socket.\"\"\"\n    410         try:\n    411             # Use a NullContext to ensure that all StackContexts are run\n    412             # inside our blanket exception handler rather than outside.\n    413             with stack_context.NullContext():\n--> 414                 callback(*args, **kwargs)\n        callback = <function null_wrapper>\n        args = ([<zmq.sugar.frame.Frame object>, <zmq.sugar.frame.Frame object>, <zmq.sugar.frame.Frame object>, <zmq.sugar.frame.Frame object>, <zmq.sugar.frame.Frame object>, <zmq.sugar.frame.Frame object>, <zmq.sugar.frame.Frame object>],)\n        kwargs = {}\n    415         except:\n    416             gen_log.error(\"Uncaught exception, closing connection.\",\n    417                           exc_info=True)\n    418             # Close the socket on an uncaught exception from a user callback\n\n...........................................................................\n/home/ubuntu/anaconda2/lib/python2.7/site-packages/tornado/stack_context.py in null_wrapper(*args=([<zmq.sugar.frame.Frame object>, <zmq.sugar.frame.Frame object>, <zmq.sugar.frame.Frame object>, <zmq.sugar.frame.Frame object>, <zmq.sugar.frame.Frame object>, <zmq.sugar.frame.Frame object>, <zmq.sugar.frame.Frame object>],), **kwargs={})\n    270         # Fast path when there are no active contexts.\n    271         def null_wrapper(*args, **kwargs):\n    272             try:\n    273                 current_state = _state.contexts\n    274                 _state.contexts = cap_contexts[0]\n--> 275                 return fn(*args, **kwargs)\n        args = ([<zmq.sugar.frame.Frame object>, <zmq.sugar.frame.Frame object>, <zmq.sugar.frame.Frame object>, <zmq.sugar.frame.Frame object>, <zmq.sugar.frame.Frame object>, <zmq.sugar.frame.Frame object>, <zmq.sugar.frame.Frame object>],)\n        kwargs = {}\n    276             finally:\n    277                 _state.contexts = current_state\n    278         null_wrapper._wrapped = True\n    279         return null_wrapper\n\n...........................................................................\n/home/ubuntu/anaconda2/lib/python2.7/site-packages/ipykernel/kernelbase.py in dispatcher(msg=[<zmq.sugar.frame.Frame object>, <zmq.sugar.frame.Frame object>, <zmq.sugar.frame.Frame object>, <zmq.sugar.frame.Frame object>, <zmq.sugar.frame.Frame object>, <zmq.sugar.frame.Frame object>, <zmq.sugar.frame.Frame object>])\n    271         if self.control_stream:\n    272             self.control_stream.on_recv(self.dispatch_control, copy=False)\n    273 \n    274         def make_dispatcher(stream):\n    275             def dispatcher(msg):\n--> 276                 return self.dispatch_shell(stream, msg)\n        msg = [<zmq.sugar.frame.Frame object>, <zmq.sugar.frame.Frame object>, <zmq.sugar.frame.Frame object>, <zmq.sugar.frame.Frame object>, <zmq.sugar.frame.Frame object>, <zmq.sugar.frame.Frame object>, <zmq.sugar.frame.Frame object>]\n    277             return dispatcher\n    278 \n    279         for s in self.shell_streams:\n    280             s.on_recv(make_dispatcher(s), copy=False)\n\n...........................................................................\n/home/ubuntu/anaconda2/lib/python2.7/site-packages/ipykernel/kernelbase.py in dispatch_shell(self=<ipykernel.ipkernel.IPythonKernel object>, stream=<zmq.eventloop.zmqstream.ZMQStream object>, msg={'buffers': [], 'content': {u'allow_stdin': True, u'code': u\"params = {'randomforestclassifier__max_depth':...v=3, verbose=True)\\nmodel.fit(X_train, y_train);\", u'silent': False, u'stop_on_error': True, u'store_history': True, u'user_expressions': {}}, 'header': {'date': '2017-02-02T02:08:03.306232', u'msg_id': u'F9D0FAE3486E46A2BB7251C761ADB16E', u'msg_type': u'execute_request', u'session': u'D998459802C24B1F99E2DF7DDAD866B8', u'username': u'username', u'version': u'5.0'}, 'metadata': {}, 'msg_id': u'F9D0FAE3486E46A2BB7251C761ADB16E', 'msg_type': u'execute_request', 'parent_header': {}})\n    223             self.log.error(\"UNKNOWN MESSAGE TYPE: %r\", msg_type)\n    224         else:\n    225             self.log.debug(\"%s: %s\", msg_type, msg)\n    226             self.pre_handler_hook()\n    227             try:\n--> 228                 handler(stream, idents, msg)\n        handler = <bound method IPythonKernel.execute_request of <ipykernel.ipkernel.IPythonKernel object>>\n        stream = <zmq.eventloop.zmqstream.ZMQStream object>\n        idents = ['D998459802C24B1F99E2DF7DDAD866B8']\n        msg = {'buffers': [], 'content': {u'allow_stdin': True, u'code': u\"params = {'randomforestclassifier__max_depth':...v=3, verbose=True)\\nmodel.fit(X_train, y_train);\", u'silent': False, u'stop_on_error': True, u'store_history': True, u'user_expressions': {}}, 'header': {'date': '2017-02-02T02:08:03.306232', u'msg_id': u'F9D0FAE3486E46A2BB7251C761ADB16E', u'msg_type': u'execute_request', u'session': u'D998459802C24B1F99E2DF7DDAD866B8', u'username': u'username', u'version': u'5.0'}, 'metadata': {}, 'msg_id': u'F9D0FAE3486E46A2BB7251C761ADB16E', 'msg_type': u'execute_request', 'parent_header': {}}\n    229             except Exception:\n    230                 self.log.error(\"Exception in message handler:\", exc_info=True)\n    231             finally:\n    232                 self.post_handler_hook()\n\n...........................................................................\n/home/ubuntu/anaconda2/lib/python2.7/site-packages/ipykernel/kernelbase.py in execute_request(self=<ipykernel.ipkernel.IPythonKernel object>, stream=<zmq.eventloop.zmqstream.ZMQStream object>, ident=['D998459802C24B1F99E2DF7DDAD866B8'], parent={'buffers': [], 'content': {u'allow_stdin': True, u'code': u\"params = {'randomforestclassifier__max_depth':...v=3, verbose=True)\\nmodel.fit(X_train, y_train);\", u'silent': False, u'stop_on_error': True, u'store_history': True, u'user_expressions': {}}, 'header': {'date': '2017-02-02T02:08:03.306232', u'msg_id': u'F9D0FAE3486E46A2BB7251C761ADB16E', u'msg_type': u'execute_request', u'session': u'D998459802C24B1F99E2DF7DDAD866B8', u'username': u'username', u'version': u'5.0'}, 'metadata': {}, 'msg_id': u'F9D0FAE3486E46A2BB7251C761ADB16E', 'msg_type': u'execute_request', 'parent_header': {}})\n    385         if not silent:\n    386             self.execution_count += 1\n    387             self._publish_execute_input(code, parent, self.execution_count)\n    388 \n    389         reply_content = self.do_execute(code, silent, store_history,\n--> 390                                         user_expressions, allow_stdin)\n        user_expressions = {}\n        allow_stdin = True\n    391 \n    392         # Flush output before sending the reply.\n    393         sys.stdout.flush()\n    394         sys.stderr.flush()\n\n...........................................................................\n/home/ubuntu/anaconda2/lib/python2.7/site-packages/ipykernel/ipkernel.py in do_execute(self=<ipykernel.ipkernel.IPythonKernel object>, code=u\"params = {'randomforestclassifier__max_depth':...v=3, verbose=True)\\nmodel.fit(X_train, y_train);\", silent=False, store_history=True, user_expressions={}, allow_stdin=True)\n    191 \n    192         self._forward_input(allow_stdin)\n    193 \n    194         reply_content = {}\n    195         try:\n--> 196             res = shell.run_cell(code, store_history=store_history, silent=silent)\n        res = undefined\n        shell.run_cell = <bound method ZMQInteractiveShell.run_cell of <ipykernel.zmqshell.ZMQInteractiveShell object>>\n        code = u\"params = {'randomforestclassifier__max_depth':...v=3, verbose=True)\\nmodel.fit(X_train, y_train);\"\n        store_history = True\n        silent = False\n    197         finally:\n    198             self._restore_input()\n    199 \n    200         if res.error_before_exec is not None:\n\n...........................................................................\n/home/ubuntu/anaconda2/lib/python2.7/site-packages/ipykernel/zmqshell.py in run_cell(self=<ipykernel.zmqshell.ZMQInteractiveShell object>, *args=(u\"params = {'randomforestclassifier__max_depth':...v=3, verbose=True)\\nmodel.fit(X_train, y_train);\",), **kwargs={'silent': False, 'store_history': True})\n    496             )\n    497         self.payload_manager.write_payload(payload)\n    498 \n    499     def run_cell(self, *args, **kwargs):\n    500         self._last_traceback = None\n--> 501         return super(ZMQInteractiveShell, self).run_cell(*args, **kwargs)\n        self.run_cell = <bound method ZMQInteractiveShell.run_cell of <ipykernel.zmqshell.ZMQInteractiveShell object>>\n        args = (u\"params = {'randomforestclassifier__max_depth':...v=3, verbose=True)\\nmodel.fit(X_train, y_train);\",)\n        kwargs = {'silent': False, 'store_history': True}\n    502 \n    503     def _showtraceback(self, etype, evalue, stb):\n    504         # try to preserve ordering of tracebacks and print statements\n    505         sys.stdout.flush()\n\n...........................................................................\n/home/ubuntu/anaconda2/lib/python2.7/site-packages/IPython/core/interactiveshell.py in run_cell(self=<ipykernel.zmqshell.ZMQInteractiveShell object>, raw_cell=u\"params = {'randomforestclassifier__max_depth':...v=3, verbose=True)\\nmodel.fit(X_train, y_train);\", store_history=True, silent=False, shell_futures=True)\n   2712                 self.displayhook.exec_result = result\n   2713 \n   2714                 # Execute the user code\n   2715                 interactivity = \"none\" if silent else self.ast_node_interactivity\n   2716                 has_raised = self.run_ast_nodes(code_ast.body, cell_name,\n-> 2717                    interactivity=interactivity, compiler=compiler, result=result)\n        interactivity = 'last_expr'\n        compiler = <IPython.core.compilerop.CachingCompiler instance>\n   2718                 \n   2719                 self.last_execution_succeeded = not has_raised\n   2720 \n   2721                 # Reset this so later displayed values do not modify the\n\n...........................................................................\n/home/ubuntu/anaconda2/lib/python2.7/site-packages/IPython/core/interactiveshell.py in run_ast_nodes(self=<ipykernel.zmqshell.ZMQInteractiveShell object>, nodelist=[<_ast.Assign object>, <_ast.Assign object>, <_ast.Assign object>, <_ast.Expr object>], cell_name='<ipython-input-19-01dc5a8c4f29>', interactivity='last', compiler=<IPython.core.compilerop.CachingCompiler instance>, result=<ExecutionResult object at 7f3d0b955990, executi..._before_exec=None error_in_exec=None result=None>)\n   2822                     return True\n   2823 \n   2824             for i, node in enumerate(to_run_interactive):\n   2825                 mod = ast.Interactive([node])\n   2826                 code = compiler(mod, cell_name, \"single\")\n-> 2827                 if self.run_code(code, result):\n        self.run_code = <bound method ZMQInteractiveShell.run_code of <ipykernel.zmqshell.ZMQInteractiveShell object>>\n        code = <code object <module> at 0x7f3d0d59a0b0, file \"<ipython-input-19-01dc5a8c4f29>\", line 10>\n        result = <ExecutionResult object at 7f3d0b955990, executi..._before_exec=None error_in_exec=None result=None>\n   2828                     return True\n   2829 \n   2830             # Flush softspace\n   2831             if softspace(sys.stdout, 0):\n\n...........................................................................\n/home/ubuntu/anaconda2/lib/python2.7/site-packages/IPython/core/interactiveshell.py in run_code(self=<ipykernel.zmqshell.ZMQInteractiveShell object>, code_obj=<code object <module> at 0x7f3d0d59a0b0, file \"<ipython-input-19-01dc5a8c4f29>\", line 10>, result=<ExecutionResult object at 7f3d0b955990, executi..._before_exec=None error_in_exec=None result=None>)\n   2876         outflag = 1  # happens in more places, so it's easier as default\n   2877         try:\n   2878             try:\n   2879                 self.hooks.pre_run_code_hook()\n   2880                 #rprint('Running code', repr(code_obj)) # dbg\n-> 2881                 exec(code_obj, self.user_global_ns, self.user_ns)\n        code_obj = <code object <module> at 0x7f3d0d59a0b0, file \"<ipython-input-19-01dc5a8c4f29>\", line 10>\n        self.user_global_ns = {'GridSearchCV': <class 'sklearn.model_selection._search.GridSearchCV'>, 'In': ['', u'from __future__ import division\\nimport pandas as pd\\nfrom datetime import timedelta, datetime', u'import warnings\\nimport seaborn as sns\\n\\nwarn...5\\n\\nget_ipython().magic(u\\'matplotlib inline\\')', u'df.head(1).T', u\"df = pd.read_pickle('../data/data_w_transforme...nd_removed_invalid_rows_and_cols.pkl')\\ndf.shape\", u'df.head(1).T', u\"df['days_from_feb_2016'] = (datetime(year=2016...idxmax(axis=1) # not useful bc will be dummified\", u\"df = df.drop(\\n    ['OPEN_DT',\\n     'TARGET_D... 'tract_and_block_group'\\n    ], \\n    axis=1\\n)\", u'df.shape', u\"def dummify(df, column):\\n    # from Darren's ...irectly\\n    return pd.concat([df,dummy],axis=1)\", u\"df1 = dummify(df, 'TYPE')\\ndf2 = dummify(df1, ...fy(df5, 'school')\\ndf7 = dummify(df6, 'housing')\", u'df7.shape', u'from sklearn.cross_validation import train_tes...m sklearn.ensemble import RandomForestClassifier', u\"X_train, X_test, y_train, y_test = train_test_..., \\n    test_size=0.2, \\n    random_state=300\\n)\", u\"pipe = make_pipeline(\\n    RandomForestClassif..._subsample', \\n        n_estimators=10\\n    )\\n)\", u\"params = {'randomforestclassifier__max_depth':...v=5, verbose=True)\\nmodel.fit(X_train, y_train);\", u'from sklearn.cross_validation import train_tes...er\\nfrom sklearn.metrics import confusion_matrix', u'import warnings\\nimport seaborn as sns\\n\\nwarn...t\\n\\nget_ipython().magic(u\\'matplotlib inline\\')', u'X_train.shape', u\"params = {'randomforestclassifier__max_depth':...v=3, verbose=True)\\nmodel.fit(X_train, y_train);\"], 'Out': {4: (716310, 36), 5:                                                 ...                                            False, 8: (716310, 27), 11: (716310, 302), 18: (573048, 301)}, 'RandomForestClassifier': <class 'sklearn.ensemble.forest.RandomForestClassifier'>, 'X_test':                                   REASON Submitt...  0.0          0.0  \n\n[143262 rows x 301 columns], 'X_train':                                    REASON Submit...  0.0          0.0  \n\n[573048 rows x 301 columns], '_': (573048, 301), '_11': (716310, 302), '_18': (573048, 301), '_4': (716310, 36), ...}\n        self.user_ns = {'GridSearchCV': <class 'sklearn.model_selection._search.GridSearchCV'>, 'In': ['', u'from __future__ import division\\nimport pandas as pd\\nfrom datetime import timedelta, datetime', u'import warnings\\nimport seaborn as sns\\n\\nwarn...5\\n\\nget_ipython().magic(u\\'matplotlib inline\\')', u'df.head(1).T', u\"df = pd.read_pickle('../data/data_w_transforme...nd_removed_invalid_rows_and_cols.pkl')\\ndf.shape\", u'df.head(1).T', u\"df['days_from_feb_2016'] = (datetime(year=2016...idxmax(axis=1) # not useful bc will be dummified\", u\"df = df.drop(\\n    ['OPEN_DT',\\n     'TARGET_D... 'tract_and_block_group'\\n    ], \\n    axis=1\\n)\", u'df.shape', u\"def dummify(df, column):\\n    # from Darren's ...irectly\\n    return pd.concat([df,dummy],axis=1)\", u\"df1 = dummify(df, 'TYPE')\\ndf2 = dummify(df1, ...fy(df5, 'school')\\ndf7 = dummify(df6, 'housing')\", u'df7.shape', u'from sklearn.cross_validation import train_tes...m sklearn.ensemble import RandomForestClassifier', u\"X_train, X_test, y_train, y_test = train_test_..., \\n    test_size=0.2, \\n    random_state=300\\n)\", u\"pipe = make_pipeline(\\n    RandomForestClassif..._subsample', \\n        n_estimators=10\\n    )\\n)\", u\"params = {'randomforestclassifier__max_depth':...v=5, verbose=True)\\nmodel.fit(X_train, y_train);\", u'from sklearn.cross_validation import train_tes...er\\nfrom sklearn.metrics import confusion_matrix', u'import warnings\\nimport seaborn as sns\\n\\nwarn...t\\n\\nget_ipython().magic(u\\'matplotlib inline\\')', u'X_train.shape', u\"params = {'randomforestclassifier__max_depth':...v=3, verbose=True)\\nmodel.fit(X_train, y_train);\"], 'Out': {4: (716310, 36), 5:                                                 ...                                            False, 8: (716310, 27), 11: (716310, 302), 18: (573048, 301)}, 'RandomForestClassifier': <class 'sklearn.ensemble.forest.RandomForestClassifier'>, 'X_test':                                   REASON Submitt...  0.0          0.0  \n\n[143262 rows x 301 columns], 'X_train':                                    REASON Submit...  0.0          0.0  \n\n[573048 rows x 301 columns], '_': (573048, 301), '_11': (716310, 302), '_18': (573048, 301), '_4': (716310, 36), ...}\n   2882             finally:\n   2883                 # Reset our crash handler in place\n   2884                 sys.excepthook = old_excepthook\n   2885         except SystemExit as e:\n\n...........................................................................\n/home/ubuntu/311-prediction-times/03 modeling/<ipython-input-19-01dc5a8c4f29> in <module>()\n      5 params = {'randomforestclassifier__max_depth': [10],\n      6       'randomforestclassifier__min_samples_leaf': [1001], # odd for bin class, to avoid ties, 1% of num_rows for max bound\n      7 } # Brad said hyperparams don't matter _that_ much for RF\n      8 \n      9 model = GridSearchCV(pipe, param_grid=params, n_jobs=-1, cv=3, verbose=True)\n---> 10 model.fit(X_train, y_train);\n     11 \n     12 \n     13 \n     14 \n\n...........................................................................\n/home/ubuntu/anaconda2/lib/python2.7/site-packages/sklearn/model_selection/_search.py in fit(self=GridSearchCV(cv=3, error_score='raise',\n       e...in_score=True,\n       scoring=None, verbose=True), X=                                   REASON Submit...  0.0          0.0  \n\n[573048 rows x 301 columns], y=592998    False\n359981    False\n464981    False\n...7    False\nName: is_issue_unresolved, dtype: bool, groups=None)\n    940 \n    941         groups : array-like, with shape (n_samples,), optional\n    942             Group labels for the samples used while splitting the dataset into\n    943             train/test set.\n    944         \"\"\"\n--> 945         return self._fit(X, y, groups, ParameterGrid(self.param_grid))\n        self._fit = <bound method GridSearchCV._fit of GridSearchCV(...n_score=True,\n       scoring=None, verbose=True)>\n        X =                                    REASON Submit...  0.0          0.0  \n\n[573048 rows x 301 columns]\n        y = 592998    False\n359981    False\n464981    False\n...7    False\nName: is_issue_unresolved, dtype: bool\n        groups = None\n        self.param_grid = {'randomforestclassifier__max_depth': [10], 'randomforestclassifier__min_samples_leaf': [1001]}\n    946 \n    947 \n    948 class RandomizedSearchCV(BaseSearchCV):\n    949     \"\"\"Randomized search on hyper parameters.\n\n...........................................................................\n/home/ubuntu/anaconda2/lib/python2.7/site-packages/sklearn/model_selection/_search.py in _fit(self=GridSearchCV(cv=3, error_score='raise',\n       e...in_score=True,\n       scoring=None, verbose=True), X=                                   REASON Submit...  0.0          0.0  \n\n[573048 rows x 301 columns], y=592998    False\n359981    False\n464981    False\n...7    False\nName: is_issue_unresolved, dtype: bool, groups=None, parameter_iterable=<sklearn.model_selection._search.ParameterGrid object>)\n    559                                   fit_params=self.fit_params,\n    560                                   return_train_score=self.return_train_score,\n    561                                   return_n_test_samples=True,\n    562                                   return_times=True, return_parameters=True,\n    563                                   error_score=self.error_score)\n--> 564           for parameters in parameter_iterable\n        parameters = undefined\n        parameter_iterable = <sklearn.model_selection._search.ParameterGrid object>\n    565           for train, test in cv_iter)\n    566 \n    567         # if one choose to see train score, \"out\" will contain train score info\n    568         if self.return_train_score:\n\n...........................................................................\n/home/ubuntu/anaconda2/lib/python2.7/site-packages/sklearn/externals/joblib/parallel.py in __call__(self=Parallel(n_jobs=-1), iterable=<generator object <genexpr>>)\n    763             if pre_dispatch == \"all\" or n_jobs == 1:\n    764                 # The iterable was consumed all at once by the above for loop.\n    765                 # No need to wait for async callbacks to trigger to\n    766                 # consumption.\n    767                 self._iterating = False\n--> 768             self.retrieve()\n        self.retrieve = <bound method Parallel.retrieve of Parallel(n_jobs=-1)>\n    769             # Make sure that we get a last message telling us we are done\n    770             elapsed_time = time.time() - self._start_time\n    771             self._print('Done %3i out of %3i | elapsed: %s finished',\n    772                         (len(self._output), len(self._output),\n\n---------------------------------------------------------------------------\nSub-process traceback:\n---------------------------------------------------------------------------\nValueError                                         Thu Feb  2 02:08:52 2017\nPID: 1582                  Python 2.7.12: /home/ubuntu/anaconda2/bin/python\n...........................................................................\n/home/ubuntu/anaconda2/lib/python2.7/site-packages/sklearn/externals/joblib/parallel.py in __call__(self=<sklearn.externals.joblib.parallel.BatchedCalls object>)\n    126     def __init__(self, iterator_slice):\n    127         self.items = list(iterator_slice)\n    128         self._size = len(self.items)\n    129 \n    130     def __call__(self):\n--> 131         return [func(*args, **kwargs) for func, args, kwargs in self.items]\n        func = <function _fit_and_score>\n        args = (Pipeline(steps=[('randomforestclassifier', Rando...None, verbose=0,\n            warm_start=False))]),                                    REASON Submit...  0.0          0.0  \n\n[573048 rows x 301 columns], 592998    False\n359981    False\n464981    False\n...7    False\nName: is_issue_unresolved, dtype: bool, <function _passthrough_scorer>, memmap([191016, 191017, 191018, ..., 573045, 573046, 573047]), memmap([     0,      1,      2, ..., 191013, 191014, 191015]), True, {'randomforestclassifier__max_depth': 10, 'randomforestclassifier__min_samples_leaf': 1001})\n        kwargs = {'error_score': 'raise', 'fit_params': {}, 'return_n_test_samples': True, 'return_parameters': True, 'return_times': True, 'return_train_score': True}\n        self.items = [(<function _fit_and_score>, (Pipeline(steps=[('randomforestclassifier', Rando...None, verbose=0,\n            warm_start=False))]),                                    REASON Submit...  0.0          0.0  \n\n[573048 rows x 301 columns], 592998    False\n359981    False\n464981    False\n...7    False\nName: is_issue_unresolved, dtype: bool, <function _passthrough_scorer>, memmap([191016, 191017, 191018, ..., 573045, 573046, 573047]), memmap([     0,      1,      2, ..., 191013, 191014, 191015]), True, {'randomforestclassifier__max_depth': 10, 'randomforestclassifier__min_samples_leaf': 1001}), {'error_score': 'raise', 'fit_params': {}, 'return_n_test_samples': True, 'return_parameters': True, 'return_times': True, 'return_train_score': True})]\n    132 \n    133     def __len__(self):\n    134         return self._size\n    135 \n\n...........................................................................\n/home/ubuntu/anaconda2/lib/python2.7/site-packages/sklearn/model_selection/_validation.py in _fit_and_score(estimator=Pipeline(steps=[('randomforestclassifier', Rando...None, verbose=0,\n            warm_start=False))]), X=                                   REASON Submit...  0.0          0.0  \n\n[573048 rows x 301 columns], y=592998    False\n359981    False\n464981    False\n...7    False\nName: is_issue_unresolved, dtype: bool, scorer=<function _passthrough_scorer>, train=memmap([191016, 191017, 191018, ..., 573045, 573046, 573047]), test=memmap([     0,      1,      2, ..., 191013, 191014, 191015]), verbose=True, parameters={'randomforestclassifier__max_depth': 10, 'randomforestclassifier__min_samples_leaf': 1001}, fit_params={}, return_train_score=True, return_parameters=True, return_n_test_samples=True, return_times=True, error_score='raise')\n    233 \n    234     try:\n    235         if y_train is None:\n    236             estimator.fit(X_train, **fit_params)\n    237         else:\n--> 238             estimator.fit(X_train, y_train, **fit_params)\n        estimator.fit = <bound method Pipeline.fit of Pipeline(steps=[('...one, verbose=0,\n            warm_start=False))])>\n        X_train =                                    REASON Submit...  0.0          0.0  \n\n[382032 rows x 301 columns]\n        y_train = 355307    False\n274437    False\n210953    False\n...7    False\nName: is_issue_unresolved, dtype: bool\n        fit_params = {}\n    239 \n    240     except Exception as e:\n    241         # Note fit time as time until error\n    242         fit_time = time.time() - start_time\n\n...........................................................................\n/home/ubuntu/anaconda2/lib/python2.7/site-packages/sklearn/pipeline.py in fit(self=Pipeline(steps=[('randomforestclassifier', Rando...None, verbose=0,\n            warm_start=False))]), X=                                   REASON Submit...  0.0          0.0  \n\n[382032 rows x 301 columns], y=355307    False\n274437    False\n210953    False\n...7    False\nName: is_issue_unresolved, dtype: bool, **fit_params={})\n    265         self : Pipeline\n    266             This estimator\n    267         \"\"\"\n    268         Xt, fit_params = self._fit(X, y, **fit_params)\n    269         if self._final_estimator is not None:\n--> 270             self._final_estimator.fit(Xt, y, **fit_params)\n        self._final_estimator.fit = <bound method RandomForestClassifier.fit of Rand...e=None, verbose=0,\n            warm_start=False)>\n        Xt =                                    REASON Submit...  0.0          0.0  \n\n[382032 rows x 301 columns]\n        y = 355307    False\n274437    False\n210953    False\n...7    False\nName: is_issue_unresolved, dtype: bool\n        fit_params = {}\n    271         return self\n    272 \n    273     def fit_transform(self, X, y=None, **fit_params):\n    274         \"\"\"Fit the model and transform with the final estimator\n\n...........................................................................\n/home/ubuntu/anaconda2/lib/python2.7/site-packages/sklearn/ensemble/forest.py in fit(self=RandomForestClassifier(bootstrap=True, class_wei...te=None, verbose=0,\n            warm_start=False), X=                                   REASON Submit...  0.0          0.0  \n\n[382032 rows x 301 columns], y=355307    False\n274437    False\n210953    False\n...7    False\nName: is_issue_unresolved, dtype: bool, sample_weight=None)\n    242         -------\n    243         self : object\n    244             Returns self.\n    245         \"\"\"\n    246         # Validate or convert input data\n--> 247         X = check_array(X, accept_sparse=\"csc\", dtype=DTYPE)\n        X =                                    REASON Submit...  0.0          0.0  \n\n[382032 rows x 301 columns]\n    248         y = check_array(y, accept_sparse='csc', ensure_2d=False, dtype=None)\n    249         if issparse(X):\n    250             # Pre-sort indices to avoid that each individual tree of the\n    251             # ensemble sorts the indices.\n\n...........................................................................\n/home/ubuntu/anaconda2/lib/python2.7/site-packages/sklearn/utils/validation.py in check_array(array=                                   REASON Submit...  0.0          0.0  \n\n[382032 rows x 301 columns], accept_sparse=['csc'], dtype=<type 'numpy.float32'>, order=None, copy=False, force_all_finite=True, ensure_2d=True, allow_nd=False, ensure_min_samples=1, ensure_min_features=1, warn_on_dtype=False, estimator=None)\n    377 \n    378     if sp.issparse(array):\n    379         array = _ensure_sparse_format(array, accept_sparse, dtype, copy,\n    380                                       force_all_finite)\n    381     else:\n--> 382         array = np.array(array, dtype=dtype, order=order, copy=copy)\n        array =                                    REASON Submit...  0.0          0.0  \n\n[382032 rows x 301 columns]\n        dtype = <type 'numpy.float32'>\n        order = None\n        copy = False\n    383 \n    384         if ensure_2d:\n    385             if array.ndim == 1:\n    386                 if ensure_min_samples >= 2:\n\nValueError: could not convert string to float: Highway Maintenance\n___________________________________________________________________________",
     "output_type": "error",
     "traceback": [
      "\u001b[0;31m---------------------------------------------------------------------------\u001b[0m",
      "\u001b[0;31mJoblibValueError\u001b[0m                          Traceback (most recent call last)",
      "\u001b[0;32m<ipython-input-19-01dc5a8c4f29>\u001b[0m in \u001b[0;36m<module>\u001b[0;34m()\u001b[0m\n\u001b[1;32m      8\u001b[0m \u001b[0;34m\u001b[0m\u001b[0m\n\u001b[1;32m      9\u001b[0m \u001b[0mmodel\u001b[0m \u001b[0;34m=\u001b[0m \u001b[0mGridSearchCV\u001b[0m\u001b[0;34m(\u001b[0m\u001b[0mpipe\u001b[0m\u001b[0;34m,\u001b[0m \u001b[0mparam_grid\u001b[0m\u001b[0;34m=\u001b[0m\u001b[0mparams\u001b[0m\u001b[0;34m,\u001b[0m \u001b[0mn_jobs\u001b[0m\u001b[0;34m=\u001b[0m\u001b[0;34m-\u001b[0m\u001b[0;36m1\u001b[0m\u001b[0;34m,\u001b[0m \u001b[0mcv\u001b[0m\u001b[0;34m=\u001b[0m\u001b[0;36m3\u001b[0m\u001b[0;34m,\u001b[0m \u001b[0mverbose\u001b[0m\u001b[0;34m=\u001b[0m\u001b[0mTrue\u001b[0m\u001b[0;34m)\u001b[0m\u001b[0;34m\u001b[0m\u001b[0m\n\u001b[0;32m---> 10\u001b[0;31m \u001b[0mmodel\u001b[0m\u001b[0;34m.\u001b[0m\u001b[0mfit\u001b[0m\u001b[0;34m(\u001b[0m\u001b[0mX_train\u001b[0m\u001b[0;34m,\u001b[0m \u001b[0my_train\u001b[0m\u001b[0;34m)\u001b[0m\u001b[0;34m;\u001b[0m\u001b[0;34m\u001b[0m\u001b[0m\n\u001b[0m",
      "\u001b[0;32m/home/ubuntu/anaconda2/lib/python2.7/site-packages/sklearn/model_selection/_search.pyc\u001b[0m in \u001b[0;36mfit\u001b[0;34m(self, X, y, groups)\u001b[0m\n\u001b[1;32m    943\u001b[0m             \u001b[0mtrain\u001b[0m\u001b[0;34m/\u001b[0m\u001b[0mtest\u001b[0m \u001b[0mset\u001b[0m\u001b[0;34m.\u001b[0m\u001b[0;34m\u001b[0m\u001b[0m\n\u001b[1;32m    944\u001b[0m         \"\"\"\n\u001b[0;32m--> 945\u001b[0;31m         \u001b[0;32mreturn\u001b[0m \u001b[0mself\u001b[0m\u001b[0;34m.\u001b[0m\u001b[0m_fit\u001b[0m\u001b[0;34m(\u001b[0m\u001b[0mX\u001b[0m\u001b[0;34m,\u001b[0m \u001b[0my\u001b[0m\u001b[0;34m,\u001b[0m \u001b[0mgroups\u001b[0m\u001b[0;34m,\u001b[0m \u001b[0mParameterGrid\u001b[0m\u001b[0;34m(\u001b[0m\u001b[0mself\u001b[0m\u001b[0;34m.\u001b[0m\u001b[0mparam_grid\u001b[0m\u001b[0;34m)\u001b[0m\u001b[0;34m)\u001b[0m\u001b[0;34m\u001b[0m\u001b[0m\n\u001b[0m\u001b[1;32m    946\u001b[0m \u001b[0;34m\u001b[0m\u001b[0m\n\u001b[1;32m    947\u001b[0m \u001b[0;34m\u001b[0m\u001b[0m\n",
      "\u001b[0;32m/home/ubuntu/anaconda2/lib/python2.7/site-packages/sklearn/model_selection/_search.pyc\u001b[0m in \u001b[0;36m_fit\u001b[0;34m(self, X, y, groups, parameter_iterable)\u001b[0m\n\u001b[1;32m    562\u001b[0m                                   \u001b[0mreturn_times\u001b[0m\u001b[0;34m=\u001b[0m\u001b[0mTrue\u001b[0m\u001b[0;34m,\u001b[0m \u001b[0mreturn_parameters\u001b[0m\u001b[0;34m=\u001b[0m\u001b[0mTrue\u001b[0m\u001b[0;34m,\u001b[0m\u001b[0;34m\u001b[0m\u001b[0m\n\u001b[1;32m    563\u001b[0m                                   error_score=self.error_score)\n\u001b[0;32m--> 564\u001b[0;31m           \u001b[0;32mfor\u001b[0m \u001b[0mparameters\u001b[0m \u001b[0;32min\u001b[0m \u001b[0mparameter_iterable\u001b[0m\u001b[0;34m\u001b[0m\u001b[0m\n\u001b[0m\u001b[1;32m    565\u001b[0m           for train, test in cv_iter)\n\u001b[1;32m    566\u001b[0m \u001b[0;34m\u001b[0m\u001b[0m\n",
      "\u001b[0;32m/home/ubuntu/anaconda2/lib/python2.7/site-packages/sklearn/externals/joblib/parallel.pyc\u001b[0m in \u001b[0;36m__call__\u001b[0;34m(self, iterable)\u001b[0m\n\u001b[1;32m    766\u001b[0m                 \u001b[0;31m# consumption.\u001b[0m\u001b[0;34m\u001b[0m\u001b[0;34m\u001b[0m\u001b[0m\n\u001b[1;32m    767\u001b[0m                 \u001b[0mself\u001b[0m\u001b[0;34m.\u001b[0m\u001b[0m_iterating\u001b[0m \u001b[0;34m=\u001b[0m \u001b[0mFalse\u001b[0m\u001b[0;34m\u001b[0m\u001b[0m\n\u001b[0;32m--> 768\u001b[0;31m             \u001b[0mself\u001b[0m\u001b[0;34m.\u001b[0m\u001b[0mretrieve\u001b[0m\u001b[0;34m(\u001b[0m\u001b[0;34m)\u001b[0m\u001b[0;34m\u001b[0m\u001b[0m\n\u001b[0m\u001b[1;32m    769\u001b[0m             \u001b[0;31m# Make sure that we get a last message telling us we are done\u001b[0m\u001b[0;34m\u001b[0m\u001b[0;34m\u001b[0m\u001b[0m\n\u001b[1;32m    770\u001b[0m             \u001b[0melapsed_time\u001b[0m \u001b[0;34m=\u001b[0m \u001b[0mtime\u001b[0m\u001b[0;34m.\u001b[0m\u001b[0mtime\u001b[0m\u001b[0;34m(\u001b[0m\u001b[0;34m)\u001b[0m \u001b[0;34m-\u001b[0m \u001b[0mself\u001b[0m\u001b[0;34m.\u001b[0m\u001b[0m_start_time\u001b[0m\u001b[0;34m\u001b[0m\u001b[0m\n",
      "\u001b[0;32m/home/ubuntu/anaconda2/lib/python2.7/site-packages/sklearn/externals/joblib/parallel.pyc\u001b[0m in \u001b[0;36mretrieve\u001b[0;34m(self)\u001b[0m\n\u001b[1;32m    717\u001b[0m                     \u001b[0mensure_ready\u001b[0m \u001b[0;34m=\u001b[0m \u001b[0mself\u001b[0m\u001b[0;34m.\u001b[0m\u001b[0m_managed_backend\u001b[0m\u001b[0;34m\u001b[0m\u001b[0m\n\u001b[1;32m    718\u001b[0m                     \u001b[0mbackend\u001b[0m\u001b[0;34m.\u001b[0m\u001b[0mabort_everything\u001b[0m\u001b[0;34m(\u001b[0m\u001b[0mensure_ready\u001b[0m\u001b[0;34m=\u001b[0m\u001b[0mensure_ready\u001b[0m\u001b[0;34m)\u001b[0m\u001b[0;34m\u001b[0m\u001b[0m\n\u001b[0;32m--> 719\u001b[0;31m                 \u001b[0;32mraise\u001b[0m \u001b[0mexception\u001b[0m\u001b[0;34m\u001b[0m\u001b[0m\n\u001b[0m\u001b[1;32m    720\u001b[0m \u001b[0;34m\u001b[0m\u001b[0m\n\u001b[1;32m    721\u001b[0m     \u001b[0;32mdef\u001b[0m \u001b[0m__call__\u001b[0m\u001b[0;34m(\u001b[0m\u001b[0mself\u001b[0m\u001b[0;34m,\u001b[0m \u001b[0miterable\u001b[0m\u001b[0;34m)\u001b[0m\u001b[0;34m:\u001b[0m\u001b[0;34m\u001b[0m\u001b[0m\n",
      "\u001b[0;31mJoblibValueError\u001b[0m: JoblibValueError\n___________________________________________________________________________\nMultiprocessing exception:\n...........................................................................\n/home/ubuntu/anaconda2/lib/python2.7/runpy.py in _run_module_as_main(mod_name='ipykernel.__main__', alter_argv=1)\n    169     pkg_name = mod_name.rpartition('.')[0]\n    170     main_globals = sys.modules[\"__main__\"].__dict__\n    171     if alter_argv:\n    172         sys.argv[0] = fname\n    173     return _run_code(code, main_globals, None,\n--> 174                      \"__main__\", fname, loader, pkg_name)\n        fname = '/home/ubuntu/anaconda2/lib/python2.7/site-packages/ipykernel/__main__.py'\n        loader = <pkgutil.ImpLoader instance>\n        pkg_name = 'ipykernel'\n    175 \n    176 def run_module(mod_name, init_globals=None,\n    177                run_name=None, alter_sys=False):\n    178     \"\"\"Execute a module's code without importing it\n\n...........................................................................\n/home/ubuntu/anaconda2/lib/python2.7/runpy.py in _run_code(code=<code object <module> at 0x7f3d4b349830, file \"/...2.7/site-packages/ipykernel/__main__.py\", line 1>, run_globals={'__builtins__': <module '__builtin__' (built-in)>, '__doc__': None, '__file__': '/home/ubuntu/anaconda2/lib/python2.7/site-packages/ipykernel/__main__.py', '__loader__': <pkgutil.ImpLoader instance>, '__name__': '__main__', '__package__': 'ipykernel', 'app': <module 'ipykernel.kernelapp' from '/home/ubuntu...python2.7/site-packages/ipykernel/kernelapp.pyc'>}, init_globals=None, mod_name='__main__', mod_fname='/home/ubuntu/anaconda2/lib/python2.7/site-packages/ipykernel/__main__.py', mod_loader=<pkgutil.ImpLoader instance>, pkg_name='ipykernel')\n     67         run_globals.update(init_globals)\n     68     run_globals.update(__name__ = mod_name,\n     69                        __file__ = mod_fname,\n     70                        __loader__ = mod_loader,\n     71                        __package__ = pkg_name)\n---> 72     exec code in run_globals\n        code = <code object <module> at 0x7f3d4b349830, file \"/...2.7/site-packages/ipykernel/__main__.py\", line 1>\n        run_globals = {'__builtins__': <module '__builtin__' (built-in)>, '__doc__': None, '__file__': '/home/ubuntu/anaconda2/lib/python2.7/site-packages/ipykernel/__main__.py', '__loader__': <pkgutil.ImpLoader instance>, '__name__': '__main__', '__package__': 'ipykernel', 'app': <module 'ipykernel.kernelapp' from '/home/ubuntu...python2.7/site-packages/ipykernel/kernelapp.pyc'>}\n     73     return run_globals\n     74 \n     75 def _run_module_code(code, init_globals=None,\n     76                     mod_name=None, mod_fname=None,\n\n...........................................................................\n/home/ubuntu/anaconda2/lib/python2.7/site-packages/ipykernel/__main__.py in <module>()\n      1 \n      2 \n----> 3 \n      4 if __name__ == '__main__':\n      5     from ipykernel import kernelapp as app\n      6     app.launch_new_instance()\n      7 \n      8 \n      9 \n     10 \n\n...........................................................................\n/home/ubuntu/anaconda2/lib/python2.7/site-packages/traitlets/config/application.py in launch_instance(cls=<class 'ipykernel.kernelapp.IPKernelApp'>, argv=None, **kwargs={})\n    648 \n    649         If a global instance already exists, this reinitializes and starts it\n    650         \"\"\"\n    651         app = cls.instance(**kwargs)\n    652         app.initialize(argv)\n--> 653         app.start()\n        app.start = <bound method IPKernelApp.start of <ipykernel.kernelapp.IPKernelApp object>>\n    654 \n    655 #-----------------------------------------------------------------------------\n    656 # utility functions, for convenience\n    657 #-----------------------------------------------------------------------------\n\n...........................................................................\n/home/ubuntu/anaconda2/lib/python2.7/site-packages/ipykernel/kernelapp.py in start(self=<ipykernel.kernelapp.IPKernelApp object>)\n    469             return self.subapp.start()\n    470         if self.poller is not None:\n    471             self.poller.start()\n    472         self.kernel.start()\n    473         try:\n--> 474             ioloop.IOLoop.instance().start()\n    475         except KeyboardInterrupt:\n    476             pass\n    477 \n    478 launch_new_instance = IPKernelApp.launch_instance\n\n...........................................................................\n/home/ubuntu/anaconda2/lib/python2.7/site-packages/zmq/eventloop/ioloop.py in start(self=<zmq.eventloop.ioloop.ZMQIOLoop object>)\n    157             PollIOLoop.configure(ZMQIOLoop)\n    158         return PollIOLoop.current(*args, **kwargs)\n    159     \n    160     def start(self):\n    161         try:\n--> 162             super(ZMQIOLoop, self).start()\n        self.start = <bound method ZMQIOLoop.start of <zmq.eventloop.ioloop.ZMQIOLoop object>>\n    163         except ZMQError as e:\n    164             if e.errno == ETERM:\n    165                 # quietly return on ETERM\n    166                 pass\n\n...........................................................................\n/home/ubuntu/anaconda2/lib/python2.7/site-packages/tornado/ioloop.py in start(self=<zmq.eventloop.ioloop.ZMQIOLoop object>)\n    882                 self._events.update(event_pairs)\n    883                 while self._events:\n    884                     fd, events = self._events.popitem()\n    885                     try:\n    886                         fd_obj, handler_func = self._handlers[fd]\n--> 887                         handler_func(fd_obj, events)\n        handler_func = <function null_wrapper>\n        fd_obj = <zmq.sugar.socket.Socket object>\n        events = 1\n    888                     except (OSError, IOError) as e:\n    889                         if errno_from_exception(e) == errno.EPIPE:\n    890                             # Happens when the client closes the connection\n    891                             pass\n\n...........................................................................\n/home/ubuntu/anaconda2/lib/python2.7/site-packages/tornado/stack_context.py in null_wrapper(*args=(<zmq.sugar.socket.Socket object>, 1), **kwargs={})\n    270         # Fast path when there are no active contexts.\n    271         def null_wrapper(*args, **kwargs):\n    272             try:\n    273                 current_state = _state.contexts\n    274                 _state.contexts = cap_contexts[0]\n--> 275                 return fn(*args, **kwargs)\n        args = (<zmq.sugar.socket.Socket object>, 1)\n        kwargs = {}\n    276             finally:\n    277                 _state.contexts = current_state\n    278         null_wrapper._wrapped = True\n    279         return null_wrapper\n\n...........................................................................\n/home/ubuntu/anaconda2/lib/python2.7/site-packages/zmq/eventloop/zmqstream.py in _handle_events(self=<zmq.eventloop.zmqstream.ZMQStream object>, fd=<zmq.sugar.socket.Socket object>, events=1)\n    435             # dispatch events:\n    436             if events & IOLoop.ERROR:\n    437                 gen_log.error(\"got POLLERR event on ZMQStream, which doesn't make sense\")\n    438                 return\n    439             if events & IOLoop.READ:\n--> 440                 self._handle_recv()\n        self._handle_recv = <bound method ZMQStream._handle_recv of <zmq.eventloop.zmqstream.ZMQStream object>>\n    441                 if not self.socket:\n    442                     return\n    443             if events & IOLoop.WRITE:\n    444                 self._handle_send()\n\n...........................................................................\n/home/ubuntu/anaconda2/lib/python2.7/site-packages/zmq/eventloop/zmqstream.py in _handle_recv(self=<zmq.eventloop.zmqstream.ZMQStream object>)\n    467                 gen_log.error(\"RECV Error: %s\"%zmq.strerror(e.errno))\n    468         else:\n    469             if self._recv_callback:\n    470                 callback = self._recv_callback\n    471                 # self._recv_callback = None\n--> 472                 self._run_callback(callback, msg)\n        self._run_callback = <bound method ZMQStream._run_callback of <zmq.eventloop.zmqstream.ZMQStream object>>\n        callback = <function null_wrapper>\n        msg = [<zmq.sugar.frame.Frame object>, <zmq.sugar.frame.Frame object>, <zmq.sugar.frame.Frame object>, <zmq.sugar.frame.Frame object>, <zmq.sugar.frame.Frame object>, <zmq.sugar.frame.Frame object>, <zmq.sugar.frame.Frame object>]\n    473                 \n    474         # self.update_state()\n    475         \n    476 \n\n...........................................................................\n/home/ubuntu/anaconda2/lib/python2.7/site-packages/zmq/eventloop/zmqstream.py in _run_callback(self=<zmq.eventloop.zmqstream.ZMQStream object>, callback=<function null_wrapper>, *args=([<zmq.sugar.frame.Frame object>, <zmq.sugar.frame.Frame object>, <zmq.sugar.frame.Frame object>, <zmq.sugar.frame.Frame object>, <zmq.sugar.frame.Frame object>, <zmq.sugar.frame.Frame object>, <zmq.sugar.frame.Frame object>],), **kwargs={})\n    409         close our socket.\"\"\"\n    410         try:\n    411             # Use a NullContext to ensure that all StackContexts are run\n    412             # inside our blanket exception handler rather than outside.\n    413             with stack_context.NullContext():\n--> 414                 callback(*args, **kwargs)\n        callback = <function null_wrapper>\n        args = ([<zmq.sugar.frame.Frame object>, <zmq.sugar.frame.Frame object>, <zmq.sugar.frame.Frame object>, <zmq.sugar.frame.Frame object>, <zmq.sugar.frame.Frame object>, <zmq.sugar.frame.Frame object>, <zmq.sugar.frame.Frame object>],)\n        kwargs = {}\n    415         except:\n    416             gen_log.error(\"Uncaught exception, closing connection.\",\n    417                           exc_info=True)\n    418             # Close the socket on an uncaught exception from a user callback\n\n...........................................................................\n/home/ubuntu/anaconda2/lib/python2.7/site-packages/tornado/stack_context.py in null_wrapper(*args=([<zmq.sugar.frame.Frame object>, <zmq.sugar.frame.Frame object>, <zmq.sugar.frame.Frame object>, <zmq.sugar.frame.Frame object>, <zmq.sugar.frame.Frame object>, <zmq.sugar.frame.Frame object>, <zmq.sugar.frame.Frame object>],), **kwargs={})\n    270         # Fast path when there are no active contexts.\n    271         def null_wrapper(*args, **kwargs):\n    272             try:\n    273                 current_state = _state.contexts\n    274                 _state.contexts = cap_contexts[0]\n--> 275                 return fn(*args, **kwargs)\n        args = ([<zmq.sugar.frame.Frame object>, <zmq.sugar.frame.Frame object>, <zmq.sugar.frame.Frame object>, <zmq.sugar.frame.Frame object>, <zmq.sugar.frame.Frame object>, <zmq.sugar.frame.Frame object>, <zmq.sugar.frame.Frame object>],)\n        kwargs = {}\n    276             finally:\n    277                 _state.contexts = current_state\n    278         null_wrapper._wrapped = True\n    279         return null_wrapper\n\n...........................................................................\n/home/ubuntu/anaconda2/lib/python2.7/site-packages/ipykernel/kernelbase.py in dispatcher(msg=[<zmq.sugar.frame.Frame object>, <zmq.sugar.frame.Frame object>, <zmq.sugar.frame.Frame object>, <zmq.sugar.frame.Frame object>, <zmq.sugar.frame.Frame object>, <zmq.sugar.frame.Frame object>, <zmq.sugar.frame.Frame object>])\n    271         if self.control_stream:\n    272             self.control_stream.on_recv(self.dispatch_control, copy=False)\n    273 \n    274         def make_dispatcher(stream):\n    275             def dispatcher(msg):\n--> 276                 return self.dispatch_shell(stream, msg)\n        msg = [<zmq.sugar.frame.Frame object>, <zmq.sugar.frame.Frame object>, <zmq.sugar.frame.Frame object>, <zmq.sugar.frame.Frame object>, <zmq.sugar.frame.Frame object>, <zmq.sugar.frame.Frame object>, <zmq.sugar.frame.Frame object>]\n    277             return dispatcher\n    278 \n    279         for s in self.shell_streams:\n    280             s.on_recv(make_dispatcher(s), copy=False)\n\n...........................................................................\n/home/ubuntu/anaconda2/lib/python2.7/site-packages/ipykernel/kernelbase.py in dispatch_shell(self=<ipykernel.ipkernel.IPythonKernel object>, stream=<zmq.eventloop.zmqstream.ZMQStream object>, msg={'buffers': [], 'content': {u'allow_stdin': True, u'code': u\"params = {'randomforestclassifier__max_depth':...v=3, verbose=True)\\nmodel.fit(X_train, y_train);\", u'silent': False, u'stop_on_error': True, u'store_history': True, u'user_expressions': {}}, 'header': {'date': '2017-02-02T02:08:03.306232', u'msg_id': u'F9D0FAE3486E46A2BB7251C761ADB16E', u'msg_type': u'execute_request', u'session': u'D998459802C24B1F99E2DF7DDAD866B8', u'username': u'username', u'version': u'5.0'}, 'metadata': {}, 'msg_id': u'F9D0FAE3486E46A2BB7251C761ADB16E', 'msg_type': u'execute_request', 'parent_header': {}})\n    223             self.log.error(\"UNKNOWN MESSAGE TYPE: %r\", msg_type)\n    224         else:\n    225             self.log.debug(\"%s: %s\", msg_type, msg)\n    226             self.pre_handler_hook()\n    227             try:\n--> 228                 handler(stream, idents, msg)\n        handler = <bound method IPythonKernel.execute_request of <ipykernel.ipkernel.IPythonKernel object>>\n        stream = <zmq.eventloop.zmqstream.ZMQStream object>\n        idents = ['D998459802C24B1F99E2DF7DDAD866B8']\n        msg = {'buffers': [], 'content': {u'allow_stdin': True, u'code': u\"params = {'randomforestclassifier__max_depth':...v=3, verbose=True)\\nmodel.fit(X_train, y_train);\", u'silent': False, u'stop_on_error': True, u'store_history': True, u'user_expressions': {}}, 'header': {'date': '2017-02-02T02:08:03.306232', u'msg_id': u'F9D0FAE3486E46A2BB7251C761ADB16E', u'msg_type': u'execute_request', u'session': u'D998459802C24B1F99E2DF7DDAD866B8', u'username': u'username', u'version': u'5.0'}, 'metadata': {}, 'msg_id': u'F9D0FAE3486E46A2BB7251C761ADB16E', 'msg_type': u'execute_request', 'parent_header': {}}\n    229             except Exception:\n    230                 self.log.error(\"Exception in message handler:\", exc_info=True)\n    231             finally:\n    232                 self.post_handler_hook()\n\n...........................................................................\n/home/ubuntu/anaconda2/lib/python2.7/site-packages/ipykernel/kernelbase.py in execute_request(self=<ipykernel.ipkernel.IPythonKernel object>, stream=<zmq.eventloop.zmqstream.ZMQStream object>, ident=['D998459802C24B1F99E2DF7DDAD866B8'], parent={'buffers': [], 'content': {u'allow_stdin': True, u'code': u\"params = {'randomforestclassifier__max_depth':...v=3, verbose=True)\\nmodel.fit(X_train, y_train);\", u'silent': False, u'stop_on_error': True, u'store_history': True, u'user_expressions': {}}, 'header': {'date': '2017-02-02T02:08:03.306232', u'msg_id': u'F9D0FAE3486E46A2BB7251C761ADB16E', u'msg_type': u'execute_request', u'session': u'D998459802C24B1F99E2DF7DDAD866B8', u'username': u'username', u'version': u'5.0'}, 'metadata': {}, 'msg_id': u'F9D0FAE3486E46A2BB7251C761ADB16E', 'msg_type': u'execute_request', 'parent_header': {}})\n    385         if not silent:\n    386             self.execution_count += 1\n    387             self._publish_execute_input(code, parent, self.execution_count)\n    388 \n    389         reply_content = self.do_execute(code, silent, store_history,\n--> 390                                         user_expressions, allow_stdin)\n        user_expressions = {}\n        allow_stdin = True\n    391 \n    392         # Flush output before sending the reply.\n    393         sys.stdout.flush()\n    394         sys.stderr.flush()\n\n...........................................................................\n/home/ubuntu/anaconda2/lib/python2.7/site-packages/ipykernel/ipkernel.py in do_execute(self=<ipykernel.ipkernel.IPythonKernel object>, code=u\"params = {'randomforestclassifier__max_depth':...v=3, verbose=True)\\nmodel.fit(X_train, y_train);\", silent=False, store_history=True, user_expressions={}, allow_stdin=True)\n    191 \n    192         self._forward_input(allow_stdin)\n    193 \n    194         reply_content = {}\n    195         try:\n--> 196             res = shell.run_cell(code, store_history=store_history, silent=silent)\n        res = undefined\n        shell.run_cell = <bound method ZMQInteractiveShell.run_cell of <ipykernel.zmqshell.ZMQInteractiveShell object>>\n        code = u\"params = {'randomforestclassifier__max_depth':...v=3, verbose=True)\\nmodel.fit(X_train, y_train);\"\n        store_history = True\n        silent = False\n    197         finally:\n    198             self._restore_input()\n    199 \n    200         if res.error_before_exec is not None:\n\n...........................................................................\n/home/ubuntu/anaconda2/lib/python2.7/site-packages/ipykernel/zmqshell.py in run_cell(self=<ipykernel.zmqshell.ZMQInteractiveShell object>, *args=(u\"params = {'randomforestclassifier__max_depth':...v=3, verbose=True)\\nmodel.fit(X_train, y_train);\",), **kwargs={'silent': False, 'store_history': True})\n    496             )\n    497         self.payload_manager.write_payload(payload)\n    498 \n    499     def run_cell(self, *args, **kwargs):\n    500         self._last_traceback = None\n--> 501         return super(ZMQInteractiveShell, self).run_cell(*args, **kwargs)\n        self.run_cell = <bound method ZMQInteractiveShell.run_cell of <ipykernel.zmqshell.ZMQInteractiveShell object>>\n        args = (u\"params = {'randomforestclassifier__max_depth':...v=3, verbose=True)\\nmodel.fit(X_train, y_train);\",)\n        kwargs = {'silent': False, 'store_history': True}\n    502 \n    503     def _showtraceback(self, etype, evalue, stb):\n    504         # try to preserve ordering of tracebacks and print statements\n    505         sys.stdout.flush()\n\n...........................................................................\n/home/ubuntu/anaconda2/lib/python2.7/site-packages/IPython/core/interactiveshell.py in run_cell(self=<ipykernel.zmqshell.ZMQInteractiveShell object>, raw_cell=u\"params = {'randomforestclassifier__max_depth':...v=3, verbose=True)\\nmodel.fit(X_train, y_train);\", store_history=True, silent=False, shell_futures=True)\n   2712                 self.displayhook.exec_result = result\n   2713 \n   2714                 # Execute the user code\n   2715                 interactivity = \"none\" if silent else self.ast_node_interactivity\n   2716                 has_raised = self.run_ast_nodes(code_ast.body, cell_name,\n-> 2717                    interactivity=interactivity, compiler=compiler, result=result)\n        interactivity = 'last_expr'\n        compiler = <IPython.core.compilerop.CachingCompiler instance>\n   2718                 \n   2719                 self.last_execution_succeeded = not has_raised\n   2720 \n   2721                 # Reset this so later displayed values do not modify the\n\n...........................................................................\n/home/ubuntu/anaconda2/lib/python2.7/site-packages/IPython/core/interactiveshell.py in run_ast_nodes(self=<ipykernel.zmqshell.ZMQInteractiveShell object>, nodelist=[<_ast.Assign object>, <_ast.Assign object>, <_ast.Assign object>, <_ast.Expr object>], cell_name='<ipython-input-19-01dc5a8c4f29>', interactivity='last', compiler=<IPython.core.compilerop.CachingCompiler instance>, result=<ExecutionResult object at 7f3d0b955990, executi..._before_exec=None error_in_exec=None result=None>)\n   2822                     return True\n   2823 \n   2824             for i, node in enumerate(to_run_interactive):\n   2825                 mod = ast.Interactive([node])\n   2826                 code = compiler(mod, cell_name, \"single\")\n-> 2827                 if self.run_code(code, result):\n        self.run_code = <bound method ZMQInteractiveShell.run_code of <ipykernel.zmqshell.ZMQInteractiveShell object>>\n        code = <code object <module> at 0x7f3d0d59a0b0, file \"<ipython-input-19-01dc5a8c4f29>\", line 10>\n        result = <ExecutionResult object at 7f3d0b955990, executi..._before_exec=None error_in_exec=None result=None>\n   2828                     return True\n   2829 \n   2830             # Flush softspace\n   2831             if softspace(sys.stdout, 0):\n\n...........................................................................\n/home/ubuntu/anaconda2/lib/python2.7/site-packages/IPython/core/interactiveshell.py in run_code(self=<ipykernel.zmqshell.ZMQInteractiveShell object>, code_obj=<code object <module> at 0x7f3d0d59a0b0, file \"<ipython-input-19-01dc5a8c4f29>\", line 10>, result=<ExecutionResult object at 7f3d0b955990, executi..._before_exec=None error_in_exec=None result=None>)\n   2876         outflag = 1  # happens in more places, so it's easier as default\n   2877         try:\n   2878             try:\n   2879                 self.hooks.pre_run_code_hook()\n   2880                 #rprint('Running code', repr(code_obj)) # dbg\n-> 2881                 exec(code_obj, self.user_global_ns, self.user_ns)\n        code_obj = <code object <module> at 0x7f3d0d59a0b0, file \"<ipython-input-19-01dc5a8c4f29>\", line 10>\n        self.user_global_ns = {'GridSearchCV': <class 'sklearn.model_selection._search.GridSearchCV'>, 'In': ['', u'from __future__ import division\\nimport pandas as pd\\nfrom datetime import timedelta, datetime', u'import warnings\\nimport seaborn as sns\\n\\nwarn...5\\n\\nget_ipython().magic(u\\'matplotlib inline\\')', u'df.head(1).T', u\"df = pd.read_pickle('../data/data_w_transforme...nd_removed_invalid_rows_and_cols.pkl')\\ndf.shape\", u'df.head(1).T', u\"df['days_from_feb_2016'] = (datetime(year=2016...idxmax(axis=1) # not useful bc will be dummified\", u\"df = df.drop(\\n    ['OPEN_DT',\\n     'TARGET_D... 'tract_and_block_group'\\n    ], \\n    axis=1\\n)\", u'df.shape', u\"def dummify(df, column):\\n    # from Darren's ...irectly\\n    return pd.concat([df,dummy],axis=1)\", u\"df1 = dummify(df, 'TYPE')\\ndf2 = dummify(df1, ...fy(df5, 'school')\\ndf7 = dummify(df6, 'housing')\", u'df7.shape', u'from sklearn.cross_validation import train_tes...m sklearn.ensemble import RandomForestClassifier', u\"X_train, X_test, y_train, y_test = train_test_..., \\n    test_size=0.2, \\n    random_state=300\\n)\", u\"pipe = make_pipeline(\\n    RandomForestClassif..._subsample', \\n        n_estimators=10\\n    )\\n)\", u\"params = {'randomforestclassifier__max_depth':...v=5, verbose=True)\\nmodel.fit(X_train, y_train);\", u'from sklearn.cross_validation import train_tes...er\\nfrom sklearn.metrics import confusion_matrix', u'import warnings\\nimport seaborn as sns\\n\\nwarn...t\\n\\nget_ipython().magic(u\\'matplotlib inline\\')', u'X_train.shape', u\"params = {'randomforestclassifier__max_depth':...v=3, verbose=True)\\nmodel.fit(X_train, y_train);\"], 'Out': {4: (716310, 36), 5:                                                 ...                                            False, 8: (716310, 27), 11: (716310, 302), 18: (573048, 301)}, 'RandomForestClassifier': <class 'sklearn.ensemble.forest.RandomForestClassifier'>, 'X_test':                                   REASON Submitt...  0.0          0.0  \n\n[143262 rows x 301 columns], 'X_train':                                    REASON Submit...  0.0          0.0  \n\n[573048 rows x 301 columns], '_': (573048, 301), '_11': (716310, 302), '_18': (573048, 301), '_4': (716310, 36), ...}\n        self.user_ns = {'GridSearchCV': <class 'sklearn.model_selection._search.GridSearchCV'>, 'In': ['', u'from __future__ import division\\nimport pandas as pd\\nfrom datetime import timedelta, datetime', u'import warnings\\nimport seaborn as sns\\n\\nwarn...5\\n\\nget_ipython().magic(u\\'matplotlib inline\\')', u'df.head(1).T', u\"df = pd.read_pickle('../data/data_w_transforme...nd_removed_invalid_rows_and_cols.pkl')\\ndf.shape\", u'df.head(1).T', u\"df['days_from_feb_2016'] = (datetime(year=2016...idxmax(axis=1) # not useful bc will be dummified\", u\"df = df.drop(\\n    ['OPEN_DT',\\n     'TARGET_D... 'tract_and_block_group'\\n    ], \\n    axis=1\\n)\", u'df.shape', u\"def dummify(df, column):\\n    # from Darren's ...irectly\\n    return pd.concat([df,dummy],axis=1)\", u\"df1 = dummify(df, 'TYPE')\\ndf2 = dummify(df1, ...fy(df5, 'school')\\ndf7 = dummify(df6, 'housing')\", u'df7.shape', u'from sklearn.cross_validation import train_tes...m sklearn.ensemble import RandomForestClassifier', u\"X_train, X_test, y_train, y_test = train_test_..., \\n    test_size=0.2, \\n    random_state=300\\n)\", u\"pipe = make_pipeline(\\n    RandomForestClassif..._subsample', \\n        n_estimators=10\\n    )\\n)\", u\"params = {'randomforestclassifier__max_depth':...v=5, verbose=True)\\nmodel.fit(X_train, y_train);\", u'from sklearn.cross_validation import train_tes...er\\nfrom sklearn.metrics import confusion_matrix', u'import warnings\\nimport seaborn as sns\\n\\nwarn...t\\n\\nget_ipython().magic(u\\'matplotlib inline\\')', u'X_train.shape', u\"params = {'randomforestclassifier__max_depth':...v=3, verbose=True)\\nmodel.fit(X_train, y_train);\"], 'Out': {4: (716310, 36), 5:                                                 ...                                            False, 8: (716310, 27), 11: (716310, 302), 18: (573048, 301)}, 'RandomForestClassifier': <class 'sklearn.ensemble.forest.RandomForestClassifier'>, 'X_test':                                   REASON Submitt...  0.0          0.0  \n\n[143262 rows x 301 columns], 'X_train':                                    REASON Submit...  0.0          0.0  \n\n[573048 rows x 301 columns], '_': (573048, 301), '_11': (716310, 302), '_18': (573048, 301), '_4': (716310, 36), ...}\n   2882             finally:\n   2883                 # Reset our crash handler in place\n   2884                 sys.excepthook = old_excepthook\n   2885         except SystemExit as e:\n\n...........................................................................\n/home/ubuntu/311-prediction-times/03 modeling/<ipython-input-19-01dc5a8c4f29> in <module>()\n      5 params = {'randomforestclassifier__max_depth': [10],\n      6       'randomforestclassifier__min_samples_leaf': [1001], # odd for bin class, to avoid ties, 1% of num_rows for max bound\n      7 } # Brad said hyperparams don't matter _that_ much for RF\n      8 \n      9 model = GridSearchCV(pipe, param_grid=params, n_jobs=-1, cv=3, verbose=True)\n---> 10 model.fit(X_train, y_train);\n     11 \n     12 \n     13 \n     14 \n\n...........................................................................\n/home/ubuntu/anaconda2/lib/python2.7/site-packages/sklearn/model_selection/_search.py in fit(self=GridSearchCV(cv=3, error_score='raise',\n       e...in_score=True,\n       scoring=None, verbose=True), X=                                   REASON Submit...  0.0          0.0  \n\n[573048 rows x 301 columns], y=592998    False\n359981    False\n464981    False\n...7    False\nName: is_issue_unresolved, dtype: bool, groups=None)\n    940 \n    941         groups : array-like, with shape (n_samples,), optional\n    942             Group labels for the samples used while splitting the dataset into\n    943             train/test set.\n    944         \"\"\"\n--> 945         return self._fit(X, y, groups, ParameterGrid(self.param_grid))\n        self._fit = <bound method GridSearchCV._fit of GridSearchCV(...n_score=True,\n       scoring=None, verbose=True)>\n        X =                                    REASON Submit...  0.0          0.0  \n\n[573048 rows x 301 columns]\n        y = 592998    False\n359981    False\n464981    False\n...7    False\nName: is_issue_unresolved, dtype: bool\n        groups = None\n        self.param_grid = {'randomforestclassifier__max_depth': [10], 'randomforestclassifier__min_samples_leaf': [1001]}\n    946 \n    947 \n    948 class RandomizedSearchCV(BaseSearchCV):\n    949     \"\"\"Randomized search on hyper parameters.\n\n...........................................................................\n/home/ubuntu/anaconda2/lib/python2.7/site-packages/sklearn/model_selection/_search.py in _fit(self=GridSearchCV(cv=3, error_score='raise',\n       e...in_score=True,\n       scoring=None, verbose=True), X=                                   REASON Submit...  0.0          0.0  \n\n[573048 rows x 301 columns], y=592998    False\n359981    False\n464981    False\n...7    False\nName: is_issue_unresolved, dtype: bool, groups=None, parameter_iterable=<sklearn.model_selection._search.ParameterGrid object>)\n    559                                   fit_params=self.fit_params,\n    560                                   return_train_score=self.return_train_score,\n    561                                   return_n_test_samples=True,\n    562                                   return_times=True, return_parameters=True,\n    563                                   error_score=self.error_score)\n--> 564           for parameters in parameter_iterable\n        parameters = undefined\n        parameter_iterable = <sklearn.model_selection._search.ParameterGrid object>\n    565           for train, test in cv_iter)\n    566 \n    567         # if one choose to see train score, \"out\" will contain train score info\n    568         if self.return_train_score:\n\n...........................................................................\n/home/ubuntu/anaconda2/lib/python2.7/site-packages/sklearn/externals/joblib/parallel.py in __call__(self=Parallel(n_jobs=-1), iterable=<generator object <genexpr>>)\n    763             if pre_dispatch == \"all\" or n_jobs == 1:\n    764                 # The iterable was consumed all at once by the above for loop.\n    765                 # No need to wait for async callbacks to trigger to\n    766                 # consumption.\n    767                 self._iterating = False\n--> 768             self.retrieve()\n        self.retrieve = <bound method Parallel.retrieve of Parallel(n_jobs=-1)>\n    769             # Make sure that we get a last message telling us we are done\n    770             elapsed_time = time.time() - self._start_time\n    771             self._print('Done %3i out of %3i | elapsed: %s finished',\n    772                         (len(self._output), len(self._output),\n\n---------------------------------------------------------------------------\nSub-process traceback:\n---------------------------------------------------------------------------\nValueError                                         Thu Feb  2 02:08:52 2017\nPID: 1582                  Python 2.7.12: /home/ubuntu/anaconda2/bin/python\n...........................................................................\n/home/ubuntu/anaconda2/lib/python2.7/site-packages/sklearn/externals/joblib/parallel.py in __call__(self=<sklearn.externals.joblib.parallel.BatchedCalls object>)\n    126     def __init__(self, iterator_slice):\n    127         self.items = list(iterator_slice)\n    128         self._size = len(self.items)\n    129 \n    130     def __call__(self):\n--> 131         return [func(*args, **kwargs) for func, args, kwargs in self.items]\n        func = <function _fit_and_score>\n        args = (Pipeline(steps=[('randomforestclassifier', Rando...None, verbose=0,\n            warm_start=False))]),                                    REASON Submit...  0.0          0.0  \n\n[573048 rows x 301 columns], 592998    False\n359981    False\n464981    False\n...7    False\nName: is_issue_unresolved, dtype: bool, <function _passthrough_scorer>, memmap([191016, 191017, 191018, ..., 573045, 573046, 573047]), memmap([     0,      1,      2, ..., 191013, 191014, 191015]), True, {'randomforestclassifier__max_depth': 10, 'randomforestclassifier__min_samples_leaf': 1001})\n        kwargs = {'error_score': 'raise', 'fit_params': {}, 'return_n_test_samples': True, 'return_parameters': True, 'return_times': True, 'return_train_score': True}\n        self.items = [(<function _fit_and_score>, (Pipeline(steps=[('randomforestclassifier', Rando...None, verbose=0,\n            warm_start=False))]),                                    REASON Submit...  0.0          0.0  \n\n[573048 rows x 301 columns], 592998    False\n359981    False\n464981    False\n...7    False\nName: is_issue_unresolved, dtype: bool, <function _passthrough_scorer>, memmap([191016, 191017, 191018, ..., 573045, 573046, 573047]), memmap([     0,      1,      2, ..., 191013, 191014, 191015]), True, {'randomforestclassifier__max_depth': 10, 'randomforestclassifier__min_samples_leaf': 1001}), {'error_score': 'raise', 'fit_params': {}, 'return_n_test_samples': True, 'return_parameters': True, 'return_times': True, 'return_train_score': True})]\n    132 \n    133     def __len__(self):\n    134         return self._size\n    135 \n\n...........................................................................\n/home/ubuntu/anaconda2/lib/python2.7/site-packages/sklearn/model_selection/_validation.py in _fit_and_score(estimator=Pipeline(steps=[('randomforestclassifier', Rando...None, verbose=0,\n            warm_start=False))]), X=                                   REASON Submit...  0.0          0.0  \n\n[573048 rows x 301 columns], y=592998    False\n359981    False\n464981    False\n...7    False\nName: is_issue_unresolved, dtype: bool, scorer=<function _passthrough_scorer>, train=memmap([191016, 191017, 191018, ..., 573045, 573046, 573047]), test=memmap([     0,      1,      2, ..., 191013, 191014, 191015]), verbose=True, parameters={'randomforestclassifier__max_depth': 10, 'randomforestclassifier__min_samples_leaf': 1001}, fit_params={}, return_train_score=True, return_parameters=True, return_n_test_samples=True, return_times=True, error_score='raise')\n    233 \n    234     try:\n    235         if y_train is None:\n    236             estimator.fit(X_train, **fit_params)\n    237         else:\n--> 238             estimator.fit(X_train, y_train, **fit_params)\n        estimator.fit = <bound method Pipeline.fit of Pipeline(steps=[('...one, verbose=0,\n            warm_start=False))])>\n        X_train =                                    REASON Submit...  0.0          0.0  \n\n[382032 rows x 301 columns]\n        y_train = 355307    False\n274437    False\n210953    False\n...7    False\nName: is_issue_unresolved, dtype: bool\n        fit_params = {}\n    239 \n    240     except Exception as e:\n    241         # Note fit time as time until error\n    242         fit_time = time.time() - start_time\n\n...........................................................................\n/home/ubuntu/anaconda2/lib/python2.7/site-packages/sklearn/pipeline.py in fit(self=Pipeline(steps=[('randomforestclassifier', Rando...None, verbose=0,\n            warm_start=False))]), X=                                   REASON Submit...  0.0          0.0  \n\n[382032 rows x 301 columns], y=355307    False\n274437    False\n210953    False\n...7    False\nName: is_issue_unresolved, dtype: bool, **fit_params={})\n    265         self : Pipeline\n    266             This estimator\n    267         \"\"\"\n    268         Xt, fit_params = self._fit(X, y, **fit_params)\n    269         if self._final_estimator is not None:\n--> 270             self._final_estimator.fit(Xt, y, **fit_params)\n        self._final_estimator.fit = <bound method RandomForestClassifier.fit of Rand...e=None, verbose=0,\n            warm_start=False)>\n        Xt =                                    REASON Submit...  0.0          0.0  \n\n[382032 rows x 301 columns]\n        y = 355307    False\n274437    False\n210953    False\n...7    False\nName: is_issue_unresolved, dtype: bool\n        fit_params = {}\n    271         return self\n    272 \n    273     def fit_transform(self, X, y=None, **fit_params):\n    274         \"\"\"Fit the model and transform with the final estimator\n\n...........................................................................\n/home/ubuntu/anaconda2/lib/python2.7/site-packages/sklearn/ensemble/forest.py in fit(self=RandomForestClassifier(bootstrap=True, class_wei...te=None, verbose=0,\n            warm_start=False), X=                                   REASON Submit...  0.0          0.0  \n\n[382032 rows x 301 columns], y=355307    False\n274437    False\n210953    False\n...7    False\nName: is_issue_unresolved, dtype: bool, sample_weight=None)\n    242         -------\n    243         self : object\n    244             Returns self.\n    245         \"\"\"\n    246         # Validate or convert input data\n--> 247         X = check_array(X, accept_sparse=\"csc\", dtype=DTYPE)\n        X =                                    REASON Submit...  0.0          0.0  \n\n[382032 rows x 301 columns]\n    248         y = check_array(y, accept_sparse='csc', ensure_2d=False, dtype=None)\n    249         if issparse(X):\n    250             # Pre-sort indices to avoid that each individual tree of the\n    251             # ensemble sorts the indices.\n\n...........................................................................\n/home/ubuntu/anaconda2/lib/python2.7/site-packages/sklearn/utils/validation.py in check_array(array=                                   REASON Submit...  0.0          0.0  \n\n[382032 rows x 301 columns], accept_sparse=['csc'], dtype=<type 'numpy.float32'>, order=None, copy=False, force_all_finite=True, ensure_2d=True, allow_nd=False, ensure_min_samples=1, ensure_min_features=1, warn_on_dtype=False, estimator=None)\n    377 \n    378     if sp.issparse(array):\n    379         array = _ensure_sparse_format(array, accept_sparse, dtype, copy,\n    380                                       force_all_finite)\n    381     else:\n--> 382         array = np.array(array, dtype=dtype, order=order, copy=copy)\n        array =                                    REASON Submit...  0.0          0.0  \n\n[382032 rows x 301 columns]\n        dtype = <type 'numpy.float32'>\n        order = None\n        copy = False\n    383 \n    384         if ensure_2d:\n    385             if array.ndim == 1:\n    386                 if ensure_min_samples >= 2:\n\nValueError: could not convert string to float: Highway Maintenance\n___________________________________________________________________________"
     ]
    }
   ],
   "source": [
    "params = {'randomforestclassifier__max_depth': [10, 20],\n",
    "      'randomforestclassifier__min_samples_leaf': [101, 1001], # odd for bin class, to avoid ties, 1% of num_rows for max bound\n",
    "} # taking too long\n",
    "\n",
    "params = {'randomforestclassifier__max_depth': [10],\n",
    "      'randomforestclassifier__min_samples_leaf': [1001], # odd for bin class, to avoid ties, 1% of num_rows for max bound\n",
    "} # Brad said hyperparams don't matter _that_ much for RF\n",
    "\n",
    "model = GridSearchCV(pipe, param_grid=params, n_jobs=-1, cv=1, verbose=True)\n",
    "model.fit(X_train, y_train);"
   ]
  },
  {
   "cell_type": "raw",
   "metadata": {},
   "source": [
    "TODO: don't need to do cross-validation w bagging; can use OOB samples, and the random subset of feats in RF replaces CV\n",
    "\n",
    "# http://scikit-learn.org/stable/auto_examples/ensemble/plot_ensemble_oob.html\n",
    "\n",
    "I can also prolly make the above faster my find the # of trees/estimators it takes to converge, and use that."
   ]
  },
  {
   "cell_type": "markdown",
   "metadata": {},
   "source": [
    "Let's look at the performance of our best model."
   ]
  },
  {
   "cell_type": "code",
   "execution_count": null,
   "metadata": {
    "collapsed": true
   },
   "outputs": [],
   "source": [
    "y_predict = model.predict(X_test.head())\n",
    "y_predict"
   ]
  },
  {
   "cell_type": "code",
   "execution_count": null,
   "metadata": {
    "collapsed": true
   },
   "outputs": [],
   "source": [
    "confusion_matrix(y_test, y_predict)"
   ]
  },
  {
   "cell_type": "code",
   "execution_count": null,
   "metadata": {
    "collapsed": true
   },
   "outputs": [],
   "source": [
    "feature_importances = pd.np.argsort(model.feature_importances_)\n",
    "print \"12: top five:\", list(df.columns[feature_importances[-1:-6:-1]])"
   ]
  },
  {
   "cell_type": "code",
   "execution_count": null,
   "metadata": {
    "collapsed": true
   },
   "outputs": [],
   "source": [
    "# 13. Calculate the standard deviation for feature importances across all trees\n",
    "\n",
    "n = 10 # top 10 features\n",
    "\n",
    "importances = model.feature_importances_[:n]\n",
    "std = np.std([tree.feature_importances_ for tree in model.estimators_], axis=0)\n",
    "indices = np.argsort(importances)[::-1]\n",
    "\n",
    "# Print the feature ranking\n",
    "print(\"Feature ranking:\")\n",
    "\n",
    "for f in range(n):\n",
    "    print(\"%d. %s (%f)\" % (f + 1, features[f], importances[indices[f]]))\n",
    "\n",
    "# Plot the feature importances of the forest\n",
    "plt.figure()\n",
    "plt.title(\"Feature importances\")\n",
    "plt.bar(range(10), importances[indices], yerr=std[indices], color=\"r\", align=\"center\")\n",
    "plt.xticks(range(10), indices)\n",
    "plt.xlim([-1, 10])\n",
    "plt.show()"
   ]
  },
  {
   "cell_type": "code",
   "execution_count": null,
   "metadata": {
    "collapsed": true
   },
   "outputs": [],
   "source": [
    "pd.DataFrame(model.cv_results)"
   ]
  },
  {
   "cell_type": "markdown",
   "metadata": {},
   "source": [
    "If my best model included 40 trees, was that enough?"
   ]
  },
  {
   "cell_type": "code",
   "execution_count": null,
   "metadata": {
    "collapsed": true
   },
   "outputs": [],
   "source": [
    "model.cv_results_['params']"
   ]
  },
  {
   "cell_type": "markdown",
   "metadata": {},
   "source": [
    "Let's make variable importance graph."
   ]
  },
  {
   "cell_type": "code",
   "execution_count": null,
   "metadata": {
    "collapsed": true
   },
   "outputs": [],
   "source": []
  },
  {
   "cell_type": "markdown",
   "metadata": {},
   "source": [
    "A downside of this graph is that highly correlated features will split importance."
   ]
  },
  {
   "cell_type": "code",
   "execution_count": null,
   "metadata": {
    "collapsed": true
   },
   "outputs": [],
   "source": []
  },
  {
   "cell_type": "markdown",
   "metadata": {},
   "source": [
    "## Using Logistic Regression with L2 Lasso Regularization\n",
    "\n",
    "which is my favorite way to do feature subset selection at the moment :)\n",
    "\n",
    "There are probably issues when features are co-linear. I'll need to read up on this."
   ]
  },
  {
   "cell_type": "raw",
   "metadata": {},
   "source": [
    "NB: for time-saving purposes, I'll just stick with RFs atm."
   ]
  },
  {
   "cell_type": "code",
   "execution_count": null,
   "metadata": {
    "collapsed": true
   },
   "outputs": [],
   "source": [
    "# http://nbviewer.jupyter.org/github/JWarmenhoven/ISLR-python/blob/master/Notebooks/Chapter%206.ipynb#6.6.2-The-Lasso\n",
    "from sklearn.linear_model import Lasso"
   ]
  },
  {
   "cell_type": "code",
   "execution_count": null,
   "metadata": {
    "collapsed": true
   },
   "outputs": [],
   "source": [
    "lasso = Lasso(max_iter=10000)\n",
    "coefs = []\n",
    "\n",
    "for a in alphas*2:\n",
    "    lasso.set_params(alpha=a)\n",
    "    lasso.fit(scale(X_train), y_train)\n",
    "    coefs.append(lasso.coef_)\n",
    "\n",
    "ax = plt.gca()\n",
    "ax.plot(alphas*2, coefs)\n",
    "ax.set_xscale('log')\n",
    "ax.set_xlim(ax.get_xlim()[::-1])  # reverse axis\n",
    "plt.axis('tight')\n",
    "plt.xlabel('alpha')\n",
    "plt.ylabel('weights')\n",
    "plt.title('Lasso coefficients as a function of the regularization');"
   ]
  }
 ],
 "metadata": {
  "anaconda-cloud": {},
  "kernelspec": {
   "display_name": "Python [conda root]",
   "language": "python",
   "name": "conda-root-py"
  },
  "language_info": {
   "codemirror_mode": {
    "name": "ipython",
    "version": 2
   },
   "file_extension": ".py",
   "mimetype": "text/x-python",
   "name": "python",
   "nbconvert_exporter": "python",
   "pygments_lexer": "ipython2",
   "version": "2.7.12"
  }
 },
 "nbformat": 4,
 "nbformat_minor": 1
}
