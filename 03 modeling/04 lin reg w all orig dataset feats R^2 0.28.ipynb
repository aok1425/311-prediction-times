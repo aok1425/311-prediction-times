{
 "cells": [
  {
   "cell_type": "markdown",
   "metadata": {},
   "source": [
    "I will want to beat the baseline score of $R^2=0.24$ and $RMSE=1,881$."
   ]
  },
  {
   "cell_type": "code",
   "execution_count": 1,
   "metadata": {
    "collapsed": true
   },
   "outputs": [],
   "source": [
    "from __future__ import division\n",
    "import pandas as pd"
   ]
  },
  {
   "cell_type": "code",
   "execution_count": 2,
   "metadata": {
    "collapsed": false
   },
   "outputs": [],
   "source": [
    "import warnings\n",
    "import seaborn as sns\n",
    "\n",
    "warnings.filterwarnings(\"ignore\", category=DeprecationWarning)\n",
    "sns.set_style(\"whitegrid\")\n",
    "sns.set_context(\"poster\")\n",
    "\n",
    "from pylab import rcParams\n",
    "rcParams['figure.figsize'] = 20, 5\n",
    "\n",
    "import matplotlib.pyplot as plt\n",
    "\n",
    "%matplotlib inline"
   ]
  },
  {
   "cell_type": "code",
   "execution_count": 3,
   "metadata": {
    "collapsed": false
   },
   "outputs": [],
   "source": [
    "from zipcode_mapping import zipcode_mapping"
   ]
  },
  {
   "cell_type": "code",
   "execution_count": 4,
   "metadata": {
    "collapsed": true
   },
   "outputs": [],
   "source": [
    "from scipy.sparse import csr_matrix"
   ]
  },
  {
   "cell_type": "code",
   "execution_count": 5,
   "metadata": {
    "collapsed": false
   },
   "outputs": [
    {
     "data": {
      "text/plain": [
       "(744372, 37)"
      ]
     },
     "execution_count": 5,
     "metadata": {},
     "output_type": "execute_result"
    }
   ],
   "source": [
    "df = pd.read_pickle('../data/data_w_transformed_census_and_removed_invalid_rows_and_cols_and_fixed_zips_and_descs_and_dropped_latlongs.pkl')\n",
    "df.shape"
   ]
  },
  {
   "cell_type": "code",
   "execution_count": 6,
   "metadata": {
    "collapsed": true
   },
   "outputs": [
    {
     "data": {
      "text/html": [
       "<div>\n",
       "<table border=\"1\" class=\"dataframe\">\n",
       "  <thead>\n",
       "    <tr style=\"text-align: right;\">\n",
       "      <th></th>\n",
       "      <th>905223</th>\n",
       "    </tr>\n",
       "  </thead>\n",
       "  <tbody>\n",
       "    <tr>\n",
       "      <th>CASE_ENQUIRY_ID</th>\n",
       "      <td>101001983804</td>\n",
       "    </tr>\n",
       "    <tr>\n",
       "      <th>OPEN_DT</th>\n",
       "      <td>2017-01-08 12:00:16</td>\n",
       "    </tr>\n",
       "    <tr>\n",
       "      <th>TARGET_DT</th>\n",
       "      <td>2017-01-10 08:30:00</td>\n",
       "    </tr>\n",
       "    <tr>\n",
       "      <th>CLOSED_DT</th>\n",
       "      <td>NaT</td>\n",
       "    </tr>\n",
       "    <tr>\n",
       "      <th>CASE_TITLE</th>\n",
       "      <td>Parking Enforcement</td>\n",
       "    </tr>\n",
       "    <tr>\n",
       "      <th>SUBJECT</th>\n",
       "      <td>Transportation - Traffic Division</td>\n",
       "    </tr>\n",
       "    <tr>\n",
       "      <th>REASON</th>\n",
       "      <td>Enforcement &amp; Abandoned Vehicles</td>\n",
       "    </tr>\n",
       "    <tr>\n",
       "      <th>TYPE</th>\n",
       "      <td>Parking Enforcement</td>\n",
       "    </tr>\n",
       "    <tr>\n",
       "      <th>Department</th>\n",
       "      <td>BTDT</td>\n",
       "    </tr>\n",
       "    <tr>\n",
       "      <th>SubmittedPhoto</th>\n",
       "      <td>False</td>\n",
       "    </tr>\n",
       "    <tr>\n",
       "      <th>neighborhood</th>\n",
       "      <td>Roslindale</td>\n",
       "    </tr>\n",
       "    <tr>\n",
       "      <th>LOCATION_STREET_NAME</th>\n",
       "      <td>80 Cornell St</td>\n",
       "    </tr>\n",
       "    <tr>\n",
       "      <th>Property_Type</th>\n",
       "      <td>Address</td>\n",
       "    </tr>\n",
       "    <tr>\n",
       "      <th>Property_ID</th>\n",
       "      <td>43071</td>\n",
       "    </tr>\n",
       "    <tr>\n",
       "      <th>LATITUDE</th>\n",
       "      <td>42.2764</td>\n",
       "    </tr>\n",
       "    <tr>\n",
       "      <th>LONGITUDE</th>\n",
       "      <td>-71.1311</td>\n",
       "    </tr>\n",
       "    <tr>\n",
       "      <th>Source</th>\n",
       "      <td>Citizens Connect App</td>\n",
       "    </tr>\n",
       "    <tr>\n",
       "      <th>tract_and_block_group</th>\n",
       "      <td>1104035</td>\n",
       "    </tr>\n",
       "    <tr>\n",
       "      <th>race_white</th>\n",
       "      <td>0.550562</td>\n",
       "    </tr>\n",
       "    <tr>\n",
       "      <th>race_black</th>\n",
       "      <td>0.152118</td>\n",
       "    </tr>\n",
       "    <tr>\n",
       "      <th>race_asian</th>\n",
       "      <td>0</td>\n",
       "    </tr>\n",
       "    <tr>\n",
       "      <th>race_hispanic</th>\n",
       "      <td>0.278306</td>\n",
       "    </tr>\n",
       "    <tr>\n",
       "      <th>race_other</th>\n",
       "      <td>0.0190147</td>\n",
       "    </tr>\n",
       "    <tr>\n",
       "      <th>poverty_pop_below_poverty_level</th>\n",
       "      <td>0.135</td>\n",
       "    </tr>\n",
       "    <tr>\n",
       "      <th>poverty_pop_w_public_assistance</th>\n",
       "      <td>0</td>\n",
       "    </tr>\n",
       "    <tr>\n",
       "      <th>poverty_pop_w_food_stamps</th>\n",
       "      <td>0.1325</td>\n",
       "    </tr>\n",
       "    <tr>\n",
       "      <th>poverty_pop_w_ssi</th>\n",
       "      <td>0.0575</td>\n",
       "    </tr>\n",
       "    <tr>\n",
       "      <th>COMPLETION_TIME</th>\n",
       "      <td>NaN</td>\n",
       "    </tr>\n",
       "    <tr>\n",
       "      <th>school</th>\n",
       "      <td>20_bachelors</td>\n",
       "    </tr>\n",
       "    <tr>\n",
       "      <th>housing</th>\n",
       "      <td>own</td>\n",
       "    </tr>\n",
       "    <tr>\n",
       "      <th>bedroom</th>\n",
       "      <td>3</td>\n",
       "    </tr>\n",
       "    <tr>\n",
       "      <th>value</th>\n",
       "      <td>350000</td>\n",
       "    </tr>\n",
       "    <tr>\n",
       "      <th>rent</th>\n",
       "      <td>2250</td>\n",
       "    </tr>\n",
       "    <tr>\n",
       "      <th>income</th>\n",
       "      <td>87500</td>\n",
       "    </tr>\n",
       "    <tr>\n",
       "      <th>is_issue_unresolved</th>\n",
       "      <td>True</td>\n",
       "    </tr>\n",
       "    <tr>\n",
       "      <th>zipcode</th>\n",
       "      <td>2131</td>\n",
       "    </tr>\n",
       "    <tr>\n",
       "      <th>neighborhood_from_zip</th>\n",
       "      <td>Roslindale</td>\n",
       "    </tr>\n",
       "  </tbody>\n",
       "</table>\n",
       "</div>"
      ],
      "text/plain": [
       "                                                            905223\n",
       "CASE_ENQUIRY_ID                                       101001983804\n",
       "OPEN_DT                                        2017-01-08 12:00:16\n",
       "TARGET_DT                                      2017-01-10 08:30:00\n",
       "CLOSED_DT                                                      NaT\n",
       "CASE_TITLE                                     Parking Enforcement\n",
       "SUBJECT                          Transportation - Traffic Division\n",
       "REASON                            Enforcement & Abandoned Vehicles\n",
       "TYPE                                           Parking Enforcement\n",
       "Department                                                    BTDT\n",
       "SubmittedPhoto                                               False\n",
       "neighborhood                                            Roslindale\n",
       "LOCATION_STREET_NAME                                 80 Cornell St\n",
       "Property_Type                                              Address\n",
       "Property_ID                                                  43071\n",
       "LATITUDE                                                   42.2764\n",
       "LONGITUDE                                                 -71.1311\n",
       "Source                                        Citizens Connect App\n",
       "tract_and_block_group                                      1104035\n",
       "race_white                                                0.550562\n",
       "race_black                                                0.152118\n",
       "race_asian                                                       0\n",
       "race_hispanic                                             0.278306\n",
       "race_other                                               0.0190147\n",
       "poverty_pop_below_poverty_level                              0.135\n",
       "poverty_pop_w_public_assistance                                  0\n",
       "poverty_pop_w_food_stamps                                   0.1325\n",
       "poverty_pop_w_ssi                                           0.0575\n",
       "COMPLETION_TIME                                                NaN\n",
       "school                                                20_bachelors\n",
       "housing                                                        own\n",
       "bedroom                                                          3\n",
       "value                                                       350000\n",
       "rent                                                          2250\n",
       "income                                                       87500\n",
       "is_issue_unresolved                                           True\n",
       "zipcode                                                       2131\n",
       "neighborhood_from_zip                                   Roslindale"
      ]
     },
     "execution_count": 6,
     "metadata": {},
     "output_type": "execute_result"
    }
   ],
   "source": [
    "df.head(1).T"
   ]
  },
  {
   "cell_type": "code",
   "execution_count": 6,
   "metadata": {
    "collapsed": false
   },
   "outputs": [],
   "source": [
    "df.Property_Type = df.Property_Type.fillna('other')"
   ]
  },
  {
   "cell_type": "code",
   "execution_count": 8,
   "metadata": {
    "collapsed": false
   },
   "outputs": [
    {
     "data": {
      "text/plain": [
       "Property_Type            0\n",
       "neighborhood_from_zip    0\n",
       "dtype: int64"
      ]
     },
     "execution_count": 8,
     "metadata": {},
     "output_type": "execute_result"
    }
   ],
   "source": [
    "df[['Property_Type', 'neighborhood_from_zip']].isnull().sum()"
   ]
  },
  {
   "cell_type": "markdown",
   "metadata": {},
   "source": [
    "## Let's do other features in the original dataset first"
   ]
  },
  {
   "cell_type": "code",
   "execution_count": 9,
   "metadata": {
    "collapsed": true
   },
   "outputs": [],
   "source": [
    "old_df = df.copy()"
   ]
  },
  {
   "cell_type": "code",
   "execution_count": 10,
   "metadata": {
    "collapsed": false
   },
   "outputs": [
    {
     "data": {
      "text/html": [
       "<div>\n",
       "<table border=\"1\" class=\"dataframe\">\n",
       "  <thead>\n",
       "    <tr style=\"text-align: right;\">\n",
       "      <th></th>\n",
       "      <th>CASE_ENQUIRY_ID</th>\n",
       "      <th>OPEN_DT</th>\n",
       "      <th>TARGET_DT</th>\n",
       "      <th>CLOSED_DT</th>\n",
       "      <th>CASE_TITLE</th>\n",
       "      <th>SUBJECT</th>\n",
       "      <th>REASON</th>\n",
       "      <th>TYPE</th>\n",
       "      <th>Department</th>\n",
       "      <th>SubmittedPhoto</th>\n",
       "      <th>...</th>\n",
       "      <th>COMPLETION_TIME</th>\n",
       "      <th>school</th>\n",
       "      <th>housing</th>\n",
       "      <th>bedroom</th>\n",
       "      <th>value</th>\n",
       "      <th>rent</th>\n",
       "      <th>income</th>\n",
       "      <th>is_issue_unresolved</th>\n",
       "      <th>zipcode</th>\n",
       "      <th>neighborhood_from_zip</th>\n",
       "    </tr>\n",
       "  </thead>\n",
       "  <tbody>\n",
       "    <tr>\n",
       "      <th>905223</th>\n",
       "      <td>101001983804</td>\n",
       "      <td>2017-01-08 12:00:16</td>\n",
       "      <td>2017-01-10 08:30:00</td>\n",
       "      <td>NaT</td>\n",
       "      <td>Parking Enforcement</td>\n",
       "      <td>Transportation - Traffic Division</td>\n",
       "      <td>Enforcement &amp; Abandoned Vehicles</td>\n",
       "      <td>Parking Enforcement</td>\n",
       "      <td>BTDT</td>\n",
       "      <td>False</td>\n",
       "      <td>...</td>\n",
       "      <td>NaN</td>\n",
       "      <td>20_bachelors</td>\n",
       "      <td>own</td>\n",
       "      <td>3</td>\n",
       "      <td>350000.0</td>\n",
       "      <td>2250</td>\n",
       "      <td>87500</td>\n",
       "      <td>True</td>\n",
       "      <td>2131.0</td>\n",
       "      <td>Roslindale</td>\n",
       "    </tr>\n",
       "  </tbody>\n",
       "</table>\n",
       "<p>1 rows × 37 columns</p>\n",
       "</div>"
      ],
      "text/plain": [
       "        CASE_ENQUIRY_ID             OPEN_DT           TARGET_DT CLOSED_DT  \\\n",
       "905223     101001983804 2017-01-08 12:00:16 2017-01-10 08:30:00       NaT   \n",
       "\n",
       "                 CASE_TITLE                            SUBJECT  \\\n",
       "905223  Parking Enforcement  Transportation - Traffic Division   \n",
       "\n",
       "                                  REASON                 TYPE Department  \\\n",
       "905223  Enforcement & Abandoned Vehicles  Parking Enforcement       BTDT   \n",
       "\n",
       "       SubmittedPhoto          ...           COMPLETION_TIME        school  \\\n",
       "905223          False          ...                       NaN  20_bachelors   \n",
       "\n",
       "       housing  bedroom     value  rent income is_issue_unresolved  zipcode  \\\n",
       "905223     own        3  350000.0  2250  87500                True   2131.0   \n",
       "\n",
       "        neighborhood_from_zip  \n",
       "905223             Roslindale  \n",
       "\n",
       "[1 rows x 37 columns]"
      ]
     },
     "execution_count": 10,
     "metadata": {},
     "output_type": "execute_result"
    }
   ],
   "source": [
    "df.head(1)#.loc[:, 'SubmittedPhoto':]"
   ]
  },
  {
   "cell_type": "code",
   "execution_count": 7,
   "metadata": {
    "collapsed": false
   },
   "outputs": [],
   "source": [
    "df = df[['TYPE', 'SubmittedPhoto', 'Property_Type', 'Source', 'zipcode', 'COMPLETION_TIME']]"
   ]
  },
  {
   "cell_type": "code",
   "execution_count": 8,
   "metadata": {
    "collapsed": false
   },
   "outputs": [
    {
     "data": {
      "text/plain": [
       "TYPE                   0\n",
       "SubmittedPhoto         0\n",
       "Property_Type          0\n",
       "Source                 0\n",
       "zipcode                0\n",
       "COMPLETION_TIME    65765\n",
       "dtype: int64"
      ]
     },
     "execution_count": 8,
     "metadata": {},
     "output_type": "execute_result"
    }
   ],
   "source": [
    "df.isnull().sum()"
   ]
  },
  {
   "cell_type": "code",
   "execution_count": 9,
   "metadata": {
    "collapsed": true
   },
   "outputs": [],
   "source": [
    "df = df.dropna()"
   ]
  },
  {
   "cell_type": "code",
   "execution_count": 14,
   "metadata": {
    "collapsed": false
   },
   "outputs": [
    {
     "data": {
      "text/plain": [
       "TYPE                     0\n",
       "REASON                   0\n",
       "Department               0\n",
       "SubmittedPhoto           0\n",
       "Property_Type            0\n",
       "Source                   0\n",
       "neighborhood_from_zip    0\n",
       "zipcode                  0\n",
       "COMPLETION_TIME          0\n",
       "dtype: int64"
      ]
     },
     "execution_count": 14,
     "metadata": {},
     "output_type": "execute_result"
    }
   ],
   "source": [
    "df.isnull().sum()"
   ]
  },
  {
   "cell_type": "code",
   "execution_count": 10,
   "metadata": {
    "collapsed": false
   },
   "outputs": [
    {
     "data": {
      "text/plain": [
       "(678607, 6)"
      ]
     },
     "execution_count": 10,
     "metadata": {},
     "output_type": "execute_result"
    }
   ],
   "source": [
    "df.shape"
   ]
  },
  {
   "cell_type": "markdown",
   "metadata": {},
   "source": [
    "## Dummifying"
   ]
  },
  {
   "cell_type": "code",
   "execution_count": null,
   "metadata": {
    "collapsed": true
   },
   "outputs": [],
   "source": [
    "def dummify(df, column):\n",
    "    # from Darren's linear regression slides\n",
    "    print '{} is your baseline'.format(sorted(df[column].unique())[-1])\n",
    "    dummy = pd.get_dummies(df[column]).rename(columns=lambda x: column+'_'+str(x)).iloc[:,0:len(df[column].unique())-1]\n",
    "    df = df.drop(column,axis=1) #Why not inplace? because if we do inplace, it will affect the df directly\n",
    "    return pd.concat([df,dummy],axis=1)"
   ]
  },
  {
   "cell_type": "code",
   "execution_count": 17,
   "metadata": {
    "collapsed": false
   },
   "outputs": [
    {
     "name": "stdout",
     "output_type": "stream",
     "text": [
      "Zoning is your baseline\n",
      "Weights and Measures is your baseline\n",
      "PWDx is your baseline\n",
      "other is your baseline\n",
      "Twitter is your baseline\n",
      "West Roxbury is your baseline\n",
      "2467.0 is your baseline\n"
     ]
    }
   ],
   "source": [
    "df1 = dummify(df, 'TYPE')\n",
    "df2 = dummify(df1, 'REASON')\n",
    "df1 = None\n",
    "df3 = dummify(df2, 'Department')\n",
    "df2 = None\n",
    "df4 = dummify(df3, 'Property_Type')\n",
    "df3 = None\n",
    "df5 = dummify(df4, 'Source')\n",
    "df4 = None\n",
    "df6 = dummify(df5, 'neighborhood_from_zip')\n",
    "df5 = None\n",
    "df7 = dummify(df6, 'zipcode')"
   ]
  },
  {
   "cell_type": "code",
   "execution_count": 11,
   "metadata": {
    "collapsed": true
   },
   "outputs": [],
   "source": [
    "def dummify_cols_and_baselines(df, cols):\n",
    "    baseline_cols = []\n",
    "    \n",
    "    for i, column in enumerate(cols):\n",
    "        baseline = sorted(df[column].unique())[-1]\n",
    "        print baseline, 'is baseline', i, len(cols)\n",
    "        baseline_cols += [baseline]\n",
    "        dummy = pd.get_dummies(df[column]).rename(columns=lambda x: column+'_'+str(x)).iloc[:,0:len(df[column].unique())-1]\n",
    "        df = df.drop(column, axis=1) #Why not inplace? because if we do inplace, it will affect the df directly\n",
    "        df = pd.concat([df, dummy], axis=1)\n",
    "        \n",
    "    return df, baseline_cols"
   ]
  },
  {
   "cell_type": "code",
   "execution_count": 14,
   "metadata": {
    "collapsed": false
   },
   "outputs": [
    {
     "data": {
      "text/plain": [
       "Index([u'TYPE', u'Property_Type', u'Source'], dtype='object')"
      ]
     },
     "execution_count": 14,
     "metadata": {},
     "output_type": "execute_result"
    }
   ],
   "source": [
    "cols_to_dummify = df.dtypes[df.dtypes == object].index\n",
    "cols_to_dummify"
   ]
  },
  {
   "cell_type": "code",
   "execution_count": 15,
   "metadata": {
    "collapsed": false
   },
   "outputs": [
    {
     "name": "stdout",
     "output_type": "stream",
     "text": [
      "Zoning is baseline 0 3\n",
      "other is baseline 1 3\n",
      "Twitter is baseline 2 3\n"
     ]
    }
   ],
   "source": [
    "df7, baseline_cols = dummify_cols_and_baselines(df, cols_to_dummify)"
   ]
  },
  {
   "cell_type": "code",
   "execution_count": 18,
   "metadata": {
    "collapsed": false
   },
   "outputs": [
    {
     "data": {
      "text/plain": [
       "(678607, 213)"
      ]
     },
     "execution_count": 18,
     "metadata": {},
     "output_type": "execute_result"
    }
   ],
   "source": [
    "df7.shape"
   ]
  },
  {
   "cell_type": "code",
   "execution_count": 19,
   "metadata": {
    "collapsed": false
   },
   "outputs": [
    {
     "data": {
      "text/html": [
       "<div>\n",
       "<table border=\"1\" class=\"dataframe\">\n",
       "  <thead>\n",
       "    <tr style=\"text-align: right;\">\n",
       "      <th></th>\n",
       "      <th>SubmittedPhoto</th>\n",
       "      <th>zipcode</th>\n",
       "      <th>COMPLETION_TIME</th>\n",
       "      <th>TYPE_ADA</th>\n",
       "      <th>TYPE_Abandoned Bicycle</th>\n",
       "      <th>TYPE_Abandoned Building</th>\n",
       "      <th>TYPE_Abandoned Vehicles</th>\n",
       "      <th>TYPE_Alert Boston</th>\n",
       "      <th>TYPE_Animal Found</th>\n",
       "      <th>TYPE_Animal Generic Request</th>\n",
       "      <th>...</th>\n",
       "      <th>TYPE_Working Beyond Hours</th>\n",
       "      <th>TYPE_Yardwaste Asian Longhorned Beetle Affected Area</th>\n",
       "      <th>Property_Type_Address</th>\n",
       "      <th>Property_Type_Intersection</th>\n",
       "      <th>Source_Citizens Connect App</th>\n",
       "      <th>Source_City Worker App</th>\n",
       "      <th>Source_Constituent Call</th>\n",
       "      <th>Source_Employee Generated</th>\n",
       "      <th>Source_Maximo Integration</th>\n",
       "      <th>Source_Self Service</th>\n",
       "    </tr>\n",
       "  </thead>\n",
       "  <tbody>\n",
       "    <tr>\n",
       "      <th>905425</th>\n",
       "      <td>True</td>\n",
       "      <td>2124.0</td>\n",
       "      <td>0.918333</td>\n",
       "      <td>0</td>\n",
       "      <td>0</td>\n",
       "      <td>0</td>\n",
       "      <td>0</td>\n",
       "      <td>0</td>\n",
       "      <td>0</td>\n",
       "      <td>0</td>\n",
       "      <td>...</td>\n",
       "      <td>0</td>\n",
       "      <td>0</td>\n",
       "      <td>1</td>\n",
       "      <td>0</td>\n",
       "      <td>1</td>\n",
       "      <td>0</td>\n",
       "      <td>0</td>\n",
       "      <td>0</td>\n",
       "      <td>0</td>\n",
       "      <td>0</td>\n",
       "    </tr>\n",
       "    <tr>\n",
       "      <th>905235</th>\n",
       "      <td>False</td>\n",
       "      <td>2128.0</td>\n",
       "      <td>2.325000</td>\n",
       "      <td>0</td>\n",
       "      <td>0</td>\n",
       "      <td>0</td>\n",
       "      <td>0</td>\n",
       "      <td>0</td>\n",
       "      <td>0</td>\n",
       "      <td>0</td>\n",
       "      <td>...</td>\n",
       "      <td>0</td>\n",
       "      <td>0</td>\n",
       "      <td>1</td>\n",
       "      <td>0</td>\n",
       "      <td>1</td>\n",
       "      <td>0</td>\n",
       "      <td>0</td>\n",
       "      <td>0</td>\n",
       "      <td>0</td>\n",
       "      <td>0</td>\n",
       "    </tr>\n",
       "    <tr>\n",
       "      <th>905379</th>\n",
       "      <td>False</td>\n",
       "      <td>2128.0</td>\n",
       "      <td>2.573333</td>\n",
       "      <td>0</td>\n",
       "      <td>0</td>\n",
       "      <td>0</td>\n",
       "      <td>0</td>\n",
       "      <td>0</td>\n",
       "      <td>0</td>\n",
       "      <td>0</td>\n",
       "      <td>...</td>\n",
       "      <td>0</td>\n",
       "      <td>0</td>\n",
       "      <td>1</td>\n",
       "      <td>0</td>\n",
       "      <td>1</td>\n",
       "      <td>0</td>\n",
       "      <td>0</td>\n",
       "      <td>0</td>\n",
       "      <td>0</td>\n",
       "      <td>0</td>\n",
       "    </tr>\n",
       "    <tr>\n",
       "      <th>905264</th>\n",
       "      <td>False</td>\n",
       "      <td>2124.0</td>\n",
       "      <td>1.030000</td>\n",
       "      <td>0</td>\n",
       "      <td>0</td>\n",
       "      <td>0</td>\n",
       "      <td>0</td>\n",
       "      <td>0</td>\n",
       "      <td>0</td>\n",
       "      <td>0</td>\n",
       "      <td>...</td>\n",
       "      <td>0</td>\n",
       "      <td>0</td>\n",
       "      <td>1</td>\n",
       "      <td>0</td>\n",
       "      <td>0</td>\n",
       "      <td>0</td>\n",
       "      <td>1</td>\n",
       "      <td>0</td>\n",
       "      <td>0</td>\n",
       "      <td>0</td>\n",
       "    </tr>\n",
       "    <tr>\n",
       "      <th>905447</th>\n",
       "      <td>False</td>\n",
       "      <td>2124.0</td>\n",
       "      <td>1.681944</td>\n",
       "      <td>0</td>\n",
       "      <td>0</td>\n",
       "      <td>0</td>\n",
       "      <td>0</td>\n",
       "      <td>0</td>\n",
       "      <td>0</td>\n",
       "      <td>0</td>\n",
       "      <td>...</td>\n",
       "      <td>0</td>\n",
       "      <td>0</td>\n",
       "      <td>1</td>\n",
       "      <td>0</td>\n",
       "      <td>0</td>\n",
       "      <td>0</td>\n",
       "      <td>1</td>\n",
       "      <td>0</td>\n",
       "      <td>0</td>\n",
       "      <td>0</td>\n",
       "    </tr>\n",
       "  </tbody>\n",
       "</table>\n",
       "<p>5 rows × 213 columns</p>\n",
       "</div>"
      ],
      "text/plain": [
       "       SubmittedPhoto  zipcode  COMPLETION_TIME  TYPE_ADA  \\\n",
       "905425           True   2124.0         0.918333         0   \n",
       "905235          False   2128.0         2.325000         0   \n",
       "905379          False   2128.0         2.573333         0   \n",
       "905264          False   2124.0         1.030000         0   \n",
       "905447          False   2124.0         1.681944         0   \n",
       "\n",
       "        TYPE_Abandoned Bicycle  TYPE_Abandoned Building  \\\n",
       "905425                       0                        0   \n",
       "905235                       0                        0   \n",
       "905379                       0                        0   \n",
       "905264                       0                        0   \n",
       "905447                       0                        0   \n",
       "\n",
       "        TYPE_Abandoned Vehicles  TYPE_Alert Boston  TYPE_Animal Found  \\\n",
       "905425                        0                  0                  0   \n",
       "905235                        0                  0                  0   \n",
       "905379                        0                  0                  0   \n",
       "905264                        0                  0                  0   \n",
       "905447                        0                  0                  0   \n",
       "\n",
       "        TYPE_Animal Generic Request         ...           \\\n",
       "905425                            0         ...            \n",
       "905235                            0         ...            \n",
       "905379                            0         ...            \n",
       "905264                            0         ...            \n",
       "905447                            0         ...            \n",
       "\n",
       "        TYPE_Working Beyond Hours  \\\n",
       "905425                          0   \n",
       "905235                          0   \n",
       "905379                          0   \n",
       "905264                          0   \n",
       "905447                          0   \n",
       "\n",
       "        TYPE_Yardwaste Asian Longhorned Beetle Affected Area  \\\n",
       "905425                                                  0      \n",
       "905235                                                  0      \n",
       "905379                                                  0      \n",
       "905264                                                  0      \n",
       "905447                                                  0      \n",
       "\n",
       "        Property_Type_Address  Property_Type_Intersection  \\\n",
       "905425                      1                           0   \n",
       "905235                      1                           0   \n",
       "905379                      1                           0   \n",
       "905264                      1                           0   \n",
       "905447                      1                           0   \n",
       "\n",
       "        Source_Citizens Connect App  Source_City Worker App  \\\n",
       "905425                            1                       0   \n",
       "905235                            1                       0   \n",
       "905379                            1                       0   \n",
       "905264                            0                       0   \n",
       "905447                            0                       0   \n",
       "\n",
       "        Source_Constituent Call  Source_Employee Generated  \\\n",
       "905425                        0                          0   \n",
       "905235                        0                          0   \n",
       "905379                        0                          0   \n",
       "905264                        1                          0   \n",
       "905447                        1                          0   \n",
       "\n",
       "        Source_Maximo Integration  Source_Self Service  \n",
       "905425                          0                    0  \n",
       "905235                          0                    0  \n",
       "905379                          0                    0  \n",
       "905264                          0                    0  \n",
       "905447                          0                    0  \n",
       "\n",
       "[5 rows x 213 columns]"
      ]
     },
     "execution_count": 19,
     "metadata": {},
     "output_type": "execute_result"
    }
   ],
   "source": [
    "df7.head()"
   ]
  },
  {
   "cell_type": "markdown",
   "metadata": {},
   "source": [
    "## Let's run the model"
   ]
  },
  {
   "cell_type": "code",
   "execution_count": 20,
   "metadata": {
    "collapsed": false
   },
   "outputs": [
    {
     "name": "stderr",
     "output_type": "stream",
     "text": [
      "/home/ec2-user/anaconda2/lib/python2.7/site-packages/sklearn/cross_validation.py:44: DeprecationWarning: This module was deprecated in version 0.18 in favor of the model_selection module into which all the refactored classes and functions are moved. Also note that the interface of the new CV iterators are different from that of this module. This module will be removed in 0.20.\n",
      "  \"This module will be removed in 0.20.\", DeprecationWarning)\n"
     ]
    }
   ],
   "source": [
    "from sklearn.cross_validation import train_test_split\n",
    "from sklearn.pipeline import make_pipeline\n",
    "from sklearn.model_selection import GridSearchCV\n",
    "from sklearn.linear_model import LinearRegression, LassoCV\n",
    "from sklearn.cross_validation import ShuffleSplit\n",
    "from sklearn.preprocessing import StandardScaler\n",
    "from sklearn.metrics import mean_squared_error\n"
   ]
  },
  {
   "cell_type": "markdown",
   "metadata": {},
   "source": [
    "Splitting train/test 80/20:"
   ]
  },
  {
   "cell_type": "code",
   "execution_count": 23,
   "metadata": {
    "collapsed": false
   },
   "outputs": [],
   "source": [
    "X_train, X_test, y_train, y_test = train_test_split(\n",
    "    df7.drop('COMPLETION_TIME', axis=1), \n",
    "    df7.COMPLETION_TIME, \n",
    "    test_size=0.2, \n",
    "    random_state=300\n",
    ")"
   ]
  },
  {
   "cell_type": "code",
   "execution_count": 79,
   "metadata": {
    "collapsed": false
   },
   "outputs": [],
   "source": [
    "# pipe = make_pipeline(StandardScaler(with_mean=False), LinearRegression())\n",
    "# pipe = make_pipeline(StandardScaler(with_mean=False), LassoCV(alphas=10e4))\n",
    "pipe = make_pipeline(LassoCV(verbose=100))"
   ]
  },
  {
   "cell_type": "code",
   "execution_count": 78,
   "metadata": {
    "collapsed": false
   },
   "outputs": [],
   "source": [
    "cv = ShuffleSplit(X_train.shape[0], n_iter=1, test_size=0.2, random_state=300)"
   ]
  },
  {
   "cell_type": "code",
   "execution_count": null,
   "metadata": {
    "collapsed": false
   },
   "outputs": [],
   "source": [
    "# aa = csr_matrix(X_train).tocsr()"
   ]
  },
  {
   "cell_type": "code",
   "execution_count": null,
   "metadata": {
    "collapsed": false
   },
   "outputs": [
    {
     "name": "stdout",
     "output_type": "stream",
     "text": [
      "Fitting 1 folds for each of 1 candidates, totalling 1 fits\n",
      "(array([-0.        , -0.05545308,  0.        ,  0.        ,  0.        ,\n",
      "       -0.        , -0.        , -0.        , -0.        , -0.        ,\n",
      "       -0.        ,  0.        , -0.        ,  0.        ,  0.        ,\n",
      "        0.        ,  0.        ,  0.        ,  0.        ,  0.        ,\n",
      "        0.        ,  0.        ,  0.        , -0.        , -0.        ,\n",
      "       -0.        ,  0.        ,  0.        , -0.        ,  0.        ,\n",
      "       -0.        , -0.        , -0.        ,  0.        ,  0.        ,\n",
      "        0.        , -0.        , -0.        ,  0.        ,  0.        ,\n",
      "       -0.        ,  0.        ,  0.        , -0.        , -0.        ,\n",
      "       -0.        , -0.        , -0.        , -0.        , -0.        ,\n",
      "       -0.        ,  0.        ,  0.        , -0.        , -0.        ,\n",
      "       -0.        ,  0.        ,  0.        ,  0.        ,  0.        ,\n",
      "        0.        , -0.        , -0.        ,  0.        , -0.        ,\n",
      "        0.        , -0.        ,  0.        ,  0.        , -0.        ,\n",
      "       -0.        ,  0.        , -0.        ,  0.        ,  0.        ,\n",
      "       -0.        , -0.        ,  0.        ,  0.        , -0.        ,\n",
      "        0.        ,  0.        ,  0.        , -0.        , -0.        ,\n",
      "       -0.        ,  0.        ,  0.        , -0.        ,  0.        ,\n",
      "        0.        ,  0.        , -0.        , -0.        , -0.        ,\n",
      "       -0.        , -0.        ,  0.        ,  0.        ,  0.        ,\n",
      "        0.        , -0.        , -0.        , -0.        , -0.        ,\n",
      "        0.        , -0.        , -0.        ,  0.        ,  0.        ,\n",
      "       -0.        ,  0.        ,  0.        , -0.        , -0.        ,\n",
      "       -0.        ,  0.        ,  0.        , -0.        ,  0.        ,\n",
      "        0.        ,  0.        , -0.        ,  0.        ,  0.        ,\n",
      "        0.        ,  0.        , -0.        , -0.        , -0.        ,\n",
      "        0.        , -0.        ,  0.        , -0.        ,  0.        ,\n",
      "        0.        ,  0.        , -0.        ,  0.        , -0.        ,\n",
      "       -0.        , -0.        , -0.        , -0.        , -0.        ,\n",
      "        0.        , -0.        ,  0.        ,  0.        , -0.        ,\n",
      "       -0.        , -0.        , -0.        , -0.        ,  0.        ,\n",
      "        0.        , -0.        ,  0.        ,  0.        , -0.        ,\n",
      "        0.        , -0.        ,  0.        , -0.        , -0.        ,\n",
      "       -0.        ,  0.        , -0.        ,  0.        ,  0.        ,\n",
      "        0.        , -0.        , -0.        , -0.        ,  0.        ,\n",
      "       -0.        , -0.        , -0.        ,  0.        ,  0.        ,\n",
      "       -0.        ,  0.        ,  0.        , -0.        , -0.        ,\n",
      "        0.        ,  0.        , -0.        , -0.        ,  0.        ,\n",
      "        0.        , -0.        ,  0.        , -0.        ,  0.        ,\n",
      "       -0.        , -0.        ,  0.        , -0.        , -0.        ,\n",
      "       -0.        ,  0.        ,  0.        , -0.        , -0.        ,\n",
      "       -0.        , -0.        , -0.        ,  0.        ,  0.        ,\n",
      "        0.        , -0.        ]), 0.0, 115381364.9593393, 2)\n",
      "(array([ -4.79973486e+01,  -3.86350336e-01,   0.00000000e+00,\n",
      "        -6.26089182e+01,   3.55121085e+02,  -4.03603461e+02,\n",
      "        -0.00000000e+00,  -2.79391118e+02,  -6.99402275e+02,\n",
      "        -2.40901005e+02,  -0.00000000e+00,   0.00000000e+00,\n",
      "        -2.85688205e+02,   0.00000000e+00,   2.00260933e+03,\n",
      "         3.80702571e+02,   7.91450572e+02,   0.00000000e+00,\n",
      "         8.24808211e+02,   1.81619819e+00,   7.40986702e+02,\n",
      "        -0.00000000e+00,   3.59321769e+02,  -5.71707123e+02,\n",
      "        -8.07157691e+02,  -0.00000000e+00,  -2.65436648e+00,\n",
      "         0.00000000e+00,  -0.00000000e+00,   2.17255683e+02,\n",
      "        -0.00000000e+00,  -5.12321391e+02,  -2.52441276e+02,\n",
      "         2.17599049e+02,   1.11639800e+03,   5.29127043e+02,\n",
      "        -0.00000000e+00,  -0.00000000e+00,   2.82597673e+02,\n",
      "         7.14245487e+02,  -6.39989650e+02,   6.48727182e+01,\n",
      "         8.42439612e+02,  -0.00000000e+00,  -3.69865647e+02,\n",
      "        -3.22748453e+02,  -0.00000000e+00,  -5.57495316e+02,\n",
      "        -6.04332849e+02,  -4.36303869e+02,  -4.86588382e+02,\n",
      "         5.00699797e+02,   1.04831399e+02,  -2.20658302e+02,\n",
      "        -4.68911754e+02,  -0.00000000e+00,   0.00000000e+00,\n",
      "         1.75104628e+02,   0.00000000e+00,   0.00000000e+00,\n",
      "         3.12000948e+02,  -3.93558765e+02,  -0.00000000e+00,\n",
      "         7.05356803e+02,  -7.57466795e+02,   9.68695327e+02,\n",
      "        -4.06422895e+02,   1.39513047e+03,   1.29619626e+03,\n",
      "        -0.00000000e+00,  -6.99552964e+02,   1.15723967e+03,\n",
      "        -0.00000000e+00,   1.63474496e+03,   4.25707453e+02,\n",
      "        -5.17133912e+02,  -0.00000000e+00,   1.26912941e+02,\n",
      "         2.51820050e+02,  -3.16593232e+02,   0.00000000e+00,\n",
      "         4.81353554e+03,   2.97930670e+02,  -4.00045372e+02,\n",
      "        -7.69738287e+02,  -4.13789659e+02,   0.00000000e+00,\n",
      "         0.00000000e+00,  -3.08896300e+02,   3.93404287e+02,\n",
      "         4.50118896e+03,   0.00000000e+00,  -4.10930296e+02,\n",
      "        -0.00000000e+00,  -0.00000000e+00,  -0.00000000e+00,\n",
      "        -0.00000000e+00,   0.00000000e+00,   0.00000000e+00,\n",
      "         0.00000000e+00,   8.13795586e+00,  -7.24563898e+02,\n",
      "        -6.93890140e+02,  -8.33460239e+02,  -0.00000000e+00,\n",
      "         4.32933088e+02,  -0.00000000e+00,  -0.00000000e+00,\n",
      "         1.71072127e+02,   1.70254509e+02,  -3.86741691e+02,\n",
      "         3.66258258e+03,   5.37723798e+03,  -6.89715752e+02,\n",
      "        -1.08272711e+02,  -6.15296414e+02,   3.34507002e+02,\n",
      "         6.59650253e+02,  -2.96773736e+02,   1.84626732e+03,\n",
      "         3.08312645e+02,  -0.00000000e+00,  -6.93088193e+02,\n",
      "         0.00000000e+00,   1.35318669e+03,  -0.00000000e+00,\n",
      "        -0.00000000e+00,  -6.97019127e+02,  -0.00000000e+00,\n",
      "        -4.29661233e+02,  -0.00000000e+00,  -0.00000000e+00,\n",
      "         8.22634864e+02,  -0.00000000e+00,  -1.09128443e+02,\n",
      "         0.00000000e+00,   7.25100493e+02,  -5.15110299e+02,\n",
      "         9.93536471e+02,  -5.17705518e+02,  -5.61855861e+02,\n",
      "        -2.59578644e+02,  -5.41672380e+02,  -6.03166407e+02,\n",
      "        -6.23277912e+02,   0.00000000e+00,  -1.58464045e+02,\n",
      "         4.83710388e+03,   7.98361092e+01,  -0.00000000e+00,\n",
      "        -0.00000000e+00,  -0.00000000e+00,  -6.23318042e+02,\n",
      "        -7.39322695e+02,   0.00000000e+00,   5.15332195e+02,\n",
      "        -4.45481490e+02,  -1.08034352e+01,   7.21540875e+03,\n",
      "        -4.12511813e+02,   3.33431845e+02,  -3.87094221e+02,\n",
      "         0.00000000e+00,  -0.00000000e+00,  -3.03336405e+02,\n",
      "        -6.74323890e+02,   5.47948484e+01,  -7.84876480e+02,\n",
      "         0.00000000e+00,   0.00000000e+00,   2.14569100e+02,\n",
      "        -2.77650445e+02,   0.00000000e+00,  -5.13128060e+02,\n",
      "         0.00000000e+00,  -6.12245176e+02,  -7.02153366e+02,\n",
      "        -0.00000000e+00,   5.18474754e+02,   8.61085434e+02,\n",
      "        -5.67422754e+02,   1.92609431e+03,   1.30191073e+03,\n",
      "        -0.00000000e+00,  -0.00000000e+00,   8.51211736e+02,\n",
      "        -0.00000000e+00,  -6.85672938e+02,  -6.49783156e+02,\n",
      "         3.58273580e+02,  -0.00000000e+00,  -6.75458353e+02,\n",
      "         6.92486085e+02,  -7.56937790e+02,   5.48618328e+02,\n",
      "        -0.00000000e+00,  -0.00000000e+00,   0.00000000e+00,\n",
      "        -0.00000000e+00,  -3.73289781e+02,  -5.14724126e+02,\n",
      "         7.94349763e+02,   4.80140634e+02,  -0.00000000e+00,\n",
      "        -4.12327369e+01,  -0.00000000e+00,   8.70287777e+01,\n",
      "        -0.00000000e+00,   1.77131041e+02,  -2.01253794e+02,\n",
      "         1.99268009e+02,   2.39436878e+02]), 104361736.88952637, 115381364.9593393, 375)\n",
      "[Parallel(n_jobs=1)]: Done   1 out of   1 | elapsed:    1.9s remaining:    0.0s\n",
      "(array([-0.        , -0.00787058,  0.        ,  0.        ,  0.        ,\n",
      "       -0.        , -0.        , -0.        , -0.        , -0.        ,\n",
      "       -0.        , -0.        , -0.        ,  0.        ,  0.        ,\n",
      "        0.        ,  0.        ,  0.        ,  0.        ,  0.        ,\n",
      "        0.        ,  0.        ,  0.        , -0.        , -0.        ,\n",
      "        0.        ,  0.        ,  0.        , -0.        ,  0.        ,\n",
      "       -0.        , -0.        ,  0.        ,  0.        ,  0.        ,\n",
      "        0.        ,  0.        , -0.        ,  0.        ,  0.        ,\n",
      "       -0.        ,  0.        ,  0.        , -0.        , -0.        ,\n",
      "       -0.        , -0.        , -0.        , -0.        , -0.        ,\n",
      "       -0.        ,  0.        ,  0.        , -0.        , -0.        ,\n",
      "       -0.        ,  0.        ,  0.        ,  0.        , -0.        ,\n",
      "        0.        , -0.        , -0.        ,  0.        , -0.        ,\n",
      "        0.        , -0.        ,  0.        ,  0.        , -0.        ,\n",
      "       -0.        ,  0.        , -0.        ,  0.        ,  0.        ,\n",
      "       -0.        , -0.        ,  0.        ,  0.        , -0.        ,\n",
      "       -0.        ,  0.        ,  0.        , -0.        , -0.        ,\n",
      "       -0.        ,  0.        ,  0.        , -0.        ,  0.        ,\n",
      "        0.        ,  0.        , -0.        , -0.        , -0.        ,\n",
      "       -0.        , -0.        ,  0.        ,  0.        ,  0.        ,\n",
      "        0.        , -0.        , -0.        , -0.        , -0.        ,\n",
      "        0.        , -0.        , -0.        ,  0.        ,  0.        ,\n",
      "       -0.        ,  0.        ,  0.        , -0.        , -0.        ,\n",
      "       -0.        ,  0.        ,  0.        , -0.        ,  0.        ,\n",
      "        0.        ,  0.        , -0.        , -0.        ,  0.        ,\n",
      "       -0.        , -0.        , -0.        ,  0.        , -0.        ,\n",
      "       -0.        , -0.        ,  0.        ,  0.        ,  0.        ,\n",
      "        0.        ,  0.        , -0.        ,  0.        , -0.        ,\n",
      "       -0.        , -0.        , -0.        , -0.        , -0.        ,\n",
      "        0.        , -0.        ,  0.        ,  0.        , -0.        ,\n",
      "       -0.        , -0.        , -0.        , -0.        ,  0.        ,\n",
      "        0.        , -0.        ,  0.        ,  0.        , -0.        ,\n",
      "        0.        , -0.        ,  0.        , -0.        , -0.        ,\n",
      "       -0.        ,  0.        , -0.        ,  0.        ,  0.        ,\n",
      "        0.        , -0.        ,  0.        , -0.        ,  0.        ,\n",
      "       -0.        , -0.        , -0.        ,  0.        ,  0.        ,\n",
      "       -0.        ,  0.        ,  0.        , -0.        , -0.        ,\n",
      "        0.        , -0.        , -0.        , -0.        ,  0.        ,\n",
      "        0.        , -0.        ,  0.        , -0.        ,  0.        ,\n",
      "       -0.        , -0.        ,  0.        , -0.        , -0.        ,\n",
      "       -0.        ,  0.        ,  0.        , -0.        , -0.        ,\n",
      "       -0.        , -0.        , -0.        ,  0.        ,  0.        ,\n",
      "        0.        , -0.        ]), 0.0, 114130996.19125156, 2)\n",
      "(array([ -5.59690337e+01,  -3.42875616e-01,   0.00000000e+00,\n",
      "        -6.96127988e+01,   5.71041308e+02,  -3.35845493e+02,\n",
      "        -0.00000000e+00,  -3.27826817e+02,  -6.39400627e+02,\n",
      "        -2.26583452e+02,  -0.00000000e+00,  -0.00000000e+00,\n",
      "        -2.33210233e+02,   0.00000000e+00,   7.22835509e+03,\n",
      "         4.02986259e+02,   9.32137417e+02,   0.00000000e+00,\n",
      "         1.10664508e+03,   5.24728067e+02,   7.78934059e+02,\n",
      "         0.00000000e+00,   4.07410823e+02,  -5.37477546e+02,\n",
      "        -7.69593980e+02,  -0.00000000e+00,  -0.00000000e+00,\n",
      "         4.47778909e+02,  -0.00000000e+00,   1.80123443e+02,\n",
      "        -9.47660350e+01,  -4.73374571e+02,  -1.04454578e+02,\n",
      "         2.82548638e+02,   7.27814623e+02,   3.89389533e+02,\n",
      "         0.00000000e+00,  -0.00000000e+00,   1.59775669e+02,\n",
      "         8.36093599e+02,  -5.91960476e+02,   1.80051472e+02,\n",
      "         8.09331411e+02,  -0.00000000e+00,  -3.89641769e+02,\n",
      "        -1.92912253e+02,  -0.00000000e+00,  -5.16930248e+02,\n",
      "        -5.29761894e+02,  -3.90236118e+02,  -4.03571142e+02,\n",
      "         5.47645829e+02,   3.54353058e+02,  -1.59661701e+02,\n",
      "        -4.18654443e+02,  -0.00000000e+00,   0.00000000e+00,\n",
      "         1.81511866e+02,   0.00000000e+00,  -0.00000000e+00,\n",
      "         4.39541558e+02,  -3.41815505e+02,  -0.00000000e+00,\n",
      "         6.07491511e+02,  -6.93245964e+02,   1.01988475e+03,\n",
      "        -3.27193793e+02,   1.18551657e+03,   1.08536995e+03,\n",
      "        -0.00000000e+00,  -6.43991069e+02,   2.07130478e+03,\n",
      "        -0.00000000e+00,   1.88008392e+03,   0.00000000e+00,\n",
      "        -4.94989800e+02,  -0.00000000e+00,   3.19869185e+02,\n",
      "         1.51486514e+02,  -2.49029301e+02,  -0.00000000e+00,\n",
      "         4.94890703e+03,   2.61617185e+02,  -3.58559069e+02,\n",
      "        -7.07012964e+02,  -3.67226411e+02,   0.00000000e+00,\n",
      "         0.00000000e+00,  -3.45878453e+02,   5.47422884e+02,\n",
      "         4.54281781e+03,   2.67193511e+02,  -3.86784934e+02,\n",
      "        -0.00000000e+00,  -0.00000000e+00,  -0.00000000e+00,\n",
      "        -0.00000000e+00,   0.00000000e+00,   0.00000000e+00,\n",
      "         0.00000000e+00,  -0.00000000e+00,  -6.77432951e+02,\n",
      "        -6.38624582e+02,  -7.89697906e+02,  -0.00000000e+00,\n",
      "         4.82113346e+02,  -0.00000000e+00,  -0.00000000e+00,\n",
      "         0.00000000e+00,   2.60014699e+02,  -3.37999616e+02,\n",
      "         3.23489196e+03,   5.27508544e+03,  -6.36009609e+02,\n",
      "        -8.54128037e+01,  -5.37448201e+02,   7.27502100e+02,\n",
      "         4.93239512e+02,  -1.44885350e+02,   1.65266096e+03,\n",
      "         3.04187901e+02,  -0.00000000e+00,  -6.41542717e+02,\n",
      "        -0.00000000e+00,   8.14639319e+02,  -0.00000000e+00,\n",
      "        -1.11570530e+02,  -6.45916487e+02,   0.00000000e+00,\n",
      "        -3.20261757e+02,  -0.00000000e+00,  -0.00000000e+00,\n",
      "         8.18086824e+02,   0.00000000e+00,  -1.76837845e+01,\n",
      "         0.00000000e+00,   6.60546110e+02,  -4.65963368e+02,\n",
      "         4.30561462e+02,  -4.05303956e+02,  -5.23383812e+02,\n",
      "        -1.95887788e+02,  -4.80095275e+02,  -5.45024248e+02,\n",
      "        -5.72038839e+02,   1.51073509e+02,  -0.00000000e+00,\n",
      "         5.18204682e+03,   1.29718256e+02,  -0.00000000e+00,\n",
      "        -0.00000000e+00,  -0.00000000e+00,  -5.54709191e+02,\n",
      "        -6.77627475e+02,  -0.00000000e+00,   6.15868711e+02,\n",
      "        -3.81129828e+02,   0.00000000e+00,   7.03336897e+03,\n",
      "        -3.03876449e+02,   3.97064858e+02,  -3.43569300e+02,\n",
      "         0.00000000e+00,  -3.41911196e+01,  -2.92605884e+02,\n",
      "        -6.19711464e+02,   2.06972848e+02,  -7.24508910e+02,\n",
      "         3.13815056e+01,   0.00000000e+00,   2.94233878e+02,\n",
      "        -9.48396406e+00,   9.19167223e+01,  -4.74137327e+02,\n",
      "         1.44211312e+01,  -5.84799043e+02,  -6.60938160e+02,\n",
      "        -0.00000000e+00,   5.09585845e+02,   9.83124085e+02,\n",
      "        -4.80784383e+02,   2.01719731e+03,   1.26388656e+03,\n",
      "        -0.00000000e+00,  -0.00000000e+00,   9.95372610e+02,\n",
      "        -4.58948974e+02,  -6.16242989e+02,  -5.99649511e+02,\n",
      "         4.19260306e+02,  -0.00000000e+00,  -6.15407667e+02,\n",
      "         8.16898499e+02,  -6.98108276e+02,   6.85432431e+02,\n",
      "        -0.00000000e+00,  -0.00000000e+00,  -0.00000000e+00,\n",
      "        -0.00000000e+00,  -3.83738190e+02,  -4.06868601e+02,\n",
      "         7.75464167e+02,   4.93790611e+02,  -0.00000000e+00,\n",
      "        -5.81152221e+01,  -1.59608981e+01,   6.59861546e+01,\n",
      "        -0.00000000e+00,   1.41823176e+02,  -2.85643750e+02,\n",
      "         6.23764642e+01,   2.04831217e+02]), 98243077.89758301, 114130996.19125156, 318)\n",
      "[Parallel(n_jobs=1)]: Done   2 out of   2 | elapsed:    3.7s remaining:    0.0s\n",
      "(array([-0., -0.,  0.,  0.,  0., -0., -0., -0., -0., -0., -0., -0.,  0.,\n",
      "       -0.,  0.,  0.,  0.,  0.,  0.,  0.,  0., -0.,  0., -0., -0., -0.,\n",
      "        0.,  0., -0.,  0., -0., -0.,  0.,  0.,  0.,  0.,  0., -0.,  0.,\n",
      "        0., -0.,  0.,  0., -0., -0., -0., -0., -0., -0., -0., -0.,  0.,\n",
      "        0., -0., -0.,  0.,  0.,  0.,  0., -0.,  0., -0., -0.,  0., -0.,\n",
      "        0., -0.,  0.,  0., -0., -0.,  0., -0.,  0.,  0., -0., -0.,  0.,\n",
      "        0., -0.,  0.,  0.,  0., -0., -0., -0.,  0.,  0., -0.,  0.,  0.,\n",
      "        0., -0., -0., -0., -0., -0., -0.,  0.,  0.,  0., -0., -0., -0.,\n",
      "       -0.,  0.,  0., -0.,  0.,  0., -0.,  0.,  0., -0., -0., -0.,  0.,\n",
      "        0., -0.,  0.,  0., -0., -0., -0.,  0.,  0.,  0., -0.,  0., -0.,\n",
      "        0., -0.,  0., -0.,  0.,  0.,  0., -0.,  0., -0., -0., -0., -0.,\n",
      "       -0., -0.,  0., -0.,  0.,  0., -0., -0., -0., -0., -0.,  0.,  0.,\n",
      "       -0.,  0.,  0., -0.,  0., -0.,  0., -0., -0., -0.,  0., -0.,  0.,\n",
      "        0.,  0., -0.,  0., -0.,  0., -0., -0.,  0.,  0.,  0., -0.,  0.,\n",
      "        0., -0., -0.,  0., -0., -0., -0.,  0.,  0., -0.,  0., -0.,  0.,\n",
      "       -0., -0., -0., -0., -0., -0.,  0.,  0., -0., -0., -0., -0., -0.,\n",
      "        0.,  0.,  0., -0.]), 0.0, 114642567.51056385, 1)\n",
      "(array([ -4.78333882e+01,  -1.78416073e-01,   0.00000000e+00,\n",
      "        -0.00000000e+00,   5.15916665e+02,  -3.20556689e+02,\n",
      "        -0.00000000e+00,  -2.18559379e+02,  -6.18473370e+02,\n",
      "        -1.84270542e+02,  -0.00000000e+00,  -0.00000000e+00,\n",
      "        -7.08890231e+01,  -0.00000000e+00,   7.59373602e+03,\n",
      "         4.34225098e+02,   9.00865348e+02,   0.00000000e+00,\n",
      "         8.77915120e+02,   9.89406720e+02,   9.88819917e+02,\n",
      "        -0.00000000e+00,   4.54130229e+02,  -5.18721810e+02,\n",
      "        -7.21859064e+02,  -0.00000000e+00,   4.94507684e+01,\n",
      "         1.37290789e+03,  -0.00000000e+00,   2.83567849e+02,\n",
      "        -0.00000000e+00,  -4.15587011e+02,  -7.34621709e+01,\n",
      "         2.39393044e+02,   3.36164864e+02,   3.99592460e+02,\n",
      "         0.00000000e+00,  -0.00000000e+00,   1.93145427e+02,\n",
      "         7.03598714e+02,  -5.63236904e+02,   1.48556241e+02,\n",
      "         9.28721321e+02,  -0.00000000e+00,  -2.96066115e+02,\n",
      "        -2.57301990e+02,  -0.00000000e+00,  -4.78377315e+02,\n",
      "        -5.17293914e+02,  -3.24706253e+02,  -3.71916335e+02,\n",
      "         6.04935501e+02,   3.85427623e+02,  -1.50045281e+02,\n",
      "        -3.87497876e+02,   0.00000000e+00,   0.00000000e+00,\n",
      "         9.20657789e+01,   0.00000000e+00,  -0.00000000e+00,\n",
      "         4.00549573e+02,  -2.42272949e+02,  -0.00000000e+00,\n",
      "         9.98330089e+02,  -6.68558826e+02,   8.51747676e+02,\n",
      "        -3.02727334e+02,   1.34033448e+03,   1.13292914e+03,\n",
      "        -0.00000000e+00,  -6.20563477e+02,   2.16801481e+03,\n",
      "        -0.00000000e+00,   1.62997794e+03,   2.86916724e+02,\n",
      "        -4.54891176e+02,  -0.00000000e+00,   2.59488602e+02,\n",
      "         2.47604981e+02,  -2.43966170e+02,  -0.00000000e+00,\n",
      "         5.15568745e+03,   3.52361215e+02,  -3.18235535e+02,\n",
      "        -6.83955501e+02,  -3.59353024e+02,   0.00000000e+00,\n",
      "        -0.00000000e+00,  -2.18366291e+02,   5.02470168e+02,\n",
      "         4.51150111e+03,   0.00000000e+00,  -3.82320576e+02,\n",
      "        -0.00000000e+00,  -0.00000000e+00,  -0.00000000e+00,\n",
      "        -0.00000000e+00,  -0.00000000e+00,   0.00000000e+00,\n",
      "         2.35154223e+02,   5.67836177e+00,  -6.74913366e+02,\n",
      "        -6.12973921e+02,  -7.49752254e+02,  -0.00000000e+00,\n",
      "         0.00000000e+00,   0.00000000e+00,  -0.00000000e+00,\n",
      "         3.77275374e+02,   3.39615895e+02,  -3.44170318e+02,\n",
      "         3.10676023e+03,   5.58030239e+03,  -6.16980461e+02,\n",
      "        -9.39225323e+01,  -5.45360572e+02,   4.55752671e+02,\n",
      "         5.12040362e+02,  -1.94761685e+02,   1.66564785e+03,\n",
      "         2.16500267e+02,  -0.00000000e+00,  -6.23390193e+02,\n",
      "         0.00000000e+00,   1.76962960e+03,   0.00000000e+00,\n",
      "        -0.00000000e+00,  -6.23125323e+02,   0.00000000e+00,\n",
      "        -3.23583502e+02,  -0.00000000e+00,  -0.00000000e+00,\n",
      "         8.00597335e+02,  -0.00000000e+00,  -0.00000000e+00,\n",
      "        -0.00000000e+00,   7.36692814e+02,  -4.60551666e+02,\n",
      "         6.84926352e+02,  -3.62456881e+02,  -5.09669140e+02,\n",
      "        -1.71246416e+02,  -4.58823596e+02,  -5.12259734e+02,\n",
      "        -5.49360368e+02,   1.29029881e+02,  -0.00000000e+00,\n",
      "         4.77487274e+03,   1.71132596e+02,  -0.00000000e+00,\n",
      "        -0.00000000e+00,  -0.00000000e+00,  -5.33869965e+02,\n",
      "        -6.56667458e+02,  -0.00000000e+00,   4.94011731e+02,\n",
      "        -3.15679778e+02,  -4.94419486e+01,   7.13476358e+03,\n",
      "        -3.05789735e+02,   4.27541244e+02,  -3.24989721e+02,\n",
      "         0.00000000e+00,  -0.00000000e+00,  -2.30190133e+02,\n",
      "        -5.93623695e+02,   3.81245780e+02,  -6.99973089e+02,\n",
      "        -0.00000000e+00,   0.00000000e+00,   3.33601006e+02,\n",
      "        -3.82726427e+01,   1.15143556e+02,  -4.35056310e+02,\n",
      "         4.14481017e+02,  -5.48928062e+02,  -6.32279864e+02,\n",
      "         0.00000000e+00,   6.97452371e+02,   8.91285441e+02,\n",
      "        -4.44876979e+02,   2.06132398e+03,   1.63554952e+03,\n",
      "        -0.00000000e+00,  -0.00000000e+00,   9.84022252e+02,\n",
      "        -7.81606744e+01,  -5.73179010e+02,  -5.79616237e+02,\n",
      "         4.37970221e+02,   0.00000000e+00,  -5.92935083e+02,\n",
      "         5.34649308e+02,  -6.71900219e+02,   6.73801013e+02,\n",
      "        -0.00000000e+00,  -0.00000000e+00,  -0.00000000e+00,\n",
      "        -0.00000000e+00,  -4.42938869e+02,  -4.00260538e+02,\n",
      "         7.88946902e+02,   4.36894843e+02,  -0.00000000e+00,\n",
      "        -4.42543812e+01,   5.53083770e+00,   6.57907540e+01,\n",
      "        -0.00000000e+00,   1.43735404e+02,  -2.57584112e+02,\n",
      "         7.12588866e+01,   2.10837801e+02]), 88505276.61413574, 114642567.51056385, 258)\n",
      "[Parallel(n_jobs=1)]: Done   3 out of   3 | elapsed:    5.5s remaining:    0.0s\n",
      "[Parallel(n_jobs=1)]: Done   3 out of   3 | elapsed:    5.5s finished\n"
     ]
    },
    {
     "name": "stderr",
     "output_type": "stream",
     "text": [
      "[Parallel(n_jobs=-1)]: Done   1 out of   1 | elapsed:   33.6s finished\n"
     ]
    },
    {
     "name": "stdout",
     "output_type": "stream",
     "text": [
      "(array([ -0.       ,  -0.       ,   0.       ,  -0.       ,   0.       ,\n",
      "        -0.       ,  -0.       ,  -0.       ,  -0.       ,  -0.       ,\n",
      "        -0.       ,  -0.       ,  -0.       ,   0.       ,   0.       ,\n",
      "         0.       ,   0.       ,   0.       ,   0.       ,   0.       ,\n",
      "         0.       ,   0.       ,   0.       ,  -0.       ,  -0.       ,\n",
      "        -0.       ,   0.       ,   0.       ,  -0.       ,   0.       ,\n",
      "        -0.       ,  -0.       ,   0.       ,   0.       ,   0.       ,\n",
      "         0.       ,   0.       ,  -0.       ,   0.       ,   0.       ,\n",
      "        -0.       ,   0.       ,   0.       ,  -0.       ,  -0.       ,\n",
      "        -0.       ,  -0.       ,  -0.       ,  -0.       ,  -0.       ,\n",
      "        -0.       ,   0.       ,   0.       ,  -0.       ,  -0.       ,\n",
      "        -0.       ,   0.       ,   0.       ,  -0.       ,   0.       ,\n",
      "         0.       ,  -0.       ,  -0.       ,   0.       ,  -0.       ,\n",
      "         0.       ,  -0.       ,   0.       ,   0.       ,  -0.       ,\n",
      "        -0.       ,   0.       ,  -0.       ,   0.       ,   0.       ,\n",
      "        -0.       ,  -0.       ,   0.       ,   0.       ,  -0.       ,\n",
      "        -0.       ,   0.       ,   0.       ,  -0.       ,  -0.       ,\n",
      "        -0.       ,   0.       ,  -0.       ,  -0.       ,   0.       ,\n",
      "         0.       ,   0.       ,  -0.       ,  -0.       ,  -0.       ,\n",
      "        -0.       ,  -0.       ,   0.       ,   0.       ,   0.       ,\n",
      "         0.       ,  -0.       ,  -0.       ,  -0.       ,  -0.       ,\n",
      "         0.       ,  -0.       ,  -0.       ,   0.       ,   0.       ,\n",
      "        -0.       ,   0.       ,   0.       ,  -0.       ,  -0.       ,\n",
      "        -0.       ,   0.       ,   0.       ,  -0.       ,   0.       ,\n",
      "         0.       ,   0.       ,  -0.       ,   0.       ,   0.       ,\n",
      "         0.       ,   0.       ,  -0.       ,   0.       ,  -0.       ,\n",
      "        -0.       ,  -0.       ,   0.       ,   0.       ,   0.       ,\n",
      "         0.       ,   0.       ,  -0.       ,   0.       ,  -0.       ,\n",
      "        -0.       ,  -0.       ,  -0.       ,  -0.       ,  -0.       ,\n",
      "         0.       ,  -0.       ,   0.       ,   0.       ,  -0.       ,\n",
      "        -0.       ,  -0.       ,  -0.       ,  -0.       ,   0.       ,\n",
      "         0.       ,  -0.       ,   0.       ,  77.6300853,  -0.       ,\n",
      "         0.       ,  -0.       ,   0.       ,  -0.       ,  -0.       ,\n",
      "        -0.       ,   0.       ,  -0.       ,   0.       ,   0.       ,\n",
      "         0.       ,  -0.       ,   0.       ,  -0.       ,   0.       ,\n",
      "        -0.       ,  -0.       ,  -0.       ,   0.       ,   0.       ,\n",
      "        -0.       ,   0.       ,   0.       ,  -0.       ,  -0.       ,\n",
      "         0.       ,  -0.       ,  -0.       ,  -0.       ,   0.       ,\n",
      "         0.       ,  -0.       ,   0.       ,  -0.       ,   0.       ,\n",
      "        -0.       ,  -0.       ,   0.       ,  -0.       ,  -0.       ,\n",
      "        -0.       ,   0.       ,   0.       ,  -0.       ,  -0.       ,\n",
      "        -0.       ,  -0.       ,  -0.       ,   0.       ,   0.       ,\n",
      "         0.       ,  -0.       ]), 0.000244140625, 145166011.25298277, 2)\n",
      "(array([ -5.23942811e+01,  -2.30804187e-01,   0.00000000e+00,\n",
      "        -1.25005946e+02,   4.47956630e+02,  -3.78159311e+02,\n",
      "        -0.00000000e+00,  -3.24386849e+02,  -6.81856954e+02,\n",
      "        -3.25481808e+02,  -0.00000000e+00,  -0.00000000e+00,\n",
      "        -2.29680069e+02,   0.00000000e+00,   7.09841803e+03,\n",
      "         5.45337941e+02,   7.19101462e+02,   0.00000000e+00,\n",
      "         8.54071826e+02,   5.78363955e+02,   8.63549264e+02,\n",
      "         0.00000000e+00,   3.69009070e+02,  -5.64508737e+02,\n",
      "        -8.01376788e+02,  -0.00000000e+00,   0.00000000e+00,\n",
      "         9.86860942e+02,  -0.00000000e+00,   1.29466767e+02,\n",
      "        -0.00000000e+00,  -4.75628156e+02,  -2.01978757e+02,\n",
      "         2.59131835e+02,   8.84654069e+02,   3.74061718e+02,\n",
      "         0.00000000e+00,  -0.00000000e+00,   3.43001406e+02,\n",
      "         7.32812634e+02,  -6.12569167e+02,   7.61765977e+01,\n",
      "         8.41649934e+02,  -0.00000000e+00,  -3.70957806e+02,\n",
      "        -2.96024876e+02,  -0.00000000e+00,  -5.51075220e+02,\n",
      "        -5.64343508e+02,  -3.78553374e+02,  -4.65422496e+02,\n",
      "         5.81440565e+02,   2.42940706e+02,  -2.02267753e+02,\n",
      "        -4.60164365e+02,  -0.00000000e+00,   0.00000000e+00,\n",
      "         1.69803261e+02,  -0.00000000e+00,   0.00000000e+00,\n",
      "         3.80302371e+02,  -3.95290559e+02,  -0.00000000e+00,\n",
      "         6.40658494e+02,  -7.31265110e+02,   1.01992132e+03,\n",
      "        -3.19192589e+02,   1.02984681e+03,   1.02841516e+03,\n",
      "        -0.00000000e+00,  -6.73736083e+02,   1.69649691e+03,\n",
      "        -0.00000000e+00,   1.84280867e+03,   6.90478665e+02,\n",
      "        -4.96117842e+02,  -0.00000000e+00,   2.69468386e+02,\n",
      "         4.00470658e+01,  -2.96769599e+02,  -0.00000000e+00,\n",
      "         4.86708262e+03,   2.74535237e+02,  -3.67256267e+02,\n",
      "        -7.39611992e+02,  -4.01512294e+02,  -0.00000000e+00,\n",
      "        -0.00000000e+00,  -3.42062746e+02,   4.90809785e+02,\n",
      "         4.48053957e+03,   0.00000000e+00,  -4.14222440e+02,\n",
      "        -0.00000000e+00,  -0.00000000e+00,  -0.00000000e+00,\n",
      "        -0.00000000e+00,   0.00000000e+00,   2.43595294e+01,\n",
      "         1.82975862e+01,   0.00000000e+00,  -7.04735591e+02,\n",
      "        -6.72971487e+02,  -8.24541027e+02,  -0.00000000e+00,\n",
      "         2.28337221e+02,  -0.00000000e+00,  -0.00000000e+00,\n",
      "         0.00000000e+00,   2.47137167e+02,  -3.86513818e+02,\n",
      "         3.46922612e+03,   5.46474910e+03,  -6.66709089e+02,\n",
      "        -1.30131717e+02,  -5.76979451e+02,   4.22741339e+02,\n",
      "         5.35760191e+02,  -2.83503378e+02,   1.58324178e+03,\n",
      "         2.33893264e+02,  -0.00000000e+00,  -6.86575824e+02,\n",
      "         0.00000000e+00,   1.13468657e+03,   0.00000000e+00,\n",
      "        -2.42987677e+01,  -6.74182555e+02,   0.00000000e+00,\n",
      "        -4.03776075e+02,  -0.00000000e+00,  -0.00000000e+00,\n",
      "         8.45463014e+02,   0.00000000e+00,  -5.77567635e+01,\n",
      "         0.00000000e+00,   6.10599651e+02,  -5.20559318e+02,\n",
      "         8.37921807e+02,  -4.01903255e+02,  -5.37732238e+02,\n",
      "        -2.30309400e+02,  -5.09969143e+02,  -5.69940343e+02,\n",
      "        -6.04265801e+02,   2.83229519e+01,  -5.26806362e+01,\n",
      "         5.41790877e+03,   9.29170625e+01,  -0.00000000e+00,\n",
      "        -0.00000000e+00,  -0.00000000e+00,  -5.94667570e+02,\n",
      "        -7.01932947e+02,  -0.00000000e+00,   5.21892152e+02,\n",
      "        -4.75565604e+02,  -9.08694756e+01,   7.03687220e+03,\n",
      "        -3.87343680e+02,   4.01597647e+02,  -3.71769142e+02,\n",
      "         0.00000000e+00,  -0.00000000e+00,  -3.11360267e+02,\n",
      "        -6.52535484e+02,   1.32472482e+02,  -7.54644048e+02,\n",
      "         0.00000000e+00,   0.00000000e+00,   2.26940015e+02,\n",
      "        -1.77291721e+02,   4.70276715e+01,  -5.11665422e+02,\n",
      "         3.31871079e+02,  -6.09572588e+02,  -6.79456276e+02,\n",
      "        -0.00000000e+00,   6.52323825e+02,   7.40113427e+02,\n",
      "        -5.52724187e+02,   1.96043308e+03,   1.15452531e+03,\n",
      "        -0.00000000e+00,  -0.00000000e+00,   1.08491348e+03,\n",
      "        -1.90884986e+02,  -6.40293347e+02,  -6.39695864e+02,\n",
      "         3.69624520e+02,  -0.00000000e+00,  -6.49446682e+02,\n",
      "         4.26977108e+02,  -7.27343013e+02,   6.98553962e+02,\n",
      "        -0.00000000e+00,  -0.00000000e+00,  -0.00000000e+00,\n",
      "        -0.00000000e+00,  -3.75267346e+02,  -4.90009445e+02,\n",
      "         7.93349446e+02,   4.39268715e+02,  -0.00000000e+00,\n",
      "        -6.02441347e+01,  -1.74995877e+01,   6.84776210e+01,\n",
      "        -0.00000000e+00,   1.51999007e+02,  -2.25663485e+02,\n",
      "         1.22292507e+02,   2.05617927e+02]), 128949385.32446289, 145166011.25298277, 384)\n",
      "[Parallel(n_jobs=1)]: Done   1 out of   1 | elapsed:    2.3s remaining:    0.0s\n",
      "(array([-0., -0.,  0.,  0.,  0., -0., -0., -0., -0., -0., -0., -0., -0.,\n",
      "        0.,  0.,  0.,  0.,  0.,  0.,  0.,  0.,  0.,  0., -0., -0.,  0.,\n",
      "        0.,  0., -0.,  0., -0., -0.,  0.,  0.,  0.,  0., -0., -0.,  0.,\n",
      "        0., -0.,  0.,  0., -0., -0., -0., -0., -0., -0., -0., -0.,  0.,\n",
      "        0., -0., -0., -0.,  0.,  0.,  0., -0.,  0., -0., -0.,  0., -0.,\n",
      "        0., -0.,  0.,  0., -0., -0.,  0., -0.,  0.,  0., -0., -0.,  0.,\n",
      "        0., -0.,  0.,  0.,  0., -0., -0., -0.,  0.,  0., -0.,  0.,  0.,\n",
      "        0., -0., -0., -0., -0., -0.,  0.,  0.,  0.,  0., -0., -0., -0.,\n",
      "       -0.,  0.,  0., -0.,  0.,  0., -0.,  0.,  0., -0., -0., -0.,  0.,\n",
      "        0., -0.,  0.,  0., -0., -0., -0.,  0.,  0., -0., -0.,  0., -0.,\n",
      "       -0., -0.,  0., -0.,  0.,  0.,  0., -0.,  0., -0., -0., -0., -0.,\n",
      "       -0., -0.,  0., -0.,  0.,  0., -0., -0., -0., -0., -0.,  0.,  0.,\n",
      "       -0.,  0.,  0., -0.,  0., -0.,  0., -0., -0., -0.,  0., -0.,  0.,\n",
      "        0.,  0., -0.,  0., -0.,  0., -0., -0., -0.,  0.,  0., -0.,  0.,\n",
      "        0., -0., -0.,  0., -0., -0., -0.,  0.,  0., -0.,  0., -0.,  0.,\n",
      "       -0., -0., -0., -0., -0., -0.,  0.,  0., -0., -0., -0., -0., -0.,\n",
      "        0.,  0.,  0., -0.]), 0.0, 140863780.2993347, 1)\n",
      "(array([ -5.13532442e+01,  -2.31611185e-01,   0.00000000e+00,\n",
      "        -6.55972106e+01,   6.62070762e+02,  -3.80066359e+02,\n",
      "        -0.00000000e+00,  -3.54974074e+02,  -6.65023139e+02,\n",
      "        -1.93334747e+02,  -0.00000000e+00,  -0.00000000e+00,\n",
      "        -2.23049644e+02,   0.00000000e+00,   4.72552545e+03,\n",
      "         4.51508312e+02,   1.11661107e+03,   0.00000000e+00,\n",
      "         8.63639061e+02,   3.88155359e+02,   8.42253454e+02,\n",
      "         0.00000000e+00,   4.51326327e+02,  -5.64346477e+02,\n",
      "        -7.65665726e+02,  -0.00000000e+00,   2.53171570e+00,\n",
      "         6.05445737e+02,  -0.00000000e+00,   2.46269329e+02,\n",
      "        -0.00000000e+00,  -5.24936407e+02,  -9.82697445e+01,\n",
      "         2.53262180e+02,   7.24803267e+02,   3.59267338e+02,\n",
      "        -0.00000000e+00,  -0.00000000e+00,   1.97580337e+02,\n",
      "         7.41368626e+02,  -6.24748676e+02,   1.00029041e+02,\n",
      "         6.40064657e+02,  -0.00000000e+00,  -3.59278587e+02,\n",
      "        -3.08029049e+02,  -0.00000000e+00,  -5.52590142e+02,\n",
      "        -5.80853196e+02,  -4.40427494e+02,  -4.37948101e+02,\n",
      "         5.17253896e+02,   1.80255736e+02,  -2.02298140e+02,\n",
      "        -4.36494544e+02,  -0.00000000e+00,   0.00000000e+00,\n",
      "         1.31972343e+02,   0.00000000e+00,  -0.00000000e+00,\n",
      "         4.30838302e+02,  -2.95868693e+02,  -0.00000000e+00,\n",
      "         4.34321593e+02,  -7.31022608e+02,   1.08430763e+03,\n",
      "        -4.05418005e+02,   1.27360316e+03,   1.18999768e+03,\n",
      "        -2.08559860e+01,  -6.84071501e+02,   1.34797245e+03,\n",
      "        -0.00000000e+00,   2.08036478e+03,   2.78654674e+02,\n",
      "        -5.06027472e+02,  -0.00000000e+00,   2.19154518e+02,\n",
      "         2.23031133e+02,  -3.04944893e+02,  -0.00000000e+00,\n",
      "         5.15086443e+03,   1.99131695e+02,  -3.78991050e+02,\n",
      "        -7.47073065e+02,  -3.99879878e+02,   0.00000000e+00,\n",
      "         0.00000000e+00,  -3.12562413e+02,   4.55231107e+02,\n",
      "         4.46614846e+03,   0.00000000e+00,  -4.06966124e+02,\n",
      "        -0.00000000e+00,  -0.00000000e+00,  -0.00000000e+00,\n",
      "        -0.00000000e+00,   0.00000000e+00,  -0.00000000e+00,\n",
      "         0.00000000e+00,  -0.00000000e+00,  -7.24408890e+02,\n",
      "        -6.67920123e+02,  -7.88707493e+02,  -0.00000000e+00,\n",
      "         6.04032950e+02,   0.00000000e+00,  -0.00000000e+00,\n",
      "         2.56368585e+02,   1.94713791e+02,  -3.75222594e+02,\n",
      "         3.18531333e+03,   5.10372526e+03,  -6.77354500e+02,\n",
      "        -1.71176697e+02,  -5.60533433e+02,   3.34191021e+02,\n",
      "         4.75292372e+02,  -0.00000000e+00,   1.60523585e+03,\n",
      "         1.94391058e+02,  -0.00000000e+00,  -6.76333910e+02,\n",
      "        -0.00000000e+00,   1.07356534e+03,   0.00000000e+00,\n",
      "        -1.86229166e+02,  -6.80729407e+02,  -0.00000000e+00,\n",
      "        -3.77775400e+02,  -0.00000000e+00,  -0.00000000e+00,\n",
      "         5.86582193e+02,  -0.00000000e+00,  -1.75384442e+02,\n",
      "         0.00000000e+00,   6.41762677e+02,  -5.03176278e+02,\n",
      "         0.00000000e+00,  -3.98058709e+02,  -5.55319696e+02,\n",
      "        -2.30095520e+02,  -5.18457493e+02,  -5.60381409e+02,\n",
      "        -6.06372071e+02,   1.18655463e+02,  -1.15577309e+02,\n",
      "         5.15291535e+03,   9.90477812e+01,  -0.00000000e+00,\n",
      "        -0.00000000e+00,  -0.00000000e+00,  -5.95320169e+02,\n",
      "        -7.27497102e+02,   0.00000000e+00,   0.00000000e+00,\n",
      "        -3.88100987e+02,  -0.00000000e+00,   6.87660398e+03,\n",
      "        -3.62787020e+02,   3.48053104e+02,  -3.71021655e+02,\n",
      "         0.00000000e+00,  -0.00000000e+00,  -2.61033786e+02,\n",
      "        -6.51074788e+02,   1.01013572e+02,  -7.66621044e+02,\n",
      "         0.00000000e+00,   0.00000000e+00,   2.46593393e+02,\n",
      "        -6.63715857e+01,   7.29153434e+01,  -5.18994050e+02,\n",
      "         0.00000000e+00,  -5.97306621e+02,  -6.76095699e+02,\n",
      "        -0.00000000e+00,   5.60548040e+02,   9.37820105e+02,\n",
      "        -5.31156933e+02,   1.98435610e+03,   1.74997740e+03,\n",
      "        -0.00000000e+00,  -0.00000000e+00,   8.37837475e+02,\n",
      "        -1.11243353e+02,  -6.60359291e+02,  -6.44498531e+02,\n",
      "         4.15302402e+02,  -0.00000000e+00,  -6.59078956e+02,\n",
      "         7.44570573e+02,  -7.32072564e+02,   5.06539604e+02,\n",
      "        -0.00000000e+00,  -0.00000000e+00,  -0.00000000e+00,\n",
      "        -0.00000000e+00,  -3.87277453e+02,  -4.18197430e+02,\n",
      "         7.52421196e+02,   4.25005265e+02,  -0.00000000e+00,\n",
      "        -2.21493491e+01,   1.19778990e+01,   2.95165814e+01,\n",
      "        -5.32492458e+01,   1.00808996e+02,  -3.02112674e+02,\n",
      "         2.38088536e+01,   1.79411105e+02]), 140605321.10375977, 140863780.2993347, 894)\n",
      "[Parallel(n_jobs=1)]: Done   2 out of   2 | elapsed:    4.5s remaining:    0.0s\n",
      "(array([  -0.        ,   -0.        ,    0.        ,    0.        ,\n",
      "          0.        ,   -0.        ,   -0.        ,   -0.        ,\n",
      "         -0.        ,   -0.        ,   -0.        ,   -0.        ,\n",
      "         -0.        ,    0.        ,    0.        ,    0.        ,\n",
      "          0.        ,    0.        ,    0.        ,    0.        ,\n",
      "          0.        ,    0.        ,    0.        ,   -0.        ,\n",
      "         -0.        ,   -0.        ,    0.        ,    0.        ,\n",
      "         -0.        ,    0.        ,   -0.        ,   -0.        ,\n",
      "          0.        ,    0.        ,    0.        ,    0.        ,\n",
      "          0.        ,   -0.        ,    0.        ,    0.        ,\n",
      "         -0.        ,    0.        ,    0.        ,   -0.        ,\n",
      "         -0.        ,   -0.        ,   -0.        ,   -0.        ,\n",
      "         -0.        ,   -0.        ,   -0.        ,    0.        ,\n",
      "          0.        ,   -0.        ,   -0.        ,    0.        ,\n",
      "          0.        ,    0.        ,   -0.        ,   -0.        ,\n",
      "          0.        ,   -0.        ,   -0.        ,    0.        ,\n",
      "         -0.        ,    0.        ,   -0.        ,    0.        ,\n",
      "          0.        ,   -0.        ,   -0.        ,    0.        ,\n",
      "         -0.        ,    0.        ,    0.        ,   -0.        ,\n",
      "         -0.        ,    0.        ,    0.        ,   -0.        ,\n",
      "          0.        ,    0.        ,    0.        ,   -0.        ,\n",
      "         -0.        ,   -0.        ,    0.        ,    0.        ,\n",
      "         -0.        ,    0.        ,    0.        ,    0.        ,\n",
      "         -0.        ,   -0.        ,   -0.        ,   -0.        ,\n",
      "         -0.        ,   -0.        ,    0.        ,   -0.        ,\n",
      "          0.        ,   -0.        ,   -0.        ,   -0.        ,\n",
      "         -0.        ,    0.        ,   -0.        ,   -0.        ,\n",
      "          0.        ,    0.        ,   -0.        ,    0.        ,\n",
      "          0.        ,   -0.        ,   -0.        ,   -0.        ,\n",
      "          0.        ,    0.        ,   -0.        ,    0.        ,\n",
      "          0.        ,    0.        ,   -0.        ,    0.        ,\n",
      "          0.        ,   -0.        ,    0.        ,   -0.        ,\n",
      "          0.        ,   -0.        ,   -0.        ,   -0.        ,\n",
      "          0.        ,   -0.        ,    0.        ,    0.        ,\n",
      "          0.        ,   -0.        ,    0.        ,   -0.        ,\n",
      "         -0.        ,   -0.        ,   -0.        ,   -0.        ,\n",
      "         -0.        ,    0.        ,   -0.        ,    0.        ,\n",
      "          0.        ,   -0.        ,   -0.        ,   -0.        ,\n",
      "         -0.        ,   -0.        ,    0.        ,    0.        ,\n",
      "         -0.        ,    0.        ,  133.62217857,   -0.        ,\n",
      "          0.        ,   -0.        ,    0.        ,   -0.        ,\n",
      "         -0.        ,   -0.        ,    0.        ,   -0.        ,\n",
      "          0.        ,    0.        ,    0.        ,   -0.        ,\n",
      "         -0.        ,   -0.        ,    0.        ,   -0.        ,\n",
      "         -0.        ,    0.        ,    0.        ,    0.        ,\n",
      "         -0.        ,    0.        ,    0.        ,   -0.        ,\n",
      "         -0.        ,    0.        ,   -0.        ,   -0.        ,\n",
      "         -0.        ,    0.        ,    0.        ,   -0.        ,\n",
      "          0.        ,   -0.        ,    0.        ,   -0.        ,\n",
      "         -0.        ,    0.        ,   -0.        ,   -0.        ,\n",
      "         -0.        ,    0.        ,    0.        ,   -0.        ,\n",
      "         -0.        ,   -0.        ,   -0.        ,   -0.        ,\n",
      "          0.        ,    0.        ,    0.        ,   -0.        ]), 0.0, 145801288.9523465, 2)\n",
      "(array([ -5.17551984e+01,  -3.47869730e-01,   0.00000000e+00,\n",
      "        -4.75949800e+01,   5.12358554e+02,  -3.51448817e+02,\n",
      "        -0.00000000e+00,  -3.36880271e+02,  -6.43429286e+02,\n",
      "        -1.56438624e+02,  -0.00000000e+00,  -0.00000000e+00,\n",
      "        -2.34291087e+02,  -0.00000000e+00,   5.47582630e+03,\n",
      "         3.12361233e+02,   6.42898822e+02,   0.00000000e+00,\n",
      "         1.06365612e+03,   0.00000000e+00,   8.37397731e+02,\n",
      "        -0.00000000e+00,   4.36708345e+02,  -5.40819359e+02,\n",
      "        -7.83601968e+02,  -0.00000000e+00,  -0.00000000e+00,\n",
      "         7.10933742e+02,  -0.00000000e+00,   1.96506883e+02,\n",
      "        -0.00000000e+00,  -4.95180983e+02,  -1.17218440e+02,\n",
      "         1.80499531e+02,   1.27541609e+03,   4.20821746e+02,\n",
      "         0.00000000e+00,  -0.00000000e+00,   2.19658331e+02,\n",
      "         7.48931613e+02,  -5.99202967e+02,   9.28922772e+01,\n",
      "         8.94635024e+02,  -0.00000000e+00,  -3.09712490e+02,\n",
      "        -2.75783167e+02,  -0.00000000e+00,  -5.22319901e+02,\n",
      "        -5.57125830e+02,  -4.09399484e+02,  -4.23819306e+02,\n",
      "         5.25758624e+02,   2.52855596e+02,  -1.77509522e+02,\n",
      "        -4.10316411e+02,   0.00000000e+00,   0.00000000e+00,\n",
      "         1.39841337e+02,  -0.00000000e+00,  -0.00000000e+00,\n",
      "         2.77357578e+02,  -3.45309557e+02,  -0.00000000e+00,\n",
      "         8.14442678e+02,  -7.07547291e+02,   1.02094920e+03,\n",
      "        -3.19150999e+02,   1.32681184e+03,   1.29640926e+03,\n",
      "        -0.00000000e+00,  -6.55298133e+02,   1.90441502e+03,\n",
      "        -0.00000000e+00,   1.52772969e+03,   5.31809540e+02,\n",
      "        -5.61217198e+02,  -0.00000000e+00,   3.33377926e+02,\n",
      "         2.61698627e+02,  -3.16281354e+02,  -0.00000000e+00,\n",
      "         4.61807020e+03,   3.08210350e+02,  -3.71274500e+02,\n",
      "        -7.18505342e+02,  -3.87426190e+02,   0.00000000e+00,\n",
      "         0.00000000e+00,  -3.28212868e+02,   5.24699715e+02,\n",
      "         4.51878559e+03,   0.00000000e+00,  -3.95147701e+02,\n",
      "        -0.00000000e+00,  -0.00000000e+00,  -0.00000000e+00,\n",
      "        -0.00000000e+00,  -0.00000000e+00,   0.00000000e+00,\n",
      "        -0.00000000e+00,   0.00000000e+00,  -6.98941645e+02,\n",
      "        -6.47908781e+02,  -8.06816263e+02,  -0.00000000e+00,\n",
      "         6.06273042e+02,  -0.00000000e+00,  -0.00000000e+00,\n",
      "         4.43646471e+02,   2.34088693e+02,  -3.95874259e+02,\n",
      "         4.00194996e+03,   5.42837217e+03,  -6.48007305e+02,\n",
      "        -1.49173997e+02,  -5.26301353e+02,   5.44113007e+02,\n",
      "         6.20824130e+02,  -3.95197828e+01,   1.84881400e+03,\n",
      "         2.05153945e+02,  -0.00000000e+00,  -6.52882266e+02,\n",
      "         0.00000000e+00,   1.31133907e+03,  -0.00000000e+00,\n",
      "        -0.00000000e+00,  -6.53952157e+02,   0.00000000e+00,\n",
      "        -3.68967787e+02,  -0.00000000e+00,  -0.00000000e+00,\n",
      "         7.51625947e+02,  -0.00000000e+00,  -5.34110797e+00,\n",
      "         0.00000000e+00,   7.02578544e+02,  -4.77081254e+02,\n",
      "         8.51938557e+02,  -4.00067240e+02,  -5.22426625e+02,\n",
      "        -2.09770688e+02,  -4.89405782e+02,  -5.63212531e+02,\n",
      "        -5.80508596e+02,   1.03268468e+02,  -0.00000000e+00,\n",
      "         5.07530875e+03,   1.35247529e+02,  -0.00000000e+00,\n",
      "        -0.00000000e+00,  -0.00000000e+00,  -5.71259496e+02,\n",
      "        -6.79443170e+02,  -0.00000000e+00,   7.94440498e+02,\n",
      "        -3.32288002e+02,   0.00000000e+00,   7.23252872e+03,\n",
      "        -3.53102165e+02,   4.09229256e+02,  -3.55771041e+02,\n",
      "         0.00000000e+00,  -1.26895135e+01,  -3.08785153e+02,\n",
      "        -6.25309628e+02,   2.51363930e+02,  -7.32397498e+02,\n",
      "         0.00000000e+00,   0.00000000e+00,   2.84150577e+02,\n",
      "        -1.07301739e+02,   9.08588255e+00,  -4.90522815e+02,\n",
      "         0.00000000e+00,  -5.79269212e+02,  -6.60379853e+02,\n",
      "         0.00000000e+00,   5.87037500e+02,   8.61268092e+02,\n",
      "        -4.83984288e+02,   1.94711745e+03,   1.51439902e+03,\n",
      "        -0.00000000e+00,  -0.00000000e+00,   1.07851428e+03,\n",
      "        -4.41772590e+02,  -6.20525748e+02,  -6.10068467e+02,\n",
      "         4.39049815e+02,   0.00000000e+00,  -6.29143319e+02,\n",
      "         7.39468992e+02,  -7.05915615e+02,   5.99121686e+02,\n",
      "        -0.00000000e+00,  -0.00000000e+00,  -0.00000000e+00,\n",
      "        -0.00000000e+00,  -4.31113404e+02,  -3.65078799e+02,\n",
      "         7.18818361e+02,   7.16329031e+02,  -0.00000000e+00,\n",
      "        -6.35523819e+01,  -2.33040638e+01,   7.54889685e+01,\n",
      "        -0.00000000e+00,   1.54406722e+02,  -2.35388999e+02,\n",
      "         1.24011627e+02,   2.08655813e+02]), 129281984.79626465, 145801288.9523465, 575)\n",
      "[Parallel(n_jobs=1)]: Done   3 out of   3 | elapsed:    6.8s remaining:    0.0s\n",
      "[Parallel(n_jobs=1)]: Done   3 out of   3 | elapsed:    6.8s finished\n"
     ]
    }
   ],
   "source": [
    "params = {'lassocv__n_alphas': [2]}\n",
    "model = GridSearchCV(pipe, param_grid=params, n_jobs=-1, cv=cv, verbose=True)\n",
    "model.fit(X_train, y_train);"
   ]
  },
  {
   "cell_type": "markdown",
   "metadata": {},
   "source": [
    "Are we in a high bias or high variance situation?"
   ]
  },
  {
   "cell_type": "code",
   "execution_count": 27,
   "metadata": {
    "collapsed": false
   },
   "outputs": [
    {
     "data": {
      "text/html": [
       "<div>\n",
       "<table border=\"1\" class=\"dataframe\">\n",
       "  <thead>\n",
       "    <tr style=\"text-align: right;\">\n",
       "      <th></th>\n",
       "      <th>0</th>\n",
       "    </tr>\n",
       "  </thead>\n",
       "  <tbody>\n",
       "    <tr>\n",
       "      <th>mean_fit_time</th>\n",
       "      <td>39.5206</td>\n",
       "    </tr>\n",
       "    <tr>\n",
       "      <th>mean_score_time</th>\n",
       "      <td>1.24574</td>\n",
       "    </tr>\n",
       "    <tr>\n",
       "      <th>mean_test_score</th>\n",
       "      <td>0.266576</td>\n",
       "    </tr>\n",
       "    <tr>\n",
       "      <th>mean_train_score</th>\n",
       "      <td>0.280809</td>\n",
       "    </tr>\n",
       "    <tr>\n",
       "      <th>params</th>\n",
       "      <td>{}</td>\n",
       "    </tr>\n",
       "    <tr>\n",
       "      <th>rank_test_score</th>\n",
       "      <td>1</td>\n",
       "    </tr>\n",
       "    <tr>\n",
       "      <th>split0_test_score</th>\n",
       "      <td>0.266576</td>\n",
       "    </tr>\n",
       "    <tr>\n",
       "      <th>split0_train_score</th>\n",
       "      <td>0.280809</td>\n",
       "    </tr>\n",
       "    <tr>\n",
       "      <th>std_fit_time</th>\n",
       "      <td>0</td>\n",
       "    </tr>\n",
       "    <tr>\n",
       "      <th>std_score_time</th>\n",
       "      <td>0</td>\n",
       "    </tr>\n",
       "    <tr>\n",
       "      <th>std_test_score</th>\n",
       "      <td>0</td>\n",
       "    </tr>\n",
       "    <tr>\n",
       "      <th>std_train_score</th>\n",
       "      <td>0</td>\n",
       "    </tr>\n",
       "  </tbody>\n",
       "</table>\n",
       "</div>"
      ],
      "text/plain": [
       "                           0\n",
       "mean_fit_time        39.5206\n",
       "mean_score_time      1.24574\n",
       "mean_test_score     0.266576\n",
       "mean_train_score    0.280809\n",
       "params                    {}\n",
       "rank_test_score            1\n",
       "split0_test_score   0.266576\n",
       "split0_train_score  0.280809\n",
       "std_fit_time               0\n",
       "std_score_time             0\n",
       "std_test_score             0\n",
       "std_train_score            0"
      ]
     },
     "execution_count": 27,
     "metadata": {},
     "output_type": "execute_result"
    }
   ],
   "source": [
    "pd.DataFrame(model.cv_results_).T"
   ]
  },
  {
   "cell_type": "markdown",
   "metadata": {},
   "source": [
    "Let's look at the coefficients."
   ]
  },
  {
   "cell_type": "code",
   "execution_count": 28,
   "metadata": {
    "collapsed": false
   },
   "outputs": [
    {
     "data": {
      "text/plain": [
       "count     212.000000\n",
       "mean      191.612297\n",
       "std      1065.393105\n",
       "min      -801.359330\n",
       "25%      -338.115987\n",
       "50%        -0.000000\n",
       "75%       229.013180\n",
       "max      7050.268467\n",
       "dtype: float64"
      ]
     },
     "execution_count": 28,
     "metadata": {},
     "output_type": "execute_result"
    }
   ],
   "source": [
    "pd.Series(model.best_estimator_.steps[-1][-1].coef_).describe()"
   ]
  },
  {
   "cell_type": "markdown",
   "metadata": {},
   "source": [
    "Which are the coefs that go to 0?"
   ]
  },
  {
   "cell_type": "code",
   "execution_count": null,
   "metadata": {
    "collapsed": true
   },
   "outputs": [],
   "source": [
    "X_train.columns[model.best_estimator_.steps[-1][-1].coef_ == 0]"
   ]
  },
  {
   "cell_type": "code",
   "execution_count": 30,
   "metadata": {
    "collapsed": false
   },
   "outputs": [
    {
     "data": {
      "text/plain": [
       "0.06388135132905054"
      ]
     },
     "execution_count": 30,
     "metadata": {},
     "output_type": "execute_result"
    }
   ],
   "source": [
    "model.best_estimator_.steps[-1][-1].alpha_"
   ]
  },
  {
   "cell_type": "code",
   "execution_count": 71,
   "metadata": {
    "collapsed": false
   },
   "outputs": [
    {
     "data": {
      "text/plain": [
       "array([ 63.88135133,   0.06388135])"
      ]
     },
     "execution_count": 71,
     "metadata": {},
     "output_type": "execute_result"
    }
   ],
   "source": [
    "model.best_estimator_.steps[-1][-1].alphas_"
   ]
  },
  {
   "cell_type": "code",
   "execution_count": 32,
   "metadata": {
    "collapsed": false
   },
   "outputs": [
    {
     "data": {
      "text/plain": [
       "(212,)"
      ]
     },
     "execution_count": 32,
     "metadata": {},
     "output_type": "execute_result"
    }
   ],
   "source": [
    "model.best_estimator_.steps[-1][-1].coef_.shape"
   ]
  },
  {
   "cell_type": "code",
   "execution_count": 38,
   "metadata": {
    "collapsed": false
   },
   "outputs": [
    {
     "data": {
      "text/plain": [
       "829"
      ]
     },
     "execution_count": 38,
     "metadata": {},
     "output_type": "execute_result"
    }
   ],
   "source": [
    "model.best_estimator_.steps[-1][-1].n_iter_"
   ]
  }
 ],
 "metadata": {
  "anaconda-cloud": {},
  "kernelspec": {
   "display_name": "Python 2",
   "language": "python",
   "name": "python2"
  },
  "language_info": {
   "codemirror_mode": {
    "name": "ipython",
    "version": 2
   },
   "file_extension": ".py",
   "mimetype": "text/x-python",
   "name": "python",
   "nbconvert_exporter": "python",
   "pygments_lexer": "ipython2",
   "version": "2.7.13"
  }
 },
 "nbformat": 4,
 "nbformat_minor": 1
}
