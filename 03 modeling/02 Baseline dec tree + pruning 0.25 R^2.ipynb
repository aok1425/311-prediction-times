{
 "cells": [
  {
   "cell_type": "markdown",
   "metadata": {},
   "source": [
    "Let's try a super-simple decision tree + pruning model, to see to what extent the data is non-linear. Our RMSE for one of the folds was 1,881 and $R^2$ was 0.24, for comparison."
   ]
  },
  {
   "cell_type": "raw",
   "metadata": {},
   "source": [
    "https://github.com/zipfian/non-parametric-learners/blob/master/pair.md"
   ]
  },
  {
   "cell_type": "raw",
   "metadata": {
    "collapsed": true
   },
   "source": [
    "- non-robust to the data, I remember now\n",
    "http://scikit-learn.org/stable/modules/tree.html"
   ]
  },
  {
   "cell_type": "code",
   "execution_count": 41,
   "metadata": {
    "collapsed": false
   },
   "outputs": [],
   "source": [
    "import pandas as pd\n",
    "from sklearn.tree import DecisionTreeRegressor\n",
    "from sklearn.cross_validation import train_test_split\n",
    "from sklearn.model_selection import ShuffleSplit\n",
    "from sklearn.pipeline import make_pipeline\n",
    "from sklearn.preprocessing import LabelEncoder\n",
    "from sklearn.model_selection import GridSearchCV\n",
    "from sklearn.metrics import mean_squared_error"
   ]
  },
  {
   "cell_type": "code",
   "execution_count": 2,
   "metadata": {
    "collapsed": false
   },
   "outputs": [
    {
     "data": {
      "text/plain": [
       "(718936, 155)"
      ]
     },
     "execution_count": 2,
     "metadata": {},
     "output_type": "execute_result"
    }
   ],
   "source": [
    "df = pd.read_hdf('../data/data_till_june_2016_w_descs_and_census.h5')\n",
    "df = df.dropna(subset=['CLOSED_DT'])\n",
    "df.shape"
   ]
  },
  {
   "cell_type": "markdown",
   "metadata": {
    "collapsed": true
   },
   "source": [
    "The performance btwn CV and test sets will prolly vary widely, bc the method is very sensitive to the data itself.\n",
    "\n",
    "## Splitting the data"
   ]
  },
  {
   "cell_type": "code",
   "execution_count": 3,
   "metadata": {
    "collapsed": false
   },
   "outputs": [],
   "source": [
    "X_train, X_test, y_train, y_test = train_test_split(\n",
    "    df.drop('COMPLETION_TIME', axis=1), \n",
    "    df.COMPLETION_TIME, \n",
    "    test_size=0.2, \n",
    "    random_state=300\n",
    ")"
   ]
  },
  {
   "cell_type": "code",
   "execution_count": 4,
   "metadata": {
    "collapsed": true
   },
   "outputs": [],
   "source": [
    "ss = ShuffleSplit(n_splits=1, test_size=0.2, random_state=300)"
   ]
  },
  {
   "cell_type": "markdown",
   "metadata": {},
   "source": [
    "## Making the regressors"
   ]
  },
  {
   "cell_type": "code",
   "execution_count": 5,
   "metadata": {
    "collapsed": false
   },
   "outputs": [],
   "source": [
    "label_encoder = LabelEncoder()\n",
    "label_encoder.fit(df['TYPE']);"
   ]
  },
  {
   "cell_type": "code",
   "execution_count": 6,
   "metadata": {
    "collapsed": false
   },
   "outputs": [],
   "source": [
    "pipe = make_pipeline(DecisionTreeRegressor(max_depth=5))"
   ]
  },
  {
   "cell_type": "raw",
   "metadata": {},
   "source": [
    "Apparently LabelEncoders don't belong in a Pipeline\n",
    "https://github.com/scikit-learn/scikit-learn/issues/3112#issuecomment-53977117"
   ]
  },
  {
   "cell_type": "code",
   "execution_count": 7,
   "metadata": {
    "collapsed": false
   },
   "outputs": [
    {
     "name": "stdout",
     "output_type": "stream",
     "text": [
      "Training: 0.217100930488. Test: 0.212150795535\n"
     ]
    }
   ],
   "source": [
    "training_scores = []\n",
    "test_scores = []\n",
    "\n",
    "for CV_train_index, CV_test_index in ss.split(y_train):\n",
    "    X_CV_train = label_encoder.transform(X_train.iloc[CV_train_index]['TYPE'])[:, pd.np.newaxis]\n",
    "    X_CV_test = label_encoder.transform(X_train.iloc[CV_test_index]['TYPE'])[:, pd.np.newaxis]\n",
    "    y_CV_train = y_train.iloc[CV_train_index]\n",
    "    y_CV_test = y_train.iloc[CV_test_index]\n",
    "    \n",
    "    pipe.fit(X_CV_train, y_CV_train)\n",
    "    \n",
    "    training_score = pipe.score(X_CV_train, y_CV_train)\n",
    "    test_score = pipe.score(X_CV_test, y_CV_test)\n",
    "    \n",
    "    training_scores += [training_score]\n",
    "    test_scores += [test_score]\n",
    "    print \"Training: {}. Test: {}\".format(training_score, test_score)"
   ]
  },
  {
   "cell_type": "markdown",
   "metadata": {},
   "source": [
    "I'm predicting quite different CV scores for each fold, and perhaps better performance than Linear Regression's $R^2$ of 0.24.\n",
    "\n",
    "Funny--the error scores are all pretty similar. Not exactly sure why. Would need to investigate and think abou that more. Also, `max_depth=2` results in $R^2$ values around 11%. `max_depth=5` results in values around 21%.\n",
    "\n",
    "I should think about what would be good intuitive values.\n",
    "\n",
    "## Trying GridSearchCV"
   ]
  },
  {
   "cell_type": "code",
   "execution_count": 33,
   "metadata": {
    "collapsed": true
   },
   "outputs": [],
   "source": [
    "params = {\n",
    "    'decisiontreeregressor__splitter': ['best', 'random'],\n",
    "    'decisiontreeregressor__max_depth': pd.np.linspace(5, 100, 10, dtype=int)\n",
    "}\n",
    "\n",
    "grid_search = GridSearchCV(pipe, param_grid=params, n_jobs=-1, cv=5)"
   ]
  },
  {
   "cell_type": "code",
   "execution_count": 34,
   "metadata": {
    "collapsed": true
   },
   "outputs": [
    {
     "name": "stdout",
     "output_type": "stream",
     "text": [
      "Fitting 5 folds for each of 10 candidates, totalling 50 fits\n"
     ]
    },
    {
     "name": "stderr",
     "output_type": "stream",
     "text": [
      "[Parallel(n_jobs=-1)]: Done  42 tasks      | elapsed:    9.4s\n",
      "[Parallel(n_jobs=-1)]: Done  50 out of  50 | elapsed:   10.9s finished\n"
     ]
    },
    {
     "data": {
      "text/plain": [
       "GridSearchCV(cv=5, error_score='raise',\n",
       "       estimator=Pipeline(steps=[('decisiontreeregressor', DecisionTreeRegressor(criterion='mse', max_depth=5, max_features=None,\n",
       "           max_leaf_nodes=None, min_impurity_split=1e-07,\n",
       "           min_samples_leaf=1, min_samples_split=2,\n",
       "           min_weight_fraction_leaf=0.0, presort=False, random_state=None,\n",
       "           splitter='best'))]),\n",
       "       fit_params={}, iid=True, n_jobs=-1,\n",
       "       param_grid={'decisiontreeregressor__max_depth': array([  5,  15,  26,  36,  47,  57,  68,  78,  89, 100]), 'decisiontreeregressor__splitter': ['random']},\n",
       "       pre_dispatch='2*n_jobs', refit=True, return_train_score=True,\n",
       "       scoring=None, verbose=True)"
      ]
     },
     "execution_count": 34,
     "metadata": {},
     "output_type": "execute_result"
    }
   ],
   "source": [
    "grid_search.fit(\n",
    "    label_encoder.transform(X_train['TYPE'])[:, pd.np.newaxis], \n",
    "    y_train\n",
    ")"
   ]
  },
  {
   "cell_type": "code",
   "execution_count": 35,
   "metadata": {
    "collapsed": false
   },
   "outputs": [
    {
     "data": {
      "text/plain": [
       "{'decisiontreeregressor__max_depth': 26,\n",
       " 'decisiontreeregressor__splitter': 'random'}"
      ]
     },
     "execution_count": 35,
     "metadata": {},
     "output_type": "execute_result"
    }
   ],
   "source": [
    "grid_search.best_params_"
   ]
  },
  {
   "cell_type": "markdown",
   "metadata": {},
   "source": [
    "Let's take the best-performing model and see the train, test scores to compare to the previous models."
   ]
  },
  {
   "cell_type": "code",
   "execution_count": 39,
   "metadata": {
    "collapsed": true
   },
   "outputs": [],
   "source": [
    "ss = ShuffleSplit(n_splits=5, test_size=0.2, random_state=300)\n",
    "pipe = make_pipeline(DecisionTreeRegressor(splitter='random', max_depth=26))\n",
    "# or maybe I can do grid_search.best_estimator_"
   ]
  },
  {
   "cell_type": "code",
   "execution_count": 40,
   "metadata": {
    "collapsed": false
   },
   "outputs": [
    {
     "name": "stdout",
     "output_type": "stream",
     "text": [
      "Training: 0.254834348481. Test: 0.248655835452\n",
      "Training: 0.254828274779. Test: 0.248929497224\n",
      "Training: 0.254584520211. Test: 0.249920065375\n",
      "Training: 0.254775321356. Test: 0.248635337174\n",
      "Training: 0.25436498845. Test: 0.250574475084\n"
     ]
    }
   ],
   "source": [
    "training_scores = []\n",
    "test_scores = []\n",
    "\n",
    "for CV_train_index, CV_test_index in ss.split(y_train):\n",
    "    X_CV_train = label_encoder.transform(X_train.iloc[CV_train_index]['TYPE'])[:, pd.np.newaxis]\n",
    "    X_CV_test = label_encoder.transform(X_train.iloc[CV_test_index]['TYPE'])[:, pd.np.newaxis]\n",
    "    y_CV_train = y_train.iloc[CV_train_index]\n",
    "    y_CV_test = y_train.iloc[CV_test_index]\n",
    "    \n",
    "    pipe.fit(X_CV_train, y_CV_train)\n",
    "    \n",
    "    training_score = pipe.score(X_CV_train, y_CV_train)\n",
    "    test_score = pipe.score(X_CV_test, y_CV_test)\n",
    "    \n",
    "    training_scores += [training_score]\n",
    "    test_scores += [test_score]\n",
    "    print \"Training: {}. Test: {}\".format(training_score, test_score)"
   ]
  },
  {
   "cell_type": "markdown",
   "metadata": {},
   "source": [
    "On one of the folds, both our test and training $R^2$ scores are 0.25, slightly better than Linear Regression's 0.24, and better than 0.21 from our un-optimized Decision Tree.\n",
    "\n",
    "## Checking the RMSE\n",
    "Linear regression had 1,881. I'm expecting this RMSE to be slightly better."
   ]
  },
  {
   "cell_type": "code",
   "execution_count": 43,
   "metadata": {
    "collapsed": false
   },
   "outputs": [
    {
     "data": {
      "text/plain": [
       "array([ 1338.01899432,     8.83411144,  2940.6833601 ,   116.96636007,\n",
       "         495.57189188])"
      ]
     },
     "execution_count": 43,
     "metadata": {},
     "output_type": "execute_result"
    }
   ],
   "source": [
    "pipe.predict(label_encoder.transform(X_test.head()['TYPE'])[:, pd.np.newaxis])"
   ]
  },
  {
   "cell_type": "code",
   "execution_count": 45,
   "metadata": {
    "collapsed": false
   },
   "outputs": [
    {
     "data": {
      "text/plain": [
       "1886.4624048482124"
      ]
     },
     "execution_count": 45,
     "metadata": {},
     "output_type": "execute_result"
    }
   ],
   "source": [
    "mse = mean_squared_error(\n",
    "    y_test,\n",
    "    pipe.predict(label_encoder.transform(X_test['TYPE'])[:, pd.np.newaxis])\n",
    ")\n",
    "\n",
    "mse**0.5"
   ]
  },
  {
   "cell_type": "markdown",
   "metadata": {},
   "source": [
    "It's slightly higher, at 1,886."
   ]
  }
 ],
 "metadata": {
  "anaconda-cloud": {},
  "kernelspec": {
   "display_name": "Python [default]",
   "language": "python",
   "name": "python2"
  },
  "language_info": {
   "codemirror_mode": {
    "name": "ipython",
    "version": 2
   },
   "file_extension": ".py",
   "mimetype": "text/x-python",
   "name": "python",
   "nbconvert_exporter": "python",
   "pygments_lexer": "ipython2",
   "version": "2.7.12"
  }
 },
 "nbformat": 4,
 "nbformat_minor": 1
}
