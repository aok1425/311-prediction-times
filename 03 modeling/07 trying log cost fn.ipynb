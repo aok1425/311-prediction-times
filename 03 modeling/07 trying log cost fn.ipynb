{
 "cells": [
  {
   "cell_type": "markdown",
   "metadata": {},
   "source": [
    "My other idea was to penalize underestimating rather than overestimating, but there is no straightforward way to do this. One of the difficulties we thought through was that the cost function would be non-differientiable, like log reg before the elegant `(1-y)` fix."
   ]
  },
  {
   "cell_type": "raw",
   "metadata": {},
   "source": [
    "Seems like no simple way to do this; will do more Google searching later."
   ]
  }
 ],
 "metadata": {
  "kernelspec": {
   "display_name": "Python 2",
   "language": "python",
   "name": "python2"
  },
  "language_info": {
   "codemirror_mode": {
    "name": "ipython",
    "version": 2
   },
   "file_extension": ".py",
   "mimetype": "text/x-python",
   "name": "python",
   "nbconvert_exporter": "python",
   "pygments_lexer": "ipython2",
   "version": "2.7.13"
  }
 },
 "nbformat": 4,
 "nbformat_minor": 2
}
