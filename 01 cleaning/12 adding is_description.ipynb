{
 "cells": [
  {
   "cell_type": "code",
   "execution_count": 29,
   "metadata": {
    "collapsed": true
   },
   "outputs": [],
   "source": [
    "import pandas as pd"
   ]
  },
  {
   "cell_type": "code",
   "execution_count": 30,
   "metadata": {
    "collapsed": false
   },
   "outputs": [
    {
     "data": {
      "text/plain": [
       "(520860, 27)"
      ]
     },
     "execution_count": 30,
     "metadata": {},
     "output_type": "execute_result"
    }
   ],
   "source": [
    "df = pd.read_pickle('../data/data_w_transformed_census_and_removed_invalid_rows_and_cols_and_fixed_zips_and_descs_and_dropped_latlongs_and_more_dropped_cols_and_rows.pkl')\n",
    "df.shape"
   ]
  },
  {
   "cell_type": "code",
   "execution_count": 31,
   "metadata": {
    "collapsed": false
   },
   "outputs": [
    {
     "data": {
      "text/plain": [
       "(905650, 37)"
      ]
     },
     "execution_count": 31,
     "metadata": {},
     "output_type": "execute_result"
    }
   ],
   "source": [
    "df_descs = pd.read_pickle('../data/data_w_descs.pkl')\n",
    "df_descs.shape"
   ]
  },
  {
   "cell_type": "code",
   "execution_count": 5,
   "metadata": {
    "collapsed": true
   },
   "outputs": [
    {
     "data": {
      "text/plain": [
       "['CASE_ENQUIRY_ID',\n",
       " 'OPEN_DT',\n",
       " 'TARGET_DT',\n",
       " 'CLOSED_DT',\n",
       " 'OnTime_Status',\n",
       " 'CASE_STATUS',\n",
       " 'CLOSURE_REASON',\n",
       " 'CASE_TITLE',\n",
       " 'SUBJECT',\n",
       " 'REASON',\n",
       " 'TYPE',\n",
       " 'QUEUE',\n",
       " 'Department',\n",
       " 'SubmittedPhoto',\n",
       " 'ClosedPhoto',\n",
       " 'Location',\n",
       " 'fire_district',\n",
       " 'pwd_district',\n",
       " 'city_council_district',\n",
       " 'police_district',\n",
       " 'neighborhood',\n",
       " 'neighborhood_services_district',\n",
       " 'ward',\n",
       " 'precinct',\n",
       " 'land_usage',\n",
       " 'LOCATION_STREET_NAME',\n",
       " 'LOCATION_ZIPCODE',\n",
       " 'Property_Type',\n",
       " 'Property_ID',\n",
       " 'LATITUDE',\n",
       " 'LONGITUDE',\n",
       " 'Source',\n",
       " 'Geocoded_Location',\n",
       " u'case_enquiry_id',\n",
       " u'description',\n",
       " u'specific_location',\n",
       " u'title']"
      ]
     },
     "execution_count": 5,
     "metadata": {},
     "output_type": "execute_result"
    }
   ],
   "source": [
    "list(df_descs.columns)"
   ]
  },
  {
   "cell_type": "code",
   "execution_count": 32,
   "metadata": {
    "collapsed": false
   },
   "outputs": [],
   "source": [
    "df_desc1 = df_descs[['CASE_ENQUIRY_ID', 'description']]"
   ]
  },
  {
   "cell_type": "code",
   "execution_count": 33,
   "metadata": {
    "collapsed": false
   },
   "outputs": [
    {
     "name": "stderr",
     "output_type": "stream",
     "text": [
      "/home/ec2-user/anaconda2/lib/python2.7/site-packages/ipykernel/__main__.py:1: SettingWithCopyWarning: \n",
      "A value is trying to be set on a copy of a slice from a DataFrame.\n",
      "Try using .loc[row_indexer,col_indexer] = value instead\n",
      "\n",
      "See the caveats in the documentation: http://pandas.pydata.org/pandas-docs/stable/indexing.html#indexing-view-versus-copy\n",
      "  if __name__ == '__main__':\n"
     ]
    }
   ],
   "source": [
    "df_desc1['is_description'] = df_desc1.description.notnull()"
   ]
  },
  {
   "cell_type": "code",
   "execution_count": 34,
   "metadata": {
    "collapsed": false
   },
   "outputs": [
    {
     "data": {
      "text/plain": [
       "(520860, 27)"
      ]
     },
     "execution_count": 34,
     "metadata": {},
     "output_type": "execute_result"
    }
   ],
   "source": [
    "df.shape"
   ]
  },
  {
   "cell_type": "code",
   "execution_count": 35,
   "metadata": {
    "collapsed": false
   },
   "outputs": [
    {
     "data": {
      "text/plain": [
       "(520793, 27)"
      ]
     },
     "execution_count": 35,
     "metadata": {},
     "output_type": "execute_result"
    }
   ],
   "source": [
    "df.drop_duplicates().shape"
   ]
  },
  {
   "cell_type": "code",
   "execution_count": 37,
   "metadata": {
    "collapsed": false
   },
   "outputs": [
    {
     "data": {
      "text/plain": [
       "(905550, 3)"
      ]
     },
     "execution_count": 37,
     "metadata": {},
     "output_type": "execute_result"
    }
   ],
   "source": [
    "df_desc1.drop_duplicates().shape"
   ]
  },
  {
   "cell_type": "raw",
   "metadata": {},
   "source": [
    "NB: somehow I have duplicates in my df. Not exactly sure where they're from."
   ]
  },
  {
   "cell_type": "code",
   "execution_count": 38,
   "metadata": {
    "collapsed": false
   },
   "outputs": [
    {
     "data": {
      "text/plain": [
       "(520793, 29)"
      ]
     },
     "execution_count": 38,
     "metadata": {},
     "output_type": "execute_result"
    }
   ],
   "source": [
    "df_final = df.drop_duplicates().merge(df_desc1.drop_duplicates(), on='CASE_ENQUIRY_ID', how='left')\n",
    "df_final.shape"
   ]
  },
  {
   "cell_type": "code",
   "execution_count": 20,
   "metadata": {
    "collapsed": false
   },
   "outputs": [
    {
     "data": {
      "text/plain": [
       "(520793, 29)"
      ]
     },
     "execution_count": 20,
     "metadata": {},
     "output_type": "execute_result"
    }
   ],
   "source": [
    "df_final.drop_duplicates().shape"
   ]
  },
  {
   "cell_type": "code",
   "execution_count": 18,
   "metadata": {
    "collapsed": false
   },
   "outputs": [
    {
     "data": {
      "text/html": [
       "<div>\n",
       "<table border=\"1\" class=\"dataframe\">\n",
       "  <thead>\n",
       "    <tr style=\"text-align: right;\">\n",
       "      <th></th>\n",
       "      <th>CASE_ENQUIRY_ID</th>\n",
       "      <th>OPEN_DT</th>\n",
       "      <th>CLOSED_DT</th>\n",
       "      <th>TYPE</th>\n",
       "      <th>SubmittedPhoto</th>\n",
       "      <th>Property_Type</th>\n",
       "      <th>LATITUDE</th>\n",
       "      <th>LONGITUDE</th>\n",
       "      <th>Source</th>\n",
       "      <th>race_white</th>\n",
       "      <th>...</th>\n",
       "      <th>school</th>\n",
       "      <th>housing</th>\n",
       "      <th>bedroom</th>\n",
       "      <th>value</th>\n",
       "      <th>rent</th>\n",
       "      <th>income</th>\n",
       "      <th>zipcode</th>\n",
       "      <th>neighborhood_from_zip</th>\n",
       "      <th>description</th>\n",
       "      <th>is_description</th>\n",
       "    </tr>\n",
       "  </thead>\n",
       "  <tbody>\n",
       "    <tr>\n",
       "      <th>520989</th>\n",
       "      <td>101000295615</td>\n",
       "      <td>2011-07-01 02:28:04</td>\n",
       "      <td>2011-08-01 03:21:46</td>\n",
       "      <td>New Sign  Crosswalk or Pavement Marking</td>\n",
       "      <td>False</td>\n",
       "      <td>Intersection</td>\n",
       "      <td>42.3003</td>\n",
       "      <td>-71.1698</td>\n",
       "      <td>Self Service</td>\n",
       "      <td>0.902900</td>\n",
       "      <td>...</td>\n",
       "      <td>21_masters</td>\n",
       "      <td>own</td>\n",
       "      <td>3</td>\n",
       "      <td>625000.0</td>\n",
       "      <td>51</td>\n",
       "      <td>112500</td>\n",
       "      <td>2132.0</td>\n",
       "      <td>West Roxbury</td>\n",
       "      <td>Type of request: Crosswalk | Details: No sidew...</td>\n",
       "      <td>True</td>\n",
       "    </tr>\n",
       "    <tr>\n",
       "      <th>520990</th>\n",
       "      <td>101000295615</td>\n",
       "      <td>2011-07-01 02:28:04</td>\n",
       "      <td>2011-08-01 03:21:46</td>\n",
       "      <td>New Sign  Crosswalk or Pavement Marking</td>\n",
       "      <td>False</td>\n",
       "      <td>Intersection</td>\n",
       "      <td>42.3003</td>\n",
       "      <td>-71.1698</td>\n",
       "      <td>Self Service</td>\n",
       "      <td>0.902900</td>\n",
       "      <td>...</td>\n",
       "      <td>21_masters</td>\n",
       "      <td>own</td>\n",
       "      <td>3</td>\n",
       "      <td>625000.0</td>\n",
       "      <td>51</td>\n",
       "      <td>112500</td>\n",
       "      <td>2132.0</td>\n",
       "      <td>West Roxbury</td>\n",
       "      <td>Type of request: Crosswalk | Details: No sidew...</td>\n",
       "      <td>True</td>\n",
       "    </tr>\n",
       "    <tr>\n",
       "      <th>520991</th>\n",
       "      <td>101000295615</td>\n",
       "      <td>2011-07-01 02:28:04</td>\n",
       "      <td>2011-08-01 03:21:46</td>\n",
       "      <td>New Sign  Crosswalk or Pavement Marking</td>\n",
       "      <td>False</td>\n",
       "      <td>Intersection</td>\n",
       "      <td>42.3003</td>\n",
       "      <td>-71.1698</td>\n",
       "      <td>Self Service</td>\n",
       "      <td>0.902900</td>\n",
       "      <td>...</td>\n",
       "      <td>21_masters</td>\n",
       "      <td>own</td>\n",
       "      <td>3</td>\n",
       "      <td>625000.0</td>\n",
       "      <td>51</td>\n",
       "      <td>112500</td>\n",
       "      <td>2132.0</td>\n",
       "      <td>West Roxbury</td>\n",
       "      <td>Type of request: Crosswalk | Details: No sidew...</td>\n",
       "      <td>True</td>\n",
       "    </tr>\n",
       "    <tr>\n",
       "      <th>520992</th>\n",
       "      <td>101000295615</td>\n",
       "      <td>2011-07-01 02:28:04</td>\n",
       "      <td>2011-08-01 03:21:46</td>\n",
       "      <td>New Sign  Crosswalk or Pavement Marking</td>\n",
       "      <td>False</td>\n",
       "      <td>Intersection</td>\n",
       "      <td>42.3003</td>\n",
       "      <td>-71.1698</td>\n",
       "      <td>Self Service</td>\n",
       "      <td>0.902900</td>\n",
       "      <td>...</td>\n",
       "      <td>21_masters</td>\n",
       "      <td>own</td>\n",
       "      <td>3</td>\n",
       "      <td>625000.0</td>\n",
       "      <td>51</td>\n",
       "      <td>112500</td>\n",
       "      <td>2132.0</td>\n",
       "      <td>West Roxbury</td>\n",
       "      <td>Type of request: Crosswalk | Details: No sidew...</td>\n",
       "      <td>True</td>\n",
       "    </tr>\n",
       "    <tr>\n",
       "      <th>520993</th>\n",
       "      <td>101000295614</td>\n",
       "      <td>2011-07-01 02:18:31</td>\n",
       "      <td>2011-07-01 06:12:43</td>\n",
       "      <td>Schedule a Bulk Item Pickup</td>\n",
       "      <td>False</td>\n",
       "      <td>Address</td>\n",
       "      <td>42.2839</td>\n",
       "      <td>-71.1447</td>\n",
       "      <td>Self Service</td>\n",
       "      <td>0.622642</td>\n",
       "      <td>...</td>\n",
       "      <td>20_bachelors</td>\n",
       "      <td>own</td>\n",
       "      <td>2</td>\n",
       "      <td>350000.0</td>\n",
       "      <td>1125</td>\n",
       "      <td>137500</td>\n",
       "      <td>2131.0</td>\n",
       "      <td>Roslindale</td>\n",
       "      <td>NaN</td>\n",
       "      <td>False</td>\n",
       "    </tr>\n",
       "  </tbody>\n",
       "</table>\n",
       "<p>5 rows × 29 columns</p>\n",
       "</div>"
      ],
      "text/plain": [
       "        CASE_ENQUIRY_ID             OPEN_DT           CLOSED_DT  \\\n",
       "520989     101000295615 2011-07-01 02:28:04 2011-08-01 03:21:46   \n",
       "520990     101000295615 2011-07-01 02:28:04 2011-08-01 03:21:46   \n",
       "520991     101000295615 2011-07-01 02:28:04 2011-08-01 03:21:46   \n",
       "520992     101000295615 2011-07-01 02:28:04 2011-08-01 03:21:46   \n",
       "520993     101000295614 2011-07-01 02:18:31 2011-07-01 06:12:43   \n",
       "\n",
       "                                           TYPE SubmittedPhoto Property_Type  \\\n",
       "520989  New Sign  Crosswalk or Pavement Marking          False  Intersection   \n",
       "520990  New Sign  Crosswalk or Pavement Marking          False  Intersection   \n",
       "520991  New Sign  Crosswalk or Pavement Marking          False  Intersection   \n",
       "520992  New Sign  Crosswalk or Pavement Marking          False  Intersection   \n",
       "520993              Schedule a Bulk Item Pickup          False       Address   \n",
       "\n",
       "        LATITUDE  LONGITUDE        Source  race_white      ...        \\\n",
       "520989   42.3003   -71.1698  Self Service    0.902900      ...         \n",
       "520990   42.3003   -71.1698  Self Service    0.902900      ...         \n",
       "520991   42.3003   -71.1698  Self Service    0.902900      ...         \n",
       "520992   42.3003   -71.1698  Self Service    0.902900      ...         \n",
       "520993   42.2839   -71.1447  Self Service    0.622642      ...         \n",
       "\n",
       "              school  housing  bedroom     value  rent  income  zipcode  \\\n",
       "520989    21_masters      own        3  625000.0    51  112500   2132.0   \n",
       "520990    21_masters      own        3  625000.0    51  112500   2132.0   \n",
       "520991    21_masters      own        3  625000.0    51  112500   2132.0   \n",
       "520992    21_masters      own        3  625000.0    51  112500   2132.0   \n",
       "520993  20_bachelors      own        2  350000.0  1125  137500   2131.0   \n",
       "\n",
       "        neighborhood_from_zip  \\\n",
       "520989           West Roxbury   \n",
       "520990           West Roxbury   \n",
       "520991           West Roxbury   \n",
       "520992           West Roxbury   \n",
       "520993             Roslindale   \n",
       "\n",
       "                                              description is_description  \n",
       "520989  Type of request: Crosswalk | Details: No sidew...           True  \n",
       "520990  Type of request: Crosswalk | Details: No sidew...           True  \n",
       "520991  Type of request: Crosswalk | Details: No sidew...           True  \n",
       "520992  Type of request: Crosswalk | Details: No sidew...           True  \n",
       "520993                                                NaN          False  \n",
       "\n",
       "[5 rows x 29 columns]"
      ]
     },
     "execution_count": 18,
     "metadata": {},
     "output_type": "execute_result"
    }
   ],
   "source": [
    "df_final.tail()"
   ]
  },
  {
   "cell_type": "code",
   "execution_count": 15,
   "metadata": {
    "collapsed": false
   },
   "outputs": [
    {
     "data": {
      "text/html": [
       "<div>\n",
       "<table border=\"1\" class=\"dataframe\">\n",
       "  <thead>\n",
       "    <tr style=\"text-align: right;\">\n",
       "      <th></th>\n",
       "      <th>3</th>\n",
       "    </tr>\n",
       "  </thead>\n",
       "  <tbody>\n",
       "    <tr>\n",
       "      <th>CASE_ENQUIRY_ID</th>\n",
       "      <td>101001983761</td>\n",
       "    </tr>\n",
       "    <tr>\n",
       "      <th>OPEN_DT</th>\n",
       "      <td>2017-01-07 09:12:00</td>\n",
       "    </tr>\n",
       "    <tr>\n",
       "      <th>CLOSED_DT</th>\n",
       "      <td>2017-01-07 10:13:48</td>\n",
       "    </tr>\n",
       "    <tr>\n",
       "      <th>TYPE</th>\n",
       "      <td>Public Works General Request</td>\n",
       "    </tr>\n",
       "    <tr>\n",
       "      <th>SubmittedPhoto</th>\n",
       "      <td>False</td>\n",
       "    </tr>\n",
       "    <tr>\n",
       "      <th>Property_Type</th>\n",
       "      <td>Address</td>\n",
       "    </tr>\n",
       "    <tr>\n",
       "      <th>LATITUDE</th>\n",
       "      <td>42.2829</td>\n",
       "    </tr>\n",
       "    <tr>\n",
       "      <th>LONGITUDE</th>\n",
       "      <td>-71.0631</td>\n",
       "    </tr>\n",
       "    <tr>\n",
       "      <th>Source</th>\n",
       "      <td>Constituent Call</td>\n",
       "    </tr>\n",
       "    <tr>\n",
       "      <th>race_white</th>\n",
       "      <td>0.350938</td>\n",
       "    </tr>\n",
       "    <tr>\n",
       "      <th>race_black</th>\n",
       "      <td>0.478805</td>\n",
       "    </tr>\n",
       "    <tr>\n",
       "      <th>race_asian</th>\n",
       "      <td>0.162613</td>\n",
       "    </tr>\n",
       "    <tr>\n",
       "      <th>race_hispanic</th>\n",
       "      <td>0</td>\n",
       "    </tr>\n",
       "    <tr>\n",
       "      <th>race_other</th>\n",
       "      <td>0.0076442</td>\n",
       "    </tr>\n",
       "    <tr>\n",
       "      <th>poverty_pop_below_poverty_level</th>\n",
       "      <td>0.120482</td>\n",
       "    </tr>\n",
       "    <tr>\n",
       "      <th>poverty_pop_w_public_assistance</th>\n",
       "      <td>0.0261044</td>\n",
       "    </tr>\n",
       "    <tr>\n",
       "      <th>poverty_pop_w_food_stamps</th>\n",
       "      <td>0.120482</td>\n",
       "    </tr>\n",
       "    <tr>\n",
       "      <th>poverty_pop_w_ssi</th>\n",
       "      <td>0.0381526</td>\n",
       "    </tr>\n",
       "    <tr>\n",
       "      <th>COMPLETION_TIME</th>\n",
       "      <td>1.03</td>\n",
       "    </tr>\n",
       "    <tr>\n",
       "      <th>school</th>\n",
       "      <td>19_associates</td>\n",
       "    </tr>\n",
       "    <tr>\n",
       "      <th>housing</th>\n",
       "      <td>own</td>\n",
       "    </tr>\n",
       "    <tr>\n",
       "      <th>bedroom</th>\n",
       "      <td>2</td>\n",
       "    </tr>\n",
       "    <tr>\n",
       "      <th>value</th>\n",
       "      <td>350000</td>\n",
       "    </tr>\n",
       "    <tr>\n",
       "      <th>rent</th>\n",
       "      <td>1750</td>\n",
       "    </tr>\n",
       "    <tr>\n",
       "      <th>income</th>\n",
       "      <td>137500</td>\n",
       "    </tr>\n",
       "    <tr>\n",
       "      <th>zipcode</th>\n",
       "      <td>2124</td>\n",
       "    </tr>\n",
       "    <tr>\n",
       "      <th>neighborhood_from_zip</th>\n",
       "      <td>Dorchester</td>\n",
       "    </tr>\n",
       "    <tr>\n",
       "      <th>description</th>\n",
       "      <td>NaN</td>\n",
       "    </tr>\n",
       "    <tr>\n",
       "      <th>is_description</th>\n",
       "      <td>False</td>\n",
       "    </tr>\n",
       "  </tbody>\n",
       "</table>\n",
       "</div>"
      ],
      "text/plain": [
       "                                                            3\n",
       "CASE_ENQUIRY_ID                                  101001983761\n",
       "OPEN_DT                                   2017-01-07 09:12:00\n",
       "CLOSED_DT                                 2017-01-07 10:13:48\n",
       "TYPE                             Public Works General Request\n",
       "SubmittedPhoto                                          False\n",
       "Property_Type                                         Address\n",
       "LATITUDE                                              42.2829\n",
       "LONGITUDE                                            -71.0631\n",
       "Source                                       Constituent Call\n",
       "race_white                                           0.350938\n",
       "race_black                                           0.478805\n",
       "race_asian                                           0.162613\n",
       "race_hispanic                                               0\n",
       "race_other                                          0.0076442\n",
       "poverty_pop_below_poverty_level                      0.120482\n",
       "poverty_pop_w_public_assistance                     0.0261044\n",
       "poverty_pop_w_food_stamps                            0.120482\n",
       "poverty_pop_w_ssi                                   0.0381526\n",
       "COMPLETION_TIME                                          1.03\n",
       "school                                          19_associates\n",
       "housing                                                   own\n",
       "bedroom                                                     2\n",
       "value                                                  350000\n",
       "rent                                                     1750\n",
       "income                                                 137500\n",
       "zipcode                                                  2124\n",
       "neighborhood_from_zip                              Dorchester\n",
       "description                                               NaN\n",
       "is_description                                          False"
      ]
     },
     "execution_count": 15,
     "metadata": {},
     "output_type": "execute_result"
    }
   ],
   "source": [
    "df_final.head(4).tail(1).T"
   ]
  },
  {
   "cell_type": "code",
   "execution_count": 39,
   "metadata": {
    "collapsed": false
   },
   "outputs": [
    {
     "data": {
      "text/plain": [
       "(520793, 29)"
      ]
     },
     "execution_count": 39,
     "metadata": {},
     "output_type": "execute_result"
    }
   ],
   "source": [
    "df_final.shape"
   ]
  },
  {
   "cell_type": "code",
   "execution_count": 40,
   "metadata": {
    "collapsed": true
   },
   "outputs": [],
   "source": [
    "df_final.to_pickle('../data/data_w_transformed_census_and_removed_invalid_rows_and_cols_and_fixed_zips_and_descs_and_dropped_latlongs_and_more_dropped_cols_and_rows_and_actual_descs.pkl')"
   ]
  },
  {
   "cell_type": "code",
   "execution_count": 41,
   "metadata": {
    "collapsed": false
   },
   "outputs": [
    {
     "name": "stdout",
     "output_type": "stream",
     "text": [
      "-rw-rw-r-- 1 ec2-user ec2-user 145M Feb  4 02:27 ../data/data_w_transformed_census_and_removed_invalid_rows_and_cols_and_fixed_zips_and_descs_and_dropped_latlongs_and_more_dropped_cols_and_rows_and_actual_descs.pkl\r\n"
     ]
    }
   ],
   "source": [
    "!ls -lh ../data/**actual**"
   ]
  }
 ],
 "metadata": {
  "kernelspec": {
   "display_name": "Python 2",
   "language": "python",
   "name": "python2"
  },
  "language_info": {
   "codemirror_mode": {
    "name": "ipython",
    "version": 2
   },
   "file_extension": ".py",
   "mimetype": "text/x-python",
   "name": "python",
   "nbconvert_exporter": "python",
   "pygments_lexer": "ipython2",
   "version": "2.7.13"
  }
 },
 "nbformat": 4,
 "nbformat_minor": 2
}
