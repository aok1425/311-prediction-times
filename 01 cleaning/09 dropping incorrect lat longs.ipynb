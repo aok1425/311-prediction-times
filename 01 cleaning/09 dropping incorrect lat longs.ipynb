{
 "cells": [
  {
   "cell_type": "markdown",
   "metadata": {},
   "source": [
    "Some lat/longs are incorrect. They are given the default location of City Hall.\n",
    "\n",
    "This affects Census block group, Census data, and imputed zipcode for NaNs.\n",
    "\n",
    "Since address is still given, we could impute via Google Maps API, but there are 42495 such rows.\n",
    "\n",
    "For the sake of time, I will regettably drop them and do a quick EDA on what they are, in case dropping them might bias our results."
   ]
  },
  {
   "cell_type": "code",
   "execution_count": 1,
   "metadata": {
    "collapsed": true
   },
   "outputs": [],
   "source": [
    "from __future__ import division\n",
    "import pandas as pd"
   ]
  },
  {
   "cell_type": "code",
   "execution_count": 5,
   "metadata": {
    "collapsed": false
   },
   "outputs": [],
   "source": [
    "from zipcode_mapping import zipcode_mapping"
   ]
  },
  {
   "cell_type": "code",
   "execution_count": 2,
   "metadata": {
    "collapsed": false
   },
   "outputs": [
    {
     "data": {
      "text/plain": [
       "(786867, 36)"
      ]
     },
     "execution_count": 2,
     "metadata": {},
     "output_type": "execute_result"
    }
   ],
   "source": [
    "df = pd.read_pickle('../data/data_w_transformed_census_and_removed_invalid_rows_and_cols_and_fixed_zips.pkl')\n",
    "df.shape"
   ]
  },
  {
   "cell_type": "code",
   "execution_count": 6,
   "metadata": {
    "collapsed": true
   },
   "outputs": [],
   "source": [
    "df['neighborhood_from_zip'] = df.zipcode.map(zipcode_mapping)"
   ]
  },
  {
   "cell_type": "markdown",
   "metadata": {},
   "source": [
    "## EDA"
   ]
  },
  {
   "cell_type": "code",
   "execution_count": 7,
   "metadata": {
    "collapsed": false
   },
   "outputs": [
    {
     "name": "stderr",
     "output_type": "stream",
     "text": [
      "/home/ubuntu/anaconda2/lib/python2.7/site-packages/ipykernel/__main__.py:1: UserWarning: Boolean Series key will be reindexed to match DataFrame index.\n",
      "  if __name__ == '__main__':\n"
     ]
    },
    {
     "data": {
      "text/plain": [
       "(42495, 37)"
      ]
     },
     "execution_count": 7,
     "metadata": {},
     "output_type": "execute_result"
    }
   ],
   "source": [
    "df[df.neighborhood.notnull()][df.neighborhood_from_zip != df.neighborhood] \\\n",
    "    [df.LATITUDE == 42.3594].shape"
   ]
  },
  {
   "cell_type": "code",
   "execution_count": 8,
   "metadata": {
    "collapsed": false
   },
   "outputs": [
    {
     "name": "stderr",
     "output_type": "stream",
     "text": [
      "/home/ubuntu/anaconda2/lib/python2.7/site-packages/ipykernel/__main__.py:1: UserWarning: Boolean Series key will be reindexed to match DataFrame index.\n",
      "  if __name__ == '__main__':\n"
     ]
    }
   ],
   "source": [
    "df_incorrect_lat_longs = df[df.neighborhood.notnull()][df.neighborhood_from_zip != df.neighborhood] \\\n",
    "    [df.LATITUDE == 42.3594].copy()"
   ]
  },
  {
   "cell_type": "code",
   "execution_count": 10,
   "metadata": {
    "collapsed": false
   },
   "outputs": [
    {
     "data": {
      "text/html": [
       "<div>\n",
       "<table border=\"1\" class=\"dataframe\">\n",
       "  <thead>\n",
       "    <tr style=\"text-align: right;\">\n",
       "      <th></th>\n",
       "      <th>TYPE</th>\n",
       "      <th>LOCATION_STREET_NAME</th>\n",
       "      <th>neighborhood</th>\n",
       "      <th>neighborhood_from_zip</th>\n",
       "    </tr>\n",
       "  </thead>\n",
       "  <tbody>\n",
       "    <tr>\n",
       "      <th>905649</th>\n",
       "      <td>Misc. Snow Complaint</td>\n",
       "      <td>INTERSECTION M St &amp; Marine Rd</td>\n",
       "      <td>South Boston / South Boston Waterfront</td>\n",
       "      <td>Dorchester</td>\n",
       "    </tr>\n",
       "    <tr>\n",
       "      <th>905648</th>\n",
       "      <td>Request for Pothole Repair</td>\n",
       "      <td>INTERSECTION Lyndeboro St &amp; Middlesex St</td>\n",
       "      <td>Charlestown</td>\n",
       "      <td>Dorchester</td>\n",
       "    </tr>\n",
       "    <tr>\n",
       "      <th>905442</th>\n",
       "      <td>Parking Meter Repairs</td>\n",
       "      <td>INTERSECTION Lyndeboro St &amp; Middlesex St</td>\n",
       "      <td>Charlestown</td>\n",
       "      <td>Dorchester</td>\n",
       "    </tr>\n",
       "    <tr>\n",
       "      <th>905524</th>\n",
       "      <td>Sign Repair</td>\n",
       "      <td>INTERSECTION Williams St &amp; Amory St</td>\n",
       "      <td>Jamaica Plain</td>\n",
       "      <td>Dorchester</td>\n",
       "    </tr>\n",
       "    <tr>\n",
       "      <th>905503</th>\n",
       "      <td>Transportation General Request</td>\n",
       "      <td>INTERSECTION Itasca St &amp; Cummins Hwy</td>\n",
       "      <td>Greater Mattapan</td>\n",
       "      <td>Dorchester</td>\n",
       "    </tr>\n",
       "  </tbody>\n",
       "</table>\n",
       "</div>"
      ],
      "text/plain": [
       "                                  TYPE  \\\n",
       "905649            Misc. Snow Complaint   \n",
       "905648      Request for Pothole Repair   \n",
       "905442           Parking Meter Repairs   \n",
       "905524                     Sign Repair   \n",
       "905503  Transportation General Request   \n",
       "\n",
       "                            LOCATION_STREET_NAME  \\\n",
       "905649             INTERSECTION M St & Marine Rd   \n",
       "905648  INTERSECTION Lyndeboro St & Middlesex St   \n",
       "905442  INTERSECTION Lyndeboro St & Middlesex St   \n",
       "905524       INTERSECTION Williams St & Amory St   \n",
       "905503      INTERSECTION Itasca St & Cummins Hwy   \n",
       "\n",
       "                                  neighborhood neighborhood_from_zip  \n",
       "905649  South Boston / South Boston Waterfront            Dorchester  \n",
       "905648                             Charlestown            Dorchester  \n",
       "905442                             Charlestown            Dorchester  \n",
       "905524                           Jamaica Plain            Dorchester  \n",
       "905503                        Greater Mattapan            Dorchester  "
      ]
     },
     "execution_count": 10,
     "metadata": {},
     "output_type": "execute_result"
    }
   ],
   "source": [
    "df_incorrect_lat_longs[['TYPE', 'LOCATION_STREET_NAME', 'neighborhood', 'neighborhood_from_zip']].head()"
   ]
  },
  {
   "cell_type": "code",
   "execution_count": 12,
   "metadata": {
    "collapsed": false
   },
   "outputs": [
    {
     "data": {
      "text/html": [
       "<div>\n",
       "<table border=\"1\" class=\"dataframe\">\n",
       "  <thead>\n",
       "    <tr style=\"text-align: right;\">\n",
       "      <th></th>\n",
       "      <th>neighborhood</th>\n",
       "    </tr>\n",
       "    <tr>\n",
       "      <th>TYPE</th>\n",
       "      <th></th>\n",
       "    </tr>\n",
       "  </thead>\n",
       "  <tbody>\n",
       "    <tr>\n",
       "      <th>Parking Enforcement</th>\n",
       "      <td>5921</td>\n",
       "    </tr>\n",
       "    <tr>\n",
       "      <th>Requests for Street Cleaning</th>\n",
       "      <td>4270</td>\n",
       "    </tr>\n",
       "    <tr>\n",
       "      <th>Traffic Signal Inspection</th>\n",
       "      <td>3751</td>\n",
       "    </tr>\n",
       "    <tr>\n",
       "      <th>Sign Repair</th>\n",
       "      <td>3057</td>\n",
       "    </tr>\n",
       "    <tr>\n",
       "      <th>Request for Pothole Repair</th>\n",
       "      <td>2681</td>\n",
       "    </tr>\n",
       "  </tbody>\n",
       "</table>\n",
       "</div>"
      ],
      "text/plain": [
       "                              neighborhood\n",
       "TYPE                                      \n",
       "Parking Enforcement                   5921\n",
       "Requests for Street Cleaning          4270\n",
       "Traffic Signal Inspection             3751\n",
       "Sign Repair                           3057\n",
       "Request for Pothole Repair            2681"
      ]
     },
     "execution_count": 12,
     "metadata": {},
     "output_type": "execute_result"
    }
   ],
   "source": [
    "df_incorrect_lat_longs \\\n",
    "    [['TYPE', 'neighborhood']].groupby('TYPE').count().sort_values('neighborhood', ascending=False).head()  "
   ]
  },
  {
   "cell_type": "raw",
   "metadata": {},
   "source": [
    "It would be nice to see the dist by year also."
   ]
  },
  {
   "cell_type": "markdown",
   "metadata": {},
   "source": [
    "## Dropping them"
   ]
  },
  {
   "cell_type": "code",
   "execution_count": 13,
   "metadata": {
    "collapsed": false
   },
   "outputs": [
    {
     "data": {
      "text/plain": [
       "((786867, 37), (42495, 37))"
      ]
     },
     "execution_count": 13,
     "metadata": {},
     "output_type": "execute_result"
    }
   ],
   "source": [
    "df.shape, df_incorrect_lat_longs.shape"
   ]
  },
  {
   "cell_type": "code",
   "execution_count": 17,
   "metadata": {
    "collapsed": false
   },
   "outputs": [],
   "source": [
    "offending_case_enquiry_ids = df_incorrect_lat_longs['CASE_ENQUIRY_ID']"
   ]
  },
  {
   "cell_type": "code",
   "execution_count": 18,
   "metadata": {
    "collapsed": false
   },
   "outputs": [
    {
     "data": {
      "text/plain": [
       "(42495,)"
      ]
     },
     "execution_count": 18,
     "metadata": {},
     "output_type": "execute_result"
    }
   ],
   "source": [
    "offending_case_enquiry_ids.shape"
   ]
  },
  {
   "cell_type": "code",
   "execution_count": 19,
   "metadata": {
    "collapsed": false
   },
   "outputs": [
    {
     "data": {
      "text/plain": [
       "(744372, 37)"
      ]
     },
     "execution_count": 19,
     "metadata": {},
     "output_type": "execute_result"
    }
   ],
   "source": [
    "new_df = df[~df.CASE_ENQUIRY_ID.isin(offending_case_enquiry_ids)]\n",
    "new_df.shape"
   ]
  },
  {
   "cell_type": "code",
   "execution_count": 20,
   "metadata": {
    "collapsed": false
   },
   "outputs": [
    {
     "data": {
      "text/plain": [
       "786867"
      ]
     },
     "execution_count": 20,
     "metadata": {},
     "output_type": "execute_result"
    }
   ],
   "source": [
    "744372 + 42495"
   ]
  },
  {
   "cell_type": "markdown",
   "metadata": {},
   "source": [
    "## Saving"
   ]
  },
  {
   "cell_type": "code",
   "execution_count": 21,
   "metadata": {
    "collapsed": true
   },
   "outputs": [],
   "source": [
    "new_df.to_pickle('../data/data_w_transformed_census_and_removed_invalid_rows_and_cols_and_fixed_zips_and_descs_and_dropped_latlongs.pkl')"
   ]
  }
 ],
 "metadata": {
  "anaconda-cloud": {},
  "kernelspec": {
   "display_name": "Python [conda root]",
   "language": "python",
   "name": "conda-root-py"
  },
  "language_info": {
   "codemirror_mode": {
    "name": "ipython",
    "version": 2
   },
   "file_extension": ".py",
   "mimetype": "text/x-python",
   "name": "python",
   "nbconvert_exporter": "python",
   "pygments_lexer": "ipython2",
   "version": "2.7.12"
  }
 },
 "nbformat": 4,
 "nbformat_minor": 1
}
