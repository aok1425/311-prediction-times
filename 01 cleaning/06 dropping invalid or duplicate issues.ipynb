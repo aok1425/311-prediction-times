{
 "cells": [
  {
   "cell_type": "markdown",
   "metadata": {},
   "source": [
    "When looking at the outliers for completion time, I saw anecdotally that many outliers were because of administrative errors: they were duplicates or somehow invalid. We should remove these issues from our dataset."
   ]
  },
  {
   "cell_type": "code",
   "execution_count": 123,
   "metadata": {
    "collapsed": false
   },
   "outputs": [],
   "source": [
    "import pandas as pd\n",
    "from IPython.display import display\n",
    "from datetime import datetime, timedelta\n",
    "import re\n",
    "\n",
    "pd.set_option('max_colwidth', 400)"
   ]
  },
  {
   "cell_type": "code",
   "execution_count": 59,
   "metadata": {
    "collapsed": false
   },
   "outputs": [
    {
     "data": {
      "text/plain": [
       "(905205, 48)"
      ]
     },
     "execution_count": 59,
     "metadata": {},
     "output_type": "execute_result"
    }
   ],
   "source": [
    "df = pd.read_pickle('../data/data_w_transformed_census.pkl')\n",
    "df.shape"
   ]
  },
  {
   "cell_type": "markdown",
   "metadata": {},
   "source": [
    "## Dropping invalid or duplicate or administratively closed issues\n",
    "\n",
    "Let's manually inspect our \"classifier\"; any false positives?"
   ]
  },
  {
   "cell_type": "code",
   "execution_count": 67,
   "metadata": {
    "collapsed": false,
    "scrolled": true
   },
   "outputs": [
    {
     "name": "stderr",
     "output_type": "stream",
     "text": [
      "/home/ubuntu/anaconda2/lib/python2.7/site-packages/ipykernel/__main__.py:2: UserWarning: This pattern has match groups. To actually get the groups, use str.extract.\n",
      "  from ipykernel import kernelapp as app\n"
     ]
    },
    {
     "data": {
      "text/html": [
       "<div>\n",
       "<table border=\"1\" class=\"dataframe\">\n",
       "  <thead>\n",
       "    <tr style=\"text-align: right;\">\n",
       "      <th></th>\n",
       "      <th>CLOSURE_REASON</th>\n",
       "    </tr>\n",
       "  </thead>\n",
       "  <tbody>\n",
       "    <tr>\n",
       "      <th>19</th>\n",
       "      <td>Case Closed Case Invalid No eform</td>\n",
       "    </tr>\n",
       "    <tr>\n",
       "      <th>102</th>\n",
       "      <td>Case Closed. Closed date : 2015-07-13 11:17:13.853 ADCLSD: Administratively Closed</td>\n",
       "    </tr>\n",
       "    <tr>\n",
       "      <th>104</th>\n",
       "      <td>Case Closed Duplicate of Existing Case %1219035</td>\n",
       "    </tr>\n",
       "    <tr>\n",
       "      <th>110</th>\n",
       "      <td>Case Closed. Closed date : 2015-09-18 09:57:35.08 Case Invalid wrong case (bulk Item)</td>\n",
       "    </tr>\n",
       "    <tr>\n",
       "      <th>124</th>\n",
       "      <td>Case Closed. Closed date : 2016-02-29 17:07:39.243 Duplicate of Existing Case</td>\n",
       "    </tr>\n",
       "    <tr>\n",
       "      <th>126</th>\n",
       "      <td>Case Closed Duplicate of Existing Case #101001148920 duplicate</td>\n",
       "    </tr>\n",
       "    <tr>\n",
       "      <th>142</th>\n",
       "      <td>Case Closed ADCLSD: Administratively Closed</td>\n",
       "    </tr>\n",
       "    <tr>\n",
       "      <th>170</th>\n",
       "      <td>Case Closed. Closed date : 2016-10-24 09:23:27.363 ADCLSD: Administratively Closed</td>\n",
       "    </tr>\n",
       "    <tr>\n",
       "      <th>181</th>\n",
       "      <td>Case Closed Case Invalid Opened in error.</td>\n",
       "    </tr>\n",
       "    <tr>\n",
       "      <th>194</th>\n",
       "      <td>Case Closed. Closed date : 2016-03-22 11:24:50.387 Case Invalid TV has been taken by someone else already</td>\n",
       "    </tr>\n",
       "    <tr>\n",
       "      <th>208</th>\n",
       "      <td>Case Closed. Closed date : 2016-09-14 06:02:43.693 Duplicate of Existing Case</td>\n",
       "    </tr>\n",
       "    <tr>\n",
       "      <th>292</th>\n",
       "      <td>Case Closed Case Invalid Emergency Agency Not Reported.</td>\n",
       "    </tr>\n",
       "    <tr>\n",
       "      <th>295</th>\n",
       "      <td>Case Closed. Closed date : 2016-11-25 14:45:02.23 Duplicate of Existing Case Knock down list</td>\n",
       "    </tr>\n",
       "    <tr>\n",
       "      <th>296</th>\n",
       "      <td>Case Closed Duplicate of Existing Case</td>\n",
       "    </tr>\n",
       "    <tr>\n",
       "      <th>302</th>\n",
       "      <td>Case Closed Duplicate of Existing Case</td>\n",
       "    </tr>\n",
       "    <tr>\n",
       "      <th>306</th>\n",
       "      <td>Case Closed Case Invalid</td>\n",
       "    </tr>\n",
       "    <tr>\n",
       "      <th>341</th>\n",
       "      <td>Case Closed ADCLSD: Administratively Closed</td>\n",
       "    </tr>\n",
       "    <tr>\n",
       "      <th>361</th>\n",
       "      <td>Case Closed ADCLSD: Administratively Closed</td>\n",
       "    </tr>\n",
       "    <tr>\n",
       "      <th>399</th>\n",
       "      <td>Case Closed Duplicate of Existing Case SAME AS CRM#345971</td>\n",
       "    </tr>\n",
       "    <tr>\n",
       "      <th>409</th>\n",
       "      <td>Case Closed. Closed date : 2015-11-02 11:42:45.14 ADCLSD: Administratively Closed</td>\n",
       "    </tr>\n",
       "  </tbody>\n",
       "</table>\n",
       "</div>"
      ],
      "text/plain": [
       "                                                                                                CLOSURE_REASON\n",
       "19                                                                           Case Closed Case Invalid No eform\n",
       "102                         Case Closed. Closed date : 2015-07-13 11:17:13.853 ADCLSD: Administratively Closed\n",
       "104                                                            Case Closed Duplicate of Existing Case %1219035\n",
       "110                      Case Closed. Closed date : 2015-09-18 09:57:35.08 Case Invalid wrong case (bulk Item)\n",
       "124                              Case Closed. Closed date : 2016-02-29 17:07:39.243 Duplicate of Existing Case\n",
       "126                                             Case Closed Duplicate of Existing Case #101001148920 duplicate\n",
       "142                                                                Case Closed ADCLSD: Administratively Closed\n",
       "170                         Case Closed. Closed date : 2016-10-24 09:23:27.363 ADCLSD: Administratively Closed\n",
       "181                                                                  Case Closed Case Invalid Opened in error.\n",
       "194  Case Closed. Closed date : 2016-03-22 11:24:50.387 Case Invalid TV has been taken by someone else already\n",
       "208                              Case Closed. Closed date : 2016-09-14 06:02:43.693 Duplicate of Existing Case\n",
       "292                                                    Case Closed Case Invalid Emergency Agency Not Reported.\n",
       "295               Case Closed. Closed date : 2016-11-25 14:45:02.23 Duplicate of Existing Case Knock down list\n",
       "296                                                                     Case Closed Duplicate of Existing Case\n",
       "302                                                                     Case Closed Duplicate of Existing Case\n",
       "306                                                                                   Case Closed Case Invalid\n",
       "341                                                                Case Closed ADCLSD: Administratively Closed\n",
       "361                                                                Case Closed ADCLSD: Administratively Closed\n",
       "399                                                  Case Closed Duplicate of Existing Case SAME AS CRM#345971\n",
       "409                          Case Closed. Closed date : 2015-11-02 11:42:45.14 ADCLSD: Administratively Closed"
      ]
     },
     "metadata": {},
     "output_type": "display_data"
    }
   ],
   "source": [
    "df.loc[:, 'CLOSURE_REASON': 'CLOSURE_REASON'][df.CLOSURE_REASON.str.contains(exclusion_str, case=False, na=False)].head(20)"
   ]
  },
  {
   "cell_type": "markdown",
   "metadata": {},
   "source": [
    "Doesn't look like it. Still probably a number of false negatives, though."
   ]
  },
  {
   "cell_type": "code",
   "execution_count": 68,
   "metadata": {
    "collapsed": false
   },
   "outputs": [
    {
     "name": "stderr",
     "output_type": "stream",
     "text": [
      "/home/ubuntu/anaconda2/lib/python2.7/site-packages/ipykernel/__main__.py:2: UserWarning: This pattern has match groups. To actually get the groups, use str.extract.\n",
      "  from ipykernel import kernelapp as app\n"
     ]
    },
    {
     "data": {
      "text/plain": [
       "(843352, 48)"
      ]
     },
     "execution_count": 68,
     "metadata": {},
     "output_type": "execute_result"
    }
   ],
   "source": [
    "exclusion_str = r'(duplicate of|administrative|never closed|invalid)'\n",
    "df1 = df[~df.CLOSURE_REASON.str.contains(exclusion_str, case=False, na=False)]\n",
    "df1.shape"
   ]
  },
  {
   "cell_type": "markdown",
   "metadata": {},
   "source": [
    "## Drop internal categs?\n",
    "\n",
    "Decided not to drop internal categs, or issues from internal sources. Since the internal categs and sources don't overlap with the non-internal categs and sources, including them in the dataset won't adversely affect my model."
   ]
  },
  {
   "cell_type": "markdown",
   "metadata": {},
   "source": [
    "## Looking at any issues with negative completion times"
   ]
  },
  {
   "cell_type": "code",
   "execution_count": 70,
   "metadata": {
    "collapsed": false
   },
   "outputs": [
    {
     "data": {
      "text/plain": [
       "39675"
      ]
     },
     "execution_count": 70,
     "metadata": {},
     "output_type": "execute_result"
    }
   ],
   "source": [
    "(df1.COMPLETION_TIME < 0).sum()"
   ]
  },
  {
   "cell_type": "markdown",
   "metadata": {},
   "source": [
    "Yikes. Let's inspect these."
   ]
  },
  {
   "cell_type": "code",
   "execution_count": 120,
   "metadata": {
    "collapsed": false
   },
   "outputs": [
    {
     "data": {
      "text/html": [
       "<div>\n",
       "<table border=\"1\" class=\"dataframe\">\n",
       "  <thead>\n",
       "    <tr style=\"text-align: right;\">\n",
       "      <th></th>\n",
       "      <th>COMPLETION_TIME</th>\n",
       "      <th>OPEN_DT</th>\n",
       "      <th>CLOSED_DT</th>\n",
       "      <th>TYPE</th>\n",
       "      <th>CLOSURE_REASON</th>\n",
       "    </tr>\n",
       "  </thead>\n",
       "  <tbody>\n",
       "    <tr>\n",
       "      <th>11413</th>\n",
       "      <td>-10.428611</td>\n",
       "      <td>2016-06-10 12:06:00</td>\n",
       "      <td>2016-06-10 01:40:17</td>\n",
       "      <td>Missed Trash/Recycling/Yard Waste/Bulk Item</td>\n",
       "      <td>Case Closed. Closed date : 2016-06-10 13:40:17.743 Case Noted On inspection of above address there was no missed trash/rec visible but there is grass on the sidewalk not sure if that's what was missed but its not a YW service week so we can't service YW I did leave a callender for them.</td>\n",
       "    </tr>\n",
       "    <tr>\n",
       "      <th>11418</th>\n",
       "      <td>-8.720278</td>\n",
       "      <td>2015-09-01 12:32:00</td>\n",
       "      <td>2015-09-01 03:48:47</td>\n",
       "      <td>Needle Pickup</td>\n",
       "      <td>Case Closed. Closed date : 2015-09-01 15:48:47.68 Case Noted MSU responded to a report of a single syringe at Hobart Park in Brighton at the corner of Olivia and Ranleigh. After conducting a thorough sweep of the area and contacting the constituent  who happened to be a city councilman  we were unable to locate the syringe. We are  however  confident that the syringe is no longer in that park....</td>\n",
       "    </tr>\n",
       "    <tr>\n",
       "      <th>11423</th>\n",
       "      <td>-7.645278</td>\n",
       "      <td>2016-06-02 09:14:00</td>\n",
       "      <td>2016-06-02 01:35:17</td>\n",
       "      <td>Pick up Dead Animal</td>\n",
       "      <td>Case Closed. Closed date : 2016-06-02 13:35:17.557 Case Resolved Alset picked up</td>\n",
       "    </tr>\n",
       "    <tr>\n",
       "      <th>11460</th>\n",
       "      <td>-6.488611</td>\n",
       "      <td>2011-11-01 09:44:58</td>\n",
       "      <td>2011-11-01 03:15:39</td>\n",
       "      <td>General Comments For An Employee</td>\n",
       "      <td>Case Closed Case Resolved taken care of thank you</td>\n",
       "    </tr>\n",
       "    <tr>\n",
       "      <th>11486</th>\n",
       "      <td>-8.427222</td>\n",
       "      <td>2013-08-29 10:32:55</td>\n",
       "      <td>2013-08-29 02:07:17</td>\n",
       "      <td>Missed Trash/Recycling/Yard Waste/Bulk Item</td>\n",
       "      <td>Case Closed Case Resolved no tv on curb during my inspection . 8/29/13</td>\n",
       "    </tr>\n",
       "  </tbody>\n",
       "</table>\n",
       "</div>"
      ],
      "text/plain": [
       "       COMPLETION_TIME             OPEN_DT           CLOSED_DT  \\\n",
       "11413       -10.428611 2016-06-10 12:06:00 2016-06-10 01:40:17   \n",
       "11418        -8.720278 2015-09-01 12:32:00 2015-09-01 03:48:47   \n",
       "11423        -7.645278 2016-06-02 09:14:00 2016-06-02 01:35:17   \n",
       "11460        -6.488611 2011-11-01 09:44:58 2011-11-01 03:15:39   \n",
       "11486        -8.427222 2013-08-29 10:32:55 2013-08-29 02:07:17   \n",
       "\n",
       "                                              TYPE  \\\n",
       "11413  Missed Trash/Recycling/Yard Waste/Bulk Item   \n",
       "11418                                Needle Pickup   \n",
       "11423                          Pick up Dead Animal   \n",
       "11460             General Comments For An Employee   \n",
       "11486  Missed Trash/Recycling/Yard Waste/Bulk Item   \n",
       "\n",
       "                                                                                                                                                                                                                                                                                                                                                                                                        CLOSURE_REASON  \n",
       "11413                                                                                                                  Case Closed. Closed date : 2016-06-10 13:40:17.743 Case Noted On inspection of above address there was no missed trash/rec visible but there is grass on the sidewalk not sure if that's what was missed but its not a YW service week so we can't service YW I did leave a callender for them.  \n",
       "11418  Case Closed. Closed date : 2015-09-01 15:48:47.68 Case Noted MSU responded to a report of a single syringe at Hobart Park in Brighton at the corner of Olivia and Ranleigh. After conducting a thorough sweep of the area and contacting the constituent  who happened to be a city councilman  we were unable to locate the syringe. We are  however  confident that the syringe is no longer in that park....  \n",
       "11423                                                                                                                                                                                                                                                                                                                                 Case Closed. Closed date : 2016-06-02 13:35:17.557 Case Resolved Alset picked up  \n",
       "11460                                                                                                                                                                                                                                                                                                                                                                Case Closed Case Resolved taken care of thank you  \n",
       "11486                                                                                                                                                                                                                                                                                                                                           Case Closed Case Resolved no tv on curb during my inspection . 8/29/13  "
      ]
     },
     "execution_count": 120,
     "metadata": {},
     "output_type": "execute_result"
    }
   ],
   "source": [
    "aa = df1[['COMPLETION_TIME', 'OPEN_DT', 'CLOSED_DT', 'TYPE', 'CLOSURE_REASON']][df1.COMPLETION_TIME < 0].head(500).tail()\n",
    "aa"
   ]
  },
  {
   "cell_type": "code",
   "execution_count": 85,
   "metadata": {
    "collapsed": false
   },
   "outputs": [
    {
     "data": {
      "text/plain": [
       "0.043829850696803486"
      ]
     },
     "execution_count": 85,
     "metadata": {},
     "output_type": "execute_result"
    }
   ],
   "source": [
    "39675 / 905205."
   ]
  },
  {
   "cell_type": "markdown",
   "metadata": {},
   "source": [
    "From this sample, it looks like completion times were somehow mislogged, but the correct ones are in the `CLOSURE_REASON` description.\n",
    "\n",
    "My best guess for the rest is that user input allowed the user to choose a time before start time, and the user intended to input a 'finished soon after' time.\n",
    "\n",
    "Since this affects 4% of the issues, if there's a datettime, I'll use that, and I'll make `COMPLETION_TIME` a half-hour otherwise."
   ]
  },
  {
   "cell_type": "code",
   "execution_count": 133,
   "metadata": {
    "collapsed": true
   },
   "outputs": [],
   "source": [
    "def fix_neg_completion_time(row):\n",
    "    # very slow; do this using native pandas\n",
    "    if row['COMPLETION_TIME'] < 0:\n",
    "        if re.compile(r'(\\d\\d\\d\\d-\\d\\d-\\d\\d \\d\\d:\\d\\d:\\d\\d.\\d\\d\\d)').search(row['CLOSURE_REASON']):\n",
    "            row['CLOSED_DT'] = row['CLOSED_DT'] + timedelta(hours=12)\n",
    "        else:\n",
    "            row['CLOSED_DT'] = row['OPEN_DT'] + timedelta(minutes=30)\n",
    "    \n",
    "    return row"
   ]
  },
  {
   "cell_type": "code",
   "execution_count": 137,
   "metadata": {
    "collapsed": true
   },
   "outputs": [],
   "source": [
    "df2 = df1.apply(fix_neg_completion_time, axis=1)"
   ]
  },
  {
   "cell_type": "code",
   "execution_count": 141,
   "metadata": {
    "collapsed": true
   },
   "outputs": [],
   "source": [
    "df2['COMPLETION_TIME'] = (df2.CLOSED_DT - df2.OPEN_DT).apply(lambda x: x / pd.np.timedelta64(1, 'h'))"
   ]
  },
  {
   "cell_type": "code",
   "execution_count": 151,
   "metadata": {
    "collapsed": false
   },
   "outputs": [
    {
     "data": {
      "text/html": [
       "<div>\n",
       "<table border=\"1\" class=\"dataframe\">\n",
       "  <thead>\n",
       "    <tr style=\"text-align: right;\">\n",
       "      <th></th>\n",
       "      <th>COMPLETION_TIME</th>\n",
       "      <th>OPEN_DT</th>\n",
       "      <th>CLOSED_DT</th>\n",
       "      <th>TYPE</th>\n",
       "      <th>CLOSURE_REASON</th>\n",
       "    </tr>\n",
       "  </thead>\n",
       "  <tbody>\n",
       "    <tr>\n",
       "      <th>11413</th>\n",
       "      <td>1.571389</td>\n",
       "      <td>2016-06-10 12:06:00</td>\n",
       "      <td>2016-06-10 13:40:17</td>\n",
       "      <td>Missed Trash/Recycling/Yard Waste/Bulk Item</td>\n",
       "      <td>Case Closed. Closed date : 2016-06-10 13:40:17.743 Case Noted On inspection of above address there was no missed trash/rec visible but there is grass on the sidewalk not sure if that's what was missed but its not a YW service week so we can't service YW I did leave a callender for them.</td>\n",
       "    </tr>\n",
       "    <tr>\n",
       "      <th>11414</th>\n",
       "      <td>1.233611</td>\n",
       "      <td>2016-02-10 08:46:00</td>\n",
       "      <td>2016-02-10 10:00:01</td>\n",
       "      <td>Unshoveled Sidewalk</td>\n",
       "      <td>Case Closed. Closed date : 2016-02-10 10:00:01.353 Case Noted cited unshoveled sifewalk</td>\n",
       "    </tr>\n",
       "  </tbody>\n",
       "</table>\n",
       "</div>"
      ],
      "text/plain": [
       "       COMPLETION_TIME             OPEN_DT           CLOSED_DT  \\\n",
       "11413         1.571389 2016-06-10 12:06:00 2016-06-10 13:40:17   \n",
       "11414         1.233611 2016-02-10 08:46:00 2016-02-10 10:00:01   \n",
       "\n",
       "                                              TYPE  \\\n",
       "11413  Missed Trash/Recycling/Yard Waste/Bulk Item   \n",
       "11414                          Unshoveled Sidewalk   \n",
       "\n",
       "                                                                                                                                                                                                                                                                                        CLOSURE_REASON  \n",
       "11413  Case Closed. Closed date : 2016-06-10 13:40:17.743 Case Noted On inspection of above address there was no missed trash/rec visible but there is grass on the sidewalk not sure if that's what was missed but its not a YW service week so we can't service YW I did leave a callender for them.  \n",
       "11414                                                                                                                                                                                                          Case Closed. Closed date : 2016-02-10 10:00:01.353 Case Noted cited unshoveled sifewalk  "
      ]
     },
     "execution_count": 151,
     "metadata": {},
     "output_type": "execute_result"
    }
   ],
   "source": [
    "df2[['COMPLETION_TIME', 'OPEN_DT', 'CLOSED_DT', 'TYPE', 'CLOSURE_REASON']].loc[11413:11414]"
   ]
  },
  {
   "cell_type": "code",
   "execution_count": 152,
   "metadata": {
    "collapsed": false
   },
   "outputs": [
    {
     "data": {
      "text/plain": [
       "0"
      ]
     },
     "execution_count": 152,
     "metadata": {},
     "output_type": "execute_result"
    }
   ],
   "source": [
    "(df2.COMPLETION_TIME < 0).sum()"
   ]
  },
  {
   "cell_type": "markdown",
   "metadata": {},
   "source": [
    "From eyeballing it, it looks good. There may possibly have been some issues that had negative completion time that were meant to not have been created, but I think these are very few.\n",
    "\n",
    "I think the majority of issues with negative completion times were just done quickly, and there was user input error."
   ]
  },
  {
   "cell_type": "markdown",
   "metadata": {},
   "source": [
    "## OK, let's make a revised final df"
   ]
  },
  {
   "cell_type": "code",
   "execution_count": 153,
   "metadata": {
    "collapsed": false
   },
   "outputs": [
    {
     "data": {
      "text/plain": [
       "(843352, 48)"
      ]
     },
     "execution_count": 153,
     "metadata": {},
     "output_type": "execute_result"
    }
   ],
   "source": [
    "df2.shape"
   ]
  },
  {
   "cell_type": "code",
   "execution_count": 154,
   "metadata": {
    "collapsed": true
   },
   "outputs": [],
   "source": [
    "df2.to_pickle('../data/data_w_transformed_census_and_removed_invalid_rows.pkl')"
   ]
  }
 ],
 "metadata": {
  "anaconda-cloud": {},
  "kernelspec": {
   "display_name": "Python [conda root]",
   "language": "python",
   "name": "conda-root-py"
  },
  "language_info": {
   "codemirror_mode": {
    "name": "ipython",
    "version": 2
   },
   "file_extension": ".py",
   "mimetype": "text/x-python",
   "name": "python",
   "nbconvert_exporter": "python",
   "pygments_lexer": "ipython2",
   "version": "2.7.12"
  }
 },
 "nbformat": 4,
 "nbformat_minor": 1
}
