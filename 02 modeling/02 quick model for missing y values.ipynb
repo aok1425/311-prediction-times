{
 "cells": [
  {
   "cell_type": "markdown",
   "metadata": {},
   "source": [
    "## Objective\n",
    "How to account for the 8-10% of unresolved issues, esp when some categories have ~70% of their 2016 issues unresolved?\n",
    "\n",
    "Let's do 2 things:\n",
    "1. Make some manual cutoff for when to stop looking at recent issues, since more recent issues are more likely to be unresolved.\n",
    "2. Make a simple model using Logistic Regression, and k-fold cross val with maybe k=1, or 5."
   ]
  },
  {
   "cell_type": "markdown",
   "metadata": {},
   "source": [
    "Let's look at"
   ]
  }
 ],
 "metadata": {
  "kernelspec": {
   "display_name": "Python [Root]",
   "language": "python",
   "name": "Python [Root]"
  },
  "language_info": {
   "codemirror_mode": {
    "name": "ipython",
    "version": 2
   },
   "file_extension": ".py",
   "mimetype": "text/x-python",
   "name": "python",
   "nbconvert_exporter": "python",
   "pygments_lexer": "ipython2",
   "version": "2.7.12"
  }
 },
 "nbformat": 4,
 "nbformat_minor": 0
}
