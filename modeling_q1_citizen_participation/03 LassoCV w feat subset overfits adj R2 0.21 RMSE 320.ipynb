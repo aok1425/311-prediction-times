{
 "cells": [
  {
   "cell_type": "code",
   "execution_count": 1,
   "metadata": {
    "collapsed": false
   },
   "outputs": [],
   "source": [
    "%load_ext autoreload\n",
    "%autoreload 2"
   ]
  },
  {
   "cell_type": "markdown",
   "metadata": {},
   "source": [
    "## Objective\n",
    "\n",
    "I will try a LassoCV model with all the socioeconomic features I have from the Census. Then, I will remove the multicolinear features and run the model again. I know offhand that a couple of my features (like poverty) are multicolinear."
   ]
  },
  {
   "cell_type": "code",
   "execution_count": 2,
   "metadata": {
    "collapsed": false
   },
   "outputs": [],
   "source": [
    "import os, sys\n",
    "sys.path.append(os.path.join(os.path.dirname('.'), \"../preprocessing\"))\n",
    "\n",
    "from transform_for_num_issues_pred import main as transform_dataset"
   ]
  },
  {
   "cell_type": "code",
   "execution_count": 3,
   "metadata": {
    "collapsed": false
   },
   "outputs": [],
   "source": [
    "from __future__ import division\n",
    "import pandas as pd\n",
    "import numpy as np\n",
    "import warnings\n",
    "import seaborn as sns\n",
    "import matplotlib.pyplot as plt\n",
    "from pylab import rcParams\n",
    "%matplotlib inline\n",
    "\n",
    "warnings.filterwarnings(\"ignore\", category=DeprecationWarning)\n",
    "sns.set_style(\"whitegrid\")\n",
    "sns.set_context(\"poster\")\n",
    "rcParams['figure.figsize'] = 20, 5\n",
    "\n",
    "from helper_functions import dummify_cols_and_baselines, make_alphas, adjusted_r2, transform_school"
   ]
  },
  {
   "cell_type": "code",
   "execution_count": 4,
   "metadata": {
    "collapsed": false
   },
   "outputs": [
    {
     "data": {
      "text/plain": [
       "(516406, 40)"
      ]
     },
     "execution_count": 4,
     "metadata": {},
     "output_type": "execute_result"
    }
   ],
   "source": [
    "df_orig = pd.read_pickle('../data/data_from_remove_from_dataset.pkl')\n",
    "df_orig.shape"
   ]
  },
  {
   "cell_type": "code",
   "execution_count": 5,
   "metadata": {
    "collapsed": false
   },
   "outputs": [
    {
     "name": "stderr",
     "output_type": "stream",
     "text": [
      "../preprocessing/helper_functions.py:58: FutureWarning: currently extract(expand=None) means expand=False (return Index/Series/DataFrame) but in a future version of pandas this will be changed to expand=True (return DataFrame)\n",
      "  df.school = df.school.str.extract(r'(\\d\\d?)').astype(int)\n"
     ]
    },
    {
     "data": {
      "text/plain": [
       "(516406, 40)"
      ]
     },
     "execution_count": 5,
     "metadata": {},
     "output_type": "execute_result"
    }
   ],
   "source": [
    "df_orig = transform_school(df_orig)\n",
    "df_orig.shape"
   ]
  },
  {
   "cell_type": "code",
   "execution_count": 6,
   "metadata": {
    "collapsed": true
   },
   "outputs": [
    {
     "data": {
      "text/html": [
       "<div>\n",
       "<table border=\"1\" class=\"dataframe\">\n",
       "  <thead>\n",
       "    <tr style=\"text-align: right;\">\n",
       "      <th></th>\n",
       "      <th>905425</th>\n",
       "    </tr>\n",
       "  </thead>\n",
       "  <tbody>\n",
       "    <tr>\n",
       "      <th>CASE_ENQUIRY_ID</th>\n",
       "      <td>101001983786</td>\n",
       "    </tr>\n",
       "    <tr>\n",
       "      <th>OPEN_DT</th>\n",
       "      <td>2017-01-07 10:51:37</td>\n",
       "    </tr>\n",
       "    <tr>\n",
       "      <th>CLOSED_DT</th>\n",
       "      <td>2017-01-07 11:46:43</td>\n",
       "    </tr>\n",
       "    <tr>\n",
       "      <th>TYPE</th>\n",
       "      <td>Request for Snow Plowing</td>\n",
       "    </tr>\n",
       "    <tr>\n",
       "      <th>SubmittedPhoto</th>\n",
       "      <td>True</td>\n",
       "    </tr>\n",
       "    <tr>\n",
       "      <th>LOCATION_ZIPCODE</th>\n",
       "      <td>2124</td>\n",
       "    </tr>\n",
       "    <tr>\n",
       "      <th>Property_Type</th>\n",
       "      <td>Address</td>\n",
       "    </tr>\n",
       "    <tr>\n",
       "      <th>LATITUDE</th>\n",
       "      <td>42.2809</td>\n",
       "    </tr>\n",
       "    <tr>\n",
       "      <th>LONGITUDE</th>\n",
       "      <td>-71.068</td>\n",
       "    </tr>\n",
       "    <tr>\n",
       "      <th>Source</th>\n",
       "      <td>Citizens Connect App</td>\n",
       "    </tr>\n",
       "    <tr>\n",
       "      <th>description</th>\n",
       "      <td>NaN</td>\n",
       "    </tr>\n",
       "    <tr>\n",
       "      <th>COMPLETION_HOURS_LOG_10</th>\n",
       "      <td>-0.0369997</td>\n",
       "    </tr>\n",
       "    <tr>\n",
       "      <th>tract_and_block_group</th>\n",
       "      <td>1004002</td>\n",
       "    </tr>\n",
       "    <tr>\n",
       "      <th>queue_wk</th>\n",
       "      <td>55026</td>\n",
       "    </tr>\n",
       "    <tr>\n",
       "      <th>queue_wk_open</th>\n",
       "      <td>1</td>\n",
       "    </tr>\n",
       "    <tr>\n",
       "      <th>race_white</th>\n",
       "      <td>0.242399</td>\n",
       "    </tr>\n",
       "    <tr>\n",
       "      <th>race_black</th>\n",
       "      <td>0.514358</td>\n",
       "    </tr>\n",
       "    <tr>\n",
       "      <th>race_asian</th>\n",
       "      <td>0.035473</td>\n",
       "    </tr>\n",
       "    <tr>\n",
       "      <th>race_hispanic</th>\n",
       "      <td>0.0675676</td>\n",
       "    </tr>\n",
       "    <tr>\n",
       "      <th>race_other</th>\n",
       "      <td>0.140203</td>\n",
       "    </tr>\n",
       "    <tr>\n",
       "      <th>poverty_pop_below_poverty_level</th>\n",
       "      <td>0</td>\n",
       "    </tr>\n",
       "    <tr>\n",
       "      <th>earned_income_per_capita</th>\n",
       "      <td>34340</td>\n",
       "    </tr>\n",
       "    <tr>\n",
       "      <th>poverty_pop_w_public_assistance</th>\n",
       "      <td>0.0597484</td>\n",
       "    </tr>\n",
       "    <tr>\n",
       "      <th>poverty_pop_w_food_stamps</th>\n",
       "      <td>0.138365</td>\n",
       "    </tr>\n",
       "    <tr>\n",
       "      <th>poverty_pop_w_ssi</th>\n",
       "      <td>0.0597484</td>\n",
       "    </tr>\n",
       "    <tr>\n",
       "      <th>is_description</th>\n",
       "      <td>False</td>\n",
       "    </tr>\n",
       "    <tr>\n",
       "      <th>zipcode</th>\n",
       "      <td>02124</td>\n",
       "    </tr>\n",
       "    <tr>\n",
       "      <th>neighborhood_from_zip</th>\n",
       "      <td>NaN</td>\n",
       "    </tr>\n",
       "    <tr>\n",
       "      <th>school</th>\n",
       "      <td>15</td>\n",
       "    </tr>\n",
       "    <tr>\n",
       "      <th>school_std_dev</th>\n",
       "      <td>0.102077</td>\n",
       "    </tr>\n",
       "    <tr>\n",
       "      <th>housing</th>\n",
       "      <td>own</td>\n",
       "    </tr>\n",
       "    <tr>\n",
       "      <th>housing_std_dev</th>\n",
       "      <td>0.084497</td>\n",
       "    </tr>\n",
       "    <tr>\n",
       "      <th>bedroom</th>\n",
       "      <td>3</td>\n",
       "    </tr>\n",
       "    <tr>\n",
       "      <th>bedroom_std_dev</th>\n",
       "      <td>0.179336</td>\n",
       "    </tr>\n",
       "    <tr>\n",
       "      <th>value</th>\n",
       "      <td>350000</td>\n",
       "    </tr>\n",
       "    <tr>\n",
       "      <th>value_std_dev</th>\n",
       "      <td>0.117862</td>\n",
       "    </tr>\n",
       "    <tr>\n",
       "      <th>rent</th>\n",
       "      <td>1750</td>\n",
       "    </tr>\n",
       "    <tr>\n",
       "      <th>rent_std_dev</th>\n",
       "      <td>0.136873</td>\n",
       "    </tr>\n",
       "    <tr>\n",
       "      <th>income</th>\n",
       "      <td>112500</td>\n",
       "    </tr>\n",
       "    <tr>\n",
       "      <th>income_std_dev</th>\n",
       "      <td>0.0899897</td>\n",
       "    </tr>\n",
       "  </tbody>\n",
       "</table>\n",
       "</div>"
      ],
      "text/plain": [
       "                                                   905425\n",
       "CASE_ENQUIRY_ID                              101001983786\n",
       "OPEN_DT                               2017-01-07 10:51:37\n",
       "CLOSED_DT                             2017-01-07 11:46:43\n",
       "TYPE                             Request for Snow Plowing\n",
       "SubmittedPhoto                                       True\n",
       "LOCATION_ZIPCODE                                     2124\n",
       "Property_Type                                     Address\n",
       "LATITUDE                                          42.2809\n",
       "LONGITUDE                                         -71.068\n",
       "Source                               Citizens Connect App\n",
       "description                                           NaN\n",
       "COMPLETION_HOURS_LOG_10                        -0.0369997\n",
       "tract_and_block_group                             1004002\n",
       "queue_wk                                            55026\n",
       "queue_wk_open                                           1\n",
       "race_white                                       0.242399\n",
       "race_black                                       0.514358\n",
       "race_asian                                       0.035473\n",
       "race_hispanic                                   0.0675676\n",
       "race_other                                       0.140203\n",
       "poverty_pop_below_poverty_level                         0\n",
       "earned_income_per_capita                            34340\n",
       "poverty_pop_w_public_assistance                 0.0597484\n",
       "poverty_pop_w_food_stamps                        0.138365\n",
       "poverty_pop_w_ssi                               0.0597484\n",
       "is_description                                      False\n",
       "zipcode                                             02124\n",
       "neighborhood_from_zip                                 NaN\n",
       "school                                                 15\n",
       "school_std_dev                                   0.102077\n",
       "housing                                               own\n",
       "housing_std_dev                                  0.084497\n",
       "bedroom                                                 3\n",
       "bedroom_std_dev                                  0.179336\n",
       "value                                              350000\n",
       "value_std_dev                                    0.117862\n",
       "rent                                                 1750\n",
       "rent_std_dev                                     0.136873\n",
       "income                                             112500\n",
       "income_std_dev                                  0.0899897"
      ]
     },
     "execution_count": 6,
     "metadata": {},
     "output_type": "execute_result"
    }
   ],
   "source": [
    "df_orig.head(1).T"
   ]
  },
  {
   "cell_type": "code",
   "execution_count": 7,
   "metadata": {
    "collapsed": false
   },
   "outputs": [
    {
     "name": "stderr",
     "output_type": "stream",
     "text": [
      "../preprocessing/transform_for_num_issues_pred.py:78: SettingWithCopyWarning: \n",
      "A value is trying to be set on a copy of a slice from a DataFrame.\n",
      "Try using .loc[row_indexer,col_indexer] = value instead\n",
      "\n",
      "See the caveats in the documentation: http://pandas.pydata.org/pandas-docs/stable/indexing.html#indexing-view-versus-copy\n",
      "  df_subset['NUM_ISSUES'] = 1\n"
     ]
    },
    {
     "data": {
      "text/plain": [
       "(534, 28)"
      ]
     },
     "execution_count": 7,
     "metadata": {},
     "output_type": "execute_result"
    }
   ],
   "source": [
    "df_transformed = transform_dataset(df_orig)\n",
    "df_transformed.shape"
   ]
  },
  {
   "cell_type": "markdown",
   "metadata": {},
   "source": [
    "## Dropping more outliers\n",
    "\n",
    "To see if that improves the model. If so, the next question is, when do we stop removing outliers!?!"
   ]
  },
  {
   "cell_type": "code",
   "execution_count": 9,
   "metadata": {
    "collapsed": true
   },
   "outputs": [],
   "source": [
    "more_outliers = ['0107021', '0701011', '0806013'] # last one is Dudley"
   ]
  },
  {
   "cell_type": "code",
   "execution_count": 10,
   "metadata": {
    "collapsed": false
   },
   "outputs": [
    {
     "data": {
      "text/plain": [
       "(531, 28)"
      ]
     },
     "execution_count": 10,
     "metadata": {},
     "output_type": "execute_result"
    }
   ],
   "source": [
    "df_transformed = df_transformed[~df_transformed.tract_and_block_group.isin(more_outliers)]\n",
    "df_transformed.shape"
   ]
  },
  {
   "cell_type": "code",
   "execution_count": 11,
   "metadata": {
    "collapsed": true
   },
   "outputs": [
    {
     "data": {
      "text/html": [
       "<div>\n",
       "<table border=\"1\" class=\"dataframe\">\n",
       "  <thead>\n",
       "    <tr style=\"text-align: right;\">\n",
       "      <th></th>\n",
       "      <th>0</th>\n",
       "    </tr>\n",
       "  </thead>\n",
       "  <tbody>\n",
       "    <tr>\n",
       "      <th>tract_and_block_group</th>\n",
       "      <td>1004002</td>\n",
       "    </tr>\n",
       "    <tr>\n",
       "      <th>race_white</th>\n",
       "      <td>0.242399</td>\n",
       "    </tr>\n",
       "    <tr>\n",
       "      <th>race_black</th>\n",
       "      <td>0.514358</td>\n",
       "    </tr>\n",
       "    <tr>\n",
       "      <th>race_asian</th>\n",
       "      <td>0.035473</td>\n",
       "    </tr>\n",
       "    <tr>\n",
       "      <th>race_hispanic</th>\n",
       "      <td>0.0675676</td>\n",
       "    </tr>\n",
       "    <tr>\n",
       "      <th>race_other</th>\n",
       "      <td>0.140203</td>\n",
       "    </tr>\n",
       "    <tr>\n",
       "      <th>poverty_pop_below_poverty_level</th>\n",
       "      <td>0</td>\n",
       "    </tr>\n",
       "    <tr>\n",
       "      <th>earned_income_per_capita</th>\n",
       "      <td>34340</td>\n",
       "    </tr>\n",
       "    <tr>\n",
       "      <th>poverty_pop_w_public_assistance</th>\n",
       "      <td>0.0597484</td>\n",
       "    </tr>\n",
       "    <tr>\n",
       "      <th>poverty_pop_w_food_stamps</th>\n",
       "      <td>0.138365</td>\n",
       "    </tr>\n",
       "    <tr>\n",
       "      <th>poverty_pop_w_ssi</th>\n",
       "      <td>0.0597484</td>\n",
       "    </tr>\n",
       "    <tr>\n",
       "      <th>school</th>\n",
       "      <td>15</td>\n",
       "    </tr>\n",
       "    <tr>\n",
       "      <th>school_std_dev</th>\n",
       "      <td>0.102077</td>\n",
       "    </tr>\n",
       "    <tr>\n",
       "      <th>housing</th>\n",
       "      <td>own</td>\n",
       "    </tr>\n",
       "    <tr>\n",
       "      <th>housing_std_dev</th>\n",
       "      <td>0.084497</td>\n",
       "    </tr>\n",
       "    <tr>\n",
       "      <th>bedroom</th>\n",
       "      <td>3</td>\n",
       "    </tr>\n",
       "    <tr>\n",
       "      <th>bedroom_std_dev</th>\n",
       "      <td>0.179336</td>\n",
       "    </tr>\n",
       "    <tr>\n",
       "      <th>value</th>\n",
       "      <td>350000</td>\n",
       "    </tr>\n",
       "    <tr>\n",
       "      <th>value_std_dev</th>\n",
       "      <td>0.117862</td>\n",
       "    </tr>\n",
       "    <tr>\n",
       "      <th>rent</th>\n",
       "      <td>1750</td>\n",
       "    </tr>\n",
       "    <tr>\n",
       "      <th>rent_std_dev</th>\n",
       "      <td>0.136873</td>\n",
       "    </tr>\n",
       "    <tr>\n",
       "      <th>income</th>\n",
       "      <td>112500</td>\n",
       "    </tr>\n",
       "    <tr>\n",
       "      <th>income_std_dev</th>\n",
       "      <td>0.0899897</td>\n",
       "    </tr>\n",
       "    <tr>\n",
       "      <th>Source</th>\n",
       "      <td>Constituent Call</td>\n",
       "    </tr>\n",
       "    <tr>\n",
       "      <th>Property_Type</th>\n",
       "      <td>Address</td>\n",
       "    </tr>\n",
       "    <tr>\n",
       "      <th>NUM_ISSUES</th>\n",
       "      <td>741</td>\n",
       "    </tr>\n",
       "    <tr>\n",
       "      <th>population_total</th>\n",
       "      <td>1184</td>\n",
       "    </tr>\n",
       "    <tr>\n",
       "      <th>NUM_ISSUES_PER_1000_POP</th>\n",
       "      <td>625.845</td>\n",
       "    </tr>\n",
       "  </tbody>\n",
       "</table>\n",
       "</div>"
      ],
      "text/plain": [
       "                                                0\n",
       "tract_and_block_group                     1004002\n",
       "race_white                               0.242399\n",
       "race_black                               0.514358\n",
       "race_asian                               0.035473\n",
       "race_hispanic                           0.0675676\n",
       "race_other                               0.140203\n",
       "poverty_pop_below_poverty_level                 0\n",
       "earned_income_per_capita                    34340\n",
       "poverty_pop_w_public_assistance         0.0597484\n",
       "poverty_pop_w_food_stamps                0.138365\n",
       "poverty_pop_w_ssi                       0.0597484\n",
       "school                                         15\n",
       "school_std_dev                           0.102077\n",
       "housing                                       own\n",
       "housing_std_dev                          0.084497\n",
       "bedroom                                         3\n",
       "bedroom_std_dev                          0.179336\n",
       "value                                      350000\n",
       "value_std_dev                            0.117862\n",
       "rent                                         1750\n",
       "rent_std_dev                             0.136873\n",
       "income                                     112500\n",
       "income_std_dev                          0.0899897\n",
       "Source                           Constituent Call\n",
       "Property_Type                             Address\n",
       "NUM_ISSUES                                    741\n",
       "population_total                             1184\n",
       "NUM_ISSUES_PER_1000_POP                   625.845"
      ]
     },
     "execution_count": 11,
     "metadata": {},
     "output_type": "execute_result"
    }
   ],
   "source": [
    "df_transformed.head(1).T"
   ]
  },
  {
   "cell_type": "markdown",
   "metadata": {},
   "source": [
    "## Choosing columns"
   ]
  },
  {
   "cell_type": "code",
   "execution_count": 51,
   "metadata": {
    "collapsed": false
   },
   "outputs": [],
   "source": [
    "cols_orig_dataset = ['NUM_ISSUES_PER_1000_POP']\n",
    "cols_census = ['race_white',\n",
    "     'race_black',\n",
    "     'race_asian',\n",
    "     'race_hispanic',\n",
    "     'race_other',\n",
    "     'poverty_pop_below_poverty_level',\n",
    "     'school',\n",
    "     'school_std_dev',\n",
    "     'housing',\n",
    "     'housing_std_dev',\n",
    "     'income',\n",
    "     'income_std_dev']\n",
    "cols_census = [\n",
    "     'race_black',\n",
    "     'race_asian',\n",
    "     'race_hispanic',\n",
    "     'poverty_pop_below_poverty_level',\n",
    "     'housing',\n",
    "     'bedroom',\n",
    "     'rent',\n",
    "     'income',\n",
    "     'income_std_dev']"
   ]
  },
  {
   "cell_type": "code",
   "execution_count": 52,
   "metadata": {
    "collapsed": false
   },
   "outputs": [
    {
     "data": {
      "text/plain": [
       "(531, 10)"
      ]
     },
     "execution_count": 52,
     "metadata": {},
     "output_type": "execute_result"
    }
   ],
   "source": [
    "df_col_subset = df_transformed[cols_orig_dataset + cols_census]\n",
    "df_col_subset.shape"
   ]
  },
  {
   "cell_type": "code",
   "execution_count": 53,
   "metadata": {
    "collapsed": false
   },
   "outputs": [
    {
     "data": {
      "text/plain": [
       "NUM_ISSUES_PER_1000_POP            False\n",
       "race_black                         False\n",
       "race_asian                         False\n",
       "race_hispanic                      False\n",
       "poverty_pop_below_poverty_level    False\n",
       "housing                            False\n",
       "bedroom                            False\n",
       "rent                               False\n",
       "income                             False\n",
       "income_std_dev                      True\n",
       "dtype: bool"
      ]
     },
     "execution_count": 53,
     "metadata": {},
     "output_type": "execute_result"
    }
   ],
   "source": [
    "df_col_subset.isnull().any()"
   ]
  },
  {
   "cell_type": "code",
   "execution_count": 54,
   "metadata": {
    "collapsed": false
   },
   "outputs": [
    {
     "data": {
      "text/plain": [
       "(530, 10)"
      ]
     },
     "execution_count": 54,
     "metadata": {},
     "output_type": "execute_result"
    }
   ],
   "source": [
    "# this is a bad temporary band-aid\n",
    "df_col_subset = df_col_subset.dropna(subset=['income_std_dev'])\n",
    "df_col_subset.shape"
   ]
  },
  {
   "cell_type": "markdown",
   "metadata": {},
   "source": [
    "## Dummify"
   ]
  },
  {
   "cell_type": "code",
   "execution_count": 55,
   "metadata": {
    "collapsed": false
   },
   "outputs": [
    {
     "data": {
      "text/plain": [
       "Index([u'housing'], dtype='object')"
      ]
     },
     "execution_count": 55,
     "metadata": {},
     "output_type": "execute_result"
    }
   ],
   "source": [
    "cols_to_dummify = df_col_subset.dtypes[df_col_subset.dtypes == object].index\n",
    "cols_to_dummify"
   ]
  },
  {
   "cell_type": "code",
   "execution_count": 56,
   "metadata": {
    "collapsed": false
   },
   "outputs": [
    {
     "name": "stdout",
     "output_type": "stream",
     "text": [
      "rent is baseline 0 1\n"
     ]
    }
   ],
   "source": [
    "df_dummified, baseline_cols = dummify_cols_and_baselines(df_col_subset, cols_to_dummify)"
   ]
  },
  {
   "cell_type": "code",
   "execution_count": 57,
   "metadata": {
    "collapsed": false
   },
   "outputs": [
    {
     "data": {
      "text/plain": [
       "(530, 10)"
      ]
     },
     "execution_count": 57,
     "metadata": {},
     "output_type": "execute_result"
    }
   ],
   "source": [
    "df_dummified.shape"
   ]
  },
  {
   "cell_type": "code",
   "execution_count": 58,
   "metadata": {
    "collapsed": true
   },
   "outputs": [],
   "source": [
    "# df_dummified = df_dummified.drop('race_other', axis=1)"
   ]
  },
  {
   "cell_type": "markdown",
   "metadata": {},
   "source": [
    "## Running model"
   ]
  },
  {
   "cell_type": "code",
   "execution_count": 59,
   "metadata": {
    "collapsed": false
   },
   "outputs": [],
   "source": [
    "from sklearn.cross_validation import train_test_split\n",
    "from sklearn.pipeline import make_pipeline\n",
    "from sklearn.model_selection import GridSearchCV\n",
    "from sklearn.linear_model import LinearRegression, LassoCV\n",
    "from sklearn.cross_validation import ShuffleSplit\n",
    "from sklearn.preprocessing import StandardScaler\n",
    "from sklearn.metrics import mean_squared_error, r2_score\n",
    "from sklearn.metrics import make_scorer\n"
   ]
  },
  {
   "cell_type": "code",
   "execution_count": 61,
   "metadata": {
    "collapsed": false
   },
   "outputs": [],
   "source": [
    "X_train, X_test, y_train, y_test = train_test_split(\n",
    "    df_dummified.drop(['NUM_ISSUES_PER_1000_POP'], axis=1), \n",
    "    df_dummified.NUM_ISSUES_PER_1000_POP, \n",
    "    test_size=0.2, \n",
    "    random_state=500\n",
    ")"
   ]
  },
  {
   "cell_type": "code",
   "execution_count": 62,
   "metadata": {
    "collapsed": true
   },
   "outputs": [],
   "source": [
    "pipe = make_pipeline(StandardScaler(), LassoCV())"
   ]
  },
  {
   "cell_type": "code",
   "execution_count": 63,
   "metadata": {
    "collapsed": true
   },
   "outputs": [],
   "source": [
    "mse = make_scorer(mean_squared_error, greater_is_better=False)\n",
    "adjusted_r2_scorer = make_scorer(adjusted_r2, num_features=X_test.shape[1])"
   ]
  },
  {
   "cell_type": "code",
   "execution_count": 64,
   "metadata": {
    "collapsed": false
   },
   "outputs": [],
   "source": [
    "params = {'lassocv__alphas': make_alphas(-3, 3)}\n",
    "# params = {'lassocv__alphas': [[10]]}\n",
    "model = GridSearchCV(pipe, param_grid=params, n_jobs=-1, cv=5, scoring=adjusted_r2_scorer)\n",
    "model.fit(X_train, y_train);"
   ]
  },
  {
   "cell_type": "code",
   "execution_count": 67,
   "metadata": {
    "collapsed": false
   },
   "outputs": [
    {
     "data": {
      "text/html": [
       "<div>\n",
       "<table border=\"1\" class=\"dataframe\">\n",
       "  <thead>\n",
       "    <tr style=\"text-align: right;\">\n",
       "      <th></th>\n",
       "      <th>0</th>\n",
       "      <th>1</th>\n",
       "      <th>2</th>\n",
       "      <th>3</th>\n",
       "      <th>4</th>\n",
       "      <th>5</th>\n",
       "      <th>6</th>\n",
       "      <th>7</th>\n",
       "      <th>8</th>\n",
       "      <th>9</th>\n",
       "      <th>10</th>\n",
       "      <th>11</th>\n",
       "      <th>12</th>\n",
       "    </tr>\n",
       "  </thead>\n",
       "  <tbody>\n",
       "    <tr>\n",
       "      <th>mean_test_score</th>\n",
       "      <td>0.139262</td>\n",
       "      <td>0.139264</td>\n",
       "      <td>0.139271</td>\n",
       "      <td>0.139291</td>\n",
       "      <td>0.139361</td>\n",
       "      <td>0.139595</td>\n",
       "      <td>0.140365</td>\n",
       "      <td>0.142222</td>\n",
       "      <td>0.144565</td>\n",
       "      <td>0.131982</td>\n",
       "      <td>0.0268871</td>\n",
       "      <td>-0.127112</td>\n",
       "      <td>-0.127112</td>\n",
       "    </tr>\n",
       "    <tr>\n",
       "      <th>mean_train_score</th>\n",
       "      <td>0.251226</td>\n",
       "      <td>0.251226</td>\n",
       "      <td>0.251226</td>\n",
       "      <td>0.251226</td>\n",
       "      <td>0.251225</td>\n",
       "      <td>0.251219</td>\n",
       "      <td>0.251153</td>\n",
       "      <td>0.250625</td>\n",
       "      <td>0.246111</td>\n",
       "      <td>0.227441</td>\n",
       "      <td>0.118093</td>\n",
       "      <td>-0.027339</td>\n",
       "      <td>-0.027339</td>\n",
       "    </tr>\n",
       "    <tr>\n",
       "      <th>param_lassocv__alphas</th>\n",
       "      <td>[0.001]</td>\n",
       "      <td>[0.003]</td>\n",
       "      <td>[0.01]</td>\n",
       "      <td>[0.03]</td>\n",
       "      <td>[0.1]</td>\n",
       "      <td>[0.3]</td>\n",
       "      <td>[1.0]</td>\n",
       "      <td>[3.0]</td>\n",
       "      <td>[10.0]</td>\n",
       "      <td>[30.0]</td>\n",
       "      <td>[100.0]</td>\n",
       "      <td>[300.0]</td>\n",
       "      <td>[1000.0]</td>\n",
       "    </tr>\n",
       "  </tbody>\n",
       "</table>\n",
       "</div>"
      ],
      "text/plain": [
       "                             0         1         2         3         4   \\\n",
       "mean_test_score        0.139262  0.139264  0.139271  0.139291  0.139361   \n",
       "mean_train_score       0.251226  0.251226  0.251226  0.251226  0.251225   \n",
       "param_lassocv__alphas   [0.001]   [0.003]    [0.01]    [0.03]     [0.1]   \n",
       "\n",
       "                             5         6         7         8         9   \\\n",
       "mean_test_score        0.139595  0.140365  0.142222  0.144565  0.131982   \n",
       "mean_train_score       0.251219  0.251153  0.250625  0.246111  0.227441   \n",
       "param_lassocv__alphas     [0.3]     [1.0]     [3.0]    [10.0]    [30.0]   \n",
       "\n",
       "                              10        11        12  \n",
       "mean_test_score        0.0268871 -0.127112 -0.127112  \n",
       "mean_train_score        0.118093 -0.027339 -0.027339  \n",
       "param_lassocv__alphas    [100.0]   [300.0]  [1000.0]  "
      ]
     },
     "execution_count": 67,
     "metadata": {},
     "output_type": "execute_result"
    }
   ],
   "source": [
    "pd.DataFrame(model.cv_results_).T.iloc[2:5]"
   ]
  },
  {
   "cell_type": "code",
   "execution_count": 68,
   "metadata": {
    "collapsed": false
   },
   "outputs": [
    {
     "name": "stdout",
     "output_type": "stream",
     "text": [
      "0.14456484278\n",
      "{'lassocv__alphas': [10.0]}\n"
     ]
    }
   ],
   "source": [
    "print model.best_score_\n",
    "print model.best_params_"
   ]
  },
  {
   "cell_type": "code",
   "execution_count": 69,
   "metadata": {
    "collapsed": false
   },
   "outputs": [
    {
     "data": {
      "text/plain": [
       "0.14642548408453829"
      ]
     },
     "execution_count": 69,
     "metadata": {},
     "output_type": "execute_result"
    }
   ],
   "source": [
    "model.score(X_test, y_test)"
   ]
  },
  {
   "cell_type": "code",
   "execution_count": 27,
   "metadata": {
    "collapsed": true
   },
   "outputs": [],
   "source": [
    "y_pred = model.predict(X_test)"
   ]
  },
  {
   "cell_type": "code",
   "execution_count": 28,
   "metadata": {
    "collapsed": false
   },
   "outputs": [
    {
     "data": {
      "text/plain": [
       "0.29196577228949505"
      ]
     },
     "execution_count": 28,
     "metadata": {},
     "output_type": "execute_result"
    }
   ],
   "source": [
    "r2_score(y_test, y_pred)"
   ]
  },
  {
   "cell_type": "code",
   "execution_count": 48,
   "metadata": {
    "collapsed": false
   },
   "outputs": [
    {
     "data": {
      "text/plain": [
       "320.39135017791932"
      ]
     },
     "execution_count": 48,
     "metadata": {},
     "output_type": "execute_result"
    }
   ],
   "source": [
    "mean_squared_error(y_test, y_pred)**0.5"
   ]
  },
  {
   "cell_type": "markdown",
   "metadata": {},
   "source": [
    "### How many coefs at 0?"
   ]
  },
  {
   "cell_type": "code",
   "execution_count": 70,
   "metadata": {
    "collapsed": false
   },
   "outputs": [
    {
     "data": {
      "text/plain": [
       "3"
      ]
     },
     "execution_count": 70,
     "metadata": {},
     "output_type": "execute_result"
    }
   ],
   "source": [
    "(model.best_estimator_.steps[-1][-1].coef_ == 0).sum()"
   ]
  },
  {
   "cell_type": "code",
   "execution_count": 71,
   "metadata": {
    "collapsed": false
   },
   "outputs": [
    {
     "data": {
      "text/plain": [
       "9"
      ]
     },
     "execution_count": 71,
     "metadata": {},
     "output_type": "execute_result"
    }
   ],
   "source": [
    "X_train.shape[1]"
   ]
  },
  {
   "cell_type": "markdown",
   "metadata": {},
   "source": [
    "3 out of 11 went to 0."
   ]
  },
  {
   "cell_type": "markdown",
   "metadata": {},
   "source": [
    "### Interesting  coef values?"
   ]
  },
  {
   "cell_type": "code",
   "execution_count": 72,
   "metadata": {
    "collapsed": true
   },
   "outputs": [],
   "source": [
    "coef_values = pd.DataFrame({\n",
    "    'name': X_train.columns,\n",
    "    'coef': model.best_estimator_.steps[-1][-1].coef_\n",
    "})\n",
    "\n",
    "coef_values['abs_coef'] = pd.np.abs(coef_values.coef)"
   ]
  },
  {
   "cell_type": "code",
   "execution_count": 73,
   "metadata": {
    "collapsed": false
   },
   "outputs": [
    {
     "data": {
      "text/html": [
       "<div>\n",
       "<table border=\"1\" class=\"dataframe\">\n",
       "  <thead>\n",
       "    <tr style=\"text-align: right;\">\n",
       "      <th></th>\n",
       "      <th>coef</th>\n",
       "      <th>name</th>\n",
       "      <th>abs_coef</th>\n",
       "    </tr>\n",
       "  </thead>\n",
       "  <tbody>\n",
       "    <tr>\n",
       "      <th>3</th>\n",
       "      <td>-105.924478</td>\n",
       "      <td>poverty_pop_below_poverty_level</td>\n",
       "      <td>105.924478</td>\n",
       "    </tr>\n",
       "    <tr>\n",
       "      <th>2</th>\n",
       "      <td>-78.656195</td>\n",
       "      <td>race_hispanic</td>\n",
       "      <td>78.656195</td>\n",
       "    </tr>\n",
       "    <tr>\n",
       "      <th>1</th>\n",
       "      <td>-30.362473</td>\n",
       "      <td>race_asian</td>\n",
       "      <td>30.362473</td>\n",
       "    </tr>\n",
       "    <tr>\n",
       "      <th>6</th>\n",
       "      <td>27.640083</td>\n",
       "      <td>income</td>\n",
       "      <td>27.640083</td>\n",
       "    </tr>\n",
       "    <tr>\n",
       "      <th>8</th>\n",
       "      <td>16.977329</td>\n",
       "      <td>housing_own</td>\n",
       "      <td>16.977329</td>\n",
       "    </tr>\n",
       "    <tr>\n",
       "      <th>0</th>\n",
       "      <td>-8.152135</td>\n",
       "      <td>race_black</td>\n",
       "      <td>8.152135</td>\n",
       "    </tr>\n",
       "  </tbody>\n",
       "</table>\n",
       "</div>"
      ],
      "text/plain": [
       "         coef                             name    abs_coef\n",
       "3 -105.924478  poverty_pop_below_poverty_level  105.924478\n",
       "2  -78.656195                    race_hispanic   78.656195\n",
       "1  -30.362473                       race_asian   30.362473\n",
       "6   27.640083                           income   27.640083\n",
       "8   16.977329                      housing_own   16.977329\n",
       "0   -8.152135                       race_black    8.152135"
      ]
     },
     "execution_count": 73,
     "metadata": {},
     "output_type": "execute_result"
    }
   ],
   "source": [
    "coef_values[coef_values.coef != 0].sort_values('abs_coef', ascending=False)"
   ]
  },
  {
   "cell_type": "markdown",
   "metadata": {},
   "source": [
    "Which ones went to 0?"
   ]
  },
  {
   "cell_type": "code",
   "execution_count": 74,
   "metadata": {
    "collapsed": false
   },
   "outputs": [
    {
     "data": {
      "text/html": [
       "<div>\n",
       "<table border=\"1\" class=\"dataframe\">\n",
       "  <thead>\n",
       "    <tr style=\"text-align: right;\">\n",
       "      <th></th>\n",
       "      <th>coef</th>\n",
       "      <th>name</th>\n",
       "      <th>abs_coef</th>\n",
       "    </tr>\n",
       "  </thead>\n",
       "  <tbody>\n",
       "    <tr>\n",
       "      <th>4</th>\n",
       "      <td>0.0</td>\n",
       "      <td>bedroom</td>\n",
       "      <td>0.0</td>\n",
       "    </tr>\n",
       "    <tr>\n",
       "      <th>5</th>\n",
       "      <td>-0.0</td>\n",
       "      <td>rent</td>\n",
       "      <td>0.0</td>\n",
       "    </tr>\n",
       "    <tr>\n",
       "      <th>7</th>\n",
       "      <td>0.0</td>\n",
       "      <td>income_std_dev</td>\n",
       "      <td>0.0</td>\n",
       "    </tr>\n",
       "  </tbody>\n",
       "</table>\n",
       "</div>"
      ],
      "text/plain": [
       "   coef            name  abs_coef\n",
       "4   0.0         bedroom       0.0\n",
       "5  -0.0            rent       0.0\n",
       "7   0.0  income_std_dev       0.0"
      ]
     },
     "execution_count": 74,
     "metadata": {},
     "output_type": "execute_result"
    }
   ],
   "source": [
    "coef_values[coef_values.coef == 0]"
   ]
  },
  {
   "cell_type": "markdown",
   "metadata": {},
   "source": [
    "## How biased of an estimator?"
   ]
  },
  {
   "cell_type": "code",
   "execution_count": 34,
   "metadata": {
    "collapsed": false
   },
   "outputs": [
    {
     "data": {
      "text/plain": [
       "count     107.000000\n",
       "mean      818.061750\n",
       "std       382.553881\n",
       "min        41.771094\n",
       "25%       572.609348\n",
       "50%       766.844401\n",
       "75%      1008.393285\n",
       "max      2038.740920\n",
       "Name: NUM_ISSUES_PER_1000_POP, dtype: float64"
      ]
     },
     "execution_count": 34,
     "metadata": {},
     "output_type": "execute_result"
    }
   ],
   "source": [
    "y_test.describe()"
   ]
  },
  {
   "cell_type": "code",
   "execution_count": 35,
   "metadata": {
    "collapsed": false
   },
   "outputs": [
    {
     "data": {
      "text/plain": [
       "count     107.000000\n",
       "mean      793.414245\n",
       "std       194.341198\n",
       "min       201.394721\n",
       "25%       684.880469\n",
       "50%       794.940390\n",
       "75%       955.569588\n",
       "max      1110.146731\n",
       "dtype: float64"
      ]
     },
     "execution_count": 35,
     "metadata": {},
     "output_type": "execute_result"
    }
   ],
   "source": [
    "pd.Series(y_pred).describe()"
   ]
  },
  {
   "cell_type": "code",
   "execution_count": 47,
   "metadata": {
    "collapsed": false
   },
   "outputs": [
    {
     "data": {
      "text/plain": [
       "count     107.000000\n",
       "mean      -24.647505\n",
       "std       320.945149\n",
       "min     -1459.549921\n",
       "25%      -151.296245\n",
       "50%        27.950099\n",
       "75%       140.638699\n",
       "max       737.131993\n",
       "dtype: float64"
      ]
     },
     "execution_count": 47,
     "metadata": {},
     "output_type": "execute_result"
    }
   ],
   "source": [
    "(pd.Series(y_pred) - y_test.reset_index()['NUM_ISSUES_PER_1000_POP']).describe()"
   ]
  },
  {
   "cell_type": "markdown",
   "metadata": {},
   "source": [
    "## Conclusion\n",
    "\n",
    "Using my custom-chosen subset of features, designed to reduce multicollinearity, gives me better performance.\n",
    "\n",
    "The variance in the data my model explains is low, but it's a fairly unbiased estimator. That is to say, on the whole, its guesses aren't too far off from the true values. There is just a lot of variance in the data."
   ]
  }
 ],
 "metadata": {
  "anaconda-cloud": {},
  "kernelspec": {
   "display_name": "Python [default]",
   "language": "python",
   "name": "python2"
  },
  "language_info": {
   "codemirror_mode": {
    "name": "ipython",
    "version": 2
   },
   "file_extension": ".py",
   "mimetype": "text/x-python",
   "name": "python",
   "nbconvert_exporter": "python",
   "pygments_lexer": "ipython2",
   "version": "2.7.12"
  }
 },
 "nbformat": 4,
 "nbformat_minor": 2
}
