{
 "cells": [
  {
   "cell_type": "code",
   "execution_count": 1,
   "metadata": {
    "collapsed": false
   },
   "outputs": [
    {
     "name": "stdout",
     "output_type": "stream",
     "text": [
      "The autoreload extension is already loaded. To reload it, use:\n",
      "  %reload_ext autoreload\n"
     ]
    }
   ],
   "source": [
    "%load_ext autoreload\n",
    "%autoreload 2"
   ]
  },
  {
   "cell_type": "markdown",
   "metadata": {},
   "source": [
    "## Objective\n",
    "\n",
    "While I guess I could use subsetted feats from prev LassoCV, I think the adj R2 of ~0.2 is low enough that I should be suspect of the features it had go to 0. I do want to avoid multicollinearity for the sake of interpreting the CI for ea feature, so I will remove some columns based on my EDA.\n",
    "\n",
    "Let's see (1) how much I overfit, and (2) whether any features are statistically significant."
   ]
  },
  {
   "cell_type": "code",
   "execution_count": 2,
   "metadata": {
    "collapsed": false
   },
   "outputs": [],
   "source": [
    "import os, sys\n",
    "sys.path.append(os.path.join(os.path.dirname('.'), \"../preprocessing\"))\n",
    "\n",
    "from transform_for_num_issues_pred import main as transform_dataset\n",
    "from helper_functions import get_vifs"
   ]
  },
  {
   "cell_type": "code",
   "execution_count": 3,
   "metadata": {
    "collapsed": false
   },
   "outputs": [],
   "source": [
    "from __future__ import division\n",
    "import pandas as pd\n",
    "import numpy as np\n",
    "import warnings\n",
    "import seaborn as sns\n",
    "import matplotlib.pyplot as plt\n",
    "from pylab import rcParams\n",
    "%matplotlib inline\n",
    "import string\n",
    "from StringIO import StringIO\n",
    "\n",
    "warnings.filterwarnings(\"ignore\", category=DeprecationWarning)\n",
    "sns.set_style(\"whitegrid\")\n",
    "sns.set_context(\"poster\")\n",
    "rcParams['figure.figsize'] = 20, 5\n",
    "\n",
    "from helper_functions import dummify_cols_and_baselines, make_alphas, adjusted_r2, transform_school"
   ]
  },
  {
   "cell_type": "code",
   "execution_count": 4,
   "metadata": {
    "collapsed": false
   },
   "outputs": [
    {
     "data": {
      "text/plain": [
       "(516406, 40)"
      ]
     },
     "execution_count": 4,
     "metadata": {},
     "output_type": "execute_result"
    }
   ],
   "source": [
    "df_orig = pd.read_pickle('../data/data_from_remove_from_dataset.pkl')\n",
    "df_orig.shape"
   ]
  },
  {
   "cell_type": "code",
   "execution_count": 5,
   "metadata": {
    "collapsed": false
   },
   "outputs": [
    {
     "name": "stderr",
     "output_type": "stream",
     "text": [
      "../preprocessing/helper_functions.py:58: FutureWarning: currently extract(expand=None) means expand=False (return Index/Series/DataFrame) but in a future version of pandas this will be changed to expand=True (return DataFrame)\n",
      "  df.school = df.school.str.extract(r'(\\d\\d?)').astype(int)\n"
     ]
    },
    {
     "data": {
      "text/plain": [
       "(516406, 40)"
      ]
     },
     "execution_count": 5,
     "metadata": {},
     "output_type": "execute_result"
    }
   ],
   "source": [
    "df_orig = transform_school(df_orig)\n",
    "df_orig.shape"
   ]
  },
  {
   "cell_type": "code",
   "execution_count": 6,
   "metadata": {
    "collapsed": true
   },
   "outputs": [
    {
     "data": {
      "text/html": [
       "<div>\n",
       "<table border=\"1\" class=\"dataframe\">\n",
       "  <thead>\n",
       "    <tr style=\"text-align: right;\">\n",
       "      <th></th>\n",
       "      <th>905425</th>\n",
       "    </tr>\n",
       "  </thead>\n",
       "  <tbody>\n",
       "    <tr>\n",
       "      <th>CASE_ENQUIRY_ID</th>\n",
       "      <td>101001983786</td>\n",
       "    </tr>\n",
       "    <tr>\n",
       "      <th>OPEN_DT</th>\n",
       "      <td>2017-01-07 10:51:37</td>\n",
       "    </tr>\n",
       "    <tr>\n",
       "      <th>CLOSED_DT</th>\n",
       "      <td>2017-01-07 11:46:43</td>\n",
       "    </tr>\n",
       "    <tr>\n",
       "      <th>TYPE</th>\n",
       "      <td>Request for Snow Plowing</td>\n",
       "    </tr>\n",
       "    <tr>\n",
       "      <th>SubmittedPhoto</th>\n",
       "      <td>True</td>\n",
       "    </tr>\n",
       "    <tr>\n",
       "      <th>LOCATION_ZIPCODE</th>\n",
       "      <td>2124</td>\n",
       "    </tr>\n",
       "    <tr>\n",
       "      <th>Property_Type</th>\n",
       "      <td>Address</td>\n",
       "    </tr>\n",
       "    <tr>\n",
       "      <th>LATITUDE</th>\n",
       "      <td>42.2809</td>\n",
       "    </tr>\n",
       "    <tr>\n",
       "      <th>LONGITUDE</th>\n",
       "      <td>-71.068</td>\n",
       "    </tr>\n",
       "    <tr>\n",
       "      <th>Source</th>\n",
       "      <td>Citizens Connect App</td>\n",
       "    </tr>\n",
       "    <tr>\n",
       "      <th>description</th>\n",
       "      <td>NaN</td>\n",
       "    </tr>\n",
       "    <tr>\n",
       "      <th>COMPLETION_HOURS_LOG_10</th>\n",
       "      <td>-0.0369997</td>\n",
       "    </tr>\n",
       "    <tr>\n",
       "      <th>tract_and_block_group</th>\n",
       "      <td>1004002</td>\n",
       "    </tr>\n",
       "    <tr>\n",
       "      <th>queue_wk</th>\n",
       "      <td>55026</td>\n",
       "    </tr>\n",
       "    <tr>\n",
       "      <th>queue_wk_open</th>\n",
       "      <td>1</td>\n",
       "    </tr>\n",
       "    <tr>\n",
       "      <th>race_white</th>\n",
       "      <td>0.242399</td>\n",
       "    </tr>\n",
       "    <tr>\n",
       "      <th>race_black</th>\n",
       "      <td>0.514358</td>\n",
       "    </tr>\n",
       "    <tr>\n",
       "      <th>race_asian</th>\n",
       "      <td>0.035473</td>\n",
       "    </tr>\n",
       "    <tr>\n",
       "      <th>race_hispanic</th>\n",
       "      <td>0.0675676</td>\n",
       "    </tr>\n",
       "    <tr>\n",
       "      <th>race_other</th>\n",
       "      <td>0.140203</td>\n",
       "    </tr>\n",
       "    <tr>\n",
       "      <th>poverty_pop_below_poverty_level</th>\n",
       "      <td>0</td>\n",
       "    </tr>\n",
       "    <tr>\n",
       "      <th>earned_income_per_capita</th>\n",
       "      <td>34340</td>\n",
       "    </tr>\n",
       "    <tr>\n",
       "      <th>poverty_pop_w_public_assistance</th>\n",
       "      <td>0.0597484</td>\n",
       "    </tr>\n",
       "    <tr>\n",
       "      <th>poverty_pop_w_food_stamps</th>\n",
       "      <td>0.138365</td>\n",
       "    </tr>\n",
       "    <tr>\n",
       "      <th>poverty_pop_w_ssi</th>\n",
       "      <td>0.0597484</td>\n",
       "    </tr>\n",
       "    <tr>\n",
       "      <th>is_description</th>\n",
       "      <td>False</td>\n",
       "    </tr>\n",
       "    <tr>\n",
       "      <th>zipcode</th>\n",
       "      <td>02124</td>\n",
       "    </tr>\n",
       "    <tr>\n",
       "      <th>neighborhood_from_zip</th>\n",
       "      <td>NaN</td>\n",
       "    </tr>\n",
       "    <tr>\n",
       "      <th>school</th>\n",
       "      <td>15</td>\n",
       "    </tr>\n",
       "    <tr>\n",
       "      <th>school_std_dev</th>\n",
       "      <td>0.102077</td>\n",
       "    </tr>\n",
       "    <tr>\n",
       "      <th>housing</th>\n",
       "      <td>own</td>\n",
       "    </tr>\n",
       "    <tr>\n",
       "      <th>housing_std_dev</th>\n",
       "      <td>0.084497</td>\n",
       "    </tr>\n",
       "    <tr>\n",
       "      <th>bedroom</th>\n",
       "      <td>3</td>\n",
       "    </tr>\n",
       "    <tr>\n",
       "      <th>bedroom_std_dev</th>\n",
       "      <td>0.179336</td>\n",
       "    </tr>\n",
       "    <tr>\n",
       "      <th>value</th>\n",
       "      <td>350000</td>\n",
       "    </tr>\n",
       "    <tr>\n",
       "      <th>value_std_dev</th>\n",
       "      <td>0.117862</td>\n",
       "    </tr>\n",
       "    <tr>\n",
       "      <th>rent</th>\n",
       "      <td>1750</td>\n",
       "    </tr>\n",
       "    <tr>\n",
       "      <th>rent_std_dev</th>\n",
       "      <td>0.136873</td>\n",
       "    </tr>\n",
       "    <tr>\n",
       "      <th>income</th>\n",
       "      <td>112500</td>\n",
       "    </tr>\n",
       "    <tr>\n",
       "      <th>income_std_dev</th>\n",
       "      <td>0.0899897</td>\n",
       "    </tr>\n",
       "  </tbody>\n",
       "</table>\n",
       "</div>"
      ],
      "text/plain": [
       "                                                   905425\n",
       "CASE_ENQUIRY_ID                              101001983786\n",
       "OPEN_DT                               2017-01-07 10:51:37\n",
       "CLOSED_DT                             2017-01-07 11:46:43\n",
       "TYPE                             Request for Snow Plowing\n",
       "SubmittedPhoto                                       True\n",
       "LOCATION_ZIPCODE                                     2124\n",
       "Property_Type                                     Address\n",
       "LATITUDE                                          42.2809\n",
       "LONGITUDE                                         -71.068\n",
       "Source                               Citizens Connect App\n",
       "description                                           NaN\n",
       "COMPLETION_HOURS_LOG_10                        -0.0369997\n",
       "tract_and_block_group                             1004002\n",
       "queue_wk                                            55026\n",
       "queue_wk_open                                           1\n",
       "race_white                                       0.242399\n",
       "race_black                                       0.514358\n",
       "race_asian                                       0.035473\n",
       "race_hispanic                                   0.0675676\n",
       "race_other                                       0.140203\n",
       "poverty_pop_below_poverty_level                         0\n",
       "earned_income_per_capita                            34340\n",
       "poverty_pop_w_public_assistance                 0.0597484\n",
       "poverty_pop_w_food_stamps                        0.138365\n",
       "poverty_pop_w_ssi                               0.0597484\n",
       "is_description                                      False\n",
       "zipcode                                             02124\n",
       "neighborhood_from_zip                                 NaN\n",
       "school                                                 15\n",
       "school_std_dev                                   0.102077\n",
       "housing                                               own\n",
       "housing_std_dev                                  0.084497\n",
       "bedroom                                                 3\n",
       "bedroom_std_dev                                  0.179336\n",
       "value                                              350000\n",
       "value_std_dev                                    0.117862\n",
       "rent                                                 1750\n",
       "rent_std_dev                                     0.136873\n",
       "income                                             112500\n",
       "income_std_dev                                  0.0899897"
      ]
     },
     "execution_count": 6,
     "metadata": {},
     "output_type": "execute_result"
    }
   ],
   "source": [
    "df_orig.head(1).T"
   ]
  },
  {
   "cell_type": "code",
   "execution_count": 7,
   "metadata": {
    "collapsed": false
   },
   "outputs": [
    {
     "name": "stderr",
     "output_type": "stream",
     "text": [
      "../preprocessing/transform_for_num_issues_pred.py:78: SettingWithCopyWarning: \n",
      "A value is trying to be set on a copy of a slice from a DataFrame.\n",
      "Try using .loc[row_indexer,col_indexer] = value instead\n",
      "\n",
      "See the caveats in the documentation: http://pandas.pydata.org/pandas-docs/stable/indexing.html#indexing-view-versus-copy\n",
      "  df_subset['NUM_ISSUES'] = 1\n"
     ]
    },
    {
     "data": {
      "text/plain": [
       "(534, 28)"
      ]
     },
     "execution_count": 7,
     "metadata": {},
     "output_type": "execute_result"
    }
   ],
   "source": [
    "df_transformed = transform_dataset(df_orig)\n",
    "df_transformed.shape"
   ]
  },
  {
   "cell_type": "markdown",
   "metadata": {},
   "source": [
    "## Dropping more outliers\n",
    "\n",
    "To see if that improves the model. If so, the next question is, when do we stop removing outliers!?!"
   ]
  },
  {
   "cell_type": "code",
   "execution_count": 8,
   "metadata": {
    "collapsed": true
   },
   "outputs": [],
   "source": [
    "more_outliers = ['0107021', '0701011', '0806013'] # last one is Dudley"
   ]
  },
  {
   "cell_type": "code",
   "execution_count": 9,
   "metadata": {
    "collapsed": false
   },
   "outputs": [
    {
     "data": {
      "text/plain": [
       "(531, 28)"
      ]
     },
     "execution_count": 9,
     "metadata": {},
     "output_type": "execute_result"
    }
   ],
   "source": [
    "df_transformed = df_transformed[~df_transformed.tract_and_block_group.isin(more_outliers)]\n",
    "df_transformed.shape"
   ]
  },
  {
   "cell_type": "code",
   "execution_count": 10,
   "metadata": {
    "collapsed": true
   },
   "outputs": [
    {
     "data": {
      "text/html": [
       "<div>\n",
       "<table border=\"1\" class=\"dataframe\">\n",
       "  <thead>\n",
       "    <tr style=\"text-align: right;\">\n",
       "      <th></th>\n",
       "      <th>0</th>\n",
       "    </tr>\n",
       "  </thead>\n",
       "  <tbody>\n",
       "    <tr>\n",
       "      <th>tract_and_block_group</th>\n",
       "      <td>1004002</td>\n",
       "    </tr>\n",
       "    <tr>\n",
       "      <th>race_white</th>\n",
       "      <td>0.242399</td>\n",
       "    </tr>\n",
       "    <tr>\n",
       "      <th>race_black</th>\n",
       "      <td>0.514358</td>\n",
       "    </tr>\n",
       "    <tr>\n",
       "      <th>race_asian</th>\n",
       "      <td>0.035473</td>\n",
       "    </tr>\n",
       "    <tr>\n",
       "      <th>race_hispanic</th>\n",
       "      <td>0.0675676</td>\n",
       "    </tr>\n",
       "    <tr>\n",
       "      <th>race_other</th>\n",
       "      <td>0.140203</td>\n",
       "    </tr>\n",
       "    <tr>\n",
       "      <th>poverty_pop_below_poverty_level</th>\n",
       "      <td>0</td>\n",
       "    </tr>\n",
       "    <tr>\n",
       "      <th>earned_income_per_capita</th>\n",
       "      <td>34340</td>\n",
       "    </tr>\n",
       "    <tr>\n",
       "      <th>poverty_pop_w_public_assistance</th>\n",
       "      <td>0.0597484</td>\n",
       "    </tr>\n",
       "    <tr>\n",
       "      <th>poverty_pop_w_food_stamps</th>\n",
       "      <td>0.138365</td>\n",
       "    </tr>\n",
       "    <tr>\n",
       "      <th>poverty_pop_w_ssi</th>\n",
       "      <td>0.0597484</td>\n",
       "    </tr>\n",
       "    <tr>\n",
       "      <th>school</th>\n",
       "      <td>15</td>\n",
       "    </tr>\n",
       "    <tr>\n",
       "      <th>school_std_dev</th>\n",
       "      <td>0.102077</td>\n",
       "    </tr>\n",
       "    <tr>\n",
       "      <th>housing</th>\n",
       "      <td>own</td>\n",
       "    </tr>\n",
       "    <tr>\n",
       "      <th>housing_std_dev</th>\n",
       "      <td>0.084497</td>\n",
       "    </tr>\n",
       "    <tr>\n",
       "      <th>bedroom</th>\n",
       "      <td>3</td>\n",
       "    </tr>\n",
       "    <tr>\n",
       "      <th>bedroom_std_dev</th>\n",
       "      <td>0.179336</td>\n",
       "    </tr>\n",
       "    <tr>\n",
       "      <th>value</th>\n",
       "      <td>350000</td>\n",
       "    </tr>\n",
       "    <tr>\n",
       "      <th>value_std_dev</th>\n",
       "      <td>0.117862</td>\n",
       "    </tr>\n",
       "    <tr>\n",
       "      <th>rent</th>\n",
       "      <td>1750</td>\n",
       "    </tr>\n",
       "    <tr>\n",
       "      <th>rent_std_dev</th>\n",
       "      <td>0.136873</td>\n",
       "    </tr>\n",
       "    <tr>\n",
       "      <th>income</th>\n",
       "      <td>112500</td>\n",
       "    </tr>\n",
       "    <tr>\n",
       "      <th>income_std_dev</th>\n",
       "      <td>0.0899897</td>\n",
       "    </tr>\n",
       "    <tr>\n",
       "      <th>Source</th>\n",
       "      <td>Constituent Call</td>\n",
       "    </tr>\n",
       "    <tr>\n",
       "      <th>Property_Type</th>\n",
       "      <td>Address</td>\n",
       "    </tr>\n",
       "    <tr>\n",
       "      <th>NUM_ISSUES</th>\n",
       "      <td>741</td>\n",
       "    </tr>\n",
       "    <tr>\n",
       "      <th>population_total</th>\n",
       "      <td>1184</td>\n",
       "    </tr>\n",
       "    <tr>\n",
       "      <th>NUM_ISSUES_PER_1000_POP</th>\n",
       "      <td>625.845</td>\n",
       "    </tr>\n",
       "  </tbody>\n",
       "</table>\n",
       "</div>"
      ],
      "text/plain": [
       "                                                0\n",
       "tract_and_block_group                     1004002\n",
       "race_white                               0.242399\n",
       "race_black                               0.514358\n",
       "race_asian                               0.035473\n",
       "race_hispanic                           0.0675676\n",
       "race_other                               0.140203\n",
       "poverty_pop_below_poverty_level                 0\n",
       "earned_income_per_capita                    34340\n",
       "poverty_pop_w_public_assistance         0.0597484\n",
       "poverty_pop_w_food_stamps                0.138365\n",
       "poverty_pop_w_ssi                       0.0597484\n",
       "school                                         15\n",
       "school_std_dev                           0.102077\n",
       "housing                                       own\n",
       "housing_std_dev                          0.084497\n",
       "bedroom                                         3\n",
       "bedroom_std_dev                          0.179336\n",
       "value                                      350000\n",
       "value_std_dev                            0.117862\n",
       "rent                                         1750\n",
       "rent_std_dev                             0.136873\n",
       "income                                     112500\n",
       "income_std_dev                          0.0899897\n",
       "Source                           Constituent Call\n",
       "Property_Type                             Address\n",
       "NUM_ISSUES                                    741\n",
       "population_total                             1184\n",
       "NUM_ISSUES_PER_1000_POP                   625.845"
      ]
     },
     "execution_count": 10,
     "metadata": {},
     "output_type": "execute_result"
    }
   ],
   "source": [
    "df_transformed.head(1).T"
   ]
  },
  {
   "cell_type": "markdown",
   "metadata": {},
   "source": [
    "## Choosing columns"
   ]
  },
  {
   "cell_type": "code",
   "execution_count": 11,
   "metadata": {
    "collapsed": false
   },
   "outputs": [],
   "source": [
    "cols_orig_dataset = ['NUM_ISSUES_PER_1000_POP']\n",
    "cols_census = [\n",
    "     'race_black',\n",
    "     'race_asian',\n",
    "     'race_hispanic',\n",
    "     'race_other',\n",
    "     'poverty_pop_below_poverty_level',\n",
    "     'earned_income_per_capita',\n",
    "     'poverty_pop_w_public_assistance',\n",
    "     'poverty_pop_w_ssi',\n",
    "     'school',\n",
    "     'school_std_dev',\n",
    "     'housing',\n",
    "     'housing_std_dev',\n",
    "     'bedroom',\n",
    "     'value',\n",
    "     'value_std_dev',\n",
    "     'rent',\n",
    "     'rent_std_dev',\n",
    "     'income',\n",
    "     'income_std_dev']\n",
    "cols_census = [\n",
    "     'race_black',\n",
    "     'race_asian',\n",
    "     'race_hispanic',\n",
    "     'income',\n",
    "     'earned_income_per_capita',\n",
    "     ]"
   ]
  },
  {
   "cell_type": "code",
   "execution_count": 12,
   "metadata": {
    "collapsed": false
   },
   "outputs": [
    {
     "data": {
      "text/plain": [
       "(531, 6)"
      ]
     },
     "execution_count": 12,
     "metadata": {},
     "output_type": "execute_result"
    }
   ],
   "source": [
    "df_col_subset = df_transformed[cols_orig_dataset + cols_census]\n",
    "df_col_subset.shape"
   ]
  },
  {
   "cell_type": "code",
   "execution_count": 13,
   "metadata": {
    "collapsed": true
   },
   "outputs": [
    {
     "ename": "KeyError",
     "evalue": "['income_std_dev']",
     "output_type": "error",
     "traceback": [
      "\u001b[0;31m---------------------------------------------------------------------------\u001b[0m",
      "\u001b[0;31mKeyError\u001b[0m                                  Traceback (most recent call last)",
      "\u001b[0;32m<ipython-input-13-748da5be9849>\u001b[0m in \u001b[0;36m<module>\u001b[0;34m()\u001b[0m\n\u001b[1;32m      1\u001b[0m \u001b[0;31m# this is a bad temporary band-aid\u001b[0m\u001b[0;34m\u001b[0m\u001b[0;34m\u001b[0m\u001b[0m\n\u001b[1;32m      2\u001b[0m \u001b[0;31m# df_col_subset = df_col_subset.dropna(subset=['income_std_dev', 'value_std_dev', 'rent_std_dev'])\u001b[0m\u001b[0;34m\u001b[0m\u001b[0;34m\u001b[0m\u001b[0m\n\u001b[0;32m----> 3\u001b[0;31m \u001b[0mdf_col_subset\u001b[0m \u001b[0;34m=\u001b[0m \u001b[0mdf_col_subset\u001b[0m\u001b[0;34m.\u001b[0m\u001b[0mdropna\u001b[0m\u001b[0;34m(\u001b[0m\u001b[0msubset\u001b[0m\u001b[0;34m=\u001b[0m\u001b[0;34m[\u001b[0m\u001b[0;34m'income_std_dev'\u001b[0m\u001b[0;34m]\u001b[0m\u001b[0;34m)\u001b[0m\u001b[0;34m\u001b[0m\u001b[0m\n\u001b[0m\u001b[1;32m      4\u001b[0m \u001b[0;34m\u001b[0m\u001b[0m\n\u001b[1;32m      5\u001b[0m \u001b[0mdf_col_subset\u001b[0m\u001b[0;34m.\u001b[0m\u001b[0mshape\u001b[0m\u001b[0;34m\u001b[0m\u001b[0m\n",
      "\u001b[0;32m/Users/datascientist/anaconda2/lib/python2.7/site-packages/pandas/core/frame.pyc\u001b[0m in \u001b[0;36mdropna\u001b[0;34m(self, axis, how, thresh, subset, inplace)\u001b[0m\n\u001b[1;32m   3088\u001b[0m                 \u001b[0mcheck\u001b[0m \u001b[0;34m=\u001b[0m \u001b[0mindices\u001b[0m \u001b[0;34m==\u001b[0m \u001b[0;34m-\u001b[0m\u001b[0;36m1\u001b[0m\u001b[0;34m\u001b[0m\u001b[0m\n\u001b[1;32m   3089\u001b[0m                 \u001b[0;32mif\u001b[0m \u001b[0mcheck\u001b[0m\u001b[0;34m.\u001b[0m\u001b[0many\u001b[0m\u001b[0;34m(\u001b[0m\u001b[0;34m)\u001b[0m\u001b[0;34m:\u001b[0m\u001b[0;34m\u001b[0m\u001b[0m\n\u001b[0;32m-> 3090\u001b[0;31m                     \u001b[0;32mraise\u001b[0m \u001b[0mKeyError\u001b[0m\u001b[0;34m(\u001b[0m\u001b[0mlist\u001b[0m\u001b[0;34m(\u001b[0m\u001b[0mnp\u001b[0m\u001b[0;34m.\u001b[0m\u001b[0mcompress\u001b[0m\u001b[0;34m(\u001b[0m\u001b[0mcheck\u001b[0m\u001b[0;34m,\u001b[0m \u001b[0msubset\u001b[0m\u001b[0;34m)\u001b[0m\u001b[0;34m)\u001b[0m\u001b[0;34m)\u001b[0m\u001b[0;34m\u001b[0m\u001b[0m\n\u001b[0m\u001b[1;32m   3091\u001b[0m                 \u001b[0magg_obj\u001b[0m \u001b[0;34m=\u001b[0m \u001b[0mself\u001b[0m\u001b[0;34m.\u001b[0m\u001b[0mtake\u001b[0m\u001b[0;34m(\u001b[0m\u001b[0mindices\u001b[0m\u001b[0;34m,\u001b[0m \u001b[0maxis\u001b[0m\u001b[0;34m=\u001b[0m\u001b[0magg_axis\u001b[0m\u001b[0;34m)\u001b[0m\u001b[0;34m\u001b[0m\u001b[0m\n\u001b[1;32m   3092\u001b[0m \u001b[0;34m\u001b[0m\u001b[0m\n",
      "\u001b[0;31mKeyError\u001b[0m: ['income_std_dev']"
     ]
    }
   ],
   "source": [
    "# this is a bad temporary band-aid\n",
    "# df_col_subset = df_col_subset.dropna(subset=['income_std_dev', 'value_std_dev', 'rent_std_dev'])\n",
    "df_col_subset = df_col_subset.dropna(subset=['income_std_dev'])\n",
    "\n",
    "df_col_subset.shape"
   ]
  },
  {
   "cell_type": "markdown",
   "metadata": {},
   "source": [
    "## Dummify"
   ]
  },
  {
   "cell_type": "code",
   "execution_count": 15,
   "metadata": {
    "collapsed": false
   },
   "outputs": [
    {
     "data": {
      "text/plain": [
       "Index([], dtype='object')"
      ]
     },
     "execution_count": 15,
     "metadata": {},
     "output_type": "execute_result"
    }
   ],
   "source": [
    "cols_to_dummify = df_col_subset.dtypes[df_col_subset.dtypes == object].index\n",
    "cols_to_dummify"
   ]
  },
  {
   "cell_type": "code",
   "execution_count": 16,
   "metadata": {
    "collapsed": false
   },
   "outputs": [],
   "source": [
    "df_dummified, baseline_cols = dummify_cols_and_baselines(df_col_subset, cols_to_dummify)"
   ]
  },
  {
   "cell_type": "code",
   "execution_count": 17,
   "metadata": {
    "collapsed": false
   },
   "outputs": [
    {
     "data": {
      "text/plain": [
       "(531, 6)"
      ]
     },
     "execution_count": 17,
     "metadata": {},
     "output_type": "execute_result"
    }
   ],
   "source": [
    "df_dummified.shape"
   ]
  },
  {
   "cell_type": "markdown",
   "metadata": {},
   "source": [
    "## Running model"
   ]
  },
  {
   "cell_type": "code",
   "execution_count": 18,
   "metadata": {
    "collapsed": false
   },
   "outputs": [],
   "source": [
    "from sklearn.cross_validation import train_test_split\n",
    "from sklearn.pipeline import make_pipeline\n",
    "from sklearn.model_selection import GridSearchCV\n",
    "from sklearn.linear_model import LinearRegression, LassoCV\n",
    "from sklearn.cross_validation import ShuffleSplit\n",
    "from sklearn.preprocessing import StandardScaler\n",
    "from sklearn.metrics import mean_squared_error, r2_score\n",
    "from sklearn.metrics import make_scorer\n"
   ]
  },
  {
   "cell_type": "code",
   "execution_count": 19,
   "metadata": {
    "collapsed": true
   },
   "outputs": [],
   "source": [
    "import statsmodels.api as sm\n",
    "import statsmodels.formula.api as smf"
   ]
  },
  {
   "cell_type": "code",
   "execution_count": 20,
   "metadata": {
    "collapsed": false
   },
   "outputs": [],
   "source": [
    "df_dummified.columns = [col.translate(None, string.punctuation).replace(' ', '') if col != 'NUM_ISSUES_PER_1000_POP' else col for col in df_dummified.columns]"
   ]
  },
  {
   "cell_type": "code",
   "execution_count": 21,
   "metadata": {
    "collapsed": false
   },
   "outputs": [],
   "source": [
    "X_train, X_test, y_train, y_test = train_test_split(\n",
    "    df_dummified.drop(['NUM_ISSUES_PER_1000_POP'], axis=1), \n",
    "    df_dummified.NUM_ISSUES_PER_1000_POP, \n",
    "    test_size=0.2, \n",
    "    random_state=500\n",
    ")"
   ]
  },
  {
   "cell_type": "code",
   "execution_count": 22,
   "metadata": {
    "collapsed": false
   },
   "outputs": [],
   "source": [
    "col_list = ' + '.join(df_dummified.drop('NUM_ISSUES_PER_1000_POP', axis=1))\n",
    "\n",
    "est = smf.ols(\n",
    "    'NUM_ISSUES_PER_1000_POP ~ {}'.format(col_list), \n",
    "    pd.concat([X_train, y_train], axis=1)).fit()"
   ]
  },
  {
   "cell_type": "code",
   "execution_count": 23,
   "metadata": {
    "collapsed": false
   },
   "outputs": [
    {
     "data": {
      "text/html": [
       "<table class=\"simpletable\">\n",
       "<caption>OLS Regression Results</caption>\n",
       "<tr>\n",
       "  <th>Dep. Variable:</th>    <td>NUM_ISSUES_PER_1000_POP</td> <th>  R-squared:         </th> <td>   0.219</td>\n",
       "</tr>\n",
       "<tr>\n",
       "  <th>Model:</th>                      <td>OLS</td>           <th>  Adj. R-squared:    </th> <td>   0.210</td>\n",
       "</tr>\n",
       "<tr>\n",
       "  <th>Method:</th>                <td>Least Squares</td>      <th>  F-statistic:       </th> <td>   23.51</td>\n",
       "</tr>\n",
       "<tr>\n",
       "  <th>Date:</th>                <td>Mon, 27 Feb 2017</td>     <th>  Prob (F-statistic):</th> <td>7.82e-21</td>\n",
       "</tr>\n",
       "<tr>\n",
       "  <th>Time:</th>                    <td>14:25:51</td>         <th>  Log-Likelihood:    </th> <td> -3072.7</td>\n",
       "</tr>\n",
       "<tr>\n",
       "  <th>No. Observations:</th>         <td>   424</td>          <th>  AIC:               </th> <td>   6157.</td>\n",
       "</tr>\n",
       "<tr>\n",
       "  <th>Df Residuals:</th>             <td>   418</td>          <th>  BIC:               </th> <td>   6182.</td>\n",
       "</tr>\n",
       "<tr>\n",
       "  <th>Df Model:</th>                 <td>     5</td>          <th>                     </th>     <td> </td>   \n",
       "</tr>\n",
       "<tr>\n",
       "  <th>Covariance Type:</th>         <td>nonrobust</td>        <th>                     </th>     <td> </td>   \n",
       "</tr>\n",
       "</table>"
      ],
      "text/plain": [
       "<class 'statsmodels.iolib.table.SimpleTable'>"
      ]
     },
     "execution_count": 23,
     "metadata": {},
     "output_type": "execute_result"
    }
   ],
   "source": [
    "est.summary().tables[0]"
   ]
  },
  {
   "cell_type": "markdown",
   "metadata": {},
   "source": [
    "### Getting adjusted $R^2$ on test set"
   ]
  },
  {
   "cell_type": "code",
   "execution_count": 50,
   "metadata": {
    "collapsed": false
   },
   "outputs": [],
   "source": [
    "y_pred = est.predict(X_test)\n",
    "y_train_pred = est.predict(X_train)"
   ]
  },
  {
   "cell_type": "code",
   "execution_count": 25,
   "metadata": {
    "collapsed": false
   },
   "outputs": [
    {
     "data": {
      "text/plain": [
       "0.14291061933335839"
      ]
     },
     "execution_count": 25,
     "metadata": {},
     "output_type": "execute_result"
    }
   ],
   "source": [
    "adjusted_r2(y_test, y_pred, num_features=X_test.shape[1])"
   ]
  },
  {
   "cell_type": "code",
   "execution_count": 51,
   "metadata": {
    "collapsed": false
   },
   "outputs": [
    {
     "data": {
      "text/plain": [
       "339.6961609993545"
      ]
     },
     "execution_count": 51,
     "metadata": {},
     "output_type": "execute_result"
    }
   ],
   "source": [
    "mean_squared_error(y_train, y_train_pred)**0.5"
   ]
  },
  {
   "cell_type": "code",
   "execution_count": 26,
   "metadata": {
    "collapsed": false
   },
   "outputs": [
    {
     "data": {
      "text/plain": [
       "325.05133852975064"
      ]
     },
     "execution_count": 26,
     "metadata": {},
     "output_type": "execute_result"
    }
   ],
   "source": [
    "mean_squared_error(y_test, y_pred)**0.5"
   ]
  },
  {
   "cell_type": "markdown",
   "metadata": {},
   "source": [
    "Darren said that having RMSE be similar for both my train and test sets, even if I'm overfitting, would help me make the claim that my model is \"good\"."
   ]
  },
  {
   "cell_type": "code",
   "execution_count": 27,
   "metadata": {
    "collapsed": false
   },
   "outputs": [],
   "source": [
    "df_results = pd.read_csv(StringIO(est.summary().tables[1].as_csv()), index_col=0).reset_index()\n",
    "df_results.columns = ['coef_name'] + [i.rstrip().lstrip() for i in df_results.columns][1:]\n",
    "df_results['coef_abs'] = pd.np.abs(df_results.coef)\n",
    "df_results = df_results.sort_values('P>|t|')"
   ]
  },
  {
   "cell_type": "code",
   "execution_count": 28,
   "metadata": {
    "collapsed": false
   },
   "outputs": [
    {
     "data": {
      "text/html": [
       "<div>\n",
       "<table border=\"1\" class=\"dataframe\">\n",
       "  <thead>\n",
       "    <tr style=\"text-align: right;\">\n",
       "      <th></th>\n",
       "      <th>coef_name</th>\n",
       "      <th>coef</th>\n",
       "      <th>std err</th>\n",
       "      <th>t</th>\n",
       "      <th>P&gt;|t|</th>\n",
       "      <th>[95.0% Conf. Int.]</th>\n",
       "      <th>coef_abs</th>\n",
       "    </tr>\n",
       "  </thead>\n",
       "  <tbody>\n",
       "    <tr>\n",
       "      <th>0</th>\n",
       "      <td>Intercept</td>\n",
       "      <td>834.4675</td>\n",
       "      <td>66.259</td>\n",
       "      <td>12.594</td>\n",
       "      <td>0.000</td>\n",
       "      <td>704.226   964.709</td>\n",
       "      <td>834.4675</td>\n",
       "    </tr>\n",
       "    <tr>\n",
       "      <th>3</th>\n",
       "      <td>racehispanic</td>\n",
       "      <td>-564.7507</td>\n",
       "      <td>113.450</td>\n",
       "      <td>-4.978</td>\n",
       "      <td>0.000</td>\n",
       "      <td>-787.755  -341.746</td>\n",
       "      <td>564.7507</td>\n",
       "    </tr>\n",
       "    <tr>\n",
       "      <th>2</th>\n",
       "      <td>raceasian</td>\n",
       "      <td>-463.3775</td>\n",
       "      <td>153.660</td>\n",
       "      <td>-3.016</td>\n",
       "      <td>0.003</td>\n",
       "      <td>-765.420  -161.335</td>\n",
       "      <td>463.3775</td>\n",
       "    </tr>\n",
       "    <tr>\n",
       "      <th>4</th>\n",
       "      <td>income</td>\n",
       "      <td>0.0006</td>\n",
       "      <td>0.000</td>\n",
       "      <td>2.046</td>\n",
       "      <td>0.041</td>\n",
       "      <td>2.43e-05     0.001</td>\n",
       "      <td>0.0006</td>\n",
       "    </tr>\n",
       "    <tr>\n",
       "      <th>5</th>\n",
       "      <td>earnedincomepercapita</td>\n",
       "      <td>0.0022</td>\n",
       "      <td>0.001</td>\n",
       "      <td>2.018</td>\n",
       "      <td>0.044</td>\n",
       "      <td>5.78e-05     0.004</td>\n",
       "      <td>0.0022</td>\n",
       "    </tr>\n",
       "    <tr>\n",
       "      <th>1</th>\n",
       "      <td>raceblack</td>\n",
       "      <td>-102.5882</td>\n",
       "      <td>77.659</td>\n",
       "      <td>-1.321</td>\n",
       "      <td>0.187</td>\n",
       "      <td>-255.238    50.062</td>\n",
       "      <td>102.5882</td>\n",
       "    </tr>\n",
       "  </tbody>\n",
       "</table>\n",
       "</div>"
      ],
      "text/plain": [
       "               coef_name      coef  std err       t  P>|t|  \\\n",
       "0  Intercept              834.4675   66.259  12.594  0.000   \n",
       "3  racehispanic          -564.7507  113.450  -4.978  0.000   \n",
       "2  raceasian             -463.3775  153.660  -3.016  0.003   \n",
       "4  income                   0.0006    0.000   2.046  0.041   \n",
       "5  earnedincomepercapita    0.0022    0.001   2.018  0.044   \n",
       "1  raceblack             -102.5882   77.659  -1.321  0.187   \n",
       "\n",
       "    [95.0% Conf. Int.]  coef_abs  \n",
       "0    704.226   964.709  834.4675  \n",
       "3   -787.755  -341.746  564.7507  \n",
       "2   -765.420  -161.335  463.3775  \n",
       "4   2.43e-05     0.001    0.0006  \n",
       "5   5.78e-05     0.004    0.0022  \n",
       "1   -255.238    50.062  102.5882  "
      ]
     },
     "execution_count": 28,
     "metadata": {},
     "output_type": "execute_result"
    }
   ],
   "source": [
    "df_results"
   ]
  },
  {
   "cell_type": "code",
   "execution_count": 29,
   "metadata": {
    "collapsed": false
   },
   "outputs": [
    {
     "data": {
      "text/plain": [
       "count     531.000000\n",
       "mean      808.103499\n",
       "std       380.036978\n",
       "min        36.706869\n",
       "25%       568.811136\n",
       "50%       764.800000\n",
       "75%      1023.278856\n",
       "max      2247.452693\n",
       "Name: NUM_ISSUES_PER_1000_POP, dtype: float64"
      ]
     },
     "execution_count": 29,
     "metadata": {},
     "output_type": "execute_result"
    }
   ],
   "source": [
    "df_dummified.NUM_ISSUES_PER_1000_POP.describe()"
   ]
  },
  {
   "cell_type": "code",
   "execution_count": 30,
   "metadata": {
    "collapsed": false
   },
   "outputs": [
    {
     "data": {
      "text/plain": [
       "count     107.000000\n",
       "mean      820.152435\n",
       "std       361.384984\n",
       "min        36.706869\n",
       "25%       565.499170\n",
       "50%       817.136886\n",
       "75%      1043.363556\n",
       "max      1719.851577\n",
       "Name: NUM_ISSUES_PER_1000_POP, dtype: float64"
      ]
     },
     "execution_count": 30,
     "metadata": {},
     "output_type": "execute_result"
    }
   ],
   "source": [
    "y_test.describe()"
   ]
  },
  {
   "cell_type": "markdown",
   "metadata": {},
   "source": [
    "## Compare to baseline model\n",
    "\n",
    "which is just the mean"
   ]
  },
  {
   "cell_type": "code",
   "execution_count": 48,
   "metadata": {
    "collapsed": false
   },
   "outputs": [],
   "source": [
    "bb = y_train.mean() * pd.np.ones(y_test.shape)"
   ]
  },
  {
   "cell_type": "code",
   "execution_count": 49,
   "metadata": {
    "collapsed": false
   },
   "outputs": [
    {
     "data": {
      "text/plain": [
       "-0.051351993223162723"
      ]
     },
     "execution_count": 49,
     "metadata": {},
     "output_type": "execute_result"
    }
   ],
   "source": [
    "adjusted_r2(y_test, bb, num_features=X_test.shape[1])"
   ]
  },
  {
   "cell_type": "code",
   "execution_count": 42,
   "metadata": {
    "collapsed": false
   },
   "outputs": [
    {
     "data": {
      "text/plain": [
       "360.00868073413704"
      ]
     },
     "execution_count": 42,
     "metadata": {},
     "output_type": "execute_result"
    }
   ],
   "source": [
    "mean_squared_error(y_test, bb)**0.5"
   ]
  },
  {
   "cell_type": "markdown",
   "metadata": {},
   "source": [
    "## Checking multicollinearity\n",
    "\n",
    "which I could have done before I ran the model as well."
   ]
  },
  {
   "cell_type": "code",
   "execution_count": 260,
   "metadata": {
    "collapsed": false
   },
   "outputs": [
    {
     "data": {
      "text/plain": [
       "racewhite                42.030599\n",
       "raceblack                31.152844\n",
       "racehispanic             13.011776\n",
       "raceasian                 6.675149\n",
       "earnedincomepercapita     2.449680\n",
       "income                    2.182038\n",
       "school                    1.723420\n",
       "dtype: float64"
      ]
     },
     "execution_count": 260,
     "metadata": {},
     "output_type": "execute_result"
    }
   ],
   "source": [
    "get_vifs(df_dummified, 'NUM_ISSUES_PER_1000_POP')"
   ]
  },
  {
   "cell_type": "markdown",
   "metadata": {},
   "source": [
    "No VIFs around 5, so we're clear."
   ]
  },
  {
   "cell_type": "markdown",
   "metadata": {},
   "source": [
    "## Residuals plot"
   ]
  },
  {
   "cell_type": "code",
   "execution_count": 296,
   "metadata": {
    "collapsed": false
   },
   "outputs": [
    {
     "data": {
      "image/png": "[encoded data removed]",
      "text/plain": [
       "<matplotlib.figure.Figure at 0x7f3fda2df590>"
      ]
     },
     "metadata": {},
     "output_type": "display_data"
    }
   ],
   "source": [
    "ax = sns.regplot(y_pred, y_test.as_matrix() - y_pred)\n",
    "ax.set_xlabel('Fitted values')\n",
    "ax.set_ylabel('Residuals');"
   ]
  },
  {
   "cell_type": "markdown",
   "metadata": {},
   "source": [
    "- Data is visually linear, so that checks out\n",
    "- Error terms are more or less equal distance from the line here, except for the one point around (600, 1450)"
   ]
  },
  {
   "cell_type": "markdown",
   "metadata": {},
   "source": [
    "## Conclusion\n",
    "\n",
    "- An area with more Hispanics or Asians is associated with fewer number of 311 issues, Hispanic moreso than Asian.\n",
    "- A 10% increase in Hispanics is associated with 56 fewer issues, on average.\n",
    "- A 10% increase in Asian is associated with 46 fewer issues, on average.\n",
    "- For every \\$10,000 increase in average income, that area is associated with 60 more 311 issues, on average.\n",
    "\n",
    "### Commentary\n",
    "\n",
    "Also, our metric `# of 311 issues` is an imperfect indicator for civic participation. `# of 311 issues` is not just a function of civic participation, but also for the volume of true issues in an area. For example, if there are more potholes in an area, it will have more pothole 311 issues, unless there are some that aren't reported.\n",
    "\n",
    "Categories such as potholes are not so much a function of the socioeconomic makeup, per se. It's more correlated with how busy the road is.\n",
    "\n",
    "I controlled for this by having my model pertain to residential areas, and removing commerical and industrial outliers. It is tricky, as there are some areas that are both havily commerical, and where people live."
   ]
  }
 ],
 "metadata": {
  "anaconda-cloud": {},
  "kernelspec": {
   "display_name": "Python 2",
   "language": "python",
   "name": "python2"
  },
  "language_info": {
   "codemirror_mode": {
    "name": "ipython",
    "version": 2
   },
   "file_extension": ".py",
   "mimetype": "text/x-python",
   "name": "python",
   "nbconvert_exporter": "python",
   "pygments_lexer": "ipython2",
   "version": "2.7.13"
  }
 },
 "nbformat": 4,
 "nbformat_minor": 2
}
