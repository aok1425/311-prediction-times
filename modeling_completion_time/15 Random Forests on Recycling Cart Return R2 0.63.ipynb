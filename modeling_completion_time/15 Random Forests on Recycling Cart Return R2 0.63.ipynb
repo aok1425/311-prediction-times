{
 "cells": [
  {
   "cell_type": "markdown",
   "metadata": {},
   "source": [
    "## Objective\n",
    "\n",
    "Use Random Forests, see if $R^2$ improves from 0.56."
   ]
  },
  {
   "cell_type": "code",
   "execution_count": 58,
   "metadata": {
    "collapsed": false
   },
   "outputs": [],
   "source": [
    "from __future__ import division\n",
    "import pandas as pd\n",
    "import numpy as np\n",
    "import warnings\n",
    "import seaborn as sns\n",
    "import matplotlib.pyplot as plt\n",
    "from pylab import rcParams\n",
    "%matplotlib inline\n",
    "\n",
    "rcParams['figure.figsize'] = 20, 5\n",
    "warnings.filterwarnings(\"ignore\", category=DeprecationWarning)\n",
    "sns.set_style(\"whitegrid\")\n",
    "sns.set_context(\"poster\")\n",
    "\n",
    "import os, sys\n",
    "sys.path.append(os.path.join(os.path.dirname('.'), \"../preprocessing\"))\n",
    "from helper_functions import dummify_cols_and_baselines, make_alphas, remove_outliers_by_type, transform_school"
   ]
  },
  {
   "cell_type": "code",
   "execution_count": 59,
   "metadata": {
    "collapsed": false
   },
   "outputs": [
    {
     "data": {
      "text/plain": [
       "(516406, 40)"
      ]
     },
     "execution_count": 59,
     "metadata": {},
     "output_type": "execute_result"
    }
   ],
   "source": [
    "df_orig = pd.read_pickle('../data/data_from_remove_from_dataset.pkl')\n",
    "df_orig.shape"
   ]
  },
  {
   "cell_type": "markdown",
   "metadata": {},
   "source": [
    "## Removing outliers\n",
    "\n",
    "A standard procedure is to remove values further than 3 standard deviations from the mean. Since I have so many low values and some very high values, I anecdotally think that the low values are very likely to be true, and the high values not so much.\n",
    "\n",
    "So, I will remove values further than 3 SDs from the median, by type.\n",
    "\n",
    "Ideally, I would take into account the time dimension. I would like to do so given more time."
   ]
  },
  {
   "cell_type": "code",
   "execution_count": 60,
   "metadata": {
    "collapsed": false
   },
   "outputs": [
    {
     "data": {
      "text/plain": [
       "(508653, 40)"
      ]
     },
     "execution_count": 60,
     "metadata": {},
     "output_type": "execute_result"
    }
   ],
   "source": [
    "df1 = remove_outliers_by_type(df_orig, y_col='COMPLETION_HOURS_LOG_10')\n",
    "df1.shape"
   ]
  },
  {
   "cell_type": "markdown",
   "metadata": {},
   "source": [
    "I'm removing ~1.5% of my rows."
   ]
  },
  {
   "cell_type": "markdown",
   "metadata": {},
   "source": [
    "## Transformations"
   ]
  },
  {
   "cell_type": "code",
   "execution_count": 61,
   "metadata": {
    "collapsed": false
   },
   "outputs": [
    {
     "data": {
      "text/plain": [
       "(508653, 40)"
      ]
     },
     "execution_count": 61,
     "metadata": {},
     "output_type": "execute_result"
    }
   ],
   "source": [
    "df2 = transform_school(df1)\n",
    "df2.shape"
   ]
  },
  {
   "cell_type": "markdown",
   "metadata": {},
   "source": [
    "## Only Recycling Cart Return TYPE"
   ]
  },
  {
   "cell_type": "code",
   "execution_count": 62,
   "metadata": {
    "collapsed": false
   },
   "outputs": [
    {
     "data": {
      "text/plain": [
       "(1683, 39)"
      ]
     },
     "execution_count": 62,
     "metadata": {},
     "output_type": "execute_result"
    }
   ],
   "source": [
    "df3 = df2[df2.TYPE == 'Needle Pickup'].drop('TYPE', axis=1)\n",
    "df3.shape"
   ]
  },
  {
   "cell_type": "markdown",
   "metadata": {},
   "source": [
    "## Choosing columns"
   ]
  },
  {
   "cell_type": "code",
   "execution_count": 63,
   "metadata": {
    "collapsed": true
   },
   "outputs": [],
   "source": [
    "cols_orig_dataset = ['COMPLETION_HOURS_LOG_10', 'SubmittedPhoto', 'Property_Type', 'Source', 'neighborhood_from_zip']\n",
    "cols_census = ['race_white',\n",
    "     'race_black',\n",
    "     'race_asian',\n",
    "     'race_hispanic',\n",
    "     'race_other',\n",
    "     'poverty_pop_below_poverty_level',\n",
    "     'earned_income_per_capita',\n",
    "     'poverty_pop_w_public_assistance',\n",
    "     'poverty_pop_w_food_stamps',\n",
    "     'poverty_pop_w_ssi',\n",
    "     'school',\n",
    "     'school_std_dev',\n",
    "     'housing',\n",
    "     'housing_std_dev',\n",
    "     'bedroom',\n",
    "     'bedroom_std_dev',\n",
    "     'value',\n",
    "     'value_std_dev',\n",
    "     'rent',\n",
    "     'rent_std_dev',\n",
    "     'income',\n",
    "     'income_std_dev']\n",
    "cols_engineered = ['queue_wk', 'queue_wk_open', 'is_description']"
   ]
  },
  {
   "cell_type": "code",
   "execution_count": 64,
   "metadata": {
    "collapsed": false
   },
   "outputs": [],
   "source": [
    "df4 = df3[cols_orig_dataset + cols_census + cols_engineered]"
   ]
  },
  {
   "cell_type": "markdown",
   "metadata": {},
   "source": [
    "## Dummify"
   ]
  },
  {
   "cell_type": "code",
   "execution_count": 65,
   "metadata": {
    "collapsed": false
   },
   "outputs": [
    {
     "data": {
      "text/plain": [
       "Index([u'Property_Type', u'Source', u'neighborhood_from_zip', u'housing'], dtype='object')"
      ]
     },
     "execution_count": 65,
     "metadata": {},
     "output_type": "execute_result"
    }
   ],
   "source": [
    "cols_to_dummify = df4.dtypes[df4.dtypes == object].index\n",
    "cols_to_dummify"
   ]
  },
  {
   "cell_type": "code",
   "execution_count": 66,
   "metadata": {
    "collapsed": false
   },
   "outputs": [
    {
     "name": "stdout",
     "output_type": "stream",
     "text": [
      "other is baseline 0 4\n",
      "Twitter is baseline 1 4\n",
      "West Roxbury is baseline 2 4\n",
      "rent is baseline 3 4\n"
     ]
    }
   ],
   "source": [
    "df_dummified, baseline_cols = dummify_cols_and_baselines(df4, cols_to_dummify)"
   ]
  },
  {
   "cell_type": "code",
   "execution_count": 26,
   "metadata": {
    "collapsed": false
   },
   "outputs": [
    {
     "data": {
      "text/plain": [
       "(1986, 46)"
      ]
     },
     "execution_count": 26,
     "metadata": {},
     "output_type": "execute_result"
    }
   ],
   "source": [
    "df_dummified.shape"
   ]
  },
  {
   "cell_type": "markdown",
   "metadata": {},
   "source": [
    "## Running model"
   ]
  },
  {
   "cell_type": "code",
   "execution_count": 67,
   "metadata": {
    "collapsed": false
   },
   "outputs": [],
   "source": [
    "from sklearn.cross_validation import train_test_split\n",
    "from sklearn.pipeline import make_pipeline\n",
    "from sklearn.model_selection import GridSearchCV\n",
    "from sklearn.ensemble import RandomForestRegressor\n",
    "from sklearn.cross_validation import ShuffleSplit\n",
    "from sklearn.preprocessing import StandardScaler\n",
    "from sklearn.metrics import mean_squared_error, r2_score\n"
   ]
  },
  {
   "cell_type": "code",
   "execution_count": 68,
   "metadata": {
    "collapsed": false
   },
   "outputs": [],
   "source": [
    "X_train, X_test, y_train, y_test = train_test_split(\n",
    "    df_dummified.drop('COMPLETION_HOURS_LOG_10', axis=1), \n",
    "    df_dummified.COMPLETION_HOURS_LOG_10, \n",
    "    test_size=0.2, \n",
    "    random_state=300\n",
    ")"
   ]
  },
  {
   "cell_type": "code",
   "execution_count": 82,
   "metadata": {
    "collapsed": true
   },
   "outputs": [],
   "source": [
    "cols_multicollinear = [u'race_white', u'race_black', u'race_hispanic', u'neighborhood_from_zip_Dorchester', u'earned_income_per_capita']\n",
    "\n",
    "X_train, X_test, y_train, y_test = train_test_split(\n",
    "    df_dummified.drop(['COMPLETION_HOURS_LOG_10'] + cols_multicollinear, axis=1), \n",
    "    df_dummified.COMPLETION_HOURS_LOG_10, \n",
    "    test_size=0.2, \n",
    "    random_state=300\n",
    ")"
   ]
  },
  {
   "cell_type": "code",
   "execution_count": 69,
   "metadata": {
    "collapsed": true
   },
   "outputs": [],
   "source": [
    "pipe = make_pipeline(RandomForestRegressor())"
   ]
  },
  {
   "cell_type": "code",
   "execution_count": 70,
   "metadata": {
    "collapsed": false
   },
   "outputs": [],
   "source": [
    "cv = ShuffleSplit(X_train.shape[0], n_iter=5, test_size=0.2, random_state=300)"
   ]
  },
  {
   "cell_type": "code",
   "execution_count": 86,
   "metadata": {
    "collapsed": false
   },
   "outputs": [
    {
     "name": "stdout",
     "output_type": "stream",
     "text": [
      "Fitting 5 folds for each of 1 candidates, totalling 5 fits\n"
     ]
    },
    {
     "name": "stderr",
     "output_type": "stream",
     "text": [
      "[Parallel(n_jobs=1)]: Done   5 out of   5 | elapsed:    0.1s finished\n"
     ]
    }
   ],
   "source": [
    "# I wanted to use oob_score but need for loop\n",
    "# http://scikit-learn.org/stable/auto_examples/ensemble/plot_ensemble_oob.html\n",
    "# decided that with mulitple folds, each fold had similar performance, so went with k=1\n",
    "\n",
    "params = {'randomforestregressor__max_depth': [50, 100, 150], \n",
    "          'randomforestregressor__min_samples_split': [.01, .03, .05, .10],\n",
    "          'randomforestregressor__min_samples_leaf': [.01, .03, .05, .10],\n",
    "          'randomforestregressor__max_features': [7, 15, 35, 45], # 46 total\n",
    "          'randomforestregressor__n_estimators': [300, 400, 500]}\n",
    "\n",
    "params = {'randomforestregressor__max_depth': [25, 50, 60], \n",
    "          'randomforestregressor__min_samples_split': [0.001, 0.003, .01],\n",
    "          'randomforestregressor__min_samples_leaf': [0.001, 0.003, .01],\n",
    "          'randomforestregressor__max_features': ['auto'], # for some reason 45 best out of [7, 15, 35, 45]\n",
    "          'randomforestregressor__n_estimators': [300]}\n",
    "\n",
    "params = {'randomforestregressor__max_depth': [50], \n",
    "          'randomforestregressor__min_samples_split': [.01],\n",
    "          'randomforestregressor__min_samples_leaf': [.01],\n",
    "          'randomforestregressor__max_features': [0.4, 'sqrt', 'auto'], # for some reason 45 best out of [7, 15, 35, 45]\n",
    "          'randomforestregressor__n_estimators': [1, 10, 100, 300]}\n",
    "\n",
    "params = {'randomforestregressor__max_depth': [2], \n",
    "          'randomforestregressor__min_samples_split': [.05],\n",
    "          'randomforestregressor__min_samples_leaf': [.05],\n",
    "          'randomforestregressor__max_features': [None], # for some reason 45 best out of [7, 15, 35, 45]\n",
    "          'randomforestregressor__n_estimators': [1]}\n",
    "\n",
    "model = GridSearchCV(pipe, param_grid=params, n_jobs=1, cv=cv, verbose=1)\n",
    "model.fit(X_train, y_train)\n",
    "results = pd.DataFrame(model.cv_results_).T"
   ]
  },
  {
   "cell_type": "code",
   "execution_count": 87,
   "metadata": {
    "collapsed": false
   },
   "outputs": [
    {
     "data": {
      "text/plain": [
       "{'randomforestregressor__max_depth': 2,\n",
       " 'randomforestregressor__max_features': None,\n",
       " 'randomforestregressor__min_samples_leaf': 0.05,\n",
       " 'randomforestregressor__min_samples_split': 0.05,\n",
       " 'randomforestregressor__n_estimators': 1}"
      ]
     },
     "execution_count": 87,
     "metadata": {},
     "output_type": "execute_result"
    }
   ],
   "source": [
    "model.best_params_"
   ]
  },
  {
   "cell_type": "code",
   "execution_count": 88,
   "metadata": {
    "collapsed": false
   },
   "outputs": [
    {
     "data": {
      "text/plain": [
       "0.38148193417994664"
      ]
     },
     "execution_count": 88,
     "metadata": {},
     "output_type": "execute_result"
    }
   ],
   "source": [
    "model.best_score_"
   ]
  },
  {
   "cell_type": "code",
   "execution_count": 55,
   "metadata": {
    "collapsed": false
   },
   "outputs": [
    {
     "data": {
      "text/plain": [
       "(1588, 45)"
      ]
     },
     "execution_count": 55,
     "metadata": {},
     "output_type": "execute_result"
    }
   ],
   "source": [
    "X_train.shape"
   ]
  },
  {
   "cell_type": "code",
   "execution_count": 57,
   "metadata": {
    "collapsed": false
   },
   "outputs": [
    {
     "data": {
      "text/html": [
       "<div>\n",
       "<table border=\"1\" class=\"dataframe\">\n",
       "  <thead>\n",
       "    <tr style=\"text-align: right;\">\n",
       "      <th></th>\n",
       "      <th>643078</th>\n",
       "    </tr>\n",
       "  </thead>\n",
       "  <tbody>\n",
       "    <tr>\n",
       "      <th>SubmittedPhoto</th>\n",
       "      <td>False</td>\n",
       "    </tr>\n",
       "    <tr>\n",
       "      <th>race_white</th>\n",
       "      <td>0.962659</td>\n",
       "    </tr>\n",
       "    <tr>\n",
       "      <th>race_black</th>\n",
       "      <td>0</td>\n",
       "    </tr>\n",
       "    <tr>\n",
       "      <th>race_asian</th>\n",
       "      <td>0.012696</td>\n",
       "    </tr>\n",
       "    <tr>\n",
       "      <th>race_hispanic</th>\n",
       "      <td>0.0246453</td>\n",
       "    </tr>\n",
       "    <tr>\n",
       "      <th>race_other</th>\n",
       "      <td>0</td>\n",
       "    </tr>\n",
       "    <tr>\n",
       "      <th>poverty_pop_below_poverty_level</th>\n",
       "      <td>0.0401284</td>\n",
       "    </tr>\n",
       "    <tr>\n",
       "      <th>earned_income_per_capita</th>\n",
       "      <td>64372</td>\n",
       "    </tr>\n",
       "    <tr>\n",
       "      <th>poverty_pop_w_public_assistance</th>\n",
       "      <td>0</td>\n",
       "    </tr>\n",
       "    <tr>\n",
       "      <th>poverty_pop_w_food_stamps</th>\n",
       "      <td>0</td>\n",
       "    </tr>\n",
       "    <tr>\n",
       "      <th>poverty_pop_w_ssi</th>\n",
       "      <td>0</td>\n",
       "    </tr>\n",
       "    <tr>\n",
       "      <th>school</th>\n",
       "      <td>20</td>\n",
       "    </tr>\n",
       "    <tr>\n",
       "      <th>school_std_dev</th>\n",
       "      <td>149.326</td>\n",
       "    </tr>\n",
       "    <tr>\n",
       "      <th>housing_std_dev</th>\n",
       "      <td>94.0452</td>\n",
       "    </tr>\n",
       "    <tr>\n",
       "      <th>bedroom</th>\n",
       "      <td>2</td>\n",
       "    </tr>\n",
       "    <tr>\n",
       "      <th>bedroom_std_dev</th>\n",
       "      <td>98.3479</td>\n",
       "    </tr>\n",
       "    <tr>\n",
       "      <th>value</th>\n",
       "      <td>450000</td>\n",
       "    </tr>\n",
       "    <tr>\n",
       "      <th>value_std_dev</th>\n",
       "      <td>30.1133</td>\n",
       "    </tr>\n",
       "    <tr>\n",
       "      <th>rent</th>\n",
       "      <td>1750</td>\n",
       "    </tr>\n",
       "    <tr>\n",
       "      <th>rent_std_dev</th>\n",
       "      <td>35.0555</td>\n",
       "    </tr>\n",
       "    <tr>\n",
       "      <th>income</th>\n",
       "      <td>112500</td>\n",
       "    </tr>\n",
       "    <tr>\n",
       "      <th>income_std_dev</th>\n",
       "      <td>58.9864</td>\n",
       "    </tr>\n",
       "    <tr>\n",
       "      <th>queue_wk</th>\n",
       "      <td>4879</td>\n",
       "    </tr>\n",
       "    <tr>\n",
       "      <th>queue_wk_open</th>\n",
       "      <td>24</td>\n",
       "    </tr>\n",
       "    <tr>\n",
       "      <th>is_description</th>\n",
       "      <td>False</td>\n",
       "    </tr>\n",
       "    <tr>\n",
       "      <th>Property_Type_Address</th>\n",
       "      <td>1</td>\n",
       "    </tr>\n",
       "    <tr>\n",
       "      <th>neighborhood_from_zip_Allston / Brighton</th>\n",
       "      <td>0</td>\n",
       "    </tr>\n",
       "    <tr>\n",
       "      <th>neighborhood_from_zip_Back Bay</th>\n",
       "      <td>0</td>\n",
       "    </tr>\n",
       "    <tr>\n",
       "      <th>neighborhood_from_zip_Beacon Hill</th>\n",
       "      <td>0</td>\n",
       "    </tr>\n",
       "    <tr>\n",
       "      <th>neighborhood_from_zip_Charlestown</th>\n",
       "      <td>0</td>\n",
       "    </tr>\n",
       "    <tr>\n",
       "      <th>neighborhood_from_zip_Chestnut Hill</th>\n",
       "      <td>0</td>\n",
       "    </tr>\n",
       "    <tr>\n",
       "      <th>neighborhood_from_zip_Dorchester</th>\n",
       "      <td>0</td>\n",
       "    </tr>\n",
       "    <tr>\n",
       "      <th>neighborhood_from_zip_Downtown / Financial District</th>\n",
       "      <td>0</td>\n",
       "    </tr>\n",
       "    <tr>\n",
       "      <th>neighborhood_from_zip_East Boston</th>\n",
       "      <td>0</td>\n",
       "    </tr>\n",
       "    <tr>\n",
       "      <th>neighborhood_from_zip_Fenway / Kenmore / Audubon Circle / Longwood</th>\n",
       "      <td>0</td>\n",
       "    </tr>\n",
       "    <tr>\n",
       "      <th>neighborhood_from_zip_Hyde Park</th>\n",
       "      <td>0</td>\n",
       "    </tr>\n",
       "    <tr>\n",
       "      <th>neighborhood_from_zip_Jamaica Plain</th>\n",
       "      <td>0</td>\n",
       "    </tr>\n",
       "    <tr>\n",
       "      <th>neighborhood_from_zip_Mattapan</th>\n",
       "      <td>0</td>\n",
       "    </tr>\n",
       "    <tr>\n",
       "      <th>neighborhood_from_zip_Mission Hill</th>\n",
       "      <td>0</td>\n",
       "    </tr>\n",
       "    <tr>\n",
       "      <th>neighborhood_from_zip_North End</th>\n",
       "      <td>0</td>\n",
       "    </tr>\n",
       "    <tr>\n",
       "      <th>neighborhood_from_zip_Roslindale</th>\n",
       "      <td>0</td>\n",
       "    </tr>\n",
       "    <tr>\n",
       "      <th>neighborhood_from_zip_Roxbury</th>\n",
       "      <td>0</td>\n",
       "    </tr>\n",
       "    <tr>\n",
       "      <th>neighborhood_from_zip_South Boston</th>\n",
       "      <td>1</td>\n",
       "    </tr>\n",
       "    <tr>\n",
       "      <th>neighborhood_from_zip_South End</th>\n",
       "      <td>0</td>\n",
       "    </tr>\n",
       "    <tr>\n",
       "      <th>housing_own</th>\n",
       "      <td>0</td>\n",
       "    </tr>\n",
       "  </tbody>\n",
       "</table>\n",
       "</div>"
      ],
      "text/plain": [
       "                                                       643078\n",
       "SubmittedPhoto                                          False\n",
       "race_white                                           0.962659\n",
       "race_black                                                  0\n",
       "race_asian                                           0.012696\n",
       "race_hispanic                                       0.0246453\n",
       "race_other                                                  0\n",
       "poverty_pop_below_poverty_level                     0.0401284\n",
       "earned_income_per_capita                                64372\n",
       "poverty_pop_w_public_assistance                             0\n",
       "poverty_pop_w_food_stamps                                   0\n",
       "poverty_pop_w_ssi                                           0\n",
       "school                                                     20\n",
       "school_std_dev                                        149.326\n",
       "housing_std_dev                                       94.0452\n",
       "bedroom                                                     2\n",
       "bedroom_std_dev                                       98.3479\n",
       "value                                                  450000\n",
       "value_std_dev                                         30.1133\n",
       "rent                                                     1750\n",
       "rent_std_dev                                          35.0555\n",
       "income                                                 112500\n",
       "income_std_dev                                        58.9864\n",
       "queue_wk                                                 4879\n",
       "queue_wk_open                                              24\n",
       "is_description                                          False\n",
       "Property_Type_Address                                       1\n",
       "neighborhood_from_zip_Allston / Brighton                    0\n",
       "neighborhood_from_zip_Back Bay                              0\n",
       "neighborhood_from_zip_Beacon Hill                           0\n",
       "neighborhood_from_zip_Charlestown                           0\n",
       "neighborhood_from_zip_Chestnut Hill                         0\n",
       "neighborhood_from_zip_Dorchester                            0\n",
       "neighborhood_from_zip_Downtown / Financial Dist...          0\n",
       "neighborhood_from_zip_East Boston                           0\n",
       "neighborhood_from_zip_Fenway / Kenmore / Audubo...          0\n",
       "neighborhood_from_zip_Hyde Park                             0\n",
       "neighborhood_from_zip_Jamaica Plain                         0\n",
       "neighborhood_from_zip_Mattapan                              0\n",
       "neighborhood_from_zip_Mission Hill                          0\n",
       "neighborhood_from_zip_North End                             0\n",
       "neighborhood_from_zip_Roslindale                            0\n",
       "neighborhood_from_zip_Roxbury                               0\n",
       "neighborhood_from_zip_South Boston                          1\n",
       "neighborhood_from_zip_South End                             0\n",
       "housing_own                                                 0"
      ]
     },
     "execution_count": 57,
     "metadata": {},
     "output_type": "execute_result"
    }
   ],
   "source": [
    "X_train.head(1).T"
   ]
  },
  {
   "cell_type": "code",
   "execution_count": 54,
   "metadata": {
    "collapsed": false
   },
   "outputs": [
    {
     "data": {
      "text/html": [
       "<div>\n",
       "<table border=\"1\" class=\"dataframe\">\n",
       "  <thead>\n",
       "    <tr style=\"text-align: right;\">\n",
       "      <th></th>\n",
       "      <th>0</th>\n",
       "      <th>1</th>\n",
       "      <th>2</th>\n",
       "      <th>3</th>\n",
       "      <th>4</th>\n",
       "      <th>5</th>\n",
       "      <th>6</th>\n",
       "      <th>7</th>\n",
       "      <th>8</th>\n",
       "      <th>9</th>\n",
       "      <th>10</th>\n",
       "      <th>11</th>\n",
       "    </tr>\n",
       "  </thead>\n",
       "  <tbody>\n",
       "    <tr>\n",
       "      <th>mean_test_score</th>\n",
       "      <td>0.678319</td>\n",
       "      <td>0.753082</td>\n",
       "      <td>0.767649</td>\n",
       "      <td>0.766937</td>\n",
       "      <td>0.413059</td>\n",
       "      <td>0.64115</td>\n",
       "      <td>0.663653</td>\n",
       "      <td>0.669189</td>\n",
       "      <td>0.721175</td>\n",
       "      <td>0.766408</td>\n",
       "      <td>0.780556</td>\n",
       "      <td>0.778119</td>\n",
       "    </tr>\n",
       "    <tr>\n",
       "      <th>mean_train_score</th>\n",
       "      <td>0.756756</td>\n",
       "      <td>0.823408</td>\n",
       "      <td>0.833619</td>\n",
       "      <td>0.833002</td>\n",
       "      <td>0.501109</td>\n",
       "      <td>0.712737</td>\n",
       "      <td>0.73508</td>\n",
       "      <td>0.738212</td>\n",
       "      <td>0.788973</td>\n",
       "      <td>0.842715</td>\n",
       "      <td>0.849293</td>\n",
       "      <td>0.849256</td>\n",
       "    </tr>\n",
       "    <tr>\n",
       "      <th>param_randomforestregressor__max_depth</th>\n",
       "      <td>50</td>\n",
       "      <td>50</td>\n",
       "      <td>50</td>\n",
       "      <td>50</td>\n",
       "      <td>50</td>\n",
       "      <td>50</td>\n",
       "      <td>50</td>\n",
       "      <td>50</td>\n",
       "      <td>50</td>\n",
       "      <td>50</td>\n",
       "      <td>50</td>\n",
       "      <td>50</td>\n",
       "    </tr>\n",
       "    <tr>\n",
       "      <th>param_randomforestregressor__max_features</th>\n",
       "      <td>0.4</td>\n",
       "      <td>0.4</td>\n",
       "      <td>0.4</td>\n",
       "      <td>0.4</td>\n",
       "      <td>sqrt</td>\n",
       "      <td>sqrt</td>\n",
       "      <td>sqrt</td>\n",
       "      <td>sqrt</td>\n",
       "      <td>auto</td>\n",
       "      <td>auto</td>\n",
       "      <td>auto</td>\n",
       "      <td>auto</td>\n",
       "    </tr>\n",
       "    <tr>\n",
       "      <th>param_randomforestregressor__min_samples_leaf</th>\n",
       "      <td>0.01</td>\n",
       "      <td>0.01</td>\n",
       "      <td>0.01</td>\n",
       "      <td>0.01</td>\n",
       "      <td>0.01</td>\n",
       "      <td>0.01</td>\n",
       "      <td>0.01</td>\n",
       "      <td>0.01</td>\n",
       "      <td>0.01</td>\n",
       "      <td>0.01</td>\n",
       "      <td>0.01</td>\n",
       "      <td>0.01</td>\n",
       "    </tr>\n",
       "    <tr>\n",
       "      <th>param_randomforestregressor__min_samples_split</th>\n",
       "      <td>0.01</td>\n",
       "      <td>0.01</td>\n",
       "      <td>0.01</td>\n",
       "      <td>0.01</td>\n",
       "      <td>0.01</td>\n",
       "      <td>0.01</td>\n",
       "      <td>0.01</td>\n",
       "      <td>0.01</td>\n",
       "      <td>0.01</td>\n",
       "      <td>0.01</td>\n",
       "      <td>0.01</td>\n",
       "      <td>0.01</td>\n",
       "    </tr>\n",
       "    <tr>\n",
       "      <th>param_randomforestregressor__n_estimators</th>\n",
       "      <td>1</td>\n",
       "      <td>10</td>\n",
       "      <td>100</td>\n",
       "      <td>300</td>\n",
       "      <td>1</td>\n",
       "      <td>10</td>\n",
       "      <td>100</td>\n",
       "      <td>300</td>\n",
       "      <td>1</td>\n",
       "      <td>10</td>\n",
       "      <td>100</td>\n",
       "      <td>300</td>\n",
       "    </tr>\n",
       "  </tbody>\n",
       "</table>\n",
       "</div>"
      ],
      "text/plain": [
       "                                                      0         1         2   \\\n",
       "mean_test_score                                 0.678319  0.753082  0.767649   \n",
       "mean_train_score                                0.756756  0.823408  0.833619   \n",
       "param_randomforestregressor__max_depth                50        50        50   \n",
       "param_randomforestregressor__max_features            0.4       0.4       0.4   \n",
       "param_randomforestregressor__min_samples_leaf       0.01      0.01      0.01   \n",
       "param_randomforestregressor__min_samples_split      0.01      0.01      0.01   \n",
       "param_randomforestregressor__n_estimators              1        10       100   \n",
       "\n",
       "                                                      3         4         5   \\\n",
       "mean_test_score                                 0.766937  0.413059   0.64115   \n",
       "mean_train_score                                0.833002  0.501109  0.712737   \n",
       "param_randomforestregressor__max_depth                50        50        50   \n",
       "param_randomforestregressor__max_features            0.4      sqrt      sqrt   \n",
       "param_randomforestregressor__min_samples_leaf       0.01      0.01      0.01   \n",
       "param_randomforestregressor__min_samples_split      0.01      0.01      0.01   \n",
       "param_randomforestregressor__n_estimators            300         1        10   \n",
       "\n",
       "                                                      6         7         8   \\\n",
       "mean_test_score                                 0.663653  0.669189  0.721175   \n",
       "mean_train_score                                 0.73508  0.738212  0.788973   \n",
       "param_randomforestregressor__max_depth                50        50        50   \n",
       "param_randomforestregressor__max_features           sqrt      sqrt      auto   \n",
       "param_randomforestregressor__min_samples_leaf       0.01      0.01      0.01   \n",
       "param_randomforestregressor__min_samples_split      0.01      0.01      0.01   \n",
       "param_randomforestregressor__n_estimators            100       300         1   \n",
       "\n",
       "                                                      9         10        11  \n",
       "mean_test_score                                 0.766408  0.780556  0.778119  \n",
       "mean_train_score                                0.842715  0.849293  0.849256  \n",
       "param_randomforestregressor__max_depth                50        50        50  \n",
       "param_randomforestregressor__max_features           auto      auto      auto  \n",
       "param_randomforestregressor__min_samples_leaf       0.01      0.01      0.01  \n",
       "param_randomforestregressor__min_samples_split      0.01      0.01      0.01  \n",
       "param_randomforestregressor__n_estimators             10       100       300  "
      ]
     },
     "execution_count": 54,
     "metadata": {},
     "output_type": "execute_result"
    }
   ],
   "source": [
    "results.iloc[2:9]"
   ]
  },
  {
   "cell_type": "code",
   "execution_count": 52,
   "metadata": {
    "collapsed": false
   },
   "outputs": [
    {
     "data": {
      "text/html": [
       "<div>\n",
       "<table border=\"1\" class=\"dataframe\">\n",
       "  <thead>\n",
       "    <tr style=\"text-align: right;\">\n",
       "      <th></th>\n",
       "      <th>0</th>\n",
       "      <th>1</th>\n",
       "      <th>2</th>\n",
       "      <th>3</th>\n",
       "    </tr>\n",
       "  </thead>\n",
       "  <tbody>\n",
       "    <tr>\n",
       "      <th>mean_test_score</th>\n",
       "      <td>0.706575</td>\n",
       "      <td>0.767829</td>\n",
       "      <td>0.780011</td>\n",
       "      <td>0.777775</td>\n",
       "    </tr>\n",
       "    <tr>\n",
       "      <th>mean_train_score</th>\n",
       "      <td>0.793392</td>\n",
       "      <td>0.842632</td>\n",
       "      <td>0.848664</td>\n",
       "      <td>0.849464</td>\n",
       "    </tr>\n",
       "    <tr>\n",
       "      <th>param_randomforestregressor__max_depth</th>\n",
       "      <td>50</td>\n",
       "      <td>50</td>\n",
       "      <td>50</td>\n",
       "      <td>50</td>\n",
       "    </tr>\n",
       "    <tr>\n",
       "      <th>param_randomforestregressor__max_features</th>\n",
       "      <td>auto</td>\n",
       "      <td>auto</td>\n",
       "      <td>auto</td>\n",
       "      <td>auto</td>\n",
       "    </tr>\n",
       "    <tr>\n",
       "      <th>param_randomforestregressor__min_samples_leaf</th>\n",
       "      <td>0.01</td>\n",
       "      <td>0.01</td>\n",
       "      <td>0.01</td>\n",
       "      <td>0.01</td>\n",
       "    </tr>\n",
       "    <tr>\n",
       "      <th>param_randomforestregressor__min_samples_split</th>\n",
       "      <td>0.01</td>\n",
       "      <td>0.01</td>\n",
       "      <td>0.01</td>\n",
       "      <td>0.01</td>\n",
       "    </tr>\n",
       "    <tr>\n",
       "      <th>param_randomforestregressor__n_estimators</th>\n",
       "      <td>1</td>\n",
       "      <td>10</td>\n",
       "      <td>100</td>\n",
       "      <td>300</td>\n",
       "    </tr>\n",
       "  </tbody>\n",
       "</table>\n",
       "</div>"
      ],
      "text/plain": [
       "                                                       0         1         2  \\\n",
       "mean_test_score                                 0.706575  0.767829  0.780011   \n",
       "mean_train_score                                0.793392  0.842632  0.848664   \n",
       "param_randomforestregressor__max_depth                50        50        50   \n",
       "param_randomforestregressor__max_features           auto      auto      auto   \n",
       "param_randomforestregressor__min_samples_leaf       0.01      0.01      0.01   \n",
       "param_randomforestregressor__min_samples_split      0.01      0.01      0.01   \n",
       "param_randomforestregressor__n_estimators              1        10       100   \n",
       "\n",
       "                                                       3  \n",
       "mean_test_score                                 0.777775  \n",
       "mean_train_score                                0.849464  \n",
       "param_randomforestregressor__max_depth                50  \n",
       "param_randomforestregressor__max_features           auto  \n",
       "param_randomforestregressor__min_samples_leaf       0.01  \n",
       "param_randomforestregressor__min_samples_split      0.01  \n",
       "param_randomforestregressor__n_estimators            300  "
      ]
     },
     "execution_count": 52,
     "metadata": {},
     "output_type": "execute_result"
    }
   ],
   "source": [
    "results.iloc[2:9]"
   ]
  },
  {
   "cell_type": "code",
   "execution_count": 38,
   "metadata": {
    "collapsed": true
   },
   "outputs": [
    {
     "data": {
      "text/html": [
       "<div>\n",
       "<table border=\"1\" class=\"dataframe\">\n",
       "  <thead>\n",
       "    <tr style=\"text-align: right;\">\n",
       "      <th></th>\n",
       "      <th>0</th>\n",
       "      <th>1</th>\n",
       "      <th>2</th>\n",
       "    </tr>\n",
       "  </thead>\n",
       "  <tbody>\n",
       "    <tr>\n",
       "      <th>mean_fit_time</th>\n",
       "      <td>460.889</td>\n",
       "      <td>490.748</td>\n",
       "      <td>488.439</td>\n",
       "    </tr>\n",
       "    <tr>\n",
       "      <th>mean_score_time</th>\n",
       "      <td>2.81586</td>\n",
       "      <td>3.07321</td>\n",
       "      <td>3.01894</td>\n",
       "    </tr>\n",
       "    <tr>\n",
       "      <th>mean_test_score</th>\n",
       "      <td>0.628366</td>\n",
       "      <td>0.624944</td>\n",
       "      <td>0.624703</td>\n",
       "    </tr>\n",
       "    <tr>\n",
       "      <th>mean_train_score</th>\n",
       "      <td>0.916543</td>\n",
       "      <td>0.940756</td>\n",
       "      <td>0.94142</td>\n",
       "    </tr>\n",
       "    <tr>\n",
       "      <th>param_randomforestregressor__max_depth</th>\n",
       "      <td>50</td>\n",
       "      <td>75</td>\n",
       "      <td>85</td>\n",
       "    </tr>\n",
       "    <tr>\n",
       "      <th>param_randomforestregressor__n_estimators</th>\n",
       "      <td>30</td>\n",
       "      <td>30</td>\n",
       "      <td>30</td>\n",
       "    </tr>\n",
       "    <tr>\n",
       "      <th>param_randomforestregressor__oob_score</th>\n",
       "      <td>True</td>\n",
       "      <td>True</td>\n",
       "      <td>True</td>\n",
       "    </tr>\n",
       "    <tr>\n",
       "      <th>params</th>\n",
       "      <td>{u'randomforestregressor__max_depth': 50, u'ra...</td>\n",
       "      <td>{u'randomforestregressor__max_depth': 75, u'ra...</td>\n",
       "      <td>{u'randomforestregressor__max_depth': 85, u'ra...</td>\n",
       "    </tr>\n",
       "    <tr>\n",
       "      <th>rank_test_score</th>\n",
       "      <td>1</td>\n",
       "      <td>2</td>\n",
       "      <td>3</td>\n",
       "    </tr>\n",
       "    <tr>\n",
       "      <th>split0_test_score</th>\n",
       "      <td>0.628366</td>\n",
       "      <td>0.624944</td>\n",
       "      <td>0.624703</td>\n",
       "    </tr>\n",
       "    <tr>\n",
       "      <th>split0_train_score</th>\n",
       "      <td>0.916543</td>\n",
       "      <td>0.940756</td>\n",
       "      <td>0.94142</td>\n",
       "    </tr>\n",
       "    <tr>\n",
       "      <th>std_fit_time</th>\n",
       "      <td>0</td>\n",
       "      <td>0</td>\n",
       "      <td>0</td>\n",
       "    </tr>\n",
       "    <tr>\n",
       "      <th>std_score_time</th>\n",
       "      <td>0</td>\n",
       "      <td>0</td>\n",
       "      <td>0</td>\n",
       "    </tr>\n",
       "    <tr>\n",
       "      <th>std_test_score</th>\n",
       "      <td>0</td>\n",
       "      <td>0</td>\n",
       "      <td>0</td>\n",
       "    </tr>\n",
       "    <tr>\n",
       "      <th>std_train_score</th>\n",
       "      <td>0</td>\n",
       "      <td>0</td>\n",
       "      <td>0</td>\n",
       "    </tr>\n",
       "  </tbody>\n",
       "</table>\n",
       "</div>"
      ],
      "text/plain": [
       "                                                                                           0  \\\n",
       "mean_fit_time                                                                        460.889   \n",
       "mean_score_time                                                                      2.81586   \n",
       "mean_test_score                                                                     0.628366   \n",
       "mean_train_score                                                                    0.916543   \n",
       "param_randomforestregressor__max_depth                                                    50   \n",
       "param_randomforestregressor__n_estimators                                                 30   \n",
       "param_randomforestregressor__oob_score                                                  True   \n",
       "params                                     {u'randomforestregressor__max_depth': 50, u'ra...   \n",
       "rank_test_score                                                                            1   \n",
       "split0_test_score                                                                   0.628366   \n",
       "split0_train_score                                                                  0.916543   \n",
       "std_fit_time                                                                               0   \n",
       "std_score_time                                                                             0   \n",
       "std_test_score                                                                             0   \n",
       "std_train_score                                                                            0   \n",
       "\n",
       "                                                                                           1  \\\n",
       "mean_fit_time                                                                        490.748   \n",
       "mean_score_time                                                                      3.07321   \n",
       "mean_test_score                                                                     0.624944   \n",
       "mean_train_score                                                                    0.940756   \n",
       "param_randomforestregressor__max_depth                                                    75   \n",
       "param_randomforestregressor__n_estimators                                                 30   \n",
       "param_randomforestregressor__oob_score                                                  True   \n",
       "params                                     {u'randomforestregressor__max_depth': 75, u'ra...   \n",
       "rank_test_score                                                                            2   \n",
       "split0_test_score                                                                   0.624944   \n",
       "split0_train_score                                                                  0.940756   \n",
       "std_fit_time                                                                               0   \n",
       "std_score_time                                                                             0   \n",
       "std_test_score                                                                             0   \n",
       "std_train_score                                                                            0   \n",
       "\n",
       "                                                                                           2  \n",
       "mean_fit_time                                                                        488.439  \n",
       "mean_score_time                                                                      3.01894  \n",
       "mean_test_score                                                                     0.624703  \n",
       "mean_train_score                                                                     0.94142  \n",
       "param_randomforestregressor__max_depth                                                    85  \n",
       "param_randomforestregressor__n_estimators                                                 30  \n",
       "param_randomforestregressor__oob_score                                                  True  \n",
       "params                                     {u'randomforestregressor__max_depth': 85, u'ra...  \n",
       "rank_test_score                                                                            3  \n",
       "split0_test_score                                                                   0.624703  \n",
       "split0_train_score                                                                   0.94142  \n",
       "std_fit_time                                                                               0  \n",
       "std_score_time                                                                             0  \n",
       "std_test_score                                                                             0  \n",
       "std_train_score                                                                            0  "
      ]
     },
     "execution_count": 38,
     "metadata": {},
     "output_type": "execute_result"
    }
   ],
   "source": [
    "results = pd.DataFrame(model3.cv_results_).T\n",
    "results"
   ]
  },
  {
   "cell_type": "code",
   "execution_count": 33,
   "metadata": {
    "collapsed": false
   },
   "outputs": [
    {
     "data": {
      "text/html": [
       "<div>\n",
       "<table border=\"1\" class=\"dataframe\">\n",
       "  <thead>\n",
       "    <tr style=\"text-align: right;\">\n",
       "      <th></th>\n",
       "      <th>0</th>\n",
       "      <th>1</th>\n",
       "      <th>2</th>\n",
       "    </tr>\n",
       "  </thead>\n",
       "  <tbody>\n",
       "    <tr>\n",
       "      <th>mean_fit_time</th>\n",
       "      <td>59.176</td>\n",
       "      <td>135.95</td>\n",
       "      <td>210.871</td>\n",
       "    </tr>\n",
       "    <tr>\n",
       "      <th>mean_score_time</th>\n",
       "      <td>1.28531</td>\n",
       "      <td>1.34715</td>\n",
       "      <td>1.4439</td>\n",
       "    </tr>\n",
       "    <tr>\n",
       "      <th>mean_test_score</th>\n",
       "      <td>0.46555</td>\n",
       "      <td>0.464261</td>\n",
       "      <td>0.464148</td>\n",
       "    </tr>\n",
       "    <tr>\n",
       "      <th>mean_train_score</th>\n",
       "      <td>0.473085</td>\n",
       "      <td>0.471913</td>\n",
       "      <td>0.47176</td>\n",
       "    </tr>\n",
       "    <tr>\n",
       "      <th>param_randomforestregressor__max_depth</th>\n",
       "      <td>10</td>\n",
       "      <td>10</td>\n",
       "      <td>10</td>\n",
       "    </tr>\n",
       "    <tr>\n",
       "      <th>param_randomforestregressor__n_estimators</th>\n",
       "      <td>10</td>\n",
       "      <td>25</td>\n",
       "      <td>40</td>\n",
       "    </tr>\n",
       "    <tr>\n",
       "      <th>param_randomforestregressor__oob_score</th>\n",
       "      <td>True</td>\n",
       "      <td>True</td>\n",
       "      <td>True</td>\n",
       "    </tr>\n",
       "    <tr>\n",
       "      <th>params</th>\n",
       "      <td>{u'randomforestregressor__max_depth': 10, u'ra...</td>\n",
       "      <td>{u'randomforestregressor__max_depth': 10, u'ra...</td>\n",
       "      <td>{u'randomforestregressor__max_depth': 10, u'ra...</td>\n",
       "    </tr>\n",
       "    <tr>\n",
       "      <th>rank_test_score</th>\n",
       "      <td>1</td>\n",
       "      <td>2</td>\n",
       "      <td>3</td>\n",
       "    </tr>\n",
       "    <tr>\n",
       "      <th>split0_test_score</th>\n",
       "      <td>0.46555</td>\n",
       "      <td>0.464261</td>\n",
       "      <td>0.464148</td>\n",
       "    </tr>\n",
       "    <tr>\n",
       "      <th>split0_train_score</th>\n",
       "      <td>0.473085</td>\n",
       "      <td>0.471913</td>\n",
       "      <td>0.47176</td>\n",
       "    </tr>\n",
       "    <tr>\n",
       "      <th>std_fit_time</th>\n",
       "      <td>0</td>\n",
       "      <td>0</td>\n",
       "      <td>0</td>\n",
       "    </tr>\n",
       "    <tr>\n",
       "      <th>std_score_time</th>\n",
       "      <td>0</td>\n",
       "      <td>0</td>\n",
       "      <td>0</td>\n",
       "    </tr>\n",
       "    <tr>\n",
       "      <th>std_test_score</th>\n",
       "      <td>5.55112e-17</td>\n",
       "      <td>0</td>\n",
       "      <td>5.55112e-17</td>\n",
       "    </tr>\n",
       "    <tr>\n",
       "      <th>std_train_score</th>\n",
       "      <td>0</td>\n",
       "      <td>0</td>\n",
       "      <td>0</td>\n",
       "    </tr>\n",
       "  </tbody>\n",
       "</table>\n",
       "</div>"
      ],
      "text/plain": [
       "                                                                                           0  \\\n",
       "mean_fit_time                                                                         59.176   \n",
       "mean_score_time                                                                      1.28531   \n",
       "mean_test_score                                                                      0.46555   \n",
       "mean_train_score                                                                    0.473085   \n",
       "param_randomforestregressor__max_depth                                                    10   \n",
       "param_randomforestregressor__n_estimators                                                 10   \n",
       "param_randomforestregressor__oob_score                                                  True   \n",
       "params                                     {u'randomforestregressor__max_depth': 10, u'ra...   \n",
       "rank_test_score                                                                            1   \n",
       "split0_test_score                                                                    0.46555   \n",
       "split0_train_score                                                                  0.473085   \n",
       "std_fit_time                                                                               0   \n",
       "std_score_time                                                                             0   \n",
       "std_test_score                                                                   5.55112e-17   \n",
       "std_train_score                                                                            0   \n",
       "\n",
       "                                                                                           1  \\\n",
       "mean_fit_time                                                                         135.95   \n",
       "mean_score_time                                                                      1.34715   \n",
       "mean_test_score                                                                     0.464261   \n",
       "mean_train_score                                                                    0.471913   \n",
       "param_randomforestregressor__max_depth                                                    10   \n",
       "param_randomforestregressor__n_estimators                                                 25   \n",
       "param_randomforestregressor__oob_score                                                  True   \n",
       "params                                     {u'randomforestregressor__max_depth': 10, u'ra...   \n",
       "rank_test_score                                                                            2   \n",
       "split0_test_score                                                                   0.464261   \n",
       "split0_train_score                                                                  0.471913   \n",
       "std_fit_time                                                                               0   \n",
       "std_score_time                                                                             0   \n",
       "std_test_score                                                                             0   \n",
       "std_train_score                                                                            0   \n",
       "\n",
       "                                                                                           2  \n",
       "mean_fit_time                                                                        210.871  \n",
       "mean_score_time                                                                       1.4439  \n",
       "mean_test_score                                                                     0.464148  \n",
       "mean_train_score                                                                     0.47176  \n",
       "param_randomforestregressor__max_depth                                                    10  \n",
       "param_randomforestregressor__n_estimators                                                 40  \n",
       "param_randomforestregressor__oob_score                                                  True  \n",
       "params                                     {u'randomforestregressor__max_depth': 10, u'ra...  \n",
       "rank_test_score                                                                            3  \n",
       "split0_test_score                                                                   0.464148  \n",
       "split0_train_score                                                                   0.47176  \n",
       "std_fit_time                                                                               0  \n",
       "std_score_time                                                                             0  \n",
       "std_test_score                                                                   5.55112e-17  \n",
       "std_train_score                                                                            0  "
      ]
     },
     "execution_count": 33,
     "metadata": {},
     "output_type": "execute_result"
    }
   ],
   "source": [
    "results = pd.DataFrame(model2.cv_results_).T\n",
    "results"
   ]
  },
  {
   "cell_type": "code",
   "execution_count": 20,
   "metadata": {
    "collapsed": false
   },
   "outputs": [
    {
     "data": {
      "text/html": [
       "<div>\n",
       "<table border=\"1\" class=\"dataframe\">\n",
       "  <thead>\n",
       "    <tr style=\"text-align: right;\">\n",
       "      <th></th>\n",
       "      <th>0</th>\n",
       "      <th>1</th>\n",
       "      <th>2</th>\n",
       "      <th>3</th>\n",
       "      <th>4</th>\n",
       "      <th>5</th>\n",
       "      <th>6</th>\n",
       "      <th>7</th>\n",
       "      <th>8</th>\n",
       "    </tr>\n",
       "  </thead>\n",
       "  <tbody>\n",
       "    <tr>\n",
       "      <th>mean_fit_time</th>\n",
       "      <td>279.679</td>\n",
       "      <td>538.562</td>\n",
       "      <td>781.369</td>\n",
       "      <td>877.744</td>\n",
       "      <td>1679.15</td>\n",
       "      <td>2430.63</td>\n",
       "      <td>844.865</td>\n",
       "      <td>1641.91</td>\n",
       "      <td>2462</td>\n",
       "    </tr>\n",
       "    <tr>\n",
       "      <th>mean_score_time</th>\n",
       "      <td>1.55904</td>\n",
       "      <td>1.91368</td>\n",
       "      <td>2.45124</td>\n",
       "      <td>4.53693</td>\n",
       "      <td>7.57992</td>\n",
       "      <td>10.2313</td>\n",
       "      <td>4.53368</td>\n",
       "      <td>7.26755</td>\n",
       "      <td>10.0672</td>\n",
       "    </tr>\n",
       "    <tr>\n",
       "      <th>mean_test_score</th>\n",
       "      <td>0.46469</td>\n",
       "      <td>0.464717</td>\n",
       "      <td>0.46495</td>\n",
       "      <td>0.63119</td>\n",
       "      <td>0.63385</td>\n",
       "      <td>0.634941</td>\n",
       "      <td>0.631045</td>\n",
       "      <td>0.633741</td>\n",
       "      <td>0.634933</td>\n",
       "    </tr>\n",
       "    <tr>\n",
       "      <th>mean_train_score</th>\n",
       "      <td>0.472256</td>\n",
       "      <td>0.472292</td>\n",
       "      <td>0.472518</td>\n",
       "      <td>0.944207</td>\n",
       "      <td>0.946224</td>\n",
       "      <td>0.946885</td>\n",
       "      <td>0.944177</td>\n",
       "      <td>0.946196</td>\n",
       "      <td>0.946873</td>\n",
       "    </tr>\n",
       "    <tr>\n",
       "      <th>param_randomforestregressor__max_depth</th>\n",
       "      <td>10</td>\n",
       "      <td>10</td>\n",
       "      <td>10</td>\n",
       "      <td>100</td>\n",
       "      <td>100</td>\n",
       "      <td>100</td>\n",
       "      <td>None</td>\n",
       "      <td>None</td>\n",
       "      <td>None</td>\n",
       "    </tr>\n",
       "    <tr>\n",
       "      <th>param_randomforestregressor__n_estimators</th>\n",
       "      <td>50</td>\n",
       "      <td>100</td>\n",
       "      <td>150</td>\n",
       "      <td>50</td>\n",
       "      <td>100</td>\n",
       "      <td>150</td>\n",
       "      <td>50</td>\n",
       "      <td>100</td>\n",
       "      <td>150</td>\n",
       "    </tr>\n",
       "    <tr>\n",
       "      <th>params</th>\n",
       "      <td>{u'randomforestregressor__max_depth': 10, u'ra...</td>\n",
       "      <td>{u'randomforestregressor__max_depth': 10, u'ra...</td>\n",
       "      <td>{u'randomforestregressor__max_depth': 10, u'ra...</td>\n",
       "      <td>{u'randomforestregressor__max_depth': 100, u'r...</td>\n",
       "      <td>{u'randomforestregressor__max_depth': 100, u'r...</td>\n",
       "      <td>{u'randomforestregressor__max_depth': 100, u'r...</td>\n",
       "      <td>{u'randomforestregressor__max_depth': None, u'...</td>\n",
       "      <td>{u'randomforestregressor__max_depth': None, u'...</td>\n",
       "      <td>{u'randomforestregressor__max_depth': None, u'...</td>\n",
       "    </tr>\n",
       "    <tr>\n",
       "      <th>rank_test_score</th>\n",
       "      <td>9</td>\n",
       "      <td>8</td>\n",
       "      <td>7</td>\n",
       "      <td>5</td>\n",
       "      <td>3</td>\n",
       "      <td>1</td>\n",
       "      <td>6</td>\n",
       "      <td>4</td>\n",
       "      <td>2</td>\n",
       "    </tr>\n",
       "    <tr>\n",
       "      <th>split0_test_score</th>\n",
       "      <td>0.46469</td>\n",
       "      <td>0.464717</td>\n",
       "      <td>0.46495</td>\n",
       "      <td>0.63119</td>\n",
       "      <td>0.63385</td>\n",
       "      <td>0.634941</td>\n",
       "      <td>0.631045</td>\n",
       "      <td>0.633741</td>\n",
       "      <td>0.634933</td>\n",
       "    </tr>\n",
       "    <tr>\n",
       "      <th>split0_train_score</th>\n",
       "      <td>0.472256</td>\n",
       "      <td>0.472292</td>\n",
       "      <td>0.472518</td>\n",
       "      <td>0.944207</td>\n",
       "      <td>0.946224</td>\n",
       "      <td>0.946885</td>\n",
       "      <td>0.944177</td>\n",
       "      <td>0.946196</td>\n",
       "      <td>0.946873</td>\n",
       "    </tr>\n",
       "    <tr>\n",
       "      <th>std_fit_time</th>\n",
       "      <td>0</td>\n",
       "      <td>0</td>\n",
       "      <td>0</td>\n",
       "      <td>0</td>\n",
       "      <td>0</td>\n",
       "      <td>0</td>\n",
       "      <td>0</td>\n",
       "      <td>0</td>\n",
       "      <td>0</td>\n",
       "    </tr>\n",
       "    <tr>\n",
       "      <th>std_score_time</th>\n",
       "      <td>0</td>\n",
       "      <td>0</td>\n",
       "      <td>0</td>\n",
       "      <td>0</td>\n",
       "      <td>0</td>\n",
       "      <td>0</td>\n",
       "      <td>0</td>\n",
       "      <td>0</td>\n",
       "      <td>0</td>\n",
       "    </tr>\n",
       "    <tr>\n",
       "      <th>std_test_score</th>\n",
       "      <td>5.55112e-17</td>\n",
       "      <td>0</td>\n",
       "      <td>5.55112e-17</td>\n",
       "      <td>0</td>\n",
       "      <td>0</td>\n",
       "      <td>0</td>\n",
       "      <td>0</td>\n",
       "      <td>0</td>\n",
       "      <td>0</td>\n",
       "    </tr>\n",
       "    <tr>\n",
       "      <th>std_train_score</th>\n",
       "      <td>0</td>\n",
       "      <td>0</td>\n",
       "      <td>0</td>\n",
       "      <td>0</td>\n",
       "      <td>0</td>\n",
       "      <td>0</td>\n",
       "      <td>0</td>\n",
       "      <td>0</td>\n",
       "      <td>0</td>\n",
       "    </tr>\n",
       "  </tbody>\n",
       "</table>\n",
       "</div>"
      ],
      "text/plain": [
       "                                                                                           0  \\\n",
       "mean_fit_time                                                                        279.679   \n",
       "mean_score_time                                                                      1.55904   \n",
       "mean_test_score                                                                      0.46469   \n",
       "mean_train_score                                                                    0.472256   \n",
       "param_randomforestregressor__max_depth                                                    10   \n",
       "param_randomforestregressor__n_estimators                                                 50   \n",
       "params                                     {u'randomforestregressor__max_depth': 10, u'ra...   \n",
       "rank_test_score                                                                            9   \n",
       "split0_test_score                                                                    0.46469   \n",
       "split0_train_score                                                                  0.472256   \n",
       "std_fit_time                                                                               0   \n",
       "std_score_time                                                                             0   \n",
       "std_test_score                                                                   5.55112e-17   \n",
       "std_train_score                                                                            0   \n",
       "\n",
       "                                                                                           1  \\\n",
       "mean_fit_time                                                                        538.562   \n",
       "mean_score_time                                                                      1.91368   \n",
       "mean_test_score                                                                     0.464717   \n",
       "mean_train_score                                                                    0.472292   \n",
       "param_randomforestregressor__max_depth                                                    10   \n",
       "param_randomforestregressor__n_estimators                                                100   \n",
       "params                                     {u'randomforestregressor__max_depth': 10, u'ra...   \n",
       "rank_test_score                                                                            8   \n",
       "split0_test_score                                                                   0.464717   \n",
       "split0_train_score                                                                  0.472292   \n",
       "std_fit_time                                                                               0   \n",
       "std_score_time                                                                             0   \n",
       "std_test_score                                                                             0   \n",
       "std_train_score                                                                            0   \n",
       "\n",
       "                                                                                           2  \\\n",
       "mean_fit_time                                                                        781.369   \n",
       "mean_score_time                                                                      2.45124   \n",
       "mean_test_score                                                                      0.46495   \n",
       "mean_train_score                                                                    0.472518   \n",
       "param_randomforestregressor__max_depth                                                    10   \n",
       "param_randomforestregressor__n_estimators                                                150   \n",
       "params                                     {u'randomforestregressor__max_depth': 10, u'ra...   \n",
       "rank_test_score                                                                            7   \n",
       "split0_test_score                                                                    0.46495   \n",
       "split0_train_score                                                                  0.472518   \n",
       "std_fit_time                                                                               0   \n",
       "std_score_time                                                                             0   \n",
       "std_test_score                                                                   5.55112e-17   \n",
       "std_train_score                                                                            0   \n",
       "\n",
       "                                                                                           3  \\\n",
       "mean_fit_time                                                                        877.744   \n",
       "mean_score_time                                                                      4.53693   \n",
       "mean_test_score                                                                      0.63119   \n",
       "mean_train_score                                                                    0.944207   \n",
       "param_randomforestregressor__max_depth                                                   100   \n",
       "param_randomforestregressor__n_estimators                                                 50   \n",
       "params                                     {u'randomforestregressor__max_depth': 100, u'r...   \n",
       "rank_test_score                                                                            5   \n",
       "split0_test_score                                                                    0.63119   \n",
       "split0_train_score                                                                  0.944207   \n",
       "std_fit_time                                                                               0   \n",
       "std_score_time                                                                             0   \n",
       "std_test_score                                                                             0   \n",
       "std_train_score                                                                            0   \n",
       "\n",
       "                                                                                           4  \\\n",
       "mean_fit_time                                                                        1679.15   \n",
       "mean_score_time                                                                      7.57992   \n",
       "mean_test_score                                                                      0.63385   \n",
       "mean_train_score                                                                    0.946224   \n",
       "param_randomforestregressor__max_depth                                                   100   \n",
       "param_randomforestregressor__n_estimators                                                100   \n",
       "params                                     {u'randomforestregressor__max_depth': 100, u'r...   \n",
       "rank_test_score                                                                            3   \n",
       "split0_test_score                                                                    0.63385   \n",
       "split0_train_score                                                                  0.946224   \n",
       "std_fit_time                                                                               0   \n",
       "std_score_time                                                                             0   \n",
       "std_test_score                                                                             0   \n",
       "std_train_score                                                                            0   \n",
       "\n",
       "                                                                                           5  \\\n",
       "mean_fit_time                                                                        2430.63   \n",
       "mean_score_time                                                                      10.2313   \n",
       "mean_test_score                                                                     0.634941   \n",
       "mean_train_score                                                                    0.946885   \n",
       "param_randomforestregressor__max_depth                                                   100   \n",
       "param_randomforestregressor__n_estimators                                                150   \n",
       "params                                     {u'randomforestregressor__max_depth': 100, u'r...   \n",
       "rank_test_score                                                                            1   \n",
       "split0_test_score                                                                   0.634941   \n",
       "split0_train_score                                                                  0.946885   \n",
       "std_fit_time                                                                               0   \n",
       "std_score_time                                                                             0   \n",
       "std_test_score                                                                             0   \n",
       "std_train_score                                                                            0   \n",
       "\n",
       "                                                                                           6  \\\n",
       "mean_fit_time                                                                        844.865   \n",
       "mean_score_time                                                                      4.53368   \n",
       "mean_test_score                                                                     0.631045   \n",
       "mean_train_score                                                                    0.944177   \n",
       "param_randomforestregressor__max_depth                                                  None   \n",
       "param_randomforestregressor__n_estimators                                                 50   \n",
       "params                                     {u'randomforestregressor__max_depth': None, u'...   \n",
       "rank_test_score                                                                            6   \n",
       "split0_test_score                                                                   0.631045   \n",
       "split0_train_score                                                                  0.944177   \n",
       "std_fit_time                                                                               0   \n",
       "std_score_time                                                                             0   \n",
       "std_test_score                                                                             0   \n",
       "std_train_score                                                                            0   \n",
       "\n",
       "                                                                                           7  \\\n",
       "mean_fit_time                                                                        1641.91   \n",
       "mean_score_time                                                                      7.26755   \n",
       "mean_test_score                                                                     0.633741   \n",
       "mean_train_score                                                                    0.946196   \n",
       "param_randomforestregressor__max_depth                                                  None   \n",
       "param_randomforestregressor__n_estimators                                                100   \n",
       "params                                     {u'randomforestregressor__max_depth': None, u'...   \n",
       "rank_test_score                                                                            4   \n",
       "split0_test_score                                                                   0.633741   \n",
       "split0_train_score                                                                  0.946196   \n",
       "std_fit_time                                                                               0   \n",
       "std_score_time                                                                             0   \n",
       "std_test_score                                                                             0   \n",
       "std_train_score                                                                            0   \n",
       "\n",
       "                                                                                           8  \n",
       "mean_fit_time                                                                           2462  \n",
       "mean_score_time                                                                      10.0672  \n",
       "mean_test_score                                                                     0.634933  \n",
       "mean_train_score                                                                    0.946873  \n",
       "param_randomforestregressor__max_depth                                                  None  \n",
       "param_randomforestregressor__n_estimators                                                150  \n",
       "params                                     {u'randomforestregressor__max_depth': None, u'...  \n",
       "rank_test_score                                                                            2  \n",
       "split0_test_score                                                                   0.634933  \n",
       "split0_train_score                                                                  0.946873  \n",
       "std_fit_time                                                                               0  \n",
       "std_score_time                                                                             0  \n",
       "std_test_score                                                                             0  \n",
       "std_train_score                                                                            0  "
      ]
     },
     "execution_count": 20,
     "metadata": {},
     "output_type": "execute_result"
    }
   ],
   "source": [
    "results = pd.DataFrame(model.cv_results_).T\n",
    "results"
   ]
  },
  {
   "cell_type": "markdown",
   "metadata": {},
   "source": [
    "## Conclusion\n",
    "\n",
    "Random Forests, unsurprisingly, beats Decision Tree + pruning and Linear Regression with L1 Lasso regularization. The best performing model, with $R^2=0.64$, had 150 trees and a depth of 100.\n",
    "\n",
    "The $R^2$ starts to asymptote around 50 trees and 30 depth. I will use this as my best model to make predictions."
   ]
  },
  {
   "cell_type": "code",
   "execution_count": 46,
   "metadata": {
    "collapsed": false
   },
   "outputs": [
    {
     "data": {
      "text/plain": [
       "0.62836648105953374"
      ]
     },
     "execution_count": 46,
     "metadata": {},
     "output_type": "execute_result"
    }
   ],
   "source": [
    "model3.best_score_"
   ]
  },
  {
   "cell_type": "code",
   "execution_count": 16,
   "metadata": {
    "collapsed": false
   },
   "outputs": [
    {
     "data": {
      "text/plain": [
       "0.63023310082171957"
      ]
     },
     "execution_count": 16,
     "metadata": {},
     "output_type": "execute_result"
    }
   ],
   "source": [
    "model.best_score_"
   ]
  },
  {
   "cell_type": "code",
   "execution_count": 16,
   "metadata": {
    "collapsed": false
   },
   "outputs": [
    {
     "data": {
      "text/plain": [
       "0.63494073187298072"
      ]
     },
     "execution_count": 16,
     "metadata": {},
     "output_type": "execute_result"
    }
   ],
   "source": [
    "model.best_score_"
   ]
  },
  {
   "cell_type": "code",
   "execution_count": 17,
   "metadata": {
    "collapsed": false
   },
   "outputs": [
    {
     "data": {
      "text/plain": [
       "0.64116203270827277"
      ]
     },
     "execution_count": 17,
     "metadata": {},
     "output_type": "execute_result"
    }
   ],
   "source": [
    "model.score(X_test, y_test)"
   ]
  },
  {
   "cell_type": "code",
   "execution_count": 54,
   "metadata": {
    "collapsed": true
   },
   "outputs": [],
   "source": [
    "y_pred = model.predict(X_test)"
   ]
  },
  {
   "cell_type": "code",
   "execution_count": 56,
   "metadata": {
    "collapsed": false
   },
   "outputs": [
    {
     "data": {
      "text/plain": [
       "count    101731.000000\n",
       "mean          1.710346\n",
       "std           0.938206\n",
       "min          -2.820321\n",
       "25%           1.145173\n",
       "50%           1.905054\n",
       "75%           2.334531\n",
       "max           4.325803\n",
       "dtype: float64"
      ]
     },
     "execution_count": 56,
     "metadata": {},
     "output_type": "execute_result"
    }
   ],
   "source": [
    "pd.Series(y_pred).describe()"
   ]
  },
  {
   "cell_type": "code",
   "execution_count": 55,
   "metadata": {
    "collapsed": false
   },
   "outputs": [
    {
     "data": {
      "text/plain": [
       "count    101731.000000\n",
       "mean          1.717758\n",
       "std           1.119753\n",
       "min          -2.857332\n",
       "25%           1.353593\n",
       "50%           1.865962\n",
       "75%           2.375708\n",
       "max           4.582340\n",
       "Name: COMPLETION_HOURS_LOG_10, dtype: float64"
      ]
     },
     "execution_count": 55,
     "metadata": {},
     "output_type": "execute_result"
    }
   ],
   "source": [
    "y_test.describe()"
   ]
  },
  {
   "cell_type": "code",
   "execution_count": 58,
   "metadata": {
    "collapsed": false
   },
   "outputs": [
    {
     "data": {
      "text/plain": [
       "0.67076351996732153"
      ]
     },
     "execution_count": 58,
     "metadata": {},
     "output_type": "execute_result"
    }
   ],
   "source": [
    "mean_squared_error(y_test, y_pred)**0.5"
   ]
  },
  {
   "cell_type": "code",
   "execution_count": 59,
   "metadata": {
    "collapsed": true
   },
   "outputs": [
    {
     "name": "stdout",
     "output_type": "stream",
     "text": [
      "[Parallel(n_jobs=1)]: Done   1 out of   1 | elapsed:    0.1s remaining:    0.0s\n",
      "[Parallel(n_jobs=1)]: Done   2 out of   2 | elapsed:    0.1s remaining:    0.0s\n",
      "[Parallel(n_jobs=1)]: Done   3 out of   3 | elapsed:    0.2s remaining:    0.0s\n",
      "[Parallel(n_jobs=1)]: Done   4 out of   4 | elapsed:    0.3s remaining:    0.0s\n",
      "[Parallel(n_jobs=1)]: Done   5 out of   5 | elapsed:    0.4s remaining:    0.0s\n",
      "[Parallel(n_jobs=1)]: Done   6 out of   6 | elapsed:    0.4s remaining:    0.0s\n",
      "[Parallel(n_jobs=1)]: Done   7 out of   7 | elapsed:    0.5s remaining:    0.0s\n",
      "[Parallel(n_jobs=1)]: Done   8 out of   8 | elapsed:    0.6s remaining:    0.0s\n",
      "[Parallel(n_jobs=1)]: Done   9 out of   9 | elapsed:    0.6s remaining:    0.0s\n",
      "[Parallel(n_jobs=1)]: Done  10 out of  10 | elapsed:    0.7s remaining:    0.0s\n",
      "[Parallel(n_jobs=1)]: Done  11 out of  11 | elapsed:    0.8s remaining:    0.0s\n",
      "[Parallel(n_jobs=1)]: Done  12 out of  12 | elapsed:    0.9s remaining:    0.0s\n",
      "[Parallel(n_jobs=1)]: Done  13 out of  13 | elapsed:    0.9s remaining:    0.0s\n",
      "[Parallel(n_jobs=1)]: Done  14 out of  14 | elapsed:    1.0s remaining:    0.0s\n",
      "[Parallel(n_jobs=1)]: Done  15 out of  15 | elapsed:    1.1s remaining:    0.0s\n",
      "[Parallel(n_jobs=1)]: Done  16 out of  16 | elapsed:    1.1s remaining:    0.0s\n",
      "[Parallel(n_jobs=1)]: Done  17 out of  17 | elapsed:    1.2s remaining:    0.0s\n",
      "[Parallel(n_jobs=1)]: Done  18 out of  18 | elapsed:    1.3s remaining:    0.0s\n",
      "[Parallel(n_jobs=1)]: Done  19 out of  19 | elapsed:    1.4s remaining:    0.0s\n",
      "[Parallel(n_jobs=1)]: Done  20 out of  20 | elapsed:    1.4s remaining:    0.0s\n",
      "[Parallel(n_jobs=1)]: Done  21 out of  21 | elapsed:    1.5s remaining:    0.0s\n",
      "[Parallel(n_jobs=1)]: Done  22 out of  22 | elapsed:    1.6s remaining:    0.0s\n",
      "[Parallel(n_jobs=1)]: Done  23 out of  23 | elapsed:    1.6s remaining:    0.0s\n",
      "[Parallel(n_jobs=1)]: Done  24 out of  24 | elapsed:    1.7s remaining:    0.0s\n",
      "[Parallel(n_jobs=1)]: Done  25 out of  25 | elapsed:    1.8s remaining:    0.0s\n",
      "[Parallel(n_jobs=1)]: Done  26 out of  26 | elapsed:    1.8s remaining:    0.0s\n",
      "[Parallel(n_jobs=1)]: Done  27 out of  27 | elapsed:    1.9s remaining:    0.0s\n",
      "[Parallel(n_jobs=1)]: Done  28 out of  28 | elapsed:    2.0s remaining:    0.0s\n",
      "[Parallel(n_jobs=1)]: Done  29 out of  29 | elapsed:    2.1s remaining:    0.0s\n",
      "[Parallel(n_jobs=1)]: Done  30 out of  30 | elapsed:    2.1s remaining:    0.0s\n",
      "[Parallel(n_jobs=1)]: Done  30 out of  30 | elapsed:    2.1s finished\n"
     ]
    }
   ],
   "source": [
    "y_pred3 = model3.predict(X_test)"
   ]
  },
  {
   "cell_type": "code",
   "execution_count": 60,
   "metadata": {
    "collapsed": false
   },
   "outputs": [
    {
     "data": {
      "text/plain": [
       "0.67614465610813312"
      ]
     },
     "execution_count": 60,
     "metadata": {},
     "output_type": "execute_result"
    }
   ],
   "source": [
    "mean_squared_error(y_test, y_pred3)**0.5"
   ]
  },
  {
   "cell_type": "code",
   "execution_count": 51,
   "metadata": {
    "collapsed": false
   },
   "outputs": [
    {
     "data": {
      "text/plain": [
       "0.6177917198912124"
      ]
     },
     "execution_count": 51,
     "metadata": {},
     "output_type": "execute_result"
    }
   ],
   "source": [
    "model3.best_estimator_.steps[-1][-1].oob_score_"
   ]
  },
  {
   "cell_type": "code",
   "execution_count": 47,
   "metadata": {
    "collapsed": false
   },
   "outputs": [
    {
     "data": {
      "text/plain": [
       "{'randomforestregressor__max_depth': 50,\n",
       " 'randomforestregressor__n_estimators': 30,\n",
       " 'randomforestregressor__oob_score': True}"
      ]
     },
     "execution_count": 47,
     "metadata": {},
     "output_type": "execute_result"
    }
   ],
   "source": [
    "model3.best_params_"
   ]
  },
  {
   "cell_type": "code",
   "execution_count": 18,
   "metadata": {
    "collapsed": false
   },
   "outputs": [
    {
     "data": {
      "text/plain": [
       "{'randomforestregressor__max_depth': 100,\n",
       " 'randomforestregressor__n_estimators': 150}"
      ]
     },
     "execution_count": 18,
     "metadata": {},
     "output_type": "execute_result"
    }
   ],
   "source": [
    "model.best_params_"
   ]
  },
  {
   "cell_type": "code",
   "execution_count": 14,
   "metadata": {
    "collapsed": true
   },
   "outputs": [
    {
     "data": {
      "text/html": [
       "<div>\n",
       "<table border=\"1\" class=\"dataframe\">\n",
       "  <thead>\n",
       "    <tr style=\"text-align: right;\">\n",
       "      <th></th>\n",
       "      <th>0</th>\n",
       "      <th>1</th>\n",
       "      <th>2</th>\n",
       "      <th>3</th>\n",
       "      <th>4</th>\n",
       "      <th>5</th>\n",
       "      <th>6</th>\n",
       "      <th>7</th>\n",
       "      <th>8</th>\n",
       "    </tr>\n",
       "  </thead>\n",
       "  <tbody>\n",
       "    <tr>\n",
       "      <th>mean_fit_time</th>\n",
       "      <td>279.679</td>\n",
       "      <td>538.562</td>\n",
       "      <td>781.369</td>\n",
       "      <td>877.744</td>\n",
       "      <td>1679.15</td>\n",
       "      <td>2430.63</td>\n",
       "      <td>844.865</td>\n",
       "      <td>1641.91</td>\n",
       "      <td>2462</td>\n",
       "    </tr>\n",
       "    <tr>\n",
       "      <th>mean_score_time</th>\n",
       "      <td>1.55904</td>\n",
       "      <td>1.91368</td>\n",
       "      <td>2.45124</td>\n",
       "      <td>4.53693</td>\n",
       "      <td>7.57992</td>\n",
       "      <td>10.2313</td>\n",
       "      <td>4.53368</td>\n",
       "      <td>7.26755</td>\n",
       "      <td>10.0672</td>\n",
       "    </tr>\n",
       "    <tr>\n",
       "      <th>mean_test_score</th>\n",
       "      <td>0.46469</td>\n",
       "      <td>0.464717</td>\n",
       "      <td>0.46495</td>\n",
       "      <td>0.63119</td>\n",
       "      <td>0.63385</td>\n",
       "      <td>0.634941</td>\n",
       "      <td>0.631045</td>\n",
       "      <td>0.633741</td>\n",
       "      <td>0.634933</td>\n",
       "    </tr>\n",
       "    <tr>\n",
       "      <th>mean_train_score</th>\n",
       "      <td>0.472256</td>\n",
       "      <td>0.472292</td>\n",
       "      <td>0.472518</td>\n",
       "      <td>0.944207</td>\n",
       "      <td>0.946224</td>\n",
       "      <td>0.946885</td>\n",
       "      <td>0.944177</td>\n",
       "      <td>0.946196</td>\n",
       "      <td>0.946873</td>\n",
       "    </tr>\n",
       "    <tr>\n",
       "      <th>param_randomforestregressor__max_depth</th>\n",
       "      <td>10</td>\n",
       "      <td>10</td>\n",
       "      <td>10</td>\n",
       "      <td>100</td>\n",
       "      <td>100</td>\n",
       "      <td>100</td>\n",
       "      <td>None</td>\n",
       "      <td>None</td>\n",
       "      <td>None</td>\n",
       "    </tr>\n",
       "    <tr>\n",
       "      <th>param_randomforestregressor__n_estimators</th>\n",
       "      <td>50</td>\n",
       "      <td>100</td>\n",
       "      <td>150</td>\n",
       "      <td>50</td>\n",
       "      <td>100</td>\n",
       "      <td>150</td>\n",
       "      <td>50</td>\n",
       "      <td>100</td>\n",
       "      <td>150</td>\n",
       "    </tr>\n",
       "    <tr>\n",
       "      <th>params</th>\n",
       "      <td>{u'randomforestregressor__max_depth': 10, u'ra...</td>\n",
       "      <td>{u'randomforestregressor__max_depth': 10, u'ra...</td>\n",
       "      <td>{u'randomforestregressor__max_depth': 10, u'ra...</td>\n",
       "      <td>{u'randomforestregressor__max_depth': 100, u'r...</td>\n",
       "      <td>{u'randomforestregressor__max_depth': 100, u'r...</td>\n",
       "      <td>{u'randomforestregressor__max_depth': 100, u'r...</td>\n",
       "      <td>{u'randomforestregressor__max_depth': None, u'...</td>\n",
       "      <td>{u'randomforestregressor__max_depth': None, u'...</td>\n",
       "      <td>{u'randomforestregressor__max_depth': None, u'...</td>\n",
       "    </tr>\n",
       "    <tr>\n",
       "      <th>rank_test_score</th>\n",
       "      <td>9</td>\n",
       "      <td>8</td>\n",
       "      <td>7</td>\n",
       "      <td>5</td>\n",
       "      <td>3</td>\n",
       "      <td>1</td>\n",
       "      <td>6</td>\n",
       "      <td>4</td>\n",
       "      <td>2</td>\n",
       "    </tr>\n",
       "    <tr>\n",
       "      <th>split0_test_score</th>\n",
       "      <td>0.46469</td>\n",
       "      <td>0.464717</td>\n",
       "      <td>0.46495</td>\n",
       "      <td>0.63119</td>\n",
       "      <td>0.63385</td>\n",
       "      <td>0.634941</td>\n",
       "      <td>0.631045</td>\n",
       "      <td>0.633741</td>\n",
       "      <td>0.634933</td>\n",
       "    </tr>\n",
       "    <tr>\n",
       "      <th>split0_train_score</th>\n",
       "      <td>0.472256</td>\n",
       "      <td>0.472292</td>\n",
       "      <td>0.472518</td>\n",
       "      <td>0.944207</td>\n",
       "      <td>0.946224</td>\n",
       "      <td>0.946885</td>\n",
       "      <td>0.944177</td>\n",
       "      <td>0.946196</td>\n",
       "      <td>0.946873</td>\n",
       "    </tr>\n",
       "    <tr>\n",
       "      <th>std_fit_time</th>\n",
       "      <td>0</td>\n",
       "      <td>0</td>\n",
       "      <td>0</td>\n",
       "      <td>0</td>\n",
       "      <td>0</td>\n",
       "      <td>0</td>\n",
       "      <td>0</td>\n",
       "      <td>0</td>\n",
       "      <td>0</td>\n",
       "    </tr>\n",
       "    <tr>\n",
       "      <th>std_score_time</th>\n",
       "      <td>0</td>\n",
       "      <td>0</td>\n",
       "      <td>0</td>\n",
       "      <td>0</td>\n",
       "      <td>0</td>\n",
       "      <td>0</td>\n",
       "      <td>0</td>\n",
       "      <td>0</td>\n",
       "      <td>0</td>\n",
       "    </tr>\n",
       "    <tr>\n",
       "      <th>std_test_score</th>\n",
       "      <td>5.55112e-17</td>\n",
       "      <td>0</td>\n",
       "      <td>5.55112e-17</td>\n",
       "      <td>0</td>\n",
       "      <td>0</td>\n",
       "      <td>0</td>\n",
       "      <td>0</td>\n",
       "      <td>0</td>\n",
       "      <td>0</td>\n",
       "    </tr>\n",
       "    <tr>\n",
       "      <th>std_train_score</th>\n",
       "      <td>0</td>\n",
       "      <td>0</td>\n",
       "      <td>0</td>\n",
       "      <td>0</td>\n",
       "      <td>0</td>\n",
       "      <td>0</td>\n",
       "      <td>0</td>\n",
       "      <td>0</td>\n",
       "      <td>0</td>\n",
       "    </tr>\n",
       "  </tbody>\n",
       "</table>\n",
       "</div>"
      ],
      "text/plain": [
       "                                                                                           0  \\\n",
       "mean_fit_time                                                                        279.679   \n",
       "mean_score_time                                                                      1.55904   \n",
       "mean_test_score                                                                      0.46469   \n",
       "mean_train_score                                                                    0.472256   \n",
       "param_randomforestregressor__max_depth                                                    10   \n",
       "param_randomforestregressor__n_estimators                                                 50   \n",
       "params                                     {u'randomforestregressor__max_depth': 10, u'ra...   \n",
       "rank_test_score                                                                            9   \n",
       "split0_test_score                                                                    0.46469   \n",
       "split0_train_score                                                                  0.472256   \n",
       "std_fit_time                                                                               0   \n",
       "std_score_time                                                                             0   \n",
       "std_test_score                                                                   5.55112e-17   \n",
       "std_train_score                                                                            0   \n",
       "\n",
       "                                                                                           1  \\\n",
       "mean_fit_time                                                                        538.562   \n",
       "mean_score_time                                                                      1.91368   \n",
       "mean_test_score                                                                     0.464717   \n",
       "mean_train_score                                                                    0.472292   \n",
       "param_randomforestregressor__max_depth                                                    10   \n",
       "param_randomforestregressor__n_estimators                                                100   \n",
       "params                                     {u'randomforestregressor__max_depth': 10, u'ra...   \n",
       "rank_test_score                                                                            8   \n",
       "split0_test_score                                                                   0.464717   \n",
       "split0_train_score                                                                  0.472292   \n",
       "std_fit_time                                                                               0   \n",
       "std_score_time                                                                             0   \n",
       "std_test_score                                                                             0   \n",
       "std_train_score                                                                            0   \n",
       "\n",
       "                                                                                           2  \\\n",
       "mean_fit_time                                                                        781.369   \n",
       "mean_score_time                                                                      2.45124   \n",
       "mean_test_score                                                                      0.46495   \n",
       "mean_train_score                                                                    0.472518   \n",
       "param_randomforestregressor__max_depth                                                    10   \n",
       "param_randomforestregressor__n_estimators                                                150   \n",
       "params                                     {u'randomforestregressor__max_depth': 10, u'ra...   \n",
       "rank_test_score                                                                            7   \n",
       "split0_test_score                                                                    0.46495   \n",
       "split0_train_score                                                                  0.472518   \n",
       "std_fit_time                                                                               0   \n",
       "std_score_time                                                                             0   \n",
       "std_test_score                                                                   5.55112e-17   \n",
       "std_train_score                                                                            0   \n",
       "\n",
       "                                                                                           3  \\\n",
       "mean_fit_time                                                                        877.744   \n",
       "mean_score_time                                                                      4.53693   \n",
       "mean_test_score                                                                      0.63119   \n",
       "mean_train_score                                                                    0.944207   \n",
       "param_randomforestregressor__max_depth                                                   100   \n",
       "param_randomforestregressor__n_estimators                                                 50   \n",
       "params                                     {u'randomforestregressor__max_depth': 100, u'r...   \n",
       "rank_test_score                                                                            5   \n",
       "split0_test_score                                                                    0.63119   \n",
       "split0_train_score                                                                  0.944207   \n",
       "std_fit_time                                                                               0   \n",
       "std_score_time                                                                             0   \n",
       "std_test_score                                                                             0   \n",
       "std_train_score                                                                            0   \n",
       "\n",
       "                                                                                           4  \\\n",
       "mean_fit_time                                                                        1679.15   \n",
       "mean_score_time                                                                      7.57992   \n",
       "mean_test_score                                                                      0.63385   \n",
       "mean_train_score                                                                    0.946224   \n",
       "param_randomforestregressor__max_depth                                                   100   \n",
       "param_randomforestregressor__n_estimators                                                100   \n",
       "params                                     {u'randomforestregressor__max_depth': 100, u'r...   \n",
       "rank_test_score                                                                            3   \n",
       "split0_test_score                                                                    0.63385   \n",
       "split0_train_score                                                                  0.946224   \n",
       "std_fit_time                                                                               0   \n",
       "std_score_time                                                                             0   \n",
       "std_test_score                                                                             0   \n",
       "std_train_score                                                                            0   \n",
       "\n",
       "                                                                                           5  \\\n",
       "mean_fit_time                                                                        2430.63   \n",
       "mean_score_time                                                                      10.2313   \n",
       "mean_test_score                                                                     0.634941   \n",
       "mean_train_score                                                                    0.946885   \n",
       "param_randomforestregressor__max_depth                                                   100   \n",
       "param_randomforestregressor__n_estimators                                                150   \n",
       "params                                     {u'randomforestregressor__max_depth': 100, u'r...   \n",
       "rank_test_score                                                                            1   \n",
       "split0_test_score                                                                   0.634941   \n",
       "split0_train_score                                                                  0.946885   \n",
       "std_fit_time                                                                               0   \n",
       "std_score_time                                                                             0   \n",
       "std_test_score                                                                             0   \n",
       "std_train_score                                                                            0   \n",
       "\n",
       "                                                                                           6  \\\n",
       "mean_fit_time                                                                        844.865   \n",
       "mean_score_time                                                                      4.53368   \n",
       "mean_test_score                                                                     0.631045   \n",
       "mean_train_score                                                                    0.944177   \n",
       "param_randomforestregressor__max_depth                                                  None   \n",
       "param_randomforestregressor__n_estimators                                                 50   \n",
       "params                                     {u'randomforestregressor__max_depth': None, u'...   \n",
       "rank_test_score                                                                            6   \n",
       "split0_test_score                                                                   0.631045   \n",
       "split0_train_score                                                                  0.944177   \n",
       "std_fit_time                                                                               0   \n",
       "std_score_time                                                                             0   \n",
       "std_test_score                                                                             0   \n",
       "std_train_score                                                                            0   \n",
       "\n",
       "                                                                                           7  \\\n",
       "mean_fit_time                                                                        1641.91   \n",
       "mean_score_time                                                                      7.26755   \n",
       "mean_test_score                                                                     0.633741   \n",
       "mean_train_score                                                                    0.946196   \n",
       "param_randomforestregressor__max_depth                                                  None   \n",
       "param_randomforestregressor__n_estimators                                                100   \n",
       "params                                     {u'randomforestregressor__max_depth': None, u'...   \n",
       "rank_test_score                                                                            4   \n",
       "split0_test_score                                                                   0.633741   \n",
       "split0_train_score                                                                  0.946196   \n",
       "std_fit_time                                                                               0   \n",
       "std_score_time                                                                             0   \n",
       "std_test_score                                                                             0   \n",
       "std_train_score                                                                            0   \n",
       "\n",
       "                                                                                           8  \n",
       "mean_fit_time                                                                           2462  \n",
       "mean_score_time                                                                      10.0672  \n",
       "mean_test_score                                                                     0.634933  \n",
       "mean_train_score                                                                    0.946873  \n",
       "param_randomforestregressor__max_depth                                                  None  \n",
       "param_randomforestregressor__n_estimators                                                150  \n",
       "params                                     {u'randomforestregressor__max_depth': None, u'...  \n",
       "rank_test_score                                                                            2  \n",
       "split0_test_score                                                                   0.634933  \n",
       "split0_train_score                                                                  0.946873  \n",
       "std_fit_time                                                                               0  \n",
       "std_score_time                                                                             0  \n",
       "std_test_score                                                                             0  \n",
       "std_train_score                                                                            0  "
      ]
     },
     "execution_count": 14,
     "metadata": {},
     "output_type": "execute_result"
    }
   ],
   "source": [
    "results = pd.DataFrame(model.cv_results_).T\n",
    "results"
   ]
  },
  {
   "cell_type": "code",
   "execution_count": 30,
   "metadata": {
    "collapsed": false
   },
   "outputs": [
    {
     "data": {
      "text/html": [
       "<div>\n",
       "<table border=\"1\" class=\"dataframe\">\n",
       "  <thead>\n",
       "    <tr style=\"text-align: right;\">\n",
       "      <th></th>\n",
       "      <th>param_randomforestregressor__max_depth</th>\n",
       "      <th>param_randomforestregressor__n_estimators</th>\n",
       "      <th>mean_test_score</th>\n",
       "    </tr>\n",
       "  </thead>\n",
       "  <tbody>\n",
       "    <tr>\n",
       "      <th>0</th>\n",
       "      <td>10</td>\n",
       "      <td>50</td>\n",
       "      <td>0.46469</td>\n",
       "    </tr>\n",
       "    <tr>\n",
       "      <th>1</th>\n",
       "      <td>10</td>\n",
       "      <td>100</td>\n",
       "      <td>0.464717</td>\n",
       "    </tr>\n",
       "    <tr>\n",
       "      <th>2</th>\n",
       "      <td>10</td>\n",
       "      <td>150</td>\n",
       "      <td>0.46495</td>\n",
       "    </tr>\n",
       "    <tr>\n",
       "      <th>3</th>\n",
       "      <td>100</td>\n",
       "      <td>50</td>\n",
       "      <td>0.63119</td>\n",
       "    </tr>\n",
       "    <tr>\n",
       "      <th>4</th>\n",
       "      <td>100</td>\n",
       "      <td>100</td>\n",
       "      <td>0.63385</td>\n",
       "    </tr>\n",
       "    <tr>\n",
       "      <th>5</th>\n",
       "      <td>100</td>\n",
       "      <td>150</td>\n",
       "      <td>0.634941</td>\n",
       "    </tr>\n",
       "    <tr>\n",
       "      <th>6</th>\n",
       "      <td>None</td>\n",
       "      <td>50</td>\n",
       "      <td>0.631045</td>\n",
       "    </tr>\n",
       "    <tr>\n",
       "      <th>7</th>\n",
       "      <td>None</td>\n",
       "      <td>100</td>\n",
       "      <td>0.633741</td>\n",
       "    </tr>\n",
       "    <tr>\n",
       "      <th>8</th>\n",
       "      <td>None</td>\n",
       "      <td>150</td>\n",
       "      <td>0.634933</td>\n",
       "    </tr>\n",
       "  </tbody>\n",
       "</table>\n",
       "</div>"
      ],
      "text/plain": [
       "  param_randomforestregressor__max_depth  \\\n",
       "0                                     10   \n",
       "1                                     10   \n",
       "2                                     10   \n",
       "3                                    100   \n",
       "4                                    100   \n",
       "5                                    100   \n",
       "6                                   None   \n",
       "7                                   None   \n",
       "8                                   None   \n",
       "\n",
       "  param_randomforestregressor__n_estimators mean_test_score  \n",
       "0                                        50         0.46469  \n",
       "1                                       100        0.464717  \n",
       "2                                       150         0.46495  \n",
       "3                                        50         0.63119  \n",
       "4                                       100         0.63385  \n",
       "5                                       150        0.634941  \n",
       "6                                        50        0.631045  \n",
       "7                                       100        0.633741  \n",
       "8                                       150        0.634933  "
      ]
     },
     "execution_count": 30,
     "metadata": {},
     "output_type": "execute_result"
    }
   ],
   "source": [
    "results.T[['param_randomforestregressor__max_depth', 'param_randomforestregressor__n_estimators', 'mean_test_score']]"
   ]
  },
  {
   "cell_type": "code",
   "execution_count": 42,
   "metadata": {
    "collapsed": false
   },
   "outputs": [
    {
     "data": {
      "image/png": "[encoded data removed]",
      "text/plain": [
       "<matplotlib.figure.Figure at 0x7fe6da85a250>"
      ]
     },
     "metadata": {},
     "output_type": "display_data"
    }
   ],
   "source": [
    "sns.regplot(\n",
    "    x='param_randomforestregressor__max_depth',\n",
    "    y='mean_test_score',\n",
    "    data=results.T[['param_randomforestregressor__max_depth', 'mean_test_score']], \n",
    "    fit_reg=False\n",
    ");"
   ]
  },
  {
   "cell_type": "code",
   "execution_count": 36,
   "metadata": {
    "collapsed": false
   },
   "outputs": [
    {
     "data": {
      "image/png": "[encoded data removed]",
      "text/plain": [
       "<matplotlib.figure.Figure at 0x7f510c6e93d0>"
      ]
     },
     "metadata": {},
     "output_type": "display_data"
    }
   ],
   "source": [
    "sns.regplot(\n",
    "    x='param_randomforestregressor__n_estimators',\n",
    "    y='mean_test_score',\n",
    "    data=results.T[['param_randomforestregressor__n_estimators', 'mean_test_score']], \n",
    "    fit_reg=False\n",
    ");"
   ]
  },
  {
   "cell_type": "markdown",
   "metadata": {},
   "source": [
    "## Variable Importance Table\n",
    "\n",
    "To learn which nodes most affect the completion time"
   ]
  },
  {
   "cell_type": "code",
   "execution_count": 17,
   "metadata": {
    "collapsed": false
   },
   "outputs": [
    {
     "ename": "AttributeError",
     "evalue": "'StandardScaler' object has no attribute 'feature_importances_'",
     "output_type": "error",
     "traceback": [
      "\u001b[0;31m---------------------------------------------------------------------------\u001b[0m",
      "\u001b[0;31mAttributeError\u001b[0m                            Traceback (most recent call last)",
      "\u001b[0;32m<ipython-input-17-b8a71e1d7f6a>\u001b[0m in \u001b[0;36m<module>\u001b[0;34m()\u001b[0m\n\u001b[0;32m----> 1\u001b[0;31m \u001b[0mfeature_importances\u001b[0m \u001b[0;34m=\u001b[0m \u001b[0mpd\u001b[0m\u001b[0;34m.\u001b[0m\u001b[0mnp\u001b[0m\u001b[0;34m.\u001b[0m\u001b[0margsort\u001b[0m\u001b[0;34m(\u001b[0m\u001b[0mmodel\u001b[0m\u001b[0;34m.\u001b[0m\u001b[0mbest_estimator_\u001b[0m\u001b[0;34m.\u001b[0m\u001b[0msteps\u001b[0m\u001b[0;34m[\u001b[0m\u001b[0;36m0\u001b[0m\u001b[0;34m]\u001b[0m\u001b[0;34m[\u001b[0m\u001b[0;34m-\u001b[0m\u001b[0;36m1\u001b[0m\u001b[0;34m]\u001b[0m\u001b[0;34m.\u001b[0m\u001b[0mfeature_importances_\u001b[0m\u001b[0;34m)\u001b[0m\u001b[0;34m\u001b[0m\u001b[0m\n\u001b[0m\u001b[1;32m      2\u001b[0m \u001b[0mfeatures\u001b[0m \u001b[0;34m=\u001b[0m \u001b[0mlist\u001b[0m\u001b[0;34m(\u001b[0m\u001b[0mdf_dummified\u001b[0m\u001b[0;34m.\u001b[0m\u001b[0mdrop\u001b[0m\u001b[0;34m(\u001b[0m\u001b[0;34m'COMPLETION_HOURS_LOG_10'\u001b[0m\u001b[0;34m,\u001b[0m \u001b[0maxis\u001b[0m\u001b[0;34m=\u001b[0m\u001b[0;36m1\u001b[0m\u001b[0;34m)\u001b[0m\u001b[0;34m.\u001b[0m\u001b[0mcolumns\u001b[0m\u001b[0;34m[\u001b[0m\u001b[0mfeature_importances\u001b[0m\u001b[0;34m[\u001b[0m\u001b[0;34m-\u001b[0m\u001b[0;36m1\u001b[0m\u001b[0;34m:\u001b[0m\u001b[0;34m-\u001b[0m\u001b[0;36m11\u001b[0m\u001b[0;34m:\u001b[0m\u001b[0;34m-\u001b[0m\u001b[0;36m1\u001b[0m\u001b[0;34m]\u001b[0m\u001b[0;34m]\u001b[0m\u001b[0;34m)\u001b[0m\u001b[0;34m\u001b[0m\u001b[0m\n\u001b[1;32m      3\u001b[0m \u001b[0mpd\u001b[0m\u001b[0;34m.\u001b[0m\u001b[0mDataFrame\u001b[0m\u001b[0;34m(\u001b[0m\u001b[0;34m{\u001b[0m\u001b[0;34m'top ten features'\u001b[0m\u001b[0;34m:\u001b[0m \u001b[0mfeatures\u001b[0m\u001b[0;34m}\u001b[0m\u001b[0;34m)\u001b[0m\u001b[0;34m\u001b[0m\u001b[0m\n",
      "\u001b[0;31mAttributeError\u001b[0m: 'StandardScaler' object has no attribute 'feature_importances_'"
     ]
    }
   ],
   "source": [
    "feature_importances = pd.np.argsort(model.best_estimator_.steps[0][-1].feature_importances_)\n",
    "features = list(df_dummified.drop('COMPLETION_HOURS_LOG_10', axis=1).columns[feature_importances[-1:-11:-1]])\n",
    "pd.DataFrame({'top ten features': features})"
   ]
  },
  {
   "cell_type": "code",
   "execution_count": null,
   "metadata": {
    "collapsed": true
   },
   "outputs": [],
   "source": [
    "n = 10 # top 10 features\n",
    "\n",
    "importances = model.best_estimator_.steps[0][-1].feature_importances_[:n]\n",
    "std = pd.np.std([tree.feature_importances_ for tree in model.best_estimator_.steps[0][-1]], axis=0)\n",
    "indices = pd.np.argsort(importances)[::-1]\n",
    "\n",
    "# Print the feature ranking\n",
    "print(\"Feature ranking:\")\n",
    "\n",
    "for f in range(n):\n",
    "    print(\"%d. %s (%f)\" % (f + 1, features[f], importances[indices[f]]))\n",
    "\n",
    "# Plot the feature importances of the forest\n",
    "plt.figure()\n",
    "plt.title(\"Feature importances\")\n",
    "plt.bar(range(10), importances[indices], yerr=std[indices], color=\"r\", align=\"center\")\n",
    "plt.xticks(range(10), indices)\n",
    "plt.xlim([-1, 10])\n",
    "plt.show()"
   ]
  }
 ],
 "metadata": {
  "kernelspec": {
   "display_name": "Python [default]",
   "language": "python",
   "name": "python2"
  },
  "language_info": {
   "codemirror_mode": {
    "name": "ipython",
    "version": 2
   },
   "file_extension": ".py",
   "mimetype": "text/x-python",
   "name": "python",
   "nbconvert_exporter": "python",
   "pygments_lexer": "ipython2",
   "version": "2.7.12"
  }
 },
 "nbformat": 4,
 "nbformat_minor": 2
}
