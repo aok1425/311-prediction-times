{
 "cells": [
  {
   "cell_type": "markdown",
   "metadata": {},
   "source": [
    "## Objective\n",
    "\n",
    "Now that I know that my submodels perform a bit better than the model on the entire dataset, I can take advantage of the submodels and find the coefficients that are most associated with response variable."
   ]
  },
  {
   "cell_type": "code",
   "execution_count": 1,
   "metadata": {
    "collapsed": false
   },
   "outputs": [],
   "source": [
    "CATEGORY_GROUPS_IN_QUESTION = [['Pick up Dead Animal', 'Animal Generic Request'],\n",
    "['Abandoned Vehicles', 'Abandoned Bicycle'],\n",
    "['Rodent Activity',\t'Bed Bugs', 'Mice Infestation - Residential'],\n",
    "['Sidewalk Repair', 'Sidewalk Repair (Make Safe)'],\n",
    "['Needle Pickup'],\n",
    "['Unsatisfactory Living Conditions', 'Poor Conditions of Property', 'Unsanitary Conditions - Establishment', 'Illegal Occupancy', 'Heat - ],Excessive  Insufficient'],\n",
    "['Request for Pothole Repair'],\n",
    "['Graffiti Removal']]"
   ]
  },
  {
   "cell_type": "markdown",
   "metadata": {},
   "source": [
    "## Objective\n",
    "\n",
    "Does this have statistically significant coefs, assuming homoskedacity and a linear predictor-response relationship and Normalized residuals and imperfect collinearity?"
   ]
  },
  {
   "cell_type": "code",
   "execution_count": 2,
   "metadata": {
    "collapsed": false
   },
   "outputs": [],
   "source": [
    "%load_ext autoreload\n",
    "%autoreload 2"
   ]
  },
  {
   "cell_type": "code",
   "execution_count": 3,
   "metadata": {
    "collapsed": false
   },
   "outputs": [
    {
     "name": "stderr",
     "output_type": "stream",
     "text": [
      "/home/ubuntu/anaconda2/lib/python2.7/site-packages/sklearn/cross_validation.py:44: DeprecationWarning: This module was deprecated in version 0.18 in favor of the model_selection module into which all the refactored classes and functions are moved. Also note that the interface of the new CV iterators are different from that of this module. This module will be removed in 0.20.\n",
      "  \"This module will be removed in 0.20.\", DeprecationWarning)\n"
     ]
    }
   ],
   "source": [
    "from __future__ import division\n",
    "import pandas as pd\n",
    "import numpy as np\n",
    "import warnings\n",
    "import seaborn as sns\n",
    "import matplotlib.pyplot as plt\n",
    "from pylab import rcParams\n",
    "%matplotlib inline\n",
    "from tqdm import tqdm\n",
    "\n",
    "from utilities import remove_one_feature\n",
    "\n",
    "warnings.filterwarnings(\"ignore\", category=DeprecationWarning)\n",
    "sns.set_style(\"whitegrid\")\n",
    "sns.set_context(\"poster\")\n",
    "rcParams['figure.figsize'] = 20, 5\n",
    "\n",
    "import os, sys\n",
    "sys.path.append(os.path.join(os.path.dirname('.'), \"../preprocessing\"))\n",
    "from helper_functions import dummify_cols_and_baselines, make_alphas, remove_outliers_by_type, adjusted_r2, transform_school, get_vifs"
   ]
  },
  {
   "cell_type": "code",
   "execution_count": 4,
   "metadata": {
    "collapsed": false
   },
   "outputs": [
    {
     "data": {
      "text/plain": [
       "(516406, 40)"
      ]
     },
     "execution_count": 4,
     "metadata": {},
     "output_type": "execute_result"
    }
   ],
   "source": [
    "df_orig = pd.read_pickle('../data/data_from_remove_from_dataset.pkl')\n",
    "df_orig.shape"
   ]
  },
  {
   "cell_type": "code",
   "execution_count": 5,
   "metadata": {
    "collapsed": false
   },
   "outputs": [
    {
     "name": "stderr",
     "output_type": "stream",
     "text": [
      "../preprocessing/helper_functions.py:58: FutureWarning: currently extract(expand=None) means expand=False (return Index/Series/DataFrame) but in a future version of pandas this will be changed to expand=True (return DataFrame)\n",
      "  df.school = df.school.str.extract(r'(\\d\\d?)').astype(int)\n"
     ]
    },
    {
     "data": {
      "text/plain": [
       "(516406, 40)"
      ]
     },
     "execution_count": 5,
     "metadata": {},
     "output_type": "execute_result"
    }
   ],
   "source": [
    "df_orig = transform_school(df_orig)\n",
    "df_orig.shape"
   ]
  },
  {
   "cell_type": "markdown",
   "metadata": {},
   "source": [
    "## Filterering by `TYPE`"
   ]
  },
  {
   "cell_type": "code",
   "execution_count": 6,
   "metadata": {
    "collapsed": false
   },
   "outputs": [
    {
     "name": "stdout",
     "output_type": "stream",
     "text": [
      "['Sidewalk Repair', 'Sidewalk Repair (Make Safe)']\n"
     ]
    },
    {
     "data": {
      "text/plain": [
       "(12512, 40)"
      ]
     },
     "execution_count": 6,
     "metadata": {},
     "output_type": "execute_result"
    }
   ],
   "source": [
    "i = 3\n",
    "print CATEGORY_GROUPS_IN_QUESTION[i]\n",
    "df_orig = df_orig[df_orig.TYPE.isin(CATEGORY_GROUPS_IN_QUESTION[i])]\n",
    "df_orig.shape"
   ]
  },
  {
   "cell_type": "markdown",
   "metadata": {},
   "source": [
    "## Removing outliers\n",
    "\n",
    "A standard procedure is to remove values further than 3 standard deviations from the mean. Since I have so many low values and some very high values, I anecdotally think that the low values are very likely to be true, and the high values not so much.\n",
    "\n",
    "So, I will remove values further than 3 SDs from the median, by type.\n",
    "\n",
    "Ideally, I would take into account the time dimension. I would like to do so given more time."
   ]
  },
  {
   "cell_type": "code",
   "execution_count": 7,
   "metadata": {
    "collapsed": false
   },
   "outputs": [
    {
     "name": "stderr",
     "output_type": "stream",
     "text": [
      "../preprocessing/helper_functions.py:37: SettingWithCopyWarning: \n",
      "A value is trying to be set on a copy of a slice from a DataFrame.\n",
      "Try using .loc[row_indexer,col_indexer] = value instead\n",
      "\n",
      "See the caveats in the documentation: http://pandas.pydata.org/pandas-docs/stable/indexing.html#indexing-view-versus-copy\n",
      "  group[pd.np.abs(group - group.median()) > stds * group.std()] = pd.np.nan\n",
      "/home/ubuntu/anaconda2/lib/python2.7/site-packages/pandas/core/frame.py:2392: SettingWithCopyWarning: \n",
      "A value is trying to be set on a copy of a slice from a DataFrame\n",
      "\n",
      "See the caveats in the documentation: http://pandas.pydata.org/pandas-docs/stable/indexing.html#indexing-view-versus-copy\n",
      "  self.where(-key, value, inplace=True)\n"
     ]
    },
    {
     "data": {
      "text/plain": [
       "(12473, 40)"
      ]
     },
     "execution_count": 7,
     "metadata": {},
     "output_type": "execute_result"
    }
   ],
   "source": [
    "df_outliers_removed = remove_outliers_by_type(df_orig, y_col='COMPLETION_HOURS_LOG_10')\n",
    "df_outliers_removed.shape"
   ]
  },
  {
   "cell_type": "markdown",
   "metadata": {},
   "source": [
    "## Remove `TYPE` col"
   ]
  },
  {
   "cell_type": "code",
   "execution_count": 8,
   "metadata": {
    "collapsed": true
   },
   "outputs": [],
   "source": [
    "df_outliers_removed.drop('TYPE', axis=1, inplace=True)"
   ]
  },
  {
   "cell_type": "markdown",
   "metadata": {},
   "source": [
    "## Choosing columns"
   ]
  },
  {
   "cell_type": "code",
   "execution_count": null,
   "metadata": {
    "collapsed": true
   },
   "outputs": [],
   "source": [
    "['race_black',\n",
    " 'race_asian',\n",
    " 'poverty_pop_w_public_assistance',\n",
    " 'poverty_pop_w_ssi',\n",
    " 'school_std_dev',\n",
    " 'bedroom_std_dev',\n",
    " 'value',\n",
    " 'rent_std_dev',\n",
    " 'income_std_dev',\n",
    " 'Source_Constituent Call']"
   ]
  },
  {
   "cell_type": "code",
   "execution_count": 124,
   "metadata": {
    "collapsed": true
   },
   "outputs": [],
   "source": [
    "cols_orig_dataset = ['COMPLETION_HOURS_LOG_10', 'SubmittedPhoto', 'Property_Type', 'Source']\n",
    "cols_census = [\n",
    "     'race_black',\n",
    "     'race_asian',\n",
    "     'race_hispanic',\n",
    "     'race_other',\n",
    "     'poverty_pop_below_poverty_level',\n",
    "     'earned_income_per_capita',\n",
    "     'poverty_pop_w_food_stamps',\n",
    "     'housing',\n",
    "     'housing_std_dev',\n",
    "     'value_std_dev',\n",
    "     'rent',\n",
    "]\n",
    "cols_engineered = ['queue_wk', 'queue_wk_open', 'is_description']"
   ]
  },
  {
   "cell_type": "code",
   "execution_count": 125,
   "metadata": {
    "collapsed": false
   },
   "outputs": [
    {
     "data": {
      "text/plain": [
       "(12473, 18)"
      ]
     },
     "execution_count": 125,
     "metadata": {},
     "output_type": "execute_result"
    }
   ],
   "source": [
    "df = df_outliers_removed[cols_orig_dataset + cols_census + cols_engineered]\n",
    "df.shape"
   ]
  },
  {
   "cell_type": "markdown",
   "metadata": {},
   "source": [
    "## Removing NAs for cols like `school_std_dev`"
   ]
  },
  {
   "cell_type": "code",
   "execution_count": 126,
   "metadata": {
    "collapsed": false
   },
   "outputs": [
    {
     "name": "stdout",
     "output_type": "stream",
     "text": [
      "12    housing_std_dev\n",
      "13      value_std_dev\n",
      "Name: index, dtype: object\n"
     ]
    }
   ],
   "source": [
    "aa = df.isnull().any().reset_index()\n",
    "nas = aa[aa[0] == True]['index']\n",
    "print nas"
   ]
  },
  {
   "cell_type": "code",
   "execution_count": 127,
   "metadata": {
    "collapsed": false
   },
   "outputs": [
    {
     "data": {
      "text/plain": [
       "(12043, 18)"
      ]
     },
     "execution_count": 127,
     "metadata": {},
     "output_type": "execute_result"
    }
   ],
   "source": [
    "# this is a bad temporary band-aid\n",
    "df = df.dropna(subset=nas.tolist())\n",
    "df.shape"
   ]
  },
  {
   "cell_type": "markdown",
   "metadata": {},
   "source": [
    "## Dummify"
   ]
  },
  {
   "cell_type": "code",
   "execution_count": 128,
   "metadata": {
    "collapsed": false
   },
   "outputs": [
    {
     "data": {
      "text/plain": [
       "['Property_Type', 'Source', 'housing']"
      ]
     },
     "execution_count": 128,
     "metadata": {},
     "output_type": "execute_result"
    }
   ],
   "source": [
    "cols_to_dummify = [i for i in df.dtypes[df.dtypes == object].index if i != 'TYPE']\n",
    "cols_to_dummify"
   ]
  },
  {
   "cell_type": "code",
   "execution_count": 129,
   "metadata": {
    "collapsed": false
   },
   "outputs": [
    {
     "name": "stdout",
     "output_type": "stream",
     "text": [
      "Intersection is baseline 0 3\n",
      "Self Service is baseline 1 3\n",
      "own is baseline 2 3\n"
     ]
    }
   ],
   "source": [
    "df_dummified, baseline_cols = dummify_cols_and_baselines(df, cols_to_dummify, chosen_col_i=2)"
   ]
  },
  {
   "cell_type": "code",
   "execution_count": 86,
   "metadata": {
    "collapsed": false
   },
   "outputs": [
    {
     "data": {
      "text/plain": [
       "(12043, 19)"
      ]
     },
     "execution_count": 86,
     "metadata": {},
     "output_type": "execute_result"
    }
   ],
   "source": [
    "df_dummified.shape"
   ]
  },
  {
   "cell_type": "markdown",
   "metadata": {},
   "source": [
    "## Checking for multicollinearity"
   ]
  },
  {
   "cell_type": "code",
   "execution_count": 96,
   "metadata": {
    "collapsed": true
   },
   "outputs": [
    {
     "data": {
      "text/html": [
       "<div>\n",
       "<table border=\"1\" class=\"dataframe\">\n",
       "  <thead>\n",
       "    <tr style=\"text-align: right;\">\n",
       "      <th></th>\n",
       "      <th>905400</th>\n",
       "    </tr>\n",
       "  </thead>\n",
       "  <tbody>\n",
       "    <tr>\n",
       "      <th>COMPLETION_HOURS_LOG_10</th>\n",
       "      <td>0.0124857</td>\n",
       "    </tr>\n",
       "    <tr>\n",
       "      <th>SubmittedPhoto</th>\n",
       "      <td>False</td>\n",
       "    </tr>\n",
       "    <tr>\n",
       "      <th>poverty_pop_below_poverty_level</th>\n",
       "      <td>0.262473</td>\n",
       "    </tr>\n",
       "    <tr>\n",
       "      <th>bedroom</th>\n",
       "      <td>2</td>\n",
       "    </tr>\n",
       "    <tr>\n",
       "      <th>queue_wk</th>\n",
       "      <td>12873</td>\n",
       "    </tr>\n",
       "    <tr>\n",
       "      <th>queue_wk_open</th>\n",
       "      <td>1</td>\n",
       "    </tr>\n",
       "    <tr>\n",
       "      <th>is_description</th>\n",
       "      <td>True</td>\n",
       "    </tr>\n",
       "  </tbody>\n",
       "</table>\n",
       "</div>"
      ],
      "text/plain": [
       "                                    905400\n",
       "COMPLETION_HOURS_LOG_10          0.0124857\n",
       "SubmittedPhoto                       False\n",
       "poverty_pop_below_poverty_level   0.262473\n",
       "bedroom                                  2\n",
       "queue_wk                             12873\n",
       "queue_wk_open                            1\n",
       "is_description                        True"
      ]
     },
     "execution_count": 96,
     "metadata": {},
     "output_type": "execute_result"
    }
   ],
   "source": [
    "df_dummified.head(1).T"
   ]
  },
  {
   "cell_type": "code",
   "execution_count": 16,
   "metadata": {
    "collapsed": false
   },
   "outputs": [
    {
     "data": {
      "text/plain": [
       "poverty_pop_w_food_stamps          4.435174\n",
       "poverty_pop_below_poverty_level    3.294339\n",
       "earned_income_per_capita           2.900774\n",
       "Source_Citizens Connect App        2.707832\n",
       "Source_Constituent Call            2.564019\n",
       "income                             2.461304\n",
       "poverty_pop_w_ssi                  2.151635\n",
       "race_black                         2.108312\n",
       "school                             2.019925\n",
       "race_hispanic                      1.966331\n",
       "rent_std_dev                       1.837870\n",
       "school_std_dev                     1.762409\n",
       "income_std_dev                     1.672045\n",
       "housing_std_dev                    1.661818\n",
       "poverty_pop_w_public_assistance    1.613030\n",
       "rent                               1.576112\n",
       "bedroom                            1.538475\n",
       "value_std_dev                      1.516026\n",
       "race_asian                         1.451496\n",
       "value                              1.448055\n",
       "queue_wk                           1.216030\n",
       "bedroom_std_dev                    1.184542\n",
       "race_other                         1.111823\n",
       "queue_wk_open                      1.084213\n",
       "Property_Type_Address              1.084156\n",
       "dtype: float64"
      ]
     },
     "execution_count": 16,
     "metadata": {},
     "output_type": "execute_result"
    }
   ],
   "source": [
    "get_vifs(df_dummified.drop(['SubmittedPhoto', 'is_description'], axis=1), 'COMPLETION_HOURS_LOG_10')"
   ]
  },
  {
   "cell_type": "markdown",
   "metadata": {},
   "source": [
    "## Running model"
   ]
  },
  {
   "cell_type": "code",
   "execution_count": 17,
   "metadata": {
    "collapsed": false
   },
   "outputs": [],
   "source": [
    "from sklearn.cross_validation import train_test_split\n",
    "from sklearn.pipeline import make_pipeline\n",
    "from sklearn.model_selection import GridSearchCV\n",
    "from sklearn.linear_model import LinearRegression, LassoCV\n",
    "from sklearn.cross_validation import ShuffleSplit\n",
    "from sklearn.preprocessing import StandardScaler\n",
    "from sklearn.metrics import mean_squared_error, r2_score\n",
    "import string\n",
    "from StringIO import StringIO\n"
   ]
  },
  {
   "cell_type": "code",
   "execution_count": 18,
   "metadata": {
    "collapsed": true
   },
   "outputs": [],
   "source": [
    "import statsmodels.api as sm\n",
    "import statsmodels.formula.api as smf"
   ]
  },
  {
   "cell_type": "code",
   "execution_count": 19,
   "metadata": {
    "collapsed": false
   },
   "outputs": [],
   "source": [
    "X_train, X_test, y_train, y_test = train_test_split(\n",
    "    df_dummified.drop('COMPLETION_HOURS_LOG_10', axis=1), \n",
    "    df_dummified.COMPLETION_HOURS_LOG_10, \n",
    "    test_size=0.2, \n",
    "    random_state=300\n",
    ")"
   ]
  },
  {
   "cell_type": "markdown",
   "metadata": {},
   "source": [
    "## Use LassoCV to find col subsets"
   ]
  },
  {
   "cell_type": "code",
   "execution_count": 21,
   "metadata": {
    "collapsed": true
   },
   "outputs": [],
   "source": [
    "pipe = make_pipeline(StandardScaler(), LassoCV())\n",
    "cv = ShuffleSplit(X_train.shape[0], n_iter=1, test_size=0.2, random_state=300)"
   ]
  },
  {
   "cell_type": "code",
   "execution_count": 28,
   "metadata": {
    "collapsed": false
   },
   "outputs": [
    {
     "name": "stdout",
     "output_type": "stream",
     "text": [
      "Fitting 1 folds for each of 9 candidates, totalling 9 fits\n"
     ]
    },
    {
     "name": "stderr",
     "output_type": "stream",
     "text": [
      "[Parallel(n_jobs=-1)]: Done   9 out of   9 | elapsed:    0.7s finished\n"
     ]
    },
    {
     "data": {
      "text/html": [
       "<div>\n",
       "<table border=\"1\" class=\"dataframe\">\n",
       "  <thead>\n",
       "    <tr style=\"text-align: right;\">\n",
       "      <th></th>\n",
       "      <th>0</th>\n",
       "      <th>1</th>\n",
       "      <th>2</th>\n",
       "      <th>3</th>\n",
       "      <th>4</th>\n",
       "      <th>5</th>\n",
       "      <th>6</th>\n",
       "      <th>7</th>\n",
       "      <th>8</th>\n",
       "    </tr>\n",
       "  </thead>\n",
       "  <tbody>\n",
       "    <tr>\n",
       "      <th>mean_test_score</th>\n",
       "      <td>0.261992</td>\n",
       "      <td>0.25724</td>\n",
       "      <td>0.229553</td>\n",
       "      <td>0.146099</td>\n",
       "      <td>-0.000708715</td>\n",
       "      <td>-0.000708715</td>\n",
       "      <td>-0.000708715</td>\n",
       "      <td>-0.000708715</td>\n",
       "      <td>-0.000708715</td>\n",
       "    </tr>\n",
       "    <tr>\n",
       "      <th>mean_train_score</th>\n",
       "      <td>0.25045</td>\n",
       "      <td>0.245236</td>\n",
       "      <td>0.219893</td>\n",
       "      <td>0.14113</td>\n",
       "      <td>0</td>\n",
       "      <td>0</td>\n",
       "      <td>0</td>\n",
       "      <td>0</td>\n",
       "      <td>0</td>\n",
       "    </tr>\n",
       "    <tr>\n",
       "      <th>param_lassocv__alphas</th>\n",
       "      <td>[0.01]</td>\n",
       "      <td>[0.03]</td>\n",
       "      <td>[0.1]</td>\n",
       "      <td>[0.3]</td>\n",
       "      <td>[1.0]</td>\n",
       "      <td>[3.0]</td>\n",
       "      <td>[10.0]</td>\n",
       "      <td>[30.0]</td>\n",
       "      <td>[100.0]</td>\n",
       "    </tr>\n",
       "  </tbody>\n",
       "</table>\n",
       "</div>"
      ],
      "text/plain": [
       "                              0         1         2         3            4  \\\n",
       "mean_test_score        0.261992   0.25724  0.229553  0.146099 -0.000708715   \n",
       "mean_train_score        0.25045  0.245236  0.219893   0.14113            0   \n",
       "param_lassocv__alphas    [0.01]    [0.03]     [0.1]     [0.3]        [1.0]   \n",
       "\n",
       "                                 5            6            7            8  \n",
       "mean_test_score       -0.000708715 -0.000708715 -0.000708715 -0.000708715  \n",
       "mean_train_score                 0            0            0            0  \n",
       "param_lassocv__alphas        [3.0]       [10.0]       [30.0]      [100.0]  "
      ]
     },
     "execution_count": 28,
     "metadata": {},
     "output_type": "execute_result"
    }
   ],
   "source": [
    "params = {'lassocv__alphas': make_alphas(-2, 2)}\n",
    "model = GridSearchCV(pipe, param_grid=params, n_jobs=-1, cv=cv, verbose=0)\n",
    "model.fit(X_train, y_train)\n",
    "pd.DataFrame(model.cv_results_).T.iloc[2:5]"
   ]
  },
  {
   "cell_type": "code",
   "execution_count": 29,
   "metadata": {
    "collapsed": false
   },
   "outputs": [
    {
     "data": {
      "text/plain": [
       "{'lassocv__alphas': [0.01]}"
      ]
     },
     "execution_count": 29,
     "metadata": {},
     "output_type": "execute_result"
    }
   ],
   "source": [
    "model.best_params_"
   ]
  },
  {
   "cell_type": "code",
   "execution_count": 30,
   "metadata": {
    "collapsed": false
   },
   "outputs": [
    {
     "data": {
      "text/plain": [
       "'10 cols go to zero out of 27'"
      ]
     },
     "execution_count": 30,
     "metadata": {},
     "output_type": "execute_result"
    }
   ],
   "source": [
    "'{} cols go to zero out of {}'.format(\n",
    "    len(X_train.columns[model.best_estimator_.steps[-1][-1].coef_ == 0]),\n",
    "    len(X_train.columns)\n",
    ")"
   ]
  },
  {
   "cell_type": "code",
   "execution_count": 31,
   "metadata": {
    "collapsed": false
   },
   "outputs": [
    {
     "data": {
      "text/plain": [
       "['race_black',\n",
       " 'race_asian',\n",
       " 'poverty_pop_w_public_assistance',\n",
       " 'poverty_pop_w_ssi',\n",
       " 'school_std_dev',\n",
       " 'bedroom_std_dev',\n",
       " 'value',\n",
       " 'rent_std_dev',\n",
       " 'income_std_dev',\n",
       " 'Source_Constituent Call']"
      ]
     },
     "execution_count": 31,
     "metadata": {},
     "output_type": "execute_result"
    }
   ],
   "source": [
    "cols_zero = list(X_train.columns[model.best_estimator_.steps[-1][-1].coef_ == 0])\n",
    "cols_zero"
   ]
  },
  {
   "cell_type": "markdown",
   "metadata": {},
   "source": [
    "## Use subsetted cols to run lin reg"
   ]
  },
  {
   "cell_type": "code",
   "execution_count": 130,
   "metadata": {
    "collapsed": false
   },
   "outputs": [],
   "source": [
    "df_dummified.columns = [col.translate(None, string.punctuation).replace(' ', '') if col != 'COMPLETION_HOURS_LOG_10' else col for col in df_dummified.columns]"
   ]
  },
  {
   "cell_type": "code",
   "execution_count": 131,
   "metadata": {
    "collapsed": false
   },
   "outputs": [],
   "source": [
    "X_train, X_test, y_train, y_test = train_test_split(\n",
    "    df_dummified.drop(['COMPLETION_HOURS_LOG_10'], axis=1), \n",
    "    df_dummified.COMPLETION_HOURS_LOG_10, \n",
    "    test_size=0.2, \n",
    "    random_state=300\n",
    ")"
   ]
  },
  {
   "cell_type": "code",
   "execution_count": 132,
   "metadata": {
    "collapsed": false,
    "scrolled": true
   },
   "outputs": [],
   "source": [
    "col_list = ' + '.join(df_dummified.drop(['COMPLETION_HOURS_LOG_10'], axis=1).columns)\n",
    "\n",
    "est = smf.ols(\n",
    "    'COMPLETION_HOURS_LOG_10 ~ {}'.format(col_list), \n",
    "    pd.concat([X_train, y_train], axis=1)).fit()"
   ]
  },
  {
   "cell_type": "code",
   "execution_count": 42,
   "metadata": {
    "collapsed": true
   },
   "outputs": [
    {
     "data": {
      "text/html": [
       "<table class=\"simpletable\">\n",
       "<caption>OLS Regression Results</caption>\n",
       "<tr>\n",
       "  <th>Dep. Variable:</th>    <td>COMPLETION_HOURS_LOG_10</td> <th>  R-squared:         </th> <td>   0.258</td> \n",
       "</tr>\n",
       "<tr>\n",
       "  <th>Model:</th>                      <td>OLS</td>           <th>  Adj. R-squared:    </th> <td>   0.256</td> \n",
       "</tr>\n",
       "<tr>\n",
       "  <th>Method:</th>                <td>Least Squares</td>      <th>  F-statistic:       </th> <td>   166.9</td> \n",
       "</tr>\n",
       "<tr>\n",
       "  <th>Date:</th>                <td>Thu, 23 Feb 2017</td>     <th>  Prob (F-statistic):</th>  <td>  0.00</td>  \n",
       "</tr>\n",
       "<tr>\n",
       "  <th>Time:</th>                    <td>08:11:56</td>         <th>  Log-Likelihood:    </th> <td> -13641.</td> \n",
       "</tr>\n",
       "<tr>\n",
       "  <th>No. Observations:</th>         <td>  9634</td>          <th>  AIC:               </th> <td>2.732e+04</td>\n",
       "</tr>\n",
       "<tr>\n",
       "  <th>Df Residuals:</th>             <td>  9613</td>          <th>  BIC:               </th> <td>2.748e+04</td>\n",
       "</tr>\n",
       "<tr>\n",
       "  <th>Df Model:</th>                 <td>    20</td>          <th>                     </th>     <td> </td>    \n",
       "</tr>\n",
       "<tr>\n",
       "  <th>Covariance Type:</th>         <td>nonrobust</td>        <th>                     </th>     <td> </td>    \n",
       "</tr>\n",
       "</table>"
      ],
      "text/plain": [
       "<class 'statsmodels.iolib.table.SimpleTable'>"
      ]
     },
     "execution_count": 42,
     "metadata": {},
     "output_type": "execute_result"
    }
   ],
   "source": [
    "est.summary().tables[0]"
   ]
  },
  {
   "cell_type": "markdown",
   "metadata": {},
   "source": [
    "### Getting adjusted $R^2$ on test set"
   ]
  },
  {
   "cell_type": "code",
   "execution_count": 133,
   "metadata": {
    "collapsed": false
   },
   "outputs": [],
   "source": [
    "y_pred = est.predict(X_test)"
   ]
  },
  {
   "cell_type": "code",
   "execution_count": 134,
   "metadata": {
    "collapsed": false
   },
   "outputs": [
    {
     "data": {
      "text/plain": [
       "0.23872377354105162"
      ]
     },
     "execution_count": 134,
     "metadata": {},
     "output_type": "execute_result"
    }
   ],
   "source": [
    "adjusted_r2(y_test, y_pred, num_features=X_test.shape[1])"
   ]
  },
  {
   "cell_type": "code",
   "execution_count": 135,
   "metadata": {
    "collapsed": false
   },
   "outputs": [
    {
     "data": {
      "text/plain": [
       "1.008450882506903"
      ]
     },
     "execution_count": 135,
     "metadata": {},
     "output_type": "execute_result"
    }
   ],
   "source": [
    "mean_squared_error(y_test, y_pred)**0.5"
   ]
  },
  {
   "cell_type": "markdown",
   "metadata": {},
   "source": [
    "## Interpreting model\n",
    "\n",
    "Which features are most associated with completion time?"
   ]
  },
  {
   "cell_type": "code",
   "execution_count": 136,
   "metadata": {
    "collapsed": false
   },
   "outputs": [
    {
     "data": {
      "text/plain": [
       "(18, 7)"
      ]
     },
     "execution_count": 136,
     "metadata": {},
     "output_type": "execute_result"
    }
   ],
   "source": [
    "df_results = pd.read_csv(StringIO(est.summary().tables[1].as_csv()), index_col=0).reset_index()\n",
    "df_results.columns = ['coef_name'] + [i.rstrip().lstrip() for i in df_results.columns][1:]\n",
    "df_results['coef_abs'] = pd.np.abs(df_results.coef)\n",
    "df_results.coef_name = df_results.coef_name.map(lambda x: x.strip())\n",
    "df_results = df_results.sort_values('P>|t|')\n",
    "df_results.shape"
   ]
  },
  {
   "cell_type": "code",
   "execution_count": 137,
   "metadata": {
    "collapsed": false
   },
   "outputs": [
    {
     "data": {
      "text/html": [
       "<div>\n",
       "<table border=\"1\" class=\"dataframe\">\n",
       "  <thead>\n",
       "    <tr style=\"text-align: right;\">\n",
       "      <th></th>\n",
       "      <th>coef_name</th>\n",
       "      <th>coef</th>\n",
       "      <th>std err</th>\n",
       "      <th>t</th>\n",
       "      <th>P&gt;|t|</th>\n",
       "      <th>[95.0% Conf. Int.]</th>\n",
       "      <th>coef_abs</th>\n",
       "    </tr>\n",
       "  </thead>\n",
       "  <tbody>\n",
       "    <tr>\n",
       "      <th>0</th>\n",
       "      <td>Intercept</td>\n",
       "      <td>2.058200e+00</td>\n",
       "      <td>7.400000e-02</td>\n",
       "      <td>27.818</td>\n",
       "      <td>0.000</td>\n",
       "      <td>1.913     2.203</td>\n",
       "      <td>2.058200e+00</td>\n",
       "    </tr>\n",
       "    <tr>\n",
       "      <th>2</th>\n",
       "      <td>isdescription[T.True]</td>\n",
       "      <td>1.203800e+00</td>\n",
       "      <td>4.500000e-02</td>\n",
       "      <td>27.040</td>\n",
       "      <td>0.000</td>\n",
       "      <td>1.117     1.291</td>\n",
       "      <td>1.203800e+00</td>\n",
       "    </tr>\n",
       "    <tr>\n",
       "      <th>14</th>\n",
       "      <td>queuewkopen</td>\n",
       "      <td>6.000000e-04</td>\n",
       "      <td>3.390000e-05</td>\n",
       "      <td>18.345</td>\n",
       "      <td>0.000</td>\n",
       "      <td>0.001     0.001</td>\n",
       "      <td>6.000000e-04</td>\n",
       "    </tr>\n",
       "    <tr>\n",
       "      <th>5</th>\n",
       "      <td>racehispanic</td>\n",
       "      <td>-4.096000e-01</td>\n",
       "      <td>7.900000e-02</td>\n",
       "      <td>-5.192</td>\n",
       "      <td>0.000</td>\n",
       "      <td>-0.564    -0.255</td>\n",
       "      <td>4.096000e-01</td>\n",
       "    </tr>\n",
       "    <tr>\n",
       "      <th>13</th>\n",
       "      <td>queuewk</td>\n",
       "      <td>-1.766000e-05</td>\n",
       "      <td>2.060000e-06</td>\n",
       "      <td>-8.586</td>\n",
       "      <td>0.000</td>\n",
       "      <td>-2.17e-05 -1.36e-05</td>\n",
       "      <td>1.766000e-05</td>\n",
       "    </tr>\n",
       "    <tr>\n",
       "      <th>16</th>\n",
       "      <td>SourceCitizensConnectApp</td>\n",
       "      <td>-2.137000e-01</td>\n",
       "      <td>3.600000e-02</td>\n",
       "      <td>-5.971</td>\n",
       "      <td>0.000</td>\n",
       "      <td>-0.284    -0.144</td>\n",
       "      <td>2.137000e-01</td>\n",
       "    </tr>\n",
       "    <tr>\n",
       "      <th>9</th>\n",
       "      <td>povertypopwfoodstamps</td>\n",
       "      <td>5.576000e-01</td>\n",
       "      <td>1.170000e-01</td>\n",
       "      <td>4.771</td>\n",
       "      <td>0.000</td>\n",
       "      <td>0.329     0.787</td>\n",
       "      <td>5.576000e-01</td>\n",
       "    </tr>\n",
       "    <tr>\n",
       "      <th>11</th>\n",
       "      <td>valuestddev</td>\n",
       "      <td>-1.719400e+00</td>\n",
       "      <td>5.040000e-01</td>\n",
       "      <td>-3.415</td>\n",
       "      <td>0.001</td>\n",
       "      <td>-2.706    -0.732</td>\n",
       "      <td>1.719400e+00</td>\n",
       "    </tr>\n",
       "    <tr>\n",
       "      <th>6</th>\n",
       "      <td>raceother</td>\n",
       "      <td>-7.290000e-01</td>\n",
       "      <td>2.380000e-01</td>\n",
       "      <td>-3.061</td>\n",
       "      <td>0.002</td>\n",
       "      <td>-1.196    -0.262</td>\n",
       "      <td>7.290000e-01</td>\n",
       "    </tr>\n",
       "    <tr>\n",
       "      <th>12</th>\n",
       "      <td>rent</td>\n",
       "      <td>4.833000e-05</td>\n",
       "      <td>1.780000e-05</td>\n",
       "      <td>2.710</td>\n",
       "      <td>0.007</td>\n",
       "      <td>1.34e-05  8.33e-05</td>\n",
       "      <td>4.833000e-05</td>\n",
       "    </tr>\n",
       "    <tr>\n",
       "      <th>1</th>\n",
       "      <td>SubmittedPhoto[T.True]</td>\n",
       "      <td>9.080000e-02</td>\n",
       "      <td>3.500000e-02</td>\n",
       "      <td>2.618</td>\n",
       "      <td>0.009</td>\n",
       "      <td>0.023     0.159</td>\n",
       "      <td>9.080000e-02</td>\n",
       "    </tr>\n",
       "    <tr>\n",
       "      <th>3</th>\n",
       "      <td>raceblack</td>\n",
       "      <td>-1.451000e-01</td>\n",
       "      <td>6.100000e-02</td>\n",
       "      <td>-2.381</td>\n",
       "      <td>0.017</td>\n",
       "      <td>-0.264    -0.026</td>\n",
       "      <td>1.451000e-01</td>\n",
       "    </tr>\n",
       "    <tr>\n",
       "      <th>10</th>\n",
       "      <td>housingstddev</td>\n",
       "      <td>-1.589000e-01</td>\n",
       "      <td>6.700000e-02</td>\n",
       "      <td>-2.357</td>\n",
       "      <td>0.018</td>\n",
       "      <td>-0.291    -0.027</td>\n",
       "      <td>1.589000e-01</td>\n",
       "    </tr>\n",
       "    <tr>\n",
       "      <th>8</th>\n",
       "      <td>earnedincomepercapita</td>\n",
       "      <td>8.595000e-07</td>\n",
       "      <td>3.740000e-07</td>\n",
       "      <td>2.301</td>\n",
       "      <td>0.021</td>\n",
       "      <td>1.27e-07  1.59e-06</td>\n",
       "      <td>8.595000e-07</td>\n",
       "    </tr>\n",
       "    <tr>\n",
       "      <th>15</th>\n",
       "      <td>PropertyTypeAddress</td>\n",
       "      <td>-6.540000e-02</td>\n",
       "      <td>2.900000e-02</td>\n",
       "      <td>-2.228</td>\n",
       "      <td>0.026</td>\n",
       "      <td>-0.123    -0.008</td>\n",
       "      <td>6.540000e-02</td>\n",
       "    </tr>\n",
       "    <tr>\n",
       "      <th>7</th>\n",
       "      <td>povertypopbelowpovertylevel</td>\n",
       "      <td>-2.558000e-01</td>\n",
       "      <td>1.280000e-01</td>\n",
       "      <td>-2.003</td>\n",
       "      <td>0.045</td>\n",
       "      <td>-0.506    -0.005</td>\n",
       "      <td>2.558000e-01</td>\n",
       "    </tr>\n",
       "    <tr>\n",
       "      <th>17</th>\n",
       "      <td>SourceConstituentCall</td>\n",
       "      <td>-6.790000e-02</td>\n",
       "      <td>3.500000e-02</td>\n",
       "      <td>-1.957</td>\n",
       "      <td>0.050</td>\n",
       "      <td>-0.136     0.000</td>\n",
       "      <td>6.790000e-02</td>\n",
       "    </tr>\n",
       "    <tr>\n",
       "      <th>4</th>\n",
       "      <td>raceasian</td>\n",
       "      <td>-1.546000e-01</td>\n",
       "      <td>1.140000e-01</td>\n",
       "      <td>-1.350</td>\n",
       "      <td>0.177</td>\n",
       "      <td>-0.379     0.070</td>\n",
       "      <td>1.546000e-01</td>\n",
       "    </tr>\n",
       "  </tbody>\n",
       "</table>\n",
       "</div>"
      ],
      "text/plain": [
       "                      coef_name          coef       std err       t  P>|t|  \\\n",
       "0                     Intercept  2.058200e+00  7.400000e-02  27.818  0.000   \n",
       "2         isdescription[T.True]  1.203800e+00  4.500000e-02  27.040  0.000   \n",
       "14                  queuewkopen  6.000000e-04  3.390000e-05  18.345  0.000   \n",
       "5                  racehispanic -4.096000e-01  7.900000e-02  -5.192  0.000   \n",
       "13                      queuewk -1.766000e-05  2.060000e-06  -8.586  0.000   \n",
       "16     SourceCitizensConnectApp -2.137000e-01  3.600000e-02  -5.971  0.000   \n",
       "9         povertypopwfoodstamps  5.576000e-01  1.170000e-01   4.771  0.000   \n",
       "11                  valuestddev -1.719400e+00  5.040000e-01  -3.415  0.001   \n",
       "6                     raceother -7.290000e-01  2.380000e-01  -3.061  0.002   \n",
       "12                         rent  4.833000e-05  1.780000e-05   2.710  0.007   \n",
       "1        SubmittedPhoto[T.True]  9.080000e-02  3.500000e-02   2.618  0.009   \n",
       "3                     raceblack -1.451000e-01  6.100000e-02  -2.381  0.017   \n",
       "10                housingstddev -1.589000e-01  6.700000e-02  -2.357  0.018   \n",
       "8         earnedincomepercapita  8.595000e-07  3.740000e-07   2.301  0.021   \n",
       "15          PropertyTypeAddress -6.540000e-02  2.900000e-02  -2.228  0.026   \n",
       "7   povertypopbelowpovertylevel -2.558000e-01  1.280000e-01  -2.003  0.045   \n",
       "17        SourceConstituentCall -6.790000e-02  3.500000e-02  -1.957  0.050   \n",
       "4                     raceasian -1.546000e-01  1.140000e-01  -1.350  0.177   \n",
       "\n",
       "     [95.0% Conf. Int.]      coef_abs  \n",
       "0       1.913     2.203  2.058200e+00  \n",
       "2       1.117     1.291  1.203800e+00  \n",
       "14      0.001     0.001  6.000000e-04  \n",
       "5      -0.564    -0.255  4.096000e-01  \n",
       "13  -2.17e-05 -1.36e-05  1.766000e-05  \n",
       "16     -0.284    -0.144  2.137000e-01  \n",
       "9       0.329     0.787  5.576000e-01  \n",
       "11     -2.706    -0.732  1.719400e+00  \n",
       "6      -1.196    -0.262  7.290000e-01  \n",
       "12   1.34e-05  8.33e-05  4.833000e-05  \n",
       "1       0.023     0.159  9.080000e-02  \n",
       "3      -0.264    -0.026  1.451000e-01  \n",
       "10     -0.291    -0.027  1.589000e-01  \n",
       "8    1.27e-07  1.59e-06  8.595000e-07  \n",
       "15     -0.123    -0.008  6.540000e-02  \n",
       "7      -0.506    -0.005  2.558000e-01  \n",
       "17     -0.136     0.000  6.790000e-02  \n",
       "4      -0.379     0.070  1.546000e-01  "
      ]
     },
     "execution_count": 137,
     "metadata": {},
     "output_type": "execute_result"
    }
   ],
   "source": [
    "df_results"
   ]
  },
  {
   "cell_type": "code",
   "execution_count": 110,
   "metadata": {
    "collapsed": false
   },
   "outputs": [
    {
     "data": {
      "text/plain": [
       "[('raceasian', 49),\n",
       " ('earnedincomepercapita', 48.897),\n",
       " ('housingstddev', 48.871),\n",
       " ('SubmittedPhoto', 48.838),\n",
       " ('valuestddev', 48.824),\n",
       " ('rent', 48.775),\n",
       " ('raceblack', 48.414),\n",
       " ('povertypopbelowpovertylevel', 47),\n",
       " ('SourceConstituentCall', 46.805),\n",
       " ('PropertyTypeAddress', 46.805),\n",
       " ('raceother', 46.778),\n",
       " ('queuewkopen', 46.709),\n",
       " ('racehispanic', 46.083),\n",
       " ('queuewk', 44.748),\n",
       " ('SourceCitizensConnectApp', 44.231),\n",
       " ('isdescription', 44.221000000000004),\n",
       " ('povertypopwfoodstamps', 40.479)]"
      ]
     },
     "execution_count": 110,
     "metadata": {},
     "output_type": "execute_result"
    }
   ],
   "source": [
    "scores = []\n",
    "\n",
    "for col in X_train.columns:\n",
    "    if col != 'Intercept':\n",
    "        score = remove_one_feature([col], df_dummified)\n",
    "        scores.append((col, score))\n",
    "        \n",
    "sorted(scores, key=lambda x: x[1])[::-1]        "
   ]
  }
 ],
 "metadata": {
  "anaconda-cloud": {},
  "kernelspec": {
   "display_name": "Python [default]",
   "language": "python",
   "name": "python2"
  },
  "language_info": {
   "codemirror_mode": {
    "name": "ipython",
    "version": 2
   },
   "file_extension": ".py",
   "mimetype": "text/x-python",
   "name": "python",
   "nbconvert_exporter": "python",
   "pygments_lexer": "ipython2",
   "version": "2.7.12"
  }
 },
 "nbformat": 4,
 "nbformat_minor": 2
}
