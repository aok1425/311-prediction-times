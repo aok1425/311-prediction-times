{
 "cells": [
  {
   "cell_type": "markdown",
   "metadata": {},
   "source": [
    "## Objective\n",
    "\n",
    "Now that I know that my submodels perform a bit better than the model on the entire dataset, I can take advantage of the submodels and find the coefficients that are most associated with response variable."
   ]
  },
  {
   "cell_type": "code",
   "execution_count": 2,
   "metadata": {
    "collapsed": false
   },
   "outputs": [],
   "source": [
    "CATEGORY_GROUPS_IN_QUESTION = [['Pick up Dead Animal', 'Animal Generic Request'],\n",
    "['Abandoned Vehicles', 'Abandoned Bicycle'],\n",
    "['Rodent Activity',\t'Bed Bugs', 'Mice Infestation - Residential'],\n",
    "['Sidewalk Repair', 'Sidewalk Repair (Make Safe)'],\n",
    "['Needle Pickup'],\n",
    "['Unsatisfactory Living Conditions', 'Poor Conditions of Property', 'Unsanitary Conditions - Establishment', 'Illegal Occupancy', 'Heat - ],Excessive  Insufficient'],\n",
    "['Request for Pothole Repair'],\n",
    "['Graffiti Removal']]"
   ]
  },
  {
   "cell_type": "markdown",
   "metadata": {},
   "source": [
    "## Objective\n",
    "\n",
    "Does this have statistically significant coefs, assuming homoskedacity and a linear predictor-response relationship and Normalized residuals and imperfect collinearity?"
   ]
  },
  {
   "cell_type": "code",
   "execution_count": 3,
   "metadata": {
    "collapsed": false
   },
   "outputs": [],
   "source": [
    "%load_ext autoreload\n",
    "%autoreload 2"
   ]
  },
  {
   "cell_type": "code",
   "execution_count": 4,
   "metadata": {
    "collapsed": false
   },
   "outputs": [
    {
     "name": "stderr",
     "output_type": "stream",
     "text": [
      "/home/ubuntu/anaconda2/lib/python2.7/site-packages/sklearn/cross_validation.py:44: DeprecationWarning: This module was deprecated in version 0.18 in favor of the model_selection module into which all the refactored classes and functions are moved. Also note that the interface of the new CV iterators are different from that of this module. This module will be removed in 0.20.\n",
      "  \"This module will be removed in 0.20.\", DeprecationWarning)\n"
     ]
    }
   ],
   "source": [
    "from __future__ import division\n",
    "import pandas as pd\n",
    "import numpy as np\n",
    "import warnings\n",
    "import seaborn as sns\n",
    "import matplotlib.pyplot as plt\n",
    "from pylab import rcParams\n",
    "%matplotlib inline\n",
    "from tqdm import tqdm\n",
    "\n",
    "from utilities import remove_one_feature\n",
    "\n",
    "warnings.filterwarnings(\"ignore\", category=DeprecationWarning)\n",
    "sns.set_style(\"whitegrid\")\n",
    "sns.set_context(\"poster\")\n",
    "rcParams['figure.figsize'] = 20, 5\n",
    "\n",
    "import os, sys\n",
    "sys.path.append(os.path.join(os.path.dirname('.'), \"../preprocessing\"))\n",
    "from helper_functions import dummify_cols_and_baselines, make_alphas, remove_outliers_by_type, adjusted_r2, transform_school, get_vifs"
   ]
  },
  {
   "cell_type": "code",
   "execution_count": 5,
   "metadata": {
    "collapsed": false
   },
   "outputs": [
    {
     "data": {
      "text/plain": [
       "(516406, 40)"
      ]
     },
     "execution_count": 5,
     "metadata": {},
     "output_type": "execute_result"
    }
   ],
   "source": [
    "df_orig = pd.read_pickle('../data/data_from_remove_from_dataset.pkl')\n",
    "df_orig.shape"
   ]
  },
  {
   "cell_type": "code",
   "execution_count": 6,
   "metadata": {
    "collapsed": false
   },
   "outputs": [
    {
     "name": "stderr",
     "output_type": "stream",
     "text": [
      "../preprocessing/helper_functions.py:58: FutureWarning: currently extract(expand=None) means expand=False (return Index/Series/DataFrame) but in a future version of pandas this will be changed to expand=True (return DataFrame)\n",
      "  df.school = df.school.str.extract(r'(\\d\\d?)').astype(int)\n"
     ]
    },
    {
     "data": {
      "text/plain": [
       "(516406, 40)"
      ]
     },
     "execution_count": 6,
     "metadata": {},
     "output_type": "execute_result"
    }
   ],
   "source": [
    "df_orig = transform_school(df_orig)\n",
    "df_orig.shape"
   ]
  },
  {
   "cell_type": "markdown",
   "metadata": {},
   "source": [
    "## Filterering by `TYPE`"
   ]
  },
  {
   "cell_type": "code",
   "execution_count": 7,
   "metadata": {
    "collapsed": false
   },
   "outputs": [
    {
     "name": "stdout",
     "output_type": "stream",
     "text": [
      "['Rodent Activity', 'Bed Bugs', 'Mice Infestation - Residential']\n"
     ]
    },
    {
     "data": {
      "text/plain": [
       "(12336, 40)"
      ]
     },
     "execution_count": 7,
     "metadata": {},
     "output_type": "execute_result"
    }
   ],
   "source": [
    "i = 2\n",
    "print CATEGORY_GROUPS_IN_QUESTION[i]\n",
    "df_orig = df_orig[df_orig.TYPE.isin(CATEGORY_GROUPS_IN_QUESTION[i])]\n",
    "df_orig.shape"
   ]
  },
  {
   "cell_type": "markdown",
   "metadata": {},
   "source": [
    "## Removing outliers\n",
    "\n",
    "A standard procedure is to remove values further than 3 standard deviations from the mean. Since I have so many low values and some very high values, I anecdotally think that the low values are very likely to be true, and the high values not so much.\n",
    "\n",
    "So, I will remove values further than 3 SDs from the median, by type.\n",
    "\n",
    "Ideally, I would take into account the time dimension. I would like to do so given more time."
   ]
  },
  {
   "cell_type": "code",
   "execution_count": 8,
   "metadata": {
    "collapsed": false
   },
   "outputs": [
    {
     "name": "stderr",
     "output_type": "stream",
     "text": [
      "../preprocessing/helper_functions.py:37: SettingWithCopyWarning: \n",
      "A value is trying to be set on a copy of a slice from a DataFrame.\n",
      "Try using .loc[row_indexer,col_indexer] = value instead\n",
      "\n",
      "See the caveats in the documentation: http://pandas.pydata.org/pandas-docs/stable/indexing.html#indexing-view-versus-copy\n",
      "  group[pd.np.abs(group - group.median()) > stds * group.std()] = pd.np.nan\n",
      "/home/ubuntu/anaconda2/lib/python2.7/site-packages/pandas/core/frame.py:2392: SettingWithCopyWarning: \n",
      "A value is trying to be set on a copy of a slice from a DataFrame\n",
      "\n",
      "See the caveats in the documentation: http://pandas.pydata.org/pandas-docs/stable/indexing.html#indexing-view-versus-copy\n",
      "  self.where(-key, value, inplace=True)\n"
     ]
    },
    {
     "data": {
      "text/plain": [
       "(12200, 40)"
      ]
     },
     "execution_count": 8,
     "metadata": {},
     "output_type": "execute_result"
    }
   ],
   "source": [
    "df_outliers_removed = remove_outliers_by_type(df_orig, y_col='COMPLETION_HOURS_LOG_10')\n",
    "df_outliers_removed.shape"
   ]
  },
  {
   "cell_type": "markdown",
   "metadata": {},
   "source": [
    "## Remove `TYPE` col"
   ]
  },
  {
   "cell_type": "code",
   "execution_count": 9,
   "metadata": {
    "collapsed": true
   },
   "outputs": [],
   "source": [
    "df_outliers_removed.drop('TYPE', axis=1, inplace=True)"
   ]
  },
  {
   "cell_type": "markdown",
   "metadata": {},
   "source": [
    "## Choosing columns"
   ]
  },
  {
   "cell_type": "code",
   "execution_count": 10,
   "metadata": {
    "collapsed": false
   },
   "outputs": [
    {
     "data": {
      "text/plain": [
       "['SubmittedPhoto',\n",
       " 'race_asian',\n",
       " 'race_other',\n",
       " 'earned_income_per_capita',\n",
       " 'poverty_pop_w_public_assistance',\n",
       " 'poverty_pop_w_food_stamps',\n",
       " 'poverty_pop_w_ssi',\n",
       " 'school',\n",
       " 'school_std_dev',\n",
       " 'bedroom',\n",
       " 'bedroom_std_dev',\n",
       " 'value',\n",
       " 'rent',\n",
       " 'rent_std_dev',\n",
       " 'income',\n",
       " 'income_std_dev']"
      ]
     },
     "execution_count": 10,
     "metadata": {},
     "output_type": "execute_result"
    }
   ],
   "source": [
    "['SubmittedPhoto',\n",
    " 'race_asian',\n",
    " 'race_other',\n",
    " 'earned_income_per_capita',\n",
    " 'poverty_pop_w_public_assistance',\n",
    " 'poverty_pop_w_food_stamps',\n",
    " 'poverty_pop_w_ssi',\n",
    " 'school',\n",
    " 'school_std_dev',\n",
    " 'bedroom',\n",
    " 'bedroom_std_dev',\n",
    " 'value',\n",
    " 'rent',\n",
    " 'rent_std_dev',\n",
    " 'income',\n",
    " 'income_std_dev']"
   ]
  },
  {
   "cell_type": "code",
   "execution_count": 11,
   "metadata": {
    "collapsed": true
   },
   "outputs": [],
   "source": [
    "cols_orig_dataset = ['COMPLETION_HOURS_LOG_10', 'Property_Type', 'Source']\n",
    "cols_census = [\n",
    "     'race_black',\n",
    "     'race_asian',\n",
    "     'race_hispanic',\n",
    "     'race_other',\n",
    "     'housing',\n",
    "     'housing_std_dev',\n",
    "     'value_std_dev',\n",
    "]\n",
    "cols_engineered = ['queue_wk', 'queue_wk_open', 'is_description']"
   ]
  },
  {
   "cell_type": "code",
   "execution_count": 12,
   "metadata": {
    "collapsed": false
   },
   "outputs": [
    {
     "data": {
      "text/plain": [
       "(12200, 13)"
      ]
     },
     "execution_count": 12,
     "metadata": {},
     "output_type": "execute_result"
    }
   ],
   "source": [
    "df = df_outliers_removed[cols_orig_dataset + cols_census + cols_engineered]\n",
    "df.shape"
   ]
  },
  {
   "cell_type": "markdown",
   "metadata": {},
   "source": [
    "## Removing NAs for cols like `school_std_dev`"
   ]
  },
  {
   "cell_type": "code",
   "execution_count": 13,
   "metadata": {
    "collapsed": false
   },
   "outputs": [
    {
     "name": "stdout",
     "output_type": "stream",
     "text": [
      "8    housing_std_dev\n",
      "9      value_std_dev\n",
      "Name: index, dtype: object\n"
     ]
    }
   ],
   "source": [
    "aa = df.isnull().any().reset_index()\n",
    "nas = aa[aa[0] == True]['index']\n",
    "print nas"
   ]
  },
  {
   "cell_type": "code",
   "execution_count": 14,
   "metadata": {
    "collapsed": false
   },
   "outputs": [
    {
     "data": {
      "text/plain": [
       "(11808, 13)"
      ]
     },
     "execution_count": 14,
     "metadata": {},
     "output_type": "execute_result"
    }
   ],
   "source": [
    "# this is a bad temporary band-aid\n",
    "df = df.dropna(subset=nas.tolist())\n",
    "df.shape"
   ]
  },
  {
   "cell_type": "markdown",
   "metadata": {},
   "source": [
    "## Dummify"
   ]
  },
  {
   "cell_type": "code",
   "execution_count": 15,
   "metadata": {
    "collapsed": false
   },
   "outputs": [
    {
     "data": {
      "text/plain": [
       "['Property_Type', 'Source', 'housing']"
      ]
     },
     "execution_count": 15,
     "metadata": {},
     "output_type": "execute_result"
    }
   ],
   "source": [
    "cols_to_dummify = [i for i in df.dtypes[df.dtypes == object].index if i != 'TYPE']\n",
    "cols_to_dummify"
   ]
  },
  {
   "cell_type": "code",
   "execution_count": 16,
   "metadata": {
    "collapsed": false
   },
   "outputs": [
    {
     "name": "stdout",
     "output_type": "stream",
     "text": [
      "Intersection is baseline 0 3\n",
      "Self Service is baseline 1 3\n",
      "own is baseline 2 3\n"
     ]
    }
   ],
   "source": [
    "df_dummified, baseline_cols = dummify_cols_and_baselines(df, cols_to_dummify, chosen_col_i=2)"
   ]
  },
  {
   "cell_type": "code",
   "execution_count": 17,
   "metadata": {
    "collapsed": false
   },
   "outputs": [
    {
     "data": {
      "text/plain": [
       "(11808, 13)"
      ]
     },
     "execution_count": 17,
     "metadata": {},
     "output_type": "execute_result"
    }
   ],
   "source": [
    "df_dummified.shape"
   ]
  },
  {
   "cell_type": "markdown",
   "metadata": {},
   "source": [
    "## Checking for multicollinearity"
   ]
  },
  {
   "cell_type": "code",
   "execution_count": 96,
   "metadata": {
    "collapsed": true
   },
   "outputs": [
    {
     "data": {
      "text/html": [
       "<div>\n",
       "<table border=\"1\" class=\"dataframe\">\n",
       "  <thead>\n",
       "    <tr style=\"text-align: right;\">\n",
       "      <th></th>\n",
       "      <th>905400</th>\n",
       "    </tr>\n",
       "  </thead>\n",
       "  <tbody>\n",
       "    <tr>\n",
       "      <th>COMPLETION_HOURS_LOG_10</th>\n",
       "      <td>0.0124857</td>\n",
       "    </tr>\n",
       "    <tr>\n",
       "      <th>SubmittedPhoto</th>\n",
       "      <td>False</td>\n",
       "    </tr>\n",
       "    <tr>\n",
       "      <th>poverty_pop_below_poverty_level</th>\n",
       "      <td>0.262473</td>\n",
       "    </tr>\n",
       "    <tr>\n",
       "      <th>bedroom</th>\n",
       "      <td>2</td>\n",
       "    </tr>\n",
       "    <tr>\n",
       "      <th>queue_wk</th>\n",
       "      <td>12873</td>\n",
       "    </tr>\n",
       "    <tr>\n",
       "      <th>queue_wk_open</th>\n",
       "      <td>1</td>\n",
       "    </tr>\n",
       "    <tr>\n",
       "      <th>is_description</th>\n",
       "      <td>True</td>\n",
       "    </tr>\n",
       "  </tbody>\n",
       "</table>\n",
       "</div>"
      ],
      "text/plain": [
       "                                    905400\n",
       "COMPLETION_HOURS_LOG_10          0.0124857\n",
       "SubmittedPhoto                       False\n",
       "poverty_pop_below_poverty_level   0.262473\n",
       "bedroom                                  2\n",
       "queue_wk                             12873\n",
       "queue_wk_open                            1\n",
       "is_description                        True"
      ]
     },
     "execution_count": 96,
     "metadata": {},
     "output_type": "execute_result"
    }
   ],
   "source": [
    "df_dummified.head(1).T"
   ]
  },
  {
   "cell_type": "code",
   "execution_count": 18,
   "metadata": {
    "collapsed": false
   },
   "outputs": [
    {
     "data": {
      "text/plain": [
       "poverty_pop_w_food_stamps          4.791899\n",
       "earned_income_per_capita           3.418244\n",
       "race_black                         3.066740\n",
       "poverty_pop_below_poverty_level    3.022113\n",
       "income                             2.569122\n",
       "housing_std_dev                    2.322690\n",
       "school                             2.255340\n",
       "race_hispanic                      2.200435\n",
       "poverty_pop_w_ssi                  2.048711\n",
       "school_std_dev                     1.937076\n",
       "race_asian                         1.793934\n",
       "value_std_dev                      1.751350\n",
       "poverty_pop_w_public_assistance    1.747422\n",
       "Source_Citizens Connect App        1.712687\n",
       "bedroom                            1.678416\n",
       "rent_std_dev                       1.544883\n",
       "rent                               1.539295\n",
       "value                              1.500641\n",
       "income_std_dev                     1.478636\n",
       "Source_Constituent Call            1.458455\n",
       "queue_wk                           1.416018\n",
       "queue_wk_open                      1.293717\n",
       "bedroom_std_dev                    1.273784\n",
       "Property_Type_Address              1.231803\n",
       "race_other                         1.196318\n",
       "dtype: float64"
      ]
     },
     "execution_count": 18,
     "metadata": {},
     "output_type": "execute_result"
    }
   ],
   "source": [
    "get_vifs(df_dummified.drop(['SubmittedPhoto', 'is_description'], axis=1), 'COMPLETION_HOURS_LOG_10')"
   ]
  },
  {
   "cell_type": "markdown",
   "metadata": {},
   "source": [
    "## Running model"
   ]
  },
  {
   "cell_type": "code",
   "execution_count": 20,
   "metadata": {
    "collapsed": false
   },
   "outputs": [],
   "source": [
    "from sklearn.cross_validation import train_test_split\n",
    "from sklearn.pipeline import make_pipeline\n",
    "from sklearn.model_selection import GridSearchCV\n",
    "from sklearn.linear_model import LinearRegression, LassoCV\n",
    "from sklearn.cross_validation import ShuffleSplit\n",
    "from sklearn.preprocessing import StandardScaler\n",
    "from sklearn.metrics import mean_squared_error, r2_score\n",
    "import string\n",
    "from StringIO import StringIO\n"
   ]
  },
  {
   "cell_type": "code",
   "execution_count": 21,
   "metadata": {
    "collapsed": true
   },
   "outputs": [],
   "source": [
    "import statsmodels.api as sm\n",
    "import statsmodels.formula.api as smf"
   ]
  },
  {
   "cell_type": "code",
   "execution_count": 21,
   "metadata": {
    "collapsed": false
   },
   "outputs": [],
   "source": [
    "X_train, X_test, y_train, y_test = train_test_split(\n",
    "    df_dummified.drop('COMPLETION_HOURS_LOG_10', axis=1), \n",
    "    df_dummified.COMPLETION_HOURS_LOG_10, \n",
    "    test_size=0.2, \n",
    "    random_state=300\n",
    ")"
   ]
  },
  {
   "cell_type": "markdown",
   "metadata": {},
   "source": [
    "## Use LassoCV to find col subsets"
   ]
  },
  {
   "cell_type": "code",
   "execution_count": 22,
   "metadata": {
    "collapsed": true
   },
   "outputs": [],
   "source": [
    "pipe = make_pipeline(StandardScaler(), LassoCV())"
   ]
  },
  {
   "cell_type": "code",
   "execution_count": 23,
   "metadata": {
    "collapsed": true
   },
   "outputs": [],
   "source": [
    "cv = ShuffleSplit(X_train.shape[0], n_iter=1, test_size=0.2, random_state=300)"
   ]
  },
  {
   "cell_type": "code",
   "execution_count": 30,
   "metadata": {
    "collapsed": false
   },
   "outputs": [
    {
     "name": "stdout",
     "output_type": "stream",
     "text": [
      "Fitting 1 folds for each of 13 candidates, totalling 13 fits\n"
     ]
    },
    {
     "name": "stderr",
     "output_type": "stream",
     "text": [
      "[Parallel(n_jobs=-1)]: Done  13 out of  13 | elapsed:    0.8s finished\n"
     ]
    }
   ],
   "source": [
    "params = {'lassocv__alphas': make_alphas(-2, 4)}\n",
    "model = GridSearchCV(pipe, param_grid=params, n_jobs=-1, cv=cv, verbose=1)\n",
    "model.fit(X_train, y_train);"
   ]
  },
  {
   "cell_type": "code",
   "execution_count": 31,
   "metadata": {
    "collapsed": false
   },
   "outputs": [
    {
     "data": {
      "text/html": [
       "<div>\n",
       "<table border=\"1\" class=\"dataframe\">\n",
       "  <thead>\n",
       "    <tr style=\"text-align: right;\">\n",
       "      <th></th>\n",
       "      <th>0</th>\n",
       "      <th>1</th>\n",
       "      <th>2</th>\n",
       "      <th>3</th>\n",
       "      <th>4</th>\n",
       "      <th>5</th>\n",
       "      <th>6</th>\n",
       "      <th>7</th>\n",
       "      <th>8</th>\n",
       "      <th>9</th>\n",
       "      <th>10</th>\n",
       "      <th>11</th>\n",
       "      <th>12</th>\n",
       "    </tr>\n",
       "  </thead>\n",
       "  <tbody>\n",
       "    <tr>\n",
       "      <th>mean_test_score</th>\n",
       "      <td>0.0460184</td>\n",
       "      <td>0.0363292</td>\n",
       "      <td>-0.000671688</td>\n",
       "      <td>-0.000671688</td>\n",
       "      <td>-0.000671688</td>\n",
       "      <td>-0.000671688</td>\n",
       "      <td>-0.000671688</td>\n",
       "      <td>-0.000671688</td>\n",
       "      <td>-0.000671688</td>\n",
       "      <td>-0.000671688</td>\n",
       "      <td>-0.000671688</td>\n",
       "      <td>-0.000671688</td>\n",
       "      <td>-0.000671688</td>\n",
       "    </tr>\n",
       "    <tr>\n",
       "      <th>mean_train_score</th>\n",
       "      <td>0.047898</td>\n",
       "      <td>0.0373485</td>\n",
       "      <td>0</td>\n",
       "      <td>0</td>\n",
       "      <td>0</td>\n",
       "      <td>0</td>\n",
       "      <td>0</td>\n",
       "      <td>0</td>\n",
       "      <td>0</td>\n",
       "      <td>0</td>\n",
       "      <td>0</td>\n",
       "      <td>0</td>\n",
       "      <td>0</td>\n",
       "    </tr>\n",
       "    <tr>\n",
       "      <th>param_lassocv__alphas</th>\n",
       "      <td>[0.01]</td>\n",
       "      <td>[0.03]</td>\n",
       "      <td>[0.1]</td>\n",
       "      <td>[0.3]</td>\n",
       "      <td>[1.0]</td>\n",
       "      <td>[3.0]</td>\n",
       "      <td>[10.0]</td>\n",
       "      <td>[30.0]</td>\n",
       "      <td>[100.0]</td>\n",
       "      <td>[300.0]</td>\n",
       "      <td>[1000.0]</td>\n",
       "      <td>[3000.0]</td>\n",
       "      <td>[10000.0]</td>\n",
       "    </tr>\n",
       "  </tbody>\n",
       "</table>\n",
       "</div>"
      ],
      "text/plain": [
       "                              0          1            2            3   \\\n",
       "mean_test_score        0.0460184  0.0363292 -0.000671688 -0.000671688   \n",
       "mean_train_score        0.047898  0.0373485            0            0   \n",
       "param_lassocv__alphas     [0.01]     [0.03]        [0.1]        [0.3]   \n",
       "\n",
       "                                4            5            6            7   \\\n",
       "mean_test_score       -0.000671688 -0.000671688 -0.000671688 -0.000671688   \n",
       "mean_train_score                 0            0            0            0   \n",
       "param_lassocv__alphas        [1.0]        [3.0]       [10.0]       [30.0]   \n",
       "\n",
       "                                8            9            10           11  \\\n",
       "mean_test_score       -0.000671688 -0.000671688 -0.000671688 -0.000671688   \n",
       "mean_train_score                 0            0            0            0   \n",
       "param_lassocv__alphas      [100.0]      [300.0]     [1000.0]     [3000.0]   \n",
       "\n",
       "                                12  \n",
       "mean_test_score       -0.000671688  \n",
       "mean_train_score                 0  \n",
       "param_lassocv__alphas    [10000.0]  "
      ]
     },
     "execution_count": 31,
     "metadata": {},
     "output_type": "execute_result"
    }
   ],
   "source": [
    "pd.DataFrame(model.cv_results_).T.iloc[2:5]"
   ]
  },
  {
   "cell_type": "code",
   "execution_count": 29,
   "metadata": {
    "collapsed": false
   },
   "outputs": [
    {
     "data": {
      "text/plain": [
       "{'lassocv__alphas': [0.0001]}"
      ]
     },
     "execution_count": 29,
     "metadata": {},
     "output_type": "execute_result"
    }
   ],
   "source": [
    "model.best_params_"
   ]
  },
  {
   "cell_type": "code",
   "execution_count": 32,
   "metadata": {
    "collapsed": false
   },
   "outputs": [
    {
     "data": {
      "text/plain": [
       "'16 cols go to zero out of 27'"
      ]
     },
     "execution_count": 32,
     "metadata": {},
     "output_type": "execute_result"
    }
   ],
   "source": [
    "'{} cols go to zero out of {}'.format(\n",
    "    len(X_train.columns[model.best_estimator_.steps[-1][-1].coef_ == 0]),\n",
    "    len(X_train.columns)\n",
    ")"
   ]
  },
  {
   "cell_type": "code",
   "execution_count": 33,
   "metadata": {
    "collapsed": false
   },
   "outputs": [
    {
     "data": {
      "text/plain": [
       "['SubmittedPhoto',\n",
       " 'race_asian',\n",
       " 'race_other',\n",
       " 'earned_income_per_capita',\n",
       " 'poverty_pop_w_public_assistance',\n",
       " 'poverty_pop_w_food_stamps',\n",
       " 'poverty_pop_w_ssi',\n",
       " 'school',\n",
       " 'school_std_dev',\n",
       " 'bedroom',\n",
       " 'bedroom_std_dev',\n",
       " 'value',\n",
       " 'rent',\n",
       " 'rent_std_dev',\n",
       " 'income',\n",
       " 'income_std_dev']"
      ]
     },
     "execution_count": 33,
     "metadata": {},
     "output_type": "execute_result"
    }
   ],
   "source": [
    "cols_zero = list(X_train.columns[model.best_estimator_.steps[-1][-1].coef_ == 0])\n",
    "cols_zero"
   ]
  },
  {
   "cell_type": "markdown",
   "metadata": {},
   "source": [
    "## Use subsetted cols to run lin reg"
   ]
  },
  {
   "cell_type": "code",
   "execution_count": 22,
   "metadata": {
    "collapsed": false
   },
   "outputs": [],
   "source": [
    "df_dummified.columns = [col.translate(None, string.punctuation).replace(' ', '') if col != 'COMPLETION_HOURS_LOG_10' else col for col in df_dummified.columns]"
   ]
  },
  {
   "cell_type": "code",
   "execution_count": 23,
   "metadata": {
    "collapsed": false
   },
   "outputs": [],
   "source": [
    "X_train, X_test, y_train, y_test = train_test_split(\n",
    "    df_dummified.drop(['COMPLETION_HOURS_LOG_10'], axis=1), \n",
    "    df_dummified.COMPLETION_HOURS_LOG_10, \n",
    "    test_size=0.2, \n",
    "    random_state=300\n",
    ")"
   ]
  },
  {
   "cell_type": "code",
   "execution_count": 24,
   "metadata": {
    "collapsed": false,
    "scrolled": true
   },
   "outputs": [],
   "source": [
    "col_list = ' + '.join(df_dummified.drop(['COMPLETION_HOURS_LOG_10'], axis=1).columns)\n",
    "\n",
    "est = smf.ols(\n",
    "    'COMPLETION_HOURS_LOG_10 ~ {}'.format(col_list), \n",
    "    pd.concat([X_train, y_train], axis=1)).fit()"
   ]
  },
  {
   "cell_type": "code",
   "execution_count": 61,
   "metadata": {
    "collapsed": true
   },
   "outputs": [
    {
     "data": {
      "text/html": [
       "<table class=\"simpletable\">\n",
       "<caption>OLS Regression Results</caption>\n",
       "<tr>\n",
       "  <th>Dep. Variable:</th>    <td>COMPLETION_HOURS_LOG_10</td> <th>  R-squared:         </th> <td>   0.053</td> \n",
       "</tr>\n",
       "<tr>\n",
       "  <th>Model:</th>                      <td>OLS</td>           <th>  Adj. R-squared:    </th> <td>   0.051</td> \n",
       "</tr>\n",
       "<tr>\n",
       "  <th>Method:</th>                <td>Least Squares</td>      <th>  F-statistic:       </th> <td>   43.69</td> \n",
       "</tr>\n",
       "<tr>\n",
       "  <th>Date:</th>                <td>Thu, 23 Feb 2017</td>     <th>  Prob (F-statistic):</th> <td>1.31e-101</td>\n",
       "</tr>\n",
       "<tr>\n",
       "  <th>Time:</th>                    <td>08:07:14</td>         <th>  Log-Likelihood:    </th> <td> -7467.1</td> \n",
       "</tr>\n",
       "<tr>\n",
       "  <th>No. Observations:</th>         <td>  9446</td>          <th>  AIC:               </th> <td>1.496e+04</td>\n",
       "</tr>\n",
       "<tr>\n",
       "  <th>Df Residuals:</th>             <td>  9433</td>          <th>  BIC:               </th> <td>1.505e+04</td>\n",
       "</tr>\n",
       "<tr>\n",
       "  <th>Df Model:</th>                 <td>    12</td>          <th>                     </th>     <td> </td>    \n",
       "</tr>\n",
       "<tr>\n",
       "  <th>Covariance Type:</th>         <td>nonrobust</td>        <th>                     </th>     <td> </td>    \n",
       "</tr>\n",
       "</table>"
      ],
      "text/plain": [
       "<class 'statsmodels.iolib.table.SimpleTable'>"
      ]
     },
     "execution_count": 61,
     "metadata": {},
     "output_type": "execute_result"
    }
   ],
   "source": [
    "est.summary().tables[0]"
   ]
  },
  {
   "cell_type": "markdown",
   "metadata": {},
   "source": [
    "### Getting adjusted $R^2$ on test set"
   ]
  },
  {
   "cell_type": "code",
   "execution_count": 25,
   "metadata": {
    "collapsed": false
   },
   "outputs": [],
   "source": [
    "y_pred = est.predict(X_test)"
   ]
  },
  {
   "cell_type": "code",
   "execution_count": 26,
   "metadata": {
    "collapsed": false
   },
   "outputs": [
    {
     "data": {
      "text/plain": [
       "0.037585441784451626"
      ]
     },
     "execution_count": 26,
     "metadata": {},
     "output_type": "execute_result"
    }
   ],
   "source": [
    "adjusted_r2(y_test, y_pred, num_features=X_test.shape[1])"
   ]
  },
  {
   "cell_type": "code",
   "execution_count": 27,
   "metadata": {
    "collapsed": false
   },
   "outputs": [
    {
     "data": {
      "text/plain": [
       "0.52784835063471025"
      ]
     },
     "execution_count": 27,
     "metadata": {},
     "output_type": "execute_result"
    }
   ],
   "source": [
    "mean_squared_error(y_test, y_pred)**0.5"
   ]
  },
  {
   "cell_type": "markdown",
   "metadata": {},
   "source": [
    "## Interpreting model\n",
    "\n",
    "Which features are most associated with completion time?"
   ]
  },
  {
   "cell_type": "code",
   "execution_count": 30,
   "metadata": {
    "collapsed": false
   },
   "outputs": [
    {
     "data": {
      "text/plain": [
       "(13, 8)"
      ]
     },
     "execution_count": 30,
     "metadata": {},
     "output_type": "execute_result"
    }
   ],
   "source": [
    "df_results = pd.read_csv(StringIO(est.summary().tables[1].as_csv()), index_col=0).reset_index()\n",
    "df_results.columns = ['coef_name'] + [i.rstrip().lstrip() for i in df_results.columns][1:]\n",
    "df_results.coef_name = df_results.coef_name.map(lambda x: x.strip())\n",
    "df_results = df_results.sort_values('P>|t|')\n",
    "df_results['pct_diff_for_y'] = (10**df_results.coef - 1) * 100\n",
    "df_results['pct_diff_for_y_abs'] = pd.np.abs((10**df_results.coef - 1) * 100)\n",
    "df_results.sort_values('pct_diff_for_y_abs', inplace=True, ascending=False)\n",
    "df_results.shape"
   ]
  },
  {
   "cell_type": "code",
   "execution_count": 32,
   "metadata": {
    "collapsed": true
   },
   "outputs": [
    {
     "data": {
      "text/html": [
       "<div>\n",
       "<table border=\"1\" class=\"dataframe\">\n",
       "  <thead>\n",
       "    <tr style=\"text-align: right;\">\n",
       "      <th></th>\n",
       "      <th>coef_name</th>\n",
       "      <th>coef</th>\n",
       "      <th>std err</th>\n",
       "      <th>t</th>\n",
       "      <th>P&gt;|t|</th>\n",
       "      <th>[95.0% Conf. Int.]</th>\n",
       "      <th>pct_diff_for_y</th>\n",
       "      <th>pct_diff_for_y_abs</th>\n",
       "    </tr>\n",
       "  </thead>\n",
       "  <tbody>\n",
       "    <tr>\n",
       "      <th>0</th>\n",
       "      <td>Intercept</td>\n",
       "      <td>2.498100</td>\n",
       "      <td>0.035000</td>\n",
       "      <td>70.648</td>\n",
       "      <td>0.000</td>\n",
       "      <td>2.429     2.567</td>\n",
       "      <td>31384.731934</td>\n",
       "      <td>31384.731934</td>\n",
       "    </tr>\n",
       "    <tr>\n",
       "      <th>7</th>\n",
       "      <td>valuestddev</td>\n",
       "      <td>0.619500</td>\n",
       "      <td>0.256000</td>\n",
       "      <td>2.419</td>\n",
       "      <td>0.016</td>\n",
       "      <td>0.118     1.122</td>\n",
       "      <td>316.389721</td>\n",
       "      <td>316.389721</td>\n",
       "    </tr>\n",
       "    <tr>\n",
       "      <th>11</th>\n",
       "      <td>SourceCitizensConnectApp</td>\n",
       "      <td>-0.184600</td>\n",
       "      <td>0.031000</td>\n",
       "      <td>-6.045</td>\n",
       "      <td>0.000</td>\n",
       "      <td>-0.244    -0.125</td>\n",
       "      <td>-34.626761</td>\n",
       "      <td>34.626761</td>\n",
       "    </tr>\n",
       "    <tr>\n",
       "      <th>1</th>\n",
       "      <td>isdescription[T.True]</td>\n",
       "      <td>-0.171900</td>\n",
       "      <td>0.013000</td>\n",
       "      <td>-12.803</td>\n",
       "      <td>0.000</td>\n",
       "      <td>-0.198    -0.146</td>\n",
       "      <td>-32.686837</td>\n",
       "      <td>32.686837</td>\n",
       "    </tr>\n",
       "    <tr>\n",
       "      <th>5</th>\n",
       "      <td>raceother</td>\n",
       "      <td>-0.138500</td>\n",
       "      <td>0.102000</td>\n",
       "      <td>-1.361</td>\n",
       "      <td>0.174</td>\n",
       "      <td>-0.338     0.061</td>\n",
       "      <td>-27.305760</td>\n",
       "      <td>27.305760</td>\n",
       "    </tr>\n",
       "    <tr>\n",
       "      <th>6</th>\n",
       "      <td>housingstddev</td>\n",
       "      <td>0.091700</td>\n",
       "      <td>0.038000</td>\n",
       "      <td>2.395</td>\n",
       "      <td>0.017</td>\n",
       "      <td>0.017     0.167</td>\n",
       "      <td>23.509397</td>\n",
       "      <td>23.509397</td>\n",
       "    </tr>\n",
       "    <tr>\n",
       "      <th>10</th>\n",
       "      <td>PropertyTypeAddress</td>\n",
       "      <td>0.079100</td>\n",
       "      <td>0.022000</td>\n",
       "      <td>3.659</td>\n",
       "      <td>0.000</td>\n",
       "      <td>0.037     0.121</td>\n",
       "      <td>19.977553</td>\n",
       "      <td>19.977553</td>\n",
       "    </tr>\n",
       "    <tr>\n",
       "      <th>4</th>\n",
       "      <td>racehispanic</td>\n",
       "      <td>0.076200</td>\n",
       "      <td>0.038000</td>\n",
       "      <td>1.998</td>\n",
       "      <td>0.046</td>\n",
       "      <td>0.001     0.151</td>\n",
       "      <td>19.179072</td>\n",
       "      <td>19.179072</td>\n",
       "    </tr>\n",
       "    <tr>\n",
       "      <th>3</th>\n",
       "      <td>raceasian</td>\n",
       "      <td>0.072700</td>\n",
       "      <td>0.051000</td>\n",
       "      <td>1.438</td>\n",
       "      <td>0.151</td>\n",
       "      <td>-0.026     0.172</td>\n",
       "      <td>18.222462</td>\n",
       "      <td>18.222462</td>\n",
       "    </tr>\n",
       "    <tr>\n",
       "      <th>12</th>\n",
       "      <td>SourceConstituentCall</td>\n",
       "      <td>0.054600</td>\n",
       "      <td>0.018000</td>\n",
       "      <td>2.969</td>\n",
       "      <td>0.003</td>\n",
       "      <td>0.019     0.091</td>\n",
       "      <td>13.396591</td>\n",
       "      <td>13.396591</td>\n",
       "    </tr>\n",
       "    <tr>\n",
       "      <th>2</th>\n",
       "      <td>raceblack</td>\n",
       "      <td>-0.051500</td>\n",
       "      <td>0.024000</td>\n",
       "      <td>-2.115</td>\n",
       "      <td>0.034</td>\n",
       "      <td>-0.099    -0.004</td>\n",
       "      <td>-11.182202</td>\n",
       "      <td>11.182202</td>\n",
       "    </tr>\n",
       "    <tr>\n",
       "      <th>9</th>\n",
       "      <td>queuewkopen</td>\n",
       "      <td>0.000300</td>\n",
       "      <td>0.000048</td>\n",
       "      <td>5.348</td>\n",
       "      <td>0.000</td>\n",
       "      <td>0.000     0.000</td>\n",
       "      <td>0.069101</td>\n",
       "      <td>0.069101</td>\n",
       "    </tr>\n",
       "    <tr>\n",
       "      <th>8</th>\n",
       "      <td>queuewk</td>\n",
       "      <td>-0.000006</td>\n",
       "      <td>0.000002</td>\n",
       "      <td>-3.109</td>\n",
       "      <td>0.002</td>\n",
       "      <td>-9.23e-06 -2.09e-06</td>\n",
       "      <td>-0.001303</td>\n",
       "      <td>0.001303</td>\n",
       "    </tr>\n",
       "  </tbody>\n",
       "</table>\n",
       "</div>"
      ],
      "text/plain": [
       "                   coef_name      coef   std err       t  P>|t|  \\\n",
       "0                  Intercept  2.498100  0.035000  70.648  0.000   \n",
       "7                valuestddev  0.619500  0.256000   2.419  0.016   \n",
       "11  SourceCitizensConnectApp -0.184600  0.031000  -6.045  0.000   \n",
       "1      isdescription[T.True] -0.171900  0.013000 -12.803  0.000   \n",
       "5                  raceother -0.138500  0.102000  -1.361  0.174   \n",
       "6              housingstddev  0.091700  0.038000   2.395  0.017   \n",
       "10       PropertyTypeAddress  0.079100  0.022000   3.659  0.000   \n",
       "4               racehispanic  0.076200  0.038000   1.998  0.046   \n",
       "3                  raceasian  0.072700  0.051000   1.438  0.151   \n",
       "12     SourceConstituentCall  0.054600  0.018000   2.969  0.003   \n",
       "2                  raceblack -0.051500  0.024000  -2.115  0.034   \n",
       "9                queuewkopen  0.000300  0.000048   5.348  0.000   \n",
       "8                    queuewk -0.000006  0.000002  -3.109  0.002   \n",
       "\n",
       "     [95.0% Conf. Int.]  pct_diff_for_y  pct_diff_for_y_abs  \n",
       "0       2.429     2.567    31384.731934        31384.731934  \n",
       "7       0.118     1.122      316.389721          316.389721  \n",
       "11     -0.244    -0.125      -34.626761           34.626761  \n",
       "1      -0.198    -0.146      -32.686837           32.686837  \n",
       "5      -0.338     0.061      -27.305760           27.305760  \n",
       "6       0.017     0.167       23.509397           23.509397  \n",
       "10      0.037     0.121       19.977553           19.977553  \n",
       "4       0.001     0.151       19.179072           19.179072  \n",
       "3      -0.026     0.172       18.222462           18.222462  \n",
       "12      0.019     0.091       13.396591           13.396591  \n",
       "2      -0.099    -0.004      -11.182202           11.182202  \n",
       "9       0.000     0.000        0.069101            0.069101  \n",
       "8   -9.23e-06 -2.09e-06       -0.001303            0.001303  "
      ]
     },
     "execution_count": 32,
     "metadata": {},
     "output_type": "execute_result"
    }
   ],
   "source": [
    "df_results"
   ]
  },
  {
   "cell_type": "code",
   "execution_count": 31,
   "metadata": {
    "collapsed": false
   },
   "outputs": [
    {
     "name": "stderr",
     "output_type": "stream",
     "text": [
      "/home/ubuntu/anaconda2/lib/python2.7/site-packages/ipykernel/__main__.py:1: UserWarning: Boolean Series key will be reindexed to match DataFrame index.\n",
      "  if __name__ == '__main__':\n"
     ]
    },
    {
     "data": {
      "text/html": [
       "<div>\n",
       "<table border=\"1\" class=\"dataframe\">\n",
       "  <thead>\n",
       "    <tr style=\"text-align: right;\">\n",
       "      <th></th>\n",
       "      <th>coef_name</th>\n",
       "      <th>coef</th>\n",
       "      <th>std err</th>\n",
       "      <th>t</th>\n",
       "      <th>P&gt;|t|</th>\n",
       "      <th>[95.0% Conf. Int.]</th>\n",
       "      <th>pct_diff_for_y</th>\n",
       "      <th>pct_diff_for_y_abs</th>\n",
       "    </tr>\n",
       "  </thead>\n",
       "  <tbody>\n",
       "    <tr>\n",
       "      <th>7</th>\n",
       "      <td>valuestddev</td>\n",
       "      <td>0.619500</td>\n",
       "      <td>0.256000</td>\n",
       "      <td>2.419</td>\n",
       "      <td>0.016</td>\n",
       "      <td>0.118     1.122</td>\n",
       "      <td>316.389721</td>\n",
       "      <td>316.389721</td>\n",
       "    </tr>\n",
       "    <tr>\n",
       "      <th>11</th>\n",
       "      <td>SourceCitizensConnectApp</td>\n",
       "      <td>-0.184600</td>\n",
       "      <td>0.031000</td>\n",
       "      <td>-6.045</td>\n",
       "      <td>0.000</td>\n",
       "      <td>-0.244    -0.125</td>\n",
       "      <td>-34.626761</td>\n",
       "      <td>34.626761</td>\n",
       "    </tr>\n",
       "    <tr>\n",
       "      <th>1</th>\n",
       "      <td>isdescription[T.True]</td>\n",
       "      <td>-0.171900</td>\n",
       "      <td>0.013000</td>\n",
       "      <td>-12.803</td>\n",
       "      <td>0.000</td>\n",
       "      <td>-0.198    -0.146</td>\n",
       "      <td>-32.686837</td>\n",
       "      <td>32.686837</td>\n",
       "    </tr>\n",
       "    <tr>\n",
       "      <th>6</th>\n",
       "      <td>housingstddev</td>\n",
       "      <td>0.091700</td>\n",
       "      <td>0.038000</td>\n",
       "      <td>2.395</td>\n",
       "      <td>0.017</td>\n",
       "      <td>0.017     0.167</td>\n",
       "      <td>23.509397</td>\n",
       "      <td>23.509397</td>\n",
       "    </tr>\n",
       "    <tr>\n",
       "      <th>10</th>\n",
       "      <td>PropertyTypeAddress</td>\n",
       "      <td>0.079100</td>\n",
       "      <td>0.022000</td>\n",
       "      <td>3.659</td>\n",
       "      <td>0.000</td>\n",
       "      <td>0.037     0.121</td>\n",
       "      <td>19.977553</td>\n",
       "      <td>19.977553</td>\n",
       "    </tr>\n",
       "    <tr>\n",
       "      <th>4</th>\n",
       "      <td>racehispanic</td>\n",
       "      <td>0.076200</td>\n",
       "      <td>0.038000</td>\n",
       "      <td>1.998</td>\n",
       "      <td>0.046</td>\n",
       "      <td>0.001     0.151</td>\n",
       "      <td>19.179072</td>\n",
       "      <td>19.179072</td>\n",
       "    </tr>\n",
       "    <tr>\n",
       "      <th>12</th>\n",
       "      <td>SourceConstituentCall</td>\n",
       "      <td>0.054600</td>\n",
       "      <td>0.018000</td>\n",
       "      <td>2.969</td>\n",
       "      <td>0.003</td>\n",
       "      <td>0.019     0.091</td>\n",
       "      <td>13.396591</td>\n",
       "      <td>13.396591</td>\n",
       "    </tr>\n",
       "    <tr>\n",
       "      <th>2</th>\n",
       "      <td>raceblack</td>\n",
       "      <td>-0.051500</td>\n",
       "      <td>0.024000</td>\n",
       "      <td>-2.115</td>\n",
       "      <td>0.034</td>\n",
       "      <td>-0.099    -0.004</td>\n",
       "      <td>-11.182202</td>\n",
       "      <td>11.182202</td>\n",
       "    </tr>\n",
       "    <tr>\n",
       "      <th>9</th>\n",
       "      <td>queuewkopen</td>\n",
       "      <td>0.000300</td>\n",
       "      <td>0.000048</td>\n",
       "      <td>5.348</td>\n",
       "      <td>0.000</td>\n",
       "      <td>0.000     0.000</td>\n",
       "      <td>0.069101</td>\n",
       "      <td>0.069101</td>\n",
       "    </tr>\n",
       "    <tr>\n",
       "      <th>8</th>\n",
       "      <td>queuewk</td>\n",
       "      <td>-0.000006</td>\n",
       "      <td>0.000002</td>\n",
       "      <td>-3.109</td>\n",
       "      <td>0.002</td>\n",
       "      <td>-9.23e-06 -2.09e-06</td>\n",
       "      <td>-0.001303</td>\n",
       "      <td>0.001303</td>\n",
       "    </tr>\n",
       "  </tbody>\n",
       "</table>\n",
       "</div>"
      ],
      "text/plain": [
       "                   coef_name      coef   std err       t  P>|t|  \\\n",
       "7                valuestddev  0.619500  0.256000   2.419  0.016   \n",
       "11  SourceCitizensConnectApp -0.184600  0.031000  -6.045  0.000   \n",
       "1      isdescription[T.True] -0.171900  0.013000 -12.803  0.000   \n",
       "6              housingstddev  0.091700  0.038000   2.395  0.017   \n",
       "10       PropertyTypeAddress  0.079100  0.022000   3.659  0.000   \n",
       "4               racehispanic  0.076200  0.038000   1.998  0.046   \n",
       "12     SourceConstituentCall  0.054600  0.018000   2.969  0.003   \n",
       "2                  raceblack -0.051500  0.024000  -2.115  0.034   \n",
       "9                queuewkopen  0.000300  0.000048   5.348  0.000   \n",
       "8                    queuewk -0.000006  0.000002  -3.109  0.002   \n",
       "\n",
       "     [95.0% Conf. Int.]  pct_diff_for_y  pct_diff_for_y_abs  \n",
       "7       0.118     1.122      316.389721          316.389721  \n",
       "11     -0.244    -0.125      -34.626761           34.626761  \n",
       "1      -0.198    -0.146      -32.686837           32.686837  \n",
       "6       0.017     0.167       23.509397           23.509397  \n",
       "10      0.037     0.121       19.977553           19.977553  \n",
       "4       0.001     0.151       19.179072           19.179072  \n",
       "12      0.019     0.091       13.396591           13.396591  \n",
       "2      -0.099    -0.004      -11.182202           11.182202  \n",
       "9       0.000     0.000        0.069101            0.069101  \n",
       "8   -9.23e-06 -2.09e-06       -0.001303            0.001303  "
      ]
     },
     "execution_count": 31,
     "metadata": {},
     "output_type": "execute_result"
    }
   ],
   "source": [
    "df_results[df_results['P>|t|'] < 0.1][df_results.coef_name != 'Intercept']"
   ]
  },
  {
   "cell_type": "code",
   "execution_count": 50,
   "metadata": {
    "collapsed": false
   },
   "outputs": [
    {
     "data": {
      "text/plain": [
       "[('povertypopbelowpovertylevel', 34.675),\n",
       " ('housingstddev', 32.474000000000004),\n",
       " ('raceasian', 30.57),\n",
       " ('valuestddev', 30.568),\n",
       " ('isdescription', 30.462),\n",
       " ('raceother', 30.351),\n",
       " ('racehispanic', 30.161),\n",
       " ('raceblack', 28.481),\n",
       " ('SourceCitizensConnectApp', 28.402),\n",
       " ('SourceConstituentCall', 28.344),\n",
       " ('PropertyTypeAddress', 28.279),\n",
       " ('queuewk', 28.198999999999998),\n",
       " ('queuewkopen', 26.027)]"
      ]
     },
     "execution_count": 50,
     "metadata": {},
     "output_type": "execute_result"
    }
   ],
   "source": [
    "scores = []\n",
    "\n",
    "for col in X_train.columns:\n",
    "    if col != 'Intercept':\n",
    "        score = remove_one_feature([col], df_dummified)\n",
    "        scores.append((col, score))\n",
    "        \n",
    "sorted(scores, key=lambda x: x[1])[::-1]        "
   ]
  },
  {
   "cell_type": "markdown",
   "metadata": {},
   "source": [
    "## Conclusion\n",
    "\n",
    "- **More diverse housing values** in an area is associated with **worse** completion time.\n",
    "- **More diversity in whether ppl buy or rent** is associated with **worse** completion time.\n",
    "\n",
    "\n",
    "- **More Hispanic** areas associated with **worse** completion time.\n",
    "- **More Black** areas associated with **better** completion time, to same degree as for Hispanic, but opposite.\n",
    "\n",
    "\n",
    "- **From app** is associated with **better** completion time compared to website.\n",
    "- **From call** associated with **better** completion time compared to website, to lesser degree than from app.\n",
    "- **Description** associated with **better** completion time, to same degree as from app.\n",
    "\n",
    "\n",
    "- **Location: address** associated with **worse** completion time, compared to intersection.\n",
    "\n",
    "\n",
    "- **Lots of open issues in queue** associated with **worse** completion time.\n",
    "\n",
    "\n",
    "### Notable\n",
    "- **More diverse housing values** in an area is associated with **worse** completion time.\n",
    "- **More diversity in whether ppl buy or rent** is associated with **worse** completion time.\n",
    "\n",
    "- **From app, from call** is associated with **better** completion time compared to website."
   ]
  }
 ],
 "metadata": {
  "anaconda-cloud": {},
  "kernelspec": {
   "display_name": "Python [default]",
   "language": "python",
   "name": "python2"
  },
  "language_info": {
   "codemirror_mode": {
    "name": "ipython",
    "version": 2
   },
   "file_extension": ".py",
   "mimetype": "text/x-python",
   "name": "python",
   "nbconvert_exporter": "python",
   "pygments_lexer": "ipython2",
   "version": "2.7.12"
  }
 },
 "nbformat": 4,
 "nbformat_minor": 2
}
