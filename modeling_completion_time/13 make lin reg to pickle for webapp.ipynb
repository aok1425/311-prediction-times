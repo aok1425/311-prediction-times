{
 "cells": [
  {
   "cell_type": "raw",
   "metadata": {},
   "source": [
    "Unless there's a straightfoward way to interpret the coefs under L2.\n",
    "Will ask the instructors on Monday."
   ]
  },
  {
   "cell_type": "markdown",
   "metadata": {},
   "source": [
    "## Objective\n",
    "\n",
    "Use our subsetted features, make model w sklearn and pickle it."
   ]
  },
  {
   "cell_type": "code",
   "execution_count": 1,
   "metadata": {
    "collapsed": true
   },
   "outputs": [],
   "source": [
    "%load_ext autoreload\n",
    "%autoreload 2"
   ]
  },
  {
   "cell_type": "code",
   "execution_count": 2,
   "metadata": {
    "collapsed": true
   },
   "outputs": [],
   "source": [
    "import os, sys\n",
    "sys.path.append(os.path.join(os.path.dirname('.'), \"../preprocessing\"))"
   ]
  },
  {
   "cell_type": "code",
   "execution_count": 5,
   "metadata": {
    "collapsed": false
   },
   "outputs": [],
   "source": [
    "from __future__ import division\n",
    "import pandas as pd\n",
    "import numpy as np\n",
    "import warnings\n",
    "import seaborn as sns\n",
    "import matplotlib.pyplot as plt\n",
    "from pylab import rcParams\n",
    "%matplotlib inline\n",
    "import string\n",
    "from StringIO import StringIO\n",
    "\n",
    "warnings.filterwarnings(\"ignore\", category=DeprecationWarning)\n",
    "sns.set_style(\"whitegrid\")\n",
    "sns.set_context(\"poster\")\n",
    "rcParams['figure.figsize'] = 20, 5\n",
    "\n",
    "from helper_functions import dummify_cols_and_baselines, make_alphas, remove_outliers_by_type"
   ]
  },
  {
   "cell_type": "code",
   "execution_count": 6,
   "metadata": {
    "collapsed": false
   },
   "outputs": [
    {
     "data": {
      "text/plain": [
       "(516406, 40)"
      ]
     },
     "execution_count": 6,
     "metadata": {},
     "output_type": "execute_result"
    }
   ],
   "source": [
    "df_orig = pd.read_pickle('../data/data_from_remove_from_dataset.pkl')\n",
    "df_orig.shape"
   ]
  },
  {
   "cell_type": "markdown",
   "metadata": {},
   "source": [
    "## Removing outliers\n",
    "\n",
    "A standard procedure is to remove values further than 3 standard deviations from the mean. Since I have so many low values and some very high values, I anecdotally think that the low values are very likely to be true, and the high values not so much.\n",
    "\n",
    "So, I will remove values further than 3 SDs from the median, by type.\n",
    "\n",
    "Ideally, I would take into account the time dimension. I would like to do so given more time."
   ]
  },
  {
   "cell_type": "code",
   "execution_count": 7,
   "metadata": {
    "collapsed": false
   },
   "outputs": [
    {
     "name": "stderr",
     "output_type": "stream",
     "text": [
      "helper_functions.py:24: SettingWithCopyWarning: \n",
      "A value is trying to be set on a copy of a slice from a DataFrame.\n",
      "Try using .loc[row_indexer,col_indexer] = value instead\n",
      "\n",
      "See the caveats in the documentation: http://pandas.pydata.org/pandas-docs/stable/indexing.html#indexing-view-versus-copy\n",
      "  \n",
      "/home/ec2-user/anaconda2/lib/python2.7/site-packages/pandas/core/frame.py:2454: SettingWithCopyWarning: \n",
      "A value is trying to be set on a copy of a slice from a DataFrame\n",
      "\n",
      "See the caveats in the documentation: http://pandas.pydata.org/pandas-docs/stable/indexing.html#indexing-view-versus-copy\n",
      "  self._where(-key, value, inplace=True)\n"
     ]
    },
    {
     "data": {
      "text/plain": [
       "(508653, 40)"
      ]
     },
     "execution_count": 7,
     "metadata": {},
     "output_type": "execute_result"
    }
   ],
   "source": [
    "df_outliers_removed = remove_outliers_by_type(df_orig, y_col='COMPLETION_HOURS_LOG_10')\n",
    "df_outliers_removed.shape"
   ]
  },
  {
   "cell_type": "markdown",
   "metadata": {},
   "source": [
    "I'm removing ~1.5% of my rows."
   ]
  },
  {
   "cell_type": "markdown",
   "metadata": {},
   "source": [
    "## Choosing columns"
   ]
  },
  {
   "cell_type": "code",
   "execution_count": 8,
   "metadata": {
    "collapsed": true
   },
   "outputs": [],
   "source": [
    "cols_orig_dataset = ['COMPLETION_HOURS_LOG_10', 'TYPE', 'SubmittedPhoto', 'Property_Type', 'Source', 'neighborhood_from_zip']\n",
    "cols_census = ['race_white',\n",
    "     'race_black',\n",
    "     'race_asian',\n",
    "     'race_hispanic',\n",
    "     'race_other',\n",
    "     'poverty_pop_below_poverty_level',\n",
    "     'earned_income_per_capita',\n",
    "     'poverty_pop_w_public_assistance',\n",
    "     'poverty_pop_w_food_stamps',\n",
    "     'poverty_pop_w_ssi',\n",
    "     'school',\n",
    "     'school_std_dev',\n",
    "     'housing',\n",
    "     'housing_std_dev',\n",
    "     'bedroom',\n",
    "     'bedroom_std_dev',\n",
    "     'value',\n",
    "     'value_std_dev',\n",
    "     'rent',\n",
    "     'rent_std_dev',\n",
    "     'income',\n",
    "     'income_std_dev']\n",
    "cols_engineered = ['queue_wk', 'queue_wk_open', 'is_description']"
   ]
  },
  {
   "cell_type": "code",
   "execution_count": 9,
   "metadata": {
    "collapsed": false
   },
   "outputs": [],
   "source": [
    "df = df_outliers_removed[cols_orig_dataset + cols_census + cols_engineered]"
   ]
  },
  {
   "cell_type": "markdown",
   "metadata": {},
   "source": [
    "## Dummify"
   ]
  },
  {
   "cell_type": "code",
   "execution_count": 10,
   "metadata": {
    "collapsed": false
   },
   "outputs": [
    {
     "data": {
      "text/plain": [
       "Index([u'TYPE', u'Property_Type', u'Source', u'neighborhood_from_zip',\n",
       "       u'school', u'housing'],\n",
       "      dtype='object')"
      ]
     },
     "execution_count": 10,
     "metadata": {},
     "output_type": "execute_result"
    }
   ],
   "source": [
    "cols_to_dummify = df.dtypes[df.dtypes == object].index\n",
    "cols_to_dummify"
   ]
  },
  {
   "cell_type": "code",
   "execution_count": 11,
   "metadata": {
    "collapsed": false
   },
   "outputs": [
    {
     "name": "stdout",
     "output_type": "stream",
     "text": [
      "Zoning is baseline 0 6\n",
      "other is baseline 1 6\n",
      "Twitter is baseline 2 6\n",
      "West Roxbury is baseline 3 6\n",
      "8_6th_grade is baseline 4 6\n",
      "rent is baseline 5 6\n"
     ]
    }
   ],
   "source": [
    "df_dummified, baseline_cols = dummify_cols_and_baselines(df, cols_to_dummify)"
   ]
  },
  {
   "cell_type": "code",
   "execution_count": 12,
   "metadata": {
    "collapsed": false
   },
   "outputs": [
    {
     "data": {
      "text/plain": [
       "(508653, 253)"
      ]
     },
     "execution_count": 12,
     "metadata": {},
     "output_type": "execute_result"
    }
   ],
   "source": [
    "df_dummified.shape"
   ]
  },
  {
   "cell_type": "markdown",
   "metadata": {},
   "source": [
    "## Removing columns as per L2 results"
   ]
  },
  {
   "cell_type": "code",
   "execution_count": 13,
   "metadata": {
    "collapsed": true
   },
   "outputs": [],
   "source": [
    "col_blacklist = ['Property_Type_Address',\n",
    " 'Property_Type_Intersection',\n",
    " 'Source_Constituent Call',\n",
    " 'SubmittedPhoto',\n",
    " 'TYPE_ADA',\n",
    " 'TYPE_Alert Boston',\n",
    " 'TYPE_Animal Noise Disturbances',\n",
    " 'TYPE_Automotive Noise Disturbance',\n",
    " 'TYPE_BWSC General Request',\n",
    " 'TYPE_BWSC Pothole',\n",
    " 'TYPE_Big Buildings Online Request',\n",
    " 'TYPE_Billing Complaint',\n",
    " 'TYPE_Bridge Maintenance',\n",
    " 'TYPE_CE Collection',\n",
    " 'TYPE_Cemetery Maintenance Request',\n",
    " 'TYPE_City/State Snow Issues',\n",
    " 'TYPE_Contractor Complaints',\n",
    " 'TYPE_Corporate or Community Group Service Day Clean Up',\n",
    " 'TYPE_Downed Wire',\n",
    " 'TYPE_Dumpster & Loading Noise Disturbances',\n",
    " 'TYPE_Fire Department Request',\n",
    " 'TYPE_Fire Hydrant',\n",
    " 'TYPE_Fire in Food Establishment',\n",
    " 'TYPE_Follow-Up',\n",
    " 'TYPE_Food Alert - Confirmed',\n",
    " 'TYPE_Food Alert - Unconfirmed',\n",
    " 'TYPE_General Traffic Engineering Request',\n",
    " 'TYPE_Ground Maintenance',\n",
    " 'TYPE_HP Sign Application New',\n",
    " 'TYPE_HP Sign Application Renewal',\n",
    " 'TYPE_Heat/Fuel Assistance',\n",
    " 'TYPE_Idea Collection',\n",
    " 'TYPE_Knockdown Replacement',\n",
    " 'TYPE_Loud Parties/Music/People',\n",
    " 'TYPE_Mechanical',\n",
    " 'TYPE_Misc. Snow Complaint',\n",
    " 'TYPE_Mosquitoes (West Nile)',\n",
    " 'TYPE_Municipal Parking Lot Complaints',\n",
    " 'TYPE_New Tree Warrantee Inspection',\n",
    " 'TYPE_News Boxes',\n",
    " 'TYPE_No Utilities - Food Establishment - Electricity',\n",
    " 'TYPE_No Utilities - Food Establishment - Flood',\n",
    " 'TYPE_No Utilities - Food Establishment - Sewer',\n",
    " 'TYPE_No Utilities - Food Establishment - Water',\n",
    " 'TYPE_No Utilities Residential - Electricity',\n",
    " 'TYPE_No Utilities Residential - Gas',\n",
    " 'TYPE_No Utilities Residential - Water',\n",
    " 'TYPE_OCR Metrolist',\n",
    " 'TYPE_Occupying W/Out A Valid CO/CI',\n",
    " 'TYPE_One Boston Day',\n",
    " 'TYPE_PWD Graffiti',\n",
    " 'TYPE_Parking Meter Repairs',\n",
    " 'TYPE_Parks General Request',\n",
    " 'TYPE_Pavement Marking Inspection',\n",
    " 'TYPE_Phone Bank Service Inquiry',\n",
    " 'TYPE_Planting',\n",
    " 'TYPE_Poor Ventilation',\n",
    " 'TYPE_Private Parking Lot Complaints',\n",
    " 'TYPE_Public Events Noise Disturbances',\n",
    " 'TYPE_Rat Bite',\n",
    " 'TYPE_Rental Unit Delivery Conditions',\n",
    " 'TYPE_Request for Litter Basket Installation',\n",
    " 'TYPE_Roadway Flooding',\n",
    " 'TYPE_Rooftop & Mechanical Disturbances',\n",
    " 'TYPE_Schedule a Bulk Item Pickup SS',\n",
    " 'TYPE_Senior Shoveling',\n",
    " 'TYPE_Sewage/Septic Back-Up',\n",
    " 'TYPE_Sidewalk Cover / Manhole',\n",
    " 'TYPE_Sidewalk Repair (Make Safe)',\n",
    " 'TYPE_Sign Shop WO',\n",
    " 'TYPE_Snow Removal',\n",
    " 'TYPE_Snow/Ice Control',\n",
    " 'TYPE_Student Overcrowding',\n",
    " 'TYPE_Transfer Not Completed',\n",
    " 'TYPE_Undefined Noise Disturbance',\n",
    " 'TYPE_Unit Pricing Wrong/Missing',\n",
    " 'TYPE_Unsanitary Conditions - Employees',\n",
    " 'TYPE_Unsanitary Conditions - Establishment',\n",
    " 'TYPE_Unsanitary Conditions - Food',\n",
    " 'TYPE_Utility Casting Repair',\n",
    " 'TYPE_Valet Parking Problems',\n",
    " 'TYPE_Walk-In Service Inquiry',\n",
    " 'TYPE_Watermain Break',\n",
    " 'TYPE_Work Hours-Loud Noise Complaints',\n",
    " 'TYPE_Yardwaste Asian Longhorned Beetle Affected Area',\n",
    " 'bedroom',\n",
    " 'bedroom_std_dev',\n",
    " 'earned_income_per_capita',\n",
    " 'housing_own',\n",
    " 'housing_std_dev',\n",
    " 'income',\n",
    " 'income_std_dev',\n",
    " 'is_description',\n",
    " 'neighborhood_from_zip_Allston / Brighton',\n",
    " 'neighborhood_from_zip_Back Bay',\n",
    " 'neighborhood_from_zip_Beacon Hill',\n",
    " 'neighborhood_from_zip_Brookline',\n",
    " 'neighborhood_from_zip_Charlestown',\n",
    " 'neighborhood_from_zip_Chestnut Hill',\n",
    " 'neighborhood_from_zip_Dorchester',\n",
    " 'neighborhood_from_zip_Downtown / Financial District',\n",
    " 'neighborhood_from_zip_Fenway / Kenmore / Audubon Circle / Longwood',\n",
    " 'neighborhood_from_zip_Hyde Park',\n",
    " 'neighborhood_from_zip_Jamaica Plain',\n",
    " 'neighborhood_from_zip_Mattapan',\n",
    " 'neighborhood_from_zip_Mission Hill',\n",
    " 'neighborhood_from_zip_Roslindale',\n",
    " 'neighborhood_from_zip_Roxbury',\n",
    " 'neighborhood_from_zip_South Boston',\n",
    " 'neighborhood_from_zip_South Boston / South Boston Waterfront',\n",
    " 'neighborhood_from_zip_South End',\n",
    " 'neighborhood_from_zip_West End',\n",
    " 'poverty_pop_below_poverty_level',\n",
    " 'poverty_pop_w_food_stamps',\n",
    " 'poverty_pop_w_public_assistance',\n",
    " 'poverty_pop_w_ssi',\n",
    " 'queue_wk',\n",
    " 'race_asian',\n",
    " 'race_black',\n",
    " 'race_hispanic',\n",
    " 'race_other',\n",
    " 'race_white',\n",
    " 'rent',\n",
    " 'rent_std_dev',\n",
    " 'school_0_none',\n",
    " 'school_11_9th_grade',\n",
    " 'school_13_11th_grade',\n",
    " 'school_14_12th_grade_no_diploma',\n",
    " 'school_15_hs_diploma',\n",
    " 'school_18_some_college_no_degree',\n",
    " 'school_19_associates',\n",
    " 'school_20_bachelors',\n",
    " 'school_21_masters',\n",
    " 'school_22_professional_school',\n",
    " 'school_std_dev',\n",
    " 'value',\n",
    " 'value_std_dev']"
   ]
  },
  {
   "cell_type": "code",
   "execution_count": 14,
   "metadata": {
    "collapsed": true
   },
   "outputs": [],
   "source": [
    "df_dummified_and_filtered = df_dummified.drop(col_blacklist, axis=1)"
   ]
  },
  {
   "cell_type": "code",
   "execution_count": 33,
   "metadata": {
    "collapsed": false
   },
   "outputs": [
    {
     "data": {
      "text/plain": [
       "(508653, 116)"
      ]
     },
     "execution_count": 33,
     "metadata": {},
     "output_type": "execute_result"
    }
   ],
   "source": [
    "df_dummified_and_filtered.shape"
   ]
  },
  {
   "cell_type": "markdown",
   "metadata": {},
   "source": [
    "## Running a model"
   ]
  },
  {
   "cell_type": "code",
   "execution_count": 15,
   "metadata": {
    "collapsed": false
   },
   "outputs": [
    {
     "name": "stderr",
     "output_type": "stream",
     "text": [
      "/home/ec2-user/anaconda2/lib/python2.7/site-packages/sklearn/cross_validation.py:44: DeprecationWarning: This module was deprecated in version 0.18 in favor of the model_selection module into which all the refactored classes and functions are moved. Also note that the interface of the new CV iterators are different from that of this module. This module will be removed in 0.20.\n",
      "  \"This module will be removed in 0.20.\", DeprecationWarning)\n"
     ]
    }
   ],
   "source": [
    "from sklearn.cross_validation import train_test_split\n",
    "from sklearn.pipeline import make_pipeline\n",
    "from sklearn.model_selection import GridSearchCV\n",
    "from sklearn.linear_model import LinearRegression, LassoCV\n",
    "from sklearn.cross_validation import ShuffleSplit\n",
    "from sklearn.preprocessing import StandardScaler\n",
    "from sklearn.metrics import mean_squared_error, r2_score\n"
   ]
  },
  {
   "cell_type": "code",
   "execution_count": 16,
   "metadata": {
    "collapsed": false
   },
   "outputs": [],
   "source": [
    "pipe = make_pipeline(StandardScaler(), LinearRegression())"
   ]
  },
  {
   "cell_type": "code",
   "execution_count": 34,
   "metadata": {
    "collapsed": true
   },
   "outputs": [],
   "source": [
    "X = df_dummified_and_filtered.drop('COMPLETION_HOURS_LOG_10', axis=1)\n",
    "y = df_dummified_and_filtered.COMPLETION_HOURS_LOG_10"
   ]
  },
  {
   "cell_type": "code",
   "execution_count": 35,
   "metadata": {
    "collapsed": false
   },
   "outputs": [],
   "source": [
    "pipe.fit(X, y);"
   ]
  },
  {
   "cell_type": "markdown",
   "metadata": {},
   "source": [
    "## Pickling model"
   ]
  },
  {
   "cell_type": "code",
   "execution_count": 36,
   "metadata": {
    "collapsed": true
   },
   "outputs": [],
   "source": [
    "from sklearn.externals import joblib"
   ]
  },
  {
   "cell_type": "code",
   "execution_count": 37,
   "metadata": {
    "collapsed": false
   },
   "outputs": [
    {
     "data": {
      "text/plain": [
       "['../data/model_completion_time.pkl']"
      ]
     },
     "execution_count": 37,
     "metadata": {},
     "output_type": "execute_result"
    }
   ],
   "source": [
    "joblib.dump(pipe, '../data/model_completion_time.pkl')"
   ]
  },
  {
   "cell_type": "code",
   "execution_count": 38,
   "metadata": {
    "collapsed": true
   },
   "outputs": [],
   "source": [
    "aa = joblib.load('../data/model_completion_time.pkl')"
   ]
  },
  {
   "cell_type": "code",
   "execution_count": 32,
   "metadata": {
    "collapsed": false
   },
   "outputs": [
    {
     "data": {
      "text/html": [
       "<div>\n",
       "<table border=\"1\" class=\"dataframe\">\n",
       "  <thead>\n",
       "    <tr style=\"text-align: right;\">\n",
       "      <th></th>\n",
       "      <th>SubmittedPhoto</th>\n",
       "      <th>race_white</th>\n",
       "      <th>race_black</th>\n",
       "      <th>race_asian</th>\n",
       "      <th>race_hispanic</th>\n",
       "      <th>race_other</th>\n",
       "      <th>poverty_pop_below_poverty_level</th>\n",
       "      <th>earned_income_per_capita</th>\n",
       "      <th>poverty_pop_w_public_assistance</th>\n",
       "      <th>poverty_pop_w_food_stamps</th>\n",
       "      <th>...</th>\n",
       "      <th>school_11_9th_grade</th>\n",
       "      <th>school_13_11th_grade</th>\n",
       "      <th>school_14_12th_grade_no_diploma</th>\n",
       "      <th>school_15_hs_diploma</th>\n",
       "      <th>school_18_some_college_no_degree</th>\n",
       "      <th>school_19_associates</th>\n",
       "      <th>school_20_bachelors</th>\n",
       "      <th>school_21_masters</th>\n",
       "      <th>school_22_professional_school</th>\n",
       "      <th>housing_own</th>\n",
       "    </tr>\n",
       "  </thead>\n",
       "  <tbody>\n",
       "    <tr>\n",
       "      <th>905425</th>\n",
       "      <td>True</td>\n",
       "      <td>0.242399</td>\n",
       "      <td>0.514358</td>\n",
       "      <td>0.035473</td>\n",
       "      <td>0.067568</td>\n",
       "      <td>0.140203</td>\n",
       "      <td>0.0</td>\n",
       "      <td>34340.0</td>\n",
       "      <td>0.059748</td>\n",
       "      <td>0.138365</td>\n",
       "      <td>...</td>\n",
       "      <td>0</td>\n",
       "      <td>0</td>\n",
       "      <td>0</td>\n",
       "      <td>1</td>\n",
       "      <td>0</td>\n",
       "      <td>0</td>\n",
       "      <td>0</td>\n",
       "      <td>0</td>\n",
       "      <td>0</td>\n",
       "      <td>1</td>\n",
       "    </tr>\n",
       "  </tbody>\n",
       "</table>\n",
       "<p>1 rows × 252 columns</p>\n",
       "</div>"
      ],
      "text/plain": [
       "       SubmittedPhoto  race_white  race_black  race_asian  race_hispanic  \\\n",
       "905425           True    0.242399    0.514358    0.035473       0.067568   \n",
       "\n",
       "        race_other  poverty_pop_below_poverty_level  earned_income_per_capita  \\\n",
       "905425    0.140203                              0.0                   34340.0   \n",
       "\n",
       "        poverty_pop_w_public_assistance  poverty_pop_w_food_stamps  \\\n",
       "905425                         0.059748                   0.138365   \n",
       "\n",
       "           ...       school_11_9th_grade  school_13_11th_grade  \\\n",
       "905425     ...                         0                     0   \n",
       "\n",
       "        school_14_12th_grade_no_diploma  school_15_hs_diploma  \\\n",
       "905425                                0                     1   \n",
       "\n",
       "        school_18_some_college_no_degree  school_19_associates  \\\n",
       "905425                                 0                     0   \n",
       "\n",
       "        school_20_bachelors  school_21_masters  school_22_professional_school  \\\n",
       "905425                    0                  0                              0   \n",
       "\n",
       "        housing_own  \n",
       "905425            1  \n",
       "\n",
       "[1 rows x 252 columns]"
      ]
     },
     "execution_count": 32,
     "metadata": {},
     "output_type": "execute_result"
    }
   ],
   "source": [
    "X.head(1)"
   ]
  },
  {
   "cell_type": "code",
   "execution_count": 31,
   "metadata": {
    "collapsed": false
   },
   "outputs": [
    {
     "data": {
      "text/html": [
       "<div>\n",
       "<table border=\"1\" class=\"dataframe\">\n",
       "  <thead>\n",
       "    <tr style=\"text-align: right;\">\n",
       "      <th></th>\n",
       "      <th>SourceCitizensConnectApp</th>\n",
       "      <th>SourceSelfService</th>\n",
       "      <th>TYPEAbandonedBicycle</th>\n",
       "      <th>TYPEAbandonedBuilding</th>\n",
       "      <th>TYPEAbandonedVehicles</th>\n",
       "      <th>TYPEAnimalFound</th>\n",
       "      <th>TYPEAnimalGenericRequest</th>\n",
       "      <th>TYPEAnimalLost</th>\n",
       "      <th>TYPEBedBugs</th>\n",
       "      <th>TYPEBicycleIssues</th>\n",
       "      <th>...</th>\n",
       "      <th>TYPEUnshoveledSidewalk</th>\n",
       "      <th>TYPEUpgradeExistingLighting</th>\n",
       "      <th>TYPEUtilityCallIn</th>\n",
       "      <th>TYPEWCCallLog</th>\n",
       "      <th>TYPEWaterinGasHighPriority</th>\n",
       "      <th>TYPEWorkingBeyondHours</th>\n",
       "      <th>TYPEWorkwoutPermit</th>\n",
       "      <th>neighborhoodfromzipEastBoston</th>\n",
       "      <th>neighborhoodfromzipNorthEnd</th>\n",
       "      <th>queuewkopen</th>\n",
       "    </tr>\n",
       "  </thead>\n",
       "  <tbody>\n",
       "    <tr>\n",
       "      <th>0</th>\n",
       "      <td>1</td>\n",
       "      <td>0</td>\n",
       "      <td>0</td>\n",
       "      <td>0</td>\n",
       "      <td>0</td>\n",
       "      <td>0</td>\n",
       "      <td>0</td>\n",
       "      <td>0</td>\n",
       "      <td>0</td>\n",
       "      <td>0</td>\n",
       "      <td>...</td>\n",
       "      <td>0</td>\n",
       "      <td>0</td>\n",
       "      <td>0</td>\n",
       "      <td>0</td>\n",
       "      <td>0</td>\n",
       "      <td>0</td>\n",
       "      <td>0</td>\n",
       "      <td>0</td>\n",
       "      <td>0</td>\n",
       "      <td>351</td>\n",
       "    </tr>\n",
       "  </tbody>\n",
       "</table>\n",
       "<p>1 rows × 115 columns</p>\n",
       "</div>"
      ],
      "text/plain": [
       "   SourceCitizensConnectApp  SourceSelfService  TYPEAbandonedBicycle  \\\n",
       "0                         1                  0                     0   \n",
       "\n",
       "   TYPEAbandonedBuilding  TYPEAbandonedVehicles  TYPEAnimalFound  \\\n",
       "0                      0                      0                0   \n",
       "\n",
       "   TYPEAnimalGenericRequest  TYPEAnimalLost  TYPEBedBugs  TYPEBicycleIssues  \\\n",
       "0                         0               0            0                  0   \n",
       "\n",
       "      ...       TYPEUnshoveledSidewalk  TYPEUpgradeExistingLighting  \\\n",
       "0     ...                            0                            0   \n",
       "\n",
       "   TYPEUtilityCallIn  TYPEWCCallLog  TYPEWaterinGasHighPriority  \\\n",
       "0                  0              0                           0   \n",
       "\n",
       "   TYPEWorkingBeyondHours  TYPEWorkwoutPermit  neighborhoodfromzipEastBoston  \\\n",
       "0                       0                   0                              0   \n",
       "\n",
       "   neighborhoodfromzipNorthEnd  queuewkopen  \n",
       "0                            0          351  \n",
       "\n",
       "[1 rows x 115 columns]"
      ]
     },
     "execution_count": 31,
     "metadata": {},
     "output_type": "execute_result"
    }
   ],
   "source": [
    "pd.DataFrame(sample_row)"
   ]
  },
  {
   "cell_type": "code",
   "execution_count": 45,
   "metadata": {
    "collapsed": false
   },
   "outputs": [
    {
     "data": {
      "text/plain": [
       "array([-21.81364741])"
      ]
     },
     "execution_count": 45,
     "metadata": {},
     "output_type": "execute_result"
    }
   ],
   "source": [
    "aa.predict(_31)"
   ]
  },
  {
   "cell_type": "code",
   "execution_count": 47,
   "metadata": {
    "collapsed": false
   },
   "outputs": [
    {
     "data": {
      "text/plain": [
       "[{'Source_Citizens Connect App': 1,\n",
       "  'Source_Self Service': 0,\n",
       "  'TYPE_Abandoned Bicycle': 0,\n",
       "  'TYPE_Abandoned Building': 0,\n",
       "  'TYPE_Abandoned Vehicles': 0,\n",
       "  'TYPE_Animal Found': 0,\n",
       "  'TYPE_Animal Generic Request': 0,\n",
       "  'TYPE_Animal Lost': 0,\n",
       "  'TYPE_Bed Bugs': 0,\n",
       "  'TYPE_Bicycle Issues': 0,\n",
       "  'TYPE_Breathe Easy': 0,\n",
       "  'TYPE_Building Inspection Request': 0,\n",
       "  'TYPE_Call Log': 0,\n",
       "  'TYPE_Carbon Monoxide': 0,\n",
       "  'TYPE_Catchbasin': 0,\n",
       "  'TYPE_Checkin': 0,\n",
       "  'TYPE_Chronic Dampness/Mold': 0,\n",
       "  'TYPE_Construction Debris': 0,\n",
       "  'TYPE_Contractors Complaint': 0,\n",
       "  'TYPE_Cross Metering - Sub-Metering': 0,\n",
       "  'TYPE_Egress': 0,\n",
       "  'TYPE_Electrical': 0,\n",
       "  'TYPE_Empty Litter Basket': 0,\n",
       "  'TYPE_Equipment Repair': 0,\n",
       "  'TYPE_Exceeding Terms of Permit': 0,\n",
       "  'TYPE_General Comments For An Employee': 0,\n",
       "  'TYPE_General Comments For a Program or Policy': 0,\n",
       "  'TYPE_General Lighting Request': 0,\n",
       "  'TYPE_Graffiti Removal': 0,\n",
       "  'TYPE_Heat - Excessive  Insufficient': 0,\n",
       "  'TYPE_Highway Maintenance': 0,\n",
       "  'TYPE_Housing Discrimination Intake Form': 0,\n",
       "  'TYPE_Illegal Auto Body Shop': 0,\n",
       "  'TYPE_Illegal Dumping': 0,\n",
       "  'TYPE_Illegal Occupancy': 0,\n",
       "  'TYPE_Illegal Posting of Signs': 0,\n",
       "  'TYPE_Illegal Rooming House': 0,\n",
       "  'TYPE_Illegal Use': 0,\n",
       "  'TYPE_Illegal Vending': 0,\n",
       "  'TYPE_Improper Storage of Trash (Barrels)': 0,\n",
       "  'TYPE_Install New Lighting': 0,\n",
       "  'TYPE_Item Price Missing': 0,\n",
       "  'TYPE_Lead': 0,\n",
       "  'TYPE_Litter Basket Maintenance': 0,\n",
       "  'TYPE_Maintenance - Homeowner': 0,\n",
       "  'TYPE_Maintenance Complaint - Residential': 0,\n",
       "  'TYPE_Major System Failure': 0,\n",
       "  'TYPE_Mice Infestation - Residential': 0,\n",
       "  'TYPE_Missed Trash/Recycling/Yard Waste/Bulk Item': 0,\n",
       "  'TYPE_Missing Sign': 0,\n",
       "  'TYPE_Needle Pickup': 0,\n",
       "  'TYPE_New Sign  Crosswalk or Pavement Marking': 0,\n",
       "  'TYPE_New Tree Requests': 0,\n",
       "  'TYPE_No Price on Gas/Wrong Price': 0,\n",
       "  'TYPE_No-Tow Complaint Confirmation': 0,\n",
       "  'TYPE_Notification': 0,\n",
       "  'TYPE_OCR Front Desk Interactions': 0,\n",
       "  'TYPE_Overcrowding': 0,\n",
       "  'TYPE_Overflowing or Un-kept Dumpster': 0,\n",
       "  'TYPE_Park Improvement Requests': 0,\n",
       "  'TYPE_Park Maintenance Requests': 0,\n",
       "  'TYPE_Parking Enforcement': 0,\n",
       "  'TYPE_Parking on Front/Back Yards (Illegal Parking)': 0,\n",
       "  'TYPE_Parks Lighting/Electrical Issues': 0,\n",
       "  'TYPE_Pavement Marking Maintenance': 0,\n",
       "  'TYPE_Pest Infestation - Residential': 0,\n",
       "  'TYPE_Pick up Dead Animal': 0,\n",
       "  'TYPE_Pigeon Infestation': 0,\n",
       "  'TYPE_Plumbing': 0,\n",
       "  'TYPE_Poor Conditions of Property': 0,\n",
       "  'TYPE_Product Short Measure': 0,\n",
       "  'TYPE_Protection of Adjoining Property': 0,\n",
       "  'TYPE_Public Works General Request': 0,\n",
       "  'TYPE_Recycling Cart Inquiry': 0,\n",
       "  'TYPE_Recycling Cart Return': 0,\n",
       "  'TYPE_Request for Pothole Repair': 0,\n",
       "  'TYPE_Request for Recycling Cart': 0,\n",
       "  'TYPE_Request for Snow Plowing': 1,\n",
       "  'TYPE_Request for Snow Plowing (Emergency Responder)': 0,\n",
       "  'TYPE_Requests for Street Cleaning': 0,\n",
       "  'TYPE_Requests for Traffic Signal Studies or Reviews': 0,\n",
       "  'TYPE_Roadway Repair': 0,\n",
       "  'TYPE_Rodent Activity': 0,\n",
       "  'TYPE_Scale Not Visible': 0,\n",
       "  'TYPE_Scanning Overcharge': 0,\n",
       "  'TYPE_Schedule a Bulk Item Pickup': 0,\n",
       "  'TYPE_Short Measure - Gas': 0,\n",
       "  'TYPE_Sidewalk Repair': 0,\n",
       "  'TYPE_Sign Repair': 0,\n",
       "  'TYPE_Space Savers': 0,\n",
       "  'TYPE_Squalid Living Conditions': 0,\n",
       "  'TYPE_Sticker Request': 0,\n",
       "  'TYPE_Street Light Knock Downs': 0,\n",
       "  'TYPE_Street Light Outages': 0,\n",
       "  'TYPE_Student Move-in Issues': 0,\n",
       "  'TYPE_Traffic Signal Inspection': 0,\n",
       "  'TYPE_Traffic Signal Repair': 0,\n",
       "  'TYPE_Transportation General Request': 0,\n",
       "  'TYPE_Trash on Vacant Lot': 0,\n",
       "  'TYPE_Tree Emergencies': 0,\n",
       "  'TYPE_Tree Maintenance Requests': 0,\n",
       "  'TYPE_Tree in Park': 0,\n",
       "  'TYPE_Unsafe Dangerous Conditions': 0,\n",
       "  'TYPE_Unsatisfactory Living Conditions': 0,\n",
       "  'TYPE_Unsatisfactory Utilities - Electrical  Plumbing': 0,\n",
       "  'TYPE_Unshoveled Sidewalk': 0,\n",
       "  'TYPE_Upgrade Existing Lighting': 0,\n",
       "  'TYPE_Utility Call-In': 0,\n",
       "  'TYPE_WC Call Log': 0,\n",
       "  'TYPE_Water in Gas - High Priority': 0,\n",
       "  'TYPE_Work w/out Permit': 0,\n",
       "  'TYPE_Working Beyond Hours': 0,\n",
       "  'neighborhood_from_zip_East Boston': 0,\n",
       "  'neighborhood_from_zip_North End': 0,\n",
       "  'queue_wk_open': 1}]"
      ]
     },
     "execution_count": 47,
     "metadata": {},
     "output_type": "execute_result"
    }
   ],
   "source": [
    "X.head(1).to_dict('records')"
   ]
  },
  {
   "cell_type": "code",
   "execution_count": 44,
   "metadata": {
    "collapsed": false
   },
   "outputs": [
    {
     "data": {
      "text/plain": [
       "array([ 1.25687211])"
      ]
     },
     "execution_count": 44,
     "metadata": {},
     "output_type": "execute_result"
    }
   ],
   "source": [
    "aa.predict(X.head(1))"
   ]
  },
  {
   "cell_type": "code",
   "execution_count": 21,
   "metadata": {
    "collapsed": false
   },
   "outputs": [
    {
     "data": {
      "text/plain": [
       "array([ 1.28505512])"
      ]
     },
     "execution_count": 21,
     "metadata": {},
     "output_type": "execute_result"
    }
   ],
   "source": [
    "pipe.predict(X.head(1))"
   ]
  },
  {
   "cell_type": "code",
   "execution_count": 28,
   "metadata": {
    "collapsed": true
   },
   "outputs": [],
   "source": [
    "sample_row = [{'SourceCitizensConnectApp': 1,\n",
    "  'SourceSelfService': 0,\n",
    "  'TYPEAbandonedBicycle': 0,\n",
    "  'TYPEAbandonedBuilding': 0,\n",
    "  'TYPEAbandonedVehicles': 0,\n",
    "  'TYPEAnimalFound': 0,\n",
    "  'TYPEAnimalGenericRequest': 0,\n",
    "  'TYPEAnimalLost': 0,\n",
    "  'TYPEBedBugs': 0,\n",
    "  'TYPEBicycleIssues': 0,\n",
    "  'TYPEBreatheEasy': 0,\n",
    "  'TYPEBuildingInspectionRequest': 0,\n",
    "  'TYPECallLog': 0,\n",
    "  'TYPECarbonMonoxide': 0,\n",
    "  'TYPECatchbasin': 0,\n",
    "  'TYPECheckin': 0,\n",
    "  'TYPEChronicDampnessMold': 0,\n",
    "  'TYPEConstructionDebris': 0,\n",
    "  'TYPEContractorsComplaint': 0,\n",
    "  'TYPECrossMeteringSubMetering': 0,\n",
    "  'TYPEEgress': 0,\n",
    "  'TYPEElectrical': 0,\n",
    "  'TYPEEmptyLitterBasket': 0,\n",
    "  'TYPEEquipmentRepair': 0,\n",
    "  'TYPEExceedingTermsofPermit': 0,\n",
    "  'TYPEGeneralCommentsForAnEmployee': 0,\n",
    "  'TYPEGeneralCommentsForaProgramorPolicy': 0,\n",
    "  'TYPEGeneralLightingRequest': 0,\n",
    "  'TYPEGraffitiRemoval': 0,\n",
    "  'TYPEHeatExcessiveInsufficient': 0,\n",
    "  'TYPEHighwayMaintenance': 0,\n",
    "  'TYPEHousingDiscriminationIntakeForm': 0,\n",
    "  'TYPEIllegalAutoBodyShop': 0,\n",
    "  'TYPEIllegalDumping': 0,\n",
    "  'TYPEIllegalOccupancy': 0,\n",
    "  'TYPEIllegalPostingofSigns': 0,\n",
    "  'TYPEIllegalRoomingHouse': 0,\n",
    "  'TYPEIllegalUse': 0,\n",
    "  'TYPEIllegalVending': 0,\n",
    "  'TYPEImproperStorageofTrashBarrels': 0,\n",
    "  'TYPEInstallNewLighting': 0,\n",
    "  'TYPEItemPriceMissing': 0,\n",
    "  'TYPELead': 0,\n",
    "  'TYPELitterBasketMaintenance': 0,\n",
    "  'TYPEMaintenanceComplaintResidential': 0,\n",
    "  'TYPEMaintenanceHomeowner': 0,\n",
    "  'TYPEMajorSystemFailure': 0,\n",
    "  'TYPEMiceInfestationResidential': 0,\n",
    "  'TYPEMissedTrashRecyclingYardWasteBulkItem': 0,\n",
    "  'TYPEMissingSign': 0,\n",
    "  'TYPENeedlePickup': 0,\n",
    "  'TYPENewSignCrosswalkorPavementMarking': 0,\n",
    "  'TYPENewTreeRequests': 0,\n",
    "  'TYPENoPriceonGasWrongPrice': 0,\n",
    "  'TYPENoTowComplaintConfirmation': 0,\n",
    "  'TYPENotification': 0,\n",
    "  'TYPEOCRFrontDeskInteractions': 0,\n",
    "  'TYPEOvercrowding': 0,\n",
    "  'TYPEOverflowingorUnkeptDumpster': 0,\n",
    "  'TYPEParkImprovementRequests': 0,\n",
    "  'TYPEParkMaintenanceRequests': 0,\n",
    "  'TYPEParkingEnforcement': 1,\n",
    "  'TYPEParkingonFrontBackYardsIllegalParking': 0,\n",
    "  'TYPEParksLightingElectricalIssues': 0,\n",
    "  'TYPEPavementMarkingMaintenance': 0,\n",
    "  'TYPEPestInfestationResidential': 0,\n",
    "  'TYPEPickupDeadAnimal': 0,\n",
    "  'TYPEPigeonInfestation': 0,\n",
    "  'TYPEPlumbing': 0,\n",
    "  'TYPEPoorConditionsofProperty': 0,\n",
    "  'TYPEProductShortMeasure': 0,\n",
    "  'TYPEProtectionofAdjoiningProperty': 0,\n",
    "  'TYPEPublicWorksGeneralRequest': 0,\n",
    "  'TYPERecyclingCartInquiry': 0,\n",
    "  'TYPERecyclingCartReturn': 0,\n",
    "  'TYPERequestforPotholeRepair': 0,\n",
    "  'TYPERequestforRecyclingCart': 0,\n",
    "  'TYPERequestforSnowPlowing': 0,\n",
    "  'TYPERequestforSnowPlowingEmergencyResponder': 0,\n",
    "  'TYPERequestsforStreetCleaning': 0,\n",
    "  'TYPERequestsforTrafficSignalStudiesorReviews': 0,\n",
    "  'TYPERoadwayRepair': 0,\n",
    "  'TYPERodentActivity': 0,\n",
    "  'TYPEScaleNotVisible': 0,\n",
    "  'TYPEScanningOvercharge': 0,\n",
    "  'TYPEScheduleaBulkItemPickup': 0,\n",
    "  'TYPEShortMeasureGas': 0,\n",
    "  'TYPESidewalkRepair': 0,\n",
    "  'TYPESignRepair': 0,\n",
    "  'TYPESpaceSavers': 0,\n",
    "  'TYPESqualidLivingConditions': 0,\n",
    "  'TYPEStickerRequest': 0,\n",
    "  'TYPEStreetLightKnockDowns': 0,\n",
    "  'TYPEStreetLightOutages': 0,\n",
    "  'TYPEStudentMoveinIssues': 0,\n",
    "  'TYPETrafficSignalInspection': 0,\n",
    "  'TYPETrafficSignalRepair': 0,\n",
    "  'TYPETransportationGeneralRequest': 0,\n",
    "  'TYPETrashonVacantLot': 0,\n",
    "  'TYPETreeEmergencies': 0,\n",
    "  'TYPETreeMaintenanceRequests': 0,\n",
    "  'TYPETreeinPark': 0,\n",
    "  'TYPEUnsafeDangerousConditions': 0,\n",
    "  'TYPEUnsatisfactoryLivingConditions': 0,\n",
    "  'TYPEUnsatisfactoryUtilitiesElectricalPlumbing': 0,\n",
    "  'TYPEUnshoveledSidewalk': 0,\n",
    "  'TYPEUpgradeExistingLighting': 0,\n",
    "  'TYPEUtilityCallIn': 0,\n",
    "  'TYPEWCCallLog': 0,\n",
    "  'TYPEWaterinGasHighPriority': 0,\n",
    "  'TYPEWorkingBeyondHours': 0,\n",
    "  'TYPEWorkwoutPermit': 0,\n",
    "  'neighborhoodfromzipEastBoston': 0,\n",
    "  'neighborhoodfromzipNorthEnd': 0,\n",
    "  'queuewkopen': 351}]"
   ]
  }
 ],
 "metadata": {
  "kernelspec": {
   "display_name": "Python 2",
   "language": "python",
   "name": "python2"
  },
  "language_info": {
   "codemirror_mode": {
    "name": "ipython",
    "version": 2
   },
   "file_extension": ".py",
   "mimetype": "text/x-python",
   "name": "python",
   "nbconvert_exporter": "python",
   "pygments_lexer": "ipython2",
   "version": "2.7.13"
  }
 },
 "nbformat": 4,
 "nbformat_minor": 2
}
