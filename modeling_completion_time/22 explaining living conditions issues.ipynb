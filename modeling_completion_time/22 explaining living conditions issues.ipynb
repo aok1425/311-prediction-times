{
 "cells": [
  {
   "cell_type": "markdown",
   "metadata": {},
   "source": [
    "## Objective\n",
    "\n",
    "Now that I know that my submodels perform a bit better than the model on the entire dataset, I can take advantage of the submodels and find the coefficients that are most associated with response variable."
   ]
  },
  {
   "cell_type": "code",
   "execution_count": 130,
   "metadata": {
    "collapsed": false
   },
   "outputs": [],
   "source": [
    "CATEGORY_GROUPS_IN_QUESTION = [['Pick up Dead Animal', 'Animal Generic Request'],\n",
    "['Abandoned Vehicles', 'Abandoned Bicycle'],\n",
    "['Rodent Activity',\t'Bed Bugs', 'Mice Infestation - Residential'],\n",
    "['Sidewalk Repair', 'Sidewalk Repair (Make Safe)'],\n",
    "['Needle Pickup'],\n",
    "['Unsatisfactory Living Conditions', 'Poor Conditions of Property', 'Unsanitary Conditions - Establishment', 'Illegal Occupancy', 'Heat - Excessive  Insufficient'],\n",
    "['Request for Pothole Repair'],\n",
    "['Graffiti Removal']]"
   ]
  },
  {
   "cell_type": "markdown",
   "metadata": {},
   "source": [
    "## Objective\n",
    "\n",
    "Does this have statistically significant coefs, assuming homoskedacity and a linear predictor-response relationship and Normalized residuals and imperfect collinearity?"
   ]
  },
  {
   "cell_type": "code",
   "execution_count": 1,
   "metadata": {
    "collapsed": false
   },
   "outputs": [],
   "source": [
    "%load_ext autoreload\n",
    "%autoreload 2"
   ]
  },
  {
   "cell_type": "code",
   "execution_count": 3,
   "metadata": {
    "collapsed": false
   },
   "outputs": [
    {
     "name": "stderr",
     "output_type": "stream",
     "text": [
      "/home/ubuntu/anaconda2/lib/python2.7/site-packages/sklearn/cross_validation.py:44: DeprecationWarning: This module was deprecated in version 0.18 in favor of the model_selection module into which all the refactored classes and functions are moved. Also note that the interface of the new CV iterators are different from that of this module. This module will be removed in 0.20.\n",
      "  \"This module will be removed in 0.20.\", DeprecationWarning)\n"
     ]
    }
   ],
   "source": [
    "from __future__ import division\n",
    "import pandas as pd\n",
    "import numpy as np\n",
    "import warnings\n",
    "import seaborn as sns\n",
    "import matplotlib.pyplot as plt\n",
    "from pylab import rcParams\n",
    "%matplotlib inline\n",
    "from tqdm import tqdm\n",
    "\n",
    "from utilities import remove_one_feature\n",
    "\n",
    "warnings.filterwarnings(\"ignore\", category=DeprecationWarning)\n",
    "sns.set_style(\"whitegrid\")\n",
    "sns.set_context(\"poster\")\n",
    "rcParams['figure.figsize'] = 20, 5\n",
    "\n",
    "import os, sys\n",
    "sys.path.append(os.path.join(os.path.dirname('.'), \"../preprocessing\"))\n",
    "from helper_functions import dummify_cols_and_baselines, make_alphas, remove_outliers_by_type, adjusted_r2, transform_school, get_vifs"
   ]
  },
  {
   "cell_type": "code",
   "execution_count": 12,
   "metadata": {
    "collapsed": false
   },
   "outputs": [
    {
     "data": {
      "text/plain": [
       "(516406, 40)"
      ]
     },
     "execution_count": 12,
     "metadata": {},
     "output_type": "execute_result"
    }
   ],
   "source": [
    "df_orig = pd.read_pickle('../data/data_from_remove_from_dataset.pkl')\n",
    "df_orig.shape"
   ]
  },
  {
   "cell_type": "code",
   "execution_count": 26,
   "metadata": {
    "collapsed": false
   },
   "outputs": [
    {
     "data": {
      "text/plain": [
       "(19742, 40)"
      ]
     },
     "execution_count": 26,
     "metadata": {},
     "output_type": "execute_result"
    }
   ],
   "source": [
    "df_orig = transform_school(df_orig)\n",
    "df_orig.shape"
   ]
  },
  {
   "cell_type": "markdown",
   "metadata": {},
   "source": [
    "## Filterering by `TYPE`"
   ]
  },
  {
   "cell_type": "code",
   "execution_count": 17,
   "metadata": {
    "collapsed": false
   },
   "outputs": [
    {
     "name": "stdout",
     "output_type": "stream",
     "text": [
      "['Unsatisfactory Living Conditions', 'Poor Conditions of Property', 'Unsanitary Conditions - Establishment', 'Illegal Occupancy', 'Heat - Excessive  Insufficient']\n"
     ]
    },
    {
     "data": {
      "text/plain": [
       "(19742, 40)"
      ]
     },
     "execution_count": 17,
     "metadata": {},
     "output_type": "execute_result"
    }
   ],
   "source": [
    "i = 5\n",
    "print CATEGORY_GROUPS_IN_QUESTION[i]\n",
    "df_orig = df_orig[df_orig.TYPE.isin(CATEGORY_GROUPS_IN_QUESTION[i])]\n",
    "df_orig.shape"
   ]
  },
  {
   "cell_type": "markdown",
   "metadata": {},
   "source": [
    "## Removing outliers\n",
    "\n",
    "A standard procedure is to remove values further than 3 standard deviations from the mean. Since I have so many low values and some very high values, I anecdotally think that the low values are very likely to be true, and the high values not so much.\n",
    "\n",
    "So, I will remove values further than 3 SDs from the median, by type.\n",
    "\n",
    "Ideally, I would take into account the time dimension. I would like to do so given more time."
   ]
  },
  {
   "cell_type": "code",
   "execution_count": 27,
   "metadata": {
    "collapsed": false
   },
   "outputs": [
    {
     "data": {
      "text/plain": [
       "(19613, 40)"
      ]
     },
     "execution_count": 27,
     "metadata": {},
     "output_type": "execute_result"
    }
   ],
   "source": [
    "df_outliers_removed = remove_outliers_by_type(df_orig, y_col='COMPLETION_HOURS_LOG_10')\n",
    "df_outliers_removed.shape"
   ]
  },
  {
   "cell_type": "markdown",
   "metadata": {},
   "source": [
    "## Remove `TYPE` col"
   ]
  },
  {
   "cell_type": "code",
   "execution_count": 28,
   "metadata": {
    "collapsed": true
   },
   "outputs": [],
   "source": [
    "df_outliers_removed.drop('TYPE', axis=1, inplace=True)"
   ]
  },
  {
   "cell_type": "markdown",
   "metadata": {},
   "source": [
    "## Choosing columns"
   ]
  },
  {
   "cell_type": "code",
   "execution_count": null,
   "metadata": {
    "collapsed": true
   },
   "outputs": [],
   "source": [
    "['race_black',\n",
    " 'race_asian',\n",
    " 'race_other',\n",
    " 'poverty_pop_below_poverty_level',\n",
    " 'earned_income_per_capita',\n",
    " 'poverty_pop_w_public_assistance',\n",
    " 'poverty_pop_w_food_stamps',\n",
    " 'school',\n",
    " 'school_std_dev',\n",
    " 'bedroom_std_dev',\n",
    " 'value',\n",
    " 'value_std_dev',\n",
    " 'rent',\n",
    " 'rent_std_dev',\n",
    " 'is_description',\n",
    " 'Source_Constituent Call']"
   ]
  },
  {
   "cell_type": "code",
   "execution_count": 147,
   "metadata": {
    "collapsed": true
   },
   "outputs": [],
   "source": [
    "cols_orig_dataset = ['COMPLETION_HOURS_LOG_10', 'SubmittedPhoto']\n",
    "cols_census = [\n",
    "     'race_black',\n",
    "     'race_asian',\n",
    "     'race_hispanic',\n",
    "     'race_other',\n",
    "     'housing',\n",
    "     'housing_std_dev',\n",
    "     'income',\n",
    "]\n",
    "cols_engineered = ['queue_wk', 'queue_wk_open']"
   ]
  },
  {
   "cell_type": "code",
   "execution_count": 148,
   "metadata": {
    "collapsed": false
   },
   "outputs": [
    {
     "data": {
      "text/plain": [
       "(19613, 11)"
      ]
     },
     "execution_count": 148,
     "metadata": {},
     "output_type": "execute_result"
    }
   ],
   "source": [
    "df = df_outliers_removed[cols_orig_dataset + cols_census + cols_engineered]\n",
    "df.shape"
   ]
  },
  {
   "cell_type": "markdown",
   "metadata": {},
   "source": [
    "## Removing NAs for cols like `school_std_dev`"
   ]
  },
  {
   "cell_type": "code",
   "execution_count": 149,
   "metadata": {
    "collapsed": false
   },
   "outputs": [
    {
     "name": "stdout",
     "output_type": "stream",
     "text": [
      "7    housing_std_dev\n",
      "Name: index, dtype: object\n"
     ]
    }
   ],
   "source": [
    "aa = df.isnull().any().reset_index()\n",
    "nas = aa[aa[0] == True]['index']\n",
    "print nas"
   ]
  },
  {
   "cell_type": "code",
   "execution_count": 150,
   "metadata": {
    "collapsed": false
   },
   "outputs": [
    {
     "data": {
      "text/plain": [
       "(19592, 11)"
      ]
     },
     "execution_count": 150,
     "metadata": {},
     "output_type": "execute_result"
    }
   ],
   "source": [
    "# this is a bad temporary band-aid\n",
    "df = df.dropna(subset=nas.tolist())\n",
    "df.shape"
   ]
  },
  {
   "cell_type": "markdown",
   "metadata": {},
   "source": [
    "## Dummify"
   ]
  },
  {
   "cell_type": "code",
   "execution_count": 151,
   "metadata": {
    "collapsed": false
   },
   "outputs": [
    {
     "data": {
      "text/plain": [
       "['housing']"
      ]
     },
     "execution_count": 151,
     "metadata": {},
     "output_type": "execute_result"
    }
   ],
   "source": [
    "cols_to_dummify = [i for i in df.dtypes[df.dtypes == object].index if i != 'TYPE']\n",
    "cols_to_dummify"
   ]
  },
  {
   "cell_type": "code",
   "execution_count": 152,
   "metadata": {
    "collapsed": false
   },
   "outputs": [
    {
     "name": "stdout",
     "output_type": "stream",
     "text": [
      "own is baseline 0 1\n"
     ]
    }
   ],
   "source": [
    "df_dummified, baseline_cols = dummify_cols_and_baselines(df, cols_to_dummify, chosen_col_i=2)"
   ]
  },
  {
   "cell_type": "code",
   "execution_count": 153,
   "metadata": {
    "collapsed": false
   },
   "outputs": [
    {
     "data": {
      "text/plain": [
       "(19592, 10)"
      ]
     },
     "execution_count": 153,
     "metadata": {},
     "output_type": "execute_result"
    }
   ],
   "source": [
    "df_dummified.shape"
   ]
  },
  {
   "cell_type": "markdown",
   "metadata": {},
   "source": [
    "## Checking for multicollinearity"
   ]
  },
  {
   "cell_type": "code",
   "execution_count": 96,
   "metadata": {
    "collapsed": true
   },
   "outputs": [
    {
     "data": {
      "text/html": [
       "<div>\n",
       "<table border=\"1\" class=\"dataframe\">\n",
       "  <thead>\n",
       "    <tr style=\"text-align: right;\">\n",
       "      <th></th>\n",
       "      <th>905400</th>\n",
       "    </tr>\n",
       "  </thead>\n",
       "  <tbody>\n",
       "    <tr>\n",
       "      <th>COMPLETION_HOURS_LOG_10</th>\n",
       "      <td>0.0124857</td>\n",
       "    </tr>\n",
       "    <tr>\n",
       "      <th>SubmittedPhoto</th>\n",
       "      <td>False</td>\n",
       "    </tr>\n",
       "    <tr>\n",
       "      <th>poverty_pop_below_poverty_level</th>\n",
       "      <td>0.262473</td>\n",
       "    </tr>\n",
       "    <tr>\n",
       "      <th>bedroom</th>\n",
       "      <td>2</td>\n",
       "    </tr>\n",
       "    <tr>\n",
       "      <th>queue_wk</th>\n",
       "      <td>12873</td>\n",
       "    </tr>\n",
       "    <tr>\n",
       "      <th>queue_wk_open</th>\n",
       "      <td>1</td>\n",
       "    </tr>\n",
       "    <tr>\n",
       "      <th>is_description</th>\n",
       "      <td>True</td>\n",
       "    </tr>\n",
       "  </tbody>\n",
       "</table>\n",
       "</div>"
      ],
      "text/plain": [
       "                                    905400\n",
       "COMPLETION_HOURS_LOG_10          0.0124857\n",
       "SubmittedPhoto                       False\n",
       "poverty_pop_below_poverty_level   0.262473\n",
       "bedroom                                  2\n",
       "queue_wk                             12873\n",
       "queue_wk_open                            1\n",
       "is_description                        True"
      ]
     },
     "execution_count": 96,
     "metadata": {},
     "output_type": "execute_result"
    }
   ],
   "source": [
    "df_dummified.head(1).T"
   ]
  },
  {
   "cell_type": "code",
   "execution_count": 42,
   "metadata": {
    "collapsed": false
   },
   "outputs": [
    {
     "data": {
      "text/plain": [
       "Source_Constituent Call            5.664920\n",
       "Source_Citizens Connect App        5.547692\n",
       "poverty_pop_w_food_stamps          4.154910\n",
       "race_black                         3.554310\n",
       "poverty_pop_below_poverty_level    3.483491\n",
       "earned_income_per_capita           2.809285\n",
       "income                             2.457612\n",
       "race_hispanic                      2.291167\n",
       "housing_std_dev                    2.281237\n",
       "school                             2.047018\n",
       "value_std_dev                      1.816185\n",
       "poverty_pop_w_ssi                  1.812270\n",
       "income_std_dev                     1.708968\n",
       "race_asian                         1.681416\n",
       "rent_std_dev                       1.614944\n",
       "school_std_dev                     1.594645\n",
       "rent                               1.555772\n",
       "poverty_pop_w_public_assistance    1.535030\n",
       "bedroom                            1.495423\n",
       "value                              1.401905\n",
       "queue_wk_open                      1.261100\n",
       "queue_wk                           1.235698\n",
       "bedroom_std_dev                    1.224154\n",
       "Property_Type_Address              1.154880\n",
       "race_other                         1.153305\n",
       "dtype: float64"
      ]
     },
     "execution_count": 42,
     "metadata": {},
     "output_type": "execute_result"
    }
   ],
   "source": [
    "get_vifs(df_dummified.drop(['SubmittedPhoto', 'is_description'], axis=1), 'COMPLETION_HOURS_LOG_10')"
   ]
  },
  {
   "cell_type": "markdown",
   "metadata": {},
   "source": [
    "## Running model"
   ]
  },
  {
   "cell_type": "code",
   "execution_count": 43,
   "metadata": {
    "collapsed": false
   },
   "outputs": [],
   "source": [
    "from sklearn.cross_validation import train_test_split\n",
    "from sklearn.pipeline import make_pipeline\n",
    "from sklearn.model_selection import GridSearchCV\n",
    "from sklearn.linear_model import LinearRegression, LassoCV\n",
    "from sklearn.cross_validation import ShuffleSplit\n",
    "from sklearn.preprocessing import StandardScaler\n",
    "from sklearn.metrics import mean_squared_error, r2_score\n",
    "import string\n",
    "from StringIO import StringIO\n"
   ]
  },
  {
   "cell_type": "code",
   "execution_count": 44,
   "metadata": {
    "collapsed": true
   },
   "outputs": [],
   "source": [
    "import statsmodels.api as sm\n",
    "import statsmodels.formula.api as smf"
   ]
  },
  {
   "cell_type": "code",
   "execution_count": 45,
   "metadata": {
    "collapsed": false
   },
   "outputs": [],
   "source": [
    "X_train, X_test, y_train, y_test = train_test_split(\n",
    "    df_dummified.drop('COMPLETION_HOURS_LOG_10', axis=1), \n",
    "    df_dummified.COMPLETION_HOURS_LOG_10, \n",
    "    test_size=0.2, \n",
    "    random_state=300\n",
    ")"
   ]
  },
  {
   "cell_type": "markdown",
   "metadata": {},
   "source": [
    "## Use LassoCV to find col subsets"
   ]
  },
  {
   "cell_type": "code",
   "execution_count": 46,
   "metadata": {
    "collapsed": true
   },
   "outputs": [],
   "source": [
    "pipe = make_pipeline(StandardScaler(), LassoCV())\n",
    "cv = ShuffleSplit(X_train.shape[0], n_iter=1, test_size=0.2, random_state=300)"
   ]
  },
  {
   "cell_type": "code",
   "execution_count": 48,
   "metadata": {
    "collapsed": false
   },
   "outputs": [
    {
     "data": {
      "text/html": [
       "<div>\n",
       "<table border=\"1\" class=\"dataframe\">\n",
       "  <thead>\n",
       "    <tr style=\"text-align: right;\">\n",
       "      <th></th>\n",
       "      <th>0</th>\n",
       "      <th>1</th>\n",
       "      <th>2</th>\n",
       "      <th>3</th>\n",
       "      <th>4</th>\n",
       "    </tr>\n",
       "  </thead>\n",
       "  <tbody>\n",
       "    <tr>\n",
       "      <th>mean_test_score</th>\n",
       "      <td>0.161499</td>\n",
       "      <td>0.158137</td>\n",
       "      <td>0.13944</td>\n",
       "      <td>0.0282893</td>\n",
       "      <td>-0.00161932</td>\n",
       "    </tr>\n",
       "    <tr>\n",
       "      <th>mean_train_score</th>\n",
       "      <td>0.149065</td>\n",
       "      <td>0.146333</td>\n",
       "      <td>0.131497</td>\n",
       "      <td>0.0302168</td>\n",
       "      <td>0</td>\n",
       "    </tr>\n",
       "    <tr>\n",
       "      <th>param_lassocv__alphas</th>\n",
       "      <td>[0.01]</td>\n",
       "      <td>[0.03]</td>\n",
       "      <td>[0.1]</td>\n",
       "      <td>[0.3]</td>\n",
       "      <td>[1.0]</td>\n",
       "    </tr>\n",
       "  </tbody>\n",
       "</table>\n",
       "</div>"
      ],
      "text/plain": [
       "                              0         1         2          3           4\n",
       "mean_test_score        0.161499  0.158137   0.13944  0.0282893 -0.00161932\n",
       "mean_train_score       0.149065  0.146333  0.131497  0.0302168           0\n",
       "param_lassocv__alphas    [0.01]    [0.03]     [0.1]      [0.3]       [1.0]"
      ]
     },
     "execution_count": 48,
     "metadata": {},
     "output_type": "execute_result"
    }
   ],
   "source": [
    "params = {'lassocv__alphas': make_alphas(-2, 0)}\n",
    "model = GridSearchCV(pipe, param_grid=params, n_jobs=-1, cv=cv, verbose=0)\n",
    "model.fit(X_train, y_train)\n",
    "pd.DataFrame(model.cv_results_).T.iloc[2:5]"
   ]
  },
  {
   "cell_type": "code",
   "execution_count": 49,
   "metadata": {
    "collapsed": false
   },
   "outputs": [
    {
     "data": {
      "text/plain": [
       "{'lassocv__alphas': [0.01]}"
      ]
     },
     "execution_count": 49,
     "metadata": {},
     "output_type": "execute_result"
    }
   ],
   "source": [
    "model.best_params_"
   ]
  },
  {
   "cell_type": "code",
   "execution_count": 50,
   "metadata": {
    "collapsed": false
   },
   "outputs": [
    {
     "data": {
      "text/plain": [
       "'16 cols go to zero out of 27'"
      ]
     },
     "execution_count": 50,
     "metadata": {},
     "output_type": "execute_result"
    }
   ],
   "source": [
    "'{} cols go to zero out of {}'.format(\n",
    "    len(X_train.columns[model.best_estimator_.steps[-1][-1].coef_ == 0]),\n",
    "    len(X_train.columns)\n",
    ")"
   ]
  },
  {
   "cell_type": "code",
   "execution_count": 51,
   "metadata": {
    "collapsed": false
   },
   "outputs": [
    {
     "data": {
      "text/plain": [
       "['race_black',\n",
       " 'race_asian',\n",
       " 'race_other',\n",
       " 'poverty_pop_below_poverty_level',\n",
       " 'earned_income_per_capita',\n",
       " 'poverty_pop_w_public_assistance',\n",
       " 'poverty_pop_w_food_stamps',\n",
       " 'school',\n",
       " 'school_std_dev',\n",
       " 'bedroom_std_dev',\n",
       " 'value',\n",
       " 'value_std_dev',\n",
       " 'rent',\n",
       " 'rent_std_dev',\n",
       " 'is_description',\n",
       " 'Source_Constituent Call']"
      ]
     },
     "execution_count": 51,
     "metadata": {},
     "output_type": "execute_result"
    }
   ],
   "source": [
    "cols_zero = list(X_train.columns[model.best_estimator_.steps[-1][-1].coef_ == 0])\n",
    "cols_zero"
   ]
  },
  {
   "cell_type": "markdown",
   "metadata": {},
   "source": [
    "## Use subsetted cols to run lin reg"
   ]
  },
  {
   "cell_type": "code",
   "execution_count": 154,
   "metadata": {
    "collapsed": false
   },
   "outputs": [],
   "source": [
    "df_dummified.columns = [col.translate(None, string.punctuation).replace(' ', '') if col != 'COMPLETION_HOURS_LOG_10' else col for col in df_dummified.columns]"
   ]
  },
  {
   "cell_type": "code",
   "execution_count": 155,
   "metadata": {
    "collapsed": false
   },
   "outputs": [],
   "source": [
    "X_train, X_test, y_train, y_test = train_test_split(\n",
    "    df_dummified.drop(['COMPLETION_HOURS_LOG_10'], axis=1), \n",
    "    df_dummified.COMPLETION_HOURS_LOG_10, \n",
    "    test_size=0.2, \n",
    "    random_state=300\n",
    ")"
   ]
  },
  {
   "cell_type": "code",
   "execution_count": 156,
   "metadata": {
    "collapsed": false,
    "scrolled": true
   },
   "outputs": [],
   "source": [
    "col_list = ' + '.join(df_dummified.drop(['COMPLETION_HOURS_LOG_10'], axis=1).columns)\n",
    "\n",
    "est = smf.ols(\n",
    "    'COMPLETION_HOURS_LOG_10 ~ {}'.format(col_list), \n",
    "    pd.concat([X_train, y_train], axis=1)).fit()"
   ]
  },
  {
   "cell_type": "code",
   "execution_count": 62,
   "metadata": {
    "collapsed": true
   },
   "outputs": [
    {
     "data": {
      "text/html": [
       "<table class=\"simpletable\">\n",
       "<caption>OLS Regression Results</caption>\n",
       "<tr>\n",
       "  <th>Dep. Variable:</th>    <td>COMPLETION_HOURS_LOG_10</td> <th>  R-squared:         </th> <td>   0.150</td> \n",
       "</tr>\n",
       "<tr>\n",
       "  <th>Model:</th>                      <td>OLS</td>           <th>  Adj. R-squared:    </th> <td>   0.149</td> \n",
       "</tr>\n",
       "<tr>\n",
       "  <th>Method:</th>                <td>Least Squares</td>      <th>  F-statistic:       </th> <td>   184.6</td> \n",
       "</tr>\n",
       "<tr>\n",
       "  <th>Date:</th>                <td>Thu, 23 Feb 2017</td>     <th>  Prob (F-statistic):</th>  <td>  0.00</td>  \n",
       "</tr>\n",
       "<tr>\n",
       "  <th>Time:</th>                    <td>08:43:13</td>         <th>  Log-Likelihood:    </th> <td> -28725.</td> \n",
       "</tr>\n",
       "<tr>\n",
       "  <th>No. Observations:</th>         <td> 15673</td>          <th>  AIC:               </th> <td>5.748e+04</td>\n",
       "</tr>\n",
       "<tr>\n",
       "  <th>Df Residuals:</th>             <td> 15657</td>          <th>  BIC:               </th> <td>5.761e+04</td>\n",
       "</tr>\n",
       "<tr>\n",
       "  <th>Df Model:</th>                 <td>    15</td>          <th>                     </th>     <td> </td>    \n",
       "</tr>\n",
       "<tr>\n",
       "  <th>Covariance Type:</th>         <td>nonrobust</td>        <th>                     </th>     <td> </td>    \n",
       "</tr>\n",
       "</table>"
      ],
      "text/plain": [
       "<class 'statsmodels.iolib.table.SimpleTable'>"
      ]
     },
     "execution_count": 62,
     "metadata": {},
     "output_type": "execute_result"
    }
   ],
   "source": [
    "est.summary().tables[0]"
   ]
  },
  {
   "cell_type": "markdown",
   "metadata": {},
   "source": [
    "### Getting adjusted $R^2$ on test set"
   ]
  },
  {
   "cell_type": "code",
   "execution_count": 157,
   "metadata": {
    "collapsed": false
   },
   "outputs": [],
   "source": [
    "y_pred = est.predict(X_test)"
   ]
  },
  {
   "cell_type": "code",
   "execution_count": 158,
   "metadata": {
    "collapsed": false
   },
   "outputs": [
    {
     "data": {
      "text/plain": [
       "0.13124416335893097"
      ]
     },
     "execution_count": 158,
     "metadata": {},
     "output_type": "execute_result"
    }
   ],
   "source": [
    "adjusted_r2(y_test, y_pred, num_features=X_test.shape[1])"
   ]
  },
  {
   "cell_type": "code",
   "execution_count": 159,
   "metadata": {
    "collapsed": false
   },
   "outputs": [
    {
     "data": {
      "text/plain": [
       "1.5541458521091562"
      ]
     },
     "execution_count": 159,
     "metadata": {},
     "output_type": "execute_result"
    }
   ],
   "source": [
    "mean_squared_error(y_test, y_pred)**0.5"
   ]
  },
  {
   "cell_type": "markdown",
   "metadata": {},
   "source": [
    "## Interpreting model\n",
    "\n",
    "Which features are most associated with completion time?"
   ]
  },
  {
   "cell_type": "code",
   "execution_count": 160,
   "metadata": {
    "collapsed": false
   },
   "outputs": [
    {
     "data": {
      "text/plain": [
       "(10, 7)"
      ]
     },
     "execution_count": 160,
     "metadata": {},
     "output_type": "execute_result"
    }
   ],
   "source": [
    "df_results = pd.read_csv(StringIO(est.summary().tables[1].as_csv()), index_col=0).reset_index()\n",
    "df_results.columns = ['coef_name'] + [i.rstrip().lstrip() for i in df_results.columns][1:]\n",
    "df_results['coef_abs'] = pd.np.abs(df_results.coef)\n",
    "df_results.coef_name = df_results.coef_name.map(lambda x: x.strip())\n",
    "df_results = df_results.sort_values('P>|t|')\n",
    "df_results.shape"
   ]
  },
  {
   "cell_type": "code",
   "execution_count": 161,
   "metadata": {
    "collapsed": false
   },
   "outputs": [
    {
     "data": {
      "text/html": [
       "<div>\n",
       "<table border=\"1\" class=\"dataframe\">\n",
       "  <thead>\n",
       "    <tr style=\"text-align: right;\">\n",
       "      <th></th>\n",
       "      <th>coef_name</th>\n",
       "      <th>coef</th>\n",
       "      <th>std err</th>\n",
       "      <th>t</th>\n",
       "      <th>P&gt;|t|</th>\n",
       "      <th>[95.0% Conf. Int.]</th>\n",
       "      <th>coef_abs</th>\n",
       "    </tr>\n",
       "  </thead>\n",
       "  <tbody>\n",
       "    <tr>\n",
       "      <th>0</th>\n",
       "      <td>Intercept</td>\n",
       "      <td>1.542300e+00</td>\n",
       "      <td>5.700000e-02</td>\n",
       "      <td>26.914</td>\n",
       "      <td>0.000</td>\n",
       "      <td>1.430     1.655</td>\n",
       "      <td>1.542300e+00</td>\n",
       "    </tr>\n",
       "    <tr>\n",
       "      <th>1</th>\n",
       "      <td>SubmittedPhoto[T.True]</td>\n",
       "      <td>-1.163400e+00</td>\n",
       "      <td>4.400000e-02</td>\n",
       "      <td>-26.258</td>\n",
       "      <td>0.000</td>\n",
       "      <td>-1.250    -1.077</td>\n",
       "      <td>1.163400e+00</td>\n",
       "    </tr>\n",
       "    <tr>\n",
       "      <th>4</th>\n",
       "      <td>racehispanic</td>\n",
       "      <td>3.092000e-01</td>\n",
       "      <td>8.000000e-02</td>\n",
       "      <td>3.868</td>\n",
       "      <td>0.000</td>\n",
       "      <td>0.153     0.466</td>\n",
       "      <td>3.092000e-01</td>\n",
       "    </tr>\n",
       "    <tr>\n",
       "      <th>6</th>\n",
       "      <td>housingstddev</td>\n",
       "      <td>2.673000e-01</td>\n",
       "      <td>7.300000e-02</td>\n",
       "      <td>3.676</td>\n",
       "      <td>0.000</td>\n",
       "      <td>0.125     0.410</td>\n",
       "      <td>2.673000e-01</td>\n",
       "    </tr>\n",
       "    <tr>\n",
       "      <th>8</th>\n",
       "      <td>queuewk</td>\n",
       "      <td>-8.355000e-05</td>\n",
       "      <td>2.510000e-06</td>\n",
       "      <td>-33.241</td>\n",
       "      <td>0.000</td>\n",
       "      <td>-8.85e-05 -7.86e-05</td>\n",
       "      <td>8.355000e-05</td>\n",
       "    </tr>\n",
       "    <tr>\n",
       "      <th>9</th>\n",
       "      <td>queuewkopen</td>\n",
       "      <td>2.200000e-03</td>\n",
       "      <td>6.780000e-05</td>\n",
       "      <td>32.156</td>\n",
       "      <td>0.000</td>\n",
       "      <td>0.002     0.002</td>\n",
       "      <td>2.200000e-03</td>\n",
       "    </tr>\n",
       "    <tr>\n",
       "      <th>7</th>\n",
       "      <td>income</td>\n",
       "      <td>4.302000e-07</td>\n",
       "      <td>2.280000e-07</td>\n",
       "      <td>1.890</td>\n",
       "      <td>0.059</td>\n",
       "      <td>-1.59e-08  8.76e-07</td>\n",
       "      <td>4.302000e-07</td>\n",
       "    </tr>\n",
       "    <tr>\n",
       "      <th>5</th>\n",
       "      <td>raceother</td>\n",
       "      <td>-1.895000e-01</td>\n",
       "      <td>2.300000e-01</td>\n",
       "      <td>-0.824</td>\n",
       "      <td>0.410</td>\n",
       "      <td>-0.640     0.261</td>\n",
       "      <td>1.895000e-01</td>\n",
       "    </tr>\n",
       "    <tr>\n",
       "      <th>2</th>\n",
       "      <td>raceblack</td>\n",
       "      <td>4.060000e-02</td>\n",
       "      <td>5.200000e-02</td>\n",
       "      <td>0.789</td>\n",
       "      <td>0.430</td>\n",
       "      <td>-0.060     0.142</td>\n",
       "      <td>4.060000e-02</td>\n",
       "    </tr>\n",
       "    <tr>\n",
       "      <th>3</th>\n",
       "      <td>raceasian</td>\n",
       "      <td>8.040000e-02</td>\n",
       "      <td>1.290000e-01</td>\n",
       "      <td>0.622</td>\n",
       "      <td>0.534</td>\n",
       "      <td>-0.173     0.334</td>\n",
       "      <td>8.040000e-02</td>\n",
       "    </tr>\n",
       "  </tbody>\n",
       "</table>\n",
       "</div>"
      ],
      "text/plain": [
       "                coef_name          coef       std err       t  P>|t|  \\\n",
       "0               Intercept  1.542300e+00  5.700000e-02  26.914  0.000   \n",
       "1  SubmittedPhoto[T.True] -1.163400e+00  4.400000e-02 -26.258  0.000   \n",
       "4            racehispanic  3.092000e-01  8.000000e-02   3.868  0.000   \n",
       "6           housingstddev  2.673000e-01  7.300000e-02   3.676  0.000   \n",
       "8                 queuewk -8.355000e-05  2.510000e-06 -33.241  0.000   \n",
       "9             queuewkopen  2.200000e-03  6.780000e-05  32.156  0.000   \n",
       "7                  income  4.302000e-07  2.280000e-07   1.890  0.059   \n",
       "5               raceother -1.895000e-01  2.300000e-01  -0.824  0.410   \n",
       "2               raceblack  4.060000e-02  5.200000e-02   0.789  0.430   \n",
       "3               raceasian  8.040000e-02  1.290000e-01   0.622  0.534   \n",
       "\n",
       "    [95.0% Conf. Int.]      coef_abs  \n",
       "0      1.430     1.655  1.542300e+00  \n",
       "1     -1.250    -1.077  1.163400e+00  \n",
       "4      0.153     0.466  3.092000e-01  \n",
       "6      0.125     0.410  2.673000e-01  \n",
       "8  -8.85e-05 -7.86e-05  8.355000e-05  \n",
       "9      0.002     0.002  2.200000e-03  \n",
       "7  -1.59e-08  8.76e-07  4.302000e-07  \n",
       "5     -0.640     0.261  1.895000e-01  \n",
       "2     -0.060     0.142  4.060000e-02  \n",
       "3     -0.173     0.334  8.040000e-02  "
      ]
     },
     "execution_count": 161,
     "metadata": {},
     "output_type": "execute_result"
    }
   ],
   "source": [
    "df_results"
   ]
  },
  {
   "cell_type": "code",
   "execution_count": 114,
   "metadata": {
    "collapsed": false
   },
   "outputs": [
    {
     "data": {
      "text/plain": [
       "[('SubmittedPhoto', 22.240000000000002),\n",
       " ('raceother', 21.532),\n",
       " ('incomestddev', 21.319),\n",
       " ('PropertyTypeAddress', 21.227),\n",
       " ('raceblack', 21.206),\n",
       " ('raceasian', 21.201999999999998),\n",
       " ('income', 20.637999999999998),\n",
       " ('housingstddev', 20.397),\n",
       " ('queuewk', 19.708),\n",
       " ('queuewkopen', 19.341),\n",
       " ('racehispanic', 18.389)]"
      ]
     },
     "execution_count": 114,
     "metadata": {},
     "output_type": "execute_result"
    }
   ],
   "source": [
    "scores = []\n",
    "\n",
    "for col in X_train.columns:\n",
    "    if col != 'Intercept':\n",
    "        score = remove_one_feature([col], df_dummified)\n",
    "        scores.append((col, score))\n",
    "        \n",
    "sorted(scores, key=lambda x: x[1])[::-1]        "
   ]
  }
 ],
 "metadata": {
  "anaconda-cloud": {},
  "kernelspec": {
   "display_name": "Python [default]",
   "language": "python",
   "name": "python2"
  },
  "language_info": {
   "codemirror_mode": {
    "name": "ipython",
    "version": 2
   },
   "file_extension": ".py",
   "mimetype": "text/x-python",
   "name": "python",
   "nbconvert_exporter": "python",
   "pygments_lexer": "ipython2",
   "version": "2.7.12"
  }
 },
 "nbformat": 4,
 "nbformat_minor": 2
}
