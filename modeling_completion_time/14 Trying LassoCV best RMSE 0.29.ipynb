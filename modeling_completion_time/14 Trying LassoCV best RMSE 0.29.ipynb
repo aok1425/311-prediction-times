{
 "cells": [
  {
   "cell_type": "markdown",
   "metadata": {},
   "source": [
    "## Objective\n",
    "\n",
    "Using L1 Lasso regularization, let's run a GridSearch to find the best model for each category. We should get better performance for most of the models, and see more useful feature subset selection.\n",
    "\n",
    "## Conclusion\n",
    "\n",
    "Our highest $R^2$ for each of the models by category is 0.43, which is worse than the $R^2$ of our overall model, 0.56. I'm not sure why, but for now I will table the idea of sub-models.\n",
    "\n",
    "Maybe models for groups of categories might be appropriate."
   ]
  },
  {
   "cell_type": "code",
   "execution_count": 6,
   "metadata": {
    "collapsed": false
   },
   "outputs": [],
   "source": [
    "from __future__ import division\n",
    "import pandas as pd\n",
    "import numpy as np\n",
    "import warnings\n",
    "import seaborn as sns\n",
    "import matplotlib.pyplot as plt\n",
    "from pylab import rcParams\n",
    "%matplotlib inline\n",
    "from tqdm import tqdm\n",
    "\n",
    "warnings.filterwarnings(\"ignore\", category=DeprecationWarning)\n",
    "sns.set_style(\"whitegrid\")\n",
    "sns.set_context(\"poster\")\n",
    "# rcParams['figure.figsize'] = 20, 5\n",
    "\n",
    "import os, sys\n",
    "sys.path.append(os.path.join(os.path.dirname('.'), \"../preprocessing\"))\n",
    "from helper_functions import dummify_cols_and_baselines, make_alphas, remove_outliers_by_type, choose_race_mode, transform_school"
   ]
  },
  {
   "cell_type": "code",
   "execution_count": 7,
   "metadata": {
    "collapsed": false
   },
   "outputs": [
    {
     "data": {
      "text/plain": [
       "(516406, 40)"
      ]
     },
     "execution_count": 7,
     "metadata": {},
     "output_type": "execute_result"
    }
   ],
   "source": [
    "df_orig = pd.read_pickle('../data/data_from_remove_from_dataset.pkl')\n",
    "df_orig.shape"
   ]
  },
  {
   "cell_type": "markdown",
   "metadata": {},
   "source": [
    "## Removing outliers\n",
    "\n",
    "A standard procedure is to remove values further than 3 standard deviations from the mean. Since I have so many low values and some very high values, I anecdotally think that the low values are very likely to be true, and the high values not so much.\n",
    "\n",
    "So, I will remove values further than 3 SDs from the median, by type.\n",
    "\n",
    "Ideally, I would take into account the time dimension. I would like to do so given more time."
   ]
  },
  {
   "cell_type": "code",
   "execution_count": 8,
   "metadata": {
    "collapsed": false
   },
   "outputs": [
    {
     "name": "stderr",
     "output_type": "stream",
     "text": [
      "../preprocessing/helper_functions.py:32: SettingWithCopyWarning: \n",
      "A value is trying to be set on a copy of a slice from a DataFrame.\n",
      "Try using .loc[row_indexer,col_indexer] = value instead\n",
      "\n",
      "See the caveats in the documentation: http://pandas.pydata.org/pandas-docs/stable/indexing.html#indexing-view-versus-copy\n",
      "  group[pd.np.abs(group - group.median()) > stds * group.std()] = pd.np.nan\n",
      "/home/ubuntu/anaconda2/lib/python2.7/site-packages/pandas/core/frame.py:2392: SettingWithCopyWarning: \n",
      "A value is trying to be set on a copy of a slice from a DataFrame\n",
      "\n",
      "See the caveats in the documentation: http://pandas.pydata.org/pandas-docs/stable/indexing.html#indexing-view-versus-copy\n",
      "  self.where(-key, value, inplace=True)\n"
     ]
    },
    {
     "data": {
      "text/plain": [
       "(508653, 40)"
      ]
     },
     "execution_count": 8,
     "metadata": {},
     "output_type": "execute_result"
    }
   ],
   "source": [
    "df_outliers_removed = remove_outliers_by_type(df_orig, y_col='COMPLETION_HOURS_LOG_10')\n",
    "df_outliers_removed.shape"
   ]
  },
  {
   "cell_type": "markdown",
   "metadata": {},
   "source": [
    "I'm removing ~1.5% of my rows."
   ]
  },
  {
   "cell_type": "markdown",
   "metadata": {},
   "source": [
    "## Transformations"
   ]
  },
  {
   "cell_type": "code",
   "execution_count": 9,
   "metadata": {
    "collapsed": false
   },
   "outputs": [
    {
     "name": "stderr",
     "output_type": "stream",
     "text": [
      "../preprocessing/helper_functions.py:53: FutureWarning: currently extract(expand=None) means expand=False (return Index/Series/DataFrame) but in a future version of pandas this will be changed to expand=True (return DataFrame)\n",
      "  df.school = df.school.str.extract(r'(\\d\\d?)').astype(int)\n"
     ]
    },
    {
     "data": {
      "text/plain": [
       "(508653, 40)"
      ]
     },
     "execution_count": 9,
     "metadata": {},
     "output_type": "execute_result"
    }
   ],
   "source": [
    "df2 = transform_school(df_outliers_removed)\n",
    "df2.shape"
   ]
  },
  {
   "cell_type": "markdown",
   "metadata": {},
   "source": [
    "## Choosing columns"
   ]
  },
  {
   "cell_type": "code",
   "execution_count": 11,
   "metadata": {
    "collapsed": true
   },
   "outputs": [],
   "source": [
    "cols_orig_dataset = ['COMPLETION_HOURS_LOG_10', 'TYPE', 'SubmittedPhoto', 'Property_Type', 'Source', 'neighborhood_from_zip']\n",
    "cols_census = ['race_white',\n",
    "     'race_black',\n",
    "     'race_asian',\n",
    "     'race_hispanic',\n",
    "     'race_other',\n",
    "     'poverty_pop_below_poverty_level',\n",
    "     'earned_income_per_capita',\n",
    "     'poverty_pop_w_public_assistance',\n",
    "     'poverty_pop_w_food_stamps',\n",
    "     'poverty_pop_w_ssi',\n",
    "     'school',\n",
    "     'school_std_dev',\n",
    "     'housing',\n",
    "     'housing_std_dev',\n",
    "     'bedroom',\n",
    "     'bedroom_std_dev',\n",
    "     'value',\n",
    "     'value_std_dev',\n",
    "     'rent',\n",
    "     'rent_std_dev',\n",
    "     'income',\n",
    "     'income_std_dev']\n",
    "cols_engineered = ['queue_wk', 'queue_wk_open', 'is_description']"
   ]
  },
  {
   "cell_type": "code",
   "execution_count": 12,
   "metadata": {
    "collapsed": false
   },
   "outputs": [],
   "source": [
    "df = df2[cols_orig_dataset + cols_census + cols_engineered]"
   ]
  },
  {
   "cell_type": "markdown",
   "metadata": {},
   "source": [
    "## Dummify"
   ]
  },
  {
   "cell_type": "code",
   "execution_count": 13,
   "metadata": {
    "collapsed": false
   },
   "outputs": [
    {
     "data": {
      "text/plain": [
       "['Property_Type', 'Source', 'neighborhood_from_zip', 'housing']"
      ]
     },
     "execution_count": 13,
     "metadata": {},
     "output_type": "execute_result"
    }
   ],
   "source": [
    "cols_to_dummify = [i for i in df.dtypes[df.dtypes == object].index if i != 'TYPE']\n",
    "cols_to_dummify"
   ]
  },
  {
   "cell_type": "code",
   "execution_count": 14,
   "metadata": {
    "collapsed": false
   },
   "outputs": [
    {
     "name": "stdout",
     "output_type": "stream",
     "text": [
      "other is baseline 0 4\n",
      "Twitter is baseline 1 4\n",
      "West Roxbury is baseline 2 4\n",
      "rent is baseline 3 4\n"
     ]
    }
   ],
   "source": [
    "df_dummified, baseline_cols = dummify_cols_and_baselines(df, cols_to_dummify)"
   ]
  },
  {
   "cell_type": "code",
   "execution_count": 15,
   "metadata": {
    "collapsed": false
   },
   "outputs": [
    {
     "data": {
      "text/plain": [
       "(508653, 54)"
      ]
     },
     "execution_count": 15,
     "metadata": {},
     "output_type": "execute_result"
    }
   ],
   "source": [
    "df_dummified.shape"
   ]
  },
  {
   "cell_type": "markdown",
   "metadata": {},
   "source": [
    "## Running model"
   ]
  },
  {
   "cell_type": "code",
   "execution_count": 16,
   "metadata": {
    "collapsed": true
   },
   "outputs": [],
   "source": [
    "# these categs have less than 100 total issues\n",
    "categ_blacklist = set(['Fire in Food Establishment',\n",
    " 'BWSC Pothole',\n",
    " 'Animal Lost',\n",
    " 'Carbon Monoxide',\n",
    " 'City/State Snow Issues',\n",
    " 'Bicycle Issues',\n",
    " 'Illegal Use',\n",
    " 'No Utilities Residential - Gas',\n",
    " 'Cemetery Maintenance Request',\n",
    " 'Snow Removal',\n",
    " 'Mosquitoes (West Nile)',\n",
    " 'Roadway Flooding',\n",
    " 'Illegal Vending',\n",
    " 'Occupying W/Out A Valid CO/CI',\n",
    " 'Bridge Maintenance',\n",
    " 'Billing Complaint',\n",
    " 'Phone Bank Service Inquiry',\n",
    " 'Animal Noise Disturbances',\n",
    " 'Planting',\n",
    " 'No Price on Gas/Wrong Price',\n",
    " 'Rat Bite',\n",
    " 'Item Price Missing',\n",
    " 'Student Overcrowding',\n",
    " 'Scanning Overcharge',\n",
    " 'Big Buildings Online Request',\n",
    " 'Checkin',\n",
    " 'Municipal Parking Lot Complaints',\n",
    " 'Valet Parking Problems',\n",
    " 'Poor Ventilation',\n",
    " 'OCR Metrolist',\n",
    " 'No Utilities - Food Establishment - Sewer',\n",
    " 'No Utilities - Food Establishment - Water',\n",
    " 'Unit Pricing Wrong/Missing',\n",
    " 'Snow/Ice Control',\n",
    " 'Fire Department Request',\n",
    " 'Loud Parties/Music/People',\n",
    " 'No Utilities - Food Establishment - Flood',\n",
    " 'Sign Shop WO',\n",
    " 'Walk-In Service Inquiry',\n",
    " 'No Utilities - Food Establishment - Electricity',\n",
    " 'Product Short Measure',\n",
    " 'Private Parking Lot Complaints',\n",
    " 'Alert Boston',\n",
    " 'Rooftop & Mechanical Disturbances',\n",
    " 'Water in Gas - High Priority',\n",
    " 'Dumpster & Loading Noise Disturbances',\n",
    " 'CE Collection',\n",
    " 'One Boston Day',\n",
    " 'WC Call Log',\n",
    " 'Undefined Noise Disturbance',\n",
    " 'Idea Collection',\n",
    " 'Yardwaste Asian Longhorned Beetle Affected Area',\n",
    " 'Scale Not Visible',\n",
    " 'Follow-Up',\n",
    " 'News Boxes',\n",
    " 'Automotive Noise Disturbance',\n",
    " 'Downed Wire',\n",
    " 'Public Events Noise Disturbances',\n",
    " 'Senior Shoveling',\n",
    " 'HP Sign Application New',\n",
    " 'Heat/Fuel Assistance',\n",
    " 'Knockdown Replacement',\n",
    " 'Utility Casting Repair',\n",
    " 'Transfer Not Completed',\n",
    " 'New Tree Warrantee Inspection',\n",
    " 'HP Sign Application Renewal',\n",
    " 'ADA'])"
   ]
  },
  {
   "cell_type": "code",
   "execution_count": 17,
   "metadata": {
    "collapsed": true
   },
   "outputs": [],
   "source": [
    "# top 10 r2s\n",
    "\n",
    "whitelist = set(['Recycling Cart Return',\n",
    " 'Recycling Cart Inquiry',\n",
    " 'Misc. Snow Complaint',\n",
    " 'Request for Snow Plowing',\n",
    " 'Notification',\n",
    " 'Illegal Auto Body Shop',\n",
    " 'Request for Snow Plowing (Emergency Responder)',\n",
    " 'Empty Litter Basket',\n",
    " 'Electrical',\n",
    " 'Needle Pickup'])"
   ]
  },
  {
   "cell_type": "code",
   "execution_count": 18,
   "metadata": {
    "collapsed": false
   },
   "outputs": [
    {
     "name": "stderr",
     "output_type": "stream",
     "text": [
      "/home/ubuntu/anaconda2/lib/python2.7/site-packages/sklearn/cross_validation.py:44: DeprecationWarning: This module was deprecated in version 0.18 in favor of the model_selection module into which all the refactored classes and functions are moved. Also note that the interface of the new CV iterators are different from that of this module. This module will be removed in 0.20.\n",
      "  \"This module will be removed in 0.20.\", DeprecationWarning)\n"
     ]
    }
   ],
   "source": [
    "from sklearn.cross_validation import train_test_split\n",
    "from sklearn.pipeline import make_pipeline\n",
    "from sklearn.model_selection import GridSearchCV\n",
    "from sklearn.linear_model import LinearRegression, LassoCV\n",
    "from sklearn.cross_validation import ShuffleSplit\n",
    "from sklearn.preprocessing import StandardScaler\n",
    "from sklearn.metrics import mean_squared_error, r2_score\n"
   ]
  },
  {
   "cell_type": "code",
   "execution_count": 19,
   "metadata": {
    "collapsed": false
   },
   "outputs": [],
   "source": [
    "categs = set(df_dummified.TYPE.drop_duplicates().tolist())"
   ]
  },
  {
   "cell_type": "code",
   "execution_count": 20,
   "metadata": {
    "collapsed": false
   },
   "outputs": [
    {
     "data": {
      "text/plain": [
       "count    508653.000000\n",
       "mean          1.719541\n",
       "std           1.117803\n",
       "min          -2.954243\n",
       "25%           1.354471\n",
       "50%           1.865834\n",
       "75%           2.374271\n",
       "max           4.662771\n",
       "Name: COMPLETION_HOURS_LOG_10, dtype: float64"
      ]
     },
     "execution_count": 20,
     "metadata": {},
     "output_type": "execute_result"
    }
   ],
   "source": [
    "df.COMPLETION_HOURS_LOG_10.describe()"
   ]
  },
  {
   "cell_type": "code",
   "execution_count": null,
   "metadata": {
    "collapsed": false
   },
   "outputs": [],
   "source": [
    "df[df.TYPE == 'Recycling Cart Return'].COMPLETION_HOURS_LOG_10.describe()"
   ]
  },
  {
   "cell_type": "code",
   "execution_count": 73,
   "metadata": {
    "collapsed": false
   },
   "outputs": [],
   "source": [
    "def run_gridsearch(df_orig, categ):\n",
    "    df = df_orig[df_orig.TYPE == categ].drop('TYPE', axis=1)\n",
    "    \n",
    "    X_train, X_test, y_train, y_test = train_test_split(\n",
    "        df.drop('COMPLETION_HOURS_LOG_10', axis=1), \n",
    "        df.COMPLETION_HOURS_LOG_10, \n",
    "        test_size=0.2, \n",
    "        random_state=300\n",
    "    )\n",
    "\n",
    "    pipe = make_pipeline(StandardScaler(), LassoCV())\n",
    "    # cv = ShuffleSplit(X_train.shape[0], n_iter=10, test_size=0.2, random_state=300)\n",
    "\n",
    "    params = {'lassocv__alphas': make_alphas(-4, 4)}\n",
    "    model = GridSearchCV(pipe, param_grid=params, n_jobs=-1, cv=5, verbose=False)\n",
    "    model.fit(X_train, y_train)\n",
    "    \n",
    "    y_pred = model.predict(X_test)\n",
    "\n",
    "    results = pd.DataFrame(model.cv_results_).T\n",
    "    best_estimator = model.best_estimator_.steps[-1][-1]\n",
    "    rmse = mean_squared_error(y_test, y_pred)**0.5\n",
    "    \n",
    "    return { categ: {\n",
    "        'result': results,\n",
    "        'best_params': model.best_params_,\n",
    "        'best_estimator': best_estimator,\n",
    "        'best_score': model.best_score_,\n",
    "        'rmse': rmse\n",
    "    }}"
   ]
  },
  {
   "cell_type": "code",
   "execution_count": 89,
   "metadata": {
    "collapsed": false,
    "scrolled": true
   },
   "outputs": [
    {
     "name": "stderr",
     "output_type": "stream",
     "text": [
      "100%|██████████| 125/125 [10:45<00:00,  4.84s/it]\n"
     ]
    }
   ],
   "source": [
    "results = {}\n",
    "categs_in_question = categs.union(whitelist) - categ_blacklist\n",
    "# categs_in_question = whitelist\n",
    "# categs_in_question = ['Illegal Auto Body Shop']\n",
    "\n",
    "for categ in tqdm(categs_in_question):\n",
    "    result = run_gridsearch(df_dummified, categ)\n",
    "    results.update(result)"
   ]
  },
  {
   "cell_type": "code",
   "execution_count": 102,
   "metadata": {
    "collapsed": true
   },
   "outputs": [],
   "source": [
    "def make_results_table(results_dict):\n",
    "    r = {}\n",
    "\n",
    "    for categ, result in results.iteritems():\n",
    "        r[categ] = result['result'].loc['mean_test_score'].max()\n",
    "\n",
    "    df_num_issues = df[['TYPE', 'Source']].groupby('TYPE').count().reset_index()\n",
    "    df_num_issues.columns = ['categ', 'num_issues']\n",
    "\n",
    "    df_results = pd.DataFrame(r.items(), columns=['categ', 'r2'])\n",
    "    df_results['rmse'] = df_results.categ.map(lambda categ: results[categ]['rmse'])\n",
    "    df_results = df_results.sort_values('rmse')\n",
    "\n",
    "    ans = df_results.merge(df_num_issues, on='categ', how='left')\n",
    "    return ans"
   ]
  },
  {
   "cell_type": "code",
   "execution_count": 105,
   "metadata": {
    "collapsed": false
   },
   "outputs": [
    {
     "data": {
      "text/html": [
       "<div>\n",
       "<table border=\"1\" class=\"dataframe\">\n",
       "  <thead>\n",
       "    <tr style=\"text-align: right;\">\n",
       "      <th></th>\n",
       "      <th>categ</th>\n",
       "      <th>r2</th>\n",
       "      <th>rmse</th>\n",
       "      <th>num_issues</th>\n",
       "    </tr>\n",
       "  </thead>\n",
       "  <tbody>\n",
       "    <tr>\n",
       "      <th>0</th>\n",
       "      <td>Unsanitary Conditions - Employees</td>\n",
       "      <td>-0.049050</td>\n",
       "      <td>0.290990</td>\n",
       "      <td>192</td>\n",
       "    </tr>\n",
       "    <tr>\n",
       "      <th>1</th>\n",
       "      <td>Schedule a Bulk Item Pickup SS</td>\n",
       "      <td>0.077196</td>\n",
       "      <td>0.294869</td>\n",
       "      <td>20925</td>\n",
       "    </tr>\n",
       "    <tr>\n",
       "      <th>2</th>\n",
       "      <td>Food Alert - Confirmed</td>\n",
       "      <td>0.015117</td>\n",
       "      <td>0.318033</td>\n",
       "      <td>340</td>\n",
       "    </tr>\n",
       "    <tr>\n",
       "      <th>3</th>\n",
       "      <td>Notification</td>\n",
       "      <td>0.368611</td>\n",
       "      <td>0.327298</td>\n",
       "      <td>4599</td>\n",
       "    </tr>\n",
       "    <tr>\n",
       "      <th>4</th>\n",
       "      <td>Schedule a Bulk Item Pickup</td>\n",
       "      <td>0.098656</td>\n",
       "      <td>0.328038</td>\n",
       "      <td>62975</td>\n",
       "    </tr>\n",
       "  </tbody>\n",
       "</table>\n",
       "</div>"
      ],
      "text/plain": [
       "                               categ        r2      rmse  num_issues\n",
       "0  Unsanitary Conditions - Employees -0.049050  0.290990         192\n",
       "1     Schedule a Bulk Item Pickup SS  0.077196  0.294869       20925\n",
       "2             Food Alert - Confirmed  0.015117  0.318033         340\n",
       "3                       Notification  0.368611  0.327298        4599\n",
       "4        Schedule a Bulk Item Pickup  0.098656  0.328038       62975"
      ]
     },
     "execution_count": 105,
     "metadata": {},
     "output_type": "execute_result"
    }
   ],
   "source": [
    "df_results = make_results_table(results)\n",
    "df_results.head()"
   ]
  },
  {
   "cell_type": "code",
   "execution_count": 106,
   "metadata": {
    "collapsed": false
   },
   "outputs": [],
   "source": [
    "# import pickle\n",
    "# with open('../data/lasso_q2_ea_model_results.pkl','w') as f:\n",
    "#     pickle.dump(results, f)"
   ]
  },
  {
   "cell_type": "code",
   "execution_count": 121,
   "metadata": {
    "collapsed": false
   },
   "outputs": [
    {
     "data": {
      "image/png": "[encoded data removed]",
      "text/plain": [
       "<matplotlib.figure.Figure at 0x7fd5ff4989d0>"
      ]
     },
     "metadata": {},
     "output_type": "display_data"
    }
   ],
   "source": [
    "ax = sns.regplot(x='r2', y='num_issues', data=df_results, fit_reg=False)\n",
    "ax.set_yscale('log')\n",
    "ax.set_title('Little correlation btwn the # of issues and performance of model');"
   ]
  },
  {
   "cell_type": "markdown",
   "metadata": {},
   "source": [
    "### How many coefficients go to 0?"
   ]
  },
  {
   "cell_type": "code",
   "execution_count": 114,
   "metadata": {
    "collapsed": true
   },
   "outputs": [],
   "source": [
    "model_coefs = results[\"Schedule a Bulk Item Pickup SS\"]['best_estimator'].coef_\n",
    "cols = df_dummified.head(1).drop(['TYPE', 'COMPLETION_HOURS_LOG_10'], axis=1).columns"
   ]
  },
  {
   "cell_type": "code",
   "execution_count": 109,
   "metadata": {
    "collapsed": false
   },
   "outputs": [
    {
     "data": {
      "text/plain": [
       "count    52.000000\n",
       "mean     -0.004220\n",
       "std       0.012915\n",
       "min      -0.039342\n",
       "25%      -0.011746\n",
       "50%      -0.000657\n",
       "75%       0.001593\n",
       "max       0.039918\n",
       "dtype: float64"
      ]
     },
     "execution_count": 109,
     "metadata": {},
     "output_type": "execute_result"
    }
   ],
   "source": [
    "pd.Series(model_coefs).describe()"
   ]
  },
  {
   "cell_type": "code",
   "execution_count": 113,
   "metadata": {
    "collapsed": false
   },
   "outputs": [
    {
     "data": {
      "text/plain": [
       "42"
      ]
     },
     "execution_count": 113,
     "metadata": {},
     "output_type": "execute_result"
    }
   ],
   "source": [
    "len(cols[model_coefs != 0])"
   ]
  },
  {
   "cell_type": "code",
   "execution_count": 115,
   "metadata": {
    "collapsed": false
   },
   "outputs": [
    {
     "data": {
      "text/plain": [
       "52"
      ]
     },
     "execution_count": 115,
     "metadata": {},
     "output_type": "execute_result"
    }
   ],
   "source": [
    "len(cols)"
   ]
  },
  {
   "cell_type": "code",
   "execution_count": 117,
   "metadata": {
    "collapsed": false
   },
   "outputs": [
    {
     "data": {
      "text/plain": [
       "{'lassocv__alphas': [0.00030000000000000003]}"
      ]
     },
     "execution_count": 117,
     "metadata": {},
     "output_type": "execute_result"
    }
   ],
   "source": [
    "results[\"Schedule a Bulk Item Pickup SS\"]['best_params']"
   ]
  },
  {
   "cell_type": "markdown",
   "metadata": {},
   "source": [
    "10 are 0 at `α=0.0003`.\n",
    "\n",
    "### Looking at most important coefs for completion time for `Schedule a Bulk Item Pickup SS`"
   ]
  },
  {
   "cell_type": "code",
   "execution_count": 119,
   "metadata": {
    "collapsed": false
   },
   "outputs": [
    {
     "data": {
      "text/html": [
       "<div>\n",
       "<table border=\"1\" class=\"dataframe\">\n",
       "  <thead>\n",
       "    <tr style=\"text-align: right;\">\n",
       "      <th></th>\n",
       "      <th>coef</th>\n",
       "      <th>name</th>\n",
       "      <th>coef_abs</th>\n",
       "    </tr>\n",
       "  </thead>\n",
       "  <tbody>\n",
       "    <tr>\n",
       "      <th>23</th>\n",
       "      <td>3.991777e-02</td>\n",
       "      <td>queue_wk_open</td>\n",
       "      <td>3.991777e-02</td>\n",
       "    </tr>\n",
       "    <tr>\n",
       "      <th>49</th>\n",
       "      <td>-3.934187e-02</td>\n",
       "      <td>neighborhood_from_zip_South End</td>\n",
       "      <td>3.934187e-02</td>\n",
       "    </tr>\n",
       "    <tr>\n",
       "      <th>46</th>\n",
       "      <td>-2.814619e-02</td>\n",
       "      <td>neighborhood_from_zip_Roxbury</td>\n",
       "      <td>2.814619e-02</td>\n",
       "    </tr>\n",
       "    <tr>\n",
       "      <th>31</th>\n",
       "      <td>-2.586582e-02</td>\n",
       "      <td>neighborhood_from_zip_Back Bay</td>\n",
       "      <td>2.586582e-02</td>\n",
       "    </tr>\n",
       "    <tr>\n",
       "      <th>32</th>\n",
       "      <td>-2.365873e-02</td>\n",
       "      <td>neighborhood_from_zip_Beacon Hill</td>\n",
       "      <td>2.365873e-02</td>\n",
       "    </tr>\n",
       "    <tr>\n",
       "      <th>43</th>\n",
       "      <td>-2.256424e-02</td>\n",
       "      <td>neighborhood_from_zip_Mission Hill</td>\n",
       "      <td>2.256424e-02</td>\n",
       "    </tr>\n",
       "    <tr>\n",
       "      <th>44</th>\n",
       "      <td>-1.990763e-02</td>\n",
       "      <td>neighborhood_from_zip_North End</td>\n",
       "      <td>1.990763e-02</td>\n",
       "    </tr>\n",
       "    <tr>\n",
       "      <th>45</th>\n",
       "      <td>-1.975431e-02</td>\n",
       "      <td>neighborhood_from_zip_Roslindale</td>\n",
       "      <td>1.975431e-02</td>\n",
       "    </tr>\n",
       "    <tr>\n",
       "      <th>34</th>\n",
       "      <td>-1.882879e-02</td>\n",
       "      <td>neighborhood_from_zip_Charlestown</td>\n",
       "      <td>1.882879e-02</td>\n",
       "    </tr>\n",
       "    <tr>\n",
       "      <th>47</th>\n",
       "      <td>-1.788583e-02</td>\n",
       "      <td>neighborhood_from_zip_South Boston</td>\n",
       "      <td>1.788583e-02</td>\n",
       "    </tr>\n",
       "    <tr>\n",
       "      <th>39</th>\n",
       "      <td>-1.732647e-02</td>\n",
       "      <td>neighborhood_from_zip_Fenway / Kenmore / Audub...</td>\n",
       "      <td>1.732647e-02</td>\n",
       "    </tr>\n",
       "    <tr>\n",
       "      <th>19</th>\n",
       "      <td>-1.565688e-02</td>\n",
       "      <td>rent_std_dev</td>\n",
       "      <td>1.565688e-02</td>\n",
       "    </tr>\n",
       "    <tr>\n",
       "      <th>2</th>\n",
       "      <td>1.515128e-02</td>\n",
       "      <td>race_black</td>\n",
       "      <td>1.515128e-02</td>\n",
       "    </tr>\n",
       "    <tr>\n",
       "      <th>37</th>\n",
       "      <td>-1.452083e-02</td>\n",
       "      <td>neighborhood_from_zip_Downtown / Financial Dis...</td>\n",
       "      <td>1.452083e-02</td>\n",
       "    </tr>\n",
       "    <tr>\n",
       "      <th>20</th>\n",
       "      <td>1.403969e-02</td>\n",
       "      <td>income</td>\n",
       "      <td>1.403969e-02</td>\n",
       "    </tr>\n",
       "    <tr>\n",
       "      <th>17</th>\n",
       "      <td>-1.322344e-02</td>\n",
       "      <td>value_std_dev</td>\n",
       "      <td>1.322344e-02</td>\n",
       "    </tr>\n",
       "    <tr>\n",
       "      <th>12</th>\n",
       "      <td>1.322328e-02</td>\n",
       "      <td>school_std_dev</td>\n",
       "      <td>1.322328e-02</td>\n",
       "    </tr>\n",
       "    <tr>\n",
       "      <th>3</th>\n",
       "      <td>-1.125392e-02</td>\n",
       "      <td>race_asian</td>\n",
       "      <td>1.125392e-02</td>\n",
       "    </tr>\n",
       "    <tr>\n",
       "      <th>36</th>\n",
       "      <td>-1.055805e-02</td>\n",
       "      <td>neighborhood_from_zip_Dorchester</td>\n",
       "      <td>1.055805e-02</td>\n",
       "    </tr>\n",
       "    <tr>\n",
       "      <th>14</th>\n",
       "      <td>9.387937e-03</td>\n",
       "      <td>bedroom</td>\n",
       "      <td>9.387937e-03</td>\n",
       "    </tr>\n",
       "    <tr>\n",
       "      <th>30</th>\n",
       "      <td>8.661609e-03</td>\n",
       "      <td>neighborhood_from_zip_Allston / Brighton</td>\n",
       "      <td>8.661609e-03</td>\n",
       "    </tr>\n",
       "    <tr>\n",
       "      <th>51</th>\n",
       "      <td>-8.217443e-03</td>\n",
       "      <td>housing_own</td>\n",
       "      <td>8.217443e-03</td>\n",
       "    </tr>\n",
       "    <tr>\n",
       "      <th>10</th>\n",
       "      <td>-7.528602e-03</td>\n",
       "      <td>poverty_pop_w_ssi</td>\n",
       "      <td>7.528602e-03</td>\n",
       "    </tr>\n",
       "    <tr>\n",
       "      <th>15</th>\n",
       "      <td>-7.068363e-03</td>\n",
       "      <td>bedroom_std_dev</td>\n",
       "      <td>7.068363e-03</td>\n",
       "    </tr>\n",
       "    <tr>\n",
       "      <th>42</th>\n",
       "      <td>5.903297e-03</td>\n",
       "      <td>neighborhood_from_zip_Mattapan</td>\n",
       "      <td>5.903297e-03</td>\n",
       "    </tr>\n",
       "    <tr>\n",
       "      <th>40</th>\n",
       "      <td>-5.612216e-03</td>\n",
       "      <td>neighborhood_from_zip_Hyde Park</td>\n",
       "      <td>5.612216e-03</td>\n",
       "    </tr>\n",
       "    <tr>\n",
       "      <th>9</th>\n",
       "      <td>5.346820e-03</td>\n",
       "      <td>poverty_pop_w_food_stamps</td>\n",
       "      <td>5.346820e-03</td>\n",
       "    </tr>\n",
       "    <tr>\n",
       "      <th>22</th>\n",
       "      <td>-3.797533e-03</td>\n",
       "      <td>queue_wk</td>\n",
       "      <td>3.797533e-03</td>\n",
       "    </tr>\n",
       "    <tr>\n",
       "      <th>41</th>\n",
       "      <td>-3.289741e-03</td>\n",
       "      <td>neighborhood_from_zip_Jamaica Plain</td>\n",
       "      <td>3.289741e-03</td>\n",
       "    </tr>\n",
       "    <tr>\n",
       "      <th>7</th>\n",
       "      <td>-3.272338e-03</td>\n",
       "      <td>earned_income_per_capita</td>\n",
       "      <td>3.272338e-03</td>\n",
       "    </tr>\n",
       "    <tr>\n",
       "      <th>13</th>\n",
       "      <td>3.241640e-03</td>\n",
       "      <td>housing_std_dev</td>\n",
       "      <td>3.241640e-03</td>\n",
       "    </tr>\n",
       "    <tr>\n",
       "      <th>6</th>\n",
       "      <td>-3.239053e-03</td>\n",
       "      <td>poverty_pop_below_poverty_level</td>\n",
       "      <td>3.239053e-03</td>\n",
       "    </tr>\n",
       "    <tr>\n",
       "      <th>38</th>\n",
       "      <td>2.840591e-03</td>\n",
       "      <td>neighborhood_from_zip_East Boston</td>\n",
       "      <td>2.840591e-03</td>\n",
       "    </tr>\n",
       "    <tr>\n",
       "      <th>48</th>\n",
       "      <td>-2.829173e-03</td>\n",
       "      <td>neighborhood_from_zip_South Boston / South Bos...</td>\n",
       "      <td>2.829173e-03</td>\n",
       "    </tr>\n",
       "    <tr>\n",
       "      <th>16</th>\n",
       "      <td>2.738110e-03</td>\n",
       "      <td>value</td>\n",
       "      <td>2.738110e-03</td>\n",
       "    </tr>\n",
       "    <tr>\n",
       "      <th>11</th>\n",
       "      <td>2.580028e-03</td>\n",
       "      <td>school</td>\n",
       "      <td>2.580028e-03</td>\n",
       "    </tr>\n",
       "    <tr>\n",
       "      <th>25</th>\n",
       "      <td>1.879922e-03</td>\n",
       "      <td>Property_Type_Address</td>\n",
       "      <td>1.879922e-03</td>\n",
       "    </tr>\n",
       "    <tr>\n",
       "      <th>35</th>\n",
       "      <td>-1.603818e-03</td>\n",
       "      <td>neighborhood_from_zip_Chestnut Hill</td>\n",
       "      <td>1.603818e-03</td>\n",
       "    </tr>\n",
       "    <tr>\n",
       "      <th>5</th>\n",
       "      <td>1.497995e-03</td>\n",
       "      <td>race_other</td>\n",
       "      <td>1.497995e-03</td>\n",
       "    </tr>\n",
       "    <tr>\n",
       "      <th>4</th>\n",
       "      <td>-1.314679e-03</td>\n",
       "      <td>race_hispanic</td>\n",
       "      <td>1.314679e-03</td>\n",
       "    </tr>\n",
       "    <tr>\n",
       "      <th>8</th>\n",
       "      <td>4.409602e-04</td>\n",
       "      <td>poverty_pop_w_public_assistance</td>\n",
       "      <td>4.409602e-04</td>\n",
       "    </tr>\n",
       "    <tr>\n",
       "      <th>26</th>\n",
       "      <td>-5.507343e-17</td>\n",
       "      <td>Property_Type_Intersection</td>\n",
       "      <td>5.507343e-17</td>\n",
       "    </tr>\n",
       "    <tr>\n",
       "      <th>33</th>\n",
       "      <td>0.000000e+00</td>\n",
       "      <td>neighborhood_from_zip_Brookline</td>\n",
       "      <td>0.000000e+00</td>\n",
       "    </tr>\n",
       "    <tr>\n",
       "      <th>29</th>\n",
       "      <td>0.000000e+00</td>\n",
       "      <td>Source_Self Service</td>\n",
       "      <td>0.000000e+00</td>\n",
       "    </tr>\n",
       "    <tr>\n",
       "      <th>28</th>\n",
       "      <td>0.000000e+00</td>\n",
       "      <td>Source_Constituent Call</td>\n",
       "      <td>0.000000e+00</td>\n",
       "    </tr>\n",
       "    <tr>\n",
       "      <th>27</th>\n",
       "      <td>0.000000e+00</td>\n",
       "      <td>Source_Citizens Connect App</td>\n",
       "      <td>0.000000e+00</td>\n",
       "    </tr>\n",
       "    <tr>\n",
       "      <th>1</th>\n",
       "      <td>-0.000000e+00</td>\n",
       "      <td>race_white</td>\n",
       "      <td>0.000000e+00</td>\n",
       "    </tr>\n",
       "    <tr>\n",
       "      <th>24</th>\n",
       "      <td>0.000000e+00</td>\n",
       "      <td>is_description</td>\n",
       "      <td>0.000000e+00</td>\n",
       "    </tr>\n",
       "    <tr>\n",
       "      <th>21</th>\n",
       "      <td>0.000000e+00</td>\n",
       "      <td>income_std_dev</td>\n",
       "      <td>0.000000e+00</td>\n",
       "    </tr>\n",
       "    <tr>\n",
       "      <th>18</th>\n",
       "      <td>0.000000e+00</td>\n",
       "      <td>rent</td>\n",
       "      <td>0.000000e+00</td>\n",
       "    </tr>\n",
       "    <tr>\n",
       "      <th>50</th>\n",
       "      <td>0.000000e+00</td>\n",
       "      <td>neighborhood_from_zip_West End</td>\n",
       "      <td>0.000000e+00</td>\n",
       "    </tr>\n",
       "    <tr>\n",
       "      <th>0</th>\n",
       "      <td>0.000000e+00</td>\n",
       "      <td>SubmittedPhoto</td>\n",
       "      <td>0.000000e+00</td>\n",
       "    </tr>\n",
       "  </tbody>\n",
       "</table>\n",
       "</div>"
      ],
      "text/plain": [
       "            coef                                               name  \\\n",
       "23  3.991777e-02                                      queue_wk_open   \n",
       "49 -3.934187e-02                    neighborhood_from_zip_South End   \n",
       "46 -2.814619e-02                      neighborhood_from_zip_Roxbury   \n",
       "31 -2.586582e-02                     neighborhood_from_zip_Back Bay   \n",
       "32 -2.365873e-02                  neighborhood_from_zip_Beacon Hill   \n",
       "43 -2.256424e-02                 neighborhood_from_zip_Mission Hill   \n",
       "44 -1.990763e-02                    neighborhood_from_zip_North End   \n",
       "45 -1.975431e-02                   neighborhood_from_zip_Roslindale   \n",
       "34 -1.882879e-02                  neighborhood_from_zip_Charlestown   \n",
       "47 -1.788583e-02                 neighborhood_from_zip_South Boston   \n",
       "39 -1.732647e-02  neighborhood_from_zip_Fenway / Kenmore / Audub...   \n",
       "19 -1.565688e-02                                       rent_std_dev   \n",
       "2   1.515128e-02                                         race_black   \n",
       "37 -1.452083e-02  neighborhood_from_zip_Downtown / Financial Dis...   \n",
       "20  1.403969e-02                                             income   \n",
       "17 -1.322344e-02                                      value_std_dev   \n",
       "12  1.322328e-02                                     school_std_dev   \n",
       "3  -1.125392e-02                                         race_asian   \n",
       "36 -1.055805e-02                   neighborhood_from_zip_Dorchester   \n",
       "14  9.387937e-03                                            bedroom   \n",
       "30  8.661609e-03           neighborhood_from_zip_Allston / Brighton   \n",
       "51 -8.217443e-03                                        housing_own   \n",
       "10 -7.528602e-03                                  poverty_pop_w_ssi   \n",
       "15 -7.068363e-03                                    bedroom_std_dev   \n",
       "42  5.903297e-03                     neighborhood_from_zip_Mattapan   \n",
       "40 -5.612216e-03                    neighborhood_from_zip_Hyde Park   \n",
       "9   5.346820e-03                          poverty_pop_w_food_stamps   \n",
       "22 -3.797533e-03                                           queue_wk   \n",
       "41 -3.289741e-03                neighborhood_from_zip_Jamaica Plain   \n",
       "7  -3.272338e-03                           earned_income_per_capita   \n",
       "13  3.241640e-03                                    housing_std_dev   \n",
       "6  -3.239053e-03                    poverty_pop_below_poverty_level   \n",
       "38  2.840591e-03                  neighborhood_from_zip_East Boston   \n",
       "48 -2.829173e-03  neighborhood_from_zip_South Boston / South Bos...   \n",
       "16  2.738110e-03                                              value   \n",
       "11  2.580028e-03                                             school   \n",
       "25  1.879922e-03                              Property_Type_Address   \n",
       "35 -1.603818e-03                neighborhood_from_zip_Chestnut Hill   \n",
       "5   1.497995e-03                                         race_other   \n",
       "4  -1.314679e-03                                      race_hispanic   \n",
       "8   4.409602e-04                    poverty_pop_w_public_assistance   \n",
       "26 -5.507343e-17                         Property_Type_Intersection   \n",
       "33  0.000000e+00                    neighborhood_from_zip_Brookline   \n",
       "29  0.000000e+00                                Source_Self Service   \n",
       "28  0.000000e+00                            Source_Constituent Call   \n",
       "27  0.000000e+00                        Source_Citizens Connect App   \n",
       "1  -0.000000e+00                                         race_white   \n",
       "24  0.000000e+00                                     is_description   \n",
       "21  0.000000e+00                                     income_std_dev   \n",
       "18  0.000000e+00                                               rent   \n",
       "50  0.000000e+00                     neighborhood_from_zip_West End   \n",
       "0   0.000000e+00                                     SubmittedPhoto   \n",
       "\n",
       "        coef_abs  \n",
       "23  3.991777e-02  \n",
       "49  3.934187e-02  \n",
       "46  2.814619e-02  \n",
       "31  2.586582e-02  \n",
       "32  2.365873e-02  \n",
       "43  2.256424e-02  \n",
       "44  1.990763e-02  \n",
       "45  1.975431e-02  \n",
       "34  1.882879e-02  \n",
       "47  1.788583e-02  \n",
       "39  1.732647e-02  \n",
       "19  1.565688e-02  \n",
       "2   1.515128e-02  \n",
       "37  1.452083e-02  \n",
       "20  1.403969e-02  \n",
       "17  1.322344e-02  \n",
       "12  1.322328e-02  \n",
       "3   1.125392e-02  \n",
       "36  1.055805e-02  \n",
       "14  9.387937e-03  \n",
       "30  8.661609e-03  \n",
       "51  8.217443e-03  \n",
       "10  7.528602e-03  \n",
       "15  7.068363e-03  \n",
       "42  5.903297e-03  \n",
       "40  5.612216e-03  \n",
       "9   5.346820e-03  \n",
       "22  3.797533e-03  \n",
       "41  3.289741e-03  \n",
       "7   3.272338e-03  \n",
       "13  3.241640e-03  \n",
       "6   3.239053e-03  \n",
       "38  2.840591e-03  \n",
       "48  2.829173e-03  \n",
       "16  2.738110e-03  \n",
       "11  2.580028e-03  \n",
       "25  1.879922e-03  \n",
       "35  1.603818e-03  \n",
       "5   1.497995e-03  \n",
       "4   1.314679e-03  \n",
       "8   4.409602e-04  \n",
       "26  5.507343e-17  \n",
       "33  0.000000e+00  \n",
       "29  0.000000e+00  \n",
       "28  0.000000e+00  \n",
       "27  0.000000e+00  \n",
       "1   0.000000e+00  \n",
       "24  0.000000e+00  \n",
       "21  0.000000e+00  \n",
       "18  0.000000e+00  \n",
       "50  0.000000e+00  \n",
       "0   0.000000e+00  "
      ]
     },
     "execution_count": 119,
     "metadata": {},
     "output_type": "execute_result"
    }
   ],
   "source": [
    "coef_values = pd.DataFrame({\n",
    "    'name': cols,\n",
    "    'coef': model_coefs\n",
    "})\n",
    "coef_values['coef_abs'] = pd.np.abs(coef_values.coef)\n",
    "coef_values.sort_values('coef_abs', ascending=False)"
   ]
  }
 ],
 "metadata": {
  "anaconda-cloud": {},
  "kernelspec": {
   "display_name": "Python [default]",
   "language": "python",
   "name": "python2"
  },
  "language_info": {
   "codemirror_mode": {
    "name": "ipython",
    "version": 2
   },
   "file_extension": ".py",
   "mimetype": "text/x-python",
   "name": "python",
   "nbconvert_exporter": "python",
   "pygments_lexer": "ipython2",
   "version": "2.7.12"
  }
 },
 "nbformat": 4,
 "nbformat_minor": 2
}
