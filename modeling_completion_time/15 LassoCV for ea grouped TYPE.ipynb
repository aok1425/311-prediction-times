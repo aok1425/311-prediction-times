{
 "cells": [
  {
   "cell_type": "code",
   "execution_count": 1,
   "metadata": {
    "collapsed": true
   },
   "outputs": [],
   "source": [
    "%load_ext autoreload\n",
    "%autoreload 2"
   ]
  },
  {
   "cell_type": "markdown",
   "metadata": {},
   "source": [
    "## Objective\n",
    "\n",
    "I want to group the submodels, in order to increase sample size, and bc it's valid to group them if diff groups interact w the features differently from other groups.\n",
    "\n",
    "To compare to the main model, I would want to do some kind of weighted R2, since the groups would all have different sample sizes."
   ]
  },
  {
   "cell_type": "code",
   "execution_count": 2,
   "metadata": {
    "collapsed": false
   },
   "outputs": [],
   "source": [
    "from __future__ import division\n",
    "import pandas as pd\n",
    "import numpy as np\n",
    "import warnings\n",
    "import seaborn as sns\n",
    "import matplotlib.pyplot as plt\n",
    "from pylab import rcParams\n",
    "%matplotlib inline\n",
    "from tqdm import tqdm\n",
    "\n",
    "warnings.filterwarnings(\"ignore\", category=DeprecationWarning)\n",
    "sns.set_style(\"whitegrid\")\n",
    "sns.set_context(\"poster\")\n",
    "rcParams['figure.figsize'] = 20, 5\n",
    "\n",
    "import os, sys\n",
    "sys.path.append(os.path.join(os.path.dirname('.'), \"../preprocessing\"))\n",
    "from helper_functions import dummify_cols_and_baselines, make_alphas, remove_outliers_by_type, adjusted_r2"
   ]
  },
  {
   "cell_type": "code",
   "execution_count": 3,
   "metadata": {
    "collapsed": false
   },
   "outputs": [
    {
     "data": {
      "text/plain": [
       "(516406, 40)"
      ]
     },
     "execution_count": 3,
     "metadata": {},
     "output_type": "execute_result"
    }
   ],
   "source": [
    "df_orig = pd.read_pickle('../data/data_from_remove_from_dataset.pkl')\n",
    "df_orig.shape"
   ]
  },
  {
   "cell_type": "markdown",
   "metadata": {},
   "source": [
    "## Removing outliers\n",
    "\n",
    "A standard procedure is to remove values further than 3 standard deviations from the mean. Since I have so many low values and some very high values, I anecdotally think that the low values are very likely to be true, and the high values not so much.\n",
    "\n",
    "So, I will remove values further than 3 SDs from the median, by type.\n",
    "\n",
    "Ideally, I would take into account the time dimension. I would like to do so given more time."
   ]
  },
  {
   "cell_type": "code",
   "execution_count": 4,
   "metadata": {
    "collapsed": false
   },
   "outputs": [
    {
     "name": "stderr",
     "output_type": "stream",
     "text": [
      "../preprocessing/helper_functions.py:37: SettingWithCopyWarning: \n",
      "A value is trying to be set on a copy of a slice from a DataFrame.\n",
      "Try using .loc[row_indexer,col_indexer] = value instead\n",
      "\n",
      "See the caveats in the documentation: http://pandas.pydata.org/pandas-docs/stable/indexing.html#indexing-view-versus-copy\n",
      "  group[pd.np.abs(group - group.median()) > stds * group.std()] = pd.np.nan\n",
      "/home/ubuntu/anaconda2/lib/python2.7/site-packages/pandas/core/frame.py:2392: SettingWithCopyWarning: \n",
      "A value is trying to be set on a copy of a slice from a DataFrame\n",
      "\n",
      "See the caveats in the documentation: http://pandas.pydata.org/pandas-docs/stable/indexing.html#indexing-view-versus-copy\n",
      "  self.where(-key, value, inplace=True)\n"
     ]
    },
    {
     "data": {
      "text/plain": [
       "(508653, 40)"
      ]
     },
     "execution_count": 4,
     "metadata": {},
     "output_type": "execute_result"
    }
   ],
   "source": [
    "df_outliers_removed = remove_outliers_by_type(df_orig, y_col='COMPLETION_HOURS_LOG_10')\n",
    "df_outliers_removed.shape"
   ]
  },
  {
   "cell_type": "markdown",
   "metadata": {},
   "source": [
    "I'm removing ~1.5% of my rows."
   ]
  },
  {
   "cell_type": "markdown",
   "metadata": {},
   "source": [
    "## Choosing columns"
   ]
  },
  {
   "cell_type": "code",
   "execution_count": 5,
   "metadata": {
    "collapsed": true
   },
   "outputs": [],
   "source": [
    "cols_orig_dataset = ['COMPLETION_HOURS_LOG_10', 'TYPE', 'SubmittedPhoto', 'Property_Type', 'Source', 'neighborhood_from_zip']\n",
    "cols_census = ['race_white',\n",
    "     'race_black',\n",
    "     'race_asian',\n",
    "     'race_hispanic',\n",
    "     'race_other',\n",
    "     'poverty_pop_below_poverty_level',\n",
    "     'earned_income_per_capita',\n",
    "     'poverty_pop_w_public_assistance',\n",
    "     'poverty_pop_w_food_stamps',\n",
    "     'poverty_pop_w_ssi',\n",
    "     'school',\n",
    "     'school_std_dev',\n",
    "     'housing',\n",
    "     'housing_std_dev',\n",
    "     'bedroom',\n",
    "     'bedroom_std_dev',\n",
    "     'value',\n",
    "     'value_std_dev',\n",
    "     'rent',\n",
    "     'rent_std_dev',\n",
    "     'income',\n",
    "     'income_std_dev']\n",
    "cols_engineered = ['queue_wk', 'queue_wk_open', 'is_description']"
   ]
  },
  {
   "cell_type": "code",
   "execution_count": 6,
   "metadata": {
    "collapsed": false
   },
   "outputs": [],
   "source": [
    "df = df_outliers_removed[cols_orig_dataset + cols_census + cols_engineered]"
   ]
  },
  {
   "cell_type": "markdown",
   "metadata": {},
   "source": [
    "## Replacing `TYPE`s"
   ]
  },
  {
   "cell_type": "code",
   "execution_count": 7,
   "metadata": {
    "collapsed": false
   },
   "outputs": [
    {
     "name": "stdout",
     "output_type": "stream",
     "text": [
      "/home/ubuntu/311-prediction-times/data\n"
     ]
    }
   ],
   "source": [
    "cd ../data"
   ]
  },
  {
   "cell_type": "code",
   "execution_count": 8,
   "metadata": {
    "collapsed": false
   },
   "outputs": [],
   "source": [
    "from type_reason_mapping import type_reason_mapping"
   ]
  },
  {
   "cell_type": "code",
   "execution_count": 9,
   "metadata": {
    "collapsed": false
   },
   "outputs": [
    {
     "name": "stderr",
     "output_type": "stream",
     "text": [
      "/home/ubuntu/anaconda2/lib/python2.7/site-packages/ipykernel/__main__.py:1: SettingWithCopyWarning: \n",
      "A value is trying to be set on a copy of a slice from a DataFrame.\n",
      "Try using .loc[row_indexer,col_indexer] = value instead\n",
      "\n",
      "See the caveats in the documentation: http://pandas.pydata.org/pandas-docs/stable/indexing.html#indexing-view-versus-copy\n",
      "  if __name__ == '__main__':\n"
     ]
    }
   ],
   "source": [
    "df['TYPE'] = df.TYPE.map(type_reason_mapping)"
   ]
  },
  {
   "cell_type": "code",
   "execution_count": 10,
   "metadata": {
    "collapsed": false
   },
   "outputs": [
    {
     "name": "stderr",
     "output_type": "stream",
     "text": [
      "/home/ubuntu/anaconda2/lib/python2.7/site-packages/ipykernel/__main__.py:2: SettingWithCopyWarning: \n",
      "A value is trying to be set on a copy of a slice from a DataFrame\n",
      "\n",
      "See the caveats in the documentation: http://pandas.pydata.org/pandas-docs/stable/indexing.html#indexing-view-versus-copy\n",
      "  from ipykernel import kernelapp as app\n"
     ]
    },
    {
     "name": "stdout",
     "output_type": "stream",
     "text": [
      "(508653, 31)\n",
      "(503547, 31)\n"
     ]
    }
   ],
   "source": [
    "print df.shape\n",
    "df.dropna(subset=['TYPE'], inplace=True)\n",
    "print df.shape"
   ]
  },
  {
   "cell_type": "code",
   "execution_count": 11,
   "metadata": {
    "collapsed": false
   },
   "outputs": [
    {
     "data": {
      "text/plain": [
       "(73,)"
      ]
     },
     "execution_count": 11,
     "metadata": {},
     "output_type": "execute_result"
    }
   ],
   "source": [
    "df.TYPE.drop_duplicates().shape"
   ]
  },
  {
   "cell_type": "markdown",
   "metadata": {},
   "source": [
    "## Dummify"
   ]
  },
  {
   "cell_type": "code",
   "execution_count": 12,
   "metadata": {
    "collapsed": false
   },
   "outputs": [
    {
     "data": {
      "text/plain": [
       "['Property_Type', 'Source', 'neighborhood_from_zip', 'school', 'housing']"
      ]
     },
     "execution_count": 12,
     "metadata": {},
     "output_type": "execute_result"
    }
   ],
   "source": [
    "cols_to_dummify = [i for i in df.dtypes[df.dtypes == object].index if i != 'TYPE']\n",
    "cols_to_dummify"
   ]
  },
  {
   "cell_type": "code",
   "execution_count": 13,
   "metadata": {
    "collapsed": false
   },
   "outputs": [
    {
     "name": "stdout",
     "output_type": "stream",
     "text": [
      "other is baseline 0 5\n",
      "Twitter is baseline 1 5\n",
      "West Roxbury is baseline 2 5\n",
      "8_6th_grade is baseline 3 5\n",
      "rent is baseline 4 5\n"
     ]
    }
   ],
   "source": [
    "df_dummified, baseline_cols = dummify_cols_and_baselines(df, cols_to_dummify)"
   ]
  },
  {
   "cell_type": "code",
   "execution_count": 14,
   "metadata": {
    "collapsed": false
   },
   "outputs": [
    {
     "data": {
      "text/plain": [
       "(503547, 63)"
      ]
     },
     "execution_count": 14,
     "metadata": {},
     "output_type": "execute_result"
    }
   ],
   "source": [
    "df_dummified.shape"
   ]
  },
  {
   "cell_type": "markdown",
   "metadata": {},
   "source": [
    "## Running model"
   ]
  },
  {
   "cell_type": "code",
   "execution_count": 15,
   "metadata": {
    "collapsed": false
   },
   "outputs": [
    {
     "name": "stderr",
     "output_type": "stream",
     "text": [
      "/home/ubuntu/anaconda2/lib/python2.7/site-packages/sklearn/cross_validation.py:44: DeprecationWarning: This module was deprecated in version 0.18 in favor of the model_selection module into which all the refactored classes and functions are moved. Also note that the interface of the new CV iterators are different from that of this module. This module will be removed in 0.20.\n",
      "  \"This module will be removed in 0.20.\", DeprecationWarning)\n"
     ]
    }
   ],
   "source": [
    "from sklearn.cross_validation import train_test_split\n",
    "from sklearn.pipeline import make_pipeline\n",
    "from sklearn.model_selection import GridSearchCV\n",
    "from sklearn.linear_model import LinearRegression, LassoCV\n",
    "from sklearn.cross_validation import ShuffleSplit\n",
    "from sklearn.preprocessing import StandardScaler\n",
    "from sklearn.metrics import mean_squared_error, r2_score\n"
   ]
  },
  {
   "cell_type": "code",
   "execution_count": 16,
   "metadata": {
    "collapsed": false
   },
   "outputs": [
    {
     "data": {
      "text/plain": [
       "['Request for Snow Plowing',\n",
       " 'Administrative & General Requests',\n",
       " 'Public Works General Request']"
      ]
     },
     "execution_count": 16,
     "metadata": {},
     "output_type": "execute_result"
    }
   ],
   "source": [
    "categories = df_dummified.TYPE.drop_duplicates().tolist()\n",
    "categories[:3]"
   ]
  },
  {
   "cell_type": "code",
   "execution_count": 143,
   "metadata": {
    "collapsed": true
   },
   "outputs": [],
   "source": [
    "# TYPEs with over 2k issues, or above 70th percentile\n",
    "\n",
    "categories = ['Schedule a Bulk Item Pickup',\n",
    " 'Requests for Street Cleaning',\n",
    " 'Request for Snow Plowing',\n",
    " 'Missed Trash/Recycling/Yard Waste/Bulk Item',\n",
    " 'Street Light Outages',\n",
    " 'Parking Enforcement',\n",
    " 'Request for Pothole Repair',\n",
    " 'Sidewalk Repair (Make Safe)',\n",
    " 'Graffiti Removal',\n",
    " 'Schedule a Bulk Item Pickup SS',\n",
    " 'Tree Maintenance Requests',\n",
    " 'Unsatisfactory Living Conditions',\n",
    " 'Request for Recycling Cart',\n",
    " 'Sign Repair',\n",
    " 'General Comments For a Program or Policy',\n",
    " 'Pick up Dead Animal',\n",
    " 'Abandoned Vehicles',\n",
    " 'Rodent Activity',\n",
    " 'Traffic Signal Repair',\n",
    " 'Building Inspection Request',\n",
    " 'Sticker Request',\n",
    " 'CE Collection',\n",
    " 'Sidewalk Repair',\n",
    " 'Improper Storage of Trash (Barrels)',\n",
    " 'Traffic Signal Inspection',\n",
    " 'New Tree Requests',\n",
    " 'Empty Litter Basket',\n",
    " 'Animal Generic Request',\n",
    " 'Tree Emergencies',\n",
    " 'General Lighting Request',\n",
    " 'New Sign  Crosswalk or Pavement Marking',\n",
    " 'Heat - Excessive  Insufficient',\n",
    " 'Equipment Repair',\n",
    " 'PWD Graffiti',\n",
    " 'Highway Maintenance',\n",
    " 'Ground Maintenance',\n",
    " 'Work w/out Permit',\n",
    " 'Notification',\n",
    " 'Unsafe Dangerous Conditions',\n",
    " 'Recycling Cart Return',\n",
    " 'Poor Conditions of Property',\n",
    " 'OCR Front Desk Interactions',\n",
    " 'Electrical',\n",
    " 'Missing Sign',\n",
    " 'General Comments For An Employee',\n",
    " 'Contractor Complaints',\n",
    " 'Street Light Knock Downs',\n",
    " 'Major System Failure',\n",
    " 'Utility Call-In',\n",
    " 'Public Works General Request',\n",
    " 'Unshoveled Sidewalk',\n",
    " 'Contractors Complaint',\n",
    " 'Needle Pickup',\n",
    " 'Requests for Traffic Signal Studies or Reviews',\n",
    " 'Unsanitary Conditions - Establishment',\n",
    " 'Bed Bugs',\n",
    " 'Mice Infestation - Residential',\n",
    " 'Call Log',\n",
    " 'Space Savers',\n",
    " 'Catchbasin',\n",
    " 'Abandoned Bicycle',\n",
    " 'Illegal Occupancy']"
   ]
  },
  {
   "cell_type": "code",
   "execution_count": 17,
   "metadata": {
    "collapsed": true
   },
   "outputs": [],
   "source": [
    "pipe = make_pipeline(StandardScaler(), LinearRegression())"
   ]
  },
  {
   "cell_type": "code",
   "execution_count": 151,
   "metadata": {
    "collapsed": false
   },
   "outputs": [
    {
     "name": "stderr",
     "output_type": "stream",
     "text": [
      "100%|██████████| 62/62 [01:45<00:00,  1.49s/it]\n"
     ]
    }
   ],
   "source": [
    "y_tests = []\n",
    "y_preds = []\n",
    "results = {}\n",
    "\n",
    "for categ in tqdm(categories):\n",
    "    X = df_dummified[df_dummified.TYPE == categ].drop(['COMPLETION_HOURS_LOG_10', 'TYPE'], axis=1)\n",
    "    y = df_dummified[df_dummified.TYPE == categ].COMPLETION_HOURS_LOG_10\n",
    "    \n",
    "    X_train, X_test, y_train, y_test = train_test_split(\n",
    "        X, \n",
    "        y,\n",
    "        test_size=0.2, \n",
    "        random_state=300\n",
    "    )    \n",
    "     \n",
    "    cv = ShuffleSplit(X_train.shape[0], n_iter=1, test_size=0.2, random_state=300)        \n",
    "        \n",
    "    params = {}\n",
    "    model = GridSearchCV(pipe, param_grid=params, n_jobs=-1, cv=cv, verbose=0)\n",
    "    model.fit(X_train, y_train)\n",
    "                     \n",
    "    y_pred = model.predict(X_test)\n",
    "    y_preds.append(y_pred)\n",
    "    y_tests.append(y_test)\n",
    "                     \n",
    "    d = {}\n",
    "    d['best_params'] = model.best_params_\n",
    "    d['best_score'] = model.best_score_\n",
    "    d['result'] = pd.DataFrame(model.cv_results_).T\n",
    "    d['best_estimator'] = model.best_estimator_.steps[-1][-1]\n",
    "    d['rmse'] = mean_squared_error(y_test, y_pred)**0.5\n",
    "                     \n",
    "    results[categ] = d"
   ]
  },
  {
   "cell_type": "code",
   "execution_count": 152,
   "metadata": {
    "collapsed": false
   },
   "outputs": [],
   "source": [
    "old_y_tests = y_tests[:]\n",
    "old_y_preds = y_preds[:]\n",
    "old_results = results.copy()\n",
    "old_categories = categories[:]"
   ]
  },
  {
   "cell_type": "code",
   "execution_count": 190,
   "metadata": {
    "collapsed": true
   },
   "outputs": [],
   "source": [
    "y_tests = old_y_tests[:]\n",
    "y_preds = old_y_preds[:]\n",
    "results = old_results.copy()\n",
    "categories = old_categories[:]"
   ]
  },
  {
   "cell_type": "code",
   "execution_count": 192,
   "metadata": {
    "collapsed": false
   },
   "outputs": [
    {
     "name": "stdout",
     "output_type": "stream",
     "text": [
      "Parking Enforcement\n",
      "62\n",
      "61\n"
     ]
    }
   ],
   "source": [
    "n = 4\n",
    "\n",
    "print categories[n + 1]\n",
    "print len(categories)\n",
    "del y_tests[n + 1]\n",
    "del y_preds[n + 1]\n",
    "del categories[n + 1]\n",
    "print len(categories)"
   ]
  },
  {
   "cell_type": "code",
   "execution_count": 194,
   "metadata": {
    "collapsed": false
   },
   "outputs": [
    {
     "name": "stdout",
     "output_type": "stream",
     "text": [
      "Empty Litter Basket\n",
      "61\n",
      "60\n"
     ]
    }
   ],
   "source": [
    "n = 24\n",
    "\n",
    "print categories[n + 1]\n",
    "print len(categories)\n",
    "del y_tests[n + 1]\n",
    "del y_preds[n + 1]\n",
    "del categories[n + 1]\n",
    "print len(categories)"
   ]
  },
  {
   "cell_type": "code",
   "execution_count": 196,
   "metadata": {
    "collapsed": false
   },
   "outputs": [
    {
     "name": "stdout",
     "output_type": "stream",
     "text": [
      "PWD Graffiti\n",
      "60\n",
      "59\n"
     ]
    }
   ],
   "source": [
    "n = 30\n",
    "\n",
    "print categories[n + 1]\n",
    "print len(categories)\n",
    "del y_tests[n + 1]\n",
    "del y_preds[n + 1]\n",
    "del categories[n + 1]\n",
    "print len(categories)"
   ]
  },
  {
   "cell_type": "code",
   "execution_count": 198,
   "metadata": {
    "collapsed": false
   },
   "outputs": [
    {
     "name": "stdout",
     "output_type": "stream",
     "text": [
      "Highway Maintenance\n",
      "59\n",
      "58\n"
     ]
    }
   ],
   "source": [
    "n = 30\n",
    "\n",
    "print categories[n + 1]\n",
    "print len(categories)\n",
    "del y_tests[n + 1]\n",
    "del y_preds[n + 1]\n",
    "del categories[n + 1]\n",
    "print len(categories)"
   ]
  },
  {
   "cell_type": "code",
   "execution_count": 200,
   "metadata": {
    "collapsed": false
   },
   "outputs": [
    {
     "name": "stdout",
     "output_type": "stream",
     "text": [
      "Unsafe Dangerous Conditions\n",
      "58\n",
      "57\n"
     ]
    }
   ],
   "source": [
    "n = 33\n",
    "\n",
    "print categories[n + 1]\n",
    "print len(categories)\n",
    "del y_tests[n + 1]\n",
    "del y_preds[n + 1]\n",
    "del categories[n + 1]\n",
    "print len(categories)"
   ]
  },
  {
   "cell_type": "code",
   "execution_count": 203,
   "metadata": {
    "collapsed": false
   },
   "outputs": [
    {
     "name": "stdout",
     "output_type": "stream",
     "text": [
      "General Comments For An Employee\n",
      "57\n",
      "56\n"
     ]
    }
   ],
   "source": [
    "n = 38\n",
    "\n",
    "print categories[n + 1]\n",
    "print len(categories)\n",
    "del y_tests[n + 1]\n",
    "del y_preds[n + 1]\n",
    "del categories[n + 1]\n",
    "print len(categories)"
   ]
  },
  {
   "cell_type": "code",
   "execution_count": 205,
   "metadata": {
    "collapsed": false
   },
   "outputs": [
    {
     "name": "stdout",
     "output_type": "stream",
     "text": [
      "Public Works General Request\n",
      "56\n",
      "55\n"
     ]
    }
   ],
   "source": [
    "n = 42\n",
    "\n",
    "print categories[n + 1]\n",
    "print len(categories)\n",
    "del y_tests[n + 1]\n",
    "del y_preds[n + 1]\n",
    "del categories[n + 1]\n",
    "print len(categories)"
   ]
  },
  {
   "cell_type": "code",
   "execution_count": 207,
   "metadata": {
    "collapsed": false
   },
   "outputs": [
    {
     "name": "stdout",
     "output_type": "stream",
     "text": [
      "Space Savers\n",
      "55\n",
      "54\n"
     ]
    }
   ],
   "source": [
    "n = 50\n",
    "\n",
    "print categories[n + 1]\n",
    "print len(categories)\n",
    "del y_tests[n + 1]\n",
    "del y_preds[n + 1]\n",
    "del categories[n + 1]\n",
    "print len(categories)"
   ]
  },
  {
   "cell_type": "code",
   "execution_count": 209,
   "metadata": {
    "collapsed": false
   },
   "outputs": [
    {
     "name": "stdout",
     "output_type": "stream",
     "text": [
      "Contractors Complaint\n",
      "54\n",
      "53\n"
     ]
    }
   ],
   "source": [
    "n = 43\n",
    "\n",
    "print categories[n + 1]\n",
    "print len(categories)\n",
    "del y_tests[n + 1]\n",
    "del y_preds[n + 1]\n",
    "del categories[n + 1]\n",
    "print len(categories)"
   ]
  },
  {
   "cell_type": "code",
   "execution_count": 210,
   "metadata": {
    "collapsed": false
   },
   "outputs": [
    {
     "name": "stdout",
     "output_type": "stream",
     "text": [
      "53\n"
     ]
    },
    {
     "data": {
      "text/html": [
       "<div>\n",
       "<table border=\"1\" class=\"dataframe\">\n",
       "  <thead>\n",
       "    <tr style=\"text-align: right;\">\n",
       "      <th></th>\n",
       "      <th>categ</th>\n",
       "      <th>r2</th>\n",
       "    </tr>\n",
       "  </thead>\n",
       "  <tbody>\n",
       "    <tr>\n",
       "      <th>0</th>\n",
       "      <td>Requests for Street Cleaning</td>\n",
       "      <td>0.538605</td>\n",
       "    </tr>\n",
       "    <tr>\n",
       "      <th>1</th>\n",
       "      <td>Request for Snow Plowing</td>\n",
       "      <td>0.506184</td>\n",
       "    </tr>\n",
       "    <tr>\n",
       "      <th>2</th>\n",
       "      <td>Missed Trash/Recycling/Yard Waste/Bulk Item</td>\n",
       "      <td>0.485277</td>\n",
       "    </tr>\n",
       "    <tr>\n",
       "      <th>3</th>\n",
       "      <td>Street Light Outages</td>\n",
       "      <td>0.503337</td>\n",
       "    </tr>\n",
       "    <tr>\n",
       "      <th>4</th>\n",
       "      <td>Request for Pothole Repair</td>\n",
       "      <td>0.483408</td>\n",
       "    </tr>\n",
       "    <tr>\n",
       "      <th>5</th>\n",
       "      <td>Sidewalk Repair (Make Safe)</td>\n",
       "      <td>0.453726</td>\n",
       "    </tr>\n",
       "    <tr>\n",
       "      <th>6</th>\n",
       "      <td>Graffiti Removal</td>\n",
       "      <td>0.463284</td>\n",
       "    </tr>\n",
       "    <tr>\n",
       "      <th>7</th>\n",
       "      <td>Schedule a Bulk Item Pickup SS</td>\n",
       "      <td>0.461909</td>\n",
       "    </tr>\n",
       "    <tr>\n",
       "      <th>8</th>\n",
       "      <td>Tree Maintenance Requests</td>\n",
       "      <td>0.492729</td>\n",
       "    </tr>\n",
       "    <tr>\n",
       "      <th>9</th>\n",
       "      <td>Unsatisfactory Living Conditions</td>\n",
       "      <td>0.432188</td>\n",
       "    </tr>\n",
       "    <tr>\n",
       "      <th>10</th>\n",
       "      <td>Request for Recycling Cart</td>\n",
       "      <td>0.437114</td>\n",
       "    </tr>\n",
       "    <tr>\n",
       "      <th>11</th>\n",
       "      <td>Sign Repair</td>\n",
       "      <td>0.435334</td>\n",
       "    </tr>\n",
       "    <tr>\n",
       "      <th>12</th>\n",
       "      <td>General Comments For a Program or Policy</td>\n",
       "      <td>0.426388</td>\n",
       "    </tr>\n",
       "    <tr>\n",
       "      <th>13</th>\n",
       "      <td>Pick up Dead Animal</td>\n",
       "      <td>0.461009</td>\n",
       "    </tr>\n",
       "    <tr>\n",
       "      <th>14</th>\n",
       "      <td>Abandoned Vehicles</td>\n",
       "      <td>0.464927</td>\n",
       "    </tr>\n",
       "    <tr>\n",
       "      <th>15</th>\n",
       "      <td>Rodent Activity</td>\n",
       "      <td>0.472413</td>\n",
       "    </tr>\n",
       "    <tr>\n",
       "      <th>16</th>\n",
       "      <td>Traffic Signal Repair</td>\n",
       "      <td>0.468871</td>\n",
       "    </tr>\n",
       "    <tr>\n",
       "      <th>17</th>\n",
       "      <td>Building Inspection Request</td>\n",
       "      <td>0.470847</td>\n",
       "    </tr>\n",
       "    <tr>\n",
       "      <th>18</th>\n",
       "      <td>Sticker Request</td>\n",
       "      <td>0.472571</td>\n",
       "    </tr>\n",
       "    <tr>\n",
       "      <th>19</th>\n",
       "      <td>CE Collection</td>\n",
       "      <td>0.472620</td>\n",
       "    </tr>\n",
       "    <tr>\n",
       "      <th>20</th>\n",
       "      <td>Sidewalk Repair</td>\n",
       "      <td>0.478927</td>\n",
       "    </tr>\n",
       "    <tr>\n",
       "      <th>21</th>\n",
       "      <td>Improper Storage of Trash (Barrels)</td>\n",
       "      <td>0.490668</td>\n",
       "    </tr>\n",
       "    <tr>\n",
       "      <th>22</th>\n",
       "      <td>Traffic Signal Inspection</td>\n",
       "      <td>0.489697</td>\n",
       "    </tr>\n",
       "    <tr>\n",
       "      <th>23</th>\n",
       "      <td>New Tree Requests</td>\n",
       "      <td>0.497287</td>\n",
       "    </tr>\n",
       "    <tr>\n",
       "      <th>24</th>\n",
       "      <td>Animal Generic Request</td>\n",
       "      <td>0.496912</td>\n",
       "    </tr>\n",
       "    <tr>\n",
       "      <th>25</th>\n",
       "      <td>Tree Emergencies</td>\n",
       "      <td>0.496273</td>\n",
       "    </tr>\n",
       "    <tr>\n",
       "      <th>26</th>\n",
       "      <td>General Lighting Request</td>\n",
       "      <td>0.494389</td>\n",
       "    </tr>\n",
       "    <tr>\n",
       "      <th>27</th>\n",
       "      <td>New Sign  Crosswalk or Pavement Marking</td>\n",
       "      <td>0.494196</td>\n",
       "    </tr>\n",
       "    <tr>\n",
       "      <th>28</th>\n",
       "      <td>Heat - Excessive  Insufficient</td>\n",
       "      <td>0.491662</td>\n",
       "    </tr>\n",
       "    <tr>\n",
       "      <th>29</th>\n",
       "      <td>Equipment Repair</td>\n",
       "      <td>0.491316</td>\n",
       "    </tr>\n",
       "    <tr>\n",
       "      <th>30</th>\n",
       "      <td>Ground Maintenance</td>\n",
       "      <td>0.489711</td>\n",
       "    </tr>\n",
       "    <tr>\n",
       "      <th>31</th>\n",
       "      <td>Work w/out Permit</td>\n",
       "      <td>0.491606</td>\n",
       "    </tr>\n",
       "    <tr>\n",
       "      <th>32</th>\n",
       "      <td>Notification</td>\n",
       "      <td>0.491275</td>\n",
       "    </tr>\n",
       "    <tr>\n",
       "      <th>33</th>\n",
       "      <td>Recycling Cart Return</td>\n",
       "      <td>0.492611</td>\n",
       "    </tr>\n",
       "    <tr>\n",
       "      <th>34</th>\n",
       "      <td>Poor Conditions of Property</td>\n",
       "      <td>0.498404</td>\n",
       "    </tr>\n",
       "    <tr>\n",
       "      <th>35</th>\n",
       "      <td>OCR Front Desk Interactions</td>\n",
       "      <td>0.573269</td>\n",
       "    </tr>\n",
       "    <tr>\n",
       "      <th>36</th>\n",
       "      <td>Electrical</td>\n",
       "      <td>0.573614</td>\n",
       "    </tr>\n",
       "    <tr>\n",
       "      <th>37</th>\n",
       "      <td>Missing Sign</td>\n",
       "      <td>0.573372</td>\n",
       "    </tr>\n",
       "    <tr>\n",
       "      <th>38</th>\n",
       "      <td>Contractor Complaints</td>\n",
       "      <td>0.572429</td>\n",
       "    </tr>\n",
       "    <tr>\n",
       "      <th>39</th>\n",
       "      <td>Street Light Knock Downs</td>\n",
       "      <td>0.570048</td>\n",
       "    </tr>\n",
       "    <tr>\n",
       "      <th>40</th>\n",
       "      <td>Major System Failure</td>\n",
       "      <td>0.567841</td>\n",
       "    </tr>\n",
       "    <tr>\n",
       "      <th>41</th>\n",
       "      <td>Utility Call-In</td>\n",
       "      <td>0.567249</td>\n",
       "    </tr>\n",
       "    <tr>\n",
       "      <th>42</th>\n",
       "      <td>Unshoveled Sidewalk</td>\n",
       "      <td>0.568799</td>\n",
       "    </tr>\n",
       "    <tr>\n",
       "      <th>43</th>\n",
       "      <td>Needle Pickup</td>\n",
       "      <td>0.567990</td>\n",
       "    </tr>\n",
       "    <tr>\n",
       "      <th>44</th>\n",
       "      <td>Requests for Traffic Signal Studies or Reviews</td>\n",
       "      <td>0.567367</td>\n",
       "    </tr>\n",
       "    <tr>\n",
       "      <th>45</th>\n",
       "      <td>Unsanitary Conditions - Establishment</td>\n",
       "      <td>0.567144</td>\n",
       "    </tr>\n",
       "    <tr>\n",
       "      <th>46</th>\n",
       "      <td>Bed Bugs</td>\n",
       "      <td>0.567126</td>\n",
       "    </tr>\n",
       "    <tr>\n",
       "      <th>47</th>\n",
       "      <td>Mice Infestation - Residential</td>\n",
       "      <td>0.567715</td>\n",
       "    </tr>\n",
       "    <tr>\n",
       "      <th>48</th>\n",
       "      <td>Call Log</td>\n",
       "      <td>0.588501</td>\n",
       "    </tr>\n",
       "    <tr>\n",
       "      <th>49</th>\n",
       "      <td>Catchbasin</td>\n",
       "      <td>0.587947</td>\n",
       "    </tr>\n",
       "    <tr>\n",
       "      <th>50</th>\n",
       "      <td>Abandoned Bicycle</td>\n",
       "      <td>0.587850</td>\n",
       "    </tr>\n",
       "    <tr>\n",
       "      <th>51</th>\n",
       "      <td>Illegal Occupancy</td>\n",
       "      <td>0.588251</td>\n",
       "    </tr>\n",
       "  </tbody>\n",
       "</table>\n",
       "</div>"
      ],
      "text/plain": [
       "                                             categ        r2\n",
       "0                     Requests for Street Cleaning  0.538605\n",
       "1                         Request for Snow Plowing  0.506184\n",
       "2      Missed Trash/Recycling/Yard Waste/Bulk Item  0.485277\n",
       "3                             Street Light Outages  0.503337\n",
       "4                       Request for Pothole Repair  0.483408\n",
       "5                      Sidewalk Repair (Make Safe)  0.453726\n",
       "6                                 Graffiti Removal  0.463284\n",
       "7                   Schedule a Bulk Item Pickup SS  0.461909\n",
       "8                        Tree Maintenance Requests  0.492729\n",
       "9                 Unsatisfactory Living Conditions  0.432188\n",
       "10                      Request for Recycling Cart  0.437114\n",
       "11                                     Sign Repair  0.435334\n",
       "12        General Comments For a Program or Policy  0.426388\n",
       "13                             Pick up Dead Animal  0.461009\n",
       "14                              Abandoned Vehicles  0.464927\n",
       "15                                 Rodent Activity  0.472413\n",
       "16                           Traffic Signal Repair  0.468871\n",
       "17                     Building Inspection Request  0.470847\n",
       "18                                 Sticker Request  0.472571\n",
       "19                                   CE Collection  0.472620\n",
       "20                                 Sidewalk Repair  0.478927\n",
       "21             Improper Storage of Trash (Barrels)  0.490668\n",
       "22                       Traffic Signal Inspection  0.489697\n",
       "23                               New Tree Requests  0.497287\n",
       "24                          Animal Generic Request  0.496912\n",
       "25                                Tree Emergencies  0.496273\n",
       "26                        General Lighting Request  0.494389\n",
       "27         New Sign  Crosswalk or Pavement Marking  0.494196\n",
       "28                  Heat - Excessive  Insufficient  0.491662\n",
       "29                                Equipment Repair  0.491316\n",
       "30                              Ground Maintenance  0.489711\n",
       "31                               Work w/out Permit  0.491606\n",
       "32                                    Notification  0.491275\n",
       "33                           Recycling Cart Return  0.492611\n",
       "34                     Poor Conditions of Property  0.498404\n",
       "35                     OCR Front Desk Interactions  0.573269\n",
       "36                                      Electrical  0.573614\n",
       "37                                    Missing Sign  0.573372\n",
       "38                           Contractor Complaints  0.572429\n",
       "39                        Street Light Knock Downs  0.570048\n",
       "40                            Major System Failure  0.567841\n",
       "41                                 Utility Call-In  0.567249\n",
       "42                             Unshoveled Sidewalk  0.568799\n",
       "43                                   Needle Pickup  0.567990\n",
       "44  Requests for Traffic Signal Studies or Reviews  0.567367\n",
       "45           Unsanitary Conditions - Establishment  0.567144\n",
       "46                                        Bed Bugs  0.567126\n",
       "47                  Mice Infestation - Residential  0.567715\n",
       "48                                        Call Log  0.588501\n",
       "49                                      Catchbasin  0.587947\n",
       "50                               Abandoned Bicycle  0.587850\n",
       "51                               Illegal Occupancy  0.588251"
      ]
     },
     "execution_count": 210,
     "metadata": {},
     "output_type": "execute_result"
    }
   ],
   "source": [
    "print len(categories)\n",
    "pd.DataFrame({\n",
    "    'categ': categories[1:],\n",
    "    'r2': [r2_score(pd.concat(y_tests[:i+1]), np.concatenate(y_preds[:i+1])) for i in range(1, len(y_tests))]\n",
    "})"
   ]
  },
  {
   "cell_type": "code",
   "execution_count": 220,
   "metadata": {
    "collapsed": true
   },
   "outputs": [],
   "source": [
    "from pickle import dump"
   ]
  },
  {
   "cell_type": "code",
   "execution_count": 223,
   "metadata": {
    "collapsed": false
   },
   "outputs": [],
   "source": [
    "with open('../data/q2_submodel_results.pkl', 'w') as outfile:\n",
    "    dump(results, outfile)\n",
    "    \n",
    "with open('../data/q2_submodel_y_preds.pkl', 'w') as outfile:\n",
    "    dump(y_preds, outfile)\n",
    "    \n",
    "with open('../data/q2_submodel_y_tests.pkl', 'w') as outfile:\n",
    "    dump(y_tests, outfile)    "
   ]
  },
  {
   "cell_type": "code",
   "execution_count": 222,
   "metadata": {
    "collapsed": false
   },
   "outputs": [
    {
     "name": "stdout",
     "output_type": "stream",
     "text": [
      "-rw-rw-r-- 1 ubuntu ubuntu 268K Feb 22 06:28 ../data/q2_submodel_results\r\n",
      "-rw-rw-r-- 1 ubuntu ubuntu 1.9M Feb 22 06:28 ../data/q2_submodel_y_preds\r\n",
      "-rw-rw-r-- 1 ubuntu ubuntu 4.0M Feb 22 06:28 ../data/q2_submodel_y_tests\r\n"
     ]
    }
   ],
   "source": [
    "!ls -lh ../data/q2*"
   ]
  },
  {
   "cell_type": "code",
   "execution_count": 211,
   "metadata": {
    "collapsed": false
   },
   "outputs": [
    {
     "data": {
      "text/plain": [
       "(53, 53)"
      ]
     },
     "execution_count": 211,
     "metadata": {},
     "output_type": "execute_result"
    }
   ],
   "source": [
    "len(y_tests), len(y_preds)"
   ]
  },
  {
   "cell_type": "code",
   "execution_count": 213,
   "metadata": {
    "collapsed": false
   },
   "outputs": [
    {
     "data": {
      "text/plain": [
       "0.68988989579084448"
      ]
     },
     "execution_count": 213,
     "metadata": {},
     "output_type": "execute_result"
    }
   ],
   "source": [
    "# mean_squared_error(y_tests, y_preds)**0.5\n",
    "mean_squared_error(pd.concat(y_tests), np.concatenate(y_preds))**0.5"
   ]
  },
  {
   "cell_type": "code",
   "execution_count": 214,
   "metadata": {
    "collapsed": false,
    "scrolled": true
   },
   "outputs": [
    {
     "data": {
      "text/plain": [
       "['Schedule a Bulk Item Pickup',\n",
       " 'Requests for Street Cleaning',\n",
       " 'Request for Snow Plowing',\n",
       " 'Missed Trash/Recycling/Yard Waste/Bulk Item',\n",
       " 'Street Light Outages',\n",
       " 'Request for Pothole Repair',\n",
       " 'Sidewalk Repair (Make Safe)',\n",
       " 'Graffiti Removal',\n",
       " 'Schedule a Bulk Item Pickup SS',\n",
       " 'Tree Maintenance Requests',\n",
       " 'Unsatisfactory Living Conditions',\n",
       " 'Request for Recycling Cart',\n",
       " 'Sign Repair',\n",
       " 'General Comments For a Program or Policy',\n",
       " 'Pick up Dead Animal',\n",
       " 'Abandoned Vehicles',\n",
       " 'Rodent Activity',\n",
       " 'Traffic Signal Repair',\n",
       " 'Building Inspection Request',\n",
       " 'Sticker Request',\n",
       " 'CE Collection',\n",
       " 'Sidewalk Repair',\n",
       " 'Improper Storage of Trash (Barrels)',\n",
       " 'Traffic Signal Inspection',\n",
       " 'New Tree Requests',\n",
       " 'Animal Generic Request',\n",
       " 'Tree Emergencies',\n",
       " 'General Lighting Request',\n",
       " 'New Sign  Crosswalk or Pavement Marking',\n",
       " 'Heat - Excessive  Insufficient',\n",
       " 'Equipment Repair',\n",
       " 'Ground Maintenance',\n",
       " 'Work w/out Permit',\n",
       " 'Notification',\n",
       " 'Recycling Cart Return',\n",
       " 'Poor Conditions of Property',\n",
       " 'OCR Front Desk Interactions',\n",
       " 'Electrical',\n",
       " 'Missing Sign',\n",
       " 'Contractor Complaints',\n",
       " 'Street Light Knock Downs',\n",
       " 'Major System Failure',\n",
       " 'Utility Call-In',\n",
       " 'Unshoveled Sidewalk',\n",
       " 'Needle Pickup',\n",
       " 'Requests for Traffic Signal Studies or Reviews',\n",
       " 'Unsanitary Conditions - Establishment',\n",
       " 'Bed Bugs',\n",
       " 'Mice Infestation - Residential',\n",
       " 'Call Log',\n",
       " 'Catchbasin',\n",
       " 'Abandoned Bicycle',\n",
       " 'Illegal Occupancy']"
      ]
     },
     "execution_count": 214,
     "metadata": {},
     "output_type": "execute_result"
    }
   ],
   "source": [
    "# this is the subset of TYPEs I used\n",
    "categories"
   ]
  },
  {
   "cell_type": "markdown",
   "metadata": {
    "collapsed": false
   },
   "source": [
    "## Conclusion\n",
    "\n",
    "Making sub-models improves the R2 and RMSE _for these chosen categories_, which are the ones above the 70th percentile in terms of number of issues, minus a couple ones stated above that messed up the R2.\n",
    "\n",
    "This R2 and RMSE are 0.59 and 0.69. The ones for the main model are 0.55 and 0.73.\n",
    "\n",
    "There are prolly more stat sig coefs here as well.\n",
    "\n",
    "## Next Steps\n",
    "\n",
    "If I had more time,\n",
    "- check how the R2 was messed up on those couple of categs. Prolly bc R2 for that model was low, and my preds were way off. what to do about those categs then? either the mean, or the pred from the big model would work.\n",
    "- group the categs below 70th percentile to give them enough sample size, then run model on them. trial-and-error + domain knowledge as to which categs would work and which wouldn't."
   ]
  }
 ],
 "metadata": {
  "anaconda-cloud": {},
  "kernelspec": {
   "display_name": "Python [default]",
   "language": "python",
   "name": "python2"
  },
  "language_info": {
   "codemirror_mode": {
    "name": "ipython",
    "version": 2
   },
   "file_extension": ".py",
   "mimetype": "text/x-python",
   "name": "python",
   "nbconvert_exporter": "python",
   "pygments_lexer": "ipython2",
   "version": "2.7.12"
  }
 },
 "nbformat": 4,
 "nbformat_minor": 2
}
