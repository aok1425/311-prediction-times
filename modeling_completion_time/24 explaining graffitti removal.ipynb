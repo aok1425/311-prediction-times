{
 "cells": [
  {
   "cell_type": "markdown",
   "metadata": {},
   "source": [
    "## Objective\n",
    "\n",
    "Now that I know that my submodels perform a bit better than the model on the entire dataset, I can take advantage of the submodels and find the coefficients that are most associated with response variable."
   ]
  },
  {
   "cell_type": "code",
   "execution_count": 1,
   "metadata": {
    "collapsed": false
   },
   "outputs": [],
   "source": [
    "CATEGORY_GROUPS_IN_QUESTION = [['Pick up Dead Animal', 'Animal Generic Request'],\n",
    "['Abandoned Vehicles', 'Abandoned Bicycle'],\n",
    "['Rodent Activity',\t'Bed Bugs', 'Mice Infestation - Residential'],\n",
    "['Sidewalk Repair', 'Sidewalk Repair (Make Safe)'],\n",
    "['Needle Pickup'],\n",
    "['Unsatisfactory Living Conditions', 'Poor Conditions of Property', 'Unsanitary Conditions - Establishment', 'Illegal Occupancy', 'Heat - Excessive  Insufficient'],\n",
    "['Request for Pothole Repair'],\n",
    "['Graffiti Removal']]"
   ]
  },
  {
   "cell_type": "markdown",
   "metadata": {},
   "source": [
    "## Objective\n",
    "\n",
    "Does this have statistically significant coefs, assuming homoskedacity and a linear predictor-response relationship and Normalized residuals and imperfect collinearity?"
   ]
  },
  {
   "cell_type": "code",
   "execution_count": 2,
   "metadata": {
    "collapsed": false
   },
   "outputs": [],
   "source": [
    "%load_ext autoreload\n",
    "%autoreload 2"
   ]
  },
  {
   "cell_type": "code",
   "execution_count": 3,
   "metadata": {
    "collapsed": false
   },
   "outputs": [
    {
     "name": "stderr",
     "output_type": "stream",
     "text": [
      "/home/ubuntu/anaconda2/lib/python2.7/site-packages/sklearn/cross_validation.py:44: DeprecationWarning: This module was deprecated in version 0.18 in favor of the model_selection module into which all the refactored classes and functions are moved. Also note that the interface of the new CV iterators are different from that of this module. This module will be removed in 0.20.\n",
      "  \"This module will be removed in 0.20.\", DeprecationWarning)\n"
     ]
    }
   ],
   "source": [
    "from __future__ import division\n",
    "import pandas as pd\n",
    "import numpy as np\n",
    "import warnings\n",
    "import seaborn as sns\n",
    "import matplotlib.pyplot as plt\n",
    "from pylab import rcParams\n",
    "%matplotlib inline\n",
    "from tqdm import tqdm\n",
    "\n",
    "from utilities import remove_one_feature\n",
    "\n",
    "warnings.filterwarnings(\"ignore\", category=DeprecationWarning)\n",
    "sns.set_style(\"whitegrid\")\n",
    "sns.set_context(\"poster\")\n",
    "rcParams['figure.figsize'] = 20, 5\n",
    "\n",
    "import os, sys\n",
    "sys.path.append(os.path.join(os.path.dirname('.'), \"../preprocessing\"))\n",
    "from helper_functions import dummify_cols_and_baselines, make_alphas, remove_outliers_by_type, adjusted_r2, transform_school, get_vifs"
   ]
  },
  {
   "cell_type": "code",
   "execution_count": 4,
   "metadata": {
    "collapsed": false
   },
   "outputs": [
    {
     "data": {
      "text/plain": [
       "(516406, 40)"
      ]
     },
     "execution_count": 4,
     "metadata": {},
     "output_type": "execute_result"
    }
   ],
   "source": [
    "df_orig = pd.read_pickle('../data/data_from_remove_from_dataset.pkl')\n",
    "df_orig.shape"
   ]
  },
  {
   "cell_type": "code",
   "execution_count": 5,
   "metadata": {
    "collapsed": false
   },
   "outputs": [
    {
     "name": "stderr",
     "output_type": "stream",
     "text": [
      "../preprocessing/helper_functions.py:58: FutureWarning: currently extract(expand=None) means expand=False (return Index/Series/DataFrame) but in a future version of pandas this will be changed to expand=True (return DataFrame)\n",
      "  df.school = df.school.str.extract(r'(\\d\\d?)').astype(int)\n"
     ]
    },
    {
     "data": {
      "text/plain": [
       "(516406, 40)"
      ]
     },
     "execution_count": 5,
     "metadata": {},
     "output_type": "execute_result"
    }
   ],
   "source": [
    "df_orig = transform_school(df_orig)\n",
    "df_orig.shape"
   ]
  },
  {
   "cell_type": "markdown",
   "metadata": {},
   "source": [
    "## Filterering by `TYPE`"
   ]
  },
  {
   "cell_type": "code",
   "execution_count": 6,
   "metadata": {
    "collapsed": false
   },
   "outputs": [
    {
     "name": "stdout",
     "output_type": "stream",
     "text": [
      "['Graffiti Removal']\n"
     ]
    },
    {
     "data": {
      "text/plain": [
       "(16674, 40)"
      ]
     },
     "execution_count": 6,
     "metadata": {},
     "output_type": "execute_result"
    }
   ],
   "source": [
    "i = 7\n",
    "print CATEGORY_GROUPS_IN_QUESTION[i]\n",
    "df_orig = df_orig[df_orig.TYPE.isin(CATEGORY_GROUPS_IN_QUESTION[i])]\n",
    "df_orig.shape"
   ]
  },
  {
   "cell_type": "markdown",
   "metadata": {},
   "source": [
    "## Removing outliers\n",
    "\n",
    "A standard procedure is to remove values further than 3 standard deviations from the mean. Since I have so many low values and some very high values, I anecdotally think that the low values are very likely to be true, and the high values not so much.\n",
    "\n",
    "So, I will remove values further than 3 SDs from the median, by type.\n",
    "\n",
    "Ideally, I would take into account the time dimension. I would like to do so given more time."
   ]
  },
  {
   "cell_type": "code",
   "execution_count": 7,
   "metadata": {
    "collapsed": false
   },
   "outputs": [
    {
     "data": {
      "text/plain": [
       "(16199, 40)"
      ]
     },
     "execution_count": 7,
     "metadata": {},
     "output_type": "execute_result"
    }
   ],
   "source": [
    "df_outliers_removed = remove_outliers_by_type(df_orig, y_col='COMPLETION_HOURS_LOG_10')\n",
    "df_outliers_removed.shape"
   ]
  },
  {
   "cell_type": "markdown",
   "metadata": {},
   "source": [
    "## Remove `TYPE` col"
   ]
  },
  {
   "cell_type": "code",
   "execution_count": 8,
   "metadata": {
    "collapsed": true
   },
   "outputs": [],
   "source": [
    "df_outliers_removed.drop('TYPE', axis=1, inplace=True)"
   ]
  },
  {
   "cell_type": "markdown",
   "metadata": {},
   "source": [
    "## Choosing columns"
   ]
  },
  {
   "cell_type": "code",
   "execution_count": 9,
   "metadata": {
    "collapsed": true
   },
   "outputs": [
    {
     "data": {
      "text/plain": [
       "['SubmittedPhoto',\n",
       " 'race_asian',\n",
       " 'race_hispanic',\n",
       " 'race_other',\n",
       " 'poverty_pop_below_poverty_level',\n",
       " 'earned_income_per_capita',\n",
       " 'poverty_pop_w_food_stamps',\n",
       " 'school',\n",
       " 'bedroom',\n",
       " 'rent',\n",
       " 'income_std_dev',\n",
       " 'Source_Constituent Call']"
      ]
     },
     "execution_count": 9,
     "metadata": {},
     "output_type": "execute_result"
    }
   ],
   "source": [
    "['race_black',\n",
    " 'race_asian',\n",
    " 'race_other',\n",
    " 'earned_income_per_capita',\n",
    " 'poverty_pop_w_public_assistance',\n",
    " 'poverty_pop_w_food_stamps',\n",
    " 'poverty_pop_w_ssi',\n",
    " 'school',\n",
    " 'school_std_dev',\n",
    " 'bedroom_std_dev',\n",
    " 'value',\n",
    " 'value_std_dev',\n",
    " 'rent',\n",
    " 'income',\n",
    " 'Source_Constituent Call']"
   ]
  },
  {
   "cell_type": "code",
   "execution_count": 79,
   "metadata": {
    "collapsed": true
   },
   "outputs": [],
   "source": [
    "cols_orig_dataset = ['COMPLETION_HOURS_LOG_10', 'SubmittedPhoto', 'Property_Type', 'Source']\n",
    "cols_census = [\n",
    "     'race_black',\n",
    "     'race_asian',\n",
    "     'race_hispanic',\n",
    "     'race_other',\n",
    "     'housing',\n",
    "     'bedroom',\n",
    "     'rent_std_dev',\n",
    "]\n",
    "cols_engineered = ['queue_wk', 'queue_wk_open', 'is_description']"
   ]
  },
  {
   "cell_type": "code",
   "execution_count": 80,
   "metadata": {
    "collapsed": false
   },
   "outputs": [
    {
     "data": {
      "text/plain": [
       "(16199, 14)"
      ]
     },
     "execution_count": 80,
     "metadata": {},
     "output_type": "execute_result"
    }
   ],
   "source": [
    "df = df_outliers_removed[cols_orig_dataset + cols_census + cols_engineered]\n",
    "df.shape"
   ]
  },
  {
   "cell_type": "markdown",
   "metadata": {},
   "source": [
    "## Removing NAs for cols like `school_std_dev`"
   ]
  },
  {
   "cell_type": "code",
   "execution_count": 81,
   "metadata": {
    "collapsed": false
   },
   "outputs": [
    {
     "name": "stdout",
     "output_type": "stream",
     "text": [
      "10    rent_std_dev\n",
      "Name: index, dtype: object\n"
     ]
    }
   ],
   "source": [
    "aa = df.isnull().any().reset_index()\n",
    "nas = aa[aa[0] == True]['index']\n",
    "print nas"
   ]
  },
  {
   "cell_type": "code",
   "execution_count": 82,
   "metadata": {
    "collapsed": false
   },
   "outputs": [
    {
     "data": {
      "text/plain": [
       "(15890, 14)"
      ]
     },
     "execution_count": 82,
     "metadata": {},
     "output_type": "execute_result"
    }
   ],
   "source": [
    "# this is a bad temporary band-aid\n",
    "df = df.dropna(subset=nas.tolist())\n",
    "df.shape"
   ]
  },
  {
   "cell_type": "markdown",
   "metadata": {},
   "source": [
    "## Dummify"
   ]
  },
  {
   "cell_type": "code",
   "execution_count": 83,
   "metadata": {
    "collapsed": false
   },
   "outputs": [
    {
     "data": {
      "text/plain": [
       "['Property_Type', 'Source', 'housing']"
      ]
     },
     "execution_count": 83,
     "metadata": {},
     "output_type": "execute_result"
    }
   ],
   "source": [
    "cols_to_dummify = [i for i in df.dtypes[df.dtypes == object].index if i != 'TYPE']\n",
    "cols_to_dummify"
   ]
  },
  {
   "cell_type": "code",
   "execution_count": 84,
   "metadata": {
    "collapsed": false
   },
   "outputs": [
    {
     "name": "stdout",
     "output_type": "stream",
     "text": [
      "Intersection is baseline 0 3\n",
      "Self Service is baseline 1 3\n",
      "own is baseline 2 3\n"
     ]
    }
   ],
   "source": [
    "df_dummified, baseline_cols = dummify_cols_and_baselines(df, cols_to_dummify, chosen_col_i=2)"
   ]
  },
  {
   "cell_type": "code",
   "execution_count": 85,
   "metadata": {
    "collapsed": false
   },
   "outputs": [
    {
     "data": {
      "text/plain": [
       "(15890, 14)"
      ]
     },
     "execution_count": 85,
     "metadata": {},
     "output_type": "execute_result"
    }
   ],
   "source": [
    "df_dummified.shape"
   ]
  },
  {
   "cell_type": "markdown",
   "metadata": {},
   "source": [
    "## Checking for multicollinearity"
   ]
  },
  {
   "cell_type": "code",
   "execution_count": 96,
   "metadata": {
    "collapsed": true
   },
   "outputs": [
    {
     "data": {
      "text/html": [
       "<div>\n",
       "<table border=\"1\" class=\"dataframe\">\n",
       "  <thead>\n",
       "    <tr style=\"text-align: right;\">\n",
       "      <th></th>\n",
       "      <th>905400</th>\n",
       "    </tr>\n",
       "  </thead>\n",
       "  <tbody>\n",
       "    <tr>\n",
       "      <th>COMPLETION_HOURS_LOG_10</th>\n",
       "      <td>0.0124857</td>\n",
       "    </tr>\n",
       "    <tr>\n",
       "      <th>SubmittedPhoto</th>\n",
       "      <td>False</td>\n",
       "    </tr>\n",
       "    <tr>\n",
       "      <th>poverty_pop_below_poverty_level</th>\n",
       "      <td>0.262473</td>\n",
       "    </tr>\n",
       "    <tr>\n",
       "      <th>bedroom</th>\n",
       "      <td>2</td>\n",
       "    </tr>\n",
       "    <tr>\n",
       "      <th>queue_wk</th>\n",
       "      <td>12873</td>\n",
       "    </tr>\n",
       "    <tr>\n",
       "      <th>queue_wk_open</th>\n",
       "      <td>1</td>\n",
       "    </tr>\n",
       "    <tr>\n",
       "      <th>is_description</th>\n",
       "      <td>True</td>\n",
       "    </tr>\n",
       "  </tbody>\n",
       "</table>\n",
       "</div>"
      ],
      "text/plain": [
       "                                    905400\n",
       "COMPLETION_HOURS_LOG_10          0.0124857\n",
       "SubmittedPhoto                       False\n",
       "poverty_pop_below_poverty_level   0.262473\n",
       "bedroom                                  2\n",
       "queue_wk                             12873\n",
       "queue_wk_open                            1\n",
       "is_description                        True"
      ]
     },
     "execution_count": 96,
     "metadata": {},
     "output_type": "execute_result"
    }
   ],
   "source": [
    "df_dummified.head(1).T"
   ]
  },
  {
   "cell_type": "code",
   "execution_count": 18,
   "metadata": {
    "collapsed": false
   },
   "outputs": [
    {
     "data": {
      "text/plain": [
       "poverty_pop_w_food_stamps          4.236079\n",
       "earned_income_per_capita           3.316667\n",
       "poverty_pop_below_poverty_level    3.245716\n",
       "housing_std_dev                    2.737470\n",
       "race_hispanic                      2.603753\n",
       "income                             2.565994\n",
       "poverty_pop_w_ssi                  2.333123\n",
       "race_black                         2.215186\n",
       "school                             2.213382\n",
       "race_asian                         2.083619\n",
       "school_std_dev                     2.021305\n",
       "Source_Citizens Connect App        2.017575\n",
       "Source_Constituent Call            1.941944\n",
       "income_std_dev                     1.780807\n",
       "value_std_dev                      1.756591\n",
       "rent_std_dev                       1.675506\n",
       "rent                               1.662569\n",
       "poverty_pop_w_public_assistance    1.647938\n",
       "bedroom                            1.421333\n",
       "bedroom_std_dev                    1.419842\n",
       "value                              1.417218\n",
       "queue_wk                           1.156319\n",
       "race_other                         1.135335\n",
       "queue_wk_open                      1.124785\n",
       "Property_Type_Address              1.087104\n",
       "dtype: float64"
      ]
     },
     "execution_count": 18,
     "metadata": {},
     "output_type": "execute_result"
    }
   ],
   "source": [
    "get_vifs(df_dummified.drop(['SubmittedPhoto', 'is_description'], axis=1), 'COMPLETION_HOURS_LOG_10')"
   ]
  },
  {
   "cell_type": "markdown",
   "metadata": {},
   "source": [
    "## Running model"
   ]
  },
  {
   "cell_type": "code",
   "execution_count": 19,
   "metadata": {
    "collapsed": false
   },
   "outputs": [],
   "source": [
    "from sklearn.cross_validation import train_test_split\n",
    "from sklearn.pipeline import make_pipeline\n",
    "from sklearn.model_selection import GridSearchCV\n",
    "from sklearn.linear_model import LinearRegression, LassoCV\n",
    "from sklearn.cross_validation import ShuffleSplit\n",
    "from sklearn.preprocessing import StandardScaler\n",
    "from sklearn.metrics import mean_squared_error, r2_score\n",
    "import string\n",
    "from StringIO import StringIO\n"
   ]
  },
  {
   "cell_type": "code",
   "execution_count": 20,
   "metadata": {
    "collapsed": true
   },
   "outputs": [],
   "source": [
    "import statsmodels.api as sm\n",
    "import statsmodels.formula.api as smf"
   ]
  },
  {
   "cell_type": "code",
   "execution_count": 21,
   "metadata": {
    "collapsed": false
   },
   "outputs": [],
   "source": [
    "X_train, X_test, y_train, y_test = train_test_split(\n",
    "    df_dummified.drop('COMPLETION_HOURS_LOG_10', axis=1), \n",
    "    df_dummified.COMPLETION_HOURS_LOG_10, \n",
    "    test_size=0.2, \n",
    "    random_state=300\n",
    ")"
   ]
  },
  {
   "cell_type": "markdown",
   "metadata": {},
   "source": [
    "## Use LassoCV to find col subsets"
   ]
  },
  {
   "cell_type": "code",
   "execution_count": 22,
   "metadata": {
    "collapsed": true
   },
   "outputs": [],
   "source": [
    "pipe = make_pipeline(StandardScaler(), LassoCV())\n",
    "cv = ShuffleSplit(X_train.shape[0], n_iter=1, test_size=0.2, random_state=300)"
   ]
  },
  {
   "cell_type": "code",
   "execution_count": 26,
   "metadata": {
    "collapsed": false
   },
   "outputs": [
    {
     "data": {
      "text/html": [
       "<div>\n",
       "<table border=\"1\" class=\"dataframe\">\n",
       "  <thead>\n",
       "    <tr style=\"text-align: right;\">\n",
       "      <th></th>\n",
       "      <th>0</th>\n",
       "      <th>1</th>\n",
       "      <th>2</th>\n",
       "    </tr>\n",
       "  </thead>\n",
       "  <tbody>\n",
       "    <tr>\n",
       "      <th>mean_test_score</th>\n",
       "      <td>0.105206</td>\n",
       "      <td>0.0947433</td>\n",
       "      <td>0.0384517</td>\n",
       "    </tr>\n",
       "    <tr>\n",
       "      <th>mean_train_score</th>\n",
       "      <td>0.100853</td>\n",
       "      <td>0.0889941</td>\n",
       "      <td>0.0342303</td>\n",
       "    </tr>\n",
       "    <tr>\n",
       "      <th>param_lassocv__alphas</th>\n",
       "      <td>[0.01]</td>\n",
       "      <td>[0.03]</td>\n",
       "      <td>[0.1]</td>\n",
       "    </tr>\n",
       "  </tbody>\n",
       "</table>\n",
       "</div>"
      ],
      "text/plain": [
       "                              0          1          2\n",
       "mean_test_score        0.105206  0.0947433  0.0384517\n",
       "mean_train_score       0.100853  0.0889941  0.0342303\n",
       "param_lassocv__alphas    [0.01]     [0.03]      [0.1]"
      ]
     },
     "execution_count": 26,
     "metadata": {},
     "output_type": "execute_result"
    }
   ],
   "source": [
    "params = {'lassocv__alphas': make_alphas(-2, -1)}\n",
    "model = GridSearchCV(pipe, param_grid=params, n_jobs=-1, cv=cv, verbose=0)\n",
    "model.fit(X_train, y_train)\n",
    "pd.DataFrame(model.cv_results_).T.iloc[2:5]"
   ]
  },
  {
   "cell_type": "code",
   "execution_count": 27,
   "metadata": {
    "collapsed": false
   },
   "outputs": [
    {
     "data": {
      "text/plain": [
       "{'lassocv__alphas': [0.01]}"
      ]
     },
     "execution_count": 27,
     "metadata": {},
     "output_type": "execute_result"
    }
   ],
   "source": [
    "model.best_params_"
   ]
  },
  {
   "cell_type": "code",
   "execution_count": 28,
   "metadata": {
    "collapsed": false
   },
   "outputs": [
    {
     "data": {
      "text/plain": [
       "'15 cols go to zero out of 27'"
      ]
     },
     "execution_count": 28,
     "metadata": {},
     "output_type": "execute_result"
    }
   ],
   "source": [
    "'{} cols go to zero out of {}'.format(\n",
    "    len(X_train.columns[model.best_estimator_.steps[-1][-1].coef_ == 0]),\n",
    "    len(X_train.columns)\n",
    ")"
   ]
  },
  {
   "cell_type": "code",
   "execution_count": 29,
   "metadata": {
    "collapsed": false
   },
   "outputs": [
    {
     "data": {
      "text/plain": [
       "['race_black',\n",
       " 'race_asian',\n",
       " 'race_other',\n",
       " 'earned_income_per_capita',\n",
       " 'poverty_pop_w_public_assistance',\n",
       " 'poverty_pop_w_food_stamps',\n",
       " 'poverty_pop_w_ssi',\n",
       " 'school',\n",
       " 'school_std_dev',\n",
       " 'bedroom_std_dev',\n",
       " 'value',\n",
       " 'value_std_dev',\n",
       " 'rent',\n",
       " 'income',\n",
       " 'Source_Constituent Call']"
      ]
     },
     "execution_count": 29,
     "metadata": {},
     "output_type": "execute_result"
    }
   ],
   "source": [
    "cols_zero = list(X_train.columns[model.best_estimator_.steps[-1][-1].coef_ == 0])\n",
    "cols_zero"
   ]
  },
  {
   "cell_type": "markdown",
   "metadata": {},
   "source": [
    "## Use subsetted cols to run lin reg"
   ]
  },
  {
   "cell_type": "code",
   "execution_count": 86,
   "metadata": {
    "collapsed": false
   },
   "outputs": [],
   "source": [
    "df_dummified.columns = [col.translate(None, string.punctuation).replace(' ', '') if col != 'COMPLETION_HOURS_LOG_10' else col for col in df_dummified.columns]"
   ]
  },
  {
   "cell_type": "code",
   "execution_count": 87,
   "metadata": {
    "collapsed": false
   },
   "outputs": [],
   "source": [
    "X_train, X_test, y_train, y_test = train_test_split(\n",
    "    df_dummified.drop(['COMPLETION_HOURS_LOG_10'], axis=1), \n",
    "    df_dummified.COMPLETION_HOURS_LOG_10, \n",
    "    test_size=0.2, \n",
    "    random_state=300\n",
    ")"
   ]
  },
  {
   "cell_type": "code",
   "execution_count": 88,
   "metadata": {
    "collapsed": false,
    "scrolled": true
   },
   "outputs": [],
   "source": [
    "col_list = ' + '.join(df_dummified.drop(['COMPLETION_HOURS_LOG_10'], axis=1).columns)\n",
    "\n",
    "est = smf.ols(\n",
    "    'COMPLETION_HOURS_LOG_10 ~ {}'.format(col_list), \n",
    "    pd.concat([X_train, y_train], axis=1)).fit()"
   ]
  },
  {
   "cell_type": "code",
   "execution_count": 40,
   "metadata": {
    "collapsed": true
   },
   "outputs": [
    {
     "data": {
      "text/html": [
       "<table class=\"simpletable\">\n",
       "<caption>OLS Regression Results</caption>\n",
       "<tr>\n",
       "  <th>Dep. Variable:</th>    <td>COMPLETION_HOURS_LOG_10</td> <th>  R-squared:         </th> <td>   0.104</td> \n",
       "</tr>\n",
       "<tr>\n",
       "  <th>Model:</th>                      <td>OLS</td>           <th>  Adj. R-squared:    </th> <td>   0.102</td> \n",
       "</tr>\n",
       "<tr>\n",
       "  <th>Method:</th>                <td>Least Squares</td>      <th>  F-statistic:       </th> <td>   91.66</td> \n",
       "</tr>\n",
       "<tr>\n",
       "  <th>Date:</th>                <td>Thu, 23 Feb 2017</td>     <th>  Prob (F-statistic):</th> <td>4.43e-286</td>\n",
       "</tr>\n",
       "<tr>\n",
       "  <th>Time:</th>                    <td>18:37:22</td>         <th>  Log-Likelihood:    </th> <td> -9842.2</td> \n",
       "</tr>\n",
       "<tr>\n",
       "  <th>No. Observations:</th>         <td> 12712</td>          <th>  AIC:               </th> <td>1.972e+04</td>\n",
       "</tr>\n",
       "<tr>\n",
       "  <th>Df Residuals:</th>             <td> 12695</td>          <th>  BIC:               </th> <td>1.985e+04</td>\n",
       "</tr>\n",
       "<tr>\n",
       "  <th>Df Model:</th>                 <td>    16</td>          <th>                     </th>     <td> </td>    \n",
       "</tr>\n",
       "<tr>\n",
       "  <th>Covariance Type:</th>         <td>nonrobust</td>        <th>                     </th>     <td> </td>    \n",
       "</tr>\n",
       "</table>"
      ],
      "text/plain": [
       "<class 'statsmodels.iolib.table.SimpleTable'>"
      ]
     },
     "execution_count": 40,
     "metadata": {},
     "output_type": "execute_result"
    }
   ],
   "source": [
    "est.summary().tables[0]"
   ]
  },
  {
   "cell_type": "markdown",
   "metadata": {},
   "source": [
    "### Getting adjusted $R^2$ on test set"
   ]
  },
  {
   "cell_type": "code",
   "execution_count": 89,
   "metadata": {
    "collapsed": false
   },
   "outputs": [],
   "source": [
    "y_pred = est.predict(X_test)"
   ]
  },
  {
   "cell_type": "code",
   "execution_count": 90,
   "metadata": {
    "collapsed": false
   },
   "outputs": [
    {
     "data": {
      "text/plain": [
       "0.10524100967255721"
      ]
     },
     "execution_count": 90,
     "metadata": {},
     "output_type": "execute_result"
    }
   ],
   "source": [
    "adjusted_r2(y_test, y_pred, num_features=X_test.shape[1])"
   ]
  },
  {
   "cell_type": "code",
   "execution_count": 91,
   "metadata": {
    "collapsed": false
   },
   "outputs": [
    {
     "data": {
      "text/plain": [
       "0.51836019581545267"
      ]
     },
     "execution_count": 91,
     "metadata": {},
     "output_type": "execute_result"
    }
   ],
   "source": [
    "mean_squared_error(y_test, y_pred)**0.5"
   ]
  },
  {
   "cell_type": "markdown",
   "metadata": {},
   "source": [
    "## Interpreting model\n",
    "\n",
    "Which features are most associated with completion time?"
   ]
  },
  {
   "cell_type": "code",
   "execution_count": 97,
   "metadata": {
    "collapsed": false
   },
   "outputs": [
    {
     "data": {
      "text/plain": [
       "(14, 8)"
      ]
     },
     "execution_count": 97,
     "metadata": {},
     "output_type": "execute_result"
    }
   ],
   "source": [
    "df_results = pd.read_csv(StringIO(est.summary().tables[1].as_csv()), index_col=0).reset_index()\n",
    "df_results.columns = ['coef_name'] + [i.rstrip().lstrip() for i in df_results.columns][1:]\n",
    "df_results.coef_name = df_results.coef_name.map(lambda x: x.strip())\n",
    "df_results = df_results.sort_values('P>|t|')\n",
    "df_results['pct_diff_for_y'] = (10**df_results.coef - 1) * 100\n",
    "df_results['pct_diff_for_y_abs'] = pd.np.abs((10**df_results.coef - 1) * 100)\n",
    "df_results.sort_values('pct_diff_for_y_abs', inplace=True, ascending=False)\n",
    "df_results.shape"
   ]
  },
  {
   "cell_type": "code",
   "execution_count": 96,
   "metadata": {
    "collapsed": false
   },
   "outputs": [
    {
     "data": {
      "text/html": [
       "<div>\n",
       "<table border=\"1\" class=\"dataframe\">\n",
       "  <thead>\n",
       "    <tr style=\"text-align: right;\">\n",
       "      <th></th>\n",
       "      <th>coef_name</th>\n",
       "      <th>coef</th>\n",
       "      <th>std err</th>\n",
       "      <th>t</th>\n",
       "      <th>P&gt;|t|</th>\n",
       "      <th>[95.0% Conf. Int.]</th>\n",
       "      <th>pct_diff_for_y</th>\n",
       "      <th>pct_diff_for_y_abs</th>\n",
       "    </tr>\n",
       "  </thead>\n",
       "  <tbody>\n",
       "    <tr>\n",
       "      <th>0</th>\n",
       "      <td>Intercept</td>\n",
       "      <td>1.975500</td>\n",
       "      <td>0.034000</td>\n",
       "      <td>58.554</td>\n",
       "      <td>0.000</td>\n",
       "      <td>1.909     2.042</td>\n",
       "      <td>9351.483924</td>\n",
       "      <td>9351.483924</td>\n",
       "    </tr>\n",
       "    <tr>\n",
       "      <th>8</th>\n",
       "      <td>rentstddev</td>\n",
       "      <td>0.592500</td>\n",
       "      <td>0.218000</td>\n",
       "      <td>2.721</td>\n",
       "      <td>0.007</td>\n",
       "      <td>0.166     1.019</td>\n",
       "      <td>291.291127</td>\n",
       "      <td>291.291127</td>\n",
       "    </tr>\n",
       "    <tr>\n",
       "      <th>6</th>\n",
       "      <td>raceother</td>\n",
       "      <td>-0.161100</td>\n",
       "      <td>0.120000</td>\n",
       "      <td>-1.341</td>\n",
       "      <td>0.180</td>\n",
       "      <td>-0.397     0.074</td>\n",
       "      <td>-30.991911</td>\n",
       "      <td>30.991911</td>\n",
       "    </tr>\n",
       "    <tr>\n",
       "      <th>4</th>\n",
       "      <td>raceasian</td>\n",
       "      <td>0.106900</td>\n",
       "      <td>0.034000</td>\n",
       "      <td>3.167</td>\n",
       "      <td>0.002</td>\n",
       "      <td>0.041     0.173</td>\n",
       "      <td>27.908675</td>\n",
       "      <td>27.908675</td>\n",
       "    </tr>\n",
       "    <tr>\n",
       "      <th>5</th>\n",
       "      <td>racehispanic</td>\n",
       "      <td>0.103800</td>\n",
       "      <td>0.029000</td>\n",
       "      <td>3.523</td>\n",
       "      <td>0.000</td>\n",
       "      <td>0.046     0.162</td>\n",
       "      <td>26.998912</td>\n",
       "      <td>26.998912</td>\n",
       "    </tr>\n",
       "    <tr>\n",
       "      <th>1</th>\n",
       "      <td>SubmittedPhoto[T.True]</td>\n",
       "      <td>0.090300</td>\n",
       "      <td>0.017000</td>\n",
       "      <td>5.457</td>\n",
       "      <td>0.000</td>\n",
       "      <td>0.058     0.123</td>\n",
       "      <td>23.111890</td>\n",
       "      <td>23.111890</td>\n",
       "    </tr>\n",
       "    <tr>\n",
       "      <th>12</th>\n",
       "      <td>SourceCitizensConnectApp</td>\n",
       "      <td>-0.106900</td>\n",
       "      <td>0.018000</td>\n",
       "      <td>-6.076</td>\n",
       "      <td>0.000</td>\n",
       "      <td>-0.141    -0.072</td>\n",
       "      <td>-21.819220</td>\n",
       "      <td>21.819220</td>\n",
       "    </tr>\n",
       "    <tr>\n",
       "      <th>11</th>\n",
       "      <td>PropertyTypeAddress</td>\n",
       "      <td>0.075800</td>\n",
       "      <td>0.011000</td>\n",
       "      <td>7.013</td>\n",
       "      <td>0.000</td>\n",
       "      <td>0.055     0.097</td>\n",
       "      <td>19.069355</td>\n",
       "      <td>19.069355</td>\n",
       "    </tr>\n",
       "    <tr>\n",
       "      <th>2</th>\n",
       "      <td>isdescription[T.True]</td>\n",
       "      <td>0.066600</td>\n",
       "      <td>0.010000</td>\n",
       "      <td>6.501</td>\n",
       "      <td>0.000</td>\n",
       "      <td>0.047     0.087</td>\n",
       "      <td>16.573544</td>\n",
       "      <td>16.573544</td>\n",
       "    </tr>\n",
       "    <tr>\n",
       "      <th>13</th>\n",
       "      <td>SourceConstituentCall</td>\n",
       "      <td>-0.024400</td>\n",
       "      <td>0.021000</td>\n",
       "      <td>-1.162</td>\n",
       "      <td>0.245</td>\n",
       "      <td>-0.066     0.017</td>\n",
       "      <td>-5.463395</td>\n",
       "      <td>5.463395</td>\n",
       "    </tr>\n",
       "    <tr>\n",
       "      <th>3</th>\n",
       "      <td>raceblack</td>\n",
       "      <td>0.015700</td>\n",
       "      <td>0.030000</td>\n",
       "      <td>0.518</td>\n",
       "      <td>0.605</td>\n",
       "      <td>-0.044     0.075</td>\n",
       "      <td>3.681196</td>\n",
       "      <td>3.681196</td>\n",
       "    </tr>\n",
       "    <tr>\n",
       "      <th>7</th>\n",
       "      <td>bedroom</td>\n",
       "      <td>0.014900</td>\n",
       "      <td>0.007000</td>\n",
       "      <td>2.258</td>\n",
       "      <td>0.024</td>\n",
       "      <td>0.002     0.028</td>\n",
       "      <td>3.490384</td>\n",
       "      <td>3.490384</td>\n",
       "    </tr>\n",
       "    <tr>\n",
       "      <th>10</th>\n",
       "      <td>queuewkopen</td>\n",
       "      <td>0.000700</td>\n",
       "      <td>0.000032</td>\n",
       "      <td>20.492</td>\n",
       "      <td>0.000</td>\n",
       "      <td>0.001     0.001</td>\n",
       "      <td>0.161311</td>\n",
       "      <td>0.161311</td>\n",
       "    </tr>\n",
       "    <tr>\n",
       "      <th>9</th>\n",
       "      <td>queuewk</td>\n",
       "      <td>0.000009</td>\n",
       "      <td>0.000001</td>\n",
       "      <td>8.105</td>\n",
       "      <td>0.000</td>\n",
       "      <td>6.67e-06  1.09e-05</td>\n",
       "      <td>0.002027</td>\n",
       "      <td>0.002027</td>\n",
       "    </tr>\n",
       "  </tbody>\n",
       "</table>\n",
       "</div>"
      ],
      "text/plain": [
       "                   coef_name      coef   std err       t  P>|t|  \\\n",
       "0                  Intercept  1.975500  0.034000  58.554  0.000   \n",
       "8                 rentstddev  0.592500  0.218000   2.721  0.007   \n",
       "6                  raceother -0.161100  0.120000  -1.341  0.180   \n",
       "4                  raceasian  0.106900  0.034000   3.167  0.002   \n",
       "5               racehispanic  0.103800  0.029000   3.523  0.000   \n",
       "1     SubmittedPhoto[T.True]  0.090300  0.017000   5.457  0.000   \n",
       "12  SourceCitizensConnectApp -0.106900  0.018000  -6.076  0.000   \n",
       "11       PropertyTypeAddress  0.075800  0.011000   7.013  0.000   \n",
       "2      isdescription[T.True]  0.066600  0.010000   6.501  0.000   \n",
       "13     SourceConstituentCall -0.024400  0.021000  -1.162  0.245   \n",
       "3                  raceblack  0.015700  0.030000   0.518  0.605   \n",
       "7                    bedroom  0.014900  0.007000   2.258  0.024   \n",
       "10               queuewkopen  0.000700  0.000032  20.492  0.000   \n",
       "9                    queuewk  0.000009  0.000001   8.105  0.000   \n",
       "\n",
       "     [95.0% Conf. Int.]  pct_diff_for_y  pct_diff_for_y_abs  \n",
       "0       1.909     2.042     9351.483924         9351.483924  \n",
       "8       0.166     1.019      291.291127          291.291127  \n",
       "6      -0.397     0.074      -30.991911           30.991911  \n",
       "4       0.041     0.173       27.908675           27.908675  \n",
       "5       0.046     0.162       26.998912           26.998912  \n",
       "1       0.058     0.123       23.111890           23.111890  \n",
       "12     -0.141    -0.072      -21.819220           21.819220  \n",
       "11      0.055     0.097       19.069355           19.069355  \n",
       "2       0.047     0.087       16.573544           16.573544  \n",
       "13     -0.066     0.017       -5.463395            5.463395  \n",
       "3      -0.044     0.075        3.681196            3.681196  \n",
       "7       0.002     0.028        3.490384            3.490384  \n",
       "10      0.001     0.001        0.161311            0.161311  \n",
       "9    6.67e-06  1.09e-05        0.002027            0.002027  "
      ]
     },
     "execution_count": 96,
     "metadata": {},
     "output_type": "execute_result"
    }
   ],
   "source": [
    "df_results"
   ]
  },
  {
   "cell_type": "code",
   "execution_count": 94,
   "metadata": {
    "collapsed": false
   },
   "outputs": [
    {
     "data": {
      "text/plain": [
       "[('raceblack', 34.559),\n",
       " ('SourceCitizensConnectApp', 34.31),\n",
       " ('SourceConstituentCall', 34.185),\n",
       " ('raceother', 34.091),\n",
       " ('bedroom', 32.199),\n",
       " ('PropertyTypeAddress', 32.178),\n",
       " ('SubmittedPhoto', 32.053),\n",
       " ('queuewkopen', 31.988),\n",
       " ('racehispanic', 31.873),\n",
       " ('queuewk', 31.796),\n",
       " ('rentstddev', 31.769),\n",
       " ('raceasian', 31.741),\n",
       " ('isdescription', 30.017)]"
      ]
     },
     "execution_count": 94,
     "metadata": {},
     "output_type": "execute_result"
    }
   ],
   "source": [
    "scores = []\n",
    "\n",
    "for col in X_train.columns:\n",
    "    if col != 'Intercept':\n",
    "        score = remove_one_feature([col], df_dummified)\n",
    "        scores.append((col, score))\n",
    "        \n",
    "sorted(scores, key=lambda x: x[1])[::-1]        "
   ]
  },
  {
   "cell_type": "code",
   "execution_count": 98,
   "metadata": {
    "collapsed": false
   },
   "outputs": [
    {
     "name": "stderr",
     "output_type": "stream",
     "text": [
      "/home/ubuntu/anaconda2/lib/python2.7/site-packages/ipykernel/__main__.py:1: UserWarning: Boolean Series key will be reindexed to match DataFrame index.\n",
      "  if __name__ == '__main__':\n"
     ]
    },
    {
     "data": {
      "text/html": [
       "<div>\n",
       "<table border=\"1\" class=\"dataframe\">\n",
       "  <thead>\n",
       "    <tr style=\"text-align: right;\">\n",
       "      <th></th>\n",
       "      <th>coef_name</th>\n",
       "      <th>coef</th>\n",
       "      <th>std err</th>\n",
       "      <th>t</th>\n",
       "      <th>P&gt;|t|</th>\n",
       "      <th>[95.0% Conf. Int.]</th>\n",
       "      <th>pct_diff_for_y</th>\n",
       "      <th>pct_diff_for_y_abs</th>\n",
       "    </tr>\n",
       "  </thead>\n",
       "  <tbody>\n",
       "    <tr>\n",
       "      <th>8</th>\n",
       "      <td>rentstddev</td>\n",
       "      <td>0.592500</td>\n",
       "      <td>0.218000</td>\n",
       "      <td>2.721</td>\n",
       "      <td>0.007</td>\n",
       "      <td>0.166     1.019</td>\n",
       "      <td>291.291127</td>\n",
       "      <td>291.291127</td>\n",
       "    </tr>\n",
       "    <tr>\n",
       "      <th>4</th>\n",
       "      <td>raceasian</td>\n",
       "      <td>0.106900</td>\n",
       "      <td>0.034000</td>\n",
       "      <td>3.167</td>\n",
       "      <td>0.002</td>\n",
       "      <td>0.041     0.173</td>\n",
       "      <td>27.908675</td>\n",
       "      <td>27.908675</td>\n",
       "    </tr>\n",
       "    <tr>\n",
       "      <th>5</th>\n",
       "      <td>racehispanic</td>\n",
       "      <td>0.103800</td>\n",
       "      <td>0.029000</td>\n",
       "      <td>3.523</td>\n",
       "      <td>0.000</td>\n",
       "      <td>0.046     0.162</td>\n",
       "      <td>26.998912</td>\n",
       "      <td>26.998912</td>\n",
       "    </tr>\n",
       "    <tr>\n",
       "      <th>1</th>\n",
       "      <td>SubmittedPhoto[T.True]</td>\n",
       "      <td>0.090300</td>\n",
       "      <td>0.017000</td>\n",
       "      <td>5.457</td>\n",
       "      <td>0.000</td>\n",
       "      <td>0.058     0.123</td>\n",
       "      <td>23.111890</td>\n",
       "      <td>23.111890</td>\n",
       "    </tr>\n",
       "    <tr>\n",
       "      <th>12</th>\n",
       "      <td>SourceCitizensConnectApp</td>\n",
       "      <td>-0.106900</td>\n",
       "      <td>0.018000</td>\n",
       "      <td>-6.076</td>\n",
       "      <td>0.000</td>\n",
       "      <td>-0.141    -0.072</td>\n",
       "      <td>-21.819220</td>\n",
       "      <td>21.819220</td>\n",
       "    </tr>\n",
       "    <tr>\n",
       "      <th>11</th>\n",
       "      <td>PropertyTypeAddress</td>\n",
       "      <td>0.075800</td>\n",
       "      <td>0.011000</td>\n",
       "      <td>7.013</td>\n",
       "      <td>0.000</td>\n",
       "      <td>0.055     0.097</td>\n",
       "      <td>19.069355</td>\n",
       "      <td>19.069355</td>\n",
       "    </tr>\n",
       "    <tr>\n",
       "      <th>2</th>\n",
       "      <td>isdescription[T.True]</td>\n",
       "      <td>0.066600</td>\n",
       "      <td>0.010000</td>\n",
       "      <td>6.501</td>\n",
       "      <td>0.000</td>\n",
       "      <td>0.047     0.087</td>\n",
       "      <td>16.573544</td>\n",
       "      <td>16.573544</td>\n",
       "    </tr>\n",
       "    <tr>\n",
       "      <th>7</th>\n",
       "      <td>bedroom</td>\n",
       "      <td>0.014900</td>\n",
       "      <td>0.007000</td>\n",
       "      <td>2.258</td>\n",
       "      <td>0.024</td>\n",
       "      <td>0.002     0.028</td>\n",
       "      <td>3.490384</td>\n",
       "      <td>3.490384</td>\n",
       "    </tr>\n",
       "    <tr>\n",
       "      <th>10</th>\n",
       "      <td>queuewkopen</td>\n",
       "      <td>0.000700</td>\n",
       "      <td>0.000032</td>\n",
       "      <td>20.492</td>\n",
       "      <td>0.000</td>\n",
       "      <td>0.001     0.001</td>\n",
       "      <td>0.161311</td>\n",
       "      <td>0.161311</td>\n",
       "    </tr>\n",
       "    <tr>\n",
       "      <th>9</th>\n",
       "      <td>queuewk</td>\n",
       "      <td>0.000009</td>\n",
       "      <td>0.000001</td>\n",
       "      <td>8.105</td>\n",
       "      <td>0.000</td>\n",
       "      <td>6.67e-06  1.09e-05</td>\n",
       "      <td>0.002027</td>\n",
       "      <td>0.002027</td>\n",
       "    </tr>\n",
       "  </tbody>\n",
       "</table>\n",
       "</div>"
      ],
      "text/plain": [
       "                   coef_name      coef   std err       t  P>|t|  \\\n",
       "8                 rentstddev  0.592500  0.218000   2.721  0.007   \n",
       "4                  raceasian  0.106900  0.034000   3.167  0.002   \n",
       "5               racehispanic  0.103800  0.029000   3.523  0.000   \n",
       "1     SubmittedPhoto[T.True]  0.090300  0.017000   5.457  0.000   \n",
       "12  SourceCitizensConnectApp -0.106900  0.018000  -6.076  0.000   \n",
       "11       PropertyTypeAddress  0.075800  0.011000   7.013  0.000   \n",
       "2      isdescription[T.True]  0.066600  0.010000   6.501  0.000   \n",
       "7                    bedroom  0.014900  0.007000   2.258  0.024   \n",
       "10               queuewkopen  0.000700  0.000032  20.492  0.000   \n",
       "9                    queuewk  0.000009  0.000001   8.105  0.000   \n",
       "\n",
       "     [95.0% Conf. Int.]  pct_diff_for_y  pct_diff_for_y_abs  \n",
       "8       0.166     1.019      291.291127          291.291127  \n",
       "4       0.041     0.173       27.908675           27.908675  \n",
       "5       0.046     0.162       26.998912           26.998912  \n",
       "1       0.058     0.123       23.111890           23.111890  \n",
       "12     -0.141    -0.072      -21.819220           21.819220  \n",
       "11      0.055     0.097       19.069355           19.069355  \n",
       "2       0.047     0.087       16.573544           16.573544  \n",
       "7       0.002     0.028        3.490384            3.490384  \n",
       "10      0.001     0.001        0.161311            0.161311  \n",
       "9    6.67e-06  1.09e-05        0.002027            0.002027  "
      ]
     },
     "execution_count": 98,
     "metadata": {},
     "output_type": "execute_result"
    }
   ],
   "source": [
    "df_results[df_results['P>|t|'] < 0.1][df_results.coef_name != 'Intercept']"
   ]
  },
  {
   "cell_type": "code",
   "execution_count": null,
   "metadata": {
    "collapsed": true
   },
   "outputs": [],
   "source": []
  },
  {
   "cell_type": "markdown",
   "metadata": {},
   "source": [
    "# Selected Findings\n",
    "\n",
    "- **Increased diversity in rent** associated with **worse** completion time.\n",
    "- **Asian and Hispanic** associated with **worse** completion time.\n",
    "- **From app** associated with **better** completion time.\n",
    "\n",
    "### Weird Findings\n",
    "- **Submitted photo** associated with **worse** completion time.\n",
    "- **More bedrooms** associated with **worse** completion time."
   ]
  }
 ],
 "metadata": {
  "anaconda-cloud": {},
  "kernelspec": {
   "display_name": "Python [default]",
   "language": "python",
   "name": "python2"
  },
  "language_info": {
   "codemirror_mode": {
    "name": "ipython",
    "version": 2
   },
   "file_extension": ".py",
   "mimetype": "text/x-python",
   "name": "python",
   "nbconvert_exporter": "python",
   "pygments_lexer": "ipython2",
   "version": "2.7.12"
  }
 },
 "nbformat": 4,
 "nbformat_minor": 2
}
