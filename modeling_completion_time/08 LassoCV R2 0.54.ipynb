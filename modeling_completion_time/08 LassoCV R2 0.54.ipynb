{
 "cells": [
  {
   "cell_type": "markdown",
   "metadata": {},
   "source": [
    "## Objective\n",
    "\n",
    "Use L2 Lasso regularization, see:\n",
    "- if $R^2$ improves from 0.56\n",
    "- whether we avoid crazy `y_pred`s (presumably from overfitting)\n",
    "- which coefficients drop to 0"
   ]
  },
  {
   "cell_type": "code",
   "execution_count": 3,
   "metadata": {
    "collapsed": false
   },
   "outputs": [],
   "source": [
    "from __future__ import division\n",
    "import pandas as pd\n",
    "import numpy as np\n",
    "import warnings\n",
    "import seaborn as sns\n",
    "import matplotlib.pyplot as plt\n",
    "from pylab import rcParams\n",
    "%matplotlib inline\n",
    "\n",
    "warnings.filterwarnings(\"ignore\", category=DeprecationWarning)\n",
    "sns.set_style(\"whitegrid\")\n",
    "sns.set_context(\"poster\")\n",
    "rcParams['figure.figsize'] = 20, 5\n",
    "\n",
    "from helper_functions import dummify_cols_and_baselines, make_alphas, remove_outliers_by_type"
   ]
  },
  {
   "cell_type": "code",
   "execution_count": 4,
   "metadata": {
    "collapsed": false
   },
   "outputs": [
    {
     "data": {
      "text/plain": [
       "(516406, 40)"
      ]
     },
     "execution_count": 4,
     "metadata": {},
     "output_type": "execute_result"
    }
   ],
   "source": [
    "df_orig = pd.read_pickle('../data/data_from_remove_from_dataset.pkl')\n",
    "df_orig.shape"
   ]
  },
  {
   "cell_type": "markdown",
   "metadata": {},
   "source": [
    "## Removing outliers\n",
    "\n",
    "A standard procedure is to remove values further than 3 standard deviations from the mean. Since I have so many low values and some very high values, I anecdotally think that the low values are very likely to be true, and the high values not so much.\n",
    "\n",
    "So, I will remove values further than 3 SDs from the median, by type.\n",
    "\n",
    "Ideally, I would take into account the time dimension. I would like to do so given more time."
   ]
  },
  {
   "cell_type": "code",
   "execution_count": 5,
   "metadata": {
    "collapsed": false
   },
   "outputs": [
    {
     "name": "stderr",
     "output_type": "stream",
     "text": [
      "helper_functions.py:24: SettingWithCopyWarning: \n",
      "A value is trying to be set on a copy of a slice from a DataFrame.\n",
      "Try using .loc[row_indexer,col_indexer] = value instead\n",
      "\n",
      "See the caveats in the documentation: http://pandas.pydata.org/pandas-docs/stable/indexing.html#indexing-view-versus-copy\n",
      "/home/ec2-user/anaconda2/lib/python2.7/site-packages/pandas/core/frame.py:2454: SettingWithCopyWarning: \n",
      "A value is trying to be set on a copy of a slice from a DataFrame\n",
      "\n",
      "See the caveats in the documentation: http://pandas.pydata.org/pandas-docs/stable/indexing.html#indexing-view-versus-copy\n",
      "  self._where(-key, value, inplace=True)\n"
     ]
    },
    {
     "data": {
      "text/plain": [
       "(508653, 40)"
      ]
     },
     "execution_count": 5,
     "metadata": {},
     "output_type": "execute_result"
    }
   ],
   "source": [
    "df_outliers_removed = remove_outliers_by_type(df_orig, y_col='COMPLETION_HOURS_LOG_10')\n",
    "df_outliers_removed.shape"
   ]
  },
  {
   "cell_type": "markdown",
   "metadata": {},
   "source": [
    "I'm removing ~1.5% of my rows."
   ]
  },
  {
   "cell_type": "markdown",
   "metadata": {},
   "source": [
    "## Choosing columns"
   ]
  },
  {
   "cell_type": "code",
   "execution_count": 6,
   "metadata": {
    "collapsed": true
   },
   "outputs": [],
   "source": [
    "cols_orig_dataset = ['COMPLETION_HOURS_LOG_10', 'TYPE', 'SubmittedPhoto', 'Property_Type', 'Source', 'neighborhood_from_zip']\n",
    "cols_census = ['race_white',\n",
    "     'race_black',\n",
    "     'race_asian',\n",
    "     'race_hispanic',\n",
    "     'race_other',\n",
    "     'poverty_pop_below_poverty_level',\n",
    "     'earned_income_per_capita',\n",
    "     'poverty_pop_w_public_assistance',\n",
    "     'poverty_pop_w_food_stamps',\n",
    "     'poverty_pop_w_ssi',\n",
    "     'school',\n",
    "     'school_std_dev',\n",
    "     'housing',\n",
    "     'housing_std_dev',\n",
    "     'bedroom',\n",
    "     'bedroom_std_dev',\n",
    "     'value',\n",
    "     'value_std_dev',\n",
    "     'rent',\n",
    "     'rent_std_dev',\n",
    "     'income',\n",
    "     'income_std_dev']\n",
    "cols_engineered = ['queue_wk', 'queue_wk_open', 'is_description']"
   ]
  },
  {
   "cell_type": "code",
   "execution_count": 7,
   "metadata": {
    "collapsed": false
   },
   "outputs": [],
   "source": [
    "df = df_outliers_removed[cols_orig_dataset + cols_census + cols_engineered]"
   ]
  },
  {
   "cell_type": "markdown",
   "metadata": {},
   "source": [
    "## Dummify"
   ]
  },
  {
   "cell_type": "code",
   "execution_count": 8,
   "metadata": {
    "collapsed": false
   },
   "outputs": [
    {
     "data": {
      "text/plain": [
       "Index([u'TYPE', u'Property_Type', u'Source', u'neighborhood_from_zip',\n",
       "       u'school', u'housing'],\n",
       "      dtype='object')"
      ]
     },
     "execution_count": 8,
     "metadata": {},
     "output_type": "execute_result"
    }
   ],
   "source": [
    "cols_to_dummify = df.dtypes[df.dtypes == object].index\n",
    "cols_to_dummify"
   ]
  },
  {
   "cell_type": "code",
   "execution_count": 9,
   "metadata": {
    "collapsed": false
   },
   "outputs": [
    {
     "name": "stdout",
     "output_type": "stream",
     "text": [
      "Zoning is baseline 0 6\n",
      "other is baseline 1 6\n",
      "Twitter is baseline 2 6\n",
      "West Roxbury is baseline 3 6\n",
      "8_6th_grade is baseline 4 6\n",
      "rent is baseline 5 6\n"
     ]
    }
   ],
   "source": [
    "df_dummified, baseline_cols = dummify_cols_and_baselines(df, cols_to_dummify)"
   ]
  },
  {
   "cell_type": "code",
   "execution_count": 8,
   "metadata": {
    "collapsed": false
   },
   "outputs": [
    {
     "data": {
      "text/plain": [
       "(508653, 253)"
      ]
     },
     "execution_count": 8,
     "metadata": {},
     "output_type": "execute_result"
    }
   ],
   "source": [
    "df_dummified.shape"
   ]
  },
  {
   "cell_type": "markdown",
   "metadata": {},
   "source": [
    "## Running model"
   ]
  },
  {
   "cell_type": "code",
   "execution_count": 85,
   "metadata": {
    "collapsed": false
   },
   "outputs": [
    {
     "data": {
      "text/html": [
       "<div>\n",
       "<table border=\"1\" class=\"dataframe\">\n",
       "  <thead>\n",
       "    <tr style=\"text-align: right;\">\n",
       "      <th></th>\n",
       "      <th>905425</th>\n",
       "      <th>905235</th>\n",
       "    </tr>\n",
       "  </thead>\n",
       "  <tbody>\n",
       "    <tr>\n",
       "      <th>COMPLETION_HOURS_LOG_10</th>\n",
       "      <td>-0.0369997</td>\n",
       "      <td>0.366423</td>\n",
       "    </tr>\n",
       "    <tr>\n",
       "      <th>TYPE</th>\n",
       "      <td>Request for Snow Plowing</td>\n",
       "      <td>Misc. Snow Complaint</td>\n",
       "    </tr>\n",
       "    <tr>\n",
       "      <th>SubmittedPhoto</th>\n",
       "      <td>True</td>\n",
       "      <td>False</td>\n",
       "    </tr>\n",
       "    <tr>\n",
       "      <th>Property_Type</th>\n",
       "      <td>Address</td>\n",
       "      <td>Address</td>\n",
       "    </tr>\n",
       "    <tr>\n",
       "      <th>Source</th>\n",
       "      <td>Citizens Connect App</td>\n",
       "      <td>Citizens Connect App</td>\n",
       "    </tr>\n",
       "    <tr>\n",
       "      <th>neighborhood_from_zip</th>\n",
       "      <td>Dorchester</td>\n",
       "      <td>East Boston</td>\n",
       "    </tr>\n",
       "    <tr>\n",
       "      <th>race_white</th>\n",
       "      <td>0.242399</td>\n",
       "      <td>0.38997</td>\n",
       "    </tr>\n",
       "    <tr>\n",
       "      <th>race_black</th>\n",
       "      <td>0.514358</td>\n",
       "      <td>0</td>\n",
       "    </tr>\n",
       "    <tr>\n",
       "      <th>race_asian</th>\n",
       "      <td>0.035473</td>\n",
       "      <td>0</td>\n",
       "    </tr>\n",
       "    <tr>\n",
       "      <th>race_hispanic</th>\n",
       "      <td>0.0675676</td>\n",
       "      <td>0.562126</td>\n",
       "    </tr>\n",
       "    <tr>\n",
       "      <th>race_other</th>\n",
       "      <td>0.140203</td>\n",
       "      <td>0.0479042</td>\n",
       "    </tr>\n",
       "    <tr>\n",
       "      <th>poverty_pop_below_poverty_level</th>\n",
       "      <td>0</td>\n",
       "      <td>0.17757</td>\n",
       "    </tr>\n",
       "    <tr>\n",
       "      <th>earned_income_per_capita</th>\n",
       "      <td>34340</td>\n",
       "      <td>29491</td>\n",
       "    </tr>\n",
       "    <tr>\n",
       "      <th>poverty_pop_w_public_assistance</th>\n",
       "      <td>0.0597484</td>\n",
       "      <td>0</td>\n",
       "    </tr>\n",
       "    <tr>\n",
       "      <th>poverty_pop_w_food_stamps</th>\n",
       "      <td>0.138365</td>\n",
       "      <td>0.0317757</td>\n",
       "    </tr>\n",
       "    <tr>\n",
       "      <th>poverty_pop_w_ssi</th>\n",
       "      <td>0.0597484</td>\n",
       "      <td>0.0542056</td>\n",
       "    </tr>\n",
       "  </tbody>\n",
       "</table>\n",
       "</div>"
      ],
      "text/plain": [
       "                                                   905425  \\\n",
       "COMPLETION_HOURS_LOG_10                        -0.0369997   \n",
       "TYPE                             Request for Snow Plowing   \n",
       "SubmittedPhoto                                       True   \n",
       "Property_Type                                     Address   \n",
       "Source                               Citizens Connect App   \n",
       "neighborhood_from_zip                          Dorchester   \n",
       "race_white                                       0.242399   \n",
       "race_black                                       0.514358   \n",
       "race_asian                                       0.035473   \n",
       "race_hispanic                                   0.0675676   \n",
       "race_other                                       0.140203   \n",
       "poverty_pop_below_poverty_level                         0   \n",
       "earned_income_per_capita                            34340   \n",
       "poverty_pop_w_public_assistance                 0.0597484   \n",
       "poverty_pop_w_food_stamps                        0.138365   \n",
       "poverty_pop_w_ssi                               0.0597484   \n",
       "\n",
       "                                               905235  \n",
       "COMPLETION_HOURS_LOG_10                      0.366423  \n",
       "TYPE                             Misc. Snow Complaint  \n",
       "SubmittedPhoto                                  False  \n",
       "Property_Type                                 Address  \n",
       "Source                           Citizens Connect App  \n",
       "neighborhood_from_zip                     East Boston  \n",
       "race_white                                    0.38997  \n",
       "race_black                                          0  \n",
       "race_asian                                          0  \n",
       "race_hispanic                                0.562126  \n",
       "race_other                                  0.0479042  \n",
       "poverty_pop_below_poverty_level               0.17757  \n",
       "earned_income_per_capita                        29491  \n",
       "poverty_pop_w_public_assistance                     0  \n",
       "poverty_pop_w_food_stamps                   0.0317757  \n",
       "poverty_pop_w_ssi                           0.0542056  "
      ]
     },
     "execution_count": 85,
     "metadata": {},
     "output_type": "execute_result"
    }
   ],
   "source": [
    "df.head(2).T.iloc[:16]"
   ]
  },
  {
   "cell_type": "code",
   "execution_count": 86,
   "metadata": {
    "collapsed": false
   },
   "outputs": [
    {
     "data": {
      "text/html": [
       "<div>\n",
       "<table border=\"1\" class=\"dataframe\">\n",
       "  <thead>\n",
       "    <tr style=\"text-align: right;\">\n",
       "      <th></th>\n",
       "      <th>905425</th>\n",
       "      <th>905235</th>\n",
       "    </tr>\n",
       "  </thead>\n",
       "  <tbody>\n",
       "    <tr>\n",
       "      <th>school</th>\n",
       "      <td>15_hs_diploma</td>\n",
       "      <td>15_hs_diploma</td>\n",
       "    </tr>\n",
       "    <tr>\n",
       "      <th>school_std_dev</th>\n",
       "      <td>91.7672</td>\n",
       "      <td>87.8748</td>\n",
       "    </tr>\n",
       "    <tr>\n",
       "      <th>housing</th>\n",
       "      <td>own</td>\n",
       "      <td>rent</td>\n",
       "    </tr>\n",
       "    <tr>\n",
       "      <th>housing_std_dev</th>\n",
       "      <td>26.8701</td>\n",
       "      <td>153.442</td>\n",
       "    </tr>\n",
       "    <tr>\n",
       "      <th>bedroom</th>\n",
       "      <td>3</td>\n",
       "      <td>2</td>\n",
       "    </tr>\n",
       "    <tr>\n",
       "      <th>bedroom_std_dev</th>\n",
       "      <td>61.5123</td>\n",
       "      <td>90.1874</td>\n",
       "    </tr>\n",
       "    <tr>\n",
       "      <th>value</th>\n",
       "      <td>350000</td>\n",
       "      <td>225000</td>\n",
       "    </tr>\n",
       "    <tr>\n",
       "      <th>value_std_dev</th>\n",
       "      <td>20.9794</td>\n",
       "      <td>14.8764</td>\n",
       "    </tr>\n",
       "    <tr>\n",
       "      <th>rent</th>\n",
       "      <td>1750</td>\n",
       "      <td>1125</td>\n",
       "    </tr>\n",
       "    <tr>\n",
       "      <th>rent_std_dev</th>\n",
       "      <td>19.1622</td>\n",
       "      <td>35.2037</td>\n",
       "    </tr>\n",
       "    <tr>\n",
       "      <th>income</th>\n",
       "      <td>112500</td>\n",
       "      <td>112500</td>\n",
       "    </tr>\n",
       "    <tr>\n",
       "      <th>income_std_dev</th>\n",
       "      <td>28.6167</td>\n",
       "      <td>30.6158</td>\n",
       "    </tr>\n",
       "    <tr>\n",
       "      <th>queue_wk</th>\n",
       "      <td>55026</td>\n",
       "      <td>1722</td>\n",
       "    </tr>\n",
       "    <tr>\n",
       "      <th>queue_wk_open</th>\n",
       "      <td>1</td>\n",
       "      <td>3</td>\n",
       "    </tr>\n",
       "    <tr>\n",
       "      <th>is_description</th>\n",
       "      <td>False</td>\n",
       "      <td>False</td>\n",
       "    </tr>\n",
       "  </tbody>\n",
       "</table>\n",
       "</div>"
      ],
      "text/plain": [
       "                        905425         905235\n",
       "school           15_hs_diploma  15_hs_diploma\n",
       "school_std_dev         91.7672        87.8748\n",
       "housing                    own           rent\n",
       "housing_std_dev        26.8701        153.442\n",
       "bedroom                      3              2\n",
       "bedroom_std_dev        61.5123        90.1874\n",
       "value                   350000         225000\n",
       "value_std_dev          20.9794        14.8764\n",
       "rent                      1750           1125\n",
       "rent_std_dev           19.1622        35.2037\n",
       "income                  112500         112500\n",
       "income_std_dev         28.6167        30.6158\n",
       "queue_wk                 55026           1722\n",
       "queue_wk_open                1              3\n",
       "is_description           False          False"
      ]
     },
     "execution_count": 86,
     "metadata": {},
     "output_type": "execute_result"
    }
   ],
   "source": [
    "df.head(2).T.iloc[16:]"
   ]
  },
  {
   "cell_type": "code",
   "execution_count": 10,
   "metadata": {
    "collapsed": false
   },
   "outputs": [
    {
     "name": "stderr",
     "output_type": "stream",
     "text": [
      "/home/ec2-user/anaconda2/lib/python2.7/site-packages/sklearn/cross_validation.py:44: DeprecationWarning: This module was deprecated in version 0.18 in favor of the model_selection module into which all the refactored classes and functions are moved. Also note that the interface of the new CV iterators are different from that of this module. This module will be removed in 0.20.\n",
      "  \"This module will be removed in 0.20.\", DeprecationWarning)\n"
     ]
    }
   ],
   "source": [
    "from sklearn.cross_validation import train_test_split\n",
    "from sklearn.pipeline import make_pipeline\n",
    "from sklearn.model_selection import GridSearchCV\n",
    "from sklearn.linear_model import LinearRegression, LassoCV\n",
    "from sklearn.cross_validation import ShuffleSplit\n",
    "from sklearn.preprocessing import StandardScaler\n",
    "from sklearn.metrics import mean_squared_error, r2_score\n"
   ]
  },
  {
   "cell_type": "code",
   "execution_count": 11,
   "metadata": {
    "collapsed": false
   },
   "outputs": [],
   "source": [
    "X_train, X_test, y_train, y_test = train_test_split(\n",
    "    df_dummified.drop('COMPLETION_HOURS_LOG_10', axis=1), \n",
    "    df_dummified.COMPLETION_HOURS_LOG_10, \n",
    "    test_size=0.2, \n",
    "    random_state=300\n",
    ")"
   ]
  },
  {
   "cell_type": "code",
   "execution_count": 12,
   "metadata": {
    "collapsed": true
   },
   "outputs": [],
   "source": [
    "pipe = make_pipeline(StandardScaler(), LassoCV())"
   ]
  },
  {
   "cell_type": "code",
   "execution_count": 13,
   "metadata": {
    "collapsed": false
   },
   "outputs": [],
   "source": [
    "cv = ShuffleSplit(X_train.shape[0], n_iter=1, test_size=0.2, random_state=300)"
   ]
  },
  {
   "cell_type": "code",
   "execution_count": 14,
   "metadata": {
    "collapsed": false
   },
   "outputs": [
    {
     "name": "stdout",
     "output_type": "stream",
     "text": [
      "Fitting 1 folds for each of 1 candidates, totalling 1 fits\n"
     ]
    },
    {
     "name": "stderr",
     "output_type": "stream",
     "text": [
      "[Parallel(n_jobs=-1)]: Done   1 out of   1 | elapsed:   26.1s finished\n"
     ]
    }
   ],
   "source": [
    "params = {'lassocv__alphas': make_alphas(-2, -4)}\n",
    "params = {'lassocv__alphas': [[0.01]]}\n",
    "model = GridSearchCV(pipe, param_grid=params, n_jobs=-1, cv=cv, verbose=True)\n",
    "model.fit(X_train, y_train);"
   ]
  },
  {
   "cell_type": "code",
   "execution_count": 15,
   "metadata": {
    "collapsed": false
   },
   "outputs": [
    {
     "data": {
      "text/html": [
       "<div>\n",
       "<table border=\"1\" class=\"dataframe\">\n",
       "  <thead>\n",
       "    <tr style=\"text-align: right;\">\n",
       "      <th></th>\n",
       "      <th>0</th>\n",
       "    </tr>\n",
       "  </thead>\n",
       "  <tbody>\n",
       "    <tr>\n",
       "      <th>mean_fit_time</th>\n",
       "      <td>18.4343</td>\n",
       "    </tr>\n",
       "    <tr>\n",
       "      <th>mean_score_time</th>\n",
       "      <td>1.16387</td>\n",
       "    </tr>\n",
       "    <tr>\n",
       "      <th>mean_test_score</th>\n",
       "      <td>0.544087</td>\n",
       "    </tr>\n",
       "    <tr>\n",
       "      <th>mean_train_score</th>\n",
       "      <td>0.546022</td>\n",
       "    </tr>\n",
       "    <tr>\n",
       "      <th>param_lassocv__alphas</th>\n",
       "      <td>[0.01]</td>\n",
       "    </tr>\n",
       "    <tr>\n",
       "      <th>params</th>\n",
       "      <td>{u'lassocv__alphas': [0.01]}</td>\n",
       "    </tr>\n",
       "    <tr>\n",
       "      <th>rank_test_score</th>\n",
       "      <td>1</td>\n",
       "    </tr>\n",
       "    <tr>\n",
       "      <th>split0_test_score</th>\n",
       "      <td>0.544087</td>\n",
       "    </tr>\n",
       "    <tr>\n",
       "      <th>split0_train_score</th>\n",
       "      <td>0.546022</td>\n",
       "    </tr>\n",
       "    <tr>\n",
       "      <th>std_fit_time</th>\n",
       "      <td>0</td>\n",
       "    </tr>\n",
       "    <tr>\n",
       "      <th>std_score_time</th>\n",
       "      <td>0</td>\n",
       "    </tr>\n",
       "    <tr>\n",
       "      <th>std_test_score</th>\n",
       "      <td>0</td>\n",
       "    </tr>\n",
       "    <tr>\n",
       "      <th>std_train_score</th>\n",
       "      <td>0</td>\n",
       "    </tr>\n",
       "  </tbody>\n",
       "</table>\n",
       "</div>"
      ],
      "text/plain": [
       "                                                  0\n",
       "mean_fit_time                               18.4343\n",
       "mean_score_time                             1.16387\n",
       "mean_test_score                            0.544087\n",
       "mean_train_score                           0.546022\n",
       "param_lassocv__alphas                        [0.01]\n",
       "params                 {u'lassocv__alphas': [0.01]}\n",
       "rank_test_score                                   1\n",
       "split0_test_score                          0.544087\n",
       "split0_train_score                         0.546022\n",
       "std_fit_time                                      0\n",
       "std_score_time                                    0\n",
       "std_test_score                                    0\n",
       "std_train_score                                   0"
      ]
     },
     "execution_count": 15,
     "metadata": {},
     "output_type": "execute_result"
    }
   ],
   "source": [
    "pd.DataFrame(model.cv_results_).T"
   ]
  },
  {
   "cell_type": "code",
   "execution_count": 16,
   "metadata": {
    "collapsed": false
   },
   "outputs": [
    {
     "data": {
      "text/plain": [
       "0.54159918297330223"
      ]
     },
     "execution_count": 16,
     "metadata": {},
     "output_type": "execute_result"
    }
   ],
   "source": [
    "model.score(X_test, y_test)"
   ]
  },
  {
   "cell_type": "code",
   "execution_count": 32,
   "metadata": {
    "collapsed": true
   },
   "outputs": [],
   "source": [
    "y_pred = model.predict(X_test)"
   ]
  },
  {
   "cell_type": "code",
   "execution_count": 33,
   "metadata": {
    "collapsed": false
   },
   "outputs": [
    {
     "data": {
      "text/plain": [
       "0.75812869114013393"
      ]
     },
     "execution_count": 33,
     "metadata": {},
     "output_type": "execute_result"
    }
   ],
   "source": [
    "mean_squared_error(y_test, y_pred)**0.5"
   ]
  },
  {
   "cell_type": "markdown",
   "metadata": {},
   "source": [
    "How many coefficients go to 0?"
   ]
  },
  {
   "cell_type": "code",
   "execution_count": 17,
   "metadata": {
    "collapsed": false
   },
   "outputs": [
    {
     "data": {
      "text/plain": [
       "count    252.000000\n",
       "mean      -0.004569\n",
       "std        0.049632\n",
       "min       -0.363193\n",
       "25%        0.000000\n",
       "50%       -0.000000\n",
       "75%        0.000000\n",
       "max        0.145756\n",
       "dtype: float64"
      ]
     },
     "execution_count": 17,
     "metadata": {},
     "output_type": "execute_result"
    }
   ],
   "source": [
    "pd.Series(model.best_estimator_.steps[-1][-1].coef_).describe()"
   ]
  },
  {
   "cell_type": "code",
   "execution_count": 29,
   "metadata": {
    "collapsed": false
   },
   "outputs": [
    {
     "data": {
      "text/plain": [
       "115"
      ]
     },
     "execution_count": 29,
     "metadata": {},
     "output_type": "execute_result"
    }
   ],
   "source": [
    "len(X_train.columns[model.best_estimator_.steps[-1][-1].coef_ != 0])"
   ]
  },
  {
   "cell_type": "code",
   "execution_count": 30,
   "metadata": {
    "collapsed": false
   },
   "outputs": [
    {
     "data": {
      "text/plain": [
       "252"
      ]
     },
     "execution_count": 30,
     "metadata": {},
     "output_type": "execute_result"
    }
   ],
   "source": [
    "len(X_train.columns)"
   ]
  },
  {
   "cell_type": "markdown",
   "metadata": {},
   "source": [
    "About half at `α=0.01`.\n",
    "\n",
    "Which don't go to zero?"
   ]
  },
  {
   "cell_type": "code",
   "execution_count": 27,
   "metadata": {
    "collapsed": false
   },
   "outputs": [
    {
     "data": {
      "text/plain": [
       "['Source_Citizens Connect App',\n",
       " 'Source_Self Service',\n",
       " 'TYPE_Abandoned Bicycle',\n",
       " 'TYPE_Abandoned Building',\n",
       " 'TYPE_Abandoned Vehicles',\n",
       " 'TYPE_Animal Found',\n",
       " 'TYPE_Animal Generic Request',\n",
       " 'TYPE_Animal Lost',\n",
       " 'TYPE_Bed Bugs',\n",
       " 'TYPE_Bicycle Issues',\n",
       " 'TYPE_Breathe Easy',\n",
       " 'TYPE_Building Inspection Request',\n",
       " 'TYPE_Call Log',\n",
       " 'TYPE_Carbon Monoxide',\n",
       " 'TYPE_Catchbasin',\n",
       " 'TYPE_Checkin',\n",
       " 'TYPE_Chronic Dampness/Mold',\n",
       " 'TYPE_Construction Debris',\n",
       " 'TYPE_Contractors Complaint',\n",
       " 'TYPE_Cross Metering - Sub-Metering',\n",
       " 'TYPE_Egress',\n",
       " 'TYPE_Electrical',\n",
       " 'TYPE_Empty Litter Basket',\n",
       " 'TYPE_Equipment Repair',\n",
       " 'TYPE_Exceeding Terms of Permit',\n",
       " 'TYPE_General Comments For An Employee',\n",
       " 'TYPE_General Comments For a Program or Policy',\n",
       " 'TYPE_General Lighting Request',\n",
       " 'TYPE_Graffiti Removal',\n",
       " 'TYPE_Heat - Excessive  Insufficient',\n",
       " 'TYPE_Highway Maintenance',\n",
       " 'TYPE_Housing Discrimination Intake Form',\n",
       " 'TYPE_Illegal Auto Body Shop',\n",
       " 'TYPE_Illegal Dumping',\n",
       " 'TYPE_Illegal Occupancy',\n",
       " 'TYPE_Illegal Posting of Signs',\n",
       " 'TYPE_Illegal Rooming House',\n",
       " 'TYPE_Illegal Use',\n",
       " 'TYPE_Illegal Vending',\n",
       " 'TYPE_Improper Storage of Trash (Barrels)',\n",
       " 'TYPE_Install New Lighting',\n",
       " 'TYPE_Item Price Missing',\n",
       " 'TYPE_Lead',\n",
       " 'TYPE_Litter Basket Maintenance',\n",
       " 'TYPE_Maintenance - Homeowner',\n",
       " 'TYPE_Maintenance Complaint - Residential',\n",
       " 'TYPE_Major System Failure',\n",
       " 'TYPE_Mice Infestation - Residential',\n",
       " 'TYPE_Missed Trash/Recycling/Yard Waste/Bulk Item',\n",
       " 'TYPE_Missing Sign',\n",
       " 'TYPE_Needle Pickup',\n",
       " 'TYPE_New Sign  Crosswalk or Pavement Marking',\n",
       " 'TYPE_New Tree Requests',\n",
       " 'TYPE_No Price on Gas/Wrong Price',\n",
       " 'TYPE_No-Tow Complaint Confirmation',\n",
       " 'TYPE_Notification',\n",
       " 'TYPE_OCR Front Desk Interactions',\n",
       " 'TYPE_Overcrowding',\n",
       " 'TYPE_Overflowing or Un-kept Dumpster',\n",
       " 'TYPE_Park Improvement Requests',\n",
       " 'TYPE_Park Maintenance Requests',\n",
       " 'TYPE_Parking Enforcement',\n",
       " 'TYPE_Parking on Front/Back Yards (Illegal Parking)',\n",
       " 'TYPE_Parks Lighting/Electrical Issues',\n",
       " 'TYPE_Pavement Marking Maintenance',\n",
       " 'TYPE_Pest Infestation - Residential',\n",
       " 'TYPE_Pick up Dead Animal',\n",
       " 'TYPE_Pigeon Infestation',\n",
       " 'TYPE_Plumbing',\n",
       " 'TYPE_Poor Conditions of Property',\n",
       " 'TYPE_Product Short Measure',\n",
       " 'TYPE_Protection of Adjoining Property',\n",
       " 'TYPE_Public Works General Request',\n",
       " 'TYPE_Recycling Cart Inquiry',\n",
       " 'TYPE_Recycling Cart Return',\n",
       " 'TYPE_Request for Pothole Repair',\n",
       " 'TYPE_Request for Recycling Cart',\n",
       " 'TYPE_Request for Snow Plowing',\n",
       " 'TYPE_Request for Snow Plowing (Emergency Responder)',\n",
       " 'TYPE_Requests for Street Cleaning',\n",
       " 'TYPE_Requests for Traffic Signal Studies or Reviews',\n",
       " 'TYPE_Roadway Repair',\n",
       " 'TYPE_Rodent Activity',\n",
       " 'TYPE_Scale Not Visible',\n",
       " 'TYPE_Scanning Overcharge',\n",
       " 'TYPE_Schedule a Bulk Item Pickup',\n",
       " 'TYPE_Short Measure - Gas',\n",
       " 'TYPE_Sidewalk Repair',\n",
       " 'TYPE_Sign Repair',\n",
       " 'TYPE_Space Savers',\n",
       " 'TYPE_Squalid Living Conditions',\n",
       " 'TYPE_Sticker Request',\n",
       " 'TYPE_Street Light Knock Downs',\n",
       " 'TYPE_Street Light Outages',\n",
       " 'TYPE_Student Move-in Issues',\n",
       " 'TYPE_Traffic Signal Inspection',\n",
       " 'TYPE_Traffic Signal Repair',\n",
       " 'TYPE_Transportation General Request',\n",
       " 'TYPE_Trash on Vacant Lot',\n",
       " 'TYPE_Tree Emergencies',\n",
       " 'TYPE_Tree Maintenance Requests',\n",
       " 'TYPE_Tree in Park',\n",
       " 'TYPE_Unsafe Dangerous Conditions',\n",
       " 'TYPE_Unsatisfactory Living Conditions',\n",
       " 'TYPE_Unsatisfactory Utilities - Electrical  Plumbing',\n",
       " 'TYPE_Unshoveled Sidewalk',\n",
       " 'TYPE_Upgrade Existing Lighting',\n",
       " 'TYPE_Utility Call-In',\n",
       " 'TYPE_WC Call Log',\n",
       " 'TYPE_Water in Gas - High Priority',\n",
       " 'TYPE_Work w/out Permit',\n",
       " 'TYPE_Working Beyond Hours',\n",
       " 'neighborhood_from_zip_East Boston',\n",
       " 'neighborhood_from_zip_North End',\n",
       " 'queue_wk_open']"
      ]
     },
     "execution_count": 27,
     "metadata": {},
     "output_type": "execute_result"
    }
   ],
   "source": [
    "sorted(list(X_train.columns[model.best_estimator_.steps[-1][-1].coef_ != 0]))"
   ]
  },
  {
   "cell_type": "markdown",
   "metadata": {},
   "source": [
    "We will want to run a model with just the above features to find out which ones are statistically significant, but we get a sense here that these factors are likely to be signficant:\n",
    "\n",
    "- when source is from the mobile app or desktop website\n",
    "- neighborhoods of East Boston and the North End\n",
    "- the number of issues in the workers' queue at the time\n",
    "\n",
    "## Conclusion\n",
    "\n",
    "We didn't get a better $R^2$, which makes sense, since we weren't in an overfit situation anyways when we tried this regularization parameter.\n",
    "\n",
    "We did find subset our features and got somewhat of an indication which ones are more likely to be significantly correlated to completion time than others. We also avoided crazy predictions that would have affected our $R^2$, at least for this particular random seed.\n",
    "\n",
    "## Appendix\n",
    "\n",
    "These columns went to zero at `α=0.01`."
   ]
  },
  {
   "cell_type": "code",
   "execution_count": 31,
   "metadata": {
    "collapsed": false
   },
   "outputs": [
    {
     "data": {
      "text/plain": [
       "['Property_Type_Address',\n",
       " 'Property_Type_Intersection',\n",
       " 'Source_Constituent Call',\n",
       " 'SubmittedPhoto',\n",
       " 'TYPE_ADA',\n",
       " 'TYPE_Alert Boston',\n",
       " 'TYPE_Animal Noise Disturbances',\n",
       " 'TYPE_Automotive Noise Disturbance',\n",
       " 'TYPE_BWSC General Request',\n",
       " 'TYPE_BWSC Pothole',\n",
       " 'TYPE_Big Buildings Online Request',\n",
       " 'TYPE_Billing Complaint',\n",
       " 'TYPE_Bridge Maintenance',\n",
       " 'TYPE_CE Collection',\n",
       " 'TYPE_Cemetery Maintenance Request',\n",
       " 'TYPE_City/State Snow Issues',\n",
       " 'TYPE_Contractor Complaints',\n",
       " 'TYPE_Corporate or Community Group Service Day Clean Up',\n",
       " 'TYPE_Downed Wire',\n",
       " 'TYPE_Dumpster & Loading Noise Disturbances',\n",
       " 'TYPE_Fire Department Request',\n",
       " 'TYPE_Fire Hydrant',\n",
       " 'TYPE_Fire in Food Establishment',\n",
       " 'TYPE_Follow-Up',\n",
       " 'TYPE_Food Alert - Confirmed',\n",
       " 'TYPE_Food Alert - Unconfirmed',\n",
       " 'TYPE_General Traffic Engineering Request',\n",
       " 'TYPE_Ground Maintenance',\n",
       " 'TYPE_HP Sign Application New',\n",
       " 'TYPE_HP Sign Application Renewal',\n",
       " 'TYPE_Heat/Fuel Assistance',\n",
       " 'TYPE_Idea Collection',\n",
       " 'TYPE_Knockdown Replacement',\n",
       " 'TYPE_Loud Parties/Music/People',\n",
       " 'TYPE_Mechanical',\n",
       " 'TYPE_Misc. Snow Complaint',\n",
       " 'TYPE_Mosquitoes (West Nile)',\n",
       " 'TYPE_Municipal Parking Lot Complaints',\n",
       " 'TYPE_New Tree Warrantee Inspection',\n",
       " 'TYPE_News Boxes',\n",
       " 'TYPE_No Utilities - Food Establishment - Electricity',\n",
       " 'TYPE_No Utilities - Food Establishment - Flood',\n",
       " 'TYPE_No Utilities - Food Establishment - Sewer',\n",
       " 'TYPE_No Utilities - Food Establishment - Water',\n",
       " 'TYPE_No Utilities Residential - Electricity',\n",
       " 'TYPE_No Utilities Residential - Gas',\n",
       " 'TYPE_No Utilities Residential - Water',\n",
       " 'TYPE_OCR Metrolist',\n",
       " 'TYPE_Occupying W/Out A Valid CO/CI',\n",
       " 'TYPE_One Boston Day',\n",
       " 'TYPE_PWD Graffiti',\n",
       " 'TYPE_Parking Meter Repairs',\n",
       " 'TYPE_Parks General Request',\n",
       " 'TYPE_Pavement Marking Inspection',\n",
       " 'TYPE_Phone Bank Service Inquiry',\n",
       " 'TYPE_Planting',\n",
       " 'TYPE_Poor Ventilation',\n",
       " 'TYPE_Private Parking Lot Complaints',\n",
       " 'TYPE_Public Events Noise Disturbances',\n",
       " 'TYPE_Rat Bite',\n",
       " 'TYPE_Rental Unit Delivery Conditions',\n",
       " 'TYPE_Request for Litter Basket Installation',\n",
       " 'TYPE_Roadway Flooding',\n",
       " 'TYPE_Rooftop & Mechanical Disturbances',\n",
       " 'TYPE_Schedule a Bulk Item Pickup SS',\n",
       " 'TYPE_Senior Shoveling',\n",
       " 'TYPE_Sewage/Septic Back-Up',\n",
       " 'TYPE_Sidewalk Cover / Manhole',\n",
       " 'TYPE_Sidewalk Repair (Make Safe)',\n",
       " 'TYPE_Sign Shop WO',\n",
       " 'TYPE_Snow Removal',\n",
       " 'TYPE_Snow/Ice Control',\n",
       " 'TYPE_Student Overcrowding',\n",
       " 'TYPE_Transfer Not Completed',\n",
       " 'TYPE_Undefined Noise Disturbance',\n",
       " 'TYPE_Unit Pricing Wrong/Missing',\n",
       " 'TYPE_Unsanitary Conditions - Employees',\n",
       " 'TYPE_Unsanitary Conditions - Establishment',\n",
       " 'TYPE_Unsanitary Conditions - Food',\n",
       " 'TYPE_Utility Casting Repair',\n",
       " 'TYPE_Valet Parking Problems',\n",
       " 'TYPE_Walk-In Service Inquiry',\n",
       " 'TYPE_Watermain Break',\n",
       " 'TYPE_Work Hours-Loud Noise Complaints',\n",
       " 'TYPE_Yardwaste Asian Longhorned Beetle Affected Area',\n",
       " 'bedroom',\n",
       " 'bedroom_std_dev',\n",
       " 'earned_income_per_capita',\n",
       " 'housing_own',\n",
       " 'housing_std_dev',\n",
       " 'income',\n",
       " 'income_std_dev',\n",
       " 'is_description',\n",
       " 'neighborhood_from_zip_Allston / Brighton',\n",
       " 'neighborhood_from_zip_Back Bay',\n",
       " 'neighborhood_from_zip_Beacon Hill',\n",
       " 'neighborhood_from_zip_Brookline',\n",
       " 'neighborhood_from_zip_Charlestown',\n",
       " 'neighborhood_from_zip_Chestnut Hill',\n",
       " 'neighborhood_from_zip_Dorchester',\n",
       " 'neighborhood_from_zip_Downtown / Financial District',\n",
       " 'neighborhood_from_zip_Fenway / Kenmore / Audubon Circle / Longwood',\n",
       " 'neighborhood_from_zip_Hyde Park',\n",
       " 'neighborhood_from_zip_Jamaica Plain',\n",
       " 'neighborhood_from_zip_Mattapan',\n",
       " 'neighborhood_from_zip_Mission Hill',\n",
       " 'neighborhood_from_zip_Roslindale',\n",
       " 'neighborhood_from_zip_Roxbury',\n",
       " 'neighborhood_from_zip_South Boston',\n",
       " 'neighborhood_from_zip_South Boston / South Boston Waterfront',\n",
       " 'neighborhood_from_zip_South End',\n",
       " 'neighborhood_from_zip_West End',\n",
       " 'poverty_pop_below_poverty_level',\n",
       " 'poverty_pop_w_food_stamps',\n",
       " 'poverty_pop_w_public_assistance',\n",
       " 'poverty_pop_w_ssi',\n",
       " 'queue_wk',\n",
       " 'race_asian',\n",
       " 'race_black',\n",
       " 'race_hispanic',\n",
       " 'race_other',\n",
       " 'race_white',\n",
       " 'rent',\n",
       " 'rent_std_dev',\n",
       " 'school_0_none',\n",
       " 'school_11_9th_grade',\n",
       " 'school_13_11th_grade',\n",
       " 'school_14_12th_grade_no_diploma',\n",
       " 'school_15_hs_diploma',\n",
       " 'school_18_some_college_no_degree',\n",
       " 'school_19_associates',\n",
       " 'school_20_bachelors',\n",
       " 'school_21_masters',\n",
       " 'school_22_professional_school',\n",
       " 'school_std_dev',\n",
       " 'value',\n",
       " 'value_std_dev']"
      ]
     },
     "execution_count": 31,
     "metadata": {},
     "output_type": "execute_result"
    }
   ],
   "source": [
    "sorted(list(X_train.columns[model.best_estimator_.steps[-1][-1].coef_ == 0]))"
   ]
  },
  {
   "cell_type": "markdown",
   "metadata": {},
   "source": [
    "What are the coef values?"
   ]
  },
  {
   "cell_type": "code",
   "execution_count": 70,
   "metadata": {
    "collapsed": false
   },
   "outputs": [],
   "source": [
    "coef_values = pd.DataFrame({\n",
    "    'name': X_train.columns,\n",
    "    'coef': model.best_estimator_.steps[-1][-1].coef_\n",
    "})"
   ]
  },
  {
   "cell_type": "code",
   "execution_count": 75,
   "metadata": {
    "collapsed": false
   },
   "outputs": [
    {
     "name": "stderr",
     "output_type": "stream",
     "text": [
      "/home/ec2-user/anaconda2/lib/python2.7/site-packages/ipykernel/__main__.py:1: UserWarning: Boolean Series key will be reindexed to match DataFrame index.\n",
      "  if __name__ == '__main__':\n"
     ]
    },
    {
     "data": {
      "text/html": [
       "<div>\n",
       "<table border=\"1\" class=\"dataframe\">\n",
       "  <thead>\n",
       "    <tr style=\"text-align: right;\">\n",
       "      <th></th>\n",
       "      <th>coef</th>\n",
       "      <th>name</th>\n",
       "    </tr>\n",
       "  </thead>\n",
       "  <tbody>\n",
       "    <tr>\n",
       "      <th>217</th>\n",
       "      <td>-0.021895</td>\n",
       "      <td>Source_Citizens Connect App</td>\n",
       "    </tr>\n",
       "    <tr>\n",
       "      <th>234</th>\n",
       "      <td>-0.000054</td>\n",
       "      <td>neighborhood_from_zip_North End</td>\n",
       "    </tr>\n",
       "    <tr>\n",
       "      <th>228</th>\n",
       "      <td>0.006279</td>\n",
       "      <td>neighborhood_from_zip_East Boston</td>\n",
       "    </tr>\n",
       "    <tr>\n",
       "      <th>219</th>\n",
       "      <td>0.012568</td>\n",
       "      <td>Source_Self Service</td>\n",
       "    </tr>\n",
       "    <tr>\n",
       "      <th>22</th>\n",
       "      <td>0.130668</td>\n",
       "      <td>queue_wk_open</td>\n",
       "    </tr>\n",
       "  </tbody>\n",
       "</table>\n",
       "</div>"
      ],
      "text/plain": [
       "         coef                               name\n",
       "217 -0.021895        Source_Citizens Connect App\n",
       "234 -0.000054    neighborhood_from_zip_North End\n",
       "228  0.006279  neighborhood_from_zip_East Boston\n",
       "219  0.012568                Source_Self Service\n",
       "22   0.130668                      queue_wk_open"
      ]
     },
     "execution_count": 75,
     "metadata": {},
     "output_type": "execute_result"
    }
   ],
   "source": [
    "coef_values[coef_values.coef != 0].sort_values('coef')[~coef_values.name.str.contains('TYPE')]"
   ]
  }
 ],
 "metadata": {
  "kernelspec": {
   "display_name": "Python 2",
   "language": "python",
   "name": "python2"
  },
  "language_info": {
   "codemirror_mode": {
    "name": "ipython",
    "version": 2
   },
   "file_extension": ".py",
   "mimetype": "text/x-python",
   "name": "python",
   "nbconvert_exporter": "python",
   "pygments_lexer": "ipython2",
   "version": "2.7.13"
  }
 },
 "nbformat": 4,
 "nbformat_minor": 2
}
