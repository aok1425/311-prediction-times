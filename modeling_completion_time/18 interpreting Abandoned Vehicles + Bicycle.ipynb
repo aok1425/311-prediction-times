{
 "cells": [
  {
   "cell_type": "markdown",
   "metadata": {},
   "source": [
    "## Objective\n",
    "\n",
    "Now that I know that my submodels perform a bit better than the model on the entire dataset, I can take advantage of the submodels and find the coefficients that are most associated with response variable."
   ]
  },
  {
   "cell_type": "code",
   "execution_count": 1,
   "metadata": {
    "collapsed": false
   },
   "outputs": [],
   "source": [
    "CATEGORY_GROUPS_IN_QUESTION = [['Pick up Dead Animal', 'Animal Generic Request'],\n",
    "['Abandoned Vehicles', 'Abandoned Bicycle'],\n",
    "['Rodent Activity',\t'Bed Bugs', 'Mice Infestation - Residential'],\n",
    "['Sidewalk Repair', 'Sidewalk Repair (Make Safe)'],\n",
    "['Needle Pickup'],\n",
    "['Unsatisfactory Living Conditions', 'Poor Conditions of Property', 'Unsanitary Conditions - Establishment', 'Illegal Occupancy', 'Heat - ],Excessive  Insufficient'],\n",
    "['Request for Pothole Repair'],\n",
    "['Graffiti Removal']]"
   ]
  },
  {
   "cell_type": "markdown",
   "metadata": {},
   "source": [
    "## Objective\n",
    "\n",
    "Does this have statistically significant coefs, assuming homoskedacity and a linear predictor-response relationship and Normalized residuals and imperfect collinearity?"
   ]
  },
  {
   "cell_type": "code",
   "execution_count": 2,
   "metadata": {
    "collapsed": false
   },
   "outputs": [],
   "source": [
    "%load_ext autoreload\n",
    "%autoreload 2"
   ]
  },
  {
   "cell_type": "code",
   "execution_count": 5,
   "metadata": {
    "collapsed": false
   },
   "outputs": [],
   "source": [
    "from __future__ import division\n",
    "import pandas as pd\n",
    "import numpy as np\n",
    "import warnings\n",
    "import seaborn as sns\n",
    "import matplotlib.pyplot as plt\n",
    "from pylab import rcParams\n",
    "%matplotlib inline\n",
    "from tqdm import tqdm\n",
    "\n",
    "from utilities import remove_one_feature\n",
    "\n",
    "warnings.filterwarnings(\"ignore\", category=DeprecationWarning)\n",
    "sns.set_style(\"whitegrid\")\n",
    "sns.set_context(\"poster\")\n",
    "rcParams['figure.figsize'] = 20, 5\n",
    "\n",
    "import os, sys\n",
    "sys.path.append(os.path.join(os.path.dirname('.'), \"../preprocessing\"))\n",
    "from helper_functions import dummify_cols_and_baselines, make_alphas, remove_outliers_by_type, adjusted_r2, transform_school, get_vifs"
   ]
  },
  {
   "cell_type": "code",
   "execution_count": 6,
   "metadata": {
    "collapsed": false
   },
   "outputs": [
    {
     "data": {
      "text/plain": [
       "(516406, 40)"
      ]
     },
     "execution_count": 6,
     "metadata": {},
     "output_type": "execute_result"
    }
   ],
   "source": [
    "df_orig = pd.read_pickle('../data/data_from_remove_from_dataset.pkl')\n",
    "df_orig.shape"
   ]
  },
  {
   "cell_type": "code",
   "execution_count": 7,
   "metadata": {
    "collapsed": false
   },
   "outputs": [
    {
     "name": "stderr",
     "output_type": "stream",
     "text": [
      "../preprocessing/helper_functions.py:58: FutureWarning: currently extract(expand=None) means expand=False (return Index/Series/DataFrame) but in a future version of pandas this will be changed to expand=True (return DataFrame)\n",
      "  df.school = df.school.str.extract(r'(\\d\\d?)').astype(int)\n"
     ]
    },
    {
     "data": {
      "text/plain": [
       "(516406, 40)"
      ]
     },
     "execution_count": 7,
     "metadata": {},
     "output_type": "execute_result"
    }
   ],
   "source": [
    "df_orig = transform_school(df_orig)\n",
    "df_orig.shape"
   ]
  },
  {
   "cell_type": "markdown",
   "metadata": {},
   "source": [
    "## Filterering by Abandoned vehicles"
   ]
  },
  {
   "cell_type": "code",
   "execution_count": 8,
   "metadata": {
    "collapsed": false
   },
   "outputs": [
    {
     "name": "stdout",
     "output_type": "stream",
     "text": [
      "['Abandoned Vehicles', 'Abandoned Bicycle']\n"
     ]
    },
    {
     "data": {
      "text/plain": [
       "(9541, 40)"
      ]
     },
     "execution_count": 8,
     "metadata": {},
     "output_type": "execute_result"
    }
   ],
   "source": [
    "print CATEGORY_GROUPS_IN_QUESTION[1]\n",
    "df_orig = df_orig[df_orig.TYPE.isin(CATEGORY_GROUPS_IN_QUESTION[1])]\n",
    "df_orig.shape"
   ]
  },
  {
   "cell_type": "markdown",
   "metadata": {},
   "source": [
    "## Removing outliers\n",
    "\n",
    "A standard procedure is to remove values further than 3 standard deviations from the mean. Since I have so many low values and some very high values, I anecdotally think that the low values are very likely to be true, and the high values not so much.\n",
    "\n",
    "So, I will remove values further than 3 SDs from the median, by type.\n",
    "\n",
    "Ideally, I would take into account the time dimension. I would like to do so given more time."
   ]
  },
  {
   "cell_type": "code",
   "execution_count": 9,
   "metadata": {
    "collapsed": false
   },
   "outputs": [
    {
     "name": "stderr",
     "output_type": "stream",
     "text": [
      "../preprocessing/helper_functions.py:37: SettingWithCopyWarning: \n",
      "A value is trying to be set on a copy of a slice from a DataFrame.\n",
      "Try using .loc[row_indexer,col_indexer] = value instead\n",
      "\n",
      "See the caveats in the documentation: http://pandas.pydata.org/pandas-docs/stable/indexing.html#indexing-view-versus-copy\n",
      "  group[pd.np.abs(group - group.median()) > stds * group.std()] = pd.np.nan\n",
      "/home/ubuntu/anaconda2/lib/python2.7/site-packages/pandas/core/frame.py:2392: SettingWithCopyWarning: \n",
      "A value is trying to be set on a copy of a slice from a DataFrame\n",
      "\n",
      "See the caveats in the documentation: http://pandas.pydata.org/pandas-docs/stable/indexing.html#indexing-view-versus-copy\n",
      "  self.where(-key, value, inplace=True)\n"
     ]
    },
    {
     "data": {
      "text/plain": [
       "(9390, 40)"
      ]
     },
     "execution_count": 9,
     "metadata": {},
     "output_type": "execute_result"
    }
   ],
   "source": [
    "df_outliers_removed = remove_outliers_by_type(df_orig, y_col='COMPLETION_HOURS_LOG_10')\n",
    "df_outliers_removed.shape"
   ]
  },
  {
   "cell_type": "markdown",
   "metadata": {},
   "source": [
    "## Remove `TYPE` col"
   ]
  },
  {
   "cell_type": "code",
   "execution_count": 10,
   "metadata": {
    "collapsed": true
   },
   "outputs": [],
   "source": [
    "df_outliers_removed.drop('TYPE', axis=1, inplace=True)"
   ]
  },
  {
   "cell_type": "markdown",
   "metadata": {},
   "source": [
    "## Choosing columns"
   ]
  },
  {
   "cell_type": "code",
   "execution_count": null,
   "metadata": {
    "collapsed": true
   },
   "outputs": [],
   "source": [
    "['SubmittedPhoto',\n",
    " 'race_asian',\n",
    " 'race_other',\n",
    " 'poverty_pop_below_poverty_level',\n",
    " 'earned_income_per_capita',\n",
    " 'poverty_pop_w_public_assistance',\n",
    " 'poverty_pop_w_food_stamps',\n",
    " 'poverty_pop_w_ssi',\n",
    " 'school_std_dev',\n",
    " 'housing_std_dev',\n",
    " 'bedroom',\n",
    " 'bedroom_std_dev',\n",
    " 'rent_std_dev',\n",
    " 'income_std_dev',\n",
    " 'queue_wk',\n",
    " 'Property_Type_Address',\n",
    " 'Source_Citizens Connect App']"
   ]
  },
  {
   "cell_type": "code",
   "execution_count": 95,
   "metadata": {
    "collapsed": true
   },
   "outputs": [],
   "source": [
    "cols_orig_dataset = ['COMPLETION_HOURS_LOG_10', 'Property_Type', 'Source']\n",
    "cols_census = [\n",
    "     'race_black',\n",
    "     'race_asian',\n",
    "     'race_hispanic',\n",
    "     'race_other',\n",
    "     'housing',\n",
    "]\n",
    "cols_engineered = ['is_description']"
   ]
  },
  {
   "cell_type": "code",
   "execution_count": 96,
   "metadata": {
    "collapsed": false
   },
   "outputs": [
    {
     "data": {
      "text/plain": [
       "(9390, 9)"
      ]
     },
     "execution_count": 96,
     "metadata": {},
     "output_type": "execute_result"
    }
   ],
   "source": [
    "df = df_outliers_removed[cols_orig_dataset + cols_census + cols_engineered]\n",
    "df.shape"
   ]
  },
  {
   "cell_type": "markdown",
   "metadata": {},
   "source": [
    "## Removing NAs for cols like `school_std_dev`"
   ]
  },
  {
   "cell_type": "code",
   "execution_count": 97,
   "metadata": {
    "collapsed": false
   },
   "outputs": [
    {
     "name": "stdout",
     "output_type": "stream",
     "text": [
      "Series([], Name: index, dtype: object)\n"
     ]
    }
   ],
   "source": [
    "aa = df.isnull().any().reset_index()\n",
    "nas = aa[aa[0] == True]['index']\n",
    "print nas"
   ]
  },
  {
   "cell_type": "code",
   "execution_count": 98,
   "metadata": {
    "collapsed": false
   },
   "outputs": [
    {
     "data": {
      "text/plain": [
       "(9390, 9)"
      ]
     },
     "execution_count": 98,
     "metadata": {},
     "output_type": "execute_result"
    }
   ],
   "source": [
    "# this is a bad temporary band-aid\n",
    "df = df.dropna(subset=nas.tolist())\n",
    "df.shape"
   ]
  },
  {
   "cell_type": "markdown",
   "metadata": {},
   "source": [
    "## Dummify"
   ]
  },
  {
   "cell_type": "code",
   "execution_count": 99,
   "metadata": {
    "collapsed": false
   },
   "outputs": [
    {
     "data": {
      "text/plain": [
       "['Property_Type', 'Source', 'housing']"
      ]
     },
     "execution_count": 99,
     "metadata": {},
     "output_type": "execute_result"
    }
   ],
   "source": [
    "cols_to_dummify = [i for i in df.dtypes[df.dtypes == object].index if i != 'TYPE']\n",
    "cols_to_dummify"
   ]
  },
  {
   "cell_type": "code",
   "execution_count": 100,
   "metadata": {
    "collapsed": false
   },
   "outputs": [
    {
     "name": "stdout",
     "output_type": "stream",
     "text": [
      "Intersection is baseline 0 3\n",
      "Self Service is baseline 1 3\n",
      "own is baseline 2 3\n"
     ]
    }
   ],
   "source": [
    "df_dummified, baseline_cols = dummify_cols_and_baselines(df, cols_to_dummify, chosen_col_i=2)"
   ]
  },
  {
   "cell_type": "code",
   "execution_count": 70,
   "metadata": {
    "collapsed": false
   },
   "outputs": [
    {
     "data": {
      "text/plain": [
       "(9198, 11)"
      ]
     },
     "execution_count": 70,
     "metadata": {},
     "output_type": "execute_result"
    }
   ],
   "source": [
    "df_dummified.shape"
   ]
  },
  {
   "cell_type": "markdown",
   "metadata": {},
   "source": [
    "## Checking for multicollinearity"
   ]
  },
  {
   "cell_type": "code",
   "execution_count": null,
   "metadata": {
    "collapsed": true
   },
   "outputs": [],
   "source": [
    "df_dummified.head(1).T"
   ]
  },
  {
   "cell_type": "code",
   "execution_count": 18,
   "metadata": {
    "collapsed": false
   },
   "outputs": [
    {
     "data": {
      "text/plain": [
       "poverty_pop_w_food_stamps          4.325760\n",
       "race_black                         3.214566\n",
       "poverty_pop_below_poverty_level    2.800160\n",
       "earned_income_per_capita           2.773845\n",
       "queue_wk                           2.549613\n",
       "queue_wk_open                      2.470314\n",
       "Source_Citizens Connect App        2.341932\n",
       "income                             2.298873\n",
       "Source_Constituent Call            2.195432\n",
       "race_hispanic                      2.052296\n",
       "school                             2.029732\n",
       "poverty_pop_w_ssi                  1.840288\n",
       "housing_std_dev                    1.654134\n",
       "school_std_dev                     1.605422\n",
       "rent_std_dev                       1.561623\n",
       "race_asian                         1.544201\n",
       "income_std_dev                     1.535408\n",
       "poverty_pop_w_public_assistance    1.520068\n",
       "rent                               1.463006\n",
       "value_std_dev                      1.438875\n",
       "bedroom                            1.392077\n",
       "value                              1.284623\n",
       "bedroom_std_dev                    1.173654\n",
       "race_other                         1.141892\n",
       "Property_Type_Address              1.030293\n",
       "dtype: float64"
      ]
     },
     "execution_count": 18,
     "metadata": {},
     "output_type": "execute_result"
    }
   ],
   "source": [
    "get_vifs(df_dummified.drop(['SubmittedPhoto', 'is_description'], axis=1), 'COMPLETION_HOURS_LOG_10')"
   ]
  },
  {
   "cell_type": "markdown",
   "metadata": {},
   "source": [
    "## Running model"
   ]
  },
  {
   "cell_type": "code",
   "execution_count": 19,
   "metadata": {
    "collapsed": false
   },
   "outputs": [],
   "source": [
    "from sklearn.cross_validation import train_test_split\n",
    "from sklearn.pipeline import make_pipeline\n",
    "from sklearn.model_selection import GridSearchCV\n",
    "from sklearn.linear_model import LinearRegression, LassoCV\n",
    "from sklearn.cross_validation import ShuffleSplit\n",
    "from sklearn.preprocessing import StandardScaler\n",
    "from sklearn.metrics import mean_squared_error, r2_score\n",
    "import string\n",
    "from StringIO import StringIO\n"
   ]
  },
  {
   "cell_type": "code",
   "execution_count": 20,
   "metadata": {
    "collapsed": true
   },
   "outputs": [],
   "source": [
    "import statsmodels.api as sm\n",
    "import statsmodels.formula.api as smf"
   ]
  },
  {
   "cell_type": "code",
   "execution_count": 21,
   "metadata": {
    "collapsed": false
   },
   "outputs": [],
   "source": [
    "X_train, X_test, y_train, y_test = train_test_split(\n",
    "    df_dummified.drop('COMPLETION_HOURS_LOG_10', axis=1), \n",
    "    df_dummified.COMPLETION_HOURS_LOG_10, \n",
    "    test_size=0.2, \n",
    "    random_state=300\n",
    ")"
   ]
  },
  {
   "cell_type": "markdown",
   "metadata": {},
   "source": [
    "## Use LassoCV to find col subsets"
   ]
  },
  {
   "cell_type": "code",
   "execution_count": 23,
   "metadata": {
    "collapsed": true
   },
   "outputs": [],
   "source": [
    "pipe = make_pipeline(StandardScaler(), LassoCV())\n",
    "cv = ShuffleSplit(X_train.shape[0], n_iter=1, test_size=0.2, random_state=300)"
   ]
  },
  {
   "cell_type": "code",
   "execution_count": 26,
   "metadata": {
    "collapsed": false
   },
   "outputs": [
    {
     "data": {
      "text/html": [
       "<div>\n",
       "<table border=\"1\" class=\"dataframe\">\n",
       "  <thead>\n",
       "    <tr style=\"text-align: right;\">\n",
       "      <th></th>\n",
       "      <th>0</th>\n",
       "      <th>1</th>\n",
       "      <th>2</th>\n",
       "    </tr>\n",
       "  </thead>\n",
       "  <tbody>\n",
       "    <tr>\n",
       "      <th>mean_test_score</th>\n",
       "      <td>0.0415425</td>\n",
       "      <td>0.0283155</td>\n",
       "      <td>-0.000141996</td>\n",
       "    </tr>\n",
       "    <tr>\n",
       "      <th>mean_train_score</th>\n",
       "      <td>0.0354414</td>\n",
       "      <td>0.0224905</td>\n",
       "      <td>0</td>\n",
       "    </tr>\n",
       "    <tr>\n",
       "      <th>param_lassocv__alphas</th>\n",
       "      <td>[0.01]</td>\n",
       "      <td>[0.03]</td>\n",
       "      <td>[0.1]</td>\n",
       "    </tr>\n",
       "  </tbody>\n",
       "</table>\n",
       "</div>"
      ],
      "text/plain": [
       "                               0          1            2\n",
       "mean_test_score        0.0415425  0.0283155 -0.000141996\n",
       "mean_train_score       0.0354414  0.0224905            0\n",
       "param_lassocv__alphas     [0.01]     [0.03]        [0.1]"
      ]
     },
     "execution_count": 26,
     "metadata": {},
     "output_type": "execute_result"
    }
   ],
   "source": [
    "params = {'lassocv__alphas': make_alphas(-2, -1)}\n",
    "model = GridSearchCV(pipe, param_grid=params, n_jobs=-1, cv=cv, verbose=0)\n",
    "model.fit(X_train, y_train)\n",
    "pd.DataFrame(model.cv_results_).T.iloc[2:5]"
   ]
  },
  {
   "cell_type": "code",
   "execution_count": 27,
   "metadata": {
    "collapsed": false
   },
   "outputs": [
    {
     "data": {
      "text/plain": [
       "{'lassocv__alphas': [0.01]}"
      ]
     },
     "execution_count": 27,
     "metadata": {},
     "output_type": "execute_result"
    }
   ],
   "source": [
    "model.best_params_"
   ]
  },
  {
   "cell_type": "code",
   "execution_count": 29,
   "metadata": {
    "collapsed": false
   },
   "outputs": [
    {
     "data": {
      "text/plain": [
       "'17 cols go to zero out of 27'"
      ]
     },
     "execution_count": 29,
     "metadata": {},
     "output_type": "execute_result"
    }
   ],
   "source": [
    "'{} cols go to zero out of {}'.format(\n",
    "    len(X_train.columns[model.best_estimator_.steps[-1][-1].coef_ == 0]),\n",
    "    len(X_train.columns)\n",
    ")"
   ]
  },
  {
   "cell_type": "code",
   "execution_count": 30,
   "metadata": {
    "collapsed": false
   },
   "outputs": [
    {
     "data": {
      "text/plain": [
       "['SubmittedPhoto',\n",
       " 'race_asian',\n",
       " 'race_other',\n",
       " 'poverty_pop_below_poverty_level',\n",
       " 'earned_income_per_capita',\n",
       " 'poverty_pop_w_public_assistance',\n",
       " 'poverty_pop_w_food_stamps',\n",
       " 'poverty_pop_w_ssi',\n",
       " 'school_std_dev',\n",
       " 'housing_std_dev',\n",
       " 'bedroom',\n",
       " 'bedroom_std_dev',\n",
       " 'rent_std_dev',\n",
       " 'income_std_dev',\n",
       " 'queue_wk',\n",
       " 'Property_Type_Address',\n",
       " 'Source_Citizens Connect App']"
      ]
     },
     "execution_count": 30,
     "metadata": {},
     "output_type": "execute_result"
    }
   ],
   "source": [
    "cols_zero = list(X_train.columns[model.best_estimator_.steps[-1][-1].coef_ == 0])\n",
    "cols_zero"
   ]
  },
  {
   "cell_type": "markdown",
   "metadata": {},
   "source": [
    "## Use subsetted cols to run lin reg"
   ]
  },
  {
   "cell_type": "code",
   "execution_count": 101,
   "metadata": {
    "collapsed": false
   },
   "outputs": [],
   "source": [
    "df_dummified.columns = [col.translate(None, string.punctuation).replace(' ', '') if col != 'COMPLETION_HOURS_LOG_10' else col for col in df_dummified.columns]"
   ]
  },
  {
   "cell_type": "code",
   "execution_count": 102,
   "metadata": {
    "collapsed": false
   },
   "outputs": [],
   "source": [
    "X_train, X_test, y_train, y_test = train_test_split(\n",
    "    df_dummified.drop(['COMPLETION_HOURS_LOG_10'], axis=1), \n",
    "    df_dummified.COMPLETION_HOURS_LOG_10, \n",
    "    test_size=0.2, \n",
    "    random_state=300\n",
    ")"
   ]
  },
  {
   "cell_type": "code",
   "execution_count": 103,
   "metadata": {
    "collapsed": false,
    "scrolled": true
   },
   "outputs": [],
   "source": [
    "col_list = ' + '.join(df_dummified.drop(['COMPLETION_HOURS_LOG_10'], axis=1).columns)\n",
    "\n",
    "est = smf.ols(\n",
    "    'COMPLETION_HOURS_LOG_10 ~ {}'.format(col_list), \n",
    "    pd.concat([X_train, y_train], axis=1)).fit()"
   ]
  },
  {
   "cell_type": "code",
   "execution_count": 118,
   "metadata": {
    "collapsed": true
   },
   "outputs": [
    {
     "data": {
      "text/html": [
       "<table class=\"simpletable\">\n",
       "<caption>OLS Regression Results</caption>\n",
       "<tr>\n",
       "  <th>Dep. Variable:</th>    <td>COMPLETION_HOURS_LOG_10</td> <th>  R-squared:         </th> <td>   0.016</td>\n",
       "</tr>\n",
       "<tr>\n",
       "  <th>Model:</th>                      <td>OLS</td>           <th>  Adj. R-squared:    </th> <td>   0.015</td>\n",
       "</tr>\n",
       "<tr>\n",
       "  <th>Method:</th>                <td>Least Squares</td>      <th>  F-statistic:       </th> <td>   15.34</td>\n",
       "</tr>\n",
       "<tr>\n",
       "  <th>Date:</th>                <td>Fri, 24 Feb 2017</td>     <th>  Prob (F-statistic):</th> <td>1.45e-22</td>\n",
       "</tr>\n",
       "<tr>\n",
       "  <th>Time:</th>                    <td>18:09:12</td>         <th>  Log-Likelihood:    </th> <td> -3625.0</td>\n",
       "</tr>\n",
       "<tr>\n",
       "  <th>No. Observations:</th>         <td>  7512</td>          <th>  AIC:               </th> <td>   7268.</td>\n",
       "</tr>\n",
       "<tr>\n",
       "  <th>Df Residuals:</th>             <td>  7503</td>          <th>  BIC:               </th> <td>   7330.</td>\n",
       "</tr>\n",
       "<tr>\n",
       "  <th>Df Model:</th>                 <td>     8</td>          <th>                     </th>     <td> </td>   \n",
       "</tr>\n",
       "<tr>\n",
       "  <th>Covariance Type:</th>         <td>nonrobust</td>        <th>                     </th>     <td> </td>   \n",
       "</tr>\n",
       "</table>"
      ],
      "text/plain": [
       "<class 'statsmodels.iolib.table.SimpleTable'>"
      ]
     },
     "execution_count": 118,
     "metadata": {},
     "output_type": "execute_result"
    }
   ],
   "source": [
    "est.summary().tables[0]"
   ]
  },
  {
   "cell_type": "markdown",
   "metadata": {},
   "source": [
    "### Getting adjusted $R^2$ on test set"
   ]
  },
  {
   "cell_type": "code",
   "execution_count": 104,
   "metadata": {
    "collapsed": false
   },
   "outputs": [],
   "source": [
    "y_pred = est.predict(X_test)"
   ]
  },
  {
   "cell_type": "code",
   "execution_count": 105,
   "metadata": {
    "collapsed": false
   },
   "outputs": [
    {
     "data": {
      "text/plain": [
       "0.010674602704032844"
      ]
     },
     "execution_count": 105,
     "metadata": {},
     "output_type": "execute_result"
    }
   ],
   "source": [
    "adjusted_r2(y_test, y_pred, num_features=X_test.shape[1])"
   ]
  },
  {
   "cell_type": "code",
   "execution_count": 106,
   "metadata": {
    "collapsed": false
   },
   "outputs": [
    {
     "data": {
      "text/plain": [
       "0.38797014008139136"
      ]
     },
     "execution_count": 106,
     "metadata": {},
     "output_type": "execute_result"
    }
   ],
   "source": [
    "mean_squared_error(y_test, y_pred)**0.5"
   ]
  },
  {
   "cell_type": "code",
   "execution_count": 119,
   "metadata": {
    "collapsed": false
   },
   "outputs": [
    {
     "data": {
      "text/plain": [
       "count    1878.000000\n",
       "mean        2.429112\n",
       "std         0.390996\n",
       "min         0.358252\n",
       "25%         2.235064\n",
       "50%         2.489926\n",
       "75%         2.677769\n",
       "max         3.857246\n",
       "Name: COMPLETION_HOURS_LOG_10, dtype: float64"
      ]
     },
     "execution_count": 119,
     "metadata": {},
     "output_type": "execute_result"
    }
   ],
   "source": [
    "y_test.describe()"
   ]
  },
  {
   "cell_type": "markdown",
   "metadata": {},
   "source": [
    "## Interpreting model\n",
    "\n",
    "Which features are most associated with completion time?"
   ]
  },
  {
   "cell_type": "code",
   "execution_count": 114,
   "metadata": {
    "collapsed": false
   },
   "outputs": [
    {
     "data": {
      "text/plain": [
       "(9, 8)"
      ]
     },
     "execution_count": 114,
     "metadata": {},
     "output_type": "execute_result"
    }
   ],
   "source": [
    "df_results = pd.read_csv(StringIO(est.summary().tables[1].as_csv()), index_col=0).reset_index()\n",
    "df_results.columns = ['coef_name'] + [i.rstrip().lstrip() for i in df_results.columns][1:]\n",
    "df_results.coef_name = df_results.coef_name.map(lambda x: x.strip())\n",
    "df_results = df_results.sort_values('P>|t|')\n",
    "df_results['pct_diff_for_y'] = (10**df_results.coef - 1) * 100\n",
    "df_results['pct_diff_for_y_abs'] = pd.np.abs((10**df_results.coef - 1) * 100)\n",
    "df_results.sort_values('pct_diff_for_y_abs', inplace=True, ascending=False)\n",
    "df_results.shape"
   ]
  },
  {
   "cell_type": "code",
   "execution_count": 117,
   "metadata": {
    "collapsed": false
   },
   "outputs": [
    {
     "name": "stderr",
     "output_type": "stream",
     "text": [
      "/home/ubuntu/anaconda2/lib/python2.7/site-packages/ipykernel/__main__.py:1: UserWarning: Boolean Series key will be reindexed to match DataFrame index.\n",
      "  if __name__ == '__main__':\n"
     ]
    },
    {
     "data": {
      "text/html": [
       "<div>\n",
       "<table border=\"1\" class=\"dataframe\">\n",
       "  <thead>\n",
       "    <tr style=\"text-align: right;\">\n",
       "      <th></th>\n",
       "      <th>coef_name</th>\n",
       "      <th>coef</th>\n",
       "      <th>std err</th>\n",
       "      <th>t</th>\n",
       "      <th>P&gt;|t|</th>\n",
       "      <th>[95.0% Conf. Int.]</th>\n",
       "      <th>pct_diff_for_y</th>\n",
       "      <th>pct_diff_for_y_abs</th>\n",
       "    </tr>\n",
       "  </thead>\n",
       "  <tbody>\n",
       "    <tr>\n",
       "      <th>4</th>\n",
       "      <td>racehispanic</td>\n",
       "      <td>0.1113</td>\n",
       "      <td>0.029</td>\n",
       "      <td>3.784</td>\n",
       "      <td>0.000</td>\n",
       "      <td>0.054     0.169</td>\n",
       "      <td>29.211152</td>\n",
       "      <td>29.211152</td>\n",
       "    </tr>\n",
       "    <tr>\n",
       "      <th>2</th>\n",
       "      <td>raceblack</td>\n",
       "      <td>0.1097</td>\n",
       "      <td>0.017</td>\n",
       "      <td>6.532</td>\n",
       "      <td>0.000</td>\n",
       "      <td>0.077     0.143</td>\n",
       "      <td>28.735997</td>\n",
       "      <td>28.735997</td>\n",
       "    </tr>\n",
       "    <tr>\n",
       "      <th>7</th>\n",
       "      <td>SourceCitizensConnectApp</td>\n",
       "      <td>0.0424</td>\n",
       "      <td>0.018</td>\n",
       "      <td>2.344</td>\n",
       "      <td>0.019</td>\n",
       "      <td>0.007     0.078</td>\n",
       "      <td>10.255433</td>\n",
       "      <td>10.255433</td>\n",
       "    </tr>\n",
       "    <tr>\n",
       "      <th>6</th>\n",
       "      <td>PropertyTypeAddress</td>\n",
       "      <td>0.0392</td>\n",
       "      <td>0.014</td>\n",
       "      <td>2.829</td>\n",
       "      <td>0.005</td>\n",
       "      <td>0.012     0.066</td>\n",
       "      <td>9.446027</td>\n",
       "      <td>9.446027</td>\n",
       "    </tr>\n",
       "    <tr>\n",
       "      <th>8</th>\n",
       "      <td>SourceConstituentCall</td>\n",
       "      <td>-0.0392</td>\n",
       "      <td>0.015</td>\n",
       "      <td>-2.678</td>\n",
       "      <td>0.007</td>\n",
       "      <td>-0.068    -0.011</td>\n",
       "      <td>-8.630763</td>\n",
       "      <td>8.630763</td>\n",
       "    </tr>\n",
       "    <tr>\n",
       "      <th>1</th>\n",
       "      <td>isdescription[T.True]</td>\n",
       "      <td>-0.0345</td>\n",
       "      <td>0.013</td>\n",
       "      <td>-2.645</td>\n",
       "      <td>0.008</td>\n",
       "      <td>-0.060    -0.009</td>\n",
       "      <td>-7.636581</td>\n",
       "      <td>7.636581</td>\n",
       "    </tr>\n",
       "  </tbody>\n",
       "</table>\n",
       "</div>"
      ],
      "text/plain": [
       "                  coef_name    coef  std err      t  P>|t|  \\\n",
       "4              racehispanic  0.1113    0.029  3.784  0.000   \n",
       "2                 raceblack  0.1097    0.017  6.532  0.000   \n",
       "7  SourceCitizensConnectApp  0.0424    0.018  2.344  0.019   \n",
       "6       PropertyTypeAddress  0.0392    0.014  2.829  0.005   \n",
       "8     SourceConstituentCall -0.0392    0.015 -2.678  0.007   \n",
       "1     isdescription[T.True] -0.0345    0.013 -2.645  0.008   \n",
       "\n",
       "    [95.0% Conf. Int.]  pct_diff_for_y  pct_diff_for_y_abs  \n",
       "4      0.054     0.169       29.211152           29.211152  \n",
       "2      0.077     0.143       28.735997           28.735997  \n",
       "7      0.007     0.078       10.255433           10.255433  \n",
       "6      0.012     0.066        9.446027            9.446027  \n",
       "8     -0.068    -0.011       -8.630763            8.630763  \n",
       "1     -0.060    -0.009       -7.636581            7.636581  "
      ]
     },
     "execution_count": 117,
     "metadata": {},
     "output_type": "execute_result"
    }
   ],
   "source": [
    "df_results[df_results['P>|t|'] < 0.1][df_results.coef_name != 'Intercept']"
   ]
  },
  {
   "cell_type": "code",
   "execution_count": 109,
   "metadata": {
    "collapsed": false
   },
   "outputs": [
    {
     "data": {
      "text/plain": [
       "count    9390.000000\n",
       "mean      383.803573\n",
       "std       405.297599\n",
       "min         2.275000\n",
       "25%       171.718333\n",
       "50%       307.753611\n",
       "75%       479.439375\n",
       "max      7198.562222\n",
       "Name: COMPLETION_HOURS_LOG_10, dtype: float64"
      ]
     },
     "execution_count": 109,
     "metadata": {},
     "output_type": "execute_result"
    }
   ],
   "source": [
    "df_dummified.COMPLETION_HOURS_LOG_10.map(lambda x: 10**x).describe()"
   ]
  },
  {
   "cell_type": "code",
   "execution_count": 94,
   "metadata": {
    "collapsed": false
   },
   "outputs": [
    {
     "data": {
      "text/plain": [
       "[('raceother', 22.278),\n",
       " ('queuewkopen', 22.207),\n",
       " ('raceasian', 22.118),\n",
       " ('PropertyTypeAddress', 21.981),\n",
       " ('raceblack', 19.729),\n",
       " ('SourceCitizensConnectApp', 19.724),\n",
       " ('racehispanic', 19.227),\n",
       " ('isdescription', 17.195),\n",
       " ('SourceConstituentCall', 16.861)]"
      ]
     },
     "execution_count": 94,
     "metadata": {},
     "output_type": "execute_result"
    }
   ],
   "source": [
    "scores = []\n",
    "\n",
    "for col in X_train.columns:\n",
    "    if col != 'Intercept':\n",
    "        score = remove_one_feature([col], df_dummified)\n",
    "        scores.append((col, score))\n",
    "        \n",
    "sorted(scores, key=lambda x: x[1])[::-1]        "
   ]
  },
  {
   "cell_type": "raw",
   "metadata": {},
   "source": [
    "'PropertyTypeAddress' can be substituted for 'queuewkopen', with an increase in R2."
   ]
  },
  {
   "cell_type": "markdown",
   "metadata": {},
   "source": [
    "## Conclusion\n",
    "\n",
    "- **Description** is associated with **better** completion time.\n",
    "- **More Black or Hispanic people** in the area is associated with a **worse** completion time, each to the same degree, compared to White.\n",
    "- From **mobile app** is associated with a **worse** completion time, compared to from website.\n",
    "- From **call** is associated with a **better** completion time, compared to from website, to less of a degree than from mobile app.\n",
    "- Location being **address** is associated with a **worse** completion time compared to intersection.\n",
    "\n",
    "### Notable\n",
    "- From **mobile app** is associated with a **worse** completion time, compared to from website."
   ]
  },
  {
   "cell_type": "code",
   "execution_count": null,
   "metadata": {
    "collapsed": true
   },
   "outputs": [],
   "source": []
  }
 ],
 "metadata": {
  "anaconda-cloud": {},
  "kernelspec": {
   "display_name": "Python [default]",
   "language": "python",
   "name": "python2"
  },
  "language_info": {
   "codemirror_mode": {
    "name": "ipython",
    "version": 2
   },
   "file_extension": ".py",
   "mimetype": "text/x-python",
   "name": "python",
   "nbconvert_exporter": "python",
   "pygments_lexer": "ipython2",
   "version": "2.7.12"
  }
 },
 "nbformat": 4,
 "nbformat_minor": 2
}
