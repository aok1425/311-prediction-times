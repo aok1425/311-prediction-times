{
 "cells": [
  {
   "cell_type": "raw",
   "metadata": {},
   "source": [
    "Unless there's a straightfoward way to interpret the coefs under L2.\n",
    "Will ask the instructors on Monday."
   ]
  },
  {
   "cell_type": "markdown",
   "metadata": {},
   "source": [
    "## Objective\n",
    "\n",
    "Let's use the subsetted features from L2 Lasso regularization and use them for OLS, which is more interpretable. Hopefully I won't be in a high variance situation."
   ]
  },
  {
   "cell_type": "code",
   "execution_count": 2,
   "metadata": {
    "collapsed": false
   },
   "outputs": [],
   "source": [
    "from __future__ import division\n",
    "import pandas as pd\n",
    "import numpy as np\n",
    "import warnings\n",
    "import seaborn as sns\n",
    "import matplotlib.pyplot as plt\n",
    "from pylab import rcParams\n",
    "%matplotlib inline\n",
    "\n",
    "warnings.filterwarnings(\"ignore\", category=DeprecationWarning)\n",
    "sns.set_style(\"whitegrid\")\n",
    "sns.set_context(\"poster\")\n",
    "rcParams['figure.figsize'] = 20, 5\n",
    "\n",
    "from helper_functions import dummify_cols_and_baselines, make_alphas, remove_outliers_by_type"
   ]
  },
  {
   "cell_type": "code",
   "execution_count": 3,
   "metadata": {
    "collapsed": false
   },
   "outputs": [
    {
     "data": {
      "text/plain": [
       "(516406, 40)"
      ]
     },
     "execution_count": 3,
     "metadata": {},
     "output_type": "execute_result"
    }
   ],
   "source": [
    "df_orig = pd.read_pickle('../data/data_from_remove_from_dataset.pkl')\n",
    "df_orig.shape"
   ]
  },
  {
   "cell_type": "markdown",
   "metadata": {},
   "source": [
    "## Removing outliers\n",
    "\n",
    "A standard procedure is to remove values further than 3 standard deviations from the mean. Since I have so many low values and some very high values, I anecdotally think that the low values are very likely to be true, and the high values not so much.\n",
    "\n",
    "So, I will remove values further than 3 SDs from the median, by type.\n",
    "\n",
    "Ideally, I would take into account the time dimension. I would like to do so given more time."
   ]
  },
  {
   "cell_type": "code",
   "execution_count": 4,
   "metadata": {
    "collapsed": false
   },
   "outputs": [
    {
     "name": "stderr",
     "output_type": "stream",
     "text": [
      "helper_functions.py:24: SettingWithCopyWarning: \n",
      "A value is trying to be set on a copy of a slice from a DataFrame.\n",
      "Try using .loc[row_indexer,col_indexer] = value instead\n",
      "\n",
      "See the caveats in the documentation: http://pandas.pydata.org/pandas-docs/stable/indexing.html#indexing-view-versus-copy\n",
      "/home/ec2-user/anaconda2/lib/python2.7/site-packages/pandas/core/frame.py:2454: SettingWithCopyWarning: \n",
      "A value is trying to be set on a copy of a slice from a DataFrame\n",
      "\n",
      "See the caveats in the documentation: http://pandas.pydata.org/pandas-docs/stable/indexing.html#indexing-view-versus-copy\n",
      "  self._where(-key, value, inplace=True)\n"
     ]
    },
    {
     "data": {
      "text/plain": [
       "(508653, 40)"
      ]
     },
     "execution_count": 4,
     "metadata": {},
     "output_type": "execute_result"
    }
   ],
   "source": [
    "df_outliers_removed = remove_outliers_by_type(df_orig, y_col='COMPLETION_HOURS_LOG_10')\n",
    "df_outliers_removed.shape"
   ]
  },
  {
   "cell_type": "markdown",
   "metadata": {},
   "source": [
    "I'm removing ~1.5% of my rows."
   ]
  },
  {
   "cell_type": "markdown",
   "metadata": {},
   "source": [
    "## Choosing columns"
   ]
  },
  {
   "cell_type": "code",
   "execution_count": 5,
   "metadata": {
    "collapsed": true
   },
   "outputs": [],
   "source": [
    "cols_orig_dataset = ['COMPLETION_HOURS_LOG_10', 'TYPE', 'SubmittedPhoto', 'Property_Type', 'Source', 'neighborhood_from_zip']\n",
    "cols_census = ['race_white',\n",
    "     'race_black',\n",
    "     'race_asian',\n",
    "     'race_hispanic',\n",
    "     'race_other',\n",
    "     'poverty_pop_below_poverty_level',\n",
    "     'earned_income_per_capita',\n",
    "     'poverty_pop_w_public_assistance',\n",
    "     'poverty_pop_w_food_stamps',\n",
    "     'poverty_pop_w_ssi',\n",
    "     'school',\n",
    "     'school_std_dev',\n",
    "     'housing',\n",
    "     'housing_std_dev',\n",
    "     'bedroom',\n",
    "     'bedroom_std_dev',\n",
    "     'value',\n",
    "     'value_std_dev',\n",
    "     'rent',\n",
    "     'rent_std_dev',\n",
    "     'income',\n",
    "     'income_std_dev']\n",
    "cols_engineered = ['queue_wk', 'queue_wk_open', 'is_description']"
   ]
  },
  {
   "cell_type": "code",
   "execution_count": 6,
   "metadata": {
    "collapsed": false
   },
   "outputs": [],
   "source": [
    "df = df_outliers_removed[cols_orig_dataset + cols_census + cols_engineered]"
   ]
  },
  {
   "cell_type": "markdown",
   "metadata": {},
   "source": [
    "## Dummify"
   ]
  },
  {
   "cell_type": "code",
   "execution_count": 7,
   "metadata": {
    "collapsed": false
   },
   "outputs": [
    {
     "data": {
      "text/plain": [
       "Index([u'TYPE', u'Property_Type', u'Source', u'neighborhood_from_zip',\n",
       "       u'school', u'housing'],\n",
       "      dtype='object')"
      ]
     },
     "execution_count": 7,
     "metadata": {},
     "output_type": "execute_result"
    }
   ],
   "source": [
    "cols_to_dummify = df.dtypes[df.dtypes == object].index\n",
    "cols_to_dummify"
   ]
  },
  {
   "cell_type": "code",
   "execution_count": 8,
   "metadata": {
    "collapsed": false
   },
   "outputs": [
    {
     "name": "stdout",
     "output_type": "stream",
     "text": [
      "Zoning is baseline 0 6\n",
      "other is baseline 1 6\n",
      "Twitter is baseline 2 6\n",
      "West Roxbury is baseline 3 6\n",
      "8_6th_grade is baseline 4 6\n",
      "rent is baseline 5 6\n"
     ]
    }
   ],
   "source": [
    "df_dummified, baseline_cols = dummify_cols_and_baselines(df, cols_to_dummify)"
   ]
  },
  {
   "cell_type": "code",
   "execution_count": 9,
   "metadata": {
    "collapsed": false
   },
   "outputs": [
    {
     "data": {
      "text/plain": [
       "(508653, 253)"
      ]
     },
     "execution_count": 9,
     "metadata": {},
     "output_type": "execute_result"
    }
   ],
   "source": [
    "df_dummified.shape"
   ]
  },
  {
   "cell_type": "markdown",
   "metadata": {},
   "source": [
    "## Removing columns as per L2 results"
   ]
  },
  {
   "cell_type": "code",
   "execution_count": 22,
   "metadata": {
    "collapsed": true
   },
   "outputs": [],
   "source": [
    "col_blacklist = ['Property_Type_Address',\n",
    " 'Property_Type_Intersection',\n",
    " 'Source_Constituent Call',\n",
    " 'SubmittedPhoto',\n",
    " 'TYPE_ADA',\n",
    " 'TYPE_Alert Boston',\n",
    " 'TYPE_Animal Noise Disturbances',\n",
    " 'TYPE_Automotive Noise Disturbance',\n",
    " 'TYPE_BWSC General Request',\n",
    " 'TYPE_BWSC Pothole',\n",
    " 'TYPE_Big Buildings Online Request',\n",
    " 'TYPE_Billing Complaint',\n",
    " 'TYPE_Bridge Maintenance',\n",
    " 'TYPE_CE Collection',\n",
    " 'TYPE_Cemetery Maintenance Request',\n",
    " 'TYPE_City/State Snow Issues',\n",
    " 'TYPE_Contractor Complaints',\n",
    " 'TYPE_Corporate or Community Group Service Day Clean Up',\n",
    " 'TYPE_Downed Wire',\n",
    " 'TYPE_Dumpster & Loading Noise Disturbances',\n",
    " 'TYPE_Fire Department Request',\n",
    " 'TYPE_Fire Hydrant',\n",
    " 'TYPE_Fire in Food Establishment',\n",
    " 'TYPE_Follow-Up',\n",
    " 'TYPE_Food Alert - Confirmed',\n",
    " 'TYPE_Food Alert - Unconfirmed',\n",
    " 'TYPE_General Traffic Engineering Request',\n",
    " 'TYPE_Ground Maintenance',\n",
    " 'TYPE_HP Sign Application New',\n",
    " 'TYPE_HP Sign Application Renewal',\n",
    " 'TYPE_Heat/Fuel Assistance',\n",
    " 'TYPE_Idea Collection',\n",
    " 'TYPE_Knockdown Replacement',\n",
    " 'TYPE_Loud Parties/Music/People',\n",
    " 'TYPE_Mechanical',\n",
    " 'TYPE_Misc. Snow Complaint',\n",
    " 'TYPE_Mosquitoes (West Nile)',\n",
    " 'TYPE_Municipal Parking Lot Complaints',\n",
    " 'TYPE_New Tree Warrantee Inspection',\n",
    " 'TYPE_News Boxes',\n",
    " 'TYPE_No Utilities - Food Establishment - Electricity',\n",
    " 'TYPE_No Utilities - Food Establishment - Flood',\n",
    " 'TYPE_No Utilities - Food Establishment - Sewer',\n",
    " 'TYPE_No Utilities - Food Establishment - Water',\n",
    " 'TYPE_No Utilities Residential - Electricity',\n",
    " 'TYPE_No Utilities Residential - Gas',\n",
    " 'TYPE_No Utilities Residential - Water',\n",
    " 'TYPE_OCR Metrolist',\n",
    " 'TYPE_Occupying W/Out A Valid CO/CI',\n",
    " 'TYPE_One Boston Day',\n",
    " 'TYPE_PWD Graffiti',\n",
    " 'TYPE_Parking Meter Repairs',\n",
    " 'TYPE_Parks General Request',\n",
    " 'TYPE_Pavement Marking Inspection',\n",
    " 'TYPE_Phone Bank Service Inquiry',\n",
    " 'TYPE_Planting',\n",
    " 'TYPE_Poor Ventilation',\n",
    " 'TYPE_Private Parking Lot Complaints',\n",
    " 'TYPE_Public Events Noise Disturbances',\n",
    " 'TYPE_Rat Bite',\n",
    " 'TYPE_Rental Unit Delivery Conditions',\n",
    " 'TYPE_Request for Litter Basket Installation',\n",
    " 'TYPE_Roadway Flooding',\n",
    " 'TYPE_Rooftop & Mechanical Disturbances',\n",
    " 'TYPE_Schedule a Bulk Item Pickup SS',\n",
    " 'TYPE_Senior Shoveling',\n",
    " 'TYPE_Sewage/Septic Back-Up',\n",
    " 'TYPE_Sidewalk Cover / Manhole',\n",
    " 'TYPE_Sidewalk Repair (Make Safe)',\n",
    " 'TYPE_Sign Shop WO',\n",
    " 'TYPE_Snow Removal',\n",
    " 'TYPE_Snow/Ice Control',\n",
    " 'TYPE_Student Overcrowding',\n",
    " 'TYPE_Transfer Not Completed',\n",
    " 'TYPE_Undefined Noise Disturbance',\n",
    " 'TYPE_Unit Pricing Wrong/Missing',\n",
    " 'TYPE_Unsanitary Conditions - Employees',\n",
    " 'TYPE_Unsanitary Conditions - Establishment',\n",
    " 'TYPE_Unsanitary Conditions - Food',\n",
    " 'TYPE_Utility Casting Repair',\n",
    " 'TYPE_Valet Parking Problems',\n",
    " 'TYPE_Walk-In Service Inquiry',\n",
    " 'TYPE_Watermain Break',\n",
    " 'TYPE_Work Hours-Loud Noise Complaints',\n",
    " 'TYPE_Yardwaste Asian Longhorned Beetle Affected Area',\n",
    " 'bedroom',\n",
    " 'bedroom_std_dev',\n",
    " 'earned_income_per_capita',\n",
    " 'housing_own',\n",
    " 'housing_std_dev',\n",
    " 'income',\n",
    " 'income_std_dev',\n",
    " 'is_description',\n",
    " 'neighborhood_from_zip_Allston / Brighton',\n",
    " 'neighborhood_from_zip_Back Bay',\n",
    " 'neighborhood_from_zip_Beacon Hill',\n",
    " 'neighborhood_from_zip_Brookline',\n",
    " 'neighborhood_from_zip_Charlestown',\n",
    " 'neighborhood_from_zip_Chestnut Hill',\n",
    " 'neighborhood_from_zip_Dorchester',\n",
    " 'neighborhood_from_zip_Downtown / Financial District',\n",
    " 'neighborhood_from_zip_Fenway / Kenmore / Audubon Circle / Longwood',\n",
    " 'neighborhood_from_zip_Hyde Park',\n",
    " 'neighborhood_from_zip_Jamaica Plain',\n",
    " 'neighborhood_from_zip_Mattapan',\n",
    " 'neighborhood_from_zip_Mission Hill',\n",
    " 'neighborhood_from_zip_Roslindale',\n",
    " 'neighborhood_from_zip_Roxbury',\n",
    " 'neighborhood_from_zip_South Boston',\n",
    " 'neighborhood_from_zip_South Boston / South Boston Waterfront',\n",
    " 'neighborhood_from_zip_South End',\n",
    " 'neighborhood_from_zip_West End',\n",
    " 'poverty_pop_below_poverty_level',\n",
    " 'poverty_pop_w_food_stamps',\n",
    " 'poverty_pop_w_public_assistance',\n",
    " 'poverty_pop_w_ssi',\n",
    " 'queue_wk',\n",
    " 'race_asian',\n",
    " 'race_black',\n",
    " 'race_hispanic',\n",
    " 'race_other',\n",
    " 'race_white',\n",
    " 'rent',\n",
    " 'rent_std_dev',\n",
    " 'school_0_none',\n",
    " 'school_11_9th_grade',\n",
    " 'school_13_11th_grade',\n",
    " 'school_14_12th_grade_no_diploma',\n",
    " 'school_15_hs_diploma',\n",
    " 'school_18_some_college_no_degree',\n",
    " 'school_19_associates',\n",
    " 'school_20_bachelors',\n",
    " 'school_21_masters',\n",
    " 'school_22_professional_school',\n",
    " 'school_std_dev',\n",
    " 'value',\n",
    " 'value_std_dev']"
   ]
  },
  {
   "cell_type": "code",
   "execution_count": 23,
   "metadata": {
    "collapsed": true
   },
   "outputs": [],
   "source": [
    "df_dummified_and_filtered = df_dummified.drop(col_blacklist, axis=1)"
   ]
  },
  {
   "cell_type": "markdown",
   "metadata": {},
   "source": [
    "## Running model"
   ]
  },
  {
   "cell_type": "code",
   "execution_count": 28,
   "metadata": {
    "collapsed": false
   },
   "outputs": [],
   "source": [
    "from sklearn.cross_validation import train_test_split\n",
    "from sklearn.pipeline import make_pipeline\n",
    "from sklearn.model_selection import GridSearchCV\n",
    "from sklearn.linear_model import LinearRegression, LassoCV\n",
    "from sklearn.cross_validation import ShuffleSplit\n",
    "from sklearn.preprocessing import StandardScaler, PolynomialFeatures\n",
    "from sklearn.metrics import mean_squared_error, r2_score\n"
   ]
  },
  {
   "cell_type": "code",
   "execution_count": 25,
   "metadata": {
    "collapsed": false
   },
   "outputs": [],
   "source": [
    "X_train, X_test, y_train, y_test = train_test_split(\n",
    "    df_dummified_and_filtered.drop('COMPLETION_HOURS_LOG_10', axis=1), \n",
    "    df_dummified_and_filtered.COMPLETION_HOURS_LOG_10, \n",
    "    test_size=0.2, \n",
    "    random_state=300\n",
    ")"
   ]
  },
  {
   "cell_type": "code",
   "execution_count": 26,
   "metadata": {
    "collapsed": true
   },
   "outputs": [],
   "source": [
    "pipe = make_pipeline(StandardScaler(), LinearRegression())\n",
    "pipe = make_pipeline(PolynomialFeatures(), StandardScaler(), LinearRegression())"
   ]
  },
  {
   "cell_type": "code",
   "execution_count": 27,
   "metadata": {
    "collapsed": true
   },
   "outputs": [],
   "source": [
    "params = {}\n",
    "model = GridSearchCV(pipe, param_grid=params, n_jobs=-1, cv=3)\n",
    "model.fit(X_train, y_train);"
   ]
  },
  {
   "cell_type": "raw",
   "metadata": {},
   "source": [
    "TODO: implement PolynomialFeatures (or use statsmodels to do the same). In the interest of time, and to ease interpretability, I will skip this."
   ]
  },
  {
   "cell_type": "code",
   "execution_count": 30,
   "metadata": {
    "collapsed": false
   },
   "outputs": [
    {
     "data": {
      "text/html": [
       "<div>\n",
       "<table border=\"1\" class=\"dataframe\">\n",
       "  <thead>\n",
       "    <tr style=\"text-align: right;\">\n",
       "      <th></th>\n",
       "      <th>0</th>\n",
       "    </tr>\n",
       "  </thead>\n",
       "  <tbody>\n",
       "    <tr>\n",
       "      <th>mean_fit_time</th>\n",
       "      <td>2.34785</td>\n",
       "    </tr>\n",
       "    <tr>\n",
       "      <th>mean_score_time</th>\n",
       "      <td>0.228844</td>\n",
       "    </tr>\n",
       "    <tr>\n",
       "      <th>mean_test_score</th>\n",
       "      <td>0.555478</td>\n",
       "    </tr>\n",
       "    <tr>\n",
       "      <th>mean_train_score</th>\n",
       "      <td>0.555907</td>\n",
       "    </tr>\n",
       "    <tr>\n",
       "      <th>params</th>\n",
       "      <td>{}</td>\n",
       "    </tr>\n",
       "  </tbody>\n",
       "</table>\n",
       "</div>"
      ],
      "text/plain": [
       "                         0\n",
       "mean_fit_time      2.34785\n",
       "mean_score_time   0.228844\n",
       "mean_test_score   0.555478\n",
       "mean_train_score  0.555907\n",
       "params                  {}"
      ]
     },
     "execution_count": 30,
     "metadata": {},
     "output_type": "execute_result"
    }
   ],
   "source": [
    "pd.DataFrame(model.cv_results_).T.head()"
   ]
  },
  {
   "cell_type": "markdown",
   "metadata": {},
   "source": [
    "We will want to run a model with just the above features to find out which ones are statistically significant, but we get a sense here that these factors are likely to be signficant:\n",
    "\n",
    "- when source is from the mobile app or desktop website\n",
    "- neighborhoods of East Boston and the North End\n",
    "- the number of issues in the workers' queue at the time\n",
    "\n",
    "## Conclusion\n",
    "\n",
    "We didn't get a better $R^2$, which makes sense, since we weren't in an overfit situation anyways when we tried this regularization parameter.\n",
    "\n",
    "We did find subset our features and got somewhat of an indication which ones are more likely to be significantly correlated to completion time than others. We also avoided crazy predictions that would have affected our $R^2$, at least for this particular random seed."
   ]
  }
 ],
 "metadata": {
  "kernelspec": {
   "display_name": "Python 2",
   "language": "python",
   "name": "python2"
  },
  "language_info": {
   "codemirror_mode": {
    "name": "ipython",
    "version": 2
   },
   "file_extension": ".py",
   "mimetype": "text/x-python",
   "name": "python",
   "nbconvert_exporter": "python",
   "pygments_lexer": "ipython2",
   "version": "2.7.13"
  }
 },
 "nbformat": 4,
 "nbformat_minor": 2
}
