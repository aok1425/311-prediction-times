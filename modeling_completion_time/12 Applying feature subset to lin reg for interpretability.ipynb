{
 "cells": [
  {
   "cell_type": "raw",
   "metadata": {},
   "source": [
    "Unless there's a straightfoward way to interpret the coefs under L2.\n",
    "Will ask the instructors on Monday."
   ]
  },
  {
   "cell_type": "markdown",
   "metadata": {},
   "source": [
    "## Objective\n",
    "\n",
    "Let's use the subsetted features from L2 Lasso regularization and use them for OLS, which is more interpretable. Hopefully I won't be in a high variance situation."
   ]
  },
  {
   "cell_type": "code",
   "execution_count": 101,
   "metadata": {
    "collapsed": false
   },
   "outputs": [],
   "source": [
    "from __future__ import division\n",
    "import pandas as pd\n",
    "import numpy as np\n",
    "import warnings\n",
    "import seaborn as sns\n",
    "import matplotlib.pyplot as plt\n",
    "from pylab import rcParams\n",
    "%matplotlib inline\n",
    "import string\n",
    "\n",
    "warnings.filterwarnings(\"ignore\", category=DeprecationWarning)\n",
    "sns.set_style(\"whitegrid\")\n",
    "sns.set_context(\"poster\")\n",
    "rcParams['figure.figsize'] = 20, 5\n",
    "\n",
    "from helper_functions import dummify_cols_and_baselines, make_alphas, remove_outliers_by_type"
   ]
  },
  {
   "cell_type": "code",
   "execution_count": 3,
   "metadata": {
    "collapsed": false
   },
   "outputs": [
    {
     "data": {
      "text/plain": [
       "(516406, 40)"
      ]
     },
     "execution_count": 3,
     "metadata": {},
     "output_type": "execute_result"
    }
   ],
   "source": [
    "df_orig = pd.read_pickle('../data/data_from_remove_from_dataset.pkl')\n",
    "df_orig.shape"
   ]
  },
  {
   "cell_type": "markdown",
   "metadata": {},
   "source": [
    "## Removing outliers\n",
    "\n",
    "A standard procedure is to remove values further than 3 standard deviations from the mean. Since I have so many low values and some very high values, I anecdotally think that the low values are very likely to be true, and the high values not so much.\n",
    "\n",
    "So, I will remove values further than 3 SDs from the median, by type.\n",
    "\n",
    "Ideally, I would take into account the time dimension. I would like to do so given more time."
   ]
  },
  {
   "cell_type": "code",
   "execution_count": 4,
   "metadata": {
    "collapsed": false
   },
   "outputs": [
    {
     "name": "stderr",
     "output_type": "stream",
     "text": [
      "helper_functions.py:24: SettingWithCopyWarning: \n",
      "A value is trying to be set on a copy of a slice from a DataFrame.\n",
      "Try using .loc[row_indexer,col_indexer] = value instead\n",
      "\n",
      "See the caveats in the documentation: http://pandas.pydata.org/pandas-docs/stable/indexing.html#indexing-view-versus-copy\n",
      "/home/ec2-user/anaconda2/lib/python2.7/site-packages/pandas/core/frame.py:2454: SettingWithCopyWarning: \n",
      "A value is trying to be set on a copy of a slice from a DataFrame\n",
      "\n",
      "See the caveats in the documentation: http://pandas.pydata.org/pandas-docs/stable/indexing.html#indexing-view-versus-copy\n",
      "  self._where(-key, value, inplace=True)\n"
     ]
    },
    {
     "data": {
      "text/plain": [
       "(508653, 40)"
      ]
     },
     "execution_count": 4,
     "metadata": {},
     "output_type": "execute_result"
    }
   ],
   "source": [
    "df_outliers_removed = remove_outliers_by_type(df_orig, y_col='COMPLETION_HOURS_LOG_10')\n",
    "df_outliers_removed.shape"
   ]
  },
  {
   "cell_type": "markdown",
   "metadata": {},
   "source": [
    "I'm removing ~1.5% of my rows."
   ]
  },
  {
   "cell_type": "markdown",
   "metadata": {},
   "source": [
    "## Choosing columns"
   ]
  },
  {
   "cell_type": "code",
   "execution_count": 5,
   "metadata": {
    "collapsed": true
   },
   "outputs": [],
   "source": [
    "cols_orig_dataset = ['COMPLETION_HOURS_LOG_10', 'TYPE', 'SubmittedPhoto', 'Property_Type', 'Source', 'neighborhood_from_zip']\n",
    "cols_census = ['race_white',\n",
    "     'race_black',\n",
    "     'race_asian',\n",
    "     'race_hispanic',\n",
    "     'race_other',\n",
    "     'poverty_pop_below_poverty_level',\n",
    "     'earned_income_per_capita',\n",
    "     'poverty_pop_w_public_assistance',\n",
    "     'poverty_pop_w_food_stamps',\n",
    "     'poverty_pop_w_ssi',\n",
    "     'school',\n",
    "     'school_std_dev',\n",
    "     'housing',\n",
    "     'housing_std_dev',\n",
    "     'bedroom',\n",
    "     'bedroom_std_dev',\n",
    "     'value',\n",
    "     'value_std_dev',\n",
    "     'rent',\n",
    "     'rent_std_dev',\n",
    "     'income',\n",
    "     'income_std_dev']\n",
    "cols_engineered = ['queue_wk', 'queue_wk_open', 'is_description']"
   ]
  },
  {
   "cell_type": "code",
   "execution_count": 6,
   "metadata": {
    "collapsed": false
   },
   "outputs": [],
   "source": [
    "df = df_outliers_removed[cols_orig_dataset + cols_census + cols_engineered]"
   ]
  },
  {
   "cell_type": "markdown",
   "metadata": {},
   "source": [
    "## Dummify"
   ]
  },
  {
   "cell_type": "code",
   "execution_count": 7,
   "metadata": {
    "collapsed": false
   },
   "outputs": [
    {
     "data": {
      "text/plain": [
       "Index([u'TYPE', u'Property_Type', u'Source', u'neighborhood_from_zip',\n",
       "       u'school', u'housing'],\n",
       "      dtype='object')"
      ]
     },
     "execution_count": 7,
     "metadata": {},
     "output_type": "execute_result"
    }
   ],
   "source": [
    "cols_to_dummify = df.dtypes[df.dtypes == object].index\n",
    "cols_to_dummify"
   ]
  },
  {
   "cell_type": "code",
   "execution_count": 8,
   "metadata": {
    "collapsed": false
   },
   "outputs": [
    {
     "name": "stdout",
     "output_type": "stream",
     "text": [
      "Zoning is baseline 0 6\n",
      "other is baseline 1 6\n",
      "Twitter is baseline 2 6\n",
      "West Roxbury is baseline 3 6\n",
      "8_6th_grade is baseline 4 6\n",
      "rent is baseline 5 6\n"
     ]
    }
   ],
   "source": [
    "df_dummified, baseline_cols = dummify_cols_and_baselines(df, cols_to_dummify)"
   ]
  },
  {
   "cell_type": "code",
   "execution_count": 9,
   "metadata": {
    "collapsed": false
   },
   "outputs": [
    {
     "data": {
      "text/plain": [
       "(508653, 253)"
      ]
     },
     "execution_count": 9,
     "metadata": {},
     "output_type": "execute_result"
    }
   ],
   "source": [
    "df_dummified.shape"
   ]
  },
  {
   "cell_type": "markdown",
   "metadata": {},
   "source": [
    "## Removing columns as per L2 results"
   ]
  },
  {
   "cell_type": "code",
   "execution_count": 22,
   "metadata": {
    "collapsed": true
   },
   "outputs": [],
   "source": [
    "col_blacklist = ['Property_Type_Address',\n",
    " 'Property_Type_Intersection',\n",
    " 'Source_Constituent Call',\n",
    " 'SubmittedPhoto',\n",
    " 'TYPE_ADA',\n",
    " 'TYPE_Alert Boston',\n",
    " 'TYPE_Animal Noise Disturbances',\n",
    " 'TYPE_Automotive Noise Disturbance',\n",
    " 'TYPE_BWSC General Request',\n",
    " 'TYPE_BWSC Pothole',\n",
    " 'TYPE_Big Buildings Online Request',\n",
    " 'TYPE_Billing Complaint',\n",
    " 'TYPE_Bridge Maintenance',\n",
    " 'TYPE_CE Collection',\n",
    " 'TYPE_Cemetery Maintenance Request',\n",
    " 'TYPE_City/State Snow Issues',\n",
    " 'TYPE_Contractor Complaints',\n",
    " 'TYPE_Corporate or Community Group Service Day Clean Up',\n",
    " 'TYPE_Downed Wire',\n",
    " 'TYPE_Dumpster & Loading Noise Disturbances',\n",
    " 'TYPE_Fire Department Request',\n",
    " 'TYPE_Fire Hydrant',\n",
    " 'TYPE_Fire in Food Establishment',\n",
    " 'TYPE_Follow-Up',\n",
    " 'TYPE_Food Alert - Confirmed',\n",
    " 'TYPE_Food Alert - Unconfirmed',\n",
    " 'TYPE_General Traffic Engineering Request',\n",
    " 'TYPE_Ground Maintenance',\n",
    " 'TYPE_HP Sign Application New',\n",
    " 'TYPE_HP Sign Application Renewal',\n",
    " 'TYPE_Heat/Fuel Assistance',\n",
    " 'TYPE_Idea Collection',\n",
    " 'TYPE_Knockdown Replacement',\n",
    " 'TYPE_Loud Parties/Music/People',\n",
    " 'TYPE_Mechanical',\n",
    " 'TYPE_Misc. Snow Complaint',\n",
    " 'TYPE_Mosquitoes (West Nile)',\n",
    " 'TYPE_Municipal Parking Lot Complaints',\n",
    " 'TYPE_New Tree Warrantee Inspection',\n",
    " 'TYPE_News Boxes',\n",
    " 'TYPE_No Utilities - Food Establishment - Electricity',\n",
    " 'TYPE_No Utilities - Food Establishment - Flood',\n",
    " 'TYPE_No Utilities - Food Establishment - Sewer',\n",
    " 'TYPE_No Utilities - Food Establishment - Water',\n",
    " 'TYPE_No Utilities Residential - Electricity',\n",
    " 'TYPE_No Utilities Residential - Gas',\n",
    " 'TYPE_No Utilities Residential - Water',\n",
    " 'TYPE_OCR Metrolist',\n",
    " 'TYPE_Occupying W/Out A Valid CO/CI',\n",
    " 'TYPE_One Boston Day',\n",
    " 'TYPE_PWD Graffiti',\n",
    " 'TYPE_Parking Meter Repairs',\n",
    " 'TYPE_Parks General Request',\n",
    " 'TYPE_Pavement Marking Inspection',\n",
    " 'TYPE_Phone Bank Service Inquiry',\n",
    " 'TYPE_Planting',\n",
    " 'TYPE_Poor Ventilation',\n",
    " 'TYPE_Private Parking Lot Complaints',\n",
    " 'TYPE_Public Events Noise Disturbances',\n",
    " 'TYPE_Rat Bite',\n",
    " 'TYPE_Rental Unit Delivery Conditions',\n",
    " 'TYPE_Request for Litter Basket Installation',\n",
    " 'TYPE_Roadway Flooding',\n",
    " 'TYPE_Rooftop & Mechanical Disturbances',\n",
    " 'TYPE_Schedule a Bulk Item Pickup SS',\n",
    " 'TYPE_Senior Shoveling',\n",
    " 'TYPE_Sewage/Septic Back-Up',\n",
    " 'TYPE_Sidewalk Cover / Manhole',\n",
    " 'TYPE_Sidewalk Repair (Make Safe)',\n",
    " 'TYPE_Sign Shop WO',\n",
    " 'TYPE_Snow Removal',\n",
    " 'TYPE_Snow/Ice Control',\n",
    " 'TYPE_Student Overcrowding',\n",
    " 'TYPE_Transfer Not Completed',\n",
    " 'TYPE_Undefined Noise Disturbance',\n",
    " 'TYPE_Unit Pricing Wrong/Missing',\n",
    " 'TYPE_Unsanitary Conditions - Employees',\n",
    " 'TYPE_Unsanitary Conditions - Establishment',\n",
    " 'TYPE_Unsanitary Conditions - Food',\n",
    " 'TYPE_Utility Casting Repair',\n",
    " 'TYPE_Valet Parking Problems',\n",
    " 'TYPE_Walk-In Service Inquiry',\n",
    " 'TYPE_Watermain Break',\n",
    " 'TYPE_Work Hours-Loud Noise Complaints',\n",
    " 'TYPE_Yardwaste Asian Longhorned Beetle Affected Area',\n",
    " 'bedroom',\n",
    " 'bedroom_std_dev',\n",
    " 'earned_income_per_capita',\n",
    " 'housing_own',\n",
    " 'housing_std_dev',\n",
    " 'income',\n",
    " 'income_std_dev',\n",
    " 'is_description',\n",
    " 'neighborhood_from_zip_Allston / Brighton',\n",
    " 'neighborhood_from_zip_Back Bay',\n",
    " 'neighborhood_from_zip_Beacon Hill',\n",
    " 'neighborhood_from_zip_Brookline',\n",
    " 'neighborhood_from_zip_Charlestown',\n",
    " 'neighborhood_from_zip_Chestnut Hill',\n",
    " 'neighborhood_from_zip_Dorchester',\n",
    " 'neighborhood_from_zip_Downtown / Financial District',\n",
    " 'neighborhood_from_zip_Fenway / Kenmore / Audubon Circle / Longwood',\n",
    " 'neighborhood_from_zip_Hyde Park',\n",
    " 'neighborhood_from_zip_Jamaica Plain',\n",
    " 'neighborhood_from_zip_Mattapan',\n",
    " 'neighborhood_from_zip_Mission Hill',\n",
    " 'neighborhood_from_zip_Roslindale',\n",
    " 'neighborhood_from_zip_Roxbury',\n",
    " 'neighborhood_from_zip_South Boston',\n",
    " 'neighborhood_from_zip_South Boston / South Boston Waterfront',\n",
    " 'neighborhood_from_zip_South End',\n",
    " 'neighborhood_from_zip_West End',\n",
    " 'poverty_pop_below_poverty_level',\n",
    " 'poverty_pop_w_food_stamps',\n",
    " 'poverty_pop_w_public_assistance',\n",
    " 'poverty_pop_w_ssi',\n",
    " 'queue_wk',\n",
    " 'race_asian',\n",
    " 'race_black',\n",
    " 'race_hispanic',\n",
    " 'race_other',\n",
    " 'race_white',\n",
    " 'rent',\n",
    " 'rent_std_dev',\n",
    " 'school_0_none',\n",
    " 'school_11_9th_grade',\n",
    " 'school_13_11th_grade',\n",
    " 'school_14_12th_grade_no_diploma',\n",
    " 'school_15_hs_diploma',\n",
    " 'school_18_some_college_no_degree',\n",
    " 'school_19_associates',\n",
    " 'school_20_bachelors',\n",
    " 'school_21_masters',\n",
    " 'school_22_professional_school',\n",
    " 'school_std_dev',\n",
    " 'value',\n",
    " 'value_std_dev']"
   ]
  },
  {
   "cell_type": "code",
   "execution_count": 114,
   "metadata": {
    "collapsed": true
   },
   "outputs": [],
   "source": [
    "df_dummified_and_filtered = df_dummified.drop(col_blacklist, axis=1)"
   ]
  },
  {
   "cell_type": "markdown",
   "metadata": {},
   "source": [
    "## Running a model"
   ]
  },
  {
   "cell_type": "code",
   "execution_count": 31,
   "metadata": {
    "collapsed": true
   },
   "outputs": [],
   "source": [
    "import statsmodels.api as sm\n",
    "import statsmodels.formula.api as smf"
   ]
  },
  {
   "cell_type": "code",
   "execution_count": 52,
   "metadata": {
    "collapsed": false
   },
   "outputs": [],
   "source": [
    "X_train, X_test, y_train, y_test = train_test_split(\n",
    "    df_dummified_and_filtered.drop('COMPLETION_HOURS_LOG_10', axis=1), \n",
    "    df_dummified_and_filtered.COMPLETION_HOURS_LOG_10, \n",
    "    test_size=0.2, \n",
    "    random_state=300\n",
    ")"
   ]
  },
  {
   "cell_type": "code",
   "execution_count": 115,
   "metadata": {
    "collapsed": false
   },
   "outputs": [],
   "source": [
    "df_dummified_and_filtered.columns = [col.translate(None, string.punctuation).replace(' ', '') if col != 'COMPLETION_HOURS_LOG_10' else col for col in df_dummified_and_filtered.columns]"
   ]
  },
  {
   "cell_type": "code",
   "execution_count": 113,
   "metadata": {
    "collapsed": true
   },
   "outputs": [
    {
     "data": {
      "text/plain": [
       "['COMPLETION_HOURS_LOG_10',\n",
       " 'queuewkopen',\n",
       " 'TYPEAbandoned Bicycle',\n",
       " 'TYPEAbandoned Building',\n",
       " 'TYPEAbandoned Vehicles',\n",
       " 'TYPEAnimal Found',\n",
       " 'TYPEAnimal Generic Request',\n",
       " 'TYPEAnimal Lost',\n",
       " 'TYPEBed Bugs',\n",
       " 'TYPEBicycle Issues',\n",
       " 'TYPEBreathe Easy',\n",
       " 'TYPEBuilding Inspection Request',\n",
       " 'TYPECall Log',\n",
       " 'TYPECarbon Monoxide',\n",
       " 'TYPECatchbasin',\n",
       " 'TYPECheckin',\n",
       " 'TYPEChronic DampnessMold',\n",
       " 'TYPEConstruction Debris',\n",
       " 'TYPEContractors Complaint',\n",
       " 'TYPECross Metering  SubMetering',\n",
       " 'TYPEEgress',\n",
       " 'TYPEElectrical',\n",
       " 'TYPEEmpty Litter Basket',\n",
       " 'TYPEEquipment Repair',\n",
       " 'TYPEExceeding Terms of Permit',\n",
       " 'TYPEGeneral Comments For An Employee',\n",
       " 'TYPEGeneral Comments For a Program or Policy',\n",
       " 'TYPEGeneral Lighting Request',\n",
       " 'TYPEGraffiti Removal',\n",
       " 'TYPEHeat  Excessive  Insufficient',\n",
       " 'TYPEHighway Maintenance',\n",
       " 'TYPEHousing Discrimination Intake Form',\n",
       " 'TYPEIllegal Auto Body Shop',\n",
       " 'TYPEIllegal Dumping',\n",
       " 'TYPEIllegal Occupancy',\n",
       " 'TYPEIllegal Posting of Signs',\n",
       " 'TYPEIllegal Rooming House',\n",
       " 'TYPEIllegal Use',\n",
       " 'TYPEIllegal Vending',\n",
       " 'TYPEImproper Storage of Trash Barrels',\n",
       " 'TYPEInstall New Lighting',\n",
       " 'TYPEItem Price Missing',\n",
       " 'TYPELead',\n",
       " 'TYPELitter Basket Maintenance',\n",
       " 'TYPEMaintenance  Homeowner',\n",
       " 'TYPEMaintenance Complaint  Residential',\n",
       " 'TYPEMajor System Failure',\n",
       " 'TYPEMice Infestation  Residential',\n",
       " 'TYPEMissed TrashRecyclingYard WasteBulk Item',\n",
       " 'TYPEMissing Sign',\n",
       " 'TYPENeedle Pickup',\n",
       " 'TYPENew Sign  Crosswalk or Pavement Marking',\n",
       " 'TYPENew Tree Requests',\n",
       " 'TYPENo Price on GasWrong Price',\n",
       " 'TYPENoTow Complaint Confirmation',\n",
       " 'TYPENotification',\n",
       " 'TYPEOCR Front Desk Interactions',\n",
       " 'TYPEOvercrowding',\n",
       " 'TYPEOverflowing or Unkept Dumpster',\n",
       " 'TYPEPark Improvement Requests',\n",
       " 'TYPEPark Maintenance Requests',\n",
       " 'TYPEParking Enforcement',\n",
       " 'TYPEParking on FrontBack Yards Illegal Parking',\n",
       " 'TYPEParks LightingElectrical Issues',\n",
       " 'TYPEPavement Marking Maintenance',\n",
       " 'TYPEPest Infestation  Residential',\n",
       " 'TYPEPick up Dead Animal',\n",
       " 'TYPEPigeon Infestation',\n",
       " 'TYPEPlumbing',\n",
       " 'TYPEPoor Conditions of Property',\n",
       " 'TYPEProduct Short Measure',\n",
       " 'TYPEProtection of Adjoining Property',\n",
       " 'TYPEPublic Works General Request',\n",
       " 'TYPERecycling Cart Inquiry',\n",
       " 'TYPERecycling Cart Return',\n",
       " 'TYPERequest for Pothole Repair',\n",
       " 'TYPERequest for Recycling Cart',\n",
       " 'TYPERequest for Snow Plowing',\n",
       " 'TYPERequest for Snow Plowing Emergency Responder',\n",
       " 'TYPERequests for Street Cleaning',\n",
       " 'TYPERequests for Traffic Signal Studies or Reviews',\n",
       " 'TYPERoadway Repair',\n",
       " 'TYPERodent Activity',\n",
       " 'TYPEScale Not Visible',\n",
       " 'TYPEScanning Overcharge',\n",
       " 'TYPESchedule a Bulk Item Pickup',\n",
       " 'TYPEShort Measure  Gas',\n",
       " 'TYPESidewalk Repair',\n",
       " 'TYPESign Repair',\n",
       " 'TYPESpace Savers',\n",
       " 'TYPESqualid Living Conditions',\n",
       " 'TYPESticker Request',\n",
       " 'TYPEStreet Light Knock Downs',\n",
       " 'TYPEStreet Light Outages',\n",
       " 'TYPEStudent Movein Issues',\n",
       " 'TYPETraffic Signal Inspection',\n",
       " 'TYPETraffic Signal Repair',\n",
       " 'TYPETransportation General Request',\n",
       " 'TYPETrash on Vacant Lot',\n",
       " 'TYPETree Emergencies',\n",
       " 'TYPETree Maintenance Requests',\n",
       " 'TYPETree in Park',\n",
       " 'TYPEUnsafe Dangerous Conditions',\n",
       " 'TYPEUnsatisfactory Living Conditions',\n",
       " 'TYPEUnsatisfactory Utilities  Electrical  Plumbing',\n",
       " 'TYPEUnshoveled Sidewalk',\n",
       " 'TYPEUpgrade Existing Lighting',\n",
       " 'TYPEUtility CallIn',\n",
       " 'TYPEWC Call Log',\n",
       " 'TYPEWater in Gas  High Priority',\n",
       " 'TYPEWork wout Permit',\n",
       " 'TYPEWorking Beyond Hours',\n",
       " 'SourceCitizens Connect App',\n",
       " 'SourceSelf Service',\n",
       " 'neighborhoodfromzipEast Boston',\n",
       " 'neighborhoodfromzipNorth End']"
      ]
     },
     "execution_count": 113,
     "metadata": {},
     "output_type": "execute_result"
    }
   ],
   "source": [
    "list(df_dummified_and_filtered.columns)"
   ]
  },
  {
   "cell_type": "code",
   "execution_count": 116,
   "metadata": {
    "collapsed": false
   },
   "outputs": [
    {
     "ename": "NameError",
     "evalue": "name 'TYPEChronicDampnessMold' is not defined",
     "output_type": "error",
     "traceback": [
      "\u001b[0;31m---------------------------------------------------------------------------\u001b[0m",
      "\u001b[0;31mNameError\u001b[0m                                 Traceback (most recent call last)",
      "\u001b[0;32m<ipython-input-116-d75dd90dff66>\u001b[0m in \u001b[0;36m<module>\u001b[0;34m()\u001b[0m\n\u001b[1;32m      3\u001b[0m est = smf.ols(\n\u001b[1;32m      4\u001b[0m     \u001b[0;34m'COMPLETION_HOURS_LOG_10 ~ {}'\u001b[0m\u001b[0;34m.\u001b[0m\u001b[0mformat\u001b[0m\u001b[0;34m(\u001b[0m\u001b[0mcol_list\u001b[0m\u001b[0;34m)\u001b[0m\u001b[0;34m,\u001b[0m\u001b[0;34m\u001b[0m\u001b[0m\n\u001b[0;32m----> 5\u001b[0;31m     pd.concat([X_train, y_train], axis=1)).fit()\n\u001b[0m\u001b[1;32m      6\u001b[0m \u001b[0mest\u001b[0m\u001b[0;34m.\u001b[0m\u001b[0msummary\u001b[0m\u001b[0;34m(\u001b[0m\u001b[0;34m)\u001b[0m\u001b[0;34m\u001b[0m\u001b[0m\n",
      "\u001b[0;32m/home/ec2-user/anaconda2/lib/python2.7/site-packages/statsmodels/base/model.py\u001b[0m in \u001b[0;36mfrom_formula\u001b[0;34m(cls, formula, data, subset, *args, **kwargs)\u001b[0m\n\u001b[1;32m    145\u001b[0m         (endog, exog), missing_idx = handle_formula_data(data, None, formula,\n\u001b[1;32m    146\u001b[0m                                                          \u001b[0mdepth\u001b[0m\u001b[0;34m=\u001b[0m\u001b[0meval_env\u001b[0m\u001b[0;34m,\u001b[0m\u001b[0;34m\u001b[0m\u001b[0m\n\u001b[0;32m--> 147\u001b[0;31m                                                          missing=missing)\n\u001b[0m\u001b[1;32m    148\u001b[0m         kwargs.update({'missing_idx': missing_idx,\n\u001b[1;32m    149\u001b[0m                        'missing': missing})\n",
      "\u001b[0;32m/home/ec2-user/anaconda2/lib/python2.7/site-packages/statsmodels/formula/formulatools.py\u001b[0m in \u001b[0;36mhandle_formula_data\u001b[0;34m(Y, X, formula, depth, missing)\u001b[0m\n\u001b[1;32m     63\u001b[0m         \u001b[0;32mif\u001b[0m \u001b[0mdata_util\u001b[0m\u001b[0;34m.\u001b[0m\u001b[0m_is_using_pandas\u001b[0m\u001b[0;34m(\u001b[0m\u001b[0mY\u001b[0m\u001b[0;34m,\u001b[0m \u001b[0mNone\u001b[0m\u001b[0;34m)\u001b[0m\u001b[0;34m:\u001b[0m\u001b[0;34m\u001b[0m\u001b[0m\n\u001b[1;32m     64\u001b[0m             result = dmatrices(formula, Y, depth, return_type='dataframe',\n\u001b[0;32m---> 65\u001b[0;31m                                NA_action=na_action)\n\u001b[0m\u001b[1;32m     66\u001b[0m         \u001b[0;32melse\u001b[0m\u001b[0;34m:\u001b[0m\u001b[0;34m\u001b[0m\u001b[0m\n\u001b[1;32m     67\u001b[0m             result = dmatrices(formula, Y, depth, return_type='dataframe',\n",
      "\u001b[0;32m/home/ec2-user/anaconda2/lib/python2.7/site-packages/patsy/highlevel.py\u001b[0m in \u001b[0;36mdmatrices\u001b[0;34m(formula_like, data, eval_env, NA_action, return_type)\u001b[0m\n\u001b[1;32m    308\u001b[0m     \u001b[0meval_env\u001b[0m \u001b[0;34m=\u001b[0m \u001b[0mEvalEnvironment\u001b[0m\u001b[0;34m.\u001b[0m\u001b[0mcapture\u001b[0m\u001b[0;34m(\u001b[0m\u001b[0meval_env\u001b[0m\u001b[0;34m,\u001b[0m \u001b[0mreference\u001b[0m\u001b[0;34m=\u001b[0m\u001b[0;36m1\u001b[0m\u001b[0;34m)\u001b[0m\u001b[0;34m\u001b[0m\u001b[0m\n\u001b[1;32m    309\u001b[0m     (lhs, rhs) = _do_highlevel_design(formula_like, data, eval_env,\n\u001b[0;32m--> 310\u001b[0;31m                                       NA_action, return_type)\n\u001b[0m\u001b[1;32m    311\u001b[0m     \u001b[0;32mif\u001b[0m \u001b[0mlhs\u001b[0m\u001b[0;34m.\u001b[0m\u001b[0mshape\u001b[0m\u001b[0;34m[\u001b[0m\u001b[0;36m1\u001b[0m\u001b[0;34m]\u001b[0m \u001b[0;34m==\u001b[0m \u001b[0;36m0\u001b[0m\u001b[0;34m:\u001b[0m\u001b[0;34m\u001b[0m\u001b[0m\n\u001b[1;32m    312\u001b[0m         \u001b[0;32mraise\u001b[0m \u001b[0mPatsyError\u001b[0m\u001b[0;34m(\u001b[0m\u001b[0;34m\"model is missing required outcome variables\"\u001b[0m\u001b[0;34m)\u001b[0m\u001b[0;34m\u001b[0m\u001b[0m\n",
      "\u001b[0;32m/home/ec2-user/anaconda2/lib/python2.7/site-packages/patsy/highlevel.py\u001b[0m in \u001b[0;36m_do_highlevel_design\u001b[0;34m(formula_like, data, eval_env, NA_action, return_type)\u001b[0m\n\u001b[1;32m    163\u001b[0m         \u001b[0;32mreturn\u001b[0m \u001b[0miter\u001b[0m\u001b[0;34m(\u001b[0m\u001b[0;34m[\u001b[0m\u001b[0mdata\u001b[0m\u001b[0;34m]\u001b[0m\u001b[0;34m)\u001b[0m\u001b[0;34m\u001b[0m\u001b[0m\n\u001b[1;32m    164\u001b[0m     design_infos = _try_incr_builders(formula_like, data_iter_maker, eval_env,\n\u001b[0;32m--> 165\u001b[0;31m                                       NA_action)\n\u001b[0m\u001b[1;32m    166\u001b[0m     \u001b[0;32mif\u001b[0m \u001b[0mdesign_infos\u001b[0m \u001b[0;32mis\u001b[0m \u001b[0;32mnot\u001b[0m \u001b[0mNone\u001b[0m\u001b[0;34m:\u001b[0m\u001b[0;34m\u001b[0m\u001b[0m\n\u001b[1;32m    167\u001b[0m         return build_design_matrices(design_infos, data,\n",
      "\u001b[0;32m/home/ec2-user/anaconda2/lib/python2.7/site-packages/patsy/highlevel.py\u001b[0m in \u001b[0;36m_try_incr_builders\u001b[0;34m(formula_like, data_iter_maker, eval_env, NA_action)\u001b[0m\n\u001b[1;32m     68\u001b[0m                                       \u001b[0mdata_iter_maker\u001b[0m\u001b[0;34m,\u001b[0m\u001b[0;34m\u001b[0m\u001b[0m\n\u001b[1;32m     69\u001b[0m                                       \u001b[0meval_env\u001b[0m\u001b[0;34m,\u001b[0m\u001b[0;34m\u001b[0m\u001b[0m\n\u001b[0;32m---> 70\u001b[0;31m                                       NA_action)\n\u001b[0m\u001b[1;32m     71\u001b[0m     \u001b[0;32melse\u001b[0m\u001b[0;34m:\u001b[0m\u001b[0;34m\u001b[0m\u001b[0m\n\u001b[1;32m     72\u001b[0m         \u001b[0;32mreturn\u001b[0m \u001b[0mNone\u001b[0m\u001b[0;34m\u001b[0m\u001b[0m\n",
      "\u001b[0;32m/home/ec2-user/anaconda2/lib/python2.7/site-packages/patsy/build.py\u001b[0m in \u001b[0;36mdesign_matrix_builders\u001b[0;34m(termlists, data_iter_maker, eval_env, NA_action)\u001b[0m\n\u001b[1;32m    694\u001b[0m                                                    \u001b[0mfactor_states\u001b[0m\u001b[0;34m,\u001b[0m\u001b[0;34m\u001b[0m\u001b[0m\n\u001b[1;32m    695\u001b[0m                                                    \u001b[0mdata_iter_maker\u001b[0m\u001b[0;34m,\u001b[0m\u001b[0;34m\u001b[0m\u001b[0m\n\u001b[0;32m--> 696\u001b[0;31m                                                    NA_action)\n\u001b[0m\u001b[1;32m    697\u001b[0m     \u001b[0;31m# Now we need the factor infos, which encapsulate the knowledge of\u001b[0m\u001b[0;34m\u001b[0m\u001b[0;34m\u001b[0m\u001b[0m\n\u001b[1;32m    698\u001b[0m     \u001b[0;31m# how to turn any given factor into a chunk of data:\u001b[0m\u001b[0;34m\u001b[0m\u001b[0;34m\u001b[0m\u001b[0m\n",
      "\u001b[0;32m/home/ec2-user/anaconda2/lib/python2.7/site-packages/patsy/build.py\u001b[0m in \u001b[0;36m_examine_factor_types\u001b[0;34m(factors, factor_states, data_iter_maker, NA_action)\u001b[0m\n\u001b[1;32m    441\u001b[0m     \u001b[0;32mfor\u001b[0m \u001b[0mdata\u001b[0m \u001b[0;32min\u001b[0m \u001b[0mdata_iter_maker\u001b[0m\u001b[0;34m(\u001b[0m\u001b[0;34m)\u001b[0m\u001b[0;34m:\u001b[0m\u001b[0;34m\u001b[0m\u001b[0m\n\u001b[1;32m    442\u001b[0m         \u001b[0;32mfor\u001b[0m \u001b[0mfactor\u001b[0m \u001b[0;32min\u001b[0m \u001b[0mlist\u001b[0m\u001b[0;34m(\u001b[0m\u001b[0mexamine_needed\u001b[0m\u001b[0;34m)\u001b[0m\u001b[0;34m:\u001b[0m\u001b[0;34m\u001b[0m\u001b[0m\n\u001b[0;32m--> 443\u001b[0;31m             \u001b[0mvalue\u001b[0m \u001b[0;34m=\u001b[0m \u001b[0mfactor\u001b[0m\u001b[0;34m.\u001b[0m\u001b[0meval\u001b[0m\u001b[0;34m(\u001b[0m\u001b[0mfactor_states\u001b[0m\u001b[0;34m[\u001b[0m\u001b[0mfactor\u001b[0m\u001b[0;34m]\u001b[0m\u001b[0;34m,\u001b[0m \u001b[0mdata\u001b[0m\u001b[0;34m)\u001b[0m\u001b[0;34m\u001b[0m\u001b[0m\n\u001b[0m\u001b[1;32m    444\u001b[0m             \u001b[0;32mif\u001b[0m \u001b[0mfactor\u001b[0m \u001b[0;32min\u001b[0m \u001b[0mcat_sniffers\u001b[0m \u001b[0;32mor\u001b[0m \u001b[0mguess_categorical\u001b[0m\u001b[0;34m(\u001b[0m\u001b[0mvalue\u001b[0m\u001b[0;34m)\u001b[0m\u001b[0;34m:\u001b[0m\u001b[0;34m\u001b[0m\u001b[0m\n\u001b[1;32m    445\u001b[0m                 \u001b[0;32mif\u001b[0m \u001b[0mfactor\u001b[0m \u001b[0;32mnot\u001b[0m \u001b[0;32min\u001b[0m \u001b[0mcat_sniffers\u001b[0m\u001b[0;34m:\u001b[0m\u001b[0;34m\u001b[0m\u001b[0m\n",
      "\u001b[0;32m/home/ec2-user/anaconda2/lib/python2.7/site-packages/patsy/eval.py\u001b[0m in \u001b[0;36meval\u001b[0;34m(self, memorize_state, data)\u001b[0m\n\u001b[1;32m    564\u001b[0m         return self._eval(memorize_state[\"eval_code\"],\n\u001b[1;32m    565\u001b[0m                           \u001b[0mmemorize_state\u001b[0m\u001b[0;34m,\u001b[0m\u001b[0;34m\u001b[0m\u001b[0m\n\u001b[0;32m--> 566\u001b[0;31m                           data)\n\u001b[0m\u001b[1;32m    567\u001b[0m \u001b[0;34m\u001b[0m\u001b[0m\n\u001b[1;32m    568\u001b[0m     \u001b[0m__getstate__\u001b[0m \u001b[0;34m=\u001b[0m \u001b[0mno_pickling\u001b[0m\u001b[0;34m\u001b[0m\u001b[0m\n",
      "\u001b[0;32m/home/ec2-user/anaconda2/lib/python2.7/site-packages/patsy/eval.py\u001b[0m in \u001b[0;36m_eval\u001b[0;34m(self, code, memorize_state, data)\u001b[0m\n\u001b[1;32m    549\u001b[0m                                  \u001b[0mmemorize_state\u001b[0m\u001b[0;34m[\u001b[0m\u001b[0;34m\"eval_env\"\u001b[0m\u001b[0;34m]\u001b[0m\u001b[0;34m.\u001b[0m\u001b[0meval\u001b[0m\u001b[0;34m,\u001b[0m\u001b[0;34m\u001b[0m\u001b[0m\n\u001b[1;32m    550\u001b[0m                                  \u001b[0mcode\u001b[0m\u001b[0;34m,\u001b[0m\u001b[0;34m\u001b[0m\u001b[0m\n\u001b[0;32m--> 551\u001b[0;31m                                  inner_namespace=inner_namespace)\n\u001b[0m\u001b[1;32m    552\u001b[0m \u001b[0;34m\u001b[0m\u001b[0m\n\u001b[1;32m    553\u001b[0m     \u001b[0;32mdef\u001b[0m \u001b[0mmemorize_chunk\u001b[0m\u001b[0;34m(\u001b[0m\u001b[0mself\u001b[0m\u001b[0;34m,\u001b[0m \u001b[0mstate\u001b[0m\u001b[0;34m,\u001b[0m \u001b[0mwhich_pass\u001b[0m\u001b[0;34m,\u001b[0m \u001b[0mdata\u001b[0m\u001b[0;34m)\u001b[0m\u001b[0;34m:\u001b[0m\u001b[0;34m\u001b[0m\u001b[0m\n",
      "\u001b[0;32m/home/ec2-user/anaconda2/lib/python2.7/site-packages/patsy/compat.py\u001b[0m in \u001b[0;36mcall_and_wrap_exc\u001b[0;34m(msg, origin, f, *args, **kwargs)\u001b[0m\n\u001b[1;32m    115\u001b[0m \u001b[0;32mdef\u001b[0m \u001b[0mcall_and_wrap_exc\u001b[0m\u001b[0;34m(\u001b[0m\u001b[0mmsg\u001b[0m\u001b[0;34m,\u001b[0m \u001b[0morigin\u001b[0m\u001b[0;34m,\u001b[0m \u001b[0mf\u001b[0m\u001b[0;34m,\u001b[0m \u001b[0;34m*\u001b[0m\u001b[0margs\u001b[0m\u001b[0;34m,\u001b[0m \u001b[0;34m**\u001b[0m\u001b[0mkwargs\u001b[0m\u001b[0;34m)\u001b[0m\u001b[0;34m:\u001b[0m\u001b[0;34m\u001b[0m\u001b[0m\n\u001b[1;32m    116\u001b[0m     \u001b[0;32mtry\u001b[0m\u001b[0;34m:\u001b[0m\u001b[0;34m\u001b[0m\u001b[0m\n\u001b[0;32m--> 117\u001b[0;31m         \u001b[0;32mreturn\u001b[0m \u001b[0mf\u001b[0m\u001b[0;34m(\u001b[0m\u001b[0;34m*\u001b[0m\u001b[0margs\u001b[0m\u001b[0;34m,\u001b[0m \u001b[0;34m**\u001b[0m\u001b[0mkwargs\u001b[0m\u001b[0;34m)\u001b[0m\u001b[0;34m\u001b[0m\u001b[0m\n\u001b[0m\u001b[1;32m    118\u001b[0m     \u001b[0;32mexcept\u001b[0m \u001b[0mException\u001b[0m \u001b[0;32mas\u001b[0m \u001b[0me\u001b[0m\u001b[0;34m:\u001b[0m\u001b[0;34m\u001b[0m\u001b[0m\n\u001b[1;32m    119\u001b[0m         \u001b[0;32mif\u001b[0m \u001b[0msys\u001b[0m\u001b[0;34m.\u001b[0m\u001b[0mversion_info\u001b[0m\u001b[0;34m[\u001b[0m\u001b[0;36m0\u001b[0m\u001b[0;34m]\u001b[0m \u001b[0;34m>=\u001b[0m \u001b[0;36m3\u001b[0m\u001b[0;34m:\u001b[0m\u001b[0;34m\u001b[0m\u001b[0m\n",
      "\u001b[0;32m/home/ec2-user/anaconda2/lib/python2.7/site-packages/patsy/eval.py\u001b[0m in \u001b[0;36meval\u001b[0;34m(self, expr, source_name, inner_namespace)\u001b[0m\n\u001b[1;32m    164\u001b[0m         \u001b[0mcode\u001b[0m \u001b[0;34m=\u001b[0m \u001b[0mcompile\u001b[0m\u001b[0;34m(\u001b[0m\u001b[0mexpr\u001b[0m\u001b[0;34m,\u001b[0m \u001b[0msource_name\u001b[0m\u001b[0;34m,\u001b[0m \u001b[0;34m\"eval\"\u001b[0m\u001b[0;34m,\u001b[0m \u001b[0mself\u001b[0m\u001b[0;34m.\u001b[0m\u001b[0mflags\u001b[0m\u001b[0;34m,\u001b[0m \u001b[0mFalse\u001b[0m\u001b[0;34m)\u001b[0m\u001b[0;34m\u001b[0m\u001b[0m\n\u001b[1;32m    165\u001b[0m         return eval(code, {}, VarLookupDict([inner_namespace]\n\u001b[0;32m--> 166\u001b[0;31m                                             + self._namespaces))\n\u001b[0m\u001b[1;32m    167\u001b[0m \u001b[0;34m\u001b[0m\u001b[0m\n\u001b[1;32m    168\u001b[0m     \u001b[0;34m@\u001b[0m\u001b[0mclassmethod\u001b[0m\u001b[0;34m\u001b[0m\u001b[0m\n",
      "\u001b[0;32m<string>\u001b[0m in \u001b[0;36m<module>\u001b[0;34m()\u001b[0m\n",
      "\u001b[0;31mNameError\u001b[0m: name 'TYPEChronicDampnessMold' is not defined"
     ]
    }
   ],
   "source": [
    "col_list = ' + '.join(df_dummified_and_filtered.drop('COMPLETION_HOURS_LOG_10', axis=1).columns[15:17])\n",
    "\n",
    "est = smf.ols(\n",
    "    'COMPLETION_HOURS_LOG_10 ~ {}'.format(col_list), \n",
    "    pd.concat([X_train, y_train], axis=1)).fit()\n",
    "est.summary()"
   ]
  },
  {
   "cell_type": "markdown",
   "metadata": {},
   "source": [
    "## Running model"
   ]
  },
  {
   "cell_type": "code",
   "execution_count": 28,
   "metadata": {
    "collapsed": false
   },
   "outputs": [],
   "source": [
    "from sklearn.cross_validation import train_test_split\n",
    "from sklearn.pipeline import make_pipeline\n",
    "from sklearn.model_selection import GridSearchCV\n",
    "from sklearn.linear_model import LinearRegression, LassoCV\n",
    "from sklearn.cross_validation import ShuffleSplit\n",
    "from sklearn.preprocessing import StandardScaler, PolynomialFeatures\n",
    "from sklearn.metrics import mean_squared_error, r2_score\n"
   ]
  },
  {
   "cell_type": "code",
   "execution_count": 26,
   "metadata": {
    "collapsed": true
   },
   "outputs": [],
   "source": [
    "pipe = make_pipeline(StandardScaler(), LinearRegression())\n",
    "pipe = make_pipeline(PolynomialFeatures(), StandardScaler(), LinearRegression())"
   ]
  },
  {
   "cell_type": "code",
   "execution_count": 27,
   "metadata": {
    "collapsed": true
   },
   "outputs": [],
   "source": [
    "params = {}\n",
    "model = GridSearchCV(pipe, param_grid=params, n_jobs=-1, cv=3)\n",
    "model.fit(X_train, y_train);"
   ]
  },
  {
   "cell_type": "raw",
   "metadata": {},
   "source": [
    "TODO: implement PolynomialFeatures (or use statsmodels to do the same). In the interest of time, and to ease interpretability, I will skip this."
   ]
  },
  {
   "cell_type": "code",
   "execution_count": 30,
   "metadata": {
    "collapsed": false
   },
   "outputs": [
    {
     "data": {
      "text/html": [
       "<div>\n",
       "<table border=\"1\" class=\"dataframe\">\n",
       "  <thead>\n",
       "    <tr style=\"text-align: right;\">\n",
       "      <th></th>\n",
       "      <th>0</th>\n",
       "    </tr>\n",
       "  </thead>\n",
       "  <tbody>\n",
       "    <tr>\n",
       "      <th>mean_fit_time</th>\n",
       "      <td>2.34785</td>\n",
       "    </tr>\n",
       "    <tr>\n",
       "      <th>mean_score_time</th>\n",
       "      <td>0.228844</td>\n",
       "    </tr>\n",
       "    <tr>\n",
       "      <th>mean_test_score</th>\n",
       "      <td>0.555478</td>\n",
       "    </tr>\n",
       "    <tr>\n",
       "      <th>mean_train_score</th>\n",
       "      <td>0.555907</td>\n",
       "    </tr>\n",
       "    <tr>\n",
       "      <th>params</th>\n",
       "      <td>{}</td>\n",
       "    </tr>\n",
       "  </tbody>\n",
       "</table>\n",
       "</div>"
      ],
      "text/plain": [
       "                         0\n",
       "mean_fit_time      2.34785\n",
       "mean_score_time   0.228844\n",
       "mean_test_score   0.555478\n",
       "mean_train_score  0.555907\n",
       "params                  {}"
      ]
     },
     "execution_count": 30,
     "metadata": {},
     "output_type": "execute_result"
    }
   ],
   "source": [
    "pd.DataFrame(model.cv_results_).T.head()"
   ]
  },
  {
   "cell_type": "markdown",
   "metadata": {},
   "source": [
    "We will want to run a model with just the above features to find out which ones are statistically significant, but we get a sense here that these factors are likely to be signficant:\n",
    "\n",
    "- when source is from the mobile app or desktop website\n",
    "- neighborhoods of East Boston and the North End\n",
    "- the number of issues in the workers' queue at the time\n",
    "\n",
    "## Conclusion\n",
    "\n",
    "We didn't get a better $R^2$, which makes sense, since we weren't in an overfit situation anyways when we tried this regularization parameter.\n",
    "\n",
    "We did find subset our features and got somewhat of an indication which ones are more likely to be significantly correlated to completion time than others. We also avoided crazy predictions that would have affected our $R^2$, at least for this particular random seed."
   ]
  }
 ],
 "metadata": {
  "kernelspec": {
   "display_name": "Python 2",
   "language": "python",
   "name": "python2"
  },
  "language_info": {
   "codemirror_mode": {
    "name": "ipython",
    "version": 2
   },
   "file_extension": ".py",
   "mimetype": "text/x-python",
   "name": "python",
   "nbconvert_exporter": "python",
   "pygments_lexer": "ipython2",
   "version": "2.7.13"
  }
 },
 "nbformat": 4,
 "nbformat_minor": 2
}
