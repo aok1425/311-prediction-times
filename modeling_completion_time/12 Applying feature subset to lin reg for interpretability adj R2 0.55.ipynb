{
 "cells": [
  {
   "cell_type": "markdown",
   "metadata": {},
   "source": [
    "## Objective\n",
    "\n",
    "Let's use the subsetted features from L1 Lasso regularization and use them for OLS, which is more interpretable. Hopefully I won't be in a high variance situation."
   ]
  },
  {
   "cell_type": "code",
   "execution_count": 2,
   "metadata": {
    "collapsed": false
   },
   "outputs": [
    {
     "name": "stdout",
     "output_type": "stream",
     "text": [
      "The autoreload extension is already loaded. To reload it, use:\n",
      "  %reload_ext autoreload\n"
     ]
    }
   ],
   "source": [
    "%load_ext autoreload\n",
    "%autoreload 2"
   ]
  },
  {
   "cell_type": "code",
   "execution_count": 3,
   "metadata": {
    "collapsed": true
   },
   "outputs": [],
   "source": [
    "import os, sys\n",
    "sys.path.append(os.path.join(os.path.dirname('.'), \"../preprocessing\"))"
   ]
  },
  {
   "cell_type": "code",
   "execution_count": 16,
   "metadata": {
    "collapsed": false
   },
   "outputs": [],
   "source": [
    "from __future__ import division\n",
    "import pandas as pd\n",
    "import numpy as np\n",
    "import warnings\n",
    "import seaborn as sns\n",
    "import matplotlib.pyplot as plt\n",
    "from pylab import rcParams\n",
    "%matplotlib inline\n",
    "import string\n",
    "from StringIO import StringIO\n",
    "from sklearn.metrics import mean_squared_error, r2_score\n",
    "from sklearn.cross_validation import train_test_split\n",
    "\n",
    "warnings.filterwarnings(\"ignore\", category=DeprecationWarning)\n",
    "sns.set_style(\"whitegrid\")\n",
    "sns.set_context(\"poster\")\n",
    "rcParams['figure.figsize'] = 20, 5\n",
    "\n",
    "from helper_functions import dummify_cols_and_baselines, make_alphas, remove_outliers_by_type, adjusted_r2"
   ]
  },
  {
   "cell_type": "code",
   "execution_count": 5,
   "metadata": {
    "collapsed": false
   },
   "outputs": [
    {
     "data": {
      "text/plain": [
       "(516406, 40)"
      ]
     },
     "execution_count": 5,
     "metadata": {},
     "output_type": "execute_result"
    }
   ],
   "source": [
    "df_orig = pd.read_pickle('../data/data_from_remove_from_dataset.pkl')\n",
    "df_orig.shape"
   ]
  },
  {
   "cell_type": "markdown",
   "metadata": {},
   "source": [
    "## Removing outliers\n",
    "\n",
    "A standard procedure is to remove values further than 3 standard deviations from the mean. Since I have so many low values and some very high values, I anecdotally think that the low values are very likely to be true, and the high values not so much.\n",
    "\n",
    "So, I will remove values further than 3 SDs from the median, by type.\n",
    "\n",
    "Ideally, I would take into account the time dimension. I would like to do so given more time."
   ]
  },
  {
   "cell_type": "code",
   "execution_count": 6,
   "metadata": {
    "collapsed": false
   },
   "outputs": [
    {
     "name": "stderr",
     "output_type": "stream",
     "text": [
      "../preprocessing/helper_functions.py:27: SettingWithCopyWarning: \n",
      "A value is trying to be set on a copy of a slice from a DataFrame.\n",
      "Try using .loc[row_indexer,col_indexer] = value instead\n",
      "\n",
      "See the caveats in the documentation: http://pandas.pydata.org/pandas-docs/stable/indexing.html#indexing-view-versus-copy\n",
      "  group[pd.np.abs(group - group.median()) > stds * group.std()] = pd.np.nan\n",
      "/Users/datascientist/anaconda2/lib/python2.7/site-packages/pandas/core/frame.py:2454: SettingWithCopyWarning: \n",
      "A value is trying to be set on a copy of a slice from a DataFrame\n",
      "\n",
      "See the caveats in the documentation: http://pandas.pydata.org/pandas-docs/stable/indexing.html#indexing-view-versus-copy\n",
      "  self._where(-key, value, inplace=True)\n"
     ]
    },
    {
     "data": {
      "text/plain": [
       "(508653, 40)"
      ]
     },
     "execution_count": 6,
     "metadata": {},
     "output_type": "execute_result"
    }
   ],
   "source": [
    "df_outliers_removed = remove_outliers_by_type(df_orig, y_col='COMPLETION_HOURS_LOG_10')\n",
    "df_outliers_removed.shape"
   ]
  },
  {
   "cell_type": "markdown",
   "metadata": {},
   "source": [
    "I'm removing ~1.5% of my rows."
   ]
  },
  {
   "cell_type": "markdown",
   "metadata": {},
   "source": [
    "## Choosing columns"
   ]
  },
  {
   "cell_type": "code",
   "execution_count": 7,
   "metadata": {
    "collapsed": true
   },
   "outputs": [],
   "source": [
    "cols_orig_dataset = ['COMPLETION_HOURS_LOG_10', 'TYPE', 'SubmittedPhoto', 'Property_Type', 'Source', 'neighborhood_from_zip']\n",
    "cols_census = ['race_white',\n",
    "     'race_black',\n",
    "     'race_asian',\n",
    "     'race_hispanic',\n",
    "     'race_other',\n",
    "     'poverty_pop_below_poverty_level',\n",
    "     'earned_income_per_capita',\n",
    "     'poverty_pop_w_public_assistance',\n",
    "     'poverty_pop_w_food_stamps',\n",
    "     'poverty_pop_w_ssi',\n",
    "     'school',\n",
    "     'school_std_dev',\n",
    "     'housing',\n",
    "     'housing_std_dev',\n",
    "     'bedroom',\n",
    "     'bedroom_std_dev',\n",
    "     'value',\n",
    "     'value_std_dev',\n",
    "     'rent',\n",
    "     'rent_std_dev',\n",
    "     'income',\n",
    "     'income_std_dev']\n",
    "cols_engineered = ['queue_wk', 'queue_wk_open', 'is_description']"
   ]
  },
  {
   "cell_type": "code",
   "execution_count": 8,
   "metadata": {
    "collapsed": false
   },
   "outputs": [],
   "source": [
    "df = df_outliers_removed[cols_orig_dataset + cols_census + cols_engineered]"
   ]
  },
  {
   "cell_type": "markdown",
   "metadata": {},
   "source": [
    "## Dummify"
   ]
  },
  {
   "cell_type": "code",
   "execution_count": 9,
   "metadata": {
    "collapsed": false
   },
   "outputs": [
    {
     "data": {
      "text/plain": [
       "Index([u'TYPE', u'Property_Type', u'Source', u'neighborhood_from_zip',\n",
       "       u'school', u'housing'],\n",
       "      dtype='object')"
      ]
     },
     "execution_count": 9,
     "metadata": {},
     "output_type": "execute_result"
    }
   ],
   "source": [
    "cols_to_dummify = df.dtypes[df.dtypes == object].index\n",
    "cols_to_dummify"
   ]
  },
  {
   "cell_type": "code",
   "execution_count": 10,
   "metadata": {
    "collapsed": false
   },
   "outputs": [
    {
     "name": "stdout",
     "output_type": "stream",
     "text": [
      "Zoning is baseline 0 6\n",
      "other is baseline 1 6\n",
      "Twitter is baseline 2 6\n",
      "West Roxbury is baseline 3 6\n",
      "8_6th_grade is baseline 4 6\n",
      "rent is baseline 5 6\n"
     ]
    }
   ],
   "source": [
    "df_dummified, baseline_cols = dummify_cols_and_baselines(df, cols_to_dummify)"
   ]
  },
  {
   "cell_type": "code",
   "execution_count": 11,
   "metadata": {
    "collapsed": false
   },
   "outputs": [
    {
     "data": {
      "text/plain": [
       "(508653, 253)"
      ]
     },
     "execution_count": 11,
     "metadata": {},
     "output_type": "execute_result"
    }
   ],
   "source": [
    "df_dummified.shape"
   ]
  },
  {
   "cell_type": "markdown",
   "metadata": {},
   "source": [
    "## Removing columns as per L1 results"
   ]
  },
  {
   "cell_type": "code",
   "execution_count": 12,
   "metadata": {
    "collapsed": true
   },
   "outputs": [],
   "source": [
    "col_blacklist = ['Property_Type_Address',\n",
    " 'Property_Type_Intersection',\n",
    " 'Source_Constituent Call',\n",
    " 'SubmittedPhoto',\n",
    " 'TYPE_ADA',\n",
    " 'TYPE_Alert Boston',\n",
    " 'TYPE_Animal Noise Disturbances',\n",
    " 'TYPE_Automotive Noise Disturbance',\n",
    " 'TYPE_BWSC General Request',\n",
    " 'TYPE_BWSC Pothole',\n",
    " 'TYPE_Big Buildings Online Request',\n",
    " 'TYPE_Billing Complaint',\n",
    " 'TYPE_Bridge Maintenance',\n",
    " 'TYPE_CE Collection',\n",
    " 'TYPE_Cemetery Maintenance Request',\n",
    " 'TYPE_City/State Snow Issues',\n",
    " 'TYPE_Contractor Complaints',\n",
    " 'TYPE_Corporate or Community Group Service Day Clean Up',\n",
    " 'TYPE_Downed Wire',\n",
    " 'TYPE_Dumpster & Loading Noise Disturbances',\n",
    " 'TYPE_Fire Department Request',\n",
    " 'TYPE_Fire Hydrant',\n",
    " 'TYPE_Fire in Food Establishment',\n",
    " 'TYPE_Follow-Up',\n",
    " 'TYPE_Food Alert - Confirmed',\n",
    " 'TYPE_Food Alert - Unconfirmed',\n",
    " 'TYPE_General Traffic Engineering Request',\n",
    " 'TYPE_Ground Maintenance',\n",
    " 'TYPE_HP Sign Application New',\n",
    " 'TYPE_HP Sign Application Renewal',\n",
    " 'TYPE_Heat/Fuel Assistance',\n",
    " 'TYPE_Idea Collection',\n",
    " 'TYPE_Knockdown Replacement',\n",
    " 'TYPE_Loud Parties/Music/People',\n",
    " 'TYPE_Mechanical',\n",
    " 'TYPE_Misc. Snow Complaint',\n",
    " 'TYPE_Mosquitoes (West Nile)',\n",
    " 'TYPE_Municipal Parking Lot Complaints',\n",
    " 'TYPE_New Tree Warrantee Inspection',\n",
    " 'TYPE_News Boxes',\n",
    " 'TYPE_No Utilities - Food Establishment - Electricity',\n",
    " 'TYPE_No Utilities - Food Establishment - Flood',\n",
    " 'TYPE_No Utilities - Food Establishment - Sewer',\n",
    " 'TYPE_No Utilities - Food Establishment - Water',\n",
    " 'TYPE_No Utilities Residential - Electricity',\n",
    " 'TYPE_No Utilities Residential - Gas',\n",
    " 'TYPE_No Utilities Residential - Water',\n",
    " 'TYPE_OCR Metrolist',\n",
    " 'TYPE_Occupying W/Out A Valid CO/CI',\n",
    " 'TYPE_One Boston Day',\n",
    " 'TYPE_PWD Graffiti',\n",
    " 'TYPE_Parking Meter Repairs',\n",
    " 'TYPE_Parks General Request',\n",
    " 'TYPE_Pavement Marking Inspection',\n",
    " 'TYPE_Phone Bank Service Inquiry',\n",
    " 'TYPE_Planting',\n",
    " 'TYPE_Poor Ventilation',\n",
    " 'TYPE_Private Parking Lot Complaints',\n",
    " 'TYPE_Public Events Noise Disturbances',\n",
    " 'TYPE_Rat Bite',\n",
    " 'TYPE_Rental Unit Delivery Conditions',\n",
    " 'TYPE_Request for Litter Basket Installation',\n",
    " 'TYPE_Roadway Flooding',\n",
    " 'TYPE_Rooftop & Mechanical Disturbances',\n",
    " 'TYPE_Schedule a Bulk Item Pickup SS',\n",
    " 'TYPE_Senior Shoveling',\n",
    " 'TYPE_Sewage/Septic Back-Up',\n",
    " 'TYPE_Sidewalk Cover / Manhole',\n",
    " 'TYPE_Sidewalk Repair (Make Safe)',\n",
    " 'TYPE_Sign Shop WO',\n",
    " 'TYPE_Snow Removal',\n",
    " 'TYPE_Snow/Ice Control',\n",
    " 'TYPE_Student Overcrowding',\n",
    " 'TYPE_Transfer Not Completed',\n",
    " 'TYPE_Undefined Noise Disturbance',\n",
    " 'TYPE_Unit Pricing Wrong/Missing',\n",
    " 'TYPE_Unsanitary Conditions - Employees',\n",
    " 'TYPE_Unsanitary Conditions - Establishment',\n",
    " 'TYPE_Unsanitary Conditions - Food',\n",
    " 'TYPE_Utility Casting Repair',\n",
    " 'TYPE_Valet Parking Problems',\n",
    " 'TYPE_Walk-In Service Inquiry',\n",
    " 'TYPE_Watermain Break',\n",
    " 'TYPE_Work Hours-Loud Noise Complaints',\n",
    " 'TYPE_Yardwaste Asian Longhorned Beetle Affected Area',\n",
    " 'bedroom',\n",
    " 'bedroom_std_dev',\n",
    " 'earned_income_per_capita',\n",
    " 'housing_own',\n",
    " 'housing_std_dev',\n",
    " 'income',\n",
    " 'income_std_dev',\n",
    " 'is_description',\n",
    " 'neighborhood_from_zip_Allston / Brighton',\n",
    " 'neighborhood_from_zip_Back Bay',\n",
    " 'neighborhood_from_zip_Beacon Hill',\n",
    " 'neighborhood_from_zip_Brookline',\n",
    " 'neighborhood_from_zip_Charlestown',\n",
    " 'neighborhood_from_zip_Chestnut Hill',\n",
    " 'neighborhood_from_zip_Dorchester',\n",
    " 'neighborhood_from_zip_Downtown / Financial District',\n",
    " 'neighborhood_from_zip_Fenway / Kenmore / Audubon Circle / Longwood',\n",
    " 'neighborhood_from_zip_Hyde Park',\n",
    " 'neighborhood_from_zip_Jamaica Plain',\n",
    " 'neighborhood_from_zip_Mattapan',\n",
    " 'neighborhood_from_zip_Mission Hill',\n",
    " 'neighborhood_from_zip_Roslindale',\n",
    " 'neighborhood_from_zip_Roxbury',\n",
    " 'neighborhood_from_zip_South Boston',\n",
    " 'neighborhood_from_zip_South Boston / South Boston Waterfront',\n",
    " 'neighborhood_from_zip_South End',\n",
    " 'neighborhood_from_zip_West End',\n",
    " 'poverty_pop_below_poverty_level',\n",
    " 'poverty_pop_w_food_stamps',\n",
    " 'poverty_pop_w_public_assistance',\n",
    " 'poverty_pop_w_ssi',\n",
    " 'queue_wk',\n",
    " 'race_asian',\n",
    " 'race_black',\n",
    " 'race_hispanic',\n",
    " 'race_other',\n",
    " 'race_white',\n",
    " 'rent',\n",
    " 'rent_std_dev',\n",
    " 'school_0_none',\n",
    " 'school_11_9th_grade',\n",
    " 'school_13_11th_grade',\n",
    " 'school_14_12th_grade_no_diploma',\n",
    " 'school_15_hs_diploma',\n",
    " 'school_18_some_college_no_degree',\n",
    " 'school_19_associates',\n",
    " 'school_20_bachelors',\n",
    " 'school_21_masters',\n",
    " 'school_22_professional_school',\n",
    " 'school_std_dev',\n",
    " 'value',\n",
    " 'value_std_dev']"
   ]
  },
  {
   "cell_type": "code",
   "execution_count": 13,
   "metadata": {
    "collapsed": true
   },
   "outputs": [],
   "source": [
    "df_dummified_and_filtered = df_dummified.drop(col_blacklist, axis=1)"
   ]
  },
  {
   "cell_type": "markdown",
   "metadata": {},
   "source": [
    "## Running a model"
   ]
  },
  {
   "cell_type": "code",
   "execution_count": 14,
   "metadata": {
    "collapsed": true
   },
   "outputs": [],
   "source": [
    "import statsmodels.api as sm\n",
    "import statsmodels.formula.api as smf"
   ]
  },
  {
   "cell_type": "code",
   "execution_count": 17,
   "metadata": {
    "collapsed": false
   },
   "outputs": [],
   "source": [
    "X_train, X_test, y_train, y_test = train_test_split(\n",
    "    df_dummified_and_filtered.drop('COMPLETION_HOURS_LOG_10', axis=1), \n",
    "    df_dummified_and_filtered.COMPLETION_HOURS_LOG_10, \n",
    "    test_size=0.2, \n",
    "    random_state=300\n",
    ")"
   ]
  },
  {
   "cell_type": "code",
   "execution_count": 18,
   "metadata": {
    "collapsed": false
   },
   "outputs": [],
   "source": [
    "df_dummified_and_filtered.columns = [col.translate(None, string.punctuation).replace(' ', '') if col != 'COMPLETION_HOURS_LOG_10' else col for col in df_dummified_and_filtered.columns]"
   ]
  },
  {
   "cell_type": "code",
   "execution_count": 19,
   "metadata": {
    "collapsed": false
   },
   "outputs": [
    {
     "ename": "NameError",
     "evalue": "name 'TYPEContractorsComplaint' is not defined",
     "output_type": "error",
     "traceback": [
      "\u001b[0;31m---------------------------------------------------------------------------\u001b[0m",
      "\u001b[0;31mNameError\u001b[0m                                 Traceback (most recent call last)",
      "\u001b[0;32m<ipython-input-19-cbda62fd944d>\u001b[0m in \u001b[0;36m<module>\u001b[0;34m()\u001b[0m\n\u001b[1;32m      3\u001b[0m est = smf.ols(\n\u001b[1;32m      4\u001b[0m     \u001b[0;34m'COMPLETION_HOURS_LOG_10 ~ {}'\u001b[0m\u001b[0;34m.\u001b[0m\u001b[0mformat\u001b[0m\u001b[0;34m(\u001b[0m\u001b[0mcol_list\u001b[0m\u001b[0;34m)\u001b[0m\u001b[0;34m,\u001b[0m\u001b[0;34m\u001b[0m\u001b[0m\n\u001b[0;32m----> 5\u001b[0;31m     pd.concat([X_train, y_train], axis=1)).fit()\n\u001b[0m\u001b[1;32m      6\u001b[0m \u001b[0mest\u001b[0m\u001b[0;34m.\u001b[0m\u001b[0msummary\u001b[0m\u001b[0;34m(\u001b[0m\u001b[0;34m)\u001b[0m\u001b[0;34m\u001b[0m\u001b[0m\n",
      "\u001b[0;32m/Users/datascientist/anaconda2/lib/python2.7/site-packages/statsmodels/base/model.pyc\u001b[0m in \u001b[0;36mfrom_formula\u001b[0;34m(cls, formula, data, subset, *args, **kwargs)\u001b[0m\n\u001b[1;32m    145\u001b[0m         (endog, exog), missing_idx = handle_formula_data(data, None, formula,\n\u001b[1;32m    146\u001b[0m                                                          \u001b[0mdepth\u001b[0m\u001b[0;34m=\u001b[0m\u001b[0meval_env\u001b[0m\u001b[0;34m,\u001b[0m\u001b[0;34m\u001b[0m\u001b[0m\n\u001b[0;32m--> 147\u001b[0;31m                                                          missing=missing)\n\u001b[0m\u001b[1;32m    148\u001b[0m         kwargs.update({'missing_idx': missing_idx,\n\u001b[1;32m    149\u001b[0m                        'missing': missing})\n",
      "\u001b[0;32m/Users/datascientist/anaconda2/lib/python2.7/site-packages/statsmodels/formula/formulatools.pyc\u001b[0m in \u001b[0;36mhandle_formula_data\u001b[0;34m(Y, X, formula, depth, missing)\u001b[0m\n\u001b[1;32m     63\u001b[0m         \u001b[0;32mif\u001b[0m \u001b[0mdata_util\u001b[0m\u001b[0;34m.\u001b[0m\u001b[0m_is_using_pandas\u001b[0m\u001b[0;34m(\u001b[0m\u001b[0mY\u001b[0m\u001b[0;34m,\u001b[0m \u001b[0mNone\u001b[0m\u001b[0;34m)\u001b[0m\u001b[0;34m:\u001b[0m\u001b[0;34m\u001b[0m\u001b[0m\n\u001b[1;32m     64\u001b[0m             result = dmatrices(formula, Y, depth, return_type='dataframe',\n\u001b[0;32m---> 65\u001b[0;31m                                NA_action=na_action)\n\u001b[0m\u001b[1;32m     66\u001b[0m         \u001b[0;32melse\u001b[0m\u001b[0;34m:\u001b[0m\u001b[0;34m\u001b[0m\u001b[0m\n\u001b[1;32m     67\u001b[0m             result = dmatrices(formula, Y, depth, return_type='dataframe',\n",
      "\u001b[0;32m/Users/datascientist/anaconda2/lib/python2.7/site-packages/patsy/highlevel.pyc\u001b[0m in \u001b[0;36mdmatrices\u001b[0;34m(formula_like, data, eval_env, NA_action, return_type)\u001b[0m\n\u001b[1;32m    295\u001b[0m     \u001b[0meval_env\u001b[0m \u001b[0;34m=\u001b[0m \u001b[0mEvalEnvironment\u001b[0m\u001b[0;34m.\u001b[0m\u001b[0mcapture\u001b[0m\u001b[0;34m(\u001b[0m\u001b[0meval_env\u001b[0m\u001b[0;34m,\u001b[0m \u001b[0mreference\u001b[0m\u001b[0;34m=\u001b[0m\u001b[0;36m1\u001b[0m\u001b[0;34m)\u001b[0m\u001b[0;34m\u001b[0m\u001b[0m\n\u001b[1;32m    296\u001b[0m     (lhs, rhs) = _do_highlevel_design(formula_like, data, eval_env,\n\u001b[0;32m--> 297\u001b[0;31m                                       NA_action, return_type)\n\u001b[0m\u001b[1;32m    298\u001b[0m     \u001b[0;32mif\u001b[0m \u001b[0mlhs\u001b[0m\u001b[0;34m.\u001b[0m\u001b[0mshape\u001b[0m\u001b[0;34m[\u001b[0m\u001b[0;36m1\u001b[0m\u001b[0;34m]\u001b[0m \u001b[0;34m==\u001b[0m \u001b[0;36m0\u001b[0m\u001b[0;34m:\u001b[0m\u001b[0;34m\u001b[0m\u001b[0m\n\u001b[1;32m    299\u001b[0m         \u001b[0;32mraise\u001b[0m \u001b[0mPatsyError\u001b[0m\u001b[0;34m(\u001b[0m\u001b[0;34m\"model is missing required outcome variables\"\u001b[0m\u001b[0;34m)\u001b[0m\u001b[0;34m\u001b[0m\u001b[0m\n",
      "\u001b[0;32m/Users/datascientist/anaconda2/lib/python2.7/site-packages/patsy/highlevel.pyc\u001b[0m in \u001b[0;36m_do_highlevel_design\u001b[0;34m(formula_like, data, eval_env, NA_action, return_type)\u001b[0m\n\u001b[1;32m    150\u001b[0m         \u001b[0;32mreturn\u001b[0m \u001b[0miter\u001b[0m\u001b[0;34m(\u001b[0m\u001b[0;34m[\u001b[0m\u001b[0mdata\u001b[0m\u001b[0;34m]\u001b[0m\u001b[0;34m)\u001b[0m\u001b[0;34m\u001b[0m\u001b[0m\n\u001b[1;32m    151\u001b[0m     design_infos = _try_incr_builders(formula_like, data_iter_maker, eval_env,\n\u001b[0;32m--> 152\u001b[0;31m                                       NA_action)\n\u001b[0m\u001b[1;32m    153\u001b[0m     \u001b[0;32mif\u001b[0m \u001b[0mdesign_infos\u001b[0m \u001b[0;32mis\u001b[0m \u001b[0;32mnot\u001b[0m \u001b[0mNone\u001b[0m\u001b[0;34m:\u001b[0m\u001b[0;34m\u001b[0m\u001b[0m\n\u001b[1;32m    154\u001b[0m         return build_design_matrices(design_infos, data,\n",
      "\u001b[0;32m/Users/datascientist/anaconda2/lib/python2.7/site-packages/patsy/highlevel.pyc\u001b[0m in \u001b[0;36m_try_incr_builders\u001b[0;34m(formula_like, data_iter_maker, eval_env, NA_action)\u001b[0m\n\u001b[1;32m     55\u001b[0m                                       \u001b[0mdata_iter_maker\u001b[0m\u001b[0;34m,\u001b[0m\u001b[0;34m\u001b[0m\u001b[0m\n\u001b[1;32m     56\u001b[0m                                       \u001b[0meval_env\u001b[0m\u001b[0;34m,\u001b[0m\u001b[0;34m\u001b[0m\u001b[0m\n\u001b[0;32m---> 57\u001b[0;31m                                       NA_action)\n\u001b[0m\u001b[1;32m     58\u001b[0m     \u001b[0;32melse\u001b[0m\u001b[0;34m:\u001b[0m\u001b[0;34m\u001b[0m\u001b[0m\n\u001b[1;32m     59\u001b[0m         \u001b[0;32mreturn\u001b[0m \u001b[0mNone\u001b[0m\u001b[0;34m\u001b[0m\u001b[0m\n",
      "\u001b[0;32m/Users/datascientist/anaconda2/lib/python2.7/site-packages/patsy/build.pyc\u001b[0m in \u001b[0;36mdesign_matrix_builders\u001b[0;34m(termlists, data_iter_maker, eval_env, NA_action)\u001b[0m\n\u001b[1;32m    694\u001b[0m                                                    \u001b[0mfactor_states\u001b[0m\u001b[0;34m,\u001b[0m\u001b[0;34m\u001b[0m\u001b[0m\n\u001b[1;32m    695\u001b[0m                                                    \u001b[0mdata_iter_maker\u001b[0m\u001b[0;34m,\u001b[0m\u001b[0;34m\u001b[0m\u001b[0m\n\u001b[0;32m--> 696\u001b[0;31m                                                    NA_action)\n\u001b[0m\u001b[1;32m    697\u001b[0m     \u001b[0;31m# Now we need the factor infos, which encapsulate the knowledge of\u001b[0m\u001b[0;34m\u001b[0m\u001b[0;34m\u001b[0m\u001b[0m\n\u001b[1;32m    698\u001b[0m     \u001b[0;31m# how to turn any given factor into a chunk of data:\u001b[0m\u001b[0;34m\u001b[0m\u001b[0;34m\u001b[0m\u001b[0m\n",
      "\u001b[0;32m/Users/datascientist/anaconda2/lib/python2.7/site-packages/patsy/build.pyc\u001b[0m in \u001b[0;36m_examine_factor_types\u001b[0;34m(factors, factor_states, data_iter_maker, NA_action)\u001b[0m\n\u001b[1;32m    441\u001b[0m     \u001b[0;32mfor\u001b[0m \u001b[0mdata\u001b[0m \u001b[0;32min\u001b[0m \u001b[0mdata_iter_maker\u001b[0m\u001b[0;34m(\u001b[0m\u001b[0;34m)\u001b[0m\u001b[0;34m:\u001b[0m\u001b[0;34m\u001b[0m\u001b[0m\n\u001b[1;32m    442\u001b[0m         \u001b[0;32mfor\u001b[0m \u001b[0mfactor\u001b[0m \u001b[0;32min\u001b[0m \u001b[0mlist\u001b[0m\u001b[0;34m(\u001b[0m\u001b[0mexamine_needed\u001b[0m\u001b[0;34m)\u001b[0m\u001b[0;34m:\u001b[0m\u001b[0;34m\u001b[0m\u001b[0m\n\u001b[0;32m--> 443\u001b[0;31m             \u001b[0mvalue\u001b[0m \u001b[0;34m=\u001b[0m \u001b[0mfactor\u001b[0m\u001b[0;34m.\u001b[0m\u001b[0meval\u001b[0m\u001b[0;34m(\u001b[0m\u001b[0mfactor_states\u001b[0m\u001b[0;34m[\u001b[0m\u001b[0mfactor\u001b[0m\u001b[0;34m]\u001b[0m\u001b[0;34m,\u001b[0m \u001b[0mdata\u001b[0m\u001b[0;34m)\u001b[0m\u001b[0;34m\u001b[0m\u001b[0m\n\u001b[0m\u001b[1;32m    444\u001b[0m             \u001b[0;32mif\u001b[0m \u001b[0mfactor\u001b[0m \u001b[0;32min\u001b[0m \u001b[0mcat_sniffers\u001b[0m \u001b[0;32mor\u001b[0m \u001b[0mguess_categorical\u001b[0m\u001b[0;34m(\u001b[0m\u001b[0mvalue\u001b[0m\u001b[0;34m)\u001b[0m\u001b[0;34m:\u001b[0m\u001b[0;34m\u001b[0m\u001b[0m\n\u001b[1;32m    445\u001b[0m                 \u001b[0;32mif\u001b[0m \u001b[0mfactor\u001b[0m \u001b[0;32mnot\u001b[0m \u001b[0;32min\u001b[0m \u001b[0mcat_sniffers\u001b[0m\u001b[0;34m:\u001b[0m\u001b[0;34m\u001b[0m\u001b[0m\n",
      "\u001b[0;32m/Users/datascientist/anaconda2/lib/python2.7/site-packages/patsy/eval.pyc\u001b[0m in \u001b[0;36meval\u001b[0;34m(self, memorize_state, data)\u001b[0m\n\u001b[1;32m    564\u001b[0m         return self._eval(memorize_state[\"eval_code\"],\n\u001b[1;32m    565\u001b[0m                           \u001b[0mmemorize_state\u001b[0m\u001b[0;34m,\u001b[0m\u001b[0;34m\u001b[0m\u001b[0m\n\u001b[0;32m--> 566\u001b[0;31m                           data)\n\u001b[0m\u001b[1;32m    567\u001b[0m \u001b[0;34m\u001b[0m\u001b[0m\n\u001b[1;32m    568\u001b[0m     \u001b[0m__getstate__\u001b[0m \u001b[0;34m=\u001b[0m \u001b[0mno_pickling\u001b[0m\u001b[0;34m\u001b[0m\u001b[0m\n",
      "\u001b[0;32m/Users/datascientist/anaconda2/lib/python2.7/site-packages/patsy/eval.pyc\u001b[0m in \u001b[0;36m_eval\u001b[0;34m(self, code, memorize_state, data)\u001b[0m\n\u001b[1;32m    549\u001b[0m                                  \u001b[0mmemorize_state\u001b[0m\u001b[0;34m[\u001b[0m\u001b[0;34m\"eval_env\"\u001b[0m\u001b[0;34m]\u001b[0m\u001b[0;34m.\u001b[0m\u001b[0meval\u001b[0m\u001b[0;34m,\u001b[0m\u001b[0;34m\u001b[0m\u001b[0m\n\u001b[1;32m    550\u001b[0m                                  \u001b[0mcode\u001b[0m\u001b[0;34m,\u001b[0m\u001b[0;34m\u001b[0m\u001b[0m\n\u001b[0;32m--> 551\u001b[0;31m                                  inner_namespace=inner_namespace)\n\u001b[0m\u001b[1;32m    552\u001b[0m \u001b[0;34m\u001b[0m\u001b[0m\n\u001b[1;32m    553\u001b[0m     \u001b[0;32mdef\u001b[0m \u001b[0mmemorize_chunk\u001b[0m\u001b[0;34m(\u001b[0m\u001b[0mself\u001b[0m\u001b[0;34m,\u001b[0m \u001b[0mstate\u001b[0m\u001b[0;34m,\u001b[0m \u001b[0mwhich_pass\u001b[0m\u001b[0;34m,\u001b[0m \u001b[0mdata\u001b[0m\u001b[0;34m)\u001b[0m\u001b[0;34m:\u001b[0m\u001b[0;34m\u001b[0m\u001b[0m\n",
      "\u001b[0;32m/Users/datascientist/anaconda2/lib/python2.7/site-packages/patsy/compat.pyc\u001b[0m in \u001b[0;36mcall_and_wrap_exc\u001b[0;34m(msg, origin, f, *args, **kwargs)\u001b[0m\n\u001b[1;32m    115\u001b[0m \u001b[0;32mdef\u001b[0m \u001b[0mcall_and_wrap_exc\u001b[0m\u001b[0;34m(\u001b[0m\u001b[0mmsg\u001b[0m\u001b[0;34m,\u001b[0m \u001b[0morigin\u001b[0m\u001b[0;34m,\u001b[0m \u001b[0mf\u001b[0m\u001b[0;34m,\u001b[0m \u001b[0;34m*\u001b[0m\u001b[0margs\u001b[0m\u001b[0;34m,\u001b[0m \u001b[0;34m**\u001b[0m\u001b[0mkwargs\u001b[0m\u001b[0;34m)\u001b[0m\u001b[0;34m:\u001b[0m\u001b[0;34m\u001b[0m\u001b[0m\n\u001b[1;32m    116\u001b[0m     \u001b[0;32mtry\u001b[0m\u001b[0;34m:\u001b[0m\u001b[0;34m\u001b[0m\u001b[0m\n\u001b[0;32m--> 117\u001b[0;31m         \u001b[0;32mreturn\u001b[0m \u001b[0mf\u001b[0m\u001b[0;34m(\u001b[0m\u001b[0;34m*\u001b[0m\u001b[0margs\u001b[0m\u001b[0;34m,\u001b[0m \u001b[0;34m**\u001b[0m\u001b[0mkwargs\u001b[0m\u001b[0;34m)\u001b[0m\u001b[0;34m\u001b[0m\u001b[0m\n\u001b[0m\u001b[1;32m    118\u001b[0m     \u001b[0;32mexcept\u001b[0m \u001b[0mException\u001b[0m \u001b[0;32mas\u001b[0m \u001b[0me\u001b[0m\u001b[0;34m:\u001b[0m\u001b[0;34m\u001b[0m\u001b[0m\n\u001b[1;32m    119\u001b[0m         \u001b[0;32mif\u001b[0m \u001b[0msys\u001b[0m\u001b[0;34m.\u001b[0m\u001b[0mversion_info\u001b[0m\u001b[0;34m[\u001b[0m\u001b[0;36m0\u001b[0m\u001b[0;34m]\u001b[0m \u001b[0;34m>=\u001b[0m \u001b[0;36m3\u001b[0m\u001b[0;34m:\u001b[0m\u001b[0;34m\u001b[0m\u001b[0m\n",
      "\u001b[0;32m/Users/datascientist/anaconda2/lib/python2.7/site-packages/patsy/eval.pyc\u001b[0m in \u001b[0;36meval\u001b[0;34m(self, expr, source_name, inner_namespace)\u001b[0m\n\u001b[1;32m    164\u001b[0m         \u001b[0mcode\u001b[0m \u001b[0;34m=\u001b[0m \u001b[0mcompile\u001b[0m\u001b[0;34m(\u001b[0m\u001b[0mexpr\u001b[0m\u001b[0;34m,\u001b[0m \u001b[0msource_name\u001b[0m\u001b[0;34m,\u001b[0m \u001b[0;34m\"eval\"\u001b[0m\u001b[0;34m,\u001b[0m \u001b[0mself\u001b[0m\u001b[0;34m.\u001b[0m\u001b[0mflags\u001b[0m\u001b[0;34m,\u001b[0m \u001b[0mFalse\u001b[0m\u001b[0;34m)\u001b[0m\u001b[0;34m\u001b[0m\u001b[0m\n\u001b[1;32m    165\u001b[0m         return eval(code, {}, VarLookupDict([inner_namespace]\n\u001b[0;32m--> 166\u001b[0;31m                                             + self._namespaces))\n\u001b[0m\u001b[1;32m    167\u001b[0m \u001b[0;34m\u001b[0m\u001b[0m\n\u001b[1;32m    168\u001b[0m     \u001b[0;34m@\u001b[0m\u001b[0mclassmethod\u001b[0m\u001b[0;34m\u001b[0m\u001b[0m\n",
      "\u001b[0;32m<string>\u001b[0m in \u001b[0;36m<module>\u001b[0;34m()\u001b[0m\n",
      "\u001b[0;31mNameError\u001b[0m: name 'TYPEContractorsComplaint' is not defined"
     ]
    }
   ],
   "source": [
    "col_list = ' + '.join(df_dummified_and_filtered.drop('COMPLETION_HOURS_LOG_10', axis=1))\n",
    "\n",
    "est = smf.ols(\n",
    "    'COMPLETION_HOURS_LOG_10 ~ {}'.format(col_list), \n",
    "    pd.concat([X_train, y_train], axis=1)).fit()\n",
    "est.summary()"
   ]
  },
  {
   "cell_type": "markdown",
   "metadata": {},
   "source": [
    "### Getting adjusted $R^2$ on test set"
   ]
  },
  {
   "cell_type": "code",
   "execution_count": null,
   "metadata": {
    "collapsed": true
   },
   "outputs": [],
   "source": [
    "est.save('../data/model_completion_time.pkl')"
   ]
  },
  {
   "cell_type": "code",
   "execution_count": null,
   "metadata": {
    "collapsed": true
   },
   "outputs": [],
   "source": [
    "model = sm.load('../data/model_completion_time.pkl')"
   ]
  },
  {
   "cell_type": "code",
   "execution_count": null,
   "metadata": {
    "collapsed": false
   },
   "outputs": [],
   "source": [
    "model.predict(X_test.head(1))"
   ]
  },
  {
   "cell_type": "code",
   "execution_count": null,
   "metadata": {
    "collapsed": false
   },
   "outputs": [],
   "source": [
    "est.predict(X_test.head(1))"
   ]
  },
  {
   "cell_type": "code",
   "execution_count": null,
   "metadata": {
    "collapsed": false
   },
   "outputs": [],
   "source": [
    "y_pred = est.predict(X_test)"
   ]
  },
  {
   "cell_type": "code",
   "execution_count": null,
   "metadata": {
    "collapsed": false
   },
   "outputs": [],
   "source": [
    "adjusted_r2(y_test, y_pred, num_features=X_test.shape[1])"
   ]
  },
  {
   "cell_type": "code",
   "execution_count": null,
   "metadata": {
    "collapsed": true
   },
   "outputs": [],
   "source": [
    "mean_squared_error(y_test, y_pred)**0.5"
   ]
  },
  {
   "cell_type": "markdown",
   "metadata": {},
   "source": [
    "## Interpreting model\n",
    "\n",
    "Which features are most associated with completion time?"
   ]
  },
  {
   "cell_type": "code",
   "execution_count": 194,
   "metadata": {
    "collapsed": false
   },
   "outputs": [
    {
     "data": {
      "text/html": [
       "<div>\n",
       "<table border=\"1\" class=\"dataframe\">\n",
       "  <thead>\n",
       "    <tr style=\"text-align: right;\">\n",
       "      <th></th>\n",
       "      <th>coef_name</th>\n",
       "      <th>coef</th>\n",
       "      <th>std err</th>\n",
       "      <th>t</th>\n",
       "      <th>P&gt;|t|</th>\n",
       "      <th>[95.0% Conf. Int.]</th>\n",
       "      <th>coef_abs</th>\n",
       "    </tr>\n",
       "  </thead>\n",
       "  <tbody>\n",
       "    <tr>\n",
       "      <th>0</th>\n",
       "      <td>Intercept</td>\n",
       "      <td>1.927300</td>\n",
       "      <td>4.000000e-03</td>\n",
       "      <td>474.854</td>\n",
       "      <td>0.0</td>\n",
       "      <td>1.919     1.935</td>\n",
       "      <td>1.927300</td>\n",
       "    </tr>\n",
       "    <tr>\n",
       "      <th>1</th>\n",
       "      <td>queuewkopen</td>\n",
       "      <td>0.000065</td>\n",
       "      <td>7.770000e-07</td>\n",
       "      <td>83.586</td>\n",
       "      <td>0.0</td>\n",
       "      <td>6.34e-05  6.65e-05</td>\n",
       "      <td>0.000065</td>\n",
       "    </tr>\n",
       "    <tr>\n",
       "      <th>2</th>\n",
       "      <td>TYPEAbandonedBicycle</td>\n",
       "      <td>0.529900</td>\n",
       "      <td>2.500000e-02</td>\n",
       "      <td>20.933</td>\n",
       "      <td>0.0</td>\n",
       "      <td>0.480     0.580</td>\n",
       "      <td>0.529900</td>\n",
       "    </tr>\n",
       "    <tr>\n",
       "      <th>3</th>\n",
       "      <td>TYPEAbandonedBuilding</td>\n",
       "      <td>0.751700</td>\n",
       "      <td>3.800000e-02</td>\n",
       "      <td>19.727</td>\n",
       "      <td>0.0</td>\n",
       "      <td>0.677     0.826</td>\n",
       "      <td>0.751700</td>\n",
       "    </tr>\n",
       "    <tr>\n",
       "      <th>4</th>\n",
       "      <td>TYPEAbandonedVehicles</td>\n",
       "      <td>0.494700</td>\n",
       "      <td>1.000000e-02</td>\n",
       "      <td>49.882</td>\n",
       "      <td>0.0</td>\n",
       "      <td>0.475     0.514</td>\n",
       "      <td>0.494700</td>\n",
       "    </tr>\n",
       "  </tbody>\n",
       "</table>\n",
       "</div>"
      ],
      "text/plain": [
       "                                       coef_name      coef       std err  \\\n",
       "0  Intercept                                      1.927300  4.000000e-03   \n",
       "1  queuewkopen                                    0.000065  7.770000e-07   \n",
       "2  TYPEAbandonedBicycle                           0.529900  2.500000e-02   \n",
       "3  TYPEAbandonedBuilding                          0.751700  3.800000e-02   \n",
       "4  TYPEAbandonedVehicles                          0.494700  1.000000e-02   \n",
       "\n",
       "         t  P>|t|   [95.0% Conf. Int.]  coef_abs  \n",
       "0  474.854    0.0      1.919     1.935  1.927300  \n",
       "1   83.586    0.0   6.34e-05  6.65e-05  0.000065  \n",
       "2   20.933    0.0      0.480     0.580  0.529900  \n",
       "3   19.727    0.0      0.677     0.826  0.751700  \n",
       "4   49.882    0.0      0.475     0.514  0.494700  "
      ]
     },
     "execution_count": 194,
     "metadata": {},
     "output_type": "execute_result"
    }
   ],
   "source": [
    "df = pd.read_csv(StringIO(est.summary().tables[1].as_csv()), index_col=0).reset_index()\n",
    "df.columns = ['coef_name'] + [i.rstrip().lstrip() for i in df.columns][1:]\n",
    "df['coef_abs'] = pd.np.abs(df.coef)\n",
    "df.head()"
   ]
  },
  {
   "cell_type": "code",
   "execution_count": 201,
   "metadata": {
    "collapsed": false
   },
   "outputs": [
    {
     "data": {
      "text/html": [
       "<div>\n",
       "<table border=\"1\" class=\"dataframe\">\n",
       "  <thead>\n",
       "    <tr style=\"text-align: right;\">\n",
       "      <th></th>\n",
       "      <th>coef_name</th>\n",
       "      <th>coef</th>\n",
       "      <th>std err</th>\n",
       "      <th>t</th>\n",
       "      <th>P&gt;|t|</th>\n",
       "      <th>[95.0% Conf. Int.]</th>\n",
       "      <th>coef_abs</th>\n",
       "    </tr>\n",
       "  </thead>\n",
       "  <tbody>\n",
       "    <tr>\n",
       "      <th>15</th>\n",
       "      <td>TYPECheckin</td>\n",
       "      <td>-4.0738</td>\n",
       "      <td>0.149</td>\n",
       "      <td>-27.340</td>\n",
       "      <td>0.0</td>\n",
       "      <td>-4.366    -3.782</td>\n",
       "      <td>4.0738</td>\n",
       "    </tr>\n",
       "    <tr>\n",
       "      <th>56</th>\n",
       "      <td>TYPEOCRFrontDeskInteractions</td>\n",
       "      <td>-4.0665</td>\n",
       "      <td>0.013</td>\n",
       "      <td>-306.177</td>\n",
       "      <td>0.0</td>\n",
       "      <td>-4.093    -4.041</td>\n",
       "      <td>4.0665</td>\n",
       "    </tr>\n",
       "    <tr>\n",
       "      <th>83</th>\n",
       "      <td>TYPEScaleNotVisible</td>\n",
       "      <td>-3.7789</td>\n",
       "      <td>0.372</td>\n",
       "      <td>-10.147</td>\n",
       "      <td>0.0</td>\n",
       "      <td>-4.509    -3.049</td>\n",
       "      <td>3.7789</td>\n",
       "    </tr>\n",
       "    <tr>\n",
       "      <th>12</th>\n",
       "      <td>TYPECallLog</td>\n",
       "      <td>-3.5989</td>\n",
       "      <td>0.019</td>\n",
       "      <td>-190.263</td>\n",
       "      <td>0.0</td>\n",
       "      <td>-3.636    -3.562</td>\n",
       "      <td>3.5989</td>\n",
       "    </tr>\n",
       "    <tr>\n",
       "      <th>86</th>\n",
       "      <td>TYPEShortMeasureGas</td>\n",
       "      <td>-3.4432</td>\n",
       "      <td>0.072</td>\n",
       "      <td>-47.749</td>\n",
       "      <td>0.0</td>\n",
       "      <td>-3.585    -3.302</td>\n",
       "      <td>3.4432</td>\n",
       "    </tr>\n",
       "    <tr>\n",
       "      <th>109</th>\n",
       "      <td>TYPEWaterinGasHighPriority</td>\n",
       "      <td>-2.9661</td>\n",
       "      <td>0.225</td>\n",
       "      <td>-13.207</td>\n",
       "      <td>0.0</td>\n",
       "      <td>-3.406    -2.526</td>\n",
       "      <td>2.9661</td>\n",
       "    </tr>\n",
       "    <tr>\n",
       "      <th>70</th>\n",
       "      <td>TYPEProductShortMeasure</td>\n",
       "      <td>-2.8167</td>\n",
       "      <td>0.199</td>\n",
       "      <td>-14.148</td>\n",
       "      <td>0.0</td>\n",
       "      <td>-3.207    -2.427</td>\n",
       "      <td>2.8167</td>\n",
       "    </tr>\n",
       "    <tr>\n",
       "      <th>108</th>\n",
       "      <td>TYPEWCCallLog</td>\n",
       "      <td>-2.7293</td>\n",
       "      <td>0.263</td>\n",
       "      <td>-10.364</td>\n",
       "      <td>0.0</td>\n",
       "      <td>-3.245    -2.213</td>\n",
       "      <td>2.7293</td>\n",
       "    </tr>\n",
       "    <tr>\n",
       "      <th>84</th>\n",
       "      <td>TYPEScanningOvercharge</td>\n",
       "      <td>-2.5426</td>\n",
       "      <td>0.132</td>\n",
       "      <td>-19.304</td>\n",
       "      <td>0.0</td>\n",
       "      <td>-2.801    -2.284</td>\n",
       "      <td>2.5426</td>\n",
       "    </tr>\n",
       "    <tr>\n",
       "      <th>41</th>\n",
       "      <td>TYPEItemPriceMissing</td>\n",
       "      <td>-2.5034</td>\n",
       "      <td>0.134</td>\n",
       "      <td>-18.708</td>\n",
       "      <td>0.0</td>\n",
       "      <td>-2.766    -2.241</td>\n",
       "      <td>2.5034</td>\n",
       "    </tr>\n",
       "  </tbody>\n",
       "</table>\n",
       "</div>"
      ],
      "text/plain": [
       "                                         coef_name    coef  std err        t  \\\n",
       "15   TYPECheckin                                   -4.0738    0.149  -27.340   \n",
       "56   TYPEOCRFrontDeskInteractions                  -4.0665    0.013 -306.177   \n",
       "83   TYPEScaleNotVisible                           -3.7789    0.372  -10.147   \n",
       "12   TYPECallLog                                   -3.5989    0.019 -190.263   \n",
       "86   TYPEShortMeasureGas                           -3.4432    0.072  -47.749   \n",
       "109  TYPEWaterinGasHighPriority                    -2.9661    0.225  -13.207   \n",
       "70   TYPEProductShortMeasure                       -2.8167    0.199  -14.148   \n",
       "108  TYPEWCCallLog                                 -2.7293    0.263  -10.364   \n",
       "84   TYPEScanningOvercharge                        -2.5426    0.132  -19.304   \n",
       "41   TYPEItemPriceMissing                          -2.5034    0.134  -18.708   \n",
       "\n",
       "     P>|t|   [95.0% Conf. Int.]  coef_abs  \n",
       "15     0.0     -4.366    -3.782    4.0738  \n",
       "56     0.0     -4.093    -4.041    4.0665  \n",
       "83     0.0     -4.509    -3.049    3.7789  \n",
       "12     0.0     -3.636    -3.562    3.5989  \n",
       "86     0.0     -3.585    -3.302    3.4432  \n",
       "109    0.0     -3.406    -2.526    2.9661  \n",
       "70     0.0     -3.207    -2.427    2.8167  \n",
       "108    0.0     -3.245    -2.213    2.7293  \n",
       "84     0.0     -2.801    -2.284    2.5426  \n",
       "41     0.0     -2.766    -2.241    2.5034  "
      ]
     },
     "execution_count": 201,
     "metadata": {},
     "output_type": "execute_result"
    }
   ],
   "source": [
    "df.sort_values('coef_abs', ascending=False).head(10)"
   ]
  },
  {
   "cell_type": "markdown",
   "metadata": {},
   "source": [
    "The features most associated with completion time are the categories, which makes intuitive sense, since there are many categories and they don't overlap with each other.\n",
    "\n",
    "It is comforting that \"Water in Gas High Priority\" and \"Short Measure Gas\" are associated with faster completion time.\n",
    "\n",
    "What about the non-category features?"
   ]
  },
  {
   "cell_type": "code",
   "execution_count": 197,
   "metadata": {
    "collapsed": false
   },
   "outputs": [
    {
     "name": "stderr",
     "output_type": "stream",
     "text": [
      "/home/ec2-user/anaconda2/lib/python2.7/site-packages/ipykernel/__main__.py:1: UserWarning: Boolean Series key will be reindexed to match DataFrame index.\n",
      "  if __name__ == '__main__':\n"
     ]
    },
    {
     "data": {
      "text/html": [
       "<div>\n",
       "<table border=\"1\" class=\"dataframe\">\n",
       "  <thead>\n",
       "    <tr style=\"text-align: right;\">\n",
       "      <th></th>\n",
       "      <th>coef_name</th>\n",
       "      <th>coef</th>\n",
       "      <th>std err</th>\n",
       "      <th>t</th>\n",
       "      <th>P&gt;|t|</th>\n",
       "      <th>[95.0% Conf. Int.]</th>\n",
       "      <th>coef_abs</th>\n",
       "    </tr>\n",
       "  </thead>\n",
       "  <tbody>\n",
       "    <tr>\n",
       "      <th>0</th>\n",
       "      <td>Intercept</td>\n",
       "      <td>1.927300</td>\n",
       "      <td>4.000000e-03</td>\n",
       "      <td>474.854</td>\n",
       "      <td>0.0</td>\n",
       "      <td>1.919     1.935</td>\n",
       "      <td>1.927300</td>\n",
       "    </tr>\n",
       "    <tr>\n",
       "      <th>115</th>\n",
       "      <td>neighborhoodfromzipNorthEnd</td>\n",
       "      <td>-0.065800</td>\n",
       "      <td>9.000000e-03</td>\n",
       "      <td>-7.152</td>\n",
       "      <td>0.0</td>\n",
       "      <td>-0.084    -0.048</td>\n",
       "      <td>0.065800</td>\n",
       "    </tr>\n",
       "    <tr>\n",
       "      <th>112</th>\n",
       "      <td>SourceCitizensConnectApp</td>\n",
       "      <td>-0.062400</td>\n",
       "      <td>4.000000e-03</td>\n",
       "      <td>-16.005</td>\n",
       "      <td>0.0</td>\n",
       "      <td>-0.070    -0.055</td>\n",
       "      <td>0.062400</td>\n",
       "    </tr>\n",
       "    <tr>\n",
       "      <th>114</th>\n",
       "      <td>neighborhoodfromzipEastBoston</td>\n",
       "      <td>0.057300</td>\n",
       "      <td>5.000000e-03</td>\n",
       "      <td>10.663</td>\n",
       "      <td>0.0</td>\n",
       "      <td>0.047     0.068</td>\n",
       "      <td>0.057300</td>\n",
       "    </tr>\n",
       "    <tr>\n",
       "      <th>113</th>\n",
       "      <td>SourceSelfService</td>\n",
       "      <td>0.041500</td>\n",
       "      <td>4.000000e-03</td>\n",
       "      <td>11.510</td>\n",
       "      <td>0.0</td>\n",
       "      <td>0.034     0.049</td>\n",
       "      <td>0.041500</td>\n",
       "    </tr>\n",
       "    <tr>\n",
       "      <th>1</th>\n",
       "      <td>queuewkopen</td>\n",
       "      <td>0.000065</td>\n",
       "      <td>7.770000e-07</td>\n",
       "      <td>83.586</td>\n",
       "      <td>0.0</td>\n",
       "      <td>6.34e-05  6.65e-05</td>\n",
       "      <td>0.000065</td>\n",
       "    </tr>\n",
       "  </tbody>\n",
       "</table>\n",
       "</div>"
      ],
      "text/plain": [
       "                                         coef_name      coef       std err  \\\n",
       "0    Intercept                                      1.927300  4.000000e-03   \n",
       "115  neighborhoodfromzipNorthEnd                   -0.065800  9.000000e-03   \n",
       "112  SourceCitizensConnectApp                      -0.062400  4.000000e-03   \n",
       "114  neighborhoodfromzipEastBoston                  0.057300  5.000000e-03   \n",
       "113  SourceSelfService                              0.041500  4.000000e-03   \n",
       "1    queuewkopen                                    0.000065  7.770000e-07   \n",
       "\n",
       "           t  P>|t|   [95.0% Conf. Int.]  coef_abs  \n",
       "0    474.854    0.0      1.919     1.935  1.927300  \n",
       "115   -7.152    0.0     -0.084    -0.048  0.065800  \n",
       "112  -16.005    0.0     -0.070    -0.055  0.062400  \n",
       "114   10.663    0.0      0.047     0.068  0.057300  \n",
       "113   11.510    0.0      0.034     0.049  0.041500  \n",
       "1     83.586    0.0   6.34e-05  6.65e-05  0.000065  "
      ]
     },
     "execution_count": 197,
     "metadata": {},
     "output_type": "execute_result"
    }
   ],
   "source": [
    "df.sort_values('coef_abs', ascending=False)[~df.coef_name.str.contains('TYPE')]"
   ]
  },
  {
   "cell_type": "markdown",
   "metadata": {},
   "source": [
    "To interpet the above coefficients, holding the other variables constant:\n",
    "- if someone lives in the North End, their issue is associated with a 1 hour _decrease_ in completion time\n",
    "- if someone lives in the East Boston, their issue is associated with a 1 hour _increase_ in completion time\n",
    "- if someone sends an issue from the mobile app, their issue is associated with a 1 hour _decrease_ in completion time\n",
    "- if someone sends an issue from the mobile app, their issue is associated with a 1 hour _increase_ in completion time\n",
    "\n",
    "## Future steps:\n",
    "- Use dataset before June 2016, as there are more issues that haven't been completed since then\n",
    "- Make a separate model for each category. Then some of my engineered features are more likely to be significant, for some of the categories."
   ]
  }
 ],
 "metadata": {
  "anaconda-cloud": {},
  "kernelspec": {
   "display_name": "Python 2",
   "language": "python",
   "name": "python2"
  },
  "language_info": {
   "codemirror_mode": {
    "name": "ipython",
    "version": 2
   },
   "file_extension": ".py",
   "mimetype": "text/x-python",
   "name": "python",
   "nbconvert_exporter": "python",
   "pygments_lexer": "ipython2",
   "version": "2.7.13"
  }
 },
 "nbformat": 4,
 "nbformat_minor": 2
}
