{
 "cells": [
  {
   "cell_type": "raw",
   "metadata": {},
   "source": [
    "TODO: add tnis to models.py"
   ]
  },
  {
   "cell_type": "code",
   "execution_count": 1,
   "metadata": {
    "collapsed": true
   },
   "outputs": [],
   "source": [
    "import pandas as pd"
   ]
  },
  {
   "cell_type": "code",
   "execution_count": 2,
   "metadata": {
    "collapsed": true
   },
   "outputs": [],
   "source": [
    "CATEGORY_GROUPS_IN_QUESTION = {\n",
    "  'Animal Control': ['Pick up Dead Animal', 'Animal Generic Request'],\n",
    "  'Abandoned Vehicles': ['Abandoned Vehicles', 'Abandoned Bicycle'],\n",
    "  'Rodent Removal': ['Rodent Activity', 'Bed Bugs', 'Mice Infestation - Residential'],\n",
    "  'Living Conditions': ['Unsatisfactory Living Conditions', 'Poor Conditions of Property', 'Unsanitary Conditions - Establishment', 'Illegal Occupancy', 'Heat - ,Excessive  Insufficient'],\n",
    "  'Graffiti Removal': ['Graffiti Removal']\n",
    "}"
   ]
  },
  {
   "cell_type": "code",
   "execution_count": null,
   "metadata": {
    "collapsed": true
   },
   "outputs": [],
   "source": [
    "def make_q1_json():\n",
    "  df_orig = pd.read_pickle('../data/data_from_remove_from_dataset.pkl')\n",
    "  df = df_orig[['OPEN_DT', 'TYPE', 'tract_and_block_group']]\n",
    "  d = make_top_n_dict(df)\n",
    "  d2 = make_top_n_dict_for_all_yrs(df)\n",
    "  d3 = incorporate_totals_into_orig_dict(d, d2)\n",
    "\n",
    "  with open('static/top_5_types_by_yr_loc.json', 'w') as data_file:    \n",
    "    json.dump(d3, data_file, ensure_ascii=False)  "
   ]
  },
  {
   "cell_type": "code",
   "execution_count": 3,
   "metadata": {
    "collapsed": false
   },
   "outputs": [
    {
     "data": {
      "text/plain": [
       "(516406, 40)"
      ]
     },
     "execution_count": 3,
     "metadata": {},
     "output_type": "execute_result"
    }
   ],
   "source": [
    "df_orig = pd.read_pickle('../data/data_from_remove_from_dataset.pkl')\n",
    "df_orig.shape"
   ]
  },
  {
   "cell_type": "code",
   "execution_count": 38,
   "metadata": {
    "collapsed": true
   },
   "outputs": [],
   "source": [
    "categs = []"
   ]
  },
  {
   "cell_type": "code",
   "execution_count": 39,
   "metadata": {
    "collapsed": false
   },
   "outputs": [],
   "source": [
    "for i in CATEGORY_GROUPS_IN_QUESTION.values():\n",
    "    categs.extend(i)"
   ]
  },
  {
   "cell_type": "code",
   "execution_count": 62,
   "metadata": {
    "collapsed": true
   },
   "outputs": [],
   "source": [
    "mapping = {}"
   ]
  },
  {
   "cell_type": "code",
   "execution_count": 64,
   "metadata": {
    "collapsed": false
   },
   "outputs": [],
   "source": [
    "for k,v in CATEGORY_GROUPS_IN_QUESTION.items():\n",
    "    for vi in v:\n",
    "        mapping[vi] = k"
   ]
  },
  {
   "cell_type": "code",
   "execution_count": 41,
   "metadata": {
    "collapsed": false
   },
   "outputs": [
    {
     "data": {
      "text/plain": [
       "(64621, 3)"
      ]
     },
     "execution_count": 41,
     "metadata": {},
     "output_type": "execute_result"
    }
   ],
   "source": [
    "df = df_orig[['tract_and_block_group', 'TYPE', 'COMPLETION_HOURS_LOG_10']][df.TYPE.isin(categs)]\n",
    "df.shape"
   ]
  },
  {
   "cell_type": "code",
   "execution_count": 65,
   "metadata": {
    "collapsed": false
   },
   "outputs": [
    {
     "name": "stdout",
     "output_type": "stream",
     "text": [
      "905400                      Pick up Dead Animal\n",
      "905607              Poor Conditions of Property\n",
      "904994                       Abandoned Vehicles\n",
      "905119         Unsatisfactory Living Conditions\n",
      "903689                   Animal Generic Request\n",
      "905128    Unsanitary Conditions - Establishment\n",
      "902506                        Abandoned Bicycle\n",
      "903294                          Rodent Activity\n",
      "900172                         Graffiti Removal\n",
      "899432                                 Bed Bugs\n",
      "788307           Mice Infestation - Residential\n",
      "295262                        Illegal Occupancy\n",
      "Name: TYPE, dtype: object\n",
      "905400        Animal Control\n",
      "905607     Living Conditions\n",
      "904994    Abandoned Vehicles\n",
      "903294        Rodent Removal\n",
      "900172      Graffiti Removal\n",
      "Name: TYPE, dtype: object\n"
     ]
    }
   ],
   "source": [
    "print df.TYPE.drop_duplicates().shape\n",
    "df.TYPE = df.TYPE.map(mapping)\n",
    "print df.TYPE.drop_duplicates().shape"
   ]
  },
  {
   "cell_type": "code",
   "execution_count": 48,
   "metadata": {
    "collapsed": true
   },
   "outputs": [],
   "source": [
    "from collections import defaultdict"
   ]
  },
  {
   "cell_type": "code",
   "execution_count": 72,
   "metadata": {
    "collapsed": true
   },
   "outputs": [],
   "source": [
    "d_means = defaultdict(defaultdict)\n",
    "d_std_devs = defaultdict(defaultdict)"
   ]
  },
  {
   "cell_type": "code",
   "execution_count": 66,
   "metadata": {
    "collapsed": true
   },
   "outputs": [],
   "source": [
    "df_agg = df.groupby(['tract_and_block_group', 'TYPE'])"
   ]
  },
  {
   "cell_type": "code",
   "execution_count": 76,
   "metadata": {
    "collapsed": false
   },
   "outputs": [],
   "source": [
    "for row in df_agg.mean().reset_index().to_dict('records'):\n",
    "    d_means[row['tract_and_block_group']][row['TYPE']] = row['COMPLETION_HOURS_LOG_10']"
   ]
  },
  {
   "cell_type": "code",
   "execution_count": 78,
   "metadata": {
    "collapsed": false
   },
   "outputs": [],
   "source": [
    "for row in df_agg.std().reset_index().to_dict('records'):\n",
    "    d_std_devs[row['tract_and_block_group']][row['TYPE']] = row['COMPLETION_HOURS_LOG_10']"
   ]
  },
  {
   "cell_type": "code",
   "execution_count": 83,
   "metadata": {
    "collapsed": true
   },
   "outputs": [],
   "source": [
    "import json"
   ]
  },
  {
   "cell_type": "code",
   "execution_count": 91,
   "metadata": {
    "collapsed": false
   },
   "outputs": [],
   "source": [
    "with open('static/q2_means.json', 'w') as data_file:    \n",
    "    json.dump(d_means, data_file, ensure_ascii=False)  "
   ]
  },
  {
   "cell_type": "code",
   "execution_count": 90,
   "metadata": {
    "collapsed": true
   },
   "outputs": [],
   "source": [
    "with open('static/q2_std.json', 'w') as data_file:    \n",
    "    json.dump(d_std_devs, data_file, ensure_ascii=False)  "
   ]
  },
  {
   "cell_type": "code",
   "execution_count": 88,
   "metadata": {
    "collapsed": false
   },
   "outputs": [
    {
     "data": {
      "text/plain": [
       "defaultdict(None,\n",
       "            {'Abandoned Vehicles': 2.422750802073733,\n",
       "             'Animal Control': 0.5638010470133301,\n",
       "             'Graffiti Removal': 2.4607065758100086,\n",
       "             'Living Conditions': 1.9169505595884735,\n",
       "             'Rodent Removal': 2.314285802448486})"
      ]
     },
     "execution_count": 88,
     "metadata": {},
     "output_type": "execute_result"
    }
   ],
   "source": [
    "d_means['0001001']"
   ]
  },
  {
   "cell_type": "code",
   "execution_count": 87,
   "metadata": {
    "collapsed": false
   },
   "outputs": [
    {
     "data": {
      "text/plain": [
       "defaultdict(None,\n",
       "            {'Abandoned Vehicles': 0.4517375494245284,\n",
       "             'Animal Control': 0.7157933310362354,\n",
       "             'Graffiti Removal': 0.6382321252011757,\n",
       "             'Living Conditions': 1.2788714718272272,\n",
       "             'Rodent Removal': 0.8374164159124523})"
      ]
     },
     "execution_count": 87,
     "metadata": {},
     "output_type": "execute_result"
    }
   ],
   "source": [
    "d_std_devs['0001001']"
   ]
  }
 ],
 "metadata": {
  "anaconda-cloud": {},
  "kernelspec": {
   "display_name": "Python [conda root]",
   "language": "python",
   "name": "conda-root-py"
  },
  "language_info": {
   "codemirror_mode": {
    "name": "ipython",
    "version": 2
   },
   "file_extension": ".py",
   "mimetype": "text/x-python",
   "name": "python",
   "nbconvert_exporter": "python",
   "pygments_lexer": "ipython2",
   "version": "2.7.12"
  }
 },
 "nbformat": 4,
 "nbformat_minor": 1
}
